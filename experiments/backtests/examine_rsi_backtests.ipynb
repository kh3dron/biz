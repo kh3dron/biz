{
 "cells": [
  {
   "cell_type": "code",
   "execution_count": 21,
   "metadata": {},
   "outputs": [],
   "source": [
    "import warnings\n",
    "warnings.simplefilter(action='ignore', category=FutureWarning)\n",
    "\n",
    "import os\n",
    "import pandas as pd"
   ]
  },
  {
   "cell_type": "code",
   "execution_count": 22,
   "metadata": {},
   "outputs": [
    {
     "name": "stdout",
     "output_type": "stream",
     "text": [
      "['AAPL', '40', '60', '20', '1']\n"
     ]
    },
    {
     "data": {
      "text/html": [
       "<div>\n",
       "<style scoped>\n",
       "    .dataframe tbody tr th:only-of-type {\n",
       "        vertical-align: middle;\n",
       "    }\n",
       "\n",
       "    .dataframe tbody tr th {\n",
       "        vertical-align: top;\n",
       "    }\n",
       "\n",
       "    .dataframe thead th {\n",
       "        text-align: right;\n",
       "    }\n",
       "</style>\n",
       "<table border=\"1\" class=\"dataframe\">\n",
       "  <thead>\n",
       "    <tr style=\"text-align: right;\">\n",
       "      <th></th>\n",
       "      <th>ticker</th>\n",
       "      <th>rsi14_entry</th>\n",
       "      <th>rsi14_exit_high</th>\n",
       "      <th>rsi14_exit_low</th>\n",
       "      <th>max_trades</th>\n",
       "      <th>Date</th>\n",
       "      <th>Direction</th>\n",
       "      <th>Entry</th>\n",
       "      <th>Exit</th>\n",
       "      <th>TimeEnter</th>\n",
       "      <th>TimeExit</th>\n",
       "      <th>Gain%</th>\n",
       "      <th>Gain$</th>\n",
       "      <th>ExitCondition</th>\n",
       "    </tr>\n",
       "  </thead>\n",
       "  <tbody>\n",
       "    <tr>\n",
       "      <th>0</th>\n",
       "      <td>AAPL</td>\n",
       "      <td>40</td>\n",
       "      <td>60</td>\n",
       "      <td>20</td>\n",
       "      <td>1</td>\n",
       "      <td>2022-09-30</td>\n",
       "      <td>Long</td>\n",
       "      <td>141.7300</td>\n",
       "      <td>141.9900</td>\n",
       "      <td>10:13:00</td>\n",
       "      <td>10:28:00</td>\n",
       "      <td>0.18</td>\n",
       "      <td>0.26</td>\n",
       "      <td>MaxProfit</td>\n",
       "    </tr>\n",
       "    <tr>\n",
       "      <th>1</th>\n",
       "      <td>AAPL</td>\n",
       "      <td>40</td>\n",
       "      <td>60</td>\n",
       "      <td>20</td>\n",
       "      <td>1</td>\n",
       "      <td>2022-10-03</td>\n",
       "      <td>Long</td>\n",
       "      <td>138.6300</td>\n",
       "      <td>138.5100</td>\n",
       "      <td>09:32:00</td>\n",
       "      <td>09:37:00</td>\n",
       "      <td>-0.09</td>\n",
       "      <td>-0.12</td>\n",
       "      <td>MaxProfit</td>\n",
       "    </tr>\n",
       "    <tr>\n",
       "      <th>2</th>\n",
       "      <td>AAPL</td>\n",
       "      <td>40</td>\n",
       "      <td>60</td>\n",
       "      <td>20</td>\n",
       "      <td>1</td>\n",
       "      <td>2022-10-04</td>\n",
       "      <td>Long</td>\n",
       "      <td>144.9900</td>\n",
       "      <td>144.9999</td>\n",
       "      <td>09:34:00</td>\n",
       "      <td>09:47:00</td>\n",
       "      <td>0.01</td>\n",
       "      <td>0.01</td>\n",
       "      <td>MaxProfit</td>\n",
       "    </tr>\n",
       "    <tr>\n",
       "      <th>3</th>\n",
       "      <td>AAPL</td>\n",
       "      <td>40</td>\n",
       "      <td>60</td>\n",
       "      <td>20</td>\n",
       "      <td>1</td>\n",
       "      <td>2022-10-05</td>\n",
       "      <td>Long</td>\n",
       "      <td>143.3476</td>\n",
       "      <td>143.6550</td>\n",
       "      <td>10:36:00</td>\n",
       "      <td>10:45:00</td>\n",
       "      <td>0.21</td>\n",
       "      <td>0.31</td>\n",
       "      <td>MaxProfit</td>\n",
       "    </tr>\n",
       "    <tr>\n",
       "      <th>4</th>\n",
       "      <td>AAPL</td>\n",
       "      <td>40</td>\n",
       "      <td>60</td>\n",
       "      <td>20</td>\n",
       "      <td>1</td>\n",
       "      <td>2022-10-06</td>\n",
       "      <td>Long</td>\n",
       "      <td>146.0795</td>\n",
       "      <td>146.0000</td>\n",
       "      <td>10:14:00</td>\n",
       "      <td>10:23:00</td>\n",
       "      <td>-0.05</td>\n",
       "      <td>-0.08</td>\n",
       "      <td>MaxProfit</td>\n",
       "    </tr>\n",
       "    <tr>\n",
       "      <th>5</th>\n",
       "      <td>AAPL</td>\n",
       "      <td>40</td>\n",
       "      <td>60</td>\n",
       "      <td>20</td>\n",
       "      <td>1</td>\n",
       "      <td>2022-10-07</td>\n",
       "      <td>Long</td>\n",
       "      <td>142.5250</td>\n",
       "      <td>142.7250</td>\n",
       "      <td>09:32:00</td>\n",
       "      <td>09:42:00</td>\n",
       "      <td>0.14</td>\n",
       "      <td>0.20</td>\n",
       "      <td>MaxProfit</td>\n",
       "    </tr>\n",
       "    <tr>\n",
       "      <th>6</th>\n",
       "      <td>AAPL</td>\n",
       "      <td>40</td>\n",
       "      <td>60</td>\n",
       "      <td>20</td>\n",
       "      <td>1</td>\n",
       "      <td>2022-10-10</td>\n",
       "      <td>Long</td>\n",
       "      <td>139.1901</td>\n",
       "      <td>138.8400</td>\n",
       "      <td>09:48:00</td>\n",
       "      <td>10:09:00</td>\n",
       "      <td>-0.25</td>\n",
       "      <td>-0.35</td>\n",
       "      <td>MaxProfit</td>\n",
       "    </tr>\n",
       "    <tr>\n",
       "      <th>7</th>\n",
       "      <td>AAPL</td>\n",
       "      <td>40</td>\n",
       "      <td>60</td>\n",
       "      <td>20</td>\n",
       "      <td>1</td>\n",
       "      <td>2022-10-11</td>\n",
       "      <td>Long</td>\n",
       "      <td>139.7100</td>\n",
       "      <td>138.8700</td>\n",
       "      <td>09:30:00</td>\n",
       "      <td>10:22:00</td>\n",
       "      <td>-0.60</td>\n",
       "      <td>-0.84</td>\n",
       "      <td>MaxProfit</td>\n",
       "    </tr>\n",
       "    <tr>\n",
       "      <th>8</th>\n",
       "      <td>AAPL</td>\n",
       "      <td>40</td>\n",
       "      <td>60</td>\n",
       "      <td>20</td>\n",
       "      <td>1</td>\n",
       "      <td>2022-10-12</td>\n",
       "      <td>Long</td>\n",
       "      <td>139.0000</td>\n",
       "      <td>139.6250</td>\n",
       "      <td>09:33:00</td>\n",
       "      <td>09:40:00</td>\n",
       "      <td>0.45</td>\n",
       "      <td>0.62</td>\n",
       "      <td>MaxProfit</td>\n",
       "    </tr>\n",
       "    <tr>\n",
       "      <th>9</th>\n",
       "      <td>AAPL</td>\n",
       "      <td>40</td>\n",
       "      <td>60</td>\n",
       "      <td>20</td>\n",
       "      <td>1</td>\n",
       "      <td>2022-10-13</td>\n",
       "      <td>Long</td>\n",
       "      <td>136.2000</td>\n",
       "      <td>136.1400</td>\n",
       "      <td>10:20:00</td>\n",
       "      <td>10:42:00</td>\n",
       "      <td>-0.04</td>\n",
       "      <td>-0.06</td>\n",
       "      <td>MaxProfit</td>\n",
       "    </tr>\n",
       "    <tr>\n",
       "      <th>10</th>\n",
       "      <td>AAPL</td>\n",
       "      <td>40</td>\n",
       "      <td>60</td>\n",
       "      <td>20</td>\n",
       "      <td>1</td>\n",
       "      <td>2022-10-14</td>\n",
       "      <td>Long</td>\n",
       "      <td>143.3000</td>\n",
       "      <td>141.8100</td>\n",
       "      <td>09:38:00</td>\n",
       "      <td>09:46:00</td>\n",
       "      <td>-1.04</td>\n",
       "      <td>-1.49</td>\n",
       "      <td>StopLoss</td>\n",
       "    </tr>\n",
       "    <tr>\n",
       "      <th>11</th>\n",
       "      <td>AAPL</td>\n",
       "      <td>40</td>\n",
       "      <td>60</td>\n",
       "      <td>20</td>\n",
       "      <td>1</td>\n",
       "      <td>2022-10-17</td>\n",
       "      <td>Long</td>\n",
       "      <td>141.6000</td>\n",
       "      <td>142.1100</td>\n",
       "      <td>09:31:00</td>\n",
       "      <td>09:53:00</td>\n",
       "      <td>0.36</td>\n",
       "      <td>0.51</td>\n",
       "      <td>MaxProfit</td>\n",
       "    </tr>\n",
       "    <tr>\n",
       "      <th>12</th>\n",
       "      <td>AAPL</td>\n",
       "      <td>40</td>\n",
       "      <td>60</td>\n",
       "      <td>20</td>\n",
       "      <td>1</td>\n",
       "      <td>2022-10-18</td>\n",
       "      <td>Long</td>\n",
       "      <td>145.5700</td>\n",
       "      <td>145.8000</td>\n",
       "      <td>09:58:00</td>\n",
       "      <td>10:13:00</td>\n",
       "      <td>0.16</td>\n",
       "      <td>0.23</td>\n",
       "      <td>MaxProfit</td>\n",
       "    </tr>\n",
       "    <tr>\n",
       "      <th>13</th>\n",
       "      <td>AAPL</td>\n",
       "      <td>40</td>\n",
       "      <td>60</td>\n",
       "      <td>20</td>\n",
       "      <td>1</td>\n",
       "      <td>2022-10-19</td>\n",
       "      <td>Long</td>\n",
       "      <td>143.2955</td>\n",
       "      <td>143.5700</td>\n",
       "      <td>09:49:00</td>\n",
       "      <td>09:53:00</td>\n",
       "      <td>0.19</td>\n",
       "      <td>0.27</td>\n",
       "      <td>MaxProfit</td>\n",
       "    </tr>\n",
       "    <tr>\n",
       "      <th>14</th>\n",
       "      <td>AAPL</td>\n",
       "      <td>40</td>\n",
       "      <td>60</td>\n",
       "      <td>20</td>\n",
       "      <td>1</td>\n",
       "      <td>2022-10-20</td>\n",
       "      <td>Long</td>\n",
       "      <td>144.7950</td>\n",
       "      <td>145.2391</td>\n",
       "      <td>10:00:00</td>\n",
       "      <td>10:16:00</td>\n",
       "      <td>0.31</td>\n",
       "      <td>0.44</td>\n",
       "      <td>MaxProfit</td>\n",
       "    </tr>\n",
       "    <tr>\n",
       "      <th>15</th>\n",
       "      <td>AAPL</td>\n",
       "      <td>40</td>\n",
       "      <td>60</td>\n",
       "      <td>20</td>\n",
       "      <td>1</td>\n",
       "      <td>2022-10-21</td>\n",
       "      <td>Long</td>\n",
       "      <td>144.9000</td>\n",
       "      <td>144.6400</td>\n",
       "      <td>10:21:00</td>\n",
       "      <td>10:55:00</td>\n",
       "      <td>-0.18</td>\n",
       "      <td>-0.26</td>\n",
       "      <td>MaxProfit</td>\n",
       "    </tr>\n",
       "    <tr>\n",
       "      <th>16</th>\n",
       "      <td>AAPL</td>\n",
       "      <td>40</td>\n",
       "      <td>60</td>\n",
       "      <td>20</td>\n",
       "      <td>1</td>\n",
       "      <td>2022-10-24</td>\n",
       "      <td>Long</td>\n",
       "      <td>146.6100</td>\n",
       "      <td>147.3850</td>\n",
       "      <td>09:32:00</td>\n",
       "      <td>09:47:00</td>\n",
       "      <td>0.53</td>\n",
       "      <td>0.77</td>\n",
       "      <td>MaxProfit</td>\n",
       "    </tr>\n",
       "    <tr>\n",
       "      <th>17</th>\n",
       "      <td>AAPL</td>\n",
       "      <td>40</td>\n",
       "      <td>60</td>\n",
       "      <td>20</td>\n",
       "      <td>1</td>\n",
       "      <td>2022-10-25</td>\n",
       "      <td>Long</td>\n",
       "      <td>150.0450</td>\n",
       "      <td>151.1250</td>\n",
       "      <td>09:44:00</td>\n",
       "      <td>10:03:00</td>\n",
       "      <td>0.72</td>\n",
       "      <td>1.08</td>\n",
       "      <td>MaxProfit</td>\n",
       "    </tr>\n",
       "    <tr>\n",
       "      <th>18</th>\n",
       "      <td>AAPL</td>\n",
       "      <td>40</td>\n",
       "      <td>60</td>\n",
       "      <td>20</td>\n",
       "      <td>1</td>\n",
       "      <td>2022-10-26</td>\n",
       "      <td>Long</td>\n",
       "      <td>150.2500</td>\n",
       "      <td>150.2400</td>\n",
       "      <td>09:46:00</td>\n",
       "      <td>10:10:00</td>\n",
       "      <td>-0.01</td>\n",
       "      <td>-0.01</td>\n",
       "      <td>MaxProfit</td>\n",
       "    </tr>\n",
       "    <tr>\n",
       "      <th>19</th>\n",
       "      <td>AAPL</td>\n",
       "      <td>40</td>\n",
       "      <td>60</td>\n",
       "      <td>20</td>\n",
       "      <td>1</td>\n",
       "      <td>2022-10-27</td>\n",
       "      <td>Long</td>\n",
       "      <td>147.8200</td>\n",
       "      <td>147.5200</td>\n",
       "      <td>09:39:00</td>\n",
       "      <td>09:46:00</td>\n",
       "      <td>-0.20</td>\n",
       "      <td>-0.30</td>\n",
       "      <td>StopLoss</td>\n",
       "    </tr>\n",
       "  </tbody>\n",
       "</table>\n",
       "</div>"
      ],
      "text/plain": [
       "   ticker rsi14_entry rsi14_exit_high rsi14_exit_low max_trades        Date  \\\n",
       "0    AAPL          40              60             20          1  2022-09-30   \n",
       "1    AAPL          40              60             20          1  2022-10-03   \n",
       "2    AAPL          40              60             20          1  2022-10-04   \n",
       "3    AAPL          40              60             20          1  2022-10-05   \n",
       "4    AAPL          40              60             20          1  2022-10-06   \n",
       "5    AAPL          40              60             20          1  2022-10-07   \n",
       "6    AAPL          40              60             20          1  2022-10-10   \n",
       "7    AAPL          40              60             20          1  2022-10-11   \n",
       "8    AAPL          40              60             20          1  2022-10-12   \n",
       "9    AAPL          40              60             20          1  2022-10-13   \n",
       "10   AAPL          40              60             20          1  2022-10-14   \n",
       "11   AAPL          40              60             20          1  2022-10-17   \n",
       "12   AAPL          40              60             20          1  2022-10-18   \n",
       "13   AAPL          40              60             20          1  2022-10-19   \n",
       "14   AAPL          40              60             20          1  2022-10-20   \n",
       "15   AAPL          40              60             20          1  2022-10-21   \n",
       "16   AAPL          40              60             20          1  2022-10-24   \n",
       "17   AAPL          40              60             20          1  2022-10-25   \n",
       "18   AAPL          40              60             20          1  2022-10-26   \n",
       "19   AAPL          40              60             20          1  2022-10-27   \n",
       "\n",
       "   Direction     Entry      Exit TimeEnter  TimeExit  Gain%  Gain$  \\\n",
       "0       Long  141.7300  141.9900  10:13:00  10:28:00   0.18   0.26   \n",
       "1       Long  138.6300  138.5100  09:32:00  09:37:00  -0.09  -0.12   \n",
       "2       Long  144.9900  144.9999  09:34:00  09:47:00   0.01   0.01   \n",
       "3       Long  143.3476  143.6550  10:36:00  10:45:00   0.21   0.31   \n",
       "4       Long  146.0795  146.0000  10:14:00  10:23:00  -0.05  -0.08   \n",
       "5       Long  142.5250  142.7250  09:32:00  09:42:00   0.14   0.20   \n",
       "6       Long  139.1901  138.8400  09:48:00  10:09:00  -0.25  -0.35   \n",
       "7       Long  139.7100  138.8700  09:30:00  10:22:00  -0.60  -0.84   \n",
       "8       Long  139.0000  139.6250  09:33:00  09:40:00   0.45   0.62   \n",
       "9       Long  136.2000  136.1400  10:20:00  10:42:00  -0.04  -0.06   \n",
       "10      Long  143.3000  141.8100  09:38:00  09:46:00  -1.04  -1.49   \n",
       "11      Long  141.6000  142.1100  09:31:00  09:53:00   0.36   0.51   \n",
       "12      Long  145.5700  145.8000  09:58:00  10:13:00   0.16   0.23   \n",
       "13      Long  143.2955  143.5700  09:49:00  09:53:00   0.19   0.27   \n",
       "14      Long  144.7950  145.2391  10:00:00  10:16:00   0.31   0.44   \n",
       "15      Long  144.9000  144.6400  10:21:00  10:55:00  -0.18  -0.26   \n",
       "16      Long  146.6100  147.3850  09:32:00  09:47:00   0.53   0.77   \n",
       "17      Long  150.0450  151.1250  09:44:00  10:03:00   0.72   1.08   \n",
       "18      Long  150.2500  150.2400  09:46:00  10:10:00  -0.01  -0.01   \n",
       "19      Long  147.8200  147.5200  09:39:00  09:46:00  -0.20  -0.30   \n",
       "\n",
       "   ExitCondition  \n",
       "0      MaxProfit  \n",
       "1      MaxProfit  \n",
       "2      MaxProfit  \n",
       "3      MaxProfit  \n",
       "4      MaxProfit  \n",
       "5      MaxProfit  \n",
       "6      MaxProfit  \n",
       "7      MaxProfit  \n",
       "8      MaxProfit  \n",
       "9      MaxProfit  \n",
       "10      StopLoss  \n",
       "11     MaxProfit  \n",
       "12     MaxProfit  \n",
       "13     MaxProfit  \n",
       "14     MaxProfit  \n",
       "15     MaxProfit  \n",
       "16     MaxProfit  \n",
       "17     MaxProfit  \n",
       "18     MaxProfit  \n",
       "19      StopLoss  "
      ]
     },
     "execution_count": 22,
     "metadata": {},
     "output_type": "execute_result"
    }
   ],
   "source": [
    "def add_experiment_parameters_to_file(file_path):\n",
    "    # Read the CSV file into a pandas dataframe\n",
    "    df = pd.read_csv(file_path)\n",
    "\n",
    "    # Extract terms from the file name\n",
    "    file_name = file_path.split(\"/\")[-1]  # Extracting just the file name\n",
    "    terms = file_name.replace(\".csv\", \"\").split(\"_\")\n",
    "    print(terms)\n",
    "\n",
    "    # Append each term to a new column in the dataframe\n",
    "    df[\"ticker\"] = terms[0]\n",
    "    df[\"rsi14_entry\"] = terms[1]\n",
    "    df[\"rsi14_exit_high\"] = terms[2]\n",
    "    df[\"rsi14_exit_low\"] = terms[3]\n",
    "    df[\"max_trades\"] = terms[4]\n",
    "    # put these columns at the front of the dataframe\n",
    "    cols = df.columns.tolist()\n",
    "    cols = cols[-5:] + cols[:-5]\n",
    "    df = df[cols]\n",
    "\n",
    "\n",
    "    return df\n",
    "\n",
    "# Example usage\n",
    "file_path = \"../../temp/rsi_backtests/AAPL_40_60_20_1.csv\"\n",
    "trades = add_experiment_parameters_to_file(file_path)\n",
    "\n",
    "# Display the resulting dataframe\n",
    "trades.head(20)\n"
   ]
  },
  {
   "cell_type": "code",
   "execution_count": 23,
   "metadata": {},
   "outputs": [],
   "source": [
    "import plotly.express as px\n",
    "\n",
    "# line chart of running gain%\n",
    "def chart_gain_percent(trades):\n",
    "    trades[\"RunningGain%\"] = trades[\"Gain%\"].cumsum()\n",
    "    fig = px.line(trades, y=\"RunningGain%\", title=\"Running Gain%\")\n",
    "    fig.show()"
   ]
  },
  {
   "cell_type": "code",
   "execution_count": 24,
   "metadata": {},
   "outputs": [],
   "source": [
    "def rsi_ranged_backtest_single_pnl(df):\n",
    "    res = pd.DataFrame()\n",
    "    res.loc[0, 'Ticker'] = df['ticker'].iloc[0]\n",
    "    res.loc[0, 'StartDate'] = df['Date'].min()\n",
    "    res.loc[0, 'EndDate'] = df['Date'].max()\n",
    "    res.loc[0, 'RSI Entry'] = df[\"rsi14_entry\"].iloc[0]\n",
    "    res.loc[0, 'RSI Exit High'] = df[\"rsi14_exit_high\"].iloc[0]\n",
    "    res.loc[0, 'RSI Exit Stoploss'] = df[\"rsi14_exit_low\"].iloc[0]\n",
    "    res.loc[0, 'MaxTrades'] = df[\"max_trades\"].iloc[0]\n",
    "    res.loc[0, 'TotalTrades'] = len(df)\n",
    "    res.loc[0, 'TotalPercentGain'] = round(df['Gain%'].sum(), 2)\n",
    "    res.loc[0, 'AveragePercentGain'] = round(df['Gain%'].mean(), 2)\n",
    "    res.loc[0, 'MaxPercentGain'] = round(df['Gain%'].max(), 2)\n",
    "    res.loc[0, 'MinPercentGain'] = round(df['Gain%'].min(), 2)\n",
    "\n",
    "    return res"
   ]
  },
  {
   "cell_type": "code",
   "execution_count": 25,
   "metadata": {},
   "outputs": [
    {
     "data": {
      "text/html": [
       "<div>\n",
       "<style scoped>\n",
       "    .dataframe tbody tr th:only-of-type {\n",
       "        vertical-align: middle;\n",
       "    }\n",
       "\n",
       "    .dataframe tbody tr th {\n",
       "        vertical-align: top;\n",
       "    }\n",
       "\n",
       "    .dataframe thead th {\n",
       "        text-align: right;\n",
       "    }\n",
       "</style>\n",
       "<table border=\"1\" class=\"dataframe\">\n",
       "  <thead>\n",
       "    <tr style=\"text-align: right;\">\n",
       "      <th></th>\n",
       "      <th>Ticker</th>\n",
       "      <th>StartDate</th>\n",
       "      <th>EndDate</th>\n",
       "      <th>RSI Entry</th>\n",
       "      <th>RSI Exit High</th>\n",
       "      <th>RSI Exit Stoploss</th>\n",
       "      <th>MaxTrades</th>\n",
       "      <th>TotalTrades</th>\n",
       "      <th>TotalPercentGain</th>\n",
       "      <th>AveragePercentGain</th>\n",
       "      <th>MaxPercentGain</th>\n",
       "      <th>MinPercentGain</th>\n",
       "    </tr>\n",
       "  </thead>\n",
       "  <tbody>\n",
       "    <tr>\n",
       "      <th>0</th>\n",
       "      <td>AAPL</td>\n",
       "      <td>2022-09-30</td>\n",
       "      <td>2023-09-29</td>\n",
       "      <td>40</td>\n",
       "      <td>60</td>\n",
       "      <td>20</td>\n",
       "      <td>1</td>\n",
       "      <td>251.0</td>\n",
       "      <td>-0.92</td>\n",
       "      <td>-0.0</td>\n",
       "      <td>1.5</td>\n",
       "      <td>-2.8</td>\n",
       "    </tr>\n",
       "  </tbody>\n",
       "</table>\n",
       "</div>"
      ],
      "text/plain": [
       "  Ticker   StartDate     EndDate RSI Entry RSI Exit High RSI Exit Stoploss  \\\n",
       "0   AAPL  2022-09-30  2023-09-29        40            60                20   \n",
       "\n",
       "  MaxTrades  TotalTrades  TotalPercentGain  AveragePercentGain  \\\n",
       "0         1        251.0             -0.92                -0.0   \n",
       "\n",
       "   MaxPercentGain  MinPercentGain  \n",
       "0             1.5            -2.8  "
      ]
     },
     "execution_count": 25,
     "metadata": {},
     "output_type": "execute_result"
    }
   ],
   "source": [
    "rsi_ranged_backtest_single_pnl(trades)"
   ]
  },
  {
   "cell_type": "code",
   "execution_count": 26,
   "metadata": {},
   "outputs": [
    {
     "name": "stdout",
     "output_type": "stream",
     "text": [
      "['AAPL', '50', '60', '40', '2']\n",
      "['AAPL', '60', '80', '40', '1']\n",
      "['QQQ', '40', '60', '20', '2']\n",
      "['META', '50', '60', '40', '4']\n",
      "['SPY', '50', '70', '30', '2']\n",
      "['AMZN', '40', '60', '20', '1']\n",
      "['SPY', '50', '70', '30', '3']\n",
      "['AAPL', '50', '60', '40', '3']\n",
      "['TSLA', '60', '80', '40', '4']\n",
      "['AAPL', '60', '80', '40', '2']\n",
      "['AAPL', '50', '60', '40', '1']\n",
      "['QQQ', '40', '60', '20', '1']\n",
      "['META', '60', '80', '40', '4']\n",
      "['AMZN', '40', '60', '20', '2']\n",
      "['SPY', '50', '70', '30', '1']\n",
      "['AMZN', '40', '60', '20', '3']\n",
      "['AAPL', '60', '80', '40', '3']\n",
      "['TSLA', '50', '60', '40', '4']\n",
      "['AAPL', '50', '60', '40', '4']\n",
      "['TSLA', '60', '80', '40', '3']\n",
      "['META', '60', '80', '40', '1']\n",
      "['META', '50', '60', '40', '2']\n",
      "['MSFT', '40', '60', '20', '1']\n",
      "['SPY', '50', '70', '30', '4']\n",
      "['META', '50', '60', '40', '3']\n",
      "['TSLA', '50', '60', '40', '1']\n",
      "['TSLA', '60', '80', '40', '2']\n",
      "['AAPL', '60', '80', '40', '4']\n",
      "['TSLA', '50', '60', '40', '3']\n",
      "['META', '50', '60', '40', '1']\n",
      "['META', '60', '80', '40', '2']\n",
      "['MSFT', '40', '60', '20', '2']\n",
      "['MSFT', '40', '60', '20', '3']\n",
      "['META', '60', '80', '40', '3']\n",
      "['TSLA', '60', '80', '40', '1']\n",
      "['TSLA', '50', '60', '40', '2']\n",
      "['EEM', '50', '70', '30', '4']\n",
      "['QQQ', '60', '80', '40', '4']\n",
      "['META', '40', '60', '20', '1']\n",
      "['AMZN', '50', '60', '40', '4']\n",
      "['MSFT', '50', '60', '40', '2']\n",
      "['MSFT', '60', '80', '40', '1']\n",
      "['MSFT', '50', '60', '40', '3']\n",
      "['VXX', '50', '70', '30', '4']\n",
      "['TSLA', '40', '60', '20', '2']\n",
      "['QQQ', '50', '60', '40', '4']\n",
      "['META', '40', '60', '20', '2']\n",
      "['AMZN', '60', '80', '40', '4']\n",
      "['MSFT', '60', '80', '40', '2']\n",
      "['MSFT', '50', '60', '40', '1']\n",
      "['MSFT', '60', '80', '40', '3']\n",
      "['META', '40', '60', '20', '3']\n",
      "['TSLA', '40', '60', '20', '1']\n",
      "['AAPL', '40', '60', '20', '1']\n",
      "['EEM', '50', '70', '30', '2']\n",
      "['VXX', '50', '70', '30', '3']\n",
      "['QQQ', '50', '60', '40', '1']\n",
      "['QQQ', '60', '80', '40', '2']\n",
      "['MSFT', '50', '60', '40', '4']\n",
      "['AMZN', '60', '80', '40', '1']\n",
      "['AMZN', '50', '60', '40', '2']\n",
      "['AMZN', '50', '60', '40', '3']\n",
      "['QQQ', '60', '80', '40', '3']\n",
      "['VXX', '50', '70', '30', '2']\n",
      "['EEM', '50', '70', '30', '3']\n",
      "['AAPL', '40', '60', '20', '2']\n",
      "['EEM', '50', '70', '30', '1']\n",
      "['QQQ', '60', '80', '40', '1']\n",
      "['QQQ', '50', '60', '40', '2']\n",
      "['MSFT', '60', '80', '40', '4']\n",
      "['AMZN', '50', '60', '40', '1']\n",
      "['AMZN', '60', '80', '40', '2']\n",
      "['AMZN', '60', '80', '40', '3']\n",
      "['QQQ', '50', '60', '40', '3']\n",
      "['VXX', '50', '70', '30', '1']\n",
      "['AAPL', '40', '60', '20', '3']\n",
      "['META', '50', '70', '30', '4']\n",
      "['SPY', '60', '80', '40', '1']\n",
      "['SPY', '50', '60', '40', '2']\n",
      "['AAPL', '50', '70', '30', '2']\n",
      "['EEM', '40', '60', '20', '1']\n",
      "['VXX', '40', '60', '20', '1']\n",
      "['AAPL', '50', '70', '30', '3']\n",
      "['SPY', '50', '60', '40', '3']\n",
      "['SPY', '50', '60', '40', '1']\n",
      "['SPY', '60', '80', '40', '2']\n",
      "['AAPL', '50', '70', '30', '1']\n",
      "['EEM', '40', '60', '20', '2']\n",
      "['VXX', '40', '60', '20', '2']\n",
      "['TSLA', '50', '70', '30', '4']\n",
      "['SPY', '60', '80', '40', '3']\n",
      "['META', '50', '70', '30', '2']\n",
      "['SPY', '50', '60', '40', '4']\n",
      "['AAPL', '50', '70', '30', '4']\n",
      "['TSLA', '50', '70', '30', '1']\n",
      "['META', '50', '70', '30', '3']\n",
      "['META', '50', '70', '30', '1']\n",
      "['SPY', '60', '80', '40', '4']\n",
      "['TSLA', '50', '70', '30', '3']\n",
      "['TSLA', '50', '70', '30', '2']\n",
      "['AMZN', '50', '70', '30', '4']\n",
      "['MSFT', '50', '70', '30', '2']\n",
      "['EEM', '50', '60', '40', '4']\n",
      "['VXX', '50', '60', '40', '4']\n",
      "['MSFT', '50', '70', '30', '3']\n",
      "['QQQ', '50', '70', '30', '4']\n",
      "['MSFT', '50', '70', '30', '1']\n",
      "['EEM', '60', '80', '40', '4']\n",
      "['VXX', '60', '80', '40', '4']\n",
      "['QQQ', '50', '70', '30', '1']\n",
      "['MSFT', '50', '70', '30', '4']\n",
      "['AMZN', '50', '70', '30', '2']\n",
      "['SPY', '40', '60', '20', '1']\n",
      "['EEM', '60', '80', '40', '1']\n",
      "['EEM', '50', '60', '40', '2']\n",
      "['VXX', '50', '60', '40', '3']\n",
      "['VXX', '50', '60', '40', '2']\n",
      "['VXX', '60', '80', '40', '1']\n",
      "['EEM', '50', '60', '40', '3']\n",
      "['AMZN', '50', '70', '30', '3']\n",
      "['QQQ', '50', '70', '30', '2']\n",
      "['SPY', '40', '60', '20', '2']\n",
      "['AMZN', '50', '70', '30', '1']\n",
      "['EEM', '50', '60', '40', '1']\n",
      "['EEM', '60', '80', '40', '2']\n",
      "['VXX', '60', '80', '40', '3']\n",
      "['VXX', '60', '80', '40', '2']\n",
      "['VXX', '50', '60', '40', '1']\n",
      "['EEM', '60', '80', '40', '3']\n",
      "['QQQ', '50', '70', '30', '3']\n"
     ]
    }
   ],
   "source": [
    "all_results = pd.DataFrame(\n",
    "    columns=['Ticker', 'StartDate', 'EndDate', 'RSI Entry', 'RSI Exit High', 'RSI Exit Stoploss', 'MaxTrades',\n",
    "             'TotalTrades', 'TotalPercentGain', 'AveragePercentGain', 'MaxPercentGain', 'MinPercentGain'])\n",
    "\n",
    "for e in os.listdir(\"../../temp/rsi_backtests/\"):\n",
    "    if e.endswith(\".csv\"):\n",
    "        file_path = \"../../temp/rsi_backtests/\" + e\n",
    "        trades = add_experiment_parameters_to_file(file_path)\n",
    "        pnl = rsi_ranged_backtest_single_pnl(trades)\n",
    "        all_results = pd.concat([all_results, pnl], axis=0)"
   ]
  },
  {
   "cell_type": "code",
   "execution_count": 30,
   "metadata": {},
   "outputs": [
    {
     "data": {
      "text/html": [
       "<div>\n",
       "<style scoped>\n",
       "    .dataframe tbody tr th:only-of-type {\n",
       "        vertical-align: middle;\n",
       "    }\n",
       "\n",
       "    .dataframe tbody tr th {\n",
       "        vertical-align: top;\n",
       "    }\n",
       "\n",
       "    .dataframe thead th {\n",
       "        text-align: right;\n",
       "    }\n",
       "</style>\n",
       "<table border=\"1\" class=\"dataframe\">\n",
       "  <thead>\n",
       "    <tr style=\"text-align: right;\">\n",
       "      <th></th>\n",
       "      <th>Ticker</th>\n",
       "      <th>StartDate</th>\n",
       "      <th>EndDate</th>\n",
       "      <th>RSI Entry</th>\n",
       "      <th>RSI Exit High</th>\n",
       "      <th>RSI Exit Stoploss</th>\n",
       "      <th>MaxTrades</th>\n",
       "      <th>TotalTrades</th>\n",
       "      <th>TotalPercentGain</th>\n",
       "      <th>AveragePercentGain</th>\n",
       "      <th>MaxPercentGain</th>\n",
       "      <th>MinPercentGain</th>\n",
       "    </tr>\n",
       "  </thead>\n",
       "  <tbody>\n",
       "    <tr>\n",
       "      <th>0</th>\n",
       "      <td>META</td>\n",
       "      <td>2022-09-30</td>\n",
       "      <td>2023-09-29</td>\n",
       "      <td>40</td>\n",
       "      <td>60</td>\n",
       "      <td>20</td>\n",
       "      <td>2</td>\n",
       "      <td>502.0</td>\n",
       "      <td>23.84</td>\n",
       "      <td>0.05</td>\n",
       "      <td>2.76</td>\n",
       "      <td>-2.31</td>\n",
       "    </tr>\n",
       "    <tr>\n",
       "      <th>0</th>\n",
       "      <td>META</td>\n",
       "      <td>2022-09-30</td>\n",
       "      <td>2023-09-29</td>\n",
       "      <td>50</td>\n",
       "      <td>70</td>\n",
       "      <td>30</td>\n",
       "      <td>4</td>\n",
       "      <td>1004.0</td>\n",
       "      <td>22.81</td>\n",
       "      <td>0.02</td>\n",
       "      <td>3.55</td>\n",
       "      <td>-2.10</td>\n",
       "    </tr>\n",
       "    <tr>\n",
       "      <th>0</th>\n",
       "      <td>META</td>\n",
       "      <td>2022-09-30</td>\n",
       "      <td>2023-09-29</td>\n",
       "      <td>50</td>\n",
       "      <td>70</td>\n",
       "      <td>30</td>\n",
       "      <td>2</td>\n",
       "      <td>502.0</td>\n",
       "      <td>22.45</td>\n",
       "      <td>0.04</td>\n",
       "      <td>3.55</td>\n",
       "      <td>-2.10</td>\n",
       "    </tr>\n",
       "    <tr>\n",
       "      <th>0</th>\n",
       "      <td>VXX</td>\n",
       "      <td>2022-09-30</td>\n",
       "      <td>2023-09-29</td>\n",
       "      <td>50</td>\n",
       "      <td>60</td>\n",
       "      <td>40</td>\n",
       "      <td>2</td>\n",
       "      <td>502.0</td>\n",
       "      <td>19.21</td>\n",
       "      <td>0.04</td>\n",
       "      <td>6.30</td>\n",
       "      <td>-3.50</td>\n",
       "    </tr>\n",
       "    <tr>\n",
       "      <th>0</th>\n",
       "      <td>META</td>\n",
       "      <td>2022-09-30</td>\n",
       "      <td>2023-09-29</td>\n",
       "      <td>40</td>\n",
       "      <td>60</td>\n",
       "      <td>20</td>\n",
       "      <td>3</td>\n",
       "      <td>753.0</td>\n",
       "      <td>17.65</td>\n",
       "      <td>0.02</td>\n",
       "      <td>2.76</td>\n",
       "      <td>-2.31</td>\n",
       "    </tr>\n",
       "    <tr>\n",
       "      <th>0</th>\n",
       "      <td>VXX</td>\n",
       "      <td>2022-09-30</td>\n",
       "      <td>2023-09-29</td>\n",
       "      <td>50</td>\n",
       "      <td>70</td>\n",
       "      <td>30</td>\n",
       "      <td>1</td>\n",
       "      <td>251.0</td>\n",
       "      <td>17.15</td>\n",
       "      <td>0.07</td>\n",
       "      <td>2.83</td>\n",
       "      <td>-2.21</td>\n",
       "    </tr>\n",
       "    <tr>\n",
       "      <th>0</th>\n",
       "      <td>META</td>\n",
       "      <td>2022-09-30</td>\n",
       "      <td>2023-09-29</td>\n",
       "      <td>50</td>\n",
       "      <td>70</td>\n",
       "      <td>30</td>\n",
       "      <td>3</td>\n",
       "      <td>753.0</td>\n",
       "      <td>16.70</td>\n",
       "      <td>0.02</td>\n",
       "      <td>3.55</td>\n",
       "      <td>-2.10</td>\n",
       "    </tr>\n",
       "    <tr>\n",
       "      <th>0</th>\n",
       "      <td>VXX</td>\n",
       "      <td>2022-09-30</td>\n",
       "      <td>2023-09-29</td>\n",
       "      <td>50</td>\n",
       "      <td>70</td>\n",
       "      <td>30</td>\n",
       "      <td>3</td>\n",
       "      <td>753.0</td>\n",
       "      <td>16.06</td>\n",
       "      <td>0.02</td>\n",
       "      <td>3.99</td>\n",
       "      <td>-3.30</td>\n",
       "    </tr>\n",
       "    <tr>\n",
       "      <th>0</th>\n",
       "      <td>META</td>\n",
       "      <td>2022-09-30</td>\n",
       "      <td>2023-09-29</td>\n",
       "      <td>50</td>\n",
       "      <td>70</td>\n",
       "      <td>30</td>\n",
       "      <td>1</td>\n",
       "      <td>251.0</td>\n",
       "      <td>16.00</td>\n",
       "      <td>0.06</td>\n",
       "      <td>2.08</td>\n",
       "      <td>-2.10</td>\n",
       "    </tr>\n",
       "    <tr>\n",
       "      <th>0</th>\n",
       "      <td>META</td>\n",
       "      <td>2022-09-30</td>\n",
       "      <td>2023-09-29</td>\n",
       "      <td>40</td>\n",
       "      <td>60</td>\n",
       "      <td>20</td>\n",
       "      <td>1</td>\n",
       "      <td>251.0</td>\n",
       "      <td>14.67</td>\n",
       "      <td>0.06</td>\n",
       "      <td>2.76</td>\n",
       "      <td>-2.00</td>\n",
       "    </tr>\n",
       "    <tr>\n",
       "      <th>0</th>\n",
       "      <td>VXX</td>\n",
       "      <td>2022-09-30</td>\n",
       "      <td>2023-09-29</td>\n",
       "      <td>50</td>\n",
       "      <td>60</td>\n",
       "      <td>40</td>\n",
       "      <td>3</td>\n",
       "      <td>753.0</td>\n",
       "      <td>13.61</td>\n",
       "      <td>0.02</td>\n",
       "      <td>6.30</td>\n",
       "      <td>-5.26</td>\n",
       "    </tr>\n",
       "    <tr>\n",
       "      <th>0</th>\n",
       "      <td>AAPL</td>\n",
       "      <td>2022-09-30</td>\n",
       "      <td>2023-09-29</td>\n",
       "      <td>50</td>\n",
       "      <td>70</td>\n",
       "      <td>30</td>\n",
       "      <td>4</td>\n",
       "      <td>1004.0</td>\n",
       "      <td>13.28</td>\n",
       "      <td>0.01</td>\n",
       "      <td>1.00</td>\n",
       "      <td>-3.48</td>\n",
       "    </tr>\n",
       "    <tr>\n",
       "      <th>0</th>\n",
       "      <td>VXX</td>\n",
       "      <td>2022-09-30</td>\n",
       "      <td>2023-09-29</td>\n",
       "      <td>50</td>\n",
       "      <td>60</td>\n",
       "      <td>40</td>\n",
       "      <td>1</td>\n",
       "      <td>251.0</td>\n",
       "      <td>13.20</td>\n",
       "      <td>0.05</td>\n",
       "      <td>6.30</td>\n",
       "      <td>-3.09</td>\n",
       "    </tr>\n",
       "    <tr>\n",
       "      <th>0</th>\n",
       "      <td>META</td>\n",
       "      <td>2022-09-30</td>\n",
       "      <td>2023-09-29</td>\n",
       "      <td>50</td>\n",
       "      <td>60</td>\n",
       "      <td>40</td>\n",
       "      <td>3</td>\n",
       "      <td>753.0</td>\n",
       "      <td>12.71</td>\n",
       "      <td>0.02</td>\n",
       "      <td>2.53</td>\n",
       "      <td>-1.91</td>\n",
       "    </tr>\n",
       "    <tr>\n",
       "      <th>0</th>\n",
       "      <td>META</td>\n",
       "      <td>2022-09-30</td>\n",
       "      <td>2023-09-29</td>\n",
       "      <td>50</td>\n",
       "      <td>60</td>\n",
       "      <td>40</td>\n",
       "      <td>2</td>\n",
       "      <td>502.0</td>\n",
       "      <td>12.60</td>\n",
       "      <td>0.03</td>\n",
       "      <td>2.53</td>\n",
       "      <td>-1.91</td>\n",
       "    </tr>\n",
       "    <tr>\n",
       "      <th>0</th>\n",
       "      <td>MSFT</td>\n",
       "      <td>2022-09-30</td>\n",
       "      <td>2023-09-29</td>\n",
       "      <td>50</td>\n",
       "      <td>70</td>\n",
       "      <td>30</td>\n",
       "      <td>4</td>\n",
       "      <td>1004.0</td>\n",
       "      <td>12.23</td>\n",
       "      <td>0.01</td>\n",
       "      <td>3.53</td>\n",
       "      <td>-1.62</td>\n",
       "    </tr>\n",
       "    <tr>\n",
       "      <th>0</th>\n",
       "      <td>META</td>\n",
       "      <td>2022-09-30</td>\n",
       "      <td>2023-09-29</td>\n",
       "      <td>50</td>\n",
       "      <td>60</td>\n",
       "      <td>40</td>\n",
       "      <td>1</td>\n",
       "      <td>251.0</td>\n",
       "      <td>12.19</td>\n",
       "      <td>0.05</td>\n",
       "      <td>2.53</td>\n",
       "      <td>-1.73</td>\n",
       "    </tr>\n",
       "    <tr>\n",
       "      <th>0</th>\n",
       "      <td>VXX</td>\n",
       "      <td>2022-09-30</td>\n",
       "      <td>2023-09-29</td>\n",
       "      <td>50</td>\n",
       "      <td>60</td>\n",
       "      <td>40</td>\n",
       "      <td>4</td>\n",
       "      <td>1004.0</td>\n",
       "      <td>10.97</td>\n",
       "      <td>0.01</td>\n",
       "      <td>6.30</td>\n",
       "      <td>-5.26</td>\n",
       "    </tr>\n",
       "    <tr>\n",
       "      <th>0</th>\n",
       "      <td>MSFT</td>\n",
       "      <td>2022-09-30</td>\n",
       "      <td>2023-09-29</td>\n",
       "      <td>60</td>\n",
       "      <td>80</td>\n",
       "      <td>40</td>\n",
       "      <td>3</td>\n",
       "      <td>753.0</td>\n",
       "      <td>10.10</td>\n",
       "      <td>0.01</td>\n",
       "      <td>3.15</td>\n",
       "      <td>-1.56</td>\n",
       "    </tr>\n",
       "    <tr>\n",
       "      <th>0</th>\n",
       "      <td>META</td>\n",
       "      <td>2022-09-30</td>\n",
       "      <td>2023-09-29</td>\n",
       "      <td>50</td>\n",
       "      <td>60</td>\n",
       "      <td>40</td>\n",
       "      <td>4</td>\n",
       "      <td>1004.0</td>\n",
       "      <td>9.90</td>\n",
       "      <td>0.01</td>\n",
       "      <td>2.53</td>\n",
       "      <td>-3.33</td>\n",
       "    </tr>\n",
       "  </tbody>\n",
       "</table>\n",
       "</div>"
      ],
      "text/plain": [
       "  Ticker   StartDate     EndDate RSI Entry RSI Exit High RSI Exit Stoploss  \\\n",
       "0   META  2022-09-30  2023-09-29        40            60                20   \n",
       "0   META  2022-09-30  2023-09-29        50            70                30   \n",
       "0   META  2022-09-30  2023-09-29        50            70                30   \n",
       "0    VXX  2022-09-30  2023-09-29        50            60                40   \n",
       "0   META  2022-09-30  2023-09-29        40            60                20   \n",
       "0    VXX  2022-09-30  2023-09-29        50            70                30   \n",
       "0   META  2022-09-30  2023-09-29        50            70                30   \n",
       "0    VXX  2022-09-30  2023-09-29        50            70                30   \n",
       "0   META  2022-09-30  2023-09-29        50            70                30   \n",
       "0   META  2022-09-30  2023-09-29        40            60                20   \n",
       "0    VXX  2022-09-30  2023-09-29        50            60                40   \n",
       "0   AAPL  2022-09-30  2023-09-29        50            70                30   \n",
       "0    VXX  2022-09-30  2023-09-29        50            60                40   \n",
       "0   META  2022-09-30  2023-09-29        50            60                40   \n",
       "0   META  2022-09-30  2023-09-29        50            60                40   \n",
       "0   MSFT  2022-09-30  2023-09-29        50            70                30   \n",
       "0   META  2022-09-30  2023-09-29        50            60                40   \n",
       "0    VXX  2022-09-30  2023-09-29        50            60                40   \n",
       "0   MSFT  2022-09-30  2023-09-29        60            80                40   \n",
       "0   META  2022-09-30  2023-09-29        50            60                40   \n",
       "\n",
       "  MaxTrades  TotalTrades  TotalPercentGain  AveragePercentGain  \\\n",
       "0         2        502.0             23.84                0.05   \n",
       "0         4       1004.0             22.81                0.02   \n",
       "0         2        502.0             22.45                0.04   \n",
       "0         2        502.0             19.21                0.04   \n",
       "0         3        753.0             17.65                0.02   \n",
       "0         1        251.0             17.15                0.07   \n",
       "0         3        753.0             16.70                0.02   \n",
       "0         3        753.0             16.06                0.02   \n",
       "0         1        251.0             16.00                0.06   \n",
       "0         1        251.0             14.67                0.06   \n",
       "0         3        753.0             13.61                0.02   \n",
       "0         4       1004.0             13.28                0.01   \n",
       "0         1        251.0             13.20                0.05   \n",
       "0         3        753.0             12.71                0.02   \n",
       "0         2        502.0             12.60                0.03   \n",
       "0         4       1004.0             12.23                0.01   \n",
       "0         1        251.0             12.19                0.05   \n",
       "0         4       1004.0             10.97                0.01   \n",
       "0         3        753.0             10.10                0.01   \n",
       "0         4       1004.0              9.90                0.01   \n",
       "\n",
       "   MaxPercentGain  MinPercentGain  \n",
       "0            2.76           -2.31  \n",
       "0            3.55           -2.10  \n",
       "0            3.55           -2.10  \n",
       "0            6.30           -3.50  \n",
       "0            2.76           -2.31  \n",
       "0            2.83           -2.21  \n",
       "0            3.55           -2.10  \n",
       "0            3.99           -3.30  \n",
       "0            2.08           -2.10  \n",
       "0            2.76           -2.00  \n",
       "0            6.30           -5.26  \n",
       "0            1.00           -3.48  \n",
       "0            6.30           -3.09  \n",
       "0            2.53           -1.91  \n",
       "0            2.53           -1.91  \n",
       "0            3.53           -1.62  \n",
       "0            2.53           -1.73  \n",
       "0            6.30           -5.26  \n",
       "0            3.15           -1.56  \n",
       "0            2.53           -3.33  "
      ]
     },
     "execution_count": 30,
     "metadata": {},
     "output_type": "execute_result"
    }
   ],
   "source": [
    "# sort by total gain\n",
    "all_results.sort_values(by=['TotalPercentGain'], ascending=False, inplace=True)\n",
    "\n",
    "all_results.head(20)"
   ]
  },
  {
   "cell_type": "code",
   "execution_count": 29,
   "metadata": {},
   "outputs": [
    {
     "data": {
      "application/vnd.plotly.v1+json": {
       "config": {
        "plotlyServerURL": "https://plot.ly"
       },
       "data": [
        {
         "alignmentgroup": "True",
         "bingroup": "x",
         "hovertemplate": "TotalPercentGain=%{x}<br>count=%{y}<extra></extra>",
         "legendgroup": "",
         "marker": {
          "color": "#636efa",
          "pattern": {
           "shape": ""
          }
         },
         "name": "",
         "nbinsx": 50,
         "offsetgroup": "",
         "orientation": "v",
         "showlegend": false,
         "type": "histogram",
         "x": [
          -4.39,
          -2.18,
          2.42,
          9.9,
          1.92,
          4.92,
          0.48,
          -0.73,
          1.14,
          0.74,
          2.16,
          0.81,
          4.36,
          -5.77,
          -2.21,
          -2.12,
          5.12,
          -0.3,
          2.54,
          -12.42,
          7.11,
          12.6,
          -0.31,
          1.98,
          12.71,
          5.89,
          -14.24,
          5.79,
          -7.79,
          12.19,
          -0.69,
          -0.23,
          6.12,
          -0.98,
          -11.71,
          0.63,
          3.55,
          9.16,
          14.67,
          3.13,
          -0.87,
          -3.8,
          -5.39,
          8.35,
          7.97,
          2.33,
          23.84,
          -3.36,
          5.3,
          1.34,
          10.1,
          17.65,
          4.97,
          -0.92,
          6.93,
          16.06,
          5.43,
          7.47,
          -5.85,
          -3.01,
          -4.61,
          4.84,
          8.76,
          9.13,
          3.81,
          -0.56,
          3.43,
          0.32,
          -2.22,
          3.87,
          -5.63,
          1.03,
          -4.64,
          0.65,
          17.15,
          -4.45,
          22.81,
          -0.13,
          -3.25,
          1.28,
          -0.46,
          1.88,
          8.09,
          -0.1,
          -3.11,
          -2.35,
          2.86,
          -0.16,
          -2.16,
          -20.19,
          0.06,
          22.45,
          -3.99,
          13.28,
          6.18,
          16.7,
          16,
          1.43,
          -13.61,
          -11.13,
          7.1,
          2.8,
          -1.18,
          10.97,
          8.19,
          6.36,
          3.48,
          -0.79,
          -20.07,
          4.89,
          12.23,
          -0.1,
          2.84,
          -0.46,
          4.27,
          13.61,
          19.21,
          0.11,
          1.64,
          5.53,
          2.1,
          1.87,
          -0.87,
          3.07,
          0.07,
          -11.32,
          -18.47,
          13.2,
          0.93,
          5.09
         ],
         "xaxis": "x",
         "yaxis": "y"
        }
       ],
       "layout": {
        "barmode": "relative",
        "legend": {
         "tracegroupgap": 0
        },
        "template": {
         "data": {
          "bar": [
           {
            "error_x": {
             "color": "#2a3f5f"
            },
            "error_y": {
             "color": "#2a3f5f"
            },
            "marker": {
             "line": {
              "color": "#E5ECF6",
              "width": 0.5
             },
             "pattern": {
              "fillmode": "overlay",
              "size": 10,
              "solidity": 0.2
             }
            },
            "type": "bar"
           }
          ],
          "barpolar": [
           {
            "marker": {
             "line": {
              "color": "#E5ECF6",
              "width": 0.5
             },
             "pattern": {
              "fillmode": "overlay",
              "size": 10,
              "solidity": 0.2
             }
            },
            "type": "barpolar"
           }
          ],
          "carpet": [
           {
            "aaxis": {
             "endlinecolor": "#2a3f5f",
             "gridcolor": "white",
             "linecolor": "white",
             "minorgridcolor": "white",
             "startlinecolor": "#2a3f5f"
            },
            "baxis": {
             "endlinecolor": "#2a3f5f",
             "gridcolor": "white",
             "linecolor": "white",
             "minorgridcolor": "white",
             "startlinecolor": "#2a3f5f"
            },
            "type": "carpet"
           }
          ],
          "choropleth": [
           {
            "colorbar": {
             "outlinewidth": 0,
             "ticks": ""
            },
            "type": "choropleth"
           }
          ],
          "contour": [
           {
            "colorbar": {
             "outlinewidth": 0,
             "ticks": ""
            },
            "colorscale": [
             [
              0,
              "#0d0887"
             ],
             [
              0.1111111111111111,
              "#46039f"
             ],
             [
              0.2222222222222222,
              "#7201a8"
             ],
             [
              0.3333333333333333,
              "#9c179e"
             ],
             [
              0.4444444444444444,
              "#bd3786"
             ],
             [
              0.5555555555555556,
              "#d8576b"
             ],
             [
              0.6666666666666666,
              "#ed7953"
             ],
             [
              0.7777777777777778,
              "#fb9f3a"
             ],
             [
              0.8888888888888888,
              "#fdca26"
             ],
             [
              1,
              "#f0f921"
             ]
            ],
            "type": "contour"
           }
          ],
          "contourcarpet": [
           {
            "colorbar": {
             "outlinewidth": 0,
             "ticks": ""
            },
            "type": "contourcarpet"
           }
          ],
          "heatmap": [
           {
            "colorbar": {
             "outlinewidth": 0,
             "ticks": ""
            },
            "colorscale": [
             [
              0,
              "#0d0887"
             ],
             [
              0.1111111111111111,
              "#46039f"
             ],
             [
              0.2222222222222222,
              "#7201a8"
             ],
             [
              0.3333333333333333,
              "#9c179e"
             ],
             [
              0.4444444444444444,
              "#bd3786"
             ],
             [
              0.5555555555555556,
              "#d8576b"
             ],
             [
              0.6666666666666666,
              "#ed7953"
             ],
             [
              0.7777777777777778,
              "#fb9f3a"
             ],
             [
              0.8888888888888888,
              "#fdca26"
             ],
             [
              1,
              "#f0f921"
             ]
            ],
            "type": "heatmap"
           }
          ],
          "heatmapgl": [
           {
            "colorbar": {
             "outlinewidth": 0,
             "ticks": ""
            },
            "colorscale": [
             [
              0,
              "#0d0887"
             ],
             [
              0.1111111111111111,
              "#46039f"
             ],
             [
              0.2222222222222222,
              "#7201a8"
             ],
             [
              0.3333333333333333,
              "#9c179e"
             ],
             [
              0.4444444444444444,
              "#bd3786"
             ],
             [
              0.5555555555555556,
              "#d8576b"
             ],
             [
              0.6666666666666666,
              "#ed7953"
             ],
             [
              0.7777777777777778,
              "#fb9f3a"
             ],
             [
              0.8888888888888888,
              "#fdca26"
             ],
             [
              1,
              "#f0f921"
             ]
            ],
            "type": "heatmapgl"
           }
          ],
          "histogram": [
           {
            "marker": {
             "pattern": {
              "fillmode": "overlay",
              "size": 10,
              "solidity": 0.2
             }
            },
            "type": "histogram"
           }
          ],
          "histogram2d": [
           {
            "colorbar": {
             "outlinewidth": 0,
             "ticks": ""
            },
            "colorscale": [
             [
              0,
              "#0d0887"
             ],
             [
              0.1111111111111111,
              "#46039f"
             ],
             [
              0.2222222222222222,
              "#7201a8"
             ],
             [
              0.3333333333333333,
              "#9c179e"
             ],
             [
              0.4444444444444444,
              "#bd3786"
             ],
             [
              0.5555555555555556,
              "#d8576b"
             ],
             [
              0.6666666666666666,
              "#ed7953"
             ],
             [
              0.7777777777777778,
              "#fb9f3a"
             ],
             [
              0.8888888888888888,
              "#fdca26"
             ],
             [
              1,
              "#f0f921"
             ]
            ],
            "type": "histogram2d"
           }
          ],
          "histogram2dcontour": [
           {
            "colorbar": {
             "outlinewidth": 0,
             "ticks": ""
            },
            "colorscale": [
             [
              0,
              "#0d0887"
             ],
             [
              0.1111111111111111,
              "#46039f"
             ],
             [
              0.2222222222222222,
              "#7201a8"
             ],
             [
              0.3333333333333333,
              "#9c179e"
             ],
             [
              0.4444444444444444,
              "#bd3786"
             ],
             [
              0.5555555555555556,
              "#d8576b"
             ],
             [
              0.6666666666666666,
              "#ed7953"
             ],
             [
              0.7777777777777778,
              "#fb9f3a"
             ],
             [
              0.8888888888888888,
              "#fdca26"
             ],
             [
              1,
              "#f0f921"
             ]
            ],
            "type": "histogram2dcontour"
           }
          ],
          "mesh3d": [
           {
            "colorbar": {
             "outlinewidth": 0,
             "ticks": ""
            },
            "type": "mesh3d"
           }
          ],
          "parcoords": [
           {
            "line": {
             "colorbar": {
              "outlinewidth": 0,
              "ticks": ""
             }
            },
            "type": "parcoords"
           }
          ],
          "pie": [
           {
            "automargin": true,
            "type": "pie"
           }
          ],
          "scatter": [
           {
            "fillpattern": {
             "fillmode": "overlay",
             "size": 10,
             "solidity": 0.2
            },
            "type": "scatter"
           }
          ],
          "scatter3d": [
           {
            "line": {
             "colorbar": {
              "outlinewidth": 0,
              "ticks": ""
             }
            },
            "marker": {
             "colorbar": {
              "outlinewidth": 0,
              "ticks": ""
             }
            },
            "type": "scatter3d"
           }
          ],
          "scattercarpet": [
           {
            "marker": {
             "colorbar": {
              "outlinewidth": 0,
              "ticks": ""
             }
            },
            "type": "scattercarpet"
           }
          ],
          "scattergeo": [
           {
            "marker": {
             "colorbar": {
              "outlinewidth": 0,
              "ticks": ""
             }
            },
            "type": "scattergeo"
           }
          ],
          "scattergl": [
           {
            "marker": {
             "colorbar": {
              "outlinewidth": 0,
              "ticks": ""
             }
            },
            "type": "scattergl"
           }
          ],
          "scattermapbox": [
           {
            "marker": {
             "colorbar": {
              "outlinewidth": 0,
              "ticks": ""
             }
            },
            "type": "scattermapbox"
           }
          ],
          "scatterpolar": [
           {
            "marker": {
             "colorbar": {
              "outlinewidth": 0,
              "ticks": ""
             }
            },
            "type": "scatterpolar"
           }
          ],
          "scatterpolargl": [
           {
            "marker": {
             "colorbar": {
              "outlinewidth": 0,
              "ticks": ""
             }
            },
            "type": "scatterpolargl"
           }
          ],
          "scatterternary": [
           {
            "marker": {
             "colorbar": {
              "outlinewidth": 0,
              "ticks": ""
             }
            },
            "type": "scatterternary"
           }
          ],
          "surface": [
           {
            "colorbar": {
             "outlinewidth": 0,
             "ticks": ""
            },
            "colorscale": [
             [
              0,
              "#0d0887"
             ],
             [
              0.1111111111111111,
              "#46039f"
             ],
             [
              0.2222222222222222,
              "#7201a8"
             ],
             [
              0.3333333333333333,
              "#9c179e"
             ],
             [
              0.4444444444444444,
              "#bd3786"
             ],
             [
              0.5555555555555556,
              "#d8576b"
             ],
             [
              0.6666666666666666,
              "#ed7953"
             ],
             [
              0.7777777777777778,
              "#fb9f3a"
             ],
             [
              0.8888888888888888,
              "#fdca26"
             ],
             [
              1,
              "#f0f921"
             ]
            ],
            "type": "surface"
           }
          ],
          "table": [
           {
            "cells": {
             "fill": {
              "color": "#EBF0F8"
             },
             "line": {
              "color": "white"
             }
            },
            "header": {
             "fill": {
              "color": "#C8D4E3"
             },
             "line": {
              "color": "white"
             }
            },
            "type": "table"
           }
          ]
         },
         "layout": {
          "annotationdefaults": {
           "arrowcolor": "#2a3f5f",
           "arrowhead": 0,
           "arrowwidth": 1
          },
          "autotypenumbers": "strict",
          "coloraxis": {
           "colorbar": {
            "outlinewidth": 0,
            "ticks": ""
           }
          },
          "colorscale": {
           "diverging": [
            [
             0,
             "#8e0152"
            ],
            [
             0.1,
             "#c51b7d"
            ],
            [
             0.2,
             "#de77ae"
            ],
            [
             0.3,
             "#f1b6da"
            ],
            [
             0.4,
             "#fde0ef"
            ],
            [
             0.5,
             "#f7f7f7"
            ],
            [
             0.6,
             "#e6f5d0"
            ],
            [
             0.7,
             "#b8e186"
            ],
            [
             0.8,
             "#7fbc41"
            ],
            [
             0.9,
             "#4d9221"
            ],
            [
             1,
             "#276419"
            ]
           ],
           "sequential": [
            [
             0,
             "#0d0887"
            ],
            [
             0.1111111111111111,
             "#46039f"
            ],
            [
             0.2222222222222222,
             "#7201a8"
            ],
            [
             0.3333333333333333,
             "#9c179e"
            ],
            [
             0.4444444444444444,
             "#bd3786"
            ],
            [
             0.5555555555555556,
             "#d8576b"
            ],
            [
             0.6666666666666666,
             "#ed7953"
            ],
            [
             0.7777777777777778,
             "#fb9f3a"
            ],
            [
             0.8888888888888888,
             "#fdca26"
            ],
            [
             1,
             "#f0f921"
            ]
           ],
           "sequentialminus": [
            [
             0,
             "#0d0887"
            ],
            [
             0.1111111111111111,
             "#46039f"
            ],
            [
             0.2222222222222222,
             "#7201a8"
            ],
            [
             0.3333333333333333,
             "#9c179e"
            ],
            [
             0.4444444444444444,
             "#bd3786"
            ],
            [
             0.5555555555555556,
             "#d8576b"
            ],
            [
             0.6666666666666666,
             "#ed7953"
            ],
            [
             0.7777777777777778,
             "#fb9f3a"
            ],
            [
             0.8888888888888888,
             "#fdca26"
            ],
            [
             1,
             "#f0f921"
            ]
           ]
          },
          "colorway": [
           "#636efa",
           "#EF553B",
           "#00cc96",
           "#ab63fa",
           "#FFA15A",
           "#19d3f3",
           "#FF6692",
           "#B6E880",
           "#FF97FF",
           "#FECB52"
          ],
          "font": {
           "color": "#2a3f5f"
          },
          "geo": {
           "bgcolor": "white",
           "lakecolor": "white",
           "landcolor": "#E5ECF6",
           "showlakes": true,
           "showland": true,
           "subunitcolor": "white"
          },
          "hoverlabel": {
           "align": "left"
          },
          "hovermode": "closest",
          "mapbox": {
           "style": "light"
          },
          "paper_bgcolor": "white",
          "plot_bgcolor": "#E5ECF6",
          "polar": {
           "angularaxis": {
            "gridcolor": "white",
            "linecolor": "white",
            "ticks": ""
           },
           "bgcolor": "#E5ECF6",
           "radialaxis": {
            "gridcolor": "white",
            "linecolor": "white",
            "ticks": ""
           }
          },
          "scene": {
           "xaxis": {
            "backgroundcolor": "#E5ECF6",
            "gridcolor": "white",
            "gridwidth": 2,
            "linecolor": "white",
            "showbackground": true,
            "ticks": "",
            "zerolinecolor": "white"
           },
           "yaxis": {
            "backgroundcolor": "#E5ECF6",
            "gridcolor": "white",
            "gridwidth": 2,
            "linecolor": "white",
            "showbackground": true,
            "ticks": "",
            "zerolinecolor": "white"
           },
           "zaxis": {
            "backgroundcolor": "#E5ECF6",
            "gridcolor": "white",
            "gridwidth": 2,
            "linecolor": "white",
            "showbackground": true,
            "ticks": "",
            "zerolinecolor": "white"
           }
          },
          "shapedefaults": {
           "line": {
            "color": "#2a3f5f"
           }
          },
          "ternary": {
           "aaxis": {
            "gridcolor": "white",
            "linecolor": "white",
            "ticks": ""
           },
           "baxis": {
            "gridcolor": "white",
            "linecolor": "white",
            "ticks": ""
           },
           "bgcolor": "#E5ECF6",
           "caxis": {
            "gridcolor": "white",
            "linecolor": "white",
            "ticks": ""
           }
          },
          "title": {
           "x": 0.05
          },
          "xaxis": {
           "automargin": true,
           "gridcolor": "white",
           "linecolor": "white",
           "ticks": "",
           "title": {
            "standoff": 15
           },
           "zerolinecolor": "white",
           "zerolinewidth": 2
          },
          "yaxis": {
           "automargin": true,
           "gridcolor": "white",
           "linecolor": "white",
           "ticks": "",
           "title": {
            "standoff": 15
           },
           "zerolinecolor": "white",
           "zerolinewidth": 2
          }
         }
        },
        "title": {
         "text": "Total Percent Gain"
        },
        "xaxis": {
         "anchor": "y",
         "domain": [
          0,
          1
         ],
         "title": {
          "text": "TotalPercentGain"
         }
        },
        "yaxis": {
         "anchor": "x",
         "domain": [
          0,
          1
         ],
         "title": {
          "text": "count"
         }
        }
       }
      }
     },
     "metadata": {},
     "output_type": "display_data"
    }
   ],
   "source": [
    "# histogram of total percent gain\n",
    "fig = px.histogram(all_results, x=\"TotalPercentGain\", title=\"Total Percent Gain\", nbins=50)\n",
    "fig.show()"
   ]
  },
  {
   "cell_type": "code",
   "execution_count": null,
   "metadata": {},
   "outputs": [],
   "source": [
    "all_results[\"TotalPercentGain\"].describe()"
   ]
  }
 ],
 "metadata": {
  "kernelspec": {
   "display_name": "Python 3",
   "language": "python",
   "name": "python3"
  },
  "language_info": {
   "codemirror_mode": {
    "name": "ipython",
    "version": 3
   },
   "file_extension": ".py",
   "mimetype": "text/x-python",
   "name": "python",
   "nbconvert_exporter": "python",
   "pygments_lexer": "ipython3",
   "version": "3.12.1"
  }
 },
 "nbformat": 4,
 "nbformat_minor": 2
}
