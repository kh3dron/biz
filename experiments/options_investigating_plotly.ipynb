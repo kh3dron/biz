{
 "cells": [
  {
   "cell_type": "code",
   "execution_count": null,
   "metadata": {},
   "outputs": [],
   "source": [
    "import warnings\n",
    "warnings.simplefilter(action='ignore', category=FutureWarning)\n",
    "\n",
    "import pandas as pd\n",
    "\n",
    "def load_data(ticker):\n",
    "\n",
    "    filename = '../frd_complete_plus_options_sample/option_chain_' + ticker + '.csv'\n",
    "    df = pd.read_csv(filename)\n",
    "    df['ticker'] = ticker\n",
    "\n",
    "    return df\n",
    "\n",
    "ticker = 'META'\n",
    "df = load_data(ticker)"
   ]
  },
  {
   "cell_type": "code",
   "execution_count": null,
   "metadata": {},
   "outputs": [],
   "source": [
    "# DTE column\n",
    "\n",
    "df[\"Trade Date\"] = pd.to_datetime(df[\"Trade Date\"], errors='coerce')\n",
    "df[\"Expiry Date\"] = pd.to_datetime(df[\"Expiry Date\"], errors='coerce')\n",
    "df[\"DTE\"] = (df[\"Expiry Date\"] - df[\"Trade Date\"]).dt.days\n",
    "\n",
    "df[\"Spread Volatility\"] = df[\"Bid Implied Volatility\"] + df[\"Ask Implied Volatility\"] / 2\n"
   ]
  },
  {
   "cell_type": "code",
   "execution_count": null,
   "metadata": {},
   "outputs": [],
   "source": [
    "import plotly.express as px\n",
    "\n",
    "# Assuming df is your DataFrame\n",
    "\n",
    "fig = px.scatter_3d(df, x='STrike', y='DTE', z='Bid Implied Volatility',\n",
    "                    color='Call/Put', color_continuous_scale='viridis',\n",
    "                    labels={'STrike': 'Strike', 'DTE': 'Days to Expiry', 'Bid Implied Volatility': 'Implied Volatility'},\n",
    "                    title='Volatility Surface for ' + ticker + ' Option Chain - Bid Implied Volatility',\n",
    "                    height=1600, width=1600)\n",
    "\n",
    "# Add colorbar\n",
    "fig.update_layout(coloraxis_colorbar=dict(title='Implied Volatility'))\n",
    "\n",
    "fig.show()\n"
   ]
  }
 ],
 "metadata": {
  "language_info": {
   "name": "python"
  }
 },
 "nbformat": 4,
 "nbformat_minor": 2
}
