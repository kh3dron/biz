{
 "cells": [
  {
   "cell_type": "code",
   "execution_count": 25,
   "metadata": {},
   "outputs": [],
   "source": [
    "import pandas as pd\n",
    "\n",
    "def load_data(ticker):\n",
    "\n",
    "    filename = '../data/' + ticker + '_1min_firstratedata.csv'\n",
    "    df = pd.read_csv(filename)\n",
    "    df['ticker'] = ticker\n",
    "\n",
    "    df[\"timestamp\"] = pd.to_datetime(df[\"timestamp\"])\n",
    "    df[\"date\"] = df[\"timestamp\"].dt.date\n",
    "    df[\"time\"] = df[\"timestamp\"].dt.time\n",
    "    return df\n",
    "\n",
    "ticker = 'SPY'\n",
    "df = load_data(ticker)"
   ]
  },
  {
   "cell_type": "code",
   "execution_count": 26,
   "metadata": {},
   "outputs": [
    {
     "data": {
      "text/html": [
       "<div>\n",
       "<style scoped>\n",
       "    .dataframe tbody tr th:only-of-type {\n",
       "        vertical-align: middle;\n",
       "    }\n",
       "\n",
       "    .dataframe tbody tr th {\n",
       "        vertical-align: top;\n",
       "    }\n",
       "\n",
       "    .dataframe thead th {\n",
       "        text-align: right;\n",
       "    }\n",
       "</style>\n",
       "<table border=\"1\" class=\"dataframe\">\n",
       "  <thead>\n",
       "    <tr style=\"text-align: right;\">\n",
       "      <th></th>\n",
       "      <th>timestamp</th>\n",
       "      <th>open</th>\n",
       "      <th>high</th>\n",
       "      <th>low</th>\n",
       "      <th>close</th>\n",
       "      <th>volume</th>\n",
       "      <th>ticker</th>\n",
       "      <th>date</th>\n",
       "      <th>time</th>\n",
       "      <th>RSI_14</th>\n",
       "    </tr>\n",
       "  </thead>\n",
       "  <tbody>\n",
       "    <tr>\n",
       "      <th>0</th>\n",
       "      <td>2022-09-30 04:00:00</td>\n",
       "      <td>366.02</td>\n",
       "      <td>366.13</td>\n",
       "      <td>366.02</td>\n",
       "      <td>366.08</td>\n",
       "      <td>8354</td>\n",
       "      <td>SPY</td>\n",
       "      <td>2022-09-30</td>\n",
       "      <td>04:00:00</td>\n",
       "      <td>NaN</td>\n",
       "    </tr>\n",
       "    <tr>\n",
       "      <th>1</th>\n",
       "      <td>2022-09-30 04:01:00</td>\n",
       "      <td>366.11</td>\n",
       "      <td>366.13</td>\n",
       "      <td>366.07</td>\n",
       "      <td>366.13</td>\n",
       "      <td>1100</td>\n",
       "      <td>SPY</td>\n",
       "      <td>2022-09-30</td>\n",
       "      <td>04:01:00</td>\n",
       "      <td>NaN</td>\n",
       "    </tr>\n",
       "    <tr>\n",
       "      <th>2</th>\n",
       "      <td>2022-09-30 04:02:00</td>\n",
       "      <td>365.98</td>\n",
       "      <td>365.98</td>\n",
       "      <td>365.87</td>\n",
       "      <td>365.91</td>\n",
       "      <td>600</td>\n",
       "      <td>SPY</td>\n",
       "      <td>2022-09-30</td>\n",
       "      <td>04:02:00</td>\n",
       "      <td>NaN</td>\n",
       "    </tr>\n",
       "    <tr>\n",
       "      <th>3</th>\n",
       "      <td>2022-09-30 04:03:00</td>\n",
       "      <td>365.98</td>\n",
       "      <td>366.06</td>\n",
       "      <td>365.87</td>\n",
       "      <td>366.06</td>\n",
       "      <td>1800</td>\n",
       "      <td>SPY</td>\n",
       "      <td>2022-09-30</td>\n",
       "      <td>04:03:00</td>\n",
       "      <td>NaN</td>\n",
       "    </tr>\n",
       "    <tr>\n",
       "      <th>4</th>\n",
       "      <td>2022-09-30 04:04:00</td>\n",
       "      <td>366.07</td>\n",
       "      <td>366.07</td>\n",
       "      <td>366.02</td>\n",
       "      <td>366.02</td>\n",
       "      <td>223</td>\n",
       "      <td>SPY</td>\n",
       "      <td>2022-09-30</td>\n",
       "      <td>04:04:00</td>\n",
       "      <td>NaN</td>\n",
       "    </tr>\n",
       "  </tbody>\n",
       "</table>\n",
       "</div>"
      ],
      "text/plain": [
       "            timestamp    open    high     low   close  volume ticker  \\\n",
       "0 2022-09-30 04:00:00  366.02  366.13  366.02  366.08    8354    SPY   \n",
       "1 2022-09-30 04:01:00  366.11  366.13  366.07  366.13    1100    SPY   \n",
       "2 2022-09-30 04:02:00  365.98  365.98  365.87  365.91     600    SPY   \n",
       "3 2022-09-30 04:03:00  365.98  366.06  365.87  366.06    1800    SPY   \n",
       "4 2022-09-30 04:04:00  366.07  366.07  366.02  366.02     223    SPY   \n",
       "\n",
       "         date      time  RSI_14  \n",
       "0  2022-09-30  04:00:00     NaN  \n",
       "1  2022-09-30  04:01:00     NaN  \n",
       "2  2022-09-30  04:02:00     NaN  \n",
       "3  2022-09-30  04:03:00     NaN  \n",
       "4  2022-09-30  04:04:00     NaN  "
      ]
     },
     "execution_count": 26,
     "metadata": {},
     "output_type": "execute_result"
    }
   ],
   "source": [
    "# Add the RSI indicator with period n to a df\n",
    "\n",
    "def RSI(df, n):\n",
    "    \"function to calculate RSI\"\n",
    "    delta = df[\"close\"].diff()\n",
    "    delta = delta[1:]\n",
    "    up, down = delta.copy(), delta.copy()\n",
    "    up[up < 0] = 0\n",
    "    down[down > 0] = 0\n",
    "    df[\"up\"] = up.round(4)\n",
    "    df[\"down\"] = down.round(4)\n",
    "    AVG_Gain = df[\"up\"].rolling(window=n).mean()\n",
    "    AVG_Loss = abs(df[\"down\"].rolling(window=n).mean())\n",
    "    RS = AVG_Gain / AVG_Loss\n",
    "    RSI = 100.0 - (100.0 / (1.0 + RS))\n",
    "    df[\"RSI_14\"] = RSI.round(4)\n",
    "    df = df.drop(columns=[\"up\", \"down\"])\n",
    "\n",
    "    return df\n",
    "\n",
    "df = RSI(df, 14)\n",
    "\n",
    "df.head()"
   ]
  },
  {
   "cell_type": "code",
   "execution_count": 27,
   "metadata": {},
   "outputs": [],
   "source": [
    "# Candlestick chart of one day\n",
    "import datetime\n",
    "import plotly.graph_objects as go\n",
    "\n",
    "\n",
    "def chart_range(df, date):\n",
    "    df = df[df[\"date\"] == date]\n",
    "    fig = go.Figure(\n",
    "        data=[\n",
    "            go.Candlestick(\n",
    "                x=df[\"timestamp\"],\n",
    "                open=df[\"open\"],\n",
    "                high=df[\"high\"],\n",
    "                low=df[\"low\"],\n",
    "                close=df[\"close\"],\n",
    "            )\n",
    "        ]\n",
    "    )\n",
    "    fig.show()\n",
    "\n",
    "\n",
    "# chart_range(df, datetime.date(2023, 5, 18))"
   ]
  },
  {
   "cell_type": "code",
   "execution_count": 28,
   "metadata": {},
   "outputs": [],
   "source": [
    "# chart the RSI of one day\n",
    "\n",
    "def chart_rsi(df, date):\n",
    "    df = df[df[\"date\"] == date]\n",
    "    # only chart from 9:30 to 16:00\n",
    "    df = df[df[\"time\"] >= datetime.time(9, 30, 0)]\n",
    "    df = df[df[\"time\"] <= datetime.time(16, 0, 0)]\n",
    "    fig = go.Figure(data=go.Scatter(x=df[\"timestamp\"], y=df[\"RSI_14\"]))\n",
    "    # add horizontal line at 30 and 70\n",
    "    fig.add_shape(\n",
    "        type=\"line\",\n",
    "        x0=df[\"timestamp\"].min(),\n",
    "        y0=30,\n",
    "        x1=df[\"timestamp\"].max(),\n",
    "        y1=30,\n",
    "        line=dict(color=\"RoyalBlue\", width=1, dash=\"dot\"),\n",
    "    )\n",
    "    fig.add_shape(\n",
    "        type=\"line\",\n",
    "        x0=df[\"timestamp\"].min(),\n",
    "        y0=70,\n",
    "        x1=df[\"timestamp\"].max(),\n",
    "        y1=70,\n",
    "        line=dict(color=\"RoyalBlue\", width=1, dash=\"dot\"),\n",
    "    )\n",
    "    fig.show()\n",
    "\n",
    "#chart_rsi(df, datetime.date(2023, 5, 18))\n",
    "\n",
    "\n",
    "def chart_rsi_with_trades(timestamps, rsi_values, enters, exits):\n",
    "    fig = go.Figure(\n",
    "        data=go.Scatter(x=timestamps, y=rsi_values, mode=\"lines\", name=\"RSI\")\n",
    "    )\n",
    "    fig.add_trace(\n",
    "        go.Scatter(\n",
    "            x=enters[\"timestamps\"],\n",
    "            y=enters[\"values\"],\n",
    "            mode=\"markers\",\n",
    "            marker=dict(color=\"green\", size=8),\n",
    "            name=\"Enter\",\n",
    "        )\n",
    "    )\n",
    "    fig.add_trace(\n",
    "        go.Scatter(\n",
    "            x=exits[\"timestamps\"],\n",
    "            y=exits[\"values\"],\n",
    "            mode=\"markers\",\n",
    "            marker=dict(color=\"red\", size=8),\n",
    "            name=\"Exit\",\n",
    "        )\n",
    "    )\n",
    "    # Add horizontal lines at RSI 30 and 70\n",
    "    fig.add_shape(\n",
    "        type=\"line\",\n",
    "        x0=timestamps[0],\n",
    "        y0=30,\n",
    "        x1=timestamps[-1],\n",
    "        y1=30,\n",
    "        line=dict(color=\"RoyalBlue\", width=1, dash=\"dot\"),\n",
    "    )\n",
    "    fig.add_shape(\n",
    "        type=\"line\",\n",
    "        x0=timestamps[0],\n",
    "        y0=70,\n",
    "        x1=timestamps[-1],\n",
    "        y1=70,\n",
    "        line=dict(color=\"RoyalBlue\", width=1, dash=\"dot\"),\n",
    "    )\n",
    "\n",
    "    fig.show()"
   ]
  },
  {
   "cell_type": "code",
   "execution_count": 29,
   "metadata": {},
   "outputs": [],
   "source": [
    "# Simulate a trading strategy, given a date, entry and exit RSI bounds\n",
    "\n",
    "import datetime\n",
    "import pandas as pd\n",
    "\n",
    "\n",
    "def simulate_trade_RSI(date, entry, exit, df):\n",
    "    # Filter data for the specified date and time range\n",
    "    df_day = df[\n",
    "        (df[\"date\"] == date)\n",
    "        & (df[\"time\"] >= datetime.time(9, 30, 0))\n",
    "        & (df[\"time\"] <= datetime.time(16, 0, 0))\n",
    "    ]\n",
    "\n",
    "    # store trades in new empty dataframe\n",
    "    trade_log = pd.DataFrame(\n",
    "        columns=[\n",
    "            \"Date\",\n",
    "            \"Direction\",\n",
    "            \"Entry\",\n",
    "            \"Exit\",\n",
    "            \"TimeEnter\",\n",
    "            \"TimeExit\",\n",
    "            \"Gain%\",\n",
    "            \"Gain$\",\n",
    "        ]\n",
    "    )\n",
    "\n",
    "    # Initialize variables\n",
    "    trades = 0\n",
    "    in_trade = False\n",
    "\n",
    "    # Iterate through the dataframe\n",
    "    for i in range(1, len(df_day)):\n",
    "        if (\n",
    "            not in_trade\n",
    "            and df_day[\"RSI_14\"].iloc[i - 1] < entry\n",
    "            and df_day[\"RSI_14\"].iloc[i] >= entry\n",
    "        ):\n",
    "            # Buy at entry condition\n",
    "\n",
    "            entry_price = df_day[\"close\"].iloc[i]\n",
    "            in_trade = True\n",
    "            timeEnter = df_day[\"time\"].iloc[i - 1]\n",
    "\n",
    "        elif (\n",
    "            in_trade\n",
    "            and df_day[\"RSI_14\"].iloc[i - 1] > exit\n",
    "            and df_day[\"RSI_14\"].iloc[i] <= exit\n",
    "        ):\n",
    "            # Sell at exit condition\n",
    "            exit_price = df_day[\"close\"].iloc[i]\n",
    "\n",
    "            # Calculate gain for the trade\n",
    "            if entry_price != 0:\n",
    "                trade_gain_percent = ((exit_price - entry_price) / entry_price) * 100\n",
    "                trade_gain_percent = round(trade_gain_percent, 2)\n",
    "\n",
    "                trade_gain_net = exit_price - entry_price\n",
    "                trade_gain_net = round(trade_gain_net, 2)\n",
    "\n",
    "                trades += 1\n",
    "\n",
    "                # Append trade details to the trade log DataFrame\n",
    "                trade_log.loc[len(trade_log)] = {\n",
    "                    \"Date\": date,\n",
    "                    \"Direction\": \"Long\",\n",
    "                    \"Entry\": entry_price,\n",
    "                    \"Exit\": exit_price,\n",
    "                    \"TimeEnter\": timeEnter,\n",
    "                    \"TimeExit\": df_day[\"time\"].iloc[i],\n",
    "                    \"Gain%\": trade_gain_percent,\n",
    "                    \"Gain$\": trade_gain_net,\n",
    "                }\n",
    "\n",
    "                # Reset trade variables\n",
    "                entry_price = 0\n",
    "                exit_price = 0\n",
    "                in_trade = False\n",
    "\n",
    "    return trade_log\n",
    "\n",
    "\n",
    "# simulate_trade_RSI(datetime.date(2023, 5, 18), 30, 70, df)"
   ]
  },
  {
   "cell_type": "code",
   "execution_count": 30,
   "metadata": {},
   "outputs": [],
   "source": [
    "def simulate_date_range(start_date, end_date, entry, exit, df):\n",
    "    # store trades in new empty dataframe\n",
    "    day_datas = []\n",
    "\n",
    "    for n in range((end_date - start_date).days + 1):\n",
    "        date = start_date + datetime.timedelta(n)\n",
    "        day_data = simulate_trade_RSI(date, entry, exit, df)\n",
    "        if day_data is not None:\n",
    "            day_datas.append(day_data)\n",
    "\n",
    "    day_datas = pd.concat(day_datas, ignore_index=True)\n",
    "\n",
    "    return day_datas"
   ]
  },
  {
   "cell_type": "code",
   "execution_count": 31,
   "metadata": {},
   "outputs": [
    {
     "name": "stdout",
     "output_type": "stream",
     "text": [
      "Total trades: 952\n",
      "Average percent gain per trade: 0.02%\n",
      "Total percent gain: 76.08%\n"
     ]
    },
    {
     "name": "stderr",
     "output_type": "stream",
     "text": [
      "/var/folders/hb/0dd7xx3d4mzgbx_w9m1fmb2h0000gn/T/ipykernel_9734/2572184321.py:11: FutureWarning:\n",
      "\n",
      "The behavior of DataFrame concatenation with empty or all-NA entries is deprecated. In a future version, this will no longer exclude empty or all-NA columns when determining the result dtypes. To retain the old behavior, exclude the relevant entries before the concat operation.\n",
      "\n"
     ]
    },
    {
     "data": {
      "application/vnd.plotly.v1+json": {
       "config": {
        "plotlyServerURL": "https://plot.ly"
       },
       "data": [
        {
         "alignmentgroup": "True",
         "bingroup": "x",
         "hovertemplate": "Gain%=%{x}<br>count=%{y}<extra></extra>",
         "legendgroup": "",
         "marker": {
          "color": "#636efa",
          "pattern": {
           "shape": ""
          }
         },
         "name": "",
         "nbinsx": 100,
         "offsetgroup": "",
         "orientation": "v",
         "showlegend": false,
         "type": "histogram",
         "x": [
          -0.41,
          -0.3,
          0.18,
          0.21,
          0.21,
          0.09,
          0.06,
          0.04,
          -0.46,
          0.31,
          -0.07,
          0.06,
          -0.01,
          0.13,
          -0.01,
          -0.1,
          -0.57,
          -0.57,
          -0.07,
          0.3,
          -0.3,
          0.12,
          0.24,
          -0.4,
          0.22,
          -0.31,
          0.33,
          0.4,
          -0.1,
          0.12,
          0.2,
          0.14,
          -0.09,
          0.24,
          1.01,
          0.19,
          0.16,
          -0.03,
          -1.54,
          -0.56,
          -0.04,
          0.02,
          0.24,
          -0.13,
          0.11,
          0.11,
          0.1,
          0.03,
          -0.61,
          0.2,
          0.21,
          -0.41,
          0.28,
          -0.1,
          0.15,
          -0.65,
          0.23,
          0.21,
          0.3,
          0.22,
          0.06,
          -0.54,
          -0.08,
          0.25,
          -0.3,
          0.25,
          0.48,
          0.32,
          0.08,
          0.11,
          0.03,
          0.07,
          0.05,
          0.14,
          -0.07,
          0.1,
          0.09,
          -0.66,
          -0.08,
          0.76,
          -0.3,
          0.02,
          -0.19,
          0.26,
          0.1,
          0.09,
          -0.16,
          0.17,
          0.01,
          0.22,
          0.14,
          0.1,
          -1.36,
          0.24,
          -0.07,
          0.17,
          -0.18,
          0.41,
          0.5,
          0.39,
          0.05,
          0.13,
          0.39,
          -0.06,
          0.06,
          0.49,
          -1.22,
          -0.01,
          0.22,
          0.45,
          0.2,
          -0.03,
          0.06,
          0.15,
          0.16,
          0.06,
          0.04,
          -0.07,
          0.24,
          -0.21,
          -0.59,
          0.06,
          0.39,
          0.06,
          0.39,
          0.03,
          0.13,
          0.11,
          0.12,
          0.06,
          0.1,
          0.25,
          0.13,
          -0.16,
          0.29,
          0,
          0.23,
          -0.46,
          0.16,
          0.14,
          -0.11,
          0.19,
          0.35,
          -0.04,
          -0.11,
          -0.18,
          -0.27,
          0.17,
          0.14,
          0.34,
          0.12,
          -0.27,
          0.11,
          -0.06,
          0.04,
          -0.28,
          0.02,
          0.15,
          0.07,
          -0.02,
          -0.01,
          0.04,
          -0.11,
          0.05,
          0.02,
          -0.36,
          -0.12,
          0.15,
          -0.48,
          -0.05,
          0,
          0.02,
          0.19,
          0.03,
          0.35,
          0.14,
          0.11,
          0.17,
          0.09,
          0.09,
          0.12,
          0.21,
          0.13,
          -0.07,
          0.09,
          -0.15,
          -0.16,
          -0.06,
          -0.02,
          0.04,
          -0.04,
          0.22,
          -1.01,
          -0.24,
          -0.15,
          0.27,
          0.27,
          0.21,
          0.11,
          0.08,
          0.02,
          0.52,
          0.08,
          0.05,
          0.23,
          0.1,
          -0.23,
          0.08,
          0.23,
          0.07,
          0.06,
          0.13,
          0.14,
          -0.8,
          0.04,
          -0.08,
          0.23,
          0.07,
          0.1,
          -0.07,
          -0.01,
          0.07,
          0.13,
          0.04,
          -0.35,
          -0.31,
          0.01,
          0.32,
          0.29,
          -0.4,
          0.12,
          0.08,
          -0.17,
          -0.01,
          0.07,
          0.08,
          -0.08,
          0.15,
          0.07,
          0.11,
          -1.7,
          0.75,
          -0.19,
          0.1,
          0.11,
          0.05,
          0.47,
          0.1,
          0.13,
          0.04,
          -0.24,
          0.15,
          -1.05,
          -0.09,
          0.18,
          0.01,
          0.15,
          0,
          0.25,
          -0.04,
          0.05,
          -0.1,
          0.24,
          -0.96,
          -0.22,
          0.18,
          0.18,
          0.39,
          -0.09,
          -0.37,
          -0.24,
          -0.16,
          0.26,
          0.4,
          0.15,
          0.37,
          -0.07,
          0.51,
          0.03,
          -0.2,
          0.02,
          0.38,
          0.5,
          0.14,
          0.15,
          0.11,
          0.12,
          0.11,
          0.06,
          0.01,
          0.41,
          -0.04,
          0.34,
          -0.22,
          0.22,
          0.09,
          0.06,
          -0.04,
          0.01,
          0.18,
          -1.26,
          0.02,
          -0.11,
          0.08,
          0.15,
          0.3,
          0.04,
          0.06,
          0.01,
          -0.51,
          0.13,
          0.09,
          0.06,
          -0.26,
          0.11,
          0.19,
          0.14,
          0.33,
          -0.22,
          0.14,
          0.16,
          0.05,
          -0.12,
          0.08,
          0.06,
          0.09,
          -0.09,
          0.02,
          0.03,
          -0.17,
          0.05,
          0.08,
          0.11,
          0.15,
          -0.12,
          0.02,
          1.25,
          0.64,
          0.07,
          0.15,
          0.12,
          -0.11,
          0.31,
          0.12,
          0,
          0.09,
          -0.08,
          0.22,
          -0.04,
          0.04,
          -0.06,
          0.14,
          0.04,
          -0.13,
          -0.33,
          0.3,
          0.12,
          0.03,
          -0.51,
          -0.57,
          0.54,
          0.17,
          -0.17,
          0.07,
          0.22,
          0.22,
          0.06,
          -0.05,
          0.09,
          -0.2,
          0.46,
          0.06,
          0.29,
          0.22,
          0.14,
          0.16,
          0.23,
          0.02,
          0.06,
          -0.06,
          0.23,
          -0.08,
          0.02,
          0.14,
          -0.17,
          -0.25,
          -0.16,
          0.08,
          0.12,
          0.13,
          0.28,
          0.09,
          -0.85,
          -0.01,
          -0.15,
          0.16,
          0.13,
          0.06,
          -0.02,
          0.12,
          0.23,
          -0.3,
          0.11,
          0.14,
          0.12,
          -0.31,
          0.24,
          0.15,
          -0.31,
          0.07,
          -0.01,
          0.15,
          0.07,
          0.15,
          0.11,
          0.36,
          0.04,
          0.07,
          -0.38,
          0.04,
          -0.05,
          0.46,
          -0.07,
          -0.53,
          0.06,
          0.11,
          0.1,
          0.24,
          -0.06,
          -0.11,
          0.35,
          0.08,
          0.19,
          -0.22,
          0.26,
          0.6,
          -0.06,
          -0.46,
          0.3,
          -0.14,
          0.46,
          0.67,
          0.1,
          0.1,
          -0.1,
          0,
          0.37,
          0.13,
          -0.08,
          0.14,
          1.04,
          0.14,
          -0.14,
          0.29,
          0.06,
          0.14,
          0.06,
          -0.08,
          0.25,
          -0.26,
          -0.06,
          0.11,
          -0.06,
          0.12,
          0.1,
          0.02,
          0.05,
          -0.3,
          0.44,
          -0.65,
          -0.55,
          0.25,
          -0.08,
          0.2,
          0.18,
          0.03,
          0.23,
          -0.02,
          -0.22,
          0.12,
          0.18,
          0.24,
          -0.05,
          -0.26,
          0.03,
          0.1,
          -0.02,
          -0.03,
          -0.25,
          0.07,
          0.08,
          -0.06,
          0.02,
          0.25,
          0,
          0.15,
          0.25,
          -0.09,
          -0.57,
          0.08,
          0.1,
          -0.1,
          0.09,
          0.02,
          -0.02,
          0.21,
          0.07,
          0.18,
          0.09,
          0.18,
          0.05,
          0.03,
          0.13,
          0.01,
          0,
          0.05,
          0.09,
          0.05,
          -0.05,
          -0.12,
          0.08,
          0.11,
          0.1,
          -0.49,
          0.09,
          0.27,
          -0.16,
          -0.09,
          0,
          -0.14,
          0.14,
          0.05,
          0.08,
          0.05,
          0,
          0.05,
          0.15,
          0.05,
          0.05,
          -0.35,
          0.17,
          0.13,
          0.02,
          0.04,
          -0.12,
          -0.38,
          0.12,
          0.06,
          -0.04,
          -0.02,
          -0.4,
          0.1,
          0.1,
          -0.63,
          0.24,
          0.04,
          0.1,
          0.13,
          0.09,
          -0.05,
          -0.01,
          0.06,
          0.09,
          0.15,
          -0.08,
          -1.26,
          -0.01,
          -0.28,
          0.03,
          0.14,
          -0.09,
          0,
          0.2,
          -0.23,
          0.27,
          0.04,
          0.09,
          -0.06,
          0.07,
          0.05,
          0.21,
          -0.01,
          0.16,
          0.03,
          0.08,
          0.04,
          0.3,
          -0.18,
          -0.2,
          -0.06,
          0.02,
          0.05,
          0.09,
          -0.42,
          0.05,
          -0.14,
          -0.01,
          -0.18,
          0.06,
          0.13,
          0.06,
          0,
          0.1,
          0.03,
          0.06,
          -0.06,
          -0.05,
          0.1,
          0.09,
          -0.16,
          0.19,
          0.05,
          0.04,
          -0.16,
          0.18,
          0.05,
          0.08,
          0.01,
          0.16,
          0.07,
          0.05,
          0.12,
          0.1,
          0.06,
          0.05,
          -0.17,
          -0.26,
          -0.08,
          -0.19,
          0.09,
          0.46,
          0,
          0.21,
          -0.05,
          0.07,
          0.05,
          0.03,
          -0.12,
          -0.02,
          0.19,
          0.15,
          -0.26,
          0.03,
          0.09,
          0.13,
          0.04,
          0.17,
          -0.01,
          0.06,
          0.11,
          0.09,
          0.09,
          -0.41,
          0.13,
          0.04,
          0.08,
          -0.08,
          0.04,
          0.09,
          -0.14,
          -0.07,
          0.09,
          -0.02,
          0.09,
          0.19,
          -0.02,
          0.03,
          -0.01,
          0.06,
          0.06,
          0.05,
          0,
          0.1,
          0.26,
          0.07,
          -0.05,
          0.1,
          0.17,
          -0.11,
          0,
          -0.36,
          0.1,
          0.45,
          0,
          0.04,
          0.02,
          -0.42,
          0.01,
          0.04,
          -0.03,
          0.13,
          0.06,
          0.07,
          -0.26,
          0.09,
          -0.03,
          0.06,
          0.15,
          0.03,
          -0.27,
          -0.03,
          0,
          0.01,
          0.09,
          0.1,
          0.11,
          0.19,
          0.1,
          0.17,
          -0.22,
          0.08,
          0.03,
          0.05,
          0.22,
          0,
          0.07,
          0.05,
          0.15,
          0.01,
          0.13,
          0.03,
          -0.03,
          0.03,
          0.11,
          -0.29,
          0.09,
          0.1,
          0,
          0,
          -0.05,
          0.09,
          0,
          0,
          -0.06,
          0,
          0.03,
          -0.28,
          -0.02,
          0.07,
          0.04,
          0.11,
          0.06,
          -0.02,
          -0.04,
          0.07,
          -0.09,
          -0.02,
          0.05,
          0.09,
          -0.03,
          -0.1,
          0.06,
          -0.22,
          0.1,
          0.03,
          -0.01,
          -0.2,
          0.05,
          -0.16,
          0.03,
          0.02,
          0.06,
          -0.05,
          0.04,
          0.07,
          -0.02,
          -0.03,
          0.02,
          0.04,
          0.02,
          0.04,
          0.04,
          0.06,
          0.39,
          0.14,
          -0.12,
          -0.03,
          0.07,
          -0.9,
          0.08,
          -0.19,
          0.11,
          -0.1,
          -0.01,
          0.07,
          -0.03,
          0.04,
          0.02,
          0.06,
          0.07,
          -0.03,
          -0.43,
          -0.08,
          -0.12,
          0.08,
          -0.03,
          -0.08,
          -0.04,
          -0.09,
          0.07,
          0.02,
          0.16,
          0,
          0.07,
          0,
          0.02,
          -0.1,
          0.1,
          0.2,
          -0.68,
          -0.04,
          -0.15,
          -0.04,
          -0.08,
          0.18,
          -0.16,
          -0.08,
          0.15,
          0.09,
          0.15,
          0.05,
          0.06,
          0.06,
          -0.24,
          0.02,
          0.05,
          -0.31,
          0.12,
          -0.29,
          0.07,
          0.25,
          -0.08,
          0.08,
          0.1,
          -0.61,
          0.15,
          0.22,
          0.04,
          -0.02,
          -0.03,
          0.14,
          -0.23,
          0.09,
          0.1,
          -0.26,
          -0.18,
          -0.06,
          0.2,
          -0.13,
          0.08,
          0.07,
          0.24,
          0,
          0.22,
          -0.57,
          -0.21,
          -0.34,
          0.07,
          -0.28,
          -0.19,
          0.08,
          0.14,
          0.02,
          0.06,
          0.11,
          0.28,
          0.04,
          -0.12,
          -0.05,
          0.09,
          0.09,
          0.14,
          -0.22,
          0.11,
          0.02,
          -0.02,
          0.02,
          0.01,
          0.05,
          -0.48,
          -0.11,
          0.1,
          0.18,
          0.07,
          0.1,
          0.03,
          0.04,
          0.06,
          0.01,
          -0.06,
          0.06,
          -0.05,
          0.05,
          0.1,
          0.11,
          0.08,
          0,
          0.02,
          -0.25,
          0.3,
          -0.23,
          0.05,
          0.04,
          0.02,
          0,
          -0.42,
          0.1,
          -0.02,
          0.14,
          0.07,
          0.05,
          -0.18,
          0.06,
          -0.12,
          0.04,
          0.19,
          0.05,
          0.06,
          0.03,
          -0.29,
          0.26,
          0.05,
          -0.07,
          -0.09,
          0.08,
          0.2,
          0.15,
          0.07,
          -0.53,
          0.35,
          0.13,
          0.17,
          0.01,
          0.12,
          -0.07,
          -0.27,
          -0.01,
          -0.18,
          -0.03,
          0.14,
          -0.13,
          -0.3,
          0.1,
          0.15,
          -0.02,
          0.14,
          0.05,
          -0.03,
          0.06,
          -0.26,
          0.19,
          0.14
         ],
         "xaxis": "x",
         "yaxis": "y"
        }
       ],
       "layout": {
        "barmode": "relative",
        "legend": {
         "tracegroupgap": 0
        },
        "margin": {
         "t": 60
        },
        "template": {
         "data": {
          "bar": [
           {
            "error_x": {
             "color": "#2a3f5f"
            },
            "error_y": {
             "color": "#2a3f5f"
            },
            "marker": {
             "line": {
              "color": "#E5ECF6",
              "width": 0.5
             },
             "pattern": {
              "fillmode": "overlay",
              "size": 10,
              "solidity": 0.2
             }
            },
            "type": "bar"
           }
          ],
          "barpolar": [
           {
            "marker": {
             "line": {
              "color": "#E5ECF6",
              "width": 0.5
             },
             "pattern": {
              "fillmode": "overlay",
              "size": 10,
              "solidity": 0.2
             }
            },
            "type": "barpolar"
           }
          ],
          "carpet": [
           {
            "aaxis": {
             "endlinecolor": "#2a3f5f",
             "gridcolor": "white",
             "linecolor": "white",
             "minorgridcolor": "white",
             "startlinecolor": "#2a3f5f"
            },
            "baxis": {
             "endlinecolor": "#2a3f5f",
             "gridcolor": "white",
             "linecolor": "white",
             "minorgridcolor": "white",
             "startlinecolor": "#2a3f5f"
            },
            "type": "carpet"
           }
          ],
          "choropleth": [
           {
            "colorbar": {
             "outlinewidth": 0,
             "ticks": ""
            },
            "type": "choropleth"
           }
          ],
          "contour": [
           {
            "colorbar": {
             "outlinewidth": 0,
             "ticks": ""
            },
            "colorscale": [
             [
              0,
              "#0d0887"
             ],
             [
              0.1111111111111111,
              "#46039f"
             ],
             [
              0.2222222222222222,
              "#7201a8"
             ],
             [
              0.3333333333333333,
              "#9c179e"
             ],
             [
              0.4444444444444444,
              "#bd3786"
             ],
             [
              0.5555555555555556,
              "#d8576b"
             ],
             [
              0.6666666666666666,
              "#ed7953"
             ],
             [
              0.7777777777777778,
              "#fb9f3a"
             ],
             [
              0.8888888888888888,
              "#fdca26"
             ],
             [
              1,
              "#f0f921"
             ]
            ],
            "type": "contour"
           }
          ],
          "contourcarpet": [
           {
            "colorbar": {
             "outlinewidth": 0,
             "ticks": ""
            },
            "type": "contourcarpet"
           }
          ],
          "heatmap": [
           {
            "colorbar": {
             "outlinewidth": 0,
             "ticks": ""
            },
            "colorscale": [
             [
              0,
              "#0d0887"
             ],
             [
              0.1111111111111111,
              "#46039f"
             ],
             [
              0.2222222222222222,
              "#7201a8"
             ],
             [
              0.3333333333333333,
              "#9c179e"
             ],
             [
              0.4444444444444444,
              "#bd3786"
             ],
             [
              0.5555555555555556,
              "#d8576b"
             ],
             [
              0.6666666666666666,
              "#ed7953"
             ],
             [
              0.7777777777777778,
              "#fb9f3a"
             ],
             [
              0.8888888888888888,
              "#fdca26"
             ],
             [
              1,
              "#f0f921"
             ]
            ],
            "type": "heatmap"
           }
          ],
          "heatmapgl": [
           {
            "colorbar": {
             "outlinewidth": 0,
             "ticks": ""
            },
            "colorscale": [
             [
              0,
              "#0d0887"
             ],
             [
              0.1111111111111111,
              "#46039f"
             ],
             [
              0.2222222222222222,
              "#7201a8"
             ],
             [
              0.3333333333333333,
              "#9c179e"
             ],
             [
              0.4444444444444444,
              "#bd3786"
             ],
             [
              0.5555555555555556,
              "#d8576b"
             ],
             [
              0.6666666666666666,
              "#ed7953"
             ],
             [
              0.7777777777777778,
              "#fb9f3a"
             ],
             [
              0.8888888888888888,
              "#fdca26"
             ],
             [
              1,
              "#f0f921"
             ]
            ],
            "type": "heatmapgl"
           }
          ],
          "histogram": [
           {
            "marker": {
             "pattern": {
              "fillmode": "overlay",
              "size": 10,
              "solidity": 0.2
             }
            },
            "type": "histogram"
           }
          ],
          "histogram2d": [
           {
            "colorbar": {
             "outlinewidth": 0,
             "ticks": ""
            },
            "colorscale": [
             [
              0,
              "#0d0887"
             ],
             [
              0.1111111111111111,
              "#46039f"
             ],
             [
              0.2222222222222222,
              "#7201a8"
             ],
             [
              0.3333333333333333,
              "#9c179e"
             ],
             [
              0.4444444444444444,
              "#bd3786"
             ],
             [
              0.5555555555555556,
              "#d8576b"
             ],
             [
              0.6666666666666666,
              "#ed7953"
             ],
             [
              0.7777777777777778,
              "#fb9f3a"
             ],
             [
              0.8888888888888888,
              "#fdca26"
             ],
             [
              1,
              "#f0f921"
             ]
            ],
            "type": "histogram2d"
           }
          ],
          "histogram2dcontour": [
           {
            "colorbar": {
             "outlinewidth": 0,
             "ticks": ""
            },
            "colorscale": [
             [
              0,
              "#0d0887"
             ],
             [
              0.1111111111111111,
              "#46039f"
             ],
             [
              0.2222222222222222,
              "#7201a8"
             ],
             [
              0.3333333333333333,
              "#9c179e"
             ],
             [
              0.4444444444444444,
              "#bd3786"
             ],
             [
              0.5555555555555556,
              "#d8576b"
             ],
             [
              0.6666666666666666,
              "#ed7953"
             ],
             [
              0.7777777777777778,
              "#fb9f3a"
             ],
             [
              0.8888888888888888,
              "#fdca26"
             ],
             [
              1,
              "#f0f921"
             ]
            ],
            "type": "histogram2dcontour"
           }
          ],
          "mesh3d": [
           {
            "colorbar": {
             "outlinewidth": 0,
             "ticks": ""
            },
            "type": "mesh3d"
           }
          ],
          "parcoords": [
           {
            "line": {
             "colorbar": {
              "outlinewidth": 0,
              "ticks": ""
             }
            },
            "type": "parcoords"
           }
          ],
          "pie": [
           {
            "automargin": true,
            "type": "pie"
           }
          ],
          "scatter": [
           {
            "fillpattern": {
             "fillmode": "overlay",
             "size": 10,
             "solidity": 0.2
            },
            "type": "scatter"
           }
          ],
          "scatter3d": [
           {
            "line": {
             "colorbar": {
              "outlinewidth": 0,
              "ticks": ""
             }
            },
            "marker": {
             "colorbar": {
              "outlinewidth": 0,
              "ticks": ""
             }
            },
            "type": "scatter3d"
           }
          ],
          "scattercarpet": [
           {
            "marker": {
             "colorbar": {
              "outlinewidth": 0,
              "ticks": ""
             }
            },
            "type": "scattercarpet"
           }
          ],
          "scattergeo": [
           {
            "marker": {
             "colorbar": {
              "outlinewidth": 0,
              "ticks": ""
             }
            },
            "type": "scattergeo"
           }
          ],
          "scattergl": [
           {
            "marker": {
             "colorbar": {
              "outlinewidth": 0,
              "ticks": ""
             }
            },
            "type": "scattergl"
           }
          ],
          "scattermapbox": [
           {
            "marker": {
             "colorbar": {
              "outlinewidth": 0,
              "ticks": ""
             }
            },
            "type": "scattermapbox"
           }
          ],
          "scatterpolar": [
           {
            "marker": {
             "colorbar": {
              "outlinewidth": 0,
              "ticks": ""
             }
            },
            "type": "scatterpolar"
           }
          ],
          "scatterpolargl": [
           {
            "marker": {
             "colorbar": {
              "outlinewidth": 0,
              "ticks": ""
             }
            },
            "type": "scatterpolargl"
           }
          ],
          "scatterternary": [
           {
            "marker": {
             "colorbar": {
              "outlinewidth": 0,
              "ticks": ""
             }
            },
            "type": "scatterternary"
           }
          ],
          "surface": [
           {
            "colorbar": {
             "outlinewidth": 0,
             "ticks": ""
            },
            "colorscale": [
             [
              0,
              "#0d0887"
             ],
             [
              0.1111111111111111,
              "#46039f"
             ],
             [
              0.2222222222222222,
              "#7201a8"
             ],
             [
              0.3333333333333333,
              "#9c179e"
             ],
             [
              0.4444444444444444,
              "#bd3786"
             ],
             [
              0.5555555555555556,
              "#d8576b"
             ],
             [
              0.6666666666666666,
              "#ed7953"
             ],
             [
              0.7777777777777778,
              "#fb9f3a"
             ],
             [
              0.8888888888888888,
              "#fdca26"
             ],
             [
              1,
              "#f0f921"
             ]
            ],
            "type": "surface"
           }
          ],
          "table": [
           {
            "cells": {
             "fill": {
              "color": "#EBF0F8"
             },
             "line": {
              "color": "white"
             }
            },
            "header": {
             "fill": {
              "color": "#C8D4E3"
             },
             "line": {
              "color": "white"
             }
            },
            "type": "table"
           }
          ]
         },
         "layout": {
          "annotationdefaults": {
           "arrowcolor": "#2a3f5f",
           "arrowhead": 0,
           "arrowwidth": 1
          },
          "autotypenumbers": "strict",
          "coloraxis": {
           "colorbar": {
            "outlinewidth": 0,
            "ticks": ""
           }
          },
          "colorscale": {
           "diverging": [
            [
             0,
             "#8e0152"
            ],
            [
             0.1,
             "#c51b7d"
            ],
            [
             0.2,
             "#de77ae"
            ],
            [
             0.3,
             "#f1b6da"
            ],
            [
             0.4,
             "#fde0ef"
            ],
            [
             0.5,
             "#f7f7f7"
            ],
            [
             0.6,
             "#e6f5d0"
            ],
            [
             0.7,
             "#b8e186"
            ],
            [
             0.8,
             "#7fbc41"
            ],
            [
             0.9,
             "#4d9221"
            ],
            [
             1,
             "#276419"
            ]
           ],
           "sequential": [
            [
             0,
             "#0d0887"
            ],
            [
             0.1111111111111111,
             "#46039f"
            ],
            [
             0.2222222222222222,
             "#7201a8"
            ],
            [
             0.3333333333333333,
             "#9c179e"
            ],
            [
             0.4444444444444444,
             "#bd3786"
            ],
            [
             0.5555555555555556,
             "#d8576b"
            ],
            [
             0.6666666666666666,
             "#ed7953"
            ],
            [
             0.7777777777777778,
             "#fb9f3a"
            ],
            [
             0.8888888888888888,
             "#fdca26"
            ],
            [
             1,
             "#f0f921"
            ]
           ],
           "sequentialminus": [
            [
             0,
             "#0d0887"
            ],
            [
             0.1111111111111111,
             "#46039f"
            ],
            [
             0.2222222222222222,
             "#7201a8"
            ],
            [
             0.3333333333333333,
             "#9c179e"
            ],
            [
             0.4444444444444444,
             "#bd3786"
            ],
            [
             0.5555555555555556,
             "#d8576b"
            ],
            [
             0.6666666666666666,
             "#ed7953"
            ],
            [
             0.7777777777777778,
             "#fb9f3a"
            ],
            [
             0.8888888888888888,
             "#fdca26"
            ],
            [
             1,
             "#f0f921"
            ]
           ]
          },
          "colorway": [
           "#636efa",
           "#EF553B",
           "#00cc96",
           "#ab63fa",
           "#FFA15A",
           "#19d3f3",
           "#FF6692",
           "#B6E880",
           "#FF97FF",
           "#FECB52"
          ],
          "font": {
           "color": "#2a3f5f"
          },
          "geo": {
           "bgcolor": "white",
           "lakecolor": "white",
           "landcolor": "#E5ECF6",
           "showlakes": true,
           "showland": true,
           "subunitcolor": "white"
          },
          "hoverlabel": {
           "align": "left"
          },
          "hovermode": "closest",
          "mapbox": {
           "style": "light"
          },
          "paper_bgcolor": "white",
          "plot_bgcolor": "#E5ECF6",
          "polar": {
           "angularaxis": {
            "gridcolor": "white",
            "linecolor": "white",
            "ticks": ""
           },
           "bgcolor": "#E5ECF6",
           "radialaxis": {
            "gridcolor": "white",
            "linecolor": "white",
            "ticks": ""
           }
          },
          "scene": {
           "xaxis": {
            "backgroundcolor": "#E5ECF6",
            "gridcolor": "white",
            "gridwidth": 2,
            "linecolor": "white",
            "showbackground": true,
            "ticks": "",
            "zerolinecolor": "white"
           },
           "yaxis": {
            "backgroundcolor": "#E5ECF6",
            "gridcolor": "white",
            "gridwidth": 2,
            "linecolor": "white",
            "showbackground": true,
            "ticks": "",
            "zerolinecolor": "white"
           },
           "zaxis": {
            "backgroundcolor": "#E5ECF6",
            "gridcolor": "white",
            "gridwidth": 2,
            "linecolor": "white",
            "showbackground": true,
            "ticks": "",
            "zerolinecolor": "white"
           }
          },
          "shapedefaults": {
           "line": {
            "color": "#2a3f5f"
           }
          },
          "ternary": {
           "aaxis": {
            "gridcolor": "white",
            "linecolor": "white",
            "ticks": ""
           },
           "baxis": {
            "gridcolor": "white",
            "linecolor": "white",
            "ticks": ""
           },
           "bgcolor": "#E5ECF6",
           "caxis": {
            "gridcolor": "white",
            "linecolor": "white",
            "ticks": ""
           }
          },
          "title": {
           "x": 0.05
          },
          "xaxis": {
           "automargin": true,
           "gridcolor": "white",
           "linecolor": "white",
           "ticks": "",
           "title": {
            "standoff": 15
           },
           "zerolinecolor": "white",
           "zerolinewidth": 2
          },
          "yaxis": {
           "automargin": true,
           "gridcolor": "white",
           "linecolor": "white",
           "ticks": "",
           "title": {
            "standoff": 15
           },
           "zerolinecolor": "white",
           "zerolinewidth": 2
          }
         }
        },
        "xaxis": {
         "anchor": "y",
         "domain": [
          0,
          1
         ],
         "title": {
          "text": "Gain%"
         }
        },
        "yaxis": {
         "anchor": "x",
         "domain": [
          0,
          1
         ],
         "title": {
          "text": "count"
         }
        }
       }
      }
     },
     "metadata": {},
     "output_type": "display_data"
    }
   ],
   "source": [
    "\n",
    "trades = simulate_date_range(\n",
    "    datetime.date(2022, 9, 30), datetime.date(2023, 9, 30), 30, 70, df\n",
    ")\n",
    "\n",
    "total_gain = trades[\"Gain$\"].sum()\n",
    "total_trades = len(trades)\n",
    "\n",
    "average_percent_gain = round(trades[\"Gain%\"].mean(), 2)\n",
    "\n",
    "print(\"Total trades: \" + str(total_trades))\n",
    "print(\"Average percent gain per trade: \" + str(average_percent_gain) + \"%\")\n",
    "print(\"Total percent gain: \" + str(round(total_gain, 2)) + \"%\")\n",
    "\n",
    "# histogram of the percent gain per trade\n",
    "import plotly.express as px\n",
    "\n",
    "fig = px.histogram(trades, x=\"Gain%\", nbins=100)\n",
    "fig.show()"
   ]
  },
  {
   "cell_type": "code",
   "execution_count": 32,
   "metadata": {},
   "outputs": [],
   "source": [
    "# Full stack experiment\n",
    "\n",
    "ticker = 'SPY'\n",
    "\n",
    "def backtest_rsi_indicator(ticker):\n",
    "\n",
    "    filename = '../data/' + ticker + '_1min_firstratedata.csv'\n",
    "    df = pd.read_csv(filename)\n",
    "    df['ticker'] = ticker\n",
    "\n",
    "    df[\"timestamp\"] = pd.to_datetime(df[\"timestamp\"])\n",
    "    df[\"date\"] = df[\"timestamp\"].dt.date\n",
    "    df[\"time\"] = df[\"timestamp\"].dt.time"
   ]
  }
 ],
 "metadata": {
  "kernelspec": {
   "display_name": "Python 3",
   "language": "python",
   "name": "python3"
  },
  "language_info": {
   "codemirror_mode": {
    "name": "ipython",
    "version": 3
   },
   "file_extension": ".py",
   "mimetype": "text/x-python",
   "name": "python",
   "nbconvert_exporter": "python",
   "pygments_lexer": "ipython3",
   "version": "3.12.1"
  }
 },
 "nbformat": 4,
 "nbformat_minor": 2
}
