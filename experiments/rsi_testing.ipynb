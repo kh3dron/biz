{
 "cells": [
  {
   "cell_type": "code",
   "execution_count": 34,
   "metadata": {},
   "outputs": [],
   "source": [
    "import pandas as pd\n",
    "\n",
    "def load_data(ticker):\n",
    "\n",
    "    filename = '../data/' + ticker + '_1min_firstratedata.csv'\n",
    "    df = pd.read_csv(filename)\n",
    "    df['ticker'] = ticker\n",
    "\n",
    "    df[\"timestamp\"] = pd.to_datetime(df[\"timestamp\"])\n",
    "    df[\"date\"] = df[\"timestamp\"].dt.date\n",
    "    df[\"time\"] = df[\"timestamp\"].dt.time\n",
    "    return df\n",
    "\n",
    "ticker = 'SPY'\n",
    "df = load_data(ticker)"
   ]
  },
  {
   "cell_type": "code",
   "execution_count": 35,
   "metadata": {},
   "outputs": [],
   "source": [
    "# Add the RSI indicator with period n to a df\n",
    "\n",
    "def RSI(df, n):\n",
    "    \"function to calculate RSI\"\n",
    "    delta = df[\"close\"].diff()\n",
    "    delta = delta[1:]\n",
    "    up, down = delta.copy(), delta.copy()\n",
    "    up[up < 0] = 0\n",
    "    down[down > 0] = 0\n",
    "    df[\"up\"] = up.round(4)\n",
    "    df[\"down\"] = down.round(4)\n",
    "    AVG_Gain = df[\"up\"].rolling(window=n).mean()\n",
    "    AVG_Loss = abs(df[\"down\"].rolling(window=n).mean())\n",
    "    RS = AVG_Gain / AVG_Loss\n",
    "    RSI = 100.0 - (100.0 / (1.0 + RS))\n",
    "    df[\"RSI_14\"] = RSI.round(4)\n",
    "    df = df.drop(columns=[\"up\", \"down\"])\n",
    "\n",
    "    return df\n",
    "\n",
    "df = RSI(df, 14)\n",
    "\n",
    "#df.head()"
   ]
  },
  {
   "cell_type": "code",
   "execution_count": 36,
   "metadata": {},
   "outputs": [],
   "source": [
    "import datetime\n",
    "import plotly.graph_objects as go\n",
    "\n",
    "\n",
    "# Candlestick chart of one day\n",
    "def chart_range(df, date):\n",
    "    df = df[df[\"date\"] == date]\n",
    "    fig = go.Figure(\n",
    "        data=[\n",
    "            go.Candlestick(\n",
    "                x=df[\"timestamp\"],\n",
    "                open=df[\"open\"],\n",
    "                high=df[\"high\"],\n",
    "                low=df[\"low\"],\n",
    "                close=df[\"close\"],\n",
    "            )\n",
    "        ]\n",
    "    )\n",
    "    fig.show()\n",
    "\n",
    "\n",
    "# chart_range(df, datetime.date(2023, 5, 18))\n",
    "\n",
    "\n",
    "# chart the RSI of one day\n",
    "def chart_rsi(df, date):\n",
    "    df = df[df[\"date\"] == date]\n",
    "    # only chart from 9:30 to 16:00\n",
    "    df = df[df[\"time\"] >= datetime.time(9, 30, 0)]\n",
    "    df = df[df[\"time\"] <= datetime.time(16, 0, 0)]\n",
    "    fig = go.Figure(data=go.Scatter(x=df[\"timestamp\"], y=df[\"RSI_14\"]))\n",
    "    # add horizontal line at 30 and 70\n",
    "    fig.add_shape(\n",
    "        type=\"line\",\n",
    "        x0=df[\"timestamp\"].min(),\n",
    "        y0=30,\n",
    "        x1=df[\"timestamp\"].max(),\n",
    "        y1=30,\n",
    "        line=dict(color=\"RoyalBlue\", width=1, dash=\"dot\"),\n",
    "    )\n",
    "    fig.add_shape(\n",
    "        type=\"line\",\n",
    "        x0=df[\"timestamp\"].min(),\n",
    "        y0=70,\n",
    "        x1=df[\"timestamp\"].max(),\n",
    "        y1=70,\n",
    "        line=dict(color=\"RoyalBlue\", width=1, dash=\"dot\"),\n",
    "    )\n",
    "    fig.show()\n",
    "\n",
    "\n",
    "# chart_rsi(df, datetime.date(2023, 5, 18))\n",
    "\n",
    "\n",
    "def chart_rsi_with_trades(timestamps, rsi_values, enters, exits):\n",
    "    fig = go.Figure(\n",
    "        data=go.Scatter(x=timestamps, y=rsi_values, mode=\"lines\", name=\"RSI\")\n",
    "    )\n",
    "    fig.add_trace(\n",
    "        go.Scatter(\n",
    "            x=enters[\"timestamps\"],\n",
    "            y=enters[\"values\"],\n",
    "            mode=\"markers\",\n",
    "            marker=dict(color=\"green\", size=8),\n",
    "            name=\"Enter\",\n",
    "        )\n",
    "    )\n",
    "    fig.add_trace(\n",
    "        go.Scatter(\n",
    "            x=exits[\"timestamps\"],\n",
    "            y=exits[\"values\"],\n",
    "            mode=\"markers\",\n",
    "            marker=dict(color=\"red\", size=8),\n",
    "            name=\"Exit\",\n",
    "        )\n",
    "    )\n",
    "    # Add horizontal lines at RSI 30 and 70\n",
    "    fig.add_shape(\n",
    "        type=\"line\",\n",
    "        x0=timestamps[0],\n",
    "        y0=30,\n",
    "        x1=timestamps[-1],\n",
    "        y1=30,\n",
    "        line=dict(color=\"RoyalBlue\", width=1, dash=\"dot\"),\n",
    "    )\n",
    "    fig.add_shape(\n",
    "        type=\"line\",\n",
    "        x0=timestamps[0],\n",
    "        y0=70,\n",
    "        x1=timestamps[-1],\n",
    "        y1=70,\n",
    "        line=dict(color=\"RoyalBlue\", width=1, dash=\"dot\"),\n",
    "    )\n",
    "\n",
    "    fig.show()"
   ]
  },
  {
   "cell_type": "code",
   "execution_count": 37,
   "metadata": {},
   "outputs": [],
   "source": [
    "# Simulate one's day of RSI trading, returns a dataframe of trades\n",
    "\n",
    "import datetime\n",
    "import pandas as pd\n",
    "\n",
    "\n",
    "def simulate_trade_RSI(date, entry, exit, df):\n",
    "    # Filter data for the specified date and time range\n",
    "    df_day = df[\n",
    "        (df[\"date\"] == date)\n",
    "        & (df[\"time\"] >= datetime.time(9, 30, 0))\n",
    "        & (df[\"time\"] <= datetime.time(16, 0, 0))\n",
    "    ]\n",
    "\n",
    "    # store trades in new empty dataframe\n",
    "    trade_log = pd.DataFrame(\n",
    "        columns=[\n",
    "            \"Date\",\n",
    "            \"Direction\",\n",
    "            \"Entry\",\n",
    "            \"Exit\",\n",
    "            \"TimeEnter\",\n",
    "            \"TimeExit\",\n",
    "            \"Gain%\",\n",
    "            \"Gain$\",\n",
    "        ]\n",
    "    )\n",
    "\n",
    "    # Initialize variables\n",
    "    trades = 0\n",
    "    in_trade = False\n",
    "\n",
    "    # Iterate through the dataframe\n",
    "    for i in range(1, len(df_day)):\n",
    "        if (\n",
    "            not in_trade\n",
    "            and df_day[\"RSI_14\"].iloc[i - 1] < entry\n",
    "            and df_day[\"RSI_14\"].iloc[i] >= entry\n",
    "        ):\n",
    "            # Buy at entry condition\n",
    "\n",
    "            entry_price = df_day[\"close\"].iloc[i]\n",
    "            in_trade = True\n",
    "            timeEnter = df_day[\"time\"].iloc[i - 1]\n",
    "\n",
    "        elif (\n",
    "            in_trade\n",
    "            and df_day[\"RSI_14\"].iloc[i - 1] > exit\n",
    "            and df_day[\"RSI_14\"].iloc[i] <= exit\n",
    "        ):\n",
    "            # Sell at exit condition\n",
    "            exit_price = df_day[\"close\"].iloc[i]\n",
    "\n",
    "            # Calculate gain for the trade\n",
    "            if entry_price != 0:\n",
    "                trade_gain_percent = ((exit_price - entry_price) / entry_price) * 100\n",
    "                trade_gain_percent = round(trade_gain_percent, 2)\n",
    "\n",
    "                trade_gain_net = exit_price - entry_price\n",
    "                trade_gain_net = round(trade_gain_net, 2)\n",
    "\n",
    "                trades += 1\n",
    "\n",
    "                # Append trade details to the trade log DataFrame\n",
    "                trade_log.loc[len(trade_log)] = {\n",
    "                    \"Date\": date,\n",
    "                    \"Direction\": \"Long\",\n",
    "                    \"Entry\": entry_price,\n",
    "                    \"Exit\": exit_price,\n",
    "                    \"TimeEnter\": timeEnter,\n",
    "                    \"TimeExit\": df_day[\"time\"].iloc[i],\n",
    "                    \"Gain%\": trade_gain_percent,\n",
    "                    \"Gain$\": trade_gain_net,\n",
    "                }\n",
    "\n",
    "                # Reset trade variables\n",
    "                entry_price = 0\n",
    "                exit_price = 0\n",
    "                in_trade = False\n",
    "\n",
    "    return trade_log\n",
    "\n",
    "\n",
    "# simulate_trade_RSI(datetime.date(2023, 5, 18), 30, 70, df)"
   ]
  },
  {
   "cell_type": "code",
   "execution_count": 38,
   "metadata": {},
   "outputs": [],
   "source": [
    "# Combine the simulated trades for a range of dates into a single dataframe\n",
    "\n",
    "def simulate_date_range(start_date, end_date, entry, exit, df):\n",
    "    day_datas = []\n",
    "\n",
    "    for n in range((end_date - start_date).days + 1):\n",
    "        date = start_date + datetime.timedelta(n)\n",
    "        day_data = simulate_trade_RSI(date, entry, exit, df)\n",
    "        if day_data is not None:\n",
    "            day_datas.append(day_data)\n",
    "\n",
    "    day_datas = pd.concat(day_datas, ignore_index=True)\n",
    "\n",
    "    return day_datas"
   ]
  },
  {
   "cell_type": "code",
   "execution_count": 39,
   "metadata": {},
   "outputs": [
    {
     "name": "stderr",
     "output_type": "stream",
     "text": [
      "/var/folders/hb/0dd7xx3d4mzgbx_w9m1fmb2h0000gn/T/ipykernel_9734/1167655356.py:12: FutureWarning:\n",
      "\n",
      "The behavior of DataFrame concatenation with empty or all-NA entries is deprecated. In a future version, this will no longer exclude empty or all-NA columns when determining the result dtypes. To retain the old behavior, exclude the relevant entries before the concat operation.\n",
      "\n"
     ]
    }
   ],
   "source": [
    "trades = simulate_date_range(datetime.date(2022, 9, 30), datetime.date(2023, 9, 30), 30, 70, df)\n",
    "\n",
    "# post-processing of the trades dataframe\n",
    "\n",
    "def rsi_backtest_explain_results(trades):\n",
    "\n",
    "    total_gain = trades[\"Gain$\"].sum()\n",
    "    total_trades = len(trades)\n",
    "\n",
    "    average_percent_gain = round(trades[\"Gain%\"].mean(), 2)\n",
    "\n",
    "    print(\"Total trades: \" + str(total_trades))\n",
    "    print(\"Average percent gain per trade: \" + str(average_percent_gain) + \"%\")\n",
    "    print(\"Total percent gain: \" + str(round(total_gain, 2)) + \"%\")\n",
    "\n",
    "    # histogram of the percent gain per trade\n",
    "    import plotly.express as px\n",
    "\n",
    "    fig = px.histogram(trades, x=\"Gain%\", nbins=100)\n",
    "    fig.show()"
   ]
  },
  {
   "cell_type": "code",
   "execution_count": 43,
   "metadata": {},
   "outputs": [
    {
     "name": "stdout",
     "output_type": "stream",
     "text": [
      "(30, 70)\n",
      "Total trades: 952\n",
      "Average percent gain per trade: 0.02%\n",
      "Total percent gain: 76.08%\n"
     ]
    },
    {
     "name": "stderr",
     "output_type": "stream",
     "text": [
      "/var/folders/hb/0dd7xx3d4mzgbx_w9m1fmb2h0000gn/T/ipykernel_9734/1167655356.py:12: FutureWarning:\n",
      "\n",
      "The behavior of DataFrame concatenation with empty or all-NA entries is deprecated. In a future version, this will no longer exclude empty or all-NA columns when determining the result dtypes. To retain the old behavior, exclude the relevant entries before the concat operation.\n",
      "\n"
     ]
    },
    {
     "data": {
      "application/vnd.plotly.v1+json": {
       "config": {
        "plotlyServerURL": "https://plot.ly"
       },
       "data": [
        {
         "alignmentgroup": "True",
         "bingroup": "x",
         "hovertemplate": "Gain%=%{x}<br>count=%{y}<extra></extra>",
         "legendgroup": "",
         "marker": {
          "color": "#636efa",
          "pattern": {
           "shape": ""
          }
         },
         "name": "",
         "nbinsx": 100,
         "offsetgroup": "",
         "orientation": "v",
         "showlegend": false,
         "type": "histogram",
         "x": [
          -0.41,
          -0.3,
          0.18,
          0.21,
          0.21,
          0.09,
          0.06,
          0.04,
          -0.46,
          0.31,
          -0.07,
          0.06,
          -0.01,
          0.13,
          -0.01,
          -0.1,
          -0.57,
          -0.57,
          -0.07,
          0.3,
          -0.3,
          0.12,
          0.24,
          -0.4,
          0.22,
          -0.31,
          0.33,
          0.4,
          -0.1,
          0.12,
          0.2,
          0.14,
          -0.09,
          0.24,
          1.01,
          0.19,
          0.16,
          -0.03,
          -1.54,
          -0.56,
          -0.04,
          0.02,
          0.24,
          -0.13,
          0.11,
          0.11,
          0.1,
          0.03,
          -0.61,
          0.2,
          0.21,
          -0.41,
          0.28,
          -0.1,
          0.15,
          -0.65,
          0.23,
          0.21,
          0.3,
          0.22,
          0.06,
          -0.54,
          -0.08,
          0.25,
          -0.3,
          0.25,
          0.48,
          0.32,
          0.08,
          0.11,
          0.03,
          0.07,
          0.05,
          0.14,
          -0.07,
          0.1,
          0.09,
          -0.66,
          -0.08,
          0.76,
          -0.3,
          0.02,
          -0.19,
          0.26,
          0.1,
          0.09,
          -0.16,
          0.17,
          0.01,
          0.22,
          0.14,
          0.1,
          -1.36,
          0.24,
          -0.07,
          0.17,
          -0.18,
          0.41,
          0.5,
          0.39,
          0.05,
          0.13,
          0.39,
          -0.06,
          0.06,
          0.49,
          -1.22,
          -0.01,
          0.22,
          0.45,
          0.2,
          -0.03,
          0.06,
          0.15,
          0.16,
          0.06,
          0.04,
          -0.07,
          0.24,
          -0.21,
          -0.59,
          0.06,
          0.39,
          0.06,
          0.39,
          0.03,
          0.13,
          0.11,
          0.12,
          0.06,
          0.1,
          0.25,
          0.13,
          -0.16,
          0.29,
          0,
          0.23,
          -0.46,
          0.16,
          0.14,
          -0.11,
          0.19,
          0.35,
          -0.04,
          -0.11,
          -0.18,
          -0.27,
          0.17,
          0.14,
          0.34,
          0.12,
          -0.27,
          0.11,
          -0.06,
          0.04,
          -0.28,
          0.02,
          0.15,
          0.07,
          -0.02,
          -0.01,
          0.04,
          -0.11,
          0.05,
          0.02,
          -0.36,
          -0.12,
          0.15,
          -0.48,
          -0.05,
          0,
          0.02,
          0.19,
          0.03,
          0.35,
          0.14,
          0.11,
          0.17,
          0.09,
          0.09,
          0.12,
          0.21,
          0.13,
          -0.07,
          0.09,
          -0.15,
          -0.16,
          -0.06,
          -0.02,
          0.04,
          -0.04,
          0.22,
          -1.01,
          -0.24,
          -0.15,
          0.27,
          0.27,
          0.21,
          0.11,
          0.08,
          0.02,
          0.52,
          0.08,
          0.05,
          0.23,
          0.1,
          -0.23,
          0.08,
          0.23,
          0.07,
          0.06,
          0.13,
          0.14,
          -0.8,
          0.04,
          -0.08,
          0.23,
          0.07,
          0.1,
          -0.07,
          -0.01,
          0.07,
          0.13,
          0.04,
          -0.35,
          -0.31,
          0.01,
          0.32,
          0.29,
          -0.4,
          0.12,
          0.08,
          -0.17,
          -0.01,
          0.07,
          0.08,
          -0.08,
          0.15,
          0.07,
          0.11,
          -1.7,
          0.75,
          -0.19,
          0.1,
          0.11,
          0.05,
          0.47,
          0.1,
          0.13,
          0.04,
          -0.24,
          0.15,
          -1.05,
          -0.09,
          0.18,
          0.01,
          0.15,
          0,
          0.25,
          -0.04,
          0.05,
          -0.1,
          0.24,
          -0.96,
          -0.22,
          0.18,
          0.18,
          0.39,
          -0.09,
          -0.37,
          -0.24,
          -0.16,
          0.26,
          0.4,
          0.15,
          0.37,
          -0.07,
          0.51,
          0.03,
          -0.2,
          0.02,
          0.38,
          0.5,
          0.14,
          0.15,
          0.11,
          0.12,
          0.11,
          0.06,
          0.01,
          0.41,
          -0.04,
          0.34,
          -0.22,
          0.22,
          0.09,
          0.06,
          -0.04,
          0.01,
          0.18,
          -1.26,
          0.02,
          -0.11,
          0.08,
          0.15,
          0.3,
          0.04,
          0.06,
          0.01,
          -0.51,
          0.13,
          0.09,
          0.06,
          -0.26,
          0.11,
          0.19,
          0.14,
          0.33,
          -0.22,
          0.14,
          0.16,
          0.05,
          -0.12,
          0.08,
          0.06,
          0.09,
          -0.09,
          0.02,
          0.03,
          -0.17,
          0.05,
          0.08,
          0.11,
          0.15,
          -0.12,
          0.02,
          1.25,
          0.64,
          0.07,
          0.15,
          0.12,
          -0.11,
          0.31,
          0.12,
          0,
          0.09,
          -0.08,
          0.22,
          -0.04,
          0.04,
          -0.06,
          0.14,
          0.04,
          -0.13,
          -0.33,
          0.3,
          0.12,
          0.03,
          -0.51,
          -0.57,
          0.54,
          0.17,
          -0.17,
          0.07,
          0.22,
          0.22,
          0.06,
          -0.05,
          0.09,
          -0.2,
          0.46,
          0.06,
          0.29,
          0.22,
          0.14,
          0.16,
          0.23,
          0.02,
          0.06,
          -0.06,
          0.23,
          -0.08,
          0.02,
          0.14,
          -0.17,
          -0.25,
          -0.16,
          0.08,
          0.12,
          0.13,
          0.28,
          0.09,
          -0.85,
          -0.01,
          -0.15,
          0.16,
          0.13,
          0.06,
          -0.02,
          0.12,
          0.23,
          -0.3,
          0.11,
          0.14,
          0.12,
          -0.31,
          0.24,
          0.15,
          -0.31,
          0.07,
          -0.01,
          0.15,
          0.07,
          0.15,
          0.11,
          0.36,
          0.04,
          0.07,
          -0.38,
          0.04,
          -0.05,
          0.46,
          -0.07,
          -0.53,
          0.06,
          0.11,
          0.1,
          0.24,
          -0.06,
          -0.11,
          0.35,
          0.08,
          0.19,
          -0.22,
          0.26,
          0.6,
          -0.06,
          -0.46,
          0.3,
          -0.14,
          0.46,
          0.67,
          0.1,
          0.1,
          -0.1,
          0,
          0.37,
          0.13,
          -0.08,
          0.14,
          1.04,
          0.14,
          -0.14,
          0.29,
          0.06,
          0.14,
          0.06,
          -0.08,
          0.25,
          -0.26,
          -0.06,
          0.11,
          -0.06,
          0.12,
          0.1,
          0.02,
          0.05,
          -0.3,
          0.44,
          -0.65,
          -0.55,
          0.25,
          -0.08,
          0.2,
          0.18,
          0.03,
          0.23,
          -0.02,
          -0.22,
          0.12,
          0.18,
          0.24,
          -0.05,
          -0.26,
          0.03,
          0.1,
          -0.02,
          -0.03,
          -0.25,
          0.07,
          0.08,
          -0.06,
          0.02,
          0.25,
          0,
          0.15,
          0.25,
          -0.09,
          -0.57,
          0.08,
          0.1,
          -0.1,
          0.09,
          0.02,
          -0.02,
          0.21,
          0.07,
          0.18,
          0.09,
          0.18,
          0.05,
          0.03,
          0.13,
          0.01,
          0,
          0.05,
          0.09,
          0.05,
          -0.05,
          -0.12,
          0.08,
          0.11,
          0.1,
          -0.49,
          0.09,
          0.27,
          -0.16,
          -0.09,
          0,
          -0.14,
          0.14,
          0.05,
          0.08,
          0.05,
          0,
          0.05,
          0.15,
          0.05,
          0.05,
          -0.35,
          0.17,
          0.13,
          0.02,
          0.04,
          -0.12,
          -0.38,
          0.12,
          0.06,
          -0.04,
          -0.02,
          -0.4,
          0.1,
          0.1,
          -0.63,
          0.24,
          0.04,
          0.1,
          0.13,
          0.09,
          -0.05,
          -0.01,
          0.06,
          0.09,
          0.15,
          -0.08,
          -1.26,
          -0.01,
          -0.28,
          0.03,
          0.14,
          -0.09,
          0,
          0.2,
          -0.23,
          0.27,
          0.04,
          0.09,
          -0.06,
          0.07,
          0.05,
          0.21,
          -0.01,
          0.16,
          0.03,
          0.08,
          0.04,
          0.3,
          -0.18,
          -0.2,
          -0.06,
          0.02,
          0.05,
          0.09,
          -0.42,
          0.05,
          -0.14,
          -0.01,
          -0.18,
          0.06,
          0.13,
          0.06,
          0,
          0.1,
          0.03,
          0.06,
          -0.06,
          -0.05,
          0.1,
          0.09,
          -0.16,
          0.19,
          0.05,
          0.04,
          -0.16,
          0.18,
          0.05,
          0.08,
          0.01,
          0.16,
          0.07,
          0.05,
          0.12,
          0.1,
          0.06,
          0.05,
          -0.17,
          -0.26,
          -0.08,
          -0.19,
          0.09,
          0.46,
          0,
          0.21,
          -0.05,
          0.07,
          0.05,
          0.03,
          -0.12,
          -0.02,
          0.19,
          0.15,
          -0.26,
          0.03,
          0.09,
          0.13,
          0.04,
          0.17,
          -0.01,
          0.06,
          0.11,
          0.09,
          0.09,
          -0.41,
          0.13,
          0.04,
          0.08,
          -0.08,
          0.04,
          0.09,
          -0.14,
          -0.07,
          0.09,
          -0.02,
          0.09,
          0.19,
          -0.02,
          0.03,
          -0.01,
          0.06,
          0.06,
          0.05,
          0,
          0.1,
          0.26,
          0.07,
          -0.05,
          0.1,
          0.17,
          -0.11,
          0,
          -0.36,
          0.1,
          0.45,
          0,
          0.04,
          0.02,
          -0.42,
          0.01,
          0.04,
          -0.03,
          0.13,
          0.06,
          0.07,
          -0.26,
          0.09,
          -0.03,
          0.06,
          0.15,
          0.03,
          -0.27,
          -0.03,
          0,
          0.01,
          0.09,
          0.1,
          0.11,
          0.19,
          0.1,
          0.17,
          -0.22,
          0.08,
          0.03,
          0.05,
          0.22,
          0,
          0.07,
          0.05,
          0.15,
          0.01,
          0.13,
          0.03,
          -0.03,
          0.03,
          0.11,
          -0.29,
          0.09,
          0.1,
          0,
          0,
          -0.05,
          0.09,
          0,
          0,
          -0.06,
          0,
          0.03,
          -0.28,
          -0.02,
          0.07,
          0.04,
          0.11,
          0.06,
          -0.02,
          -0.04,
          0.07,
          -0.09,
          -0.02,
          0.05,
          0.09,
          -0.03,
          -0.1,
          0.06,
          -0.22,
          0.1,
          0.03,
          -0.01,
          -0.2,
          0.05,
          -0.16,
          0.03,
          0.02,
          0.06,
          -0.05,
          0.04,
          0.07,
          -0.02,
          -0.03,
          0.02,
          0.04,
          0.02,
          0.04,
          0.04,
          0.06,
          0.39,
          0.14,
          -0.12,
          -0.03,
          0.07,
          -0.9,
          0.08,
          -0.19,
          0.11,
          -0.1,
          -0.01,
          0.07,
          -0.03,
          0.04,
          0.02,
          0.06,
          0.07,
          -0.03,
          -0.43,
          -0.08,
          -0.12,
          0.08,
          -0.03,
          -0.08,
          -0.04,
          -0.09,
          0.07,
          0.02,
          0.16,
          0,
          0.07,
          0,
          0.02,
          -0.1,
          0.1,
          0.2,
          -0.68,
          -0.04,
          -0.15,
          -0.04,
          -0.08,
          0.18,
          -0.16,
          -0.08,
          0.15,
          0.09,
          0.15,
          0.05,
          0.06,
          0.06,
          -0.24,
          0.02,
          0.05,
          -0.31,
          0.12,
          -0.29,
          0.07,
          0.25,
          -0.08,
          0.08,
          0.1,
          -0.61,
          0.15,
          0.22,
          0.04,
          -0.02,
          -0.03,
          0.14,
          -0.23,
          0.09,
          0.1,
          -0.26,
          -0.18,
          -0.06,
          0.2,
          -0.13,
          0.08,
          0.07,
          0.24,
          0,
          0.22,
          -0.57,
          -0.21,
          -0.34,
          0.07,
          -0.28,
          -0.19,
          0.08,
          0.14,
          0.02,
          0.06,
          0.11,
          0.28,
          0.04,
          -0.12,
          -0.05,
          0.09,
          0.09,
          0.14,
          -0.22,
          0.11,
          0.02,
          -0.02,
          0.02,
          0.01,
          0.05,
          -0.48,
          -0.11,
          0.1,
          0.18,
          0.07,
          0.1,
          0.03,
          0.04,
          0.06,
          0.01,
          -0.06,
          0.06,
          -0.05,
          0.05,
          0.1,
          0.11,
          0.08,
          0,
          0.02,
          -0.25,
          0.3,
          -0.23,
          0.05,
          0.04,
          0.02,
          0,
          -0.42,
          0.1,
          -0.02,
          0.14,
          0.07,
          0.05,
          -0.18,
          0.06,
          -0.12,
          0.04,
          0.19,
          0.05,
          0.06,
          0.03,
          -0.29,
          0.26,
          0.05,
          -0.07,
          -0.09,
          0.08,
          0.2,
          0.15,
          0.07,
          -0.53,
          0.35,
          0.13,
          0.17,
          0.01,
          0.12,
          -0.07,
          -0.27,
          -0.01,
          -0.18,
          -0.03,
          0.14,
          -0.13,
          -0.3,
          0.1,
          0.15,
          -0.02,
          0.14,
          0.05,
          -0.03,
          0.06,
          -0.26,
          0.19,
          0.14
         ],
         "xaxis": "x",
         "yaxis": "y"
        }
       ],
       "layout": {
        "barmode": "relative",
        "legend": {
         "tracegroupgap": 0
        },
        "margin": {
         "t": 60
        },
        "template": {
         "data": {
          "bar": [
           {
            "error_x": {
             "color": "#2a3f5f"
            },
            "error_y": {
             "color": "#2a3f5f"
            },
            "marker": {
             "line": {
              "color": "#E5ECF6",
              "width": 0.5
             },
             "pattern": {
              "fillmode": "overlay",
              "size": 10,
              "solidity": 0.2
             }
            },
            "type": "bar"
           }
          ],
          "barpolar": [
           {
            "marker": {
             "line": {
              "color": "#E5ECF6",
              "width": 0.5
             },
             "pattern": {
              "fillmode": "overlay",
              "size": 10,
              "solidity": 0.2
             }
            },
            "type": "barpolar"
           }
          ],
          "carpet": [
           {
            "aaxis": {
             "endlinecolor": "#2a3f5f",
             "gridcolor": "white",
             "linecolor": "white",
             "minorgridcolor": "white",
             "startlinecolor": "#2a3f5f"
            },
            "baxis": {
             "endlinecolor": "#2a3f5f",
             "gridcolor": "white",
             "linecolor": "white",
             "minorgridcolor": "white",
             "startlinecolor": "#2a3f5f"
            },
            "type": "carpet"
           }
          ],
          "choropleth": [
           {
            "colorbar": {
             "outlinewidth": 0,
             "ticks": ""
            },
            "type": "choropleth"
           }
          ],
          "contour": [
           {
            "colorbar": {
             "outlinewidth": 0,
             "ticks": ""
            },
            "colorscale": [
             [
              0,
              "#0d0887"
             ],
             [
              0.1111111111111111,
              "#46039f"
             ],
             [
              0.2222222222222222,
              "#7201a8"
             ],
             [
              0.3333333333333333,
              "#9c179e"
             ],
             [
              0.4444444444444444,
              "#bd3786"
             ],
             [
              0.5555555555555556,
              "#d8576b"
             ],
             [
              0.6666666666666666,
              "#ed7953"
             ],
             [
              0.7777777777777778,
              "#fb9f3a"
             ],
             [
              0.8888888888888888,
              "#fdca26"
             ],
             [
              1,
              "#f0f921"
             ]
            ],
            "type": "contour"
           }
          ],
          "contourcarpet": [
           {
            "colorbar": {
             "outlinewidth": 0,
             "ticks": ""
            },
            "type": "contourcarpet"
           }
          ],
          "heatmap": [
           {
            "colorbar": {
             "outlinewidth": 0,
             "ticks": ""
            },
            "colorscale": [
             [
              0,
              "#0d0887"
             ],
             [
              0.1111111111111111,
              "#46039f"
             ],
             [
              0.2222222222222222,
              "#7201a8"
             ],
             [
              0.3333333333333333,
              "#9c179e"
             ],
             [
              0.4444444444444444,
              "#bd3786"
             ],
             [
              0.5555555555555556,
              "#d8576b"
             ],
             [
              0.6666666666666666,
              "#ed7953"
             ],
             [
              0.7777777777777778,
              "#fb9f3a"
             ],
             [
              0.8888888888888888,
              "#fdca26"
             ],
             [
              1,
              "#f0f921"
             ]
            ],
            "type": "heatmap"
           }
          ],
          "heatmapgl": [
           {
            "colorbar": {
             "outlinewidth": 0,
             "ticks": ""
            },
            "colorscale": [
             [
              0,
              "#0d0887"
             ],
             [
              0.1111111111111111,
              "#46039f"
             ],
             [
              0.2222222222222222,
              "#7201a8"
             ],
             [
              0.3333333333333333,
              "#9c179e"
             ],
             [
              0.4444444444444444,
              "#bd3786"
             ],
             [
              0.5555555555555556,
              "#d8576b"
             ],
             [
              0.6666666666666666,
              "#ed7953"
             ],
             [
              0.7777777777777778,
              "#fb9f3a"
             ],
             [
              0.8888888888888888,
              "#fdca26"
             ],
             [
              1,
              "#f0f921"
             ]
            ],
            "type": "heatmapgl"
           }
          ],
          "histogram": [
           {
            "marker": {
             "pattern": {
              "fillmode": "overlay",
              "size": 10,
              "solidity": 0.2
             }
            },
            "type": "histogram"
           }
          ],
          "histogram2d": [
           {
            "colorbar": {
             "outlinewidth": 0,
             "ticks": ""
            },
            "colorscale": [
             [
              0,
              "#0d0887"
             ],
             [
              0.1111111111111111,
              "#46039f"
             ],
             [
              0.2222222222222222,
              "#7201a8"
             ],
             [
              0.3333333333333333,
              "#9c179e"
             ],
             [
              0.4444444444444444,
              "#bd3786"
             ],
             [
              0.5555555555555556,
              "#d8576b"
             ],
             [
              0.6666666666666666,
              "#ed7953"
             ],
             [
              0.7777777777777778,
              "#fb9f3a"
             ],
             [
              0.8888888888888888,
              "#fdca26"
             ],
             [
              1,
              "#f0f921"
             ]
            ],
            "type": "histogram2d"
           }
          ],
          "histogram2dcontour": [
           {
            "colorbar": {
             "outlinewidth": 0,
             "ticks": ""
            },
            "colorscale": [
             [
              0,
              "#0d0887"
             ],
             [
              0.1111111111111111,
              "#46039f"
             ],
             [
              0.2222222222222222,
              "#7201a8"
             ],
             [
              0.3333333333333333,
              "#9c179e"
             ],
             [
              0.4444444444444444,
              "#bd3786"
             ],
             [
              0.5555555555555556,
              "#d8576b"
             ],
             [
              0.6666666666666666,
              "#ed7953"
             ],
             [
              0.7777777777777778,
              "#fb9f3a"
             ],
             [
              0.8888888888888888,
              "#fdca26"
             ],
             [
              1,
              "#f0f921"
             ]
            ],
            "type": "histogram2dcontour"
           }
          ],
          "mesh3d": [
           {
            "colorbar": {
             "outlinewidth": 0,
             "ticks": ""
            },
            "type": "mesh3d"
           }
          ],
          "parcoords": [
           {
            "line": {
             "colorbar": {
              "outlinewidth": 0,
              "ticks": ""
             }
            },
            "type": "parcoords"
           }
          ],
          "pie": [
           {
            "automargin": true,
            "type": "pie"
           }
          ],
          "scatter": [
           {
            "fillpattern": {
             "fillmode": "overlay",
             "size": 10,
             "solidity": 0.2
            },
            "type": "scatter"
           }
          ],
          "scatter3d": [
           {
            "line": {
             "colorbar": {
              "outlinewidth": 0,
              "ticks": ""
             }
            },
            "marker": {
             "colorbar": {
              "outlinewidth": 0,
              "ticks": ""
             }
            },
            "type": "scatter3d"
           }
          ],
          "scattercarpet": [
           {
            "marker": {
             "colorbar": {
              "outlinewidth": 0,
              "ticks": ""
             }
            },
            "type": "scattercarpet"
           }
          ],
          "scattergeo": [
           {
            "marker": {
             "colorbar": {
              "outlinewidth": 0,
              "ticks": ""
             }
            },
            "type": "scattergeo"
           }
          ],
          "scattergl": [
           {
            "marker": {
             "colorbar": {
              "outlinewidth": 0,
              "ticks": ""
             }
            },
            "type": "scattergl"
           }
          ],
          "scattermapbox": [
           {
            "marker": {
             "colorbar": {
              "outlinewidth": 0,
              "ticks": ""
             }
            },
            "type": "scattermapbox"
           }
          ],
          "scatterpolar": [
           {
            "marker": {
             "colorbar": {
              "outlinewidth": 0,
              "ticks": ""
             }
            },
            "type": "scatterpolar"
           }
          ],
          "scatterpolargl": [
           {
            "marker": {
             "colorbar": {
              "outlinewidth": 0,
              "ticks": ""
             }
            },
            "type": "scatterpolargl"
           }
          ],
          "scatterternary": [
           {
            "marker": {
             "colorbar": {
              "outlinewidth": 0,
              "ticks": ""
             }
            },
            "type": "scatterternary"
           }
          ],
          "surface": [
           {
            "colorbar": {
             "outlinewidth": 0,
             "ticks": ""
            },
            "colorscale": [
             [
              0,
              "#0d0887"
             ],
             [
              0.1111111111111111,
              "#46039f"
             ],
             [
              0.2222222222222222,
              "#7201a8"
             ],
             [
              0.3333333333333333,
              "#9c179e"
             ],
             [
              0.4444444444444444,
              "#bd3786"
             ],
             [
              0.5555555555555556,
              "#d8576b"
             ],
             [
              0.6666666666666666,
              "#ed7953"
             ],
             [
              0.7777777777777778,
              "#fb9f3a"
             ],
             [
              0.8888888888888888,
              "#fdca26"
             ],
             [
              1,
              "#f0f921"
             ]
            ],
            "type": "surface"
           }
          ],
          "table": [
           {
            "cells": {
             "fill": {
              "color": "#EBF0F8"
             },
             "line": {
              "color": "white"
             }
            },
            "header": {
             "fill": {
              "color": "#C8D4E3"
             },
             "line": {
              "color": "white"
             }
            },
            "type": "table"
           }
          ]
         },
         "layout": {
          "annotationdefaults": {
           "arrowcolor": "#2a3f5f",
           "arrowhead": 0,
           "arrowwidth": 1
          },
          "autotypenumbers": "strict",
          "coloraxis": {
           "colorbar": {
            "outlinewidth": 0,
            "ticks": ""
           }
          },
          "colorscale": {
           "diverging": [
            [
             0,
             "#8e0152"
            ],
            [
             0.1,
             "#c51b7d"
            ],
            [
             0.2,
             "#de77ae"
            ],
            [
             0.3,
             "#f1b6da"
            ],
            [
             0.4,
             "#fde0ef"
            ],
            [
             0.5,
             "#f7f7f7"
            ],
            [
             0.6,
             "#e6f5d0"
            ],
            [
             0.7,
             "#b8e186"
            ],
            [
             0.8,
             "#7fbc41"
            ],
            [
             0.9,
             "#4d9221"
            ],
            [
             1,
             "#276419"
            ]
           ],
           "sequential": [
            [
             0,
             "#0d0887"
            ],
            [
             0.1111111111111111,
             "#46039f"
            ],
            [
             0.2222222222222222,
             "#7201a8"
            ],
            [
             0.3333333333333333,
             "#9c179e"
            ],
            [
             0.4444444444444444,
             "#bd3786"
            ],
            [
             0.5555555555555556,
             "#d8576b"
            ],
            [
             0.6666666666666666,
             "#ed7953"
            ],
            [
             0.7777777777777778,
             "#fb9f3a"
            ],
            [
             0.8888888888888888,
             "#fdca26"
            ],
            [
             1,
             "#f0f921"
            ]
           ],
           "sequentialminus": [
            [
             0,
             "#0d0887"
            ],
            [
             0.1111111111111111,
             "#46039f"
            ],
            [
             0.2222222222222222,
             "#7201a8"
            ],
            [
             0.3333333333333333,
             "#9c179e"
            ],
            [
             0.4444444444444444,
             "#bd3786"
            ],
            [
             0.5555555555555556,
             "#d8576b"
            ],
            [
             0.6666666666666666,
             "#ed7953"
            ],
            [
             0.7777777777777778,
             "#fb9f3a"
            ],
            [
             0.8888888888888888,
             "#fdca26"
            ],
            [
             1,
             "#f0f921"
            ]
           ]
          },
          "colorway": [
           "#636efa",
           "#EF553B",
           "#00cc96",
           "#ab63fa",
           "#FFA15A",
           "#19d3f3",
           "#FF6692",
           "#B6E880",
           "#FF97FF",
           "#FECB52"
          ],
          "font": {
           "color": "#2a3f5f"
          },
          "geo": {
           "bgcolor": "white",
           "lakecolor": "white",
           "landcolor": "#E5ECF6",
           "showlakes": true,
           "showland": true,
           "subunitcolor": "white"
          },
          "hoverlabel": {
           "align": "left"
          },
          "hovermode": "closest",
          "mapbox": {
           "style": "light"
          },
          "paper_bgcolor": "white",
          "plot_bgcolor": "#E5ECF6",
          "polar": {
           "angularaxis": {
            "gridcolor": "white",
            "linecolor": "white",
            "ticks": ""
           },
           "bgcolor": "#E5ECF6",
           "radialaxis": {
            "gridcolor": "white",
            "linecolor": "white",
            "ticks": ""
           }
          },
          "scene": {
           "xaxis": {
            "backgroundcolor": "#E5ECF6",
            "gridcolor": "white",
            "gridwidth": 2,
            "linecolor": "white",
            "showbackground": true,
            "ticks": "",
            "zerolinecolor": "white"
           },
           "yaxis": {
            "backgroundcolor": "#E5ECF6",
            "gridcolor": "white",
            "gridwidth": 2,
            "linecolor": "white",
            "showbackground": true,
            "ticks": "",
            "zerolinecolor": "white"
           },
           "zaxis": {
            "backgroundcolor": "#E5ECF6",
            "gridcolor": "white",
            "gridwidth": 2,
            "linecolor": "white",
            "showbackground": true,
            "ticks": "",
            "zerolinecolor": "white"
           }
          },
          "shapedefaults": {
           "line": {
            "color": "#2a3f5f"
           }
          },
          "ternary": {
           "aaxis": {
            "gridcolor": "white",
            "linecolor": "white",
            "ticks": ""
           },
           "baxis": {
            "gridcolor": "white",
            "linecolor": "white",
            "ticks": ""
           },
           "bgcolor": "#E5ECF6",
           "caxis": {
            "gridcolor": "white",
            "linecolor": "white",
            "ticks": ""
           }
          },
          "title": {
           "x": 0.05
          },
          "xaxis": {
           "automargin": true,
           "gridcolor": "white",
           "linecolor": "white",
           "ticks": "",
           "title": {
            "standoff": 15
           },
           "zerolinecolor": "white",
           "zerolinewidth": 2
          },
          "yaxis": {
           "automargin": true,
           "gridcolor": "white",
           "linecolor": "white",
           "ticks": "",
           "title": {
            "standoff": 15
           },
           "zerolinecolor": "white",
           "zerolinewidth": 2
          }
         }
        },
        "xaxis": {
         "anchor": "y",
         "domain": [
          0,
          1
         ],
         "title": {
          "text": "Gain%"
         }
        },
        "yaxis": {
         "anchor": "x",
         "domain": [
          0,
          1
         ],
         "title": {
          "text": "count"
         }
        }
       }
      }
     },
     "metadata": {},
     "output_type": "display_data"
    },
    {
     "name": "stdout",
     "output_type": "stream",
     "text": [
      "(20, 80)\n",
      "Total trades: 336\n",
      "Average percent gain per trade: 0.09%\n",
      "Total percent gain: 127.58%\n"
     ]
    },
    {
     "name": "stderr",
     "output_type": "stream",
     "text": [
      "/var/folders/hb/0dd7xx3d4mzgbx_w9m1fmb2h0000gn/T/ipykernel_9734/1167655356.py:12: FutureWarning:\n",
      "\n",
      "The behavior of DataFrame concatenation with empty or all-NA entries is deprecated. In a future version, this will no longer exclude empty or all-NA columns when determining the result dtypes. To retain the old behavior, exclude the relevant entries before the concat operation.\n",
      "\n"
     ]
    },
    {
     "data": {
      "application/vnd.plotly.v1+json": {
       "config": {
        "plotlyServerURL": "https://plot.ly"
       },
       "data": [
        {
         "alignmentgroup": "True",
         "bingroup": "x",
         "hovertemplate": "Gain%=%{x}<br>count=%{y}<extra></extra>",
         "legendgroup": "",
         "marker": {
          "color": "#636efa",
          "pattern": {
           "shape": ""
          }
         },
         "name": "",
         "nbinsx": 100,
         "offsetgroup": "",
         "orientation": "v",
         "showlegend": false,
         "type": "histogram",
         "x": [
          0.06,
          0.95,
          0.08,
          -0.18,
          0.1,
          0.5,
          0.16,
          0.18,
          -0.58,
          -0.41,
          0.15,
          0.43,
          0.06,
          0.06,
          0.43,
          0.47,
          1.32,
          0.63,
          0.49,
          -0.16,
          0.06,
          -0.8,
          0.14,
          0.78,
          -0.57,
          0.84,
          0.24,
          0.19,
          0.18,
          -0.01,
          0.35,
          -0.71,
          0.42,
          -0.96,
          0.21,
          0.07,
          1.02,
          0.13,
          -1.19,
          0.27,
          0.46,
          -0.93,
          0.26,
          0.25,
          0.26,
          0.2,
          0.3,
          0.47,
          0.2,
          -0.3,
          0.36,
          0.13,
          0.04,
          0.1,
          0.08,
          -0.18,
          -0.2,
          0.06,
          0.09,
          0.1,
          0.37,
          0.16,
          -0.7,
          -0.17,
          -0.13,
          0.48,
          0.58,
          0.36,
          0.15,
          0.62,
          -1.63,
          -0.04,
          -0.26,
          0.36,
          0.39,
          -0.08,
          0.07,
          -0.17,
          -0.92,
          0.28,
          0.2,
          0.3,
          0.04,
          0.2,
          -0.68,
          0.23,
          0.4,
          0.14,
          0.18,
          -0.69,
          0.01,
          0.22,
          0.5,
          0.21,
          0.27,
          0.17,
          0.22,
          0.05,
          0.89,
          0.39,
          0.06,
          -0.08,
          0.06,
          0.45,
          0.13,
          -0.21,
          0.32,
          0.01,
          0.09,
          0.46,
          0.57,
          0.11,
          0.14,
          0.4,
          0.22,
          -0.03,
          1.52,
          0.14,
          0.26,
          0.52,
          -0.16,
          0.11,
          0.95,
          0.19,
          0.71,
          0.01,
          -0.04,
          -0.04,
          0.28,
          -0.04,
          -0.3,
          0.08,
          -0.22,
          0.27,
          0.18,
          0.28,
          0.21,
          0.33,
          0.03,
          0.24,
          -0.09,
          0.27,
          0.74,
          -1.14,
          0.64,
          -0.01,
          0.36,
          0.39,
          0.56,
          0.11,
          -0.09,
          0.1,
          0.34,
          0.19,
          0.3,
          -0.08,
          0.56,
          -1.24,
          -0.02,
          0.2,
          0.31,
          0.06,
          0.15,
          0.19,
          -0.16,
          -0.01,
          0.49,
          0.27,
          -0.21,
          -0.21,
          -0.06,
          0.23,
          0.13,
          0.29,
          0.18,
          0.17,
          0.06,
          0.29,
          0.19,
          -0.42,
          0.17,
          0.2,
          0.09,
          -0.15,
          0.11,
          0.16,
          0.22,
          0.35,
          0.19,
          -0.09,
          -0.49,
          0.36,
          0.13,
          0.03,
          0.12,
          -1.19,
          -0.05,
          0.22,
          -0.01,
          0.13,
          0.25,
          0.19,
          -0.07,
          0.09,
          0.29,
          0.08,
          0.46,
          -0.54,
          0.08,
          -0.57,
          -0.15,
          0.16,
          0.12,
          0.01,
          0.03,
          0.13,
          0.14,
          0.13,
          0.15,
          0.13,
          -0.07,
          -0.02,
          0.15,
          0.28,
          0.16,
          -0.28,
          0.14,
          0.1,
          0.38,
          0.31,
          -0.3,
          0.23,
          0.09,
          0.03,
          -0.16,
          0.09,
          0.29,
          0.16,
          0.11,
          0.11,
          -0.11,
          0.05,
          0.23,
          0.03,
          0.13,
          0.11,
          0.11,
          -0.15,
          0.24,
          -0.02,
          -0.01,
          0.11,
          -0.13,
          0.07,
          0.01,
          0.09,
          0.07,
          -0.26,
          0.13,
          0.12,
          0.12,
          0.13,
          -0.09,
          -0.06,
          0.19,
          0.09,
          0.21,
          0.07,
          0.19,
          0.06,
          0.34,
          0.04,
          0,
          -0.07,
          0.07,
          -0.46,
          0.28,
          0.39,
          0.15,
          -0.05,
          -0.25,
          -0.03,
          -0.13,
          0.2,
          0.16,
          0.3,
          0.16,
          0.22,
          0.15,
          0.21,
          0.04,
          0.14,
          0.31,
          -0.2,
          -0.29,
          0.12,
          0.21,
          0.21,
          0.09,
          0.12,
          0.42,
          0.1,
          0.37,
          0.1,
          -0.39,
          0.1,
          0.18,
          0.13,
          0.01,
          0.08,
          -0.39,
          0.13,
          0.24,
          0.15,
          0.04,
          0.08,
          0.03,
          0.17,
          0.04,
          0.19,
          -0.66,
          -0.16,
          0.11,
          -0.02,
          0.01,
          -0.03,
          0.2,
          0.01,
          0,
          0.47,
          0.01,
          -0.07,
          0.25,
          -0.03,
          0,
          0.06
         ],
         "xaxis": "x",
         "yaxis": "y"
        }
       ],
       "layout": {
        "barmode": "relative",
        "legend": {
         "tracegroupgap": 0
        },
        "margin": {
         "t": 60
        },
        "template": {
         "data": {
          "bar": [
           {
            "error_x": {
             "color": "#2a3f5f"
            },
            "error_y": {
             "color": "#2a3f5f"
            },
            "marker": {
             "line": {
              "color": "#E5ECF6",
              "width": 0.5
             },
             "pattern": {
              "fillmode": "overlay",
              "size": 10,
              "solidity": 0.2
             }
            },
            "type": "bar"
           }
          ],
          "barpolar": [
           {
            "marker": {
             "line": {
              "color": "#E5ECF6",
              "width": 0.5
             },
             "pattern": {
              "fillmode": "overlay",
              "size": 10,
              "solidity": 0.2
             }
            },
            "type": "barpolar"
           }
          ],
          "carpet": [
           {
            "aaxis": {
             "endlinecolor": "#2a3f5f",
             "gridcolor": "white",
             "linecolor": "white",
             "minorgridcolor": "white",
             "startlinecolor": "#2a3f5f"
            },
            "baxis": {
             "endlinecolor": "#2a3f5f",
             "gridcolor": "white",
             "linecolor": "white",
             "minorgridcolor": "white",
             "startlinecolor": "#2a3f5f"
            },
            "type": "carpet"
           }
          ],
          "choropleth": [
           {
            "colorbar": {
             "outlinewidth": 0,
             "ticks": ""
            },
            "type": "choropleth"
           }
          ],
          "contour": [
           {
            "colorbar": {
             "outlinewidth": 0,
             "ticks": ""
            },
            "colorscale": [
             [
              0,
              "#0d0887"
             ],
             [
              0.1111111111111111,
              "#46039f"
             ],
             [
              0.2222222222222222,
              "#7201a8"
             ],
             [
              0.3333333333333333,
              "#9c179e"
             ],
             [
              0.4444444444444444,
              "#bd3786"
             ],
             [
              0.5555555555555556,
              "#d8576b"
             ],
             [
              0.6666666666666666,
              "#ed7953"
             ],
             [
              0.7777777777777778,
              "#fb9f3a"
             ],
             [
              0.8888888888888888,
              "#fdca26"
             ],
             [
              1,
              "#f0f921"
             ]
            ],
            "type": "contour"
           }
          ],
          "contourcarpet": [
           {
            "colorbar": {
             "outlinewidth": 0,
             "ticks": ""
            },
            "type": "contourcarpet"
           }
          ],
          "heatmap": [
           {
            "colorbar": {
             "outlinewidth": 0,
             "ticks": ""
            },
            "colorscale": [
             [
              0,
              "#0d0887"
             ],
             [
              0.1111111111111111,
              "#46039f"
             ],
             [
              0.2222222222222222,
              "#7201a8"
             ],
             [
              0.3333333333333333,
              "#9c179e"
             ],
             [
              0.4444444444444444,
              "#bd3786"
             ],
             [
              0.5555555555555556,
              "#d8576b"
             ],
             [
              0.6666666666666666,
              "#ed7953"
             ],
             [
              0.7777777777777778,
              "#fb9f3a"
             ],
             [
              0.8888888888888888,
              "#fdca26"
             ],
             [
              1,
              "#f0f921"
             ]
            ],
            "type": "heatmap"
           }
          ],
          "heatmapgl": [
           {
            "colorbar": {
             "outlinewidth": 0,
             "ticks": ""
            },
            "colorscale": [
             [
              0,
              "#0d0887"
             ],
             [
              0.1111111111111111,
              "#46039f"
             ],
             [
              0.2222222222222222,
              "#7201a8"
             ],
             [
              0.3333333333333333,
              "#9c179e"
             ],
             [
              0.4444444444444444,
              "#bd3786"
             ],
             [
              0.5555555555555556,
              "#d8576b"
             ],
             [
              0.6666666666666666,
              "#ed7953"
             ],
             [
              0.7777777777777778,
              "#fb9f3a"
             ],
             [
              0.8888888888888888,
              "#fdca26"
             ],
             [
              1,
              "#f0f921"
             ]
            ],
            "type": "heatmapgl"
           }
          ],
          "histogram": [
           {
            "marker": {
             "pattern": {
              "fillmode": "overlay",
              "size": 10,
              "solidity": 0.2
             }
            },
            "type": "histogram"
           }
          ],
          "histogram2d": [
           {
            "colorbar": {
             "outlinewidth": 0,
             "ticks": ""
            },
            "colorscale": [
             [
              0,
              "#0d0887"
             ],
             [
              0.1111111111111111,
              "#46039f"
             ],
             [
              0.2222222222222222,
              "#7201a8"
             ],
             [
              0.3333333333333333,
              "#9c179e"
             ],
             [
              0.4444444444444444,
              "#bd3786"
             ],
             [
              0.5555555555555556,
              "#d8576b"
             ],
             [
              0.6666666666666666,
              "#ed7953"
             ],
             [
              0.7777777777777778,
              "#fb9f3a"
             ],
             [
              0.8888888888888888,
              "#fdca26"
             ],
             [
              1,
              "#f0f921"
             ]
            ],
            "type": "histogram2d"
           }
          ],
          "histogram2dcontour": [
           {
            "colorbar": {
             "outlinewidth": 0,
             "ticks": ""
            },
            "colorscale": [
             [
              0,
              "#0d0887"
             ],
             [
              0.1111111111111111,
              "#46039f"
             ],
             [
              0.2222222222222222,
              "#7201a8"
             ],
             [
              0.3333333333333333,
              "#9c179e"
             ],
             [
              0.4444444444444444,
              "#bd3786"
             ],
             [
              0.5555555555555556,
              "#d8576b"
             ],
             [
              0.6666666666666666,
              "#ed7953"
             ],
             [
              0.7777777777777778,
              "#fb9f3a"
             ],
             [
              0.8888888888888888,
              "#fdca26"
             ],
             [
              1,
              "#f0f921"
             ]
            ],
            "type": "histogram2dcontour"
           }
          ],
          "mesh3d": [
           {
            "colorbar": {
             "outlinewidth": 0,
             "ticks": ""
            },
            "type": "mesh3d"
           }
          ],
          "parcoords": [
           {
            "line": {
             "colorbar": {
              "outlinewidth": 0,
              "ticks": ""
             }
            },
            "type": "parcoords"
           }
          ],
          "pie": [
           {
            "automargin": true,
            "type": "pie"
           }
          ],
          "scatter": [
           {
            "fillpattern": {
             "fillmode": "overlay",
             "size": 10,
             "solidity": 0.2
            },
            "type": "scatter"
           }
          ],
          "scatter3d": [
           {
            "line": {
             "colorbar": {
              "outlinewidth": 0,
              "ticks": ""
             }
            },
            "marker": {
             "colorbar": {
              "outlinewidth": 0,
              "ticks": ""
             }
            },
            "type": "scatter3d"
           }
          ],
          "scattercarpet": [
           {
            "marker": {
             "colorbar": {
              "outlinewidth": 0,
              "ticks": ""
             }
            },
            "type": "scattercarpet"
           }
          ],
          "scattergeo": [
           {
            "marker": {
             "colorbar": {
              "outlinewidth": 0,
              "ticks": ""
             }
            },
            "type": "scattergeo"
           }
          ],
          "scattergl": [
           {
            "marker": {
             "colorbar": {
              "outlinewidth": 0,
              "ticks": ""
             }
            },
            "type": "scattergl"
           }
          ],
          "scattermapbox": [
           {
            "marker": {
             "colorbar": {
              "outlinewidth": 0,
              "ticks": ""
             }
            },
            "type": "scattermapbox"
           }
          ],
          "scatterpolar": [
           {
            "marker": {
             "colorbar": {
              "outlinewidth": 0,
              "ticks": ""
             }
            },
            "type": "scatterpolar"
           }
          ],
          "scatterpolargl": [
           {
            "marker": {
             "colorbar": {
              "outlinewidth": 0,
              "ticks": ""
             }
            },
            "type": "scatterpolargl"
           }
          ],
          "scatterternary": [
           {
            "marker": {
             "colorbar": {
              "outlinewidth": 0,
              "ticks": ""
             }
            },
            "type": "scatterternary"
           }
          ],
          "surface": [
           {
            "colorbar": {
             "outlinewidth": 0,
             "ticks": ""
            },
            "colorscale": [
             [
              0,
              "#0d0887"
             ],
             [
              0.1111111111111111,
              "#46039f"
             ],
             [
              0.2222222222222222,
              "#7201a8"
             ],
             [
              0.3333333333333333,
              "#9c179e"
             ],
             [
              0.4444444444444444,
              "#bd3786"
             ],
             [
              0.5555555555555556,
              "#d8576b"
             ],
             [
              0.6666666666666666,
              "#ed7953"
             ],
             [
              0.7777777777777778,
              "#fb9f3a"
             ],
             [
              0.8888888888888888,
              "#fdca26"
             ],
             [
              1,
              "#f0f921"
             ]
            ],
            "type": "surface"
           }
          ],
          "table": [
           {
            "cells": {
             "fill": {
              "color": "#EBF0F8"
             },
             "line": {
              "color": "white"
             }
            },
            "header": {
             "fill": {
              "color": "#C8D4E3"
             },
             "line": {
              "color": "white"
             }
            },
            "type": "table"
           }
          ]
         },
         "layout": {
          "annotationdefaults": {
           "arrowcolor": "#2a3f5f",
           "arrowhead": 0,
           "arrowwidth": 1
          },
          "autotypenumbers": "strict",
          "coloraxis": {
           "colorbar": {
            "outlinewidth": 0,
            "ticks": ""
           }
          },
          "colorscale": {
           "diverging": [
            [
             0,
             "#8e0152"
            ],
            [
             0.1,
             "#c51b7d"
            ],
            [
             0.2,
             "#de77ae"
            ],
            [
             0.3,
             "#f1b6da"
            ],
            [
             0.4,
             "#fde0ef"
            ],
            [
             0.5,
             "#f7f7f7"
            ],
            [
             0.6,
             "#e6f5d0"
            ],
            [
             0.7,
             "#b8e186"
            ],
            [
             0.8,
             "#7fbc41"
            ],
            [
             0.9,
             "#4d9221"
            ],
            [
             1,
             "#276419"
            ]
           ],
           "sequential": [
            [
             0,
             "#0d0887"
            ],
            [
             0.1111111111111111,
             "#46039f"
            ],
            [
             0.2222222222222222,
             "#7201a8"
            ],
            [
             0.3333333333333333,
             "#9c179e"
            ],
            [
             0.4444444444444444,
             "#bd3786"
            ],
            [
             0.5555555555555556,
             "#d8576b"
            ],
            [
             0.6666666666666666,
             "#ed7953"
            ],
            [
             0.7777777777777778,
             "#fb9f3a"
            ],
            [
             0.8888888888888888,
             "#fdca26"
            ],
            [
             1,
             "#f0f921"
            ]
           ],
           "sequentialminus": [
            [
             0,
             "#0d0887"
            ],
            [
             0.1111111111111111,
             "#46039f"
            ],
            [
             0.2222222222222222,
             "#7201a8"
            ],
            [
             0.3333333333333333,
             "#9c179e"
            ],
            [
             0.4444444444444444,
             "#bd3786"
            ],
            [
             0.5555555555555556,
             "#d8576b"
            ],
            [
             0.6666666666666666,
             "#ed7953"
            ],
            [
             0.7777777777777778,
             "#fb9f3a"
            ],
            [
             0.8888888888888888,
             "#fdca26"
            ],
            [
             1,
             "#f0f921"
            ]
           ]
          },
          "colorway": [
           "#636efa",
           "#EF553B",
           "#00cc96",
           "#ab63fa",
           "#FFA15A",
           "#19d3f3",
           "#FF6692",
           "#B6E880",
           "#FF97FF",
           "#FECB52"
          ],
          "font": {
           "color": "#2a3f5f"
          },
          "geo": {
           "bgcolor": "white",
           "lakecolor": "white",
           "landcolor": "#E5ECF6",
           "showlakes": true,
           "showland": true,
           "subunitcolor": "white"
          },
          "hoverlabel": {
           "align": "left"
          },
          "hovermode": "closest",
          "mapbox": {
           "style": "light"
          },
          "paper_bgcolor": "white",
          "plot_bgcolor": "#E5ECF6",
          "polar": {
           "angularaxis": {
            "gridcolor": "white",
            "linecolor": "white",
            "ticks": ""
           },
           "bgcolor": "#E5ECF6",
           "radialaxis": {
            "gridcolor": "white",
            "linecolor": "white",
            "ticks": ""
           }
          },
          "scene": {
           "xaxis": {
            "backgroundcolor": "#E5ECF6",
            "gridcolor": "white",
            "gridwidth": 2,
            "linecolor": "white",
            "showbackground": true,
            "ticks": "",
            "zerolinecolor": "white"
           },
           "yaxis": {
            "backgroundcolor": "#E5ECF6",
            "gridcolor": "white",
            "gridwidth": 2,
            "linecolor": "white",
            "showbackground": true,
            "ticks": "",
            "zerolinecolor": "white"
           },
           "zaxis": {
            "backgroundcolor": "#E5ECF6",
            "gridcolor": "white",
            "gridwidth": 2,
            "linecolor": "white",
            "showbackground": true,
            "ticks": "",
            "zerolinecolor": "white"
           }
          },
          "shapedefaults": {
           "line": {
            "color": "#2a3f5f"
           }
          },
          "ternary": {
           "aaxis": {
            "gridcolor": "white",
            "linecolor": "white",
            "ticks": ""
           },
           "baxis": {
            "gridcolor": "white",
            "linecolor": "white",
            "ticks": ""
           },
           "bgcolor": "#E5ECF6",
           "caxis": {
            "gridcolor": "white",
            "linecolor": "white",
            "ticks": ""
           }
          },
          "title": {
           "x": 0.05
          },
          "xaxis": {
           "automargin": true,
           "gridcolor": "white",
           "linecolor": "white",
           "ticks": "",
           "title": {
            "standoff": 15
           },
           "zerolinecolor": "white",
           "zerolinewidth": 2
          },
          "yaxis": {
           "automargin": true,
           "gridcolor": "white",
           "linecolor": "white",
           "ticks": "",
           "title": {
            "standoff": 15
           },
           "zerolinecolor": "white",
           "zerolinewidth": 2
          }
         }
        },
        "xaxis": {
         "anchor": "y",
         "domain": [
          0,
          1
         ],
         "title": {
          "text": "Gain%"
         }
        },
        "yaxis": {
         "anchor": "x",
         "domain": [
          0,
          1
         ],
         "title": {
          "text": "count"
         }
        }
       }
      }
     },
     "metadata": {},
     "output_type": "display_data"
    },
    {
     "name": "stdout",
     "output_type": "stream",
     "text": [
      "(25, 75)\n",
      "Total trades: 622\n",
      "Average percent gain per trade: 0.03%\n",
      "Total percent gain: 80.93%\n"
     ]
    },
    {
     "name": "stderr",
     "output_type": "stream",
     "text": [
      "/var/folders/hb/0dd7xx3d4mzgbx_w9m1fmb2h0000gn/T/ipykernel_9734/1167655356.py:12: FutureWarning:\n",
      "\n",
      "The behavior of DataFrame concatenation with empty or all-NA entries is deprecated. In a future version, this will no longer exclude empty or all-NA columns when determining the result dtypes. To retain the old behavior, exclude the relevant entries before the concat operation.\n",
      "\n"
     ]
    },
    {
     "data": {
      "application/vnd.plotly.v1+json": {
       "config": {
        "plotlyServerURL": "https://plot.ly"
       },
       "data": [
        {
         "alignmentgroup": "True",
         "bingroup": "x",
         "hovertemplate": "Gain%=%{x}<br>count=%{y}<extra></extra>",
         "legendgroup": "",
         "marker": {
          "color": "#636efa",
          "pattern": {
           "shape": ""
          }
         },
         "name": "",
         "nbinsx": 100,
         "offsetgroup": "",
         "orientation": "v",
         "showlegend": false,
         "type": "histogram",
         "x": [
          0.05,
          -0.07,
          0.95,
          0.08,
          0.08,
          -0.27,
          0.46,
          -0.07,
          0.5,
          0.17,
          0.13,
          0.02,
          -0.62,
          -0.52,
          -0.32,
          -0.41,
          0.21,
          -0.37,
          0.08,
          0.06,
          0.32,
          0.14,
          0.42,
          0.94,
          0.46,
          0.23,
          0.02,
          -1.21,
          -0.2,
          -0.26,
          -0.17,
          0.11,
          0.06,
          -0.73,
          0.52,
          0.01,
          0.28,
          -1.15,
          0.23,
          0.21,
          0.03,
          -0.84,
          0.26,
          0,
          0.19,
          0.12,
          0.14,
          -0.1,
          0.16,
          -0.66,
          0.32,
          -0.22,
          -0.19,
          -0.12,
          0.09,
          0.17,
          0.33,
          -0.96,
          0.21,
          -0.22,
          0.5,
          0.53,
          0.12,
          0.23,
          -0.02,
          0.36,
          -1.22,
          0.31,
          0.26,
          0.17,
          -0.58,
          -0.12,
          0.23,
          -0.21,
          -0.67,
          0.05,
          0.39,
          0.12,
          0.29,
          0.32,
          0.18,
          0.11,
          0.23,
          0.01,
          -0.01,
          -0.03,
          0.29,
          0.21,
          -0.33,
          0.25,
          0.14,
          0.2,
          -0.29,
          -0.17,
          -0.11,
          0.17,
          -0.15,
          0.28,
          -0.02,
          0.04,
          -0.15,
          0.19,
          0.08,
          -0.01,
          0.11,
          -0.21,
          0.02,
          -0.35,
          0.05,
          0.37,
          0.28,
          -0.01,
          0.1,
          0.03,
          -0.52,
          0.37,
          0.21,
          0.04,
          0.12,
          0.5,
          0.39,
          -0.17,
          -0.08,
          -0.13,
          -0.7,
          -0.24,
          -0.18,
          0.38,
          0.57,
          -0.06,
          0.01,
          0.03,
          0.36,
          0.02,
          0.33,
          0.16,
          -0.3,
          0.09,
          -1.33,
          0.34,
          0.31,
          -0.01,
          0.43,
          0.54,
          0.16,
          -0.35,
          -0.31,
          0.07,
          0.23,
          0.33,
          -0.4,
          0.07,
          -0.22,
          0.24,
          0.25,
          0.23,
          0.17,
          -1.69,
          0.75,
          0.09,
          0.14,
          0.2,
          0,
          0.45,
          0.26,
          0.06,
          -0.11,
          0.09,
          -0.68,
          0.24,
          -0.05,
          0.19,
          0.25,
          0.1,
          0.05,
          -0.02,
          -0.94,
          -0.17,
          0.42,
          0.19,
          -0.36,
          0.12,
          0.33,
          0.27,
          0.17,
          0.03,
          -0.52,
          0.36,
          0.16,
          0.25,
          0,
          0.15,
          0.06,
          -0.15,
          0.15,
          0.41,
          0.08,
          -0.12,
          0.15,
          -1.25,
          0.14,
          -0.07,
          0.08,
          0.23,
          0.23,
          0.22,
          0.11,
          -0.2,
          0.54,
          -0.03,
          0.06,
          0.3,
          0.31,
          0.44,
          0.13,
          0.2,
          -0.16,
          0.11,
          0.13,
          -0.2,
          0.09,
          0.28,
          -0.12,
          -0.04,
          1.3,
          0.12,
          -0.14,
          0.31,
          0.09,
          -0.07,
          0.05,
          0.11,
          -0.08,
          0.12,
          0.14,
          0.05,
          0.03,
          -0.27,
          -0.08,
          0.17,
          0.07,
          0.19,
          0.16,
          0.16,
          -0.04,
          0.46,
          0.06,
          0.25,
          0.02,
          0.11,
          -0.05,
          0.12,
          -0.08,
          0.18,
          0.15,
          -0.32,
          -0.06,
          0.29,
          -0.29,
          0.02,
          -0.12,
          -0.22,
          0.17,
          0.26,
          0.12,
          0.24,
          0.19,
          -0.27,
          0.13,
          0.1,
          0.15,
          0.29,
          0.3,
          0.04,
          0.03,
          0.45,
          0.12,
          -0.55,
          0.29,
          0.13,
          -0.04,
          -0.11,
          0.32,
          0.23,
          -0.09,
          0.28,
          -1.04,
          0.46,
          0.25,
          -0.1,
          0.05,
          0.41,
          0.26,
          0.18,
          0.18,
          0.47,
          0.19,
          -0.06,
          -0.34,
          -0.01,
          -0.03,
          0.22,
          0.14,
          0.25,
          -0.26,
          0.64,
          -1.44,
          0.28,
          0.35,
          0.13,
          -0.38,
          0.19,
          0.29,
          -0.19,
          0.1,
          0.11,
          0.22,
          -0.2,
          -0.06,
          0.19,
          0.27,
          0.1,
          0.12,
          -0.52,
          0.13,
          0.08,
          -0.09,
          0.12,
          -0.02,
          0.09,
          0.13,
          -0.05,
          0.12,
          0.06,
          0.09,
          0.14,
          0.06,
          -0.05,
          -0.16,
          -0.46,
          0.2,
          0.15,
          0.07,
          0.08,
          -0.19,
          0.11,
          0.07,
          0.16,
          0.17,
          0.06,
          0.35,
          0.17,
          0.19,
          -0.28,
          -0.08,
          -0.48,
          0.12,
          -0.6,
          0.22,
          0.06,
          0.2,
          0.13,
          0.04,
          0.1,
          0.13,
          0.14,
          -1.26,
          -0.09,
          0.1,
          0.13,
          -0.01,
          -0.17,
          0.25,
          0.14,
          -0.05,
          0.06,
          0.05,
          0.25,
          0.09,
          0.08,
          0.36,
          -0.23,
          -0.26,
          0.03,
          0.12,
          -0.46,
          0.1,
          -0.15,
          0.16,
          -0.08,
          0.01,
          0.1,
          0.01,
          -0.09,
          0.13,
          -0.15,
          0.14,
          0.15,
          0.01,
          0.2,
          0.08,
          0.1,
          -0.07,
          -0.2,
          -0.06,
          0.07,
          0.15,
          0.43,
          0.14,
          0.16,
          0.17,
          0.08,
          -0.28,
          0.3,
          0.1,
          0.1,
          0.1,
          0.25,
          0.04,
          0.2,
          0.14,
          -0.28,
          0.19,
          0.14,
          -0.06,
          0.1,
          -0.06,
          0.13,
          -0.03,
          0.07,
          -0.42,
          0.03,
          0.13,
          0.03,
          0.15,
          0.14,
          -0.09,
          -0.01,
          0.14,
          -0.06,
          -0.15,
          0.11,
          0.07,
          -0.09,
          0.17,
          0.14,
          0.03,
          0.13,
          0.05,
          0.11,
          0.19,
          -0.01,
          0.05,
          0.13,
          -0.23,
          0.05,
          0.16,
          -0.01,
          0.11,
          0.09,
          -0.02,
          0.13,
          0.05,
          -0.01,
          0.05,
          0.11,
          -0.28,
          0,
          0.02,
          0.02,
          0.15,
          0.03,
          0.08,
          -0.26,
          -0.04,
          0.05,
          0.08,
          -0.04,
          -0.08,
          0.02,
          0.18,
          0.13,
          -0.01,
          -0.07,
          -0.19,
          0.16,
          -0.43,
          -0.08,
          0.24,
          0.05,
          0.08,
          0.22,
          0.08,
          -0.01,
          -0.02,
          0.08,
          0.06,
          -0.06,
          0.44,
          0.15,
          -0.03,
          -0.05,
          0.07,
          0.12,
          -0.19,
          0.13,
          0,
          -0.03,
          0.02,
          0.08,
          0.1,
          -0.24,
          0.03,
          -0.12,
          0.18,
          0.13,
          -0.08,
          0.1,
          0.13,
          0.13,
          0.1,
          -0.15,
          -0.4,
          -0.04,
          -0.07,
          -0.04,
          0.26,
          -0.07,
          -0.08,
          0.14,
          0.14,
          0.16,
          0.05,
          0.09,
          0.05,
          -0.23,
          0,
          0.09,
          -0.25,
          0.18,
          -0.29,
          0.1,
          0.29,
          -0.07,
          0.03,
          0.06,
          0.07,
          0.02,
          0.34,
          -0.22,
          0.12,
          -0.13,
          -0.16,
          0.08,
          0.07,
          0.06,
          0.1,
          0.07,
          -0.05,
          0.18,
          -0.67,
          -0.13,
          0.09,
          -0.2,
          -0.19,
          0.06,
          0.12,
          0.23,
          0.32,
          0.07,
          0.02,
          0.04,
          -0.37,
          0.11,
          0.05,
          0.09,
          0.13,
          -0.03,
          0.08,
          -0.44,
          0.01,
          0.08,
          0.18,
          0.14,
          0.04,
          0,
          0,
          -0.05,
          0.06,
          0.03,
          0.08,
          -0.01,
          0.2,
          -0.2,
          0.07,
          -0.73,
          0.1,
          -0.14,
          -0.02,
          0.1,
          0.04,
          0.09,
          -0.1,
          0.12,
          0.18,
          -0.02,
          -0.33,
          0.42,
          0.03,
          0.12,
          -0.04,
          -0.24,
          0,
          -0.33,
          -0.05,
          0.1,
          0.33,
          -0.01,
          0.17,
          0.15,
          0.08,
          -0.23
         ],
         "xaxis": "x",
         "yaxis": "y"
        }
       ],
       "layout": {
        "barmode": "relative",
        "legend": {
         "tracegroupgap": 0
        },
        "margin": {
         "t": 60
        },
        "template": {
         "data": {
          "bar": [
           {
            "error_x": {
             "color": "#2a3f5f"
            },
            "error_y": {
             "color": "#2a3f5f"
            },
            "marker": {
             "line": {
              "color": "#E5ECF6",
              "width": 0.5
             },
             "pattern": {
              "fillmode": "overlay",
              "size": 10,
              "solidity": 0.2
             }
            },
            "type": "bar"
           }
          ],
          "barpolar": [
           {
            "marker": {
             "line": {
              "color": "#E5ECF6",
              "width": 0.5
             },
             "pattern": {
              "fillmode": "overlay",
              "size": 10,
              "solidity": 0.2
             }
            },
            "type": "barpolar"
           }
          ],
          "carpet": [
           {
            "aaxis": {
             "endlinecolor": "#2a3f5f",
             "gridcolor": "white",
             "linecolor": "white",
             "minorgridcolor": "white",
             "startlinecolor": "#2a3f5f"
            },
            "baxis": {
             "endlinecolor": "#2a3f5f",
             "gridcolor": "white",
             "linecolor": "white",
             "minorgridcolor": "white",
             "startlinecolor": "#2a3f5f"
            },
            "type": "carpet"
           }
          ],
          "choropleth": [
           {
            "colorbar": {
             "outlinewidth": 0,
             "ticks": ""
            },
            "type": "choropleth"
           }
          ],
          "contour": [
           {
            "colorbar": {
             "outlinewidth": 0,
             "ticks": ""
            },
            "colorscale": [
             [
              0,
              "#0d0887"
             ],
             [
              0.1111111111111111,
              "#46039f"
             ],
             [
              0.2222222222222222,
              "#7201a8"
             ],
             [
              0.3333333333333333,
              "#9c179e"
             ],
             [
              0.4444444444444444,
              "#bd3786"
             ],
             [
              0.5555555555555556,
              "#d8576b"
             ],
             [
              0.6666666666666666,
              "#ed7953"
             ],
             [
              0.7777777777777778,
              "#fb9f3a"
             ],
             [
              0.8888888888888888,
              "#fdca26"
             ],
             [
              1,
              "#f0f921"
             ]
            ],
            "type": "contour"
           }
          ],
          "contourcarpet": [
           {
            "colorbar": {
             "outlinewidth": 0,
             "ticks": ""
            },
            "type": "contourcarpet"
           }
          ],
          "heatmap": [
           {
            "colorbar": {
             "outlinewidth": 0,
             "ticks": ""
            },
            "colorscale": [
             [
              0,
              "#0d0887"
             ],
             [
              0.1111111111111111,
              "#46039f"
             ],
             [
              0.2222222222222222,
              "#7201a8"
             ],
             [
              0.3333333333333333,
              "#9c179e"
             ],
             [
              0.4444444444444444,
              "#bd3786"
             ],
             [
              0.5555555555555556,
              "#d8576b"
             ],
             [
              0.6666666666666666,
              "#ed7953"
             ],
             [
              0.7777777777777778,
              "#fb9f3a"
             ],
             [
              0.8888888888888888,
              "#fdca26"
             ],
             [
              1,
              "#f0f921"
             ]
            ],
            "type": "heatmap"
           }
          ],
          "heatmapgl": [
           {
            "colorbar": {
             "outlinewidth": 0,
             "ticks": ""
            },
            "colorscale": [
             [
              0,
              "#0d0887"
             ],
             [
              0.1111111111111111,
              "#46039f"
             ],
             [
              0.2222222222222222,
              "#7201a8"
             ],
             [
              0.3333333333333333,
              "#9c179e"
             ],
             [
              0.4444444444444444,
              "#bd3786"
             ],
             [
              0.5555555555555556,
              "#d8576b"
             ],
             [
              0.6666666666666666,
              "#ed7953"
             ],
             [
              0.7777777777777778,
              "#fb9f3a"
             ],
             [
              0.8888888888888888,
              "#fdca26"
             ],
             [
              1,
              "#f0f921"
             ]
            ],
            "type": "heatmapgl"
           }
          ],
          "histogram": [
           {
            "marker": {
             "pattern": {
              "fillmode": "overlay",
              "size": 10,
              "solidity": 0.2
             }
            },
            "type": "histogram"
           }
          ],
          "histogram2d": [
           {
            "colorbar": {
             "outlinewidth": 0,
             "ticks": ""
            },
            "colorscale": [
             [
              0,
              "#0d0887"
             ],
             [
              0.1111111111111111,
              "#46039f"
             ],
             [
              0.2222222222222222,
              "#7201a8"
             ],
             [
              0.3333333333333333,
              "#9c179e"
             ],
             [
              0.4444444444444444,
              "#bd3786"
             ],
             [
              0.5555555555555556,
              "#d8576b"
             ],
             [
              0.6666666666666666,
              "#ed7953"
             ],
             [
              0.7777777777777778,
              "#fb9f3a"
             ],
             [
              0.8888888888888888,
              "#fdca26"
             ],
             [
              1,
              "#f0f921"
             ]
            ],
            "type": "histogram2d"
           }
          ],
          "histogram2dcontour": [
           {
            "colorbar": {
             "outlinewidth": 0,
             "ticks": ""
            },
            "colorscale": [
             [
              0,
              "#0d0887"
             ],
             [
              0.1111111111111111,
              "#46039f"
             ],
             [
              0.2222222222222222,
              "#7201a8"
             ],
             [
              0.3333333333333333,
              "#9c179e"
             ],
             [
              0.4444444444444444,
              "#bd3786"
             ],
             [
              0.5555555555555556,
              "#d8576b"
             ],
             [
              0.6666666666666666,
              "#ed7953"
             ],
             [
              0.7777777777777778,
              "#fb9f3a"
             ],
             [
              0.8888888888888888,
              "#fdca26"
             ],
             [
              1,
              "#f0f921"
             ]
            ],
            "type": "histogram2dcontour"
           }
          ],
          "mesh3d": [
           {
            "colorbar": {
             "outlinewidth": 0,
             "ticks": ""
            },
            "type": "mesh3d"
           }
          ],
          "parcoords": [
           {
            "line": {
             "colorbar": {
              "outlinewidth": 0,
              "ticks": ""
             }
            },
            "type": "parcoords"
           }
          ],
          "pie": [
           {
            "automargin": true,
            "type": "pie"
           }
          ],
          "scatter": [
           {
            "fillpattern": {
             "fillmode": "overlay",
             "size": 10,
             "solidity": 0.2
            },
            "type": "scatter"
           }
          ],
          "scatter3d": [
           {
            "line": {
             "colorbar": {
              "outlinewidth": 0,
              "ticks": ""
             }
            },
            "marker": {
             "colorbar": {
              "outlinewidth": 0,
              "ticks": ""
             }
            },
            "type": "scatter3d"
           }
          ],
          "scattercarpet": [
           {
            "marker": {
             "colorbar": {
              "outlinewidth": 0,
              "ticks": ""
             }
            },
            "type": "scattercarpet"
           }
          ],
          "scattergeo": [
           {
            "marker": {
             "colorbar": {
              "outlinewidth": 0,
              "ticks": ""
             }
            },
            "type": "scattergeo"
           }
          ],
          "scattergl": [
           {
            "marker": {
             "colorbar": {
              "outlinewidth": 0,
              "ticks": ""
             }
            },
            "type": "scattergl"
           }
          ],
          "scattermapbox": [
           {
            "marker": {
             "colorbar": {
              "outlinewidth": 0,
              "ticks": ""
             }
            },
            "type": "scattermapbox"
           }
          ],
          "scatterpolar": [
           {
            "marker": {
             "colorbar": {
              "outlinewidth": 0,
              "ticks": ""
             }
            },
            "type": "scatterpolar"
           }
          ],
          "scatterpolargl": [
           {
            "marker": {
             "colorbar": {
              "outlinewidth": 0,
              "ticks": ""
             }
            },
            "type": "scatterpolargl"
           }
          ],
          "scatterternary": [
           {
            "marker": {
             "colorbar": {
              "outlinewidth": 0,
              "ticks": ""
             }
            },
            "type": "scatterternary"
           }
          ],
          "surface": [
           {
            "colorbar": {
             "outlinewidth": 0,
             "ticks": ""
            },
            "colorscale": [
             [
              0,
              "#0d0887"
             ],
             [
              0.1111111111111111,
              "#46039f"
             ],
             [
              0.2222222222222222,
              "#7201a8"
             ],
             [
              0.3333333333333333,
              "#9c179e"
             ],
             [
              0.4444444444444444,
              "#bd3786"
             ],
             [
              0.5555555555555556,
              "#d8576b"
             ],
             [
              0.6666666666666666,
              "#ed7953"
             ],
             [
              0.7777777777777778,
              "#fb9f3a"
             ],
             [
              0.8888888888888888,
              "#fdca26"
             ],
             [
              1,
              "#f0f921"
             ]
            ],
            "type": "surface"
           }
          ],
          "table": [
           {
            "cells": {
             "fill": {
              "color": "#EBF0F8"
             },
             "line": {
              "color": "white"
             }
            },
            "header": {
             "fill": {
              "color": "#C8D4E3"
             },
             "line": {
              "color": "white"
             }
            },
            "type": "table"
           }
          ]
         },
         "layout": {
          "annotationdefaults": {
           "arrowcolor": "#2a3f5f",
           "arrowhead": 0,
           "arrowwidth": 1
          },
          "autotypenumbers": "strict",
          "coloraxis": {
           "colorbar": {
            "outlinewidth": 0,
            "ticks": ""
           }
          },
          "colorscale": {
           "diverging": [
            [
             0,
             "#8e0152"
            ],
            [
             0.1,
             "#c51b7d"
            ],
            [
             0.2,
             "#de77ae"
            ],
            [
             0.3,
             "#f1b6da"
            ],
            [
             0.4,
             "#fde0ef"
            ],
            [
             0.5,
             "#f7f7f7"
            ],
            [
             0.6,
             "#e6f5d0"
            ],
            [
             0.7,
             "#b8e186"
            ],
            [
             0.8,
             "#7fbc41"
            ],
            [
             0.9,
             "#4d9221"
            ],
            [
             1,
             "#276419"
            ]
           ],
           "sequential": [
            [
             0,
             "#0d0887"
            ],
            [
             0.1111111111111111,
             "#46039f"
            ],
            [
             0.2222222222222222,
             "#7201a8"
            ],
            [
             0.3333333333333333,
             "#9c179e"
            ],
            [
             0.4444444444444444,
             "#bd3786"
            ],
            [
             0.5555555555555556,
             "#d8576b"
            ],
            [
             0.6666666666666666,
             "#ed7953"
            ],
            [
             0.7777777777777778,
             "#fb9f3a"
            ],
            [
             0.8888888888888888,
             "#fdca26"
            ],
            [
             1,
             "#f0f921"
            ]
           ],
           "sequentialminus": [
            [
             0,
             "#0d0887"
            ],
            [
             0.1111111111111111,
             "#46039f"
            ],
            [
             0.2222222222222222,
             "#7201a8"
            ],
            [
             0.3333333333333333,
             "#9c179e"
            ],
            [
             0.4444444444444444,
             "#bd3786"
            ],
            [
             0.5555555555555556,
             "#d8576b"
            ],
            [
             0.6666666666666666,
             "#ed7953"
            ],
            [
             0.7777777777777778,
             "#fb9f3a"
            ],
            [
             0.8888888888888888,
             "#fdca26"
            ],
            [
             1,
             "#f0f921"
            ]
           ]
          },
          "colorway": [
           "#636efa",
           "#EF553B",
           "#00cc96",
           "#ab63fa",
           "#FFA15A",
           "#19d3f3",
           "#FF6692",
           "#B6E880",
           "#FF97FF",
           "#FECB52"
          ],
          "font": {
           "color": "#2a3f5f"
          },
          "geo": {
           "bgcolor": "white",
           "lakecolor": "white",
           "landcolor": "#E5ECF6",
           "showlakes": true,
           "showland": true,
           "subunitcolor": "white"
          },
          "hoverlabel": {
           "align": "left"
          },
          "hovermode": "closest",
          "mapbox": {
           "style": "light"
          },
          "paper_bgcolor": "white",
          "plot_bgcolor": "#E5ECF6",
          "polar": {
           "angularaxis": {
            "gridcolor": "white",
            "linecolor": "white",
            "ticks": ""
           },
           "bgcolor": "#E5ECF6",
           "radialaxis": {
            "gridcolor": "white",
            "linecolor": "white",
            "ticks": ""
           }
          },
          "scene": {
           "xaxis": {
            "backgroundcolor": "#E5ECF6",
            "gridcolor": "white",
            "gridwidth": 2,
            "linecolor": "white",
            "showbackground": true,
            "ticks": "",
            "zerolinecolor": "white"
           },
           "yaxis": {
            "backgroundcolor": "#E5ECF6",
            "gridcolor": "white",
            "gridwidth": 2,
            "linecolor": "white",
            "showbackground": true,
            "ticks": "",
            "zerolinecolor": "white"
           },
           "zaxis": {
            "backgroundcolor": "#E5ECF6",
            "gridcolor": "white",
            "gridwidth": 2,
            "linecolor": "white",
            "showbackground": true,
            "ticks": "",
            "zerolinecolor": "white"
           }
          },
          "shapedefaults": {
           "line": {
            "color": "#2a3f5f"
           }
          },
          "ternary": {
           "aaxis": {
            "gridcolor": "white",
            "linecolor": "white",
            "ticks": ""
           },
           "baxis": {
            "gridcolor": "white",
            "linecolor": "white",
            "ticks": ""
           },
           "bgcolor": "#E5ECF6",
           "caxis": {
            "gridcolor": "white",
            "linecolor": "white",
            "ticks": ""
           }
          },
          "title": {
           "x": 0.05
          },
          "xaxis": {
           "automargin": true,
           "gridcolor": "white",
           "linecolor": "white",
           "ticks": "",
           "title": {
            "standoff": 15
           },
           "zerolinecolor": "white",
           "zerolinewidth": 2
          },
          "yaxis": {
           "automargin": true,
           "gridcolor": "white",
           "linecolor": "white",
           "ticks": "",
           "title": {
            "standoff": 15
           },
           "zerolinecolor": "white",
           "zerolinewidth": 2
          }
         }
        },
        "xaxis": {
         "anchor": "y",
         "domain": [
          0,
          1
         ],
         "title": {
          "text": "Gain%"
         }
        },
        "yaxis": {
         "anchor": "x",
         "domain": [
          0,
          1
         ],
         "title": {
          "text": "count"
         }
        }
       }
      }
     },
     "metadata": {},
     "output_type": "display_data"
    },
    {
     "name": "stdout",
     "output_type": "stream",
     "text": [
      "(35, 65)\n",
      "Total trades: 1427\n",
      "Average percent gain per trade: 0.01%\n",
      "Total percent gain: 81.3%\n"
     ]
    },
    {
     "name": "stderr",
     "output_type": "stream",
     "text": [
      "/var/folders/hb/0dd7xx3d4mzgbx_w9m1fmb2h0000gn/T/ipykernel_9734/1167655356.py:12: FutureWarning:\n",
      "\n",
      "The behavior of DataFrame concatenation with empty or all-NA entries is deprecated. In a future version, this will no longer exclude empty or all-NA columns when determining the result dtypes. To retain the old behavior, exclude the relevant entries before the concat operation.\n",
      "\n"
     ]
    },
    {
     "data": {
      "application/vnd.plotly.v1+json": {
       "config": {
        "plotlyServerURL": "https://plot.ly"
       },
       "data": [
        {
         "alignmentgroup": "True",
         "bingroup": "x",
         "hovertemplate": "Gain%=%{x}<br>count=%{y}<extra></extra>",
         "legendgroup": "",
         "marker": {
          "color": "#636efa",
          "pattern": {
           "shape": ""
          }
         },
         "name": "",
         "nbinsx": 100,
         "offsetgroup": "",
         "orientation": "v",
         "showlegend": false,
         "type": "histogram",
         "x": [
          0.78,
          0.42,
          0.16,
          -0.08,
          -0.16,
          0.26,
          0.18,
          0.21,
          0.03,
          0.07,
          -0.05,
          0.04,
          0.19,
          0.13,
          0.04,
          -0.46,
          0.23,
          0.01,
          -0.67,
          0.2,
          0.26,
          0.29,
          -0.02,
          0.03,
          -0.01,
          0.25,
          0.18,
          0.13,
          0.05,
          0.08,
          0.08,
          0.12,
          -0.58,
          0.09,
          -0.16,
          0.08,
          -0.1,
          -0.11,
          0.29,
          -0.44,
          -0.14,
          0.17,
          -0.45,
          0.16,
          0.13,
          -0.21,
          0.29,
          0.39,
          -0.08,
          0.06,
          0.14,
          0.16,
          0.08,
          -0.02,
          0.17,
          0.28,
          -0.04,
          -0.16,
          0.14,
          -0.05,
          0.05,
          0.19,
          -0.09,
          0.44,
          0.21,
          0.11,
          -1.06,
          -0.64,
          -0.08,
          0.12,
          0.09,
          0.32,
          -0.05,
          0.08,
          0.07,
          -0.01,
          0.07,
          0.02,
          0.03,
          -0.67,
          0.19,
          0.15,
          0.02,
          0.29,
          0.54,
          -0.11,
          0.15,
          -0.67,
          0.11,
          0.33,
          0.19,
          0.08,
          0.11,
          -0.54,
          -0.35,
          0.18,
          0.24,
          0.24,
          -0.01,
          0.34,
          0.42,
          0.05,
          0.13,
          0.35,
          -0.08,
          0.22,
          0.16,
          0.03,
          -0.07,
          0.2,
          0.05,
          0.11,
          0.05,
          -0.12,
          0.18,
          0.12,
          0.07,
          0.29,
          -0.82,
          -0.17,
          0.75,
          -0.39,
          -0.1,
          -0.25,
          0.11,
          0.81,
          0.14,
          0.26,
          0.06,
          0.09,
          0.1,
          -0.16,
          0.14,
          0.22,
          0.16,
          0.14,
          0,
          0.11,
          -1.39,
          0.38,
          -0.15,
          -0.05,
          0.18,
          -0.13,
          0.03,
          0.02,
          -0.12,
          0.36,
          -0.67,
          -0.29,
          -0.19,
          0.18,
          0.3,
          -0.08,
          0.13,
          0.08,
          0.46,
          -1.44,
          -0.15,
          0.24,
          0.35,
          0.11,
          -0.12,
          0.16,
          0.21,
          -0.03,
          0.5,
          0.14,
          0.18,
          0.51,
          -0.02,
          0.03,
          0.23,
          0.11,
          0.24,
          -0.21,
          -0.16,
          0.06,
          -0.02,
          0.34,
          -0.27,
          0.49,
          0.02,
          0.13,
          -0.16,
          0.17,
          0.18,
          0.15,
          -0.05,
          0.18,
          0.05,
          0.33,
          0.09,
          0.28,
          0.1,
          -0.17,
          0.15,
          0.29,
          0.05,
          -1.03,
          0.02,
          0,
          -0.07,
          0.07,
          -0.26,
          0.11,
          0.08,
          -0.09,
          0.31,
          0,
          -0.04,
          -0.05,
          0.09,
          -0.22,
          0.26,
          -0.31,
          0.17,
          0.02,
          0.1,
          0.29,
          0.17,
          0.06,
          -0.27,
          0.1,
          0.15,
          0.22,
          -0.1,
          -0.15,
          0.11,
          0.03,
          0.05,
          0.17,
          0.04,
          0.08,
          0.1,
          -0.29,
          -0.1,
          0.21,
          0.11,
          -0.02,
          0.02,
          0.02,
          -0.01,
          0.02,
          -0.03,
          0.02,
          0,
          0.09,
          -0.13,
          -0.41,
          -0.15,
          -0.01,
          -0.71,
          0.01,
          0.09,
          -0.2,
          -0.07,
          0.1,
          -0.16,
          0.28,
          0.15,
          0.08,
          0.36,
          0.15,
          0.14,
          0.08,
          0.09,
          0.14,
          0.14,
          0.42,
          0.31,
          0.13,
          0.13,
          -0.03,
          0.04,
          -0.08,
          0.11,
          -0.16,
          -0.14,
          -0.02,
          0.05,
          -0.07,
          -0.95,
          -0.03,
          0.01,
          -0.24,
          -0.11,
          0.09,
          0.21,
          0.23,
          0.11,
          0.19,
          0.17,
          -0.26,
          -0.02,
          0.17,
          -0.02,
          -0.01,
          -0.02,
          0.03,
          0.06,
          0.12,
          0.09,
          0.15,
          0.09,
          0,
          -0.14,
          0.02,
          0.27,
          0.09,
          0.05,
          0.06,
          0.07,
          0.03,
          0.07,
          -0.07,
          -0.66,
          -0.02,
          -0.42,
          0.17,
          0.11,
          0.06,
          -0.13,
          0.1,
          0.22,
          -1.08,
          0.07,
          -0.52,
          0.04,
          -0.36,
          -0.19,
          0.09,
          0,
          0.08,
          -0.16,
          -0.14,
          0.01,
          0.02,
          0.11,
          0,
          -0.17,
          0.07,
          0.1,
          0.08,
          -0.29,
          0.47,
          -0.43,
          0.06,
          0.12,
          0.09,
          -0.25,
          0.17,
          0.03,
          0.05,
          -0.02,
          -0.01,
          -0.06,
          -0.04,
          -0.82,
          0.22,
          0.29,
          0.26,
          -0.24,
          0.09,
          -0.02,
          0.03,
          0.39,
          0.1,
          0.09,
          0.02,
          -0.19,
          0.06,
          0.16,
          -0.81,
          -0.16,
          0.01,
          -0.03,
          0.03,
          0.03,
          -0.03,
          -0.01,
          0.16,
          0,
          0.2,
          -0.07,
          -0.21,
          -0.11,
          0.22,
          0.05,
          -0.24,
          -0.19,
          0.11,
          -0.01,
          0.17,
          -0.02,
          -0.17,
          0.39,
          0.07,
          0.14,
          -0.16,
          0.07,
          -0.12,
          -0.24,
          -0.06,
          0.19,
          0.05,
          0.04,
          0.3,
          0.08,
          0.26,
          0.16,
          -0.07,
          0.05,
          0.48,
          0.03,
          -0.18,
          0.06,
          -0.04,
          0,
          0.25,
          0.33,
          0.08,
          0.17,
          0.02,
          0.08,
          0.04,
          0.14,
          0.01,
          0.04,
          0.11,
          0.05,
          0.18,
          0.01,
          0.93,
          -0.16,
          0.05,
          0.12,
          0.09,
          0.17,
          -0.3,
          0.01,
          0.06,
          0.09,
          0.06,
          0.05,
          -0.37,
          0.05,
          0.15,
          -0.07,
          0.1,
          -1.5,
          0.03,
          0.14,
          -0.03,
          0.19,
          0.15,
          0.08,
          0.12,
          0,
          0.17,
          -0.03,
          0.02,
          0.45,
          0.33,
          0.05,
          0,
          0,
          -0.5,
          0.11,
          0.12,
          0.2,
          0.08,
          0.03,
          0.09,
          -0.15,
          0.04,
          0.02,
          0.13,
          0.14,
          0.09,
          0.06,
          0.28,
          -0.19,
          0.06,
          0.01,
          0.11,
          0.06,
          0.07,
          -0.08,
          0.03,
          0.03,
          0.1,
          -0.3,
          0.03,
          -0.04,
          0.08,
          -0.15,
          0.06,
          0.17,
          0.06,
          0.07,
          0.08,
          0.11,
          0.1,
          0.09,
          0.02,
          0.06,
          0.98,
          0.47,
          0.04,
          0.02,
          0.07,
          0.01,
          -0.18,
          0.34,
          0.04,
          -0.02,
          -0.61,
          0.03,
          0,
          0.19,
          0.11,
          0.32,
          -0.25,
          0.14,
          0.03,
          0.02,
          0.01,
          0.07,
          0.02,
          0.2,
          -0.09,
          -0.4,
          0.13,
          0.11,
          -0.02,
          -0.32,
          0.18,
          0.1,
          0.14,
          -0.07,
          -0.02,
          -0.49,
          0.09,
          -0.18,
          -0.38,
          0.27,
          0.07,
          -0.27,
          -0.15,
          0.01,
          0.09,
          0.05,
          0.02,
          0.02,
          -0.05,
          0.08,
          -0.17,
          0.3,
          0.34,
          0.2,
          0.06,
          0.07,
          0.1,
          0.24,
          0.08,
          0.1,
          0.02,
          -0.01,
          0.09,
          0.08,
          0.33,
          0.28,
          0.01,
          -0.17,
          -0.01,
          0.1,
          0,
          0.08,
          -0.21,
          -0.25,
          -0.18,
          -0.03,
          0.08,
          0.09,
          -0.12,
          0.23,
          0.16,
          0.07,
          -0.61,
          0.08,
          0.2,
          -1.02,
          0.18,
          0.08,
          -0.01,
          -0.04,
          0.02,
          0.22,
          0.1,
          0.2,
          0.31,
          0.02,
          -0.11,
          0.12,
          0.06,
          0.22,
          -0.3,
          -0.01,
          0.17,
          0.03,
          -0.02,
          -0.04,
          -0.17,
          0.14,
          0.33,
          -0.27,
          -0.02,
          -0.31,
          0.16,
          0.17,
          0.11,
          -0.08,
          0.12,
          0.02,
          0.04,
          -0.02,
          0.09,
          0.09,
          0.03,
          0.03,
          0.07,
          0.02,
          -0.37,
          0.02,
          0,
          0.16,
          -0.25,
          0.25,
          -0.25,
          0.02,
          -0.06,
          0.08,
          0.11,
          0.33,
          0.13,
          0.1,
          -0.05,
          -0.3,
          0.37,
          0.08,
          0.12,
          0.01,
          -0.01,
          0.07,
          -0.87,
          -0.01,
          -0.57,
          -0.33,
          0.19,
          0.66,
          -0.1,
          -0.75,
          0.18,
          0.89,
          0.27,
          -0.1,
          0.36,
          0.02,
          -0.29,
          0.18,
          0.17,
          -0.2,
          -0.33,
          0.05,
          -0.23,
          0.05,
          0.21,
          -0.05,
          0.12,
          0.13,
          1.07,
          0.08,
          0.55,
          -0.11,
          0.15,
          -0.05,
          0.01,
          0.08,
          -0.26,
          0.22,
          0.12,
          -0.45,
          -0.1,
          0.06,
          0.08,
          -0.09,
          0.1,
          -0.01,
          0.02,
          -0.03,
          -0.02,
          0.21,
          -0.12,
          -0.17,
          0.24,
          0.32,
          -0.65,
          -0.53,
          0.04,
          0.27,
          0.46,
          0.08,
          0.08,
          0.08,
          0.14,
          -0.02,
          0.22,
          -0.02,
          -0.24,
          0.11,
          0.12,
          0.03,
          0.14,
          0.24,
          0.2,
          -0.22,
          -0.02,
          -0.05,
          -0.18,
          0.22,
          -0.03,
          0.1,
          -0.01,
          0.08,
          0.04,
          0.12,
          -0.3,
          0.07,
          0.06,
          0,
          -0.08,
          0.12,
          0.02,
          0,
          0.09,
          0.06,
          0,
          -0.08,
          -0.03,
          -0.56,
          0.08,
          0,
          0.04,
          0.05,
          0.08,
          0.03,
          -0.16,
          0.09,
          -0.14,
          0.08,
          0.14,
          0.1,
          -0.02,
          -0.02,
          0.08,
          0.06,
          0.02,
          -0.03,
          0.02,
          0.19,
          0.13,
          0.16,
          0.03,
          0.06,
          0.07,
          0.01,
          -0.09,
          0.06,
          0.03,
          0.06,
          0.02,
          0.08,
          0.01,
          -0.11,
          -0.2,
          0.07,
          0.09,
          -0.16,
          0.04,
          0.07,
          0.1,
          0.04,
          0.18,
          0.06,
          0.08,
          -0.68,
          0.05,
          0.12,
          0,
          -0.05,
          0.07,
          0.03,
          -0.11,
          0.09,
          0.01,
          -0.19,
          0.09,
          0.05,
          -0.06,
          0.06,
          0.04,
          -0.03,
          0.04,
          0.14,
          0.06,
          0.01,
          0,
          -0.35,
          0,
          0.13,
          0.02,
          0.04,
          -0.13,
          0.05,
          0.08,
          -0.15,
          0.14,
          0.07,
          0,
          -0.07,
          0.02,
          -0.12,
          0.03,
          -0.42,
          0.1,
          -0.26,
          -0.52,
          -0.03,
          0.12,
          0.18,
          0.02,
          -0.03,
          0.12,
          0.05,
          -0.05,
          -0.06,
          0.06,
          0.02,
          -0.01,
          -0.08,
          -0.26,
          -0.02,
          -1.33,
          0.02,
          -0.09,
          -0.35,
          0.03,
          0.08,
          -0.12,
          -0.09,
          0.24,
          -0.17,
          0.08,
          0.1,
          -0.03,
          -0.01,
          0.12,
          0.32,
          -0.1,
          0.02,
          0.09,
          -0.03,
          -0.03,
          0.19,
          -0.01,
          0.17,
          -0.01,
          -0.05,
          -0.02,
          0.11,
          -0.02,
          0.02,
          0,
          0.3,
          -0.28,
          -0.19,
          -0.15,
          0.24,
          0.12,
          0.02,
          0.01,
          0.06,
          0.05,
          -0.42,
          0.06,
          -0.1,
          -0.14,
          -0.1,
          0.05,
          0.02,
          0.15,
          0.08,
          0.04,
          0.04,
          0,
          0,
          0.15,
          0.01,
          -0.03,
          0,
          -0.16,
          -0.04,
          0.08,
          0.02,
          0.51,
          0.12,
          -0.11,
          0.21,
          0.05,
          0.08,
          0.04,
          -0.33,
          0.07,
          -0.01,
          0.05,
          0.07,
          0.04,
          0,
          0.05,
          0,
          0.12,
          0.01,
          0.05,
          0.06,
          -0.17,
          0,
          0.06,
          -0.01,
          0.12,
          -0.24,
          0.14,
          0.03,
          0.01,
          0.15,
          0.05,
          0.48,
          0,
          0.14,
          -0.04,
          0.06,
          0.16,
          -0.08,
          0.1,
          0.07,
          0.01,
          0.06,
          0.18,
          -0.28,
          -0.14,
          0.12,
          0.1,
          0.05,
          -0.33,
          0.03,
          0.12,
          0.04,
          0.21,
          0.03,
          0,
          0.03,
          0.03,
          -0.26,
          0.14,
          0,
          0.05,
          0.03,
          -0.03,
          0.07,
          0.07,
          -0.41,
          0.01,
          0.04,
          0.03,
          -0.13,
          0,
          -0.02,
          0.06,
          -0.22,
          0.12,
          -0.14,
          0.09,
          -0.11,
          0.05,
          0.09,
          0.06,
          -0.03,
          -0.05,
          -0.11,
          0.01,
          0.07,
          0.13,
          0.06,
          0,
          0.04,
          0.01,
          0.08,
          0.14,
          0.03,
          0.19,
          0.05,
          0.13,
          0.03,
          -0.11,
          0.11,
          0.12,
          0.08,
          -0.1,
          -0.01,
          -0.51,
          0.13,
          0.06,
          0.09,
          -0.01,
          0.4,
          -0.01,
          0.04,
          0.04,
          0.06,
          0.05,
          -0.25,
          -0.49,
          0.05,
          0.06,
          0.11,
          -0.03,
          0.02,
          -0.05,
          0.06,
          0.11,
          0.03,
          -0.07,
          0.04,
          0.01,
          0.04,
          -0.05,
          0.04,
          0.05,
          0.05,
          0.01,
          -0.33,
          0.06,
          -0.13,
          0.1,
          -0.03,
          0.05,
          0.08,
          0.06,
          0.09,
          0.19,
          0,
          -0.07,
          0.07,
          0.14,
          -0.15,
          0.07,
          0,
          0.03,
          0.11,
          0.04,
          0.14,
          0.04,
          0.01,
          0.05,
          0.13,
          0.12,
          -0.09,
          -0.06,
          0.08,
          0.05,
          0.03,
          0,
          0.06,
          0.03,
          -0.01,
          0,
          0.01,
          0.13,
          -0.31,
          0.09,
          0.08,
          0.04,
          -0.04,
          -0.02,
          0.05,
          0.18,
          -0.16,
          -0.08,
          -0.07,
          0.16,
          0.08,
          0.02,
          0.04,
          0,
          0.09,
          -0.07,
          0.01,
          0.08,
          0.07,
          0.06,
          0.08,
          0.1,
          0,
          -0.05,
          0.16,
          0.06,
          -0.11,
          0.05,
          0.02,
          0.01,
          0.06,
          0.03,
          -0.08,
          -0.09,
          0.07,
          0,
          0.04,
          0.01,
          0,
          0.03,
          0.2,
          0.03,
          0.08,
          0.08,
          -0.01,
          0.02,
          -0.03,
          0.02,
          0,
          0.06,
          0.05,
          0.13,
          -0.21,
          0.06,
          0.02,
          0.01,
          0.03,
          -0.2,
          -0.08,
          -0.09,
          0.03,
          -0.03,
          -0.02,
          -0.12,
          0.07,
          0.11,
          -0.01,
          -0.09,
          -0.03,
          0.02,
          0.03,
          0.05,
          0.02,
          0.05,
          -0.05,
          0.02,
          -0.03,
          0.03,
          -0.01,
          0.38,
          -0.33,
          0.07,
          -0.17,
          -0.08,
          0.09,
          -1.08,
          0.06,
          0.01,
          -0.2,
          0.11,
          -0.05,
          0.06,
          -0.01,
          0.03,
          0.05,
          -0.01,
          0.05,
          0.03,
          0.07,
          -0.04,
          0.05,
          0.05,
          0.03,
          -0.03,
          -0.19,
          -0.15,
          0.16,
          0.05,
          0.11,
          0.08,
          0.08,
          -0.1,
          0,
          -0.03,
          0.07,
          -0.11,
          0.04,
          0.01,
          -0.08,
          -0.18,
          0.1,
          0.02,
          0.15,
          -0.04,
          0.08,
          -0.01,
          0.02,
          -0.31,
          0.05,
          0.12,
          0.06,
          0.04,
          0.17,
          -0.09,
          -0.39,
          0.14,
          0.22,
          -0.15,
          0.3,
          -0.54,
          -0.01,
          -0.08,
          0.17,
          0.1,
          0.13,
          -0.13,
          -0.13,
          0.09,
          0.08,
          0.08,
          -0.09,
          -0.08,
          0.07,
          0.05,
          -0.36,
          0.1,
          0.1,
          -0.01,
          -0.02,
          0.08,
          -0.3,
          0.07,
          0.05,
          -0.32,
          0.1,
          0.25,
          -0.47,
          -0.08,
          0.03,
          0.08,
          -0.85,
          0.07,
          0.08,
          0.2,
          0.05,
          -0.09,
          -0.1,
          0.12,
          0.05,
          -0.09,
          0.09,
          0.13,
          -0.17,
          0.02,
          -0.3,
          0.07,
          0.04,
          0.2,
          -0.13,
          0.07,
          0.04,
          0.03,
          0.26,
          -0.13,
          0.16,
          -0.5,
          -0.14,
          0.11,
          0.01,
          -0.26,
          0.2,
          0.01,
          0.09,
          0.04,
          0.08,
          0.02,
          0.02,
          0.07,
          0.01,
          -0.24,
          0.07,
          0.3,
          0.14,
          0.02,
          0.02,
          0.01,
          0.01,
          0.02,
          0.06,
          0.06,
          -0.12,
          -0.07,
          0.13,
          0.1,
          -0.04,
          -0.21,
          -0.07,
          0.05,
          0.02,
          0.03,
          0.08,
          0.06,
          -0.06,
          0.11,
          -0.01,
          -0.01,
          -0.03,
          -0.02,
          -0.23,
          -0.19,
          0.06,
          0.04,
          0.19,
          0.08,
          0.1,
          0.08,
          0.13,
          0,
          0.18,
          0.09,
          0,
          -0.01,
          0.01,
          0.02,
          -0.11,
          -0.08,
          0.03,
          0.04,
          0.04,
          0.06,
          -0.24,
          0.06,
          0.02,
          -0.27,
          -0.15,
          0.07,
          -0.07,
          0.09,
          0.05,
          0.04,
          -0.26,
          -0.12,
          0.06,
          0.06,
          0,
          0.01,
          -0.01,
          -0.44,
          -0.28,
          -0.05,
          0.03,
          0.13,
          0.1,
          0.04,
          -0.06,
          -0.2,
          -0.16,
          -0.01,
          0.18,
          0.14,
          0.05,
          0.02,
          0.01,
          -0.29,
          0.07,
          0.02,
          0.03,
          -0.04,
          0.09,
          0.23,
          -0.19,
          0,
          0.2,
          0.13,
          0.07,
          -0.36,
          -0.05,
          -0.05,
          0.34,
          0.07,
          0.15,
          0.01,
          0.15,
          0,
          -0.13,
          -0.25,
          -0.23,
          -0.35,
          -0.16,
          -0.23,
          0.03,
          -0.14,
          -0.3,
          0.7,
          0.17,
          0.09,
          0.05,
          0.02,
          0.18,
          0.34,
          0.02,
          -0.07,
          0.1,
          0.07,
          0.11,
          -0.14,
          0.14
         ],
         "xaxis": "x",
         "yaxis": "y"
        }
       ],
       "layout": {
        "barmode": "relative",
        "legend": {
         "tracegroupgap": 0
        },
        "margin": {
         "t": 60
        },
        "template": {
         "data": {
          "bar": [
           {
            "error_x": {
             "color": "#2a3f5f"
            },
            "error_y": {
             "color": "#2a3f5f"
            },
            "marker": {
             "line": {
              "color": "#E5ECF6",
              "width": 0.5
             },
             "pattern": {
              "fillmode": "overlay",
              "size": 10,
              "solidity": 0.2
             }
            },
            "type": "bar"
           }
          ],
          "barpolar": [
           {
            "marker": {
             "line": {
              "color": "#E5ECF6",
              "width": 0.5
             },
             "pattern": {
              "fillmode": "overlay",
              "size": 10,
              "solidity": 0.2
             }
            },
            "type": "barpolar"
           }
          ],
          "carpet": [
           {
            "aaxis": {
             "endlinecolor": "#2a3f5f",
             "gridcolor": "white",
             "linecolor": "white",
             "minorgridcolor": "white",
             "startlinecolor": "#2a3f5f"
            },
            "baxis": {
             "endlinecolor": "#2a3f5f",
             "gridcolor": "white",
             "linecolor": "white",
             "minorgridcolor": "white",
             "startlinecolor": "#2a3f5f"
            },
            "type": "carpet"
           }
          ],
          "choropleth": [
           {
            "colorbar": {
             "outlinewidth": 0,
             "ticks": ""
            },
            "type": "choropleth"
           }
          ],
          "contour": [
           {
            "colorbar": {
             "outlinewidth": 0,
             "ticks": ""
            },
            "colorscale": [
             [
              0,
              "#0d0887"
             ],
             [
              0.1111111111111111,
              "#46039f"
             ],
             [
              0.2222222222222222,
              "#7201a8"
             ],
             [
              0.3333333333333333,
              "#9c179e"
             ],
             [
              0.4444444444444444,
              "#bd3786"
             ],
             [
              0.5555555555555556,
              "#d8576b"
             ],
             [
              0.6666666666666666,
              "#ed7953"
             ],
             [
              0.7777777777777778,
              "#fb9f3a"
             ],
             [
              0.8888888888888888,
              "#fdca26"
             ],
             [
              1,
              "#f0f921"
             ]
            ],
            "type": "contour"
           }
          ],
          "contourcarpet": [
           {
            "colorbar": {
             "outlinewidth": 0,
             "ticks": ""
            },
            "type": "contourcarpet"
           }
          ],
          "heatmap": [
           {
            "colorbar": {
             "outlinewidth": 0,
             "ticks": ""
            },
            "colorscale": [
             [
              0,
              "#0d0887"
             ],
             [
              0.1111111111111111,
              "#46039f"
             ],
             [
              0.2222222222222222,
              "#7201a8"
             ],
             [
              0.3333333333333333,
              "#9c179e"
             ],
             [
              0.4444444444444444,
              "#bd3786"
             ],
             [
              0.5555555555555556,
              "#d8576b"
             ],
             [
              0.6666666666666666,
              "#ed7953"
             ],
             [
              0.7777777777777778,
              "#fb9f3a"
             ],
             [
              0.8888888888888888,
              "#fdca26"
             ],
             [
              1,
              "#f0f921"
             ]
            ],
            "type": "heatmap"
           }
          ],
          "heatmapgl": [
           {
            "colorbar": {
             "outlinewidth": 0,
             "ticks": ""
            },
            "colorscale": [
             [
              0,
              "#0d0887"
             ],
             [
              0.1111111111111111,
              "#46039f"
             ],
             [
              0.2222222222222222,
              "#7201a8"
             ],
             [
              0.3333333333333333,
              "#9c179e"
             ],
             [
              0.4444444444444444,
              "#bd3786"
             ],
             [
              0.5555555555555556,
              "#d8576b"
             ],
             [
              0.6666666666666666,
              "#ed7953"
             ],
             [
              0.7777777777777778,
              "#fb9f3a"
             ],
             [
              0.8888888888888888,
              "#fdca26"
             ],
             [
              1,
              "#f0f921"
             ]
            ],
            "type": "heatmapgl"
           }
          ],
          "histogram": [
           {
            "marker": {
             "pattern": {
              "fillmode": "overlay",
              "size": 10,
              "solidity": 0.2
             }
            },
            "type": "histogram"
           }
          ],
          "histogram2d": [
           {
            "colorbar": {
             "outlinewidth": 0,
             "ticks": ""
            },
            "colorscale": [
             [
              0,
              "#0d0887"
             ],
             [
              0.1111111111111111,
              "#46039f"
             ],
             [
              0.2222222222222222,
              "#7201a8"
             ],
             [
              0.3333333333333333,
              "#9c179e"
             ],
             [
              0.4444444444444444,
              "#bd3786"
             ],
             [
              0.5555555555555556,
              "#d8576b"
             ],
             [
              0.6666666666666666,
              "#ed7953"
             ],
             [
              0.7777777777777778,
              "#fb9f3a"
             ],
             [
              0.8888888888888888,
              "#fdca26"
             ],
             [
              1,
              "#f0f921"
             ]
            ],
            "type": "histogram2d"
           }
          ],
          "histogram2dcontour": [
           {
            "colorbar": {
             "outlinewidth": 0,
             "ticks": ""
            },
            "colorscale": [
             [
              0,
              "#0d0887"
             ],
             [
              0.1111111111111111,
              "#46039f"
             ],
             [
              0.2222222222222222,
              "#7201a8"
             ],
             [
              0.3333333333333333,
              "#9c179e"
             ],
             [
              0.4444444444444444,
              "#bd3786"
             ],
             [
              0.5555555555555556,
              "#d8576b"
             ],
             [
              0.6666666666666666,
              "#ed7953"
             ],
             [
              0.7777777777777778,
              "#fb9f3a"
             ],
             [
              0.8888888888888888,
              "#fdca26"
             ],
             [
              1,
              "#f0f921"
             ]
            ],
            "type": "histogram2dcontour"
           }
          ],
          "mesh3d": [
           {
            "colorbar": {
             "outlinewidth": 0,
             "ticks": ""
            },
            "type": "mesh3d"
           }
          ],
          "parcoords": [
           {
            "line": {
             "colorbar": {
              "outlinewidth": 0,
              "ticks": ""
             }
            },
            "type": "parcoords"
           }
          ],
          "pie": [
           {
            "automargin": true,
            "type": "pie"
           }
          ],
          "scatter": [
           {
            "fillpattern": {
             "fillmode": "overlay",
             "size": 10,
             "solidity": 0.2
            },
            "type": "scatter"
           }
          ],
          "scatter3d": [
           {
            "line": {
             "colorbar": {
              "outlinewidth": 0,
              "ticks": ""
             }
            },
            "marker": {
             "colorbar": {
              "outlinewidth": 0,
              "ticks": ""
             }
            },
            "type": "scatter3d"
           }
          ],
          "scattercarpet": [
           {
            "marker": {
             "colorbar": {
              "outlinewidth": 0,
              "ticks": ""
             }
            },
            "type": "scattercarpet"
           }
          ],
          "scattergeo": [
           {
            "marker": {
             "colorbar": {
              "outlinewidth": 0,
              "ticks": ""
             }
            },
            "type": "scattergeo"
           }
          ],
          "scattergl": [
           {
            "marker": {
             "colorbar": {
              "outlinewidth": 0,
              "ticks": ""
             }
            },
            "type": "scattergl"
           }
          ],
          "scattermapbox": [
           {
            "marker": {
             "colorbar": {
              "outlinewidth": 0,
              "ticks": ""
             }
            },
            "type": "scattermapbox"
           }
          ],
          "scatterpolar": [
           {
            "marker": {
             "colorbar": {
              "outlinewidth": 0,
              "ticks": ""
             }
            },
            "type": "scatterpolar"
           }
          ],
          "scatterpolargl": [
           {
            "marker": {
             "colorbar": {
              "outlinewidth": 0,
              "ticks": ""
             }
            },
            "type": "scatterpolargl"
           }
          ],
          "scatterternary": [
           {
            "marker": {
             "colorbar": {
              "outlinewidth": 0,
              "ticks": ""
             }
            },
            "type": "scatterternary"
           }
          ],
          "surface": [
           {
            "colorbar": {
             "outlinewidth": 0,
             "ticks": ""
            },
            "colorscale": [
             [
              0,
              "#0d0887"
             ],
             [
              0.1111111111111111,
              "#46039f"
             ],
             [
              0.2222222222222222,
              "#7201a8"
             ],
             [
              0.3333333333333333,
              "#9c179e"
             ],
             [
              0.4444444444444444,
              "#bd3786"
             ],
             [
              0.5555555555555556,
              "#d8576b"
             ],
             [
              0.6666666666666666,
              "#ed7953"
             ],
             [
              0.7777777777777778,
              "#fb9f3a"
             ],
             [
              0.8888888888888888,
              "#fdca26"
             ],
             [
              1,
              "#f0f921"
             ]
            ],
            "type": "surface"
           }
          ],
          "table": [
           {
            "cells": {
             "fill": {
              "color": "#EBF0F8"
             },
             "line": {
              "color": "white"
             }
            },
            "header": {
             "fill": {
              "color": "#C8D4E3"
             },
             "line": {
              "color": "white"
             }
            },
            "type": "table"
           }
          ]
         },
         "layout": {
          "annotationdefaults": {
           "arrowcolor": "#2a3f5f",
           "arrowhead": 0,
           "arrowwidth": 1
          },
          "autotypenumbers": "strict",
          "coloraxis": {
           "colorbar": {
            "outlinewidth": 0,
            "ticks": ""
           }
          },
          "colorscale": {
           "diverging": [
            [
             0,
             "#8e0152"
            ],
            [
             0.1,
             "#c51b7d"
            ],
            [
             0.2,
             "#de77ae"
            ],
            [
             0.3,
             "#f1b6da"
            ],
            [
             0.4,
             "#fde0ef"
            ],
            [
             0.5,
             "#f7f7f7"
            ],
            [
             0.6,
             "#e6f5d0"
            ],
            [
             0.7,
             "#b8e186"
            ],
            [
             0.8,
             "#7fbc41"
            ],
            [
             0.9,
             "#4d9221"
            ],
            [
             1,
             "#276419"
            ]
           ],
           "sequential": [
            [
             0,
             "#0d0887"
            ],
            [
             0.1111111111111111,
             "#46039f"
            ],
            [
             0.2222222222222222,
             "#7201a8"
            ],
            [
             0.3333333333333333,
             "#9c179e"
            ],
            [
             0.4444444444444444,
             "#bd3786"
            ],
            [
             0.5555555555555556,
             "#d8576b"
            ],
            [
             0.6666666666666666,
             "#ed7953"
            ],
            [
             0.7777777777777778,
             "#fb9f3a"
            ],
            [
             0.8888888888888888,
             "#fdca26"
            ],
            [
             1,
             "#f0f921"
            ]
           ],
           "sequentialminus": [
            [
             0,
             "#0d0887"
            ],
            [
             0.1111111111111111,
             "#46039f"
            ],
            [
             0.2222222222222222,
             "#7201a8"
            ],
            [
             0.3333333333333333,
             "#9c179e"
            ],
            [
             0.4444444444444444,
             "#bd3786"
            ],
            [
             0.5555555555555556,
             "#d8576b"
            ],
            [
             0.6666666666666666,
             "#ed7953"
            ],
            [
             0.7777777777777778,
             "#fb9f3a"
            ],
            [
             0.8888888888888888,
             "#fdca26"
            ],
            [
             1,
             "#f0f921"
            ]
           ]
          },
          "colorway": [
           "#636efa",
           "#EF553B",
           "#00cc96",
           "#ab63fa",
           "#FFA15A",
           "#19d3f3",
           "#FF6692",
           "#B6E880",
           "#FF97FF",
           "#FECB52"
          ],
          "font": {
           "color": "#2a3f5f"
          },
          "geo": {
           "bgcolor": "white",
           "lakecolor": "white",
           "landcolor": "#E5ECF6",
           "showlakes": true,
           "showland": true,
           "subunitcolor": "white"
          },
          "hoverlabel": {
           "align": "left"
          },
          "hovermode": "closest",
          "mapbox": {
           "style": "light"
          },
          "paper_bgcolor": "white",
          "plot_bgcolor": "#E5ECF6",
          "polar": {
           "angularaxis": {
            "gridcolor": "white",
            "linecolor": "white",
            "ticks": ""
           },
           "bgcolor": "#E5ECF6",
           "radialaxis": {
            "gridcolor": "white",
            "linecolor": "white",
            "ticks": ""
           }
          },
          "scene": {
           "xaxis": {
            "backgroundcolor": "#E5ECF6",
            "gridcolor": "white",
            "gridwidth": 2,
            "linecolor": "white",
            "showbackground": true,
            "ticks": "",
            "zerolinecolor": "white"
           },
           "yaxis": {
            "backgroundcolor": "#E5ECF6",
            "gridcolor": "white",
            "gridwidth": 2,
            "linecolor": "white",
            "showbackground": true,
            "ticks": "",
            "zerolinecolor": "white"
           },
           "zaxis": {
            "backgroundcolor": "#E5ECF6",
            "gridcolor": "white",
            "gridwidth": 2,
            "linecolor": "white",
            "showbackground": true,
            "ticks": "",
            "zerolinecolor": "white"
           }
          },
          "shapedefaults": {
           "line": {
            "color": "#2a3f5f"
           }
          },
          "ternary": {
           "aaxis": {
            "gridcolor": "white",
            "linecolor": "white",
            "ticks": ""
           },
           "baxis": {
            "gridcolor": "white",
            "linecolor": "white",
            "ticks": ""
           },
           "bgcolor": "#E5ECF6",
           "caxis": {
            "gridcolor": "white",
            "linecolor": "white",
            "ticks": ""
           }
          },
          "title": {
           "x": 0.05
          },
          "xaxis": {
           "automargin": true,
           "gridcolor": "white",
           "linecolor": "white",
           "ticks": "",
           "title": {
            "standoff": 15
           },
           "zerolinecolor": "white",
           "zerolinewidth": 2
          },
          "yaxis": {
           "automargin": true,
           "gridcolor": "white",
           "linecolor": "white",
           "ticks": "",
           "title": {
            "standoff": 15
           },
           "zerolinecolor": "white",
           "zerolinewidth": 2
          }
         }
        },
        "xaxis": {
         "anchor": "y",
         "domain": [
          0,
          1
         ],
         "title": {
          "text": "Gain%"
         }
        },
        "yaxis": {
         "anchor": "x",
         "domain": [
          0,
          1
         ],
         "title": {
          "text": "count"
         }
        }
       }
      }
     },
     "metadata": {},
     "output_type": "display_data"
    },
    {
     "name": "stdout",
     "output_type": "stream",
     "text": [
      "(40, 60)\n",
      "Total trades: 1974\n",
      "Average percent gain per trade: 0.0%\n",
      "Total percent gain: 32.66%\n"
     ]
    },
    {
     "name": "stderr",
     "output_type": "stream",
     "text": [
      "/var/folders/hb/0dd7xx3d4mzgbx_w9m1fmb2h0000gn/T/ipykernel_9734/1167655356.py:12: FutureWarning:\n",
      "\n",
      "The behavior of DataFrame concatenation with empty or all-NA entries is deprecated. In a future version, this will no longer exclude empty or all-NA columns when determining the result dtypes. To retain the old behavior, exclude the relevant entries before the concat operation.\n",
      "\n"
     ]
    },
    {
     "data": {
      "application/vnd.plotly.v1+json": {
       "config": {
        "plotlyServerURL": "https://plot.ly"
       },
       "data": [
        {
         "alignmentgroup": "True",
         "bingroup": "x",
         "hovertemplate": "Gain%=%{x}<br>count=%{y}<extra></extra>",
         "legendgroup": "",
         "marker": {
          "color": "#636efa",
          "pattern": {
           "shape": ""
          }
         },
         "name": "",
         "nbinsx": 100,
         "offsetgroup": "",
         "orientation": "v",
         "showlegend": false,
         "type": "histogram",
         "x": [
          0.14,
          0.15,
          0.39,
          -0.78,
          -0.09,
          -0.08,
          -0.2,
          0.14,
          0.01,
          0.16,
          0.21,
          -0.13,
          -0.12,
          0.18,
          -0.05,
          0.01,
          0.14,
          0.12,
          0.02,
          0.02,
          -0.22,
          -0.03,
          0.12,
          -0.08,
          -0.08,
          -0.01,
          0.43,
          0.23,
          -0.08,
          0.03,
          -0.02,
          -0.07,
          0.34,
          0.04,
          0.15,
          -0.03,
          0.14,
          0.05,
          -0.08,
          0.06,
          -0.63,
          0.01,
          -0.16,
          0.1,
          -0.1,
          0.06,
          -0.03,
          0.01,
          0.26,
          -0.36,
          -0.12,
          0.12,
          -0.17,
          0.06,
          0.05,
          -0.03,
          -0.31,
          0.38,
          0.25,
          0.39,
          -0.1,
          -0.11,
          0.03,
          0.16,
          0.04,
          0.14,
          0.03,
          0.24,
          -0.05,
          0.09,
          -0.18,
          -0.07,
          -0.24,
          0.03,
          -0.05,
          0.27,
          0.05,
          -0.13,
          -0.12,
          0.44,
          0.12,
          0.06,
          -1.41,
          0.27,
          -0.15,
          -0.47,
          0.03,
          -0.03,
          0.09,
          0.32,
          -0.47,
          0.21,
          0.02,
          -0.1,
          0.06,
          0.13,
          0.12,
          -0.06,
          -0.08,
          -0.08,
          -0.4,
          -0.72,
          0.23,
          0.05,
          0.01,
          0.08,
          0.07,
          0.17,
          -0.04,
          0.06,
          -0.26,
          0.14,
          -0.37,
          0.04,
          0.02,
          -0.06,
          0.17,
          0.04,
          -0.16,
          -0.36,
          -0.06,
          -0.37,
          0.27,
          0.04,
          0.46,
          0.1,
          -0.16,
          0.06,
          0.12,
          0.03,
          0.54,
          -0.3,
          0.11,
          0.14,
          0.21,
          0.06,
          -0.01,
          -0.03,
          0.11,
          -0.01,
          -0.01,
          0.19,
          0.07,
          -0.17,
          0.3,
          -0.06,
          0.07,
          0.22,
          0.32,
          -0.94,
          -0.43,
          0.75,
          -0.22,
          -0.31,
          0.02,
          -0.31,
          -0.08,
          0.17,
          0.17,
          0.09,
          0.04,
          0.05,
          -0.01,
          0.01,
          0.06,
          -0.05,
          0.26,
          0.05,
          -0.01,
          0.1,
          0.09,
          0,
          0,
          -0.11,
          -0.99,
          -0.09,
          0.07,
          0.15,
          -0.09,
          -0.06,
          0.09,
          -0.01,
          -0.13,
          0.01,
          -0.07,
          -0.2,
          0.32,
          0.24,
          -0.65,
          -0.35,
          -0.16,
          0.34,
          0.15,
          -0.15,
          0.12,
          -0.03,
          -0.02,
          1.03,
          -1.41,
          0,
          0.22,
          -0.16,
          0.49,
          0.11,
          -0.06,
          0.08,
          0.02,
          -0.05,
          0.1,
          0.15,
          0.03,
          0.09,
          0.19,
          0.45,
          -0.01,
          -0.03,
          0.03,
          0.05,
          0.14,
          0.11,
          0.41,
          0.08,
          0.2,
          -0.16,
          -0.5,
          -0.27,
          0.35,
          0.08,
          0.18,
          0.07,
          -0.01,
          -0.27,
          0.01,
          0.04,
          0.07,
          -0.02,
          -0.54,
          0.17,
          0.15,
          0.07,
          0.1,
          0.02,
          -0.05,
          0.11,
          -0.05,
          0.34,
          0.14,
          0.21,
          -0.02,
          0.04,
          0.05,
          -0.01,
          0.02,
          -0.07,
          0.17,
          -0.28,
          -0.12,
          -0.13,
          0.3,
          0.36,
          0.15,
          -0.12,
          0.06,
          0.15,
          -0.01,
          0.05,
          0.04,
          -0.27,
          -0.01,
          0.07,
          0.01,
          0.11,
          -0.08,
          0.05,
          0,
          -0.06,
          -0.07,
          0.08,
          0.08,
          -0.3,
          0.26,
          -0.05,
          -0.15,
          0.14,
          0,
          0.1,
          0.03,
          -0.01,
          0.25,
          0.12,
          -0.21,
          0.06,
          0.03,
          0.07,
          0.14,
          0.2,
          0.05,
          -0.02,
          0.02,
          0.04,
          0.15,
          -0.01,
          -0.01,
          -0.02,
          0.2,
          0.03,
          0,
          0.03,
          0,
          0.1,
          0.04,
          -0.26,
          -0.17,
          0.17,
          0.1,
          0.06,
          0.03,
          -0.01,
          -0.02,
          -0.02,
          0,
          0.01,
          -0.04,
          -0.02,
          0.05,
          -0.05,
          -0.01,
          -0.41,
          -0.15,
          -0.11,
          -0.07,
          -0.65,
          0.17,
          -0.05,
          0.04,
          -0.04,
          0.02,
          -0.17,
          0.01,
          -0.44,
          0.09,
          0.71,
          0.05,
          0.08,
          -0.3,
          -0.11,
          0.14,
          0.05,
          -0.12,
          0.07,
          0.05,
          0.11,
          0.17,
          0.03,
          0.09,
          -0.15,
          -0.02,
          0.03,
          0.06,
          0.01,
          -0.01,
          0,
          0.06,
          -0.08,
          0.02,
          0.05,
          0.01,
          0.16,
          -0.82,
          -0.13,
          0.02,
          -0.18,
          -0.27,
          -0.26,
          0.29,
          0.05,
          0.09,
          0.17,
          -0.35,
          0.13,
          0.13,
          -0.31,
          0.05,
          -0.02,
          0.57,
          0.15,
          0.03,
          0.03,
          0.01,
          0.24,
          0.05,
          0.19,
          0.18,
          0.13,
          0.08,
          0.08,
          0.04,
          0.15,
          0.06,
          0.19,
          -0.01,
          -0.14,
          -0.05,
          -0.01,
          0.05,
          0.11,
          0.03,
          -0.03,
          0.23,
          0,
          0.01,
          0.02,
          0.03,
          -0.1,
          -0.72,
          0.18,
          -0.25,
          -0.1,
          0.09,
          0.23,
          -0.03,
          0.39,
          -0.05,
          0.05,
          0.08,
          0.01,
          -0.16,
          0.02,
          0.22,
          -1.23,
          -0.14,
          0.18,
          -0.68,
          0.04,
          -0.35,
          -0.07,
          -0.22,
          0.06,
          -0.01,
          0.09,
          -0.15,
          -0.02,
          0.02,
          0.08,
          0.01,
          0.12,
          -0.02,
          -0.16,
          0.07,
          0.01,
          0.06,
          0.04,
          -0.01,
          -0.22,
          0.06,
          0.39,
          -0.37,
          -0.02,
          0.13,
          0.22,
          0,
          -0.2,
          0.03,
          0.1,
          0.2,
          -0.1,
          -0.01,
          -0.03,
          0.11,
          -0.01,
          -0.17,
          0.1,
          -0.05,
          -0.12,
          -0.07,
          -0.16,
          -0.52,
          -0.12,
          0.01,
          -0.15,
          0.19,
          -0.17,
          0.09,
          0.08,
          0.08,
          0.04,
          -0.04,
          0.04,
          0.15,
          0.47,
          0.03,
          0.02,
          0.07,
          0.01,
          0.13,
          -0.2,
          -0.01,
          0.17,
          -0.76,
          -0.21,
          -0.03,
          0.17,
          0.28,
          0.07,
          0.04,
          0.3,
          0.04,
          -0.03,
          0.01,
          -0.02,
          0.02,
          0.04,
          -0.02,
          -0.08,
          0.07,
          -0.1,
          0.08,
          0.08,
          -0.36,
          -0.14,
          0.38,
          -0.16,
          -0.69,
          -0.36,
          0.06,
          -0.09,
          0.12,
          0.06,
          -0.1,
          -0.15,
          0.08,
          0.04,
          -0.14,
          -0.14,
          0.02,
          -0.11,
          -0.01,
          0.02,
          0,
          -0.04,
          0.04,
          0.31,
          -0.02,
          0.26,
          -0.13,
          -0.09,
          0.59,
          -0.05,
          -0.2,
          0.03,
          0.48,
          0.13,
          0.1,
          0.01,
          -0.06,
          -0.05,
          -0.02,
          -0.07,
          -0.02,
          -0.55,
          -0.11,
          0.07,
          0.21,
          -0.28,
          0.18,
          0.15,
          0.05,
          0.04,
          0.02,
          0.04,
          0.03,
          0.05,
          -0.04,
          -0.03,
          -0.01,
          0.02,
          0.17,
          0.14,
          0.01,
          0.71,
          -0.16,
          0.14,
          0.06,
          0.01,
          0.2,
          -0.09,
          -0.14,
          -0.02,
          -0.07,
          0.02,
          0.05,
          0.06,
          0.03,
          0.05,
          -0.13,
          -0.07,
          0.01,
          0.08,
          -0.07,
          0.06,
          -1.13,
          -0.09,
          -0.11,
          0,
          0.06,
          -0.02,
          -0.01,
          -0.07,
          0.21,
          0.1,
          0.08,
          0.09,
          0,
          0.09,
          0.09,
          -0.03,
          0.02,
          0.34,
          0.28,
          0.62,
          0.05,
          -0.01,
          -0.35,
          0.05,
          0.01,
          0.01,
          0.02,
          0.01,
          -0.08,
          0.2,
          0.09,
          0.03,
          -0.1,
          -0.01,
          -0.04,
          0.07,
          0.12,
          0.23,
          -0.03,
          -0.06,
          -0.4,
          0.19,
          0.06,
          0.01,
          0.01,
          0.11,
          0.11,
          0.02,
          0.03,
          -0.26,
          0.03,
          0,
          0.04,
          0.05,
          0.03,
          -0.26,
          -0.04,
          -0.01,
          0.02,
          0.08,
          -0.25,
          0.06,
          0.19,
          0.03,
          0.07,
          0.03,
          -0.06,
          0.05,
          0.07,
          0.01,
          -0.09,
          -0.01,
          -0.24,
          0.01,
          0.08,
          0.06,
          0.27,
          0.98,
          0.31,
          -0.22,
          0.15,
          -0.01,
          0.05,
          0.03,
          0.01,
          -0.32,
          0.34,
          0.14,
          0.12,
          -0.68,
          -0.09,
          -0.07,
          0.14,
          0.08,
          0.42,
          -0.01,
          0.06,
          0.08,
          0.04,
          0.02,
          -0.02,
          0.02,
          -0.02,
          0.15,
          0.02,
          0,
          0.52,
          0.25,
          -0.09,
          -0.09,
          -0.44,
          0.1,
          0.1,
          0.06,
          -0.07,
          0.04,
          -0.05,
          -0.01,
          0.01,
          -0.15,
          0.13,
          -0.36,
          0.02,
          -0.16,
          -0.3,
          0,
          0.5,
          0.11,
          -0.13,
          0,
          -0.22,
          -0.01,
          0.09,
          0.2,
          0.11,
          0.11,
          0.05,
          -0.03,
          0.01,
          0.05,
          0.02,
          0.04,
          -0.17,
          0.86,
          -0.73,
          -0.3,
          -0.09,
          0.13,
          0.13,
          0.07,
          0.06,
          0.1,
          0.08,
          0.05,
          0.1,
          -0.03,
          -0.01,
          0.03,
          0.08,
          0.34,
          0,
          0.06,
          0.29,
          -0.04,
          0.14,
          -0.17,
          -0.05,
          0.04,
          -0.15,
          0.02,
          0.1,
          0.17,
          0.03,
          0,
          -0.29,
          -0.18,
          -0.05,
          -0.11,
          -0.01,
          0.01,
          -0.02,
          0.13,
          -0.12,
          0.27,
          0.03,
          0.12,
          -0.01,
          -0.46,
          0.15,
          0.01,
          -0.36,
          -0.5,
          0.09,
          0.06,
          0.06,
          -0.01,
          0.01,
          0.16,
          -0.03,
          -0.15,
          0.22,
          0.04,
          0.02,
          -0.51,
          -0.17,
          0.04,
          0,
          0.07,
          -0.04,
          -0.14,
          -0.03,
          0.02,
          0.2,
          -0.13,
          0.2,
          -0.02,
          0.01,
          -0.15,
          -0.24,
          0.01,
          -0.01,
          -0.05,
          0.06,
          0.01,
          -0.2,
          -0.07,
          0.14,
          0.06,
          0.17,
          -0.16,
          0.08,
          0.02,
          0.02,
          0.09,
          0,
          0.01,
          0.14,
          0.23,
          -0.01,
          0.06,
          0.01,
          0.2,
          -0.02,
          0,
          0.18,
          0.03,
          0.1,
          0.06,
          0,
          -0.28,
          0,
          -0.02,
          -0.04,
          -0.05,
          0.01,
          0.11,
          -0.25,
          0,
          -0.41,
          -0.22,
          -0.05,
          0.12,
          -0.17,
          0.04,
          0.09,
          0.09,
          -0.02,
          -0.11,
          0.3,
          0.23,
          -0.13,
          0.05,
          0.01,
          0.03,
          -0.07,
          -0.81,
          -0.15,
          -0.57,
          0.15,
          -0.34,
          0.16,
          0.34,
          0.29,
          -0.17,
          -0.69,
          -0.03,
          0.94,
          0.22,
          0.05,
          -0.15,
          0.06,
          0.34,
          0.04,
          -0.35,
          -0.07,
          0.14,
          -0.12,
          -0.48,
          -0.02,
          -0.38,
          -0.05,
          0.14,
          0.03,
          -0.21,
          -0.1,
          0.13,
          0.63,
          0.15,
          0.23,
          0.01,
          0.14,
          0.09,
          0.55,
          -0.14,
          0,
          -0.05,
          0.02,
          0.12,
          0.11,
          0.06,
          -0.27,
          0.2,
          -0.23,
          0.12,
          0.04,
          -0.01,
          -0.04,
          -0.1,
          0.12,
          -0.17,
          0.25,
          0.18,
          0.26,
          0.07,
          0.04,
          -0.12,
          0.04,
          0,
          0.11,
          -0.31,
          0.15,
          -0.31,
          0.05,
          0.02,
          0.08,
          0.02,
          0.24,
          -0.02,
          0.24,
          -0.1,
          -0.01,
          -0.18,
          -0.04,
          0.09,
          0.45,
          0.28,
          0.52,
          -0.05,
          -0.07,
          -0.39,
          -0.68,
          0.43,
          0.19,
          0.12,
          0.09,
          0.04,
          0.04,
          0.09,
          0.19,
          0.18,
          0.09,
          -0.01,
          -0.31,
          -0.03,
          -0.05,
          0.07,
          0.13,
          0.18,
          -0.02,
          0.06,
          0.13,
          0.01,
          -0.02,
          -0.08,
          -0.27,
          -0.01,
          0.03,
          0.01,
          -0.12,
          0.06,
          0.05,
          0,
          0.08,
          0.03,
          0.03,
          0,
          -0.33,
          0.04,
          0.03,
          0.09,
          0.04,
          0,
          -0.03,
          0.14,
          0.03,
          0.03,
          0.05,
          0,
          -0.04,
          -0.1,
          -0.03,
          -0.35,
          0.02,
          0.08,
          0.04,
          -0.05,
          -0.06,
          0,
          0.07,
          0.08,
          -0.12,
          0.03,
          0.03,
          -0.05,
          0.03,
          0.14,
          0.08,
          -0.06,
          0.13,
          0,
          -0.05,
          -0.04,
          0.02,
          -0.01,
          -0.09,
          0.05,
          0.1,
          0.07,
          0.05,
          0.37,
          0,
          0.03,
          0.02,
          -0.03,
          -0.03,
          0.03,
          0.04,
          0.03,
          0.04,
          0.04,
          0,
          -0.12,
          -0.43,
          0.08,
          -0.01,
          0.02,
          -0.09,
          -0.16,
          0.04,
          -0.08,
          0.02,
          -0.01,
          0.09,
          0.02,
          0.2,
          0.18,
          0.07,
          -0.02,
          0.01,
          -0.03,
          0.03,
          0.02,
          -0.18,
          0.05,
          -0.05,
          0.15,
          -0.03,
          0.04,
          -0.03,
          0.01,
          -0.07,
          -0.02,
          0.01,
          0.03,
          -0.02,
          -0.52,
          -0.01,
          -0.04,
          -0.01,
          0.1,
          0.03,
          0.03,
          -0.01,
          -0.04,
          0.02,
          0.03,
          -0.04,
          0.03,
          0.03,
          -0.02,
          -0.14,
          0.14,
          0,
          -0.02,
          0,
          -0.39,
          -0.13,
          -0.04,
          0.09,
          0.04,
          0.05,
          0.12,
          0,
          0.03,
          0.17,
          -0.13,
          -0.01,
          0.01,
          -0.06,
          -0.1,
          0.11,
          0.05,
          -0.09,
          0.01,
          -0.07,
          0.01,
          0.02,
          0.02,
          0,
          -0.03,
          -0.34,
          0,
          -0.04,
          -0.04,
          -0.2,
          0.08,
          -0.07,
          -0.06,
          0.03,
          0.05,
          -0.04,
          0.11,
          0,
          0.22,
          0.09,
          0.07,
          -0.02,
          -0.02,
          0,
          0.02,
          0.03,
          0,
          -0.06,
          -0.05,
          -0.01,
          -0.08,
          -0.01,
          -0.18,
          0,
          0,
          0.02,
          -0.25,
          -0.02,
          0.03,
          -1.29,
          0.03,
          0.06,
          -0.1,
          0.06,
          -0.01,
          -0.32,
          0.03,
          0.05,
          -0.12,
          -0.07,
          -0.07,
          -0.3,
          -0.14,
          0.27,
          -0.35,
          0.05,
          0.06,
          0.13,
          0.03,
          -0.02,
          0,
          0.09,
          0.31,
          -0.12,
          -0.04,
          0.11,
          0.09,
          -0.03,
          -0.02,
          0.14,
          -0.04,
          0.04,
          0.02,
          -0.03,
          0.02,
          -0.12,
          0.12,
          0.11,
          0.01,
          0,
          -0.01,
          0.02,
          -0.05,
          0.3,
          0,
          0.11,
          -0.16,
          -0.1,
          0,
          -0.17,
          0.13,
          0.11,
          0.02,
          -0.07,
          0.04,
          0.07,
          0.02,
          0.01,
          -0.32,
          0,
          0.05,
          -0.25,
          -0.16,
          0.14,
          0.11,
          -0.05,
          0.03,
          0.13,
          0.01,
          0.04,
          0.05,
          0,
          0.05,
          0.01,
          -0.05,
          0.07,
          -0.01,
          -0.07,
          0.08,
          0,
          -0.01,
          0.09,
          0.04,
          0.04,
          0.21,
          0.02,
          -0.03,
          -0.01,
          0.06,
          0.02,
          0.03,
          0.11,
          0.03,
          -0.17,
          -0.1,
          -0.02,
          0.07,
          0,
          -0.27,
          0.04,
          0.09,
          -0.01,
          -0.16,
          -0.07,
          -0.07,
          0.08,
          0.11,
          0.15,
          0.04,
          -0.01,
          0.12,
          0.05,
          -0.06,
          0.04,
          0.01,
          0.05,
          0,
          -0.35,
          -0.01,
          0.01,
          -0.12,
          0,
          0.03,
          0.15,
          -0.28,
          0,
          0.01,
          -0.01,
          0.03,
          -0.13,
          0.4,
          -0.09,
          0.02,
          0.15,
          0.05,
          -0.03,
          -0.01,
          0.16,
          -0.08,
          0.12,
          0.05,
          0.04,
          0.05,
          0.01,
          -0.01,
          0.28,
          0.03,
          0.01,
          -0.28,
          0.03,
          -0.04,
          -0.1,
          -0.13,
          0.22,
          0.01,
          0.05,
          -0.36,
          0.02,
          0.01,
          0.05,
          -0.16,
          0.02,
          0.05,
          0.29,
          0.04,
          0.08,
          0.03,
          0.03,
          0.09,
          0.03,
          -0.03,
          -0.07,
          0.43,
          0.11,
          -0.01,
          0.06,
          0.02,
          0.03,
          0.05,
          0,
          -0.21,
          0.04,
          0.04,
          -0.01,
          -0.16,
          0.04,
          0.09,
          -0.03,
          0.02,
          0.03,
          -0.12,
          -0.13,
          -0.02,
          -0.08,
          0.02,
          -0.38,
          0.05,
          -0.04,
          0.06,
          0.01,
          -0.01,
          0.03,
          0.02,
          0.08,
          0.16,
          0.06,
          0.16,
          0.03,
          -0.08,
          -0.02,
          0.03,
          -0.13,
          0.03,
          -0.05,
          0.11,
          0.15,
          -0.03,
          -0.04,
          0.05,
          -0.01,
          -0.07,
          -0.07,
          -0.01,
          0.03,
          0.02,
          0.06,
          0,
          -0.01,
          0.03,
          -0.08,
          0.16,
          0.01,
          0.03,
          0.04,
          0,
          -0.11,
          0.07,
          0.06,
          0.1,
          0.03,
          0.17,
          -0.12,
          -0.01,
          0.01,
          0.46,
          -0.16,
          0.59,
          0.06,
          -0.02,
          0.09,
          0.05,
          0.14,
          0.02,
          -0.12,
          0.03,
          -0.06,
          0.08,
          0.15,
          0.01,
          0,
          -0.2,
          -0.52,
          0.08,
          0.04,
          0.3,
          0.1,
          -0.02,
          -0.03,
          -0.03,
          -0.09,
          0,
          0.02,
          0.07,
          -0.07,
          0.06,
          -0.1,
          0.01,
          -0.2,
          0.09,
          -0.06,
          -0.08,
          0.04,
          -0.03,
          0.03,
          0.02,
          -0.07,
          0.08,
          0.02,
          -0.34,
          0.11,
          -0.13,
          0.02,
          -0.03,
          0.03,
          -0.01,
          0.03,
          0.03,
          0.04,
          0.03,
          0.21,
          0.05,
          0.05,
          -0.01,
          0.04,
          0.01,
          0,
          0.11,
          0.06,
          0.16,
          -0.03,
          0.06,
          -0.04,
          -0.01,
          0.08,
          0.09,
          0.02,
          0.06,
          0.08,
          -0.08,
          0.08,
          0.01,
          -0.01,
          -0.09,
          0.02,
          0,
          0.05,
          0.01,
          -0.02,
          0,
          0.01,
          -0.03,
          0.01,
          0,
          0.01,
          -0.06,
          -0.02,
          0.02,
          0,
          -0.31,
          0.02,
          0.06,
          0.04,
          0.01,
          -0.02,
          0.01,
          -0.08,
          0.02,
          0.41,
          -0.19,
          0.14,
          -0.07,
          0.05,
          -0.08,
          0.01,
          0.03,
          0,
          0,
          0.03,
          0,
          -0.03,
          -0.08,
          -0.06,
          0.03,
          0.04,
          0.01,
          0.19,
          0.04,
          0.09,
          0.09,
          0.04,
          -0.04,
          0.02,
          0.14,
          0.06,
          -0.07,
          0.03,
          0.04,
          0.03,
          0.05,
          -0.02,
          0.03,
          0.03,
          0.02,
          0.09,
          0,
          0.05,
          0.04,
          -0.15,
          -0.08,
          0.03,
          0.01,
          0.06,
          0.01,
          0.03,
          0.01,
          0.01,
          0,
          0.17,
          0.15,
          0,
          -0.02,
          0.06,
          0,
          0.05,
          0.04,
          -0.01,
          0.04,
          -0.01,
          0.01,
          -0.16,
          0.03,
          0.03,
          0,
          -0.1,
          0.07,
          0.05,
          0.01,
          0,
          0.06,
          -0.03,
          -0.22,
          -0.09,
          -0.06,
          0.06,
          0.01,
          -0.01,
          -0.02,
          0.09,
          -0.02,
          -0.04,
          -0.04,
          0.03,
          0.06,
          0.09,
          0.03,
          -0.03,
          -0.13,
          -0.05,
          0.14,
          0.03,
          0.03,
          0.02,
          0.01,
          0.1,
          -0.05,
          0.02,
          -0.1,
          0.16,
          0.02,
          -0.02,
          0.44,
          -0.35,
          -0.03,
          -0.18,
          -0.09,
          0.04,
          -1.16,
          0.06,
          0.23,
          -0.09,
          -0.02,
          -0.1,
          0.04,
          0.09,
          0,
          0.06,
          -0.01,
          -0.08,
          -0.01,
          -0.08,
          0.04,
          0.01,
          -0.04,
          0.02,
          0.08,
          0.01,
          0.02,
          0.01,
          0.03,
          0,
          0.01,
          -0.05,
          -0.03,
          -0.02,
          -0.05,
          0.16,
          0.05,
          0.11,
          0.06,
          0.02,
          -0.15,
          0.02,
          -0.03,
          0.12,
          0.12,
          0.01,
          0.07,
          -0.12,
          0.06,
          0,
          -0.08,
          0.13,
          0.36,
          0.03,
          0.01,
          0.09,
          0.02,
          0.09,
          -0.05,
          -0.03,
          0.09,
          0.03,
          -0.01,
          0.01,
          -0.02,
          -0.18,
          -0.01,
          0.05,
          0.14,
          0.03,
          0.01,
          0.15,
          -0.02,
          -0.04,
          -0.34,
          0.09,
          0.12,
          0.22,
          -0.15,
          0.45,
          -0.49,
          -0.02,
          -0.02,
          0.05,
          -0.02,
          0.14,
          0.01,
          -0.06,
          -0.03,
          -0.03,
          0.01,
          -0.04,
          -0.15,
          0.1,
          0.12,
          0.01,
          0.01,
          -0.07,
          -0.05,
          0.01,
          0.03,
          0.05,
          -0.3,
          0.09,
          0.05,
          0.01,
          0.04,
          -0.02,
          0.01,
          0.09,
          -0.3,
          0.07,
          0.08,
          -0.36,
          -0.15,
          0.17,
          0.19,
          -0.42,
          -0.03,
          -0.06,
          -0.08,
          0.06,
          -0.43,
          -0.33,
          0.11,
          0.04,
          -0.07,
          0.2,
          0.04,
          -0.09,
          -0.05,
          0.1,
          0.03,
          -0.03,
          0.05,
          0.06,
          0.22,
          0.09,
          0.13,
          0.05,
          -0.11,
          0.05,
          -0.05,
          -0.18,
          0.07,
          0.03,
          0.08,
          0.13,
          0.17,
          0.04,
          0.04,
          0.04,
          0.2,
          0.01,
          -0.09,
          0.06,
          0.07,
          0.09,
          -0.51,
          0.08,
          -0.16,
          0.08,
          -0.1,
          0.1,
          0.54,
          -0.34,
          0.44,
          -0.07,
          -0.09,
          0.19,
          0.06,
          -0.05,
          0.08,
          -0.1,
          0.01,
          0.34,
          -0.03,
          -0.36,
          0.03,
          0.3,
          0.02,
          0,
          0.08,
          -0.08,
          0.02,
          0,
          0.06,
          0.03,
          0.03,
          0,
          0.15,
          0.17,
          0.02,
          -0.17,
          0.06,
          -0.05,
          0.03,
          -0.13,
          0.09,
          -0.06,
          -0.4,
          -0.03,
          0.01,
          0.02,
          0.01,
          0.05,
          0.03,
          0.02,
          0.14,
          0.11,
          -0.12,
          0.03,
          -0.13,
          0.1,
          0.02,
          0.03,
          -0.01,
          -0.04,
          -0.19,
          -0.3,
          -0.02,
          0.11,
          0.16,
          0.05,
          0.04,
          0.1,
          0.1,
          0.02,
          0.08,
          0.11,
          0,
          0.14,
          0.03,
          0,
          -0.06,
          0,
          0.01,
          -0.02,
          -0.1,
          -0.1,
          0.07,
          0.02,
          0.03,
          0.06,
          -0.01,
          -0.01,
          0,
          0.01,
          0.06,
          -0.15,
          -0.02,
          0.03,
          0.02,
          -0.53,
          -0.2,
          0.04,
          -0.06,
          0.09,
          0.06,
          0.02,
          0.05,
          -0.36,
          -0.15,
          0.05,
          0.06,
          0.02,
          -0.02,
          -0.01,
          -0.01,
          -0.31,
          0.03,
          0.06,
          -0.25,
          -0.11,
          0.06,
          0.04,
          -0.04,
          0.12,
          0.11,
          0.07,
          0.05,
          -0.05,
          -0.02,
          -0.14,
          -0.02,
          -0.35,
          0.02,
          0.06,
          -0.02,
          0.12,
          0.15,
          -0.02,
          -0.09,
          0.04,
          0.04,
          0.04,
          0.03,
          -0.32,
          0.03,
          -0.06,
          -0.02,
          -0.01,
          0.02,
          0.21,
          -0.29,
          -0.24,
          -0.01,
          0.1,
          0.11,
          -0.12,
          -0.48,
          -0.01,
          0.46,
          0.28,
          0.02,
          0,
          0.32,
          0.07,
          0.07,
          0.11,
          -0.04,
          0,
          -0.13,
          0.1,
          -0.24,
          -0.23,
          0.01,
          0.06,
          -0.04,
          -0.06,
          0.09,
          0.02,
          0.08,
          -0.1,
          -0.01,
          -0.17,
          -0.05,
          -0.19,
          0.65,
          0.11,
          0.04,
          0.22,
          0.09,
          0.07,
          0.02,
          -0.05,
          0.04,
          -0.09,
          0.03,
          -0.06,
          0.11,
          0.05,
          0.13,
          -0.5,
          -0.13,
          0.13,
          0.21,
          0.01,
          0.06
         ],
         "xaxis": "x",
         "yaxis": "y"
        }
       ],
       "layout": {
        "barmode": "relative",
        "legend": {
         "tracegroupgap": 0
        },
        "margin": {
         "t": 60
        },
        "template": {
         "data": {
          "bar": [
           {
            "error_x": {
             "color": "#2a3f5f"
            },
            "error_y": {
             "color": "#2a3f5f"
            },
            "marker": {
             "line": {
              "color": "#E5ECF6",
              "width": 0.5
             },
             "pattern": {
              "fillmode": "overlay",
              "size": 10,
              "solidity": 0.2
             }
            },
            "type": "bar"
           }
          ],
          "barpolar": [
           {
            "marker": {
             "line": {
              "color": "#E5ECF6",
              "width": 0.5
             },
             "pattern": {
              "fillmode": "overlay",
              "size": 10,
              "solidity": 0.2
             }
            },
            "type": "barpolar"
           }
          ],
          "carpet": [
           {
            "aaxis": {
             "endlinecolor": "#2a3f5f",
             "gridcolor": "white",
             "linecolor": "white",
             "minorgridcolor": "white",
             "startlinecolor": "#2a3f5f"
            },
            "baxis": {
             "endlinecolor": "#2a3f5f",
             "gridcolor": "white",
             "linecolor": "white",
             "minorgridcolor": "white",
             "startlinecolor": "#2a3f5f"
            },
            "type": "carpet"
           }
          ],
          "choropleth": [
           {
            "colorbar": {
             "outlinewidth": 0,
             "ticks": ""
            },
            "type": "choropleth"
           }
          ],
          "contour": [
           {
            "colorbar": {
             "outlinewidth": 0,
             "ticks": ""
            },
            "colorscale": [
             [
              0,
              "#0d0887"
             ],
             [
              0.1111111111111111,
              "#46039f"
             ],
             [
              0.2222222222222222,
              "#7201a8"
             ],
             [
              0.3333333333333333,
              "#9c179e"
             ],
             [
              0.4444444444444444,
              "#bd3786"
             ],
             [
              0.5555555555555556,
              "#d8576b"
             ],
             [
              0.6666666666666666,
              "#ed7953"
             ],
             [
              0.7777777777777778,
              "#fb9f3a"
             ],
             [
              0.8888888888888888,
              "#fdca26"
             ],
             [
              1,
              "#f0f921"
             ]
            ],
            "type": "contour"
           }
          ],
          "contourcarpet": [
           {
            "colorbar": {
             "outlinewidth": 0,
             "ticks": ""
            },
            "type": "contourcarpet"
           }
          ],
          "heatmap": [
           {
            "colorbar": {
             "outlinewidth": 0,
             "ticks": ""
            },
            "colorscale": [
             [
              0,
              "#0d0887"
             ],
             [
              0.1111111111111111,
              "#46039f"
             ],
             [
              0.2222222222222222,
              "#7201a8"
             ],
             [
              0.3333333333333333,
              "#9c179e"
             ],
             [
              0.4444444444444444,
              "#bd3786"
             ],
             [
              0.5555555555555556,
              "#d8576b"
             ],
             [
              0.6666666666666666,
              "#ed7953"
             ],
             [
              0.7777777777777778,
              "#fb9f3a"
             ],
             [
              0.8888888888888888,
              "#fdca26"
             ],
             [
              1,
              "#f0f921"
             ]
            ],
            "type": "heatmap"
           }
          ],
          "heatmapgl": [
           {
            "colorbar": {
             "outlinewidth": 0,
             "ticks": ""
            },
            "colorscale": [
             [
              0,
              "#0d0887"
             ],
             [
              0.1111111111111111,
              "#46039f"
             ],
             [
              0.2222222222222222,
              "#7201a8"
             ],
             [
              0.3333333333333333,
              "#9c179e"
             ],
             [
              0.4444444444444444,
              "#bd3786"
             ],
             [
              0.5555555555555556,
              "#d8576b"
             ],
             [
              0.6666666666666666,
              "#ed7953"
             ],
             [
              0.7777777777777778,
              "#fb9f3a"
             ],
             [
              0.8888888888888888,
              "#fdca26"
             ],
             [
              1,
              "#f0f921"
             ]
            ],
            "type": "heatmapgl"
           }
          ],
          "histogram": [
           {
            "marker": {
             "pattern": {
              "fillmode": "overlay",
              "size": 10,
              "solidity": 0.2
             }
            },
            "type": "histogram"
           }
          ],
          "histogram2d": [
           {
            "colorbar": {
             "outlinewidth": 0,
             "ticks": ""
            },
            "colorscale": [
             [
              0,
              "#0d0887"
             ],
             [
              0.1111111111111111,
              "#46039f"
             ],
             [
              0.2222222222222222,
              "#7201a8"
             ],
             [
              0.3333333333333333,
              "#9c179e"
             ],
             [
              0.4444444444444444,
              "#bd3786"
             ],
             [
              0.5555555555555556,
              "#d8576b"
             ],
             [
              0.6666666666666666,
              "#ed7953"
             ],
             [
              0.7777777777777778,
              "#fb9f3a"
             ],
             [
              0.8888888888888888,
              "#fdca26"
             ],
             [
              1,
              "#f0f921"
             ]
            ],
            "type": "histogram2d"
           }
          ],
          "histogram2dcontour": [
           {
            "colorbar": {
             "outlinewidth": 0,
             "ticks": ""
            },
            "colorscale": [
             [
              0,
              "#0d0887"
             ],
             [
              0.1111111111111111,
              "#46039f"
             ],
             [
              0.2222222222222222,
              "#7201a8"
             ],
             [
              0.3333333333333333,
              "#9c179e"
             ],
             [
              0.4444444444444444,
              "#bd3786"
             ],
             [
              0.5555555555555556,
              "#d8576b"
             ],
             [
              0.6666666666666666,
              "#ed7953"
             ],
             [
              0.7777777777777778,
              "#fb9f3a"
             ],
             [
              0.8888888888888888,
              "#fdca26"
             ],
             [
              1,
              "#f0f921"
             ]
            ],
            "type": "histogram2dcontour"
           }
          ],
          "mesh3d": [
           {
            "colorbar": {
             "outlinewidth": 0,
             "ticks": ""
            },
            "type": "mesh3d"
           }
          ],
          "parcoords": [
           {
            "line": {
             "colorbar": {
              "outlinewidth": 0,
              "ticks": ""
             }
            },
            "type": "parcoords"
           }
          ],
          "pie": [
           {
            "automargin": true,
            "type": "pie"
           }
          ],
          "scatter": [
           {
            "fillpattern": {
             "fillmode": "overlay",
             "size": 10,
             "solidity": 0.2
            },
            "type": "scatter"
           }
          ],
          "scatter3d": [
           {
            "line": {
             "colorbar": {
              "outlinewidth": 0,
              "ticks": ""
             }
            },
            "marker": {
             "colorbar": {
              "outlinewidth": 0,
              "ticks": ""
             }
            },
            "type": "scatter3d"
           }
          ],
          "scattercarpet": [
           {
            "marker": {
             "colorbar": {
              "outlinewidth": 0,
              "ticks": ""
             }
            },
            "type": "scattercarpet"
           }
          ],
          "scattergeo": [
           {
            "marker": {
             "colorbar": {
              "outlinewidth": 0,
              "ticks": ""
             }
            },
            "type": "scattergeo"
           }
          ],
          "scattergl": [
           {
            "marker": {
             "colorbar": {
              "outlinewidth": 0,
              "ticks": ""
             }
            },
            "type": "scattergl"
           }
          ],
          "scattermapbox": [
           {
            "marker": {
             "colorbar": {
              "outlinewidth": 0,
              "ticks": ""
             }
            },
            "type": "scattermapbox"
           }
          ],
          "scatterpolar": [
           {
            "marker": {
             "colorbar": {
              "outlinewidth": 0,
              "ticks": ""
             }
            },
            "type": "scatterpolar"
           }
          ],
          "scatterpolargl": [
           {
            "marker": {
             "colorbar": {
              "outlinewidth": 0,
              "ticks": ""
             }
            },
            "type": "scatterpolargl"
           }
          ],
          "scatterternary": [
           {
            "marker": {
             "colorbar": {
              "outlinewidth": 0,
              "ticks": ""
             }
            },
            "type": "scatterternary"
           }
          ],
          "surface": [
           {
            "colorbar": {
             "outlinewidth": 0,
             "ticks": ""
            },
            "colorscale": [
             [
              0,
              "#0d0887"
             ],
             [
              0.1111111111111111,
              "#46039f"
             ],
             [
              0.2222222222222222,
              "#7201a8"
             ],
             [
              0.3333333333333333,
              "#9c179e"
             ],
             [
              0.4444444444444444,
              "#bd3786"
             ],
             [
              0.5555555555555556,
              "#d8576b"
             ],
             [
              0.6666666666666666,
              "#ed7953"
             ],
             [
              0.7777777777777778,
              "#fb9f3a"
             ],
             [
              0.8888888888888888,
              "#fdca26"
             ],
             [
              1,
              "#f0f921"
             ]
            ],
            "type": "surface"
           }
          ],
          "table": [
           {
            "cells": {
             "fill": {
              "color": "#EBF0F8"
             },
             "line": {
              "color": "white"
             }
            },
            "header": {
             "fill": {
              "color": "#C8D4E3"
             },
             "line": {
              "color": "white"
             }
            },
            "type": "table"
           }
          ]
         },
         "layout": {
          "annotationdefaults": {
           "arrowcolor": "#2a3f5f",
           "arrowhead": 0,
           "arrowwidth": 1
          },
          "autotypenumbers": "strict",
          "coloraxis": {
           "colorbar": {
            "outlinewidth": 0,
            "ticks": ""
           }
          },
          "colorscale": {
           "diverging": [
            [
             0,
             "#8e0152"
            ],
            [
             0.1,
             "#c51b7d"
            ],
            [
             0.2,
             "#de77ae"
            ],
            [
             0.3,
             "#f1b6da"
            ],
            [
             0.4,
             "#fde0ef"
            ],
            [
             0.5,
             "#f7f7f7"
            ],
            [
             0.6,
             "#e6f5d0"
            ],
            [
             0.7,
             "#b8e186"
            ],
            [
             0.8,
             "#7fbc41"
            ],
            [
             0.9,
             "#4d9221"
            ],
            [
             1,
             "#276419"
            ]
           ],
           "sequential": [
            [
             0,
             "#0d0887"
            ],
            [
             0.1111111111111111,
             "#46039f"
            ],
            [
             0.2222222222222222,
             "#7201a8"
            ],
            [
             0.3333333333333333,
             "#9c179e"
            ],
            [
             0.4444444444444444,
             "#bd3786"
            ],
            [
             0.5555555555555556,
             "#d8576b"
            ],
            [
             0.6666666666666666,
             "#ed7953"
            ],
            [
             0.7777777777777778,
             "#fb9f3a"
            ],
            [
             0.8888888888888888,
             "#fdca26"
            ],
            [
             1,
             "#f0f921"
            ]
           ],
           "sequentialminus": [
            [
             0,
             "#0d0887"
            ],
            [
             0.1111111111111111,
             "#46039f"
            ],
            [
             0.2222222222222222,
             "#7201a8"
            ],
            [
             0.3333333333333333,
             "#9c179e"
            ],
            [
             0.4444444444444444,
             "#bd3786"
            ],
            [
             0.5555555555555556,
             "#d8576b"
            ],
            [
             0.6666666666666666,
             "#ed7953"
            ],
            [
             0.7777777777777778,
             "#fb9f3a"
            ],
            [
             0.8888888888888888,
             "#fdca26"
            ],
            [
             1,
             "#f0f921"
            ]
           ]
          },
          "colorway": [
           "#636efa",
           "#EF553B",
           "#00cc96",
           "#ab63fa",
           "#FFA15A",
           "#19d3f3",
           "#FF6692",
           "#B6E880",
           "#FF97FF",
           "#FECB52"
          ],
          "font": {
           "color": "#2a3f5f"
          },
          "geo": {
           "bgcolor": "white",
           "lakecolor": "white",
           "landcolor": "#E5ECF6",
           "showlakes": true,
           "showland": true,
           "subunitcolor": "white"
          },
          "hoverlabel": {
           "align": "left"
          },
          "hovermode": "closest",
          "mapbox": {
           "style": "light"
          },
          "paper_bgcolor": "white",
          "plot_bgcolor": "#E5ECF6",
          "polar": {
           "angularaxis": {
            "gridcolor": "white",
            "linecolor": "white",
            "ticks": ""
           },
           "bgcolor": "#E5ECF6",
           "radialaxis": {
            "gridcolor": "white",
            "linecolor": "white",
            "ticks": ""
           }
          },
          "scene": {
           "xaxis": {
            "backgroundcolor": "#E5ECF6",
            "gridcolor": "white",
            "gridwidth": 2,
            "linecolor": "white",
            "showbackground": true,
            "ticks": "",
            "zerolinecolor": "white"
           },
           "yaxis": {
            "backgroundcolor": "#E5ECF6",
            "gridcolor": "white",
            "gridwidth": 2,
            "linecolor": "white",
            "showbackground": true,
            "ticks": "",
            "zerolinecolor": "white"
           },
           "zaxis": {
            "backgroundcolor": "#E5ECF6",
            "gridcolor": "white",
            "gridwidth": 2,
            "linecolor": "white",
            "showbackground": true,
            "ticks": "",
            "zerolinecolor": "white"
           }
          },
          "shapedefaults": {
           "line": {
            "color": "#2a3f5f"
           }
          },
          "ternary": {
           "aaxis": {
            "gridcolor": "white",
            "linecolor": "white",
            "ticks": ""
           },
           "baxis": {
            "gridcolor": "white",
            "linecolor": "white",
            "ticks": ""
           },
           "bgcolor": "#E5ECF6",
           "caxis": {
            "gridcolor": "white",
            "linecolor": "white",
            "ticks": ""
           }
          },
          "title": {
           "x": 0.05
          },
          "xaxis": {
           "automargin": true,
           "gridcolor": "white",
           "linecolor": "white",
           "ticks": "",
           "title": {
            "standoff": 15
           },
           "zerolinecolor": "white",
           "zerolinewidth": 2
          },
          "yaxis": {
           "automargin": true,
           "gridcolor": "white",
           "linecolor": "white",
           "ticks": "",
           "title": {
            "standoff": 15
           },
           "zerolinecolor": "white",
           "zerolinewidth": 2
          }
         }
        },
        "xaxis": {
         "anchor": "y",
         "domain": [
          0,
          1
         ],
         "title": {
          "text": "Gain%"
         }
        },
        "yaxis": {
         "anchor": "x",
         "domain": [
          0,
          1
         ],
         "title": {
          "text": "count"
         }
        }
       }
      }
     },
     "metadata": {},
     "output_type": "display_data"
    },
    {
     "name": "stdout",
     "output_type": "stream",
     "text": [
      "(10, 30)\n",
      "Total trades: 118\n",
      "Average percent gain per trade: -0.01%\n",
      "Total percent gain: -7.0%\n"
     ]
    },
    {
     "name": "stderr",
     "output_type": "stream",
     "text": [
      "/var/folders/hb/0dd7xx3d4mzgbx_w9m1fmb2h0000gn/T/ipykernel_9734/1167655356.py:12: FutureWarning:\n",
      "\n",
      "The behavior of DataFrame concatenation with empty or all-NA entries is deprecated. In a future version, this will no longer exclude empty or all-NA columns when determining the result dtypes. To retain the old behavior, exclude the relevant entries before the concat operation.\n",
      "\n"
     ]
    },
    {
     "data": {
      "application/vnd.plotly.v1+json": {
       "config": {
        "plotlyServerURL": "https://plot.ly"
       },
       "data": [
        {
         "alignmentgroup": "True",
         "bingroup": "x",
         "hovertemplate": "Gain%=%{x}<br>count=%{y}<extra></extra>",
         "legendgroup": "",
         "marker": {
          "color": "#636efa",
          "pattern": {
           "shape": ""
          }
         },
         "name": "",
         "nbinsx": 100,
         "offsetgroup": "",
         "orientation": "v",
         "showlegend": false,
         "type": "histogram",
         "x": [
          -0.3,
          1.08,
          -0.01,
          -0.45,
          -0.34,
          -0.29,
          -0.46,
          -0.09,
          -0.19,
          -0.09,
          0.15,
          -0.33,
          -0.66,
          0.62,
          0.95,
          -0.22,
          1.16,
          -0.39,
          -0.6,
          0.08,
          -0.2,
          2.13,
          0.01,
          -0.25,
          -0.07,
          -0.05,
          0.05,
          -0.19,
          -0.14,
          -0.48,
          -1.13,
          -0.26,
          -0.07,
          0.5,
          -0.23,
          0.19,
          0.13,
          -0.28,
          0.25,
          -0.1,
          1.55,
          0.1,
          -0.25,
          -0.29,
          -0.04,
          -0.34,
          0.03,
          -0.13,
          -0.17,
          0.29,
          -0.24,
          -0.11,
          0.07,
          -0.08,
          -0.06,
          -0.11,
          -0.18,
          -0.34,
          -0.33,
          -0.01,
          -0.23,
          -0.62,
          0.05,
          0.24,
          -0.26,
          -0.14,
          0.47,
          -0.17,
          -0.16,
          0.17,
          -0.2,
          -0.05,
          -0.15,
          0.45,
          -0.12,
          0.07,
          0.11,
          -0.17,
          0.04,
          0,
          0,
          0.07,
          -0.03,
          0.01,
          0.28,
          -0.07,
          0.04,
          0.19,
          -0.07,
          0,
          -0.06,
          -0.11,
          -0.11,
          0.47,
          -0.32,
          -0.09,
          -0.19,
          -0.13,
          -0.02,
          0.2,
          0.02,
          0.34,
          0.1,
          0.12,
          -0.01,
          -0.06,
          -0.08,
          0.4,
          -0.05,
          0.04,
          -0.14,
          -0.11,
          0.05,
          0.02,
          0.01,
          -0.12,
          -0.07,
          -0.22
         ],
         "xaxis": "x",
         "yaxis": "y"
        }
       ],
       "layout": {
        "barmode": "relative",
        "legend": {
         "tracegroupgap": 0
        },
        "margin": {
         "t": 60
        },
        "template": {
         "data": {
          "bar": [
           {
            "error_x": {
             "color": "#2a3f5f"
            },
            "error_y": {
             "color": "#2a3f5f"
            },
            "marker": {
             "line": {
              "color": "#E5ECF6",
              "width": 0.5
             },
             "pattern": {
              "fillmode": "overlay",
              "size": 10,
              "solidity": 0.2
             }
            },
            "type": "bar"
           }
          ],
          "barpolar": [
           {
            "marker": {
             "line": {
              "color": "#E5ECF6",
              "width": 0.5
             },
             "pattern": {
              "fillmode": "overlay",
              "size": 10,
              "solidity": 0.2
             }
            },
            "type": "barpolar"
           }
          ],
          "carpet": [
           {
            "aaxis": {
             "endlinecolor": "#2a3f5f",
             "gridcolor": "white",
             "linecolor": "white",
             "minorgridcolor": "white",
             "startlinecolor": "#2a3f5f"
            },
            "baxis": {
             "endlinecolor": "#2a3f5f",
             "gridcolor": "white",
             "linecolor": "white",
             "minorgridcolor": "white",
             "startlinecolor": "#2a3f5f"
            },
            "type": "carpet"
           }
          ],
          "choropleth": [
           {
            "colorbar": {
             "outlinewidth": 0,
             "ticks": ""
            },
            "type": "choropleth"
           }
          ],
          "contour": [
           {
            "colorbar": {
             "outlinewidth": 0,
             "ticks": ""
            },
            "colorscale": [
             [
              0,
              "#0d0887"
             ],
             [
              0.1111111111111111,
              "#46039f"
             ],
             [
              0.2222222222222222,
              "#7201a8"
             ],
             [
              0.3333333333333333,
              "#9c179e"
             ],
             [
              0.4444444444444444,
              "#bd3786"
             ],
             [
              0.5555555555555556,
              "#d8576b"
             ],
             [
              0.6666666666666666,
              "#ed7953"
             ],
             [
              0.7777777777777778,
              "#fb9f3a"
             ],
             [
              0.8888888888888888,
              "#fdca26"
             ],
             [
              1,
              "#f0f921"
             ]
            ],
            "type": "contour"
           }
          ],
          "contourcarpet": [
           {
            "colorbar": {
             "outlinewidth": 0,
             "ticks": ""
            },
            "type": "contourcarpet"
           }
          ],
          "heatmap": [
           {
            "colorbar": {
             "outlinewidth": 0,
             "ticks": ""
            },
            "colorscale": [
             [
              0,
              "#0d0887"
             ],
             [
              0.1111111111111111,
              "#46039f"
             ],
             [
              0.2222222222222222,
              "#7201a8"
             ],
             [
              0.3333333333333333,
              "#9c179e"
             ],
             [
              0.4444444444444444,
              "#bd3786"
             ],
             [
              0.5555555555555556,
              "#d8576b"
             ],
             [
              0.6666666666666666,
              "#ed7953"
             ],
             [
              0.7777777777777778,
              "#fb9f3a"
             ],
             [
              0.8888888888888888,
              "#fdca26"
             ],
             [
              1,
              "#f0f921"
             ]
            ],
            "type": "heatmap"
           }
          ],
          "heatmapgl": [
           {
            "colorbar": {
             "outlinewidth": 0,
             "ticks": ""
            },
            "colorscale": [
             [
              0,
              "#0d0887"
             ],
             [
              0.1111111111111111,
              "#46039f"
             ],
             [
              0.2222222222222222,
              "#7201a8"
             ],
             [
              0.3333333333333333,
              "#9c179e"
             ],
             [
              0.4444444444444444,
              "#bd3786"
             ],
             [
              0.5555555555555556,
              "#d8576b"
             ],
             [
              0.6666666666666666,
              "#ed7953"
             ],
             [
              0.7777777777777778,
              "#fb9f3a"
             ],
             [
              0.8888888888888888,
              "#fdca26"
             ],
             [
              1,
              "#f0f921"
             ]
            ],
            "type": "heatmapgl"
           }
          ],
          "histogram": [
           {
            "marker": {
             "pattern": {
              "fillmode": "overlay",
              "size": 10,
              "solidity": 0.2
             }
            },
            "type": "histogram"
           }
          ],
          "histogram2d": [
           {
            "colorbar": {
             "outlinewidth": 0,
             "ticks": ""
            },
            "colorscale": [
             [
              0,
              "#0d0887"
             ],
             [
              0.1111111111111111,
              "#46039f"
             ],
             [
              0.2222222222222222,
              "#7201a8"
             ],
             [
              0.3333333333333333,
              "#9c179e"
             ],
             [
              0.4444444444444444,
              "#bd3786"
             ],
             [
              0.5555555555555556,
              "#d8576b"
             ],
             [
              0.6666666666666666,
              "#ed7953"
             ],
             [
              0.7777777777777778,
              "#fb9f3a"
             ],
             [
              0.8888888888888888,
              "#fdca26"
             ],
             [
              1,
              "#f0f921"
             ]
            ],
            "type": "histogram2d"
           }
          ],
          "histogram2dcontour": [
           {
            "colorbar": {
             "outlinewidth": 0,
             "ticks": ""
            },
            "colorscale": [
             [
              0,
              "#0d0887"
             ],
             [
              0.1111111111111111,
              "#46039f"
             ],
             [
              0.2222222222222222,
              "#7201a8"
             ],
             [
              0.3333333333333333,
              "#9c179e"
             ],
             [
              0.4444444444444444,
              "#bd3786"
             ],
             [
              0.5555555555555556,
              "#d8576b"
             ],
             [
              0.6666666666666666,
              "#ed7953"
             ],
             [
              0.7777777777777778,
              "#fb9f3a"
             ],
             [
              0.8888888888888888,
              "#fdca26"
             ],
             [
              1,
              "#f0f921"
             ]
            ],
            "type": "histogram2dcontour"
           }
          ],
          "mesh3d": [
           {
            "colorbar": {
             "outlinewidth": 0,
             "ticks": ""
            },
            "type": "mesh3d"
           }
          ],
          "parcoords": [
           {
            "line": {
             "colorbar": {
              "outlinewidth": 0,
              "ticks": ""
             }
            },
            "type": "parcoords"
           }
          ],
          "pie": [
           {
            "automargin": true,
            "type": "pie"
           }
          ],
          "scatter": [
           {
            "fillpattern": {
             "fillmode": "overlay",
             "size": 10,
             "solidity": 0.2
            },
            "type": "scatter"
           }
          ],
          "scatter3d": [
           {
            "line": {
             "colorbar": {
              "outlinewidth": 0,
              "ticks": ""
             }
            },
            "marker": {
             "colorbar": {
              "outlinewidth": 0,
              "ticks": ""
             }
            },
            "type": "scatter3d"
           }
          ],
          "scattercarpet": [
           {
            "marker": {
             "colorbar": {
              "outlinewidth": 0,
              "ticks": ""
             }
            },
            "type": "scattercarpet"
           }
          ],
          "scattergeo": [
           {
            "marker": {
             "colorbar": {
              "outlinewidth": 0,
              "ticks": ""
             }
            },
            "type": "scattergeo"
           }
          ],
          "scattergl": [
           {
            "marker": {
             "colorbar": {
              "outlinewidth": 0,
              "ticks": ""
             }
            },
            "type": "scattergl"
           }
          ],
          "scattermapbox": [
           {
            "marker": {
             "colorbar": {
              "outlinewidth": 0,
              "ticks": ""
             }
            },
            "type": "scattermapbox"
           }
          ],
          "scatterpolar": [
           {
            "marker": {
             "colorbar": {
              "outlinewidth": 0,
              "ticks": ""
             }
            },
            "type": "scatterpolar"
           }
          ],
          "scatterpolargl": [
           {
            "marker": {
             "colorbar": {
              "outlinewidth": 0,
              "ticks": ""
             }
            },
            "type": "scatterpolargl"
           }
          ],
          "scatterternary": [
           {
            "marker": {
             "colorbar": {
              "outlinewidth": 0,
              "ticks": ""
             }
            },
            "type": "scatterternary"
           }
          ],
          "surface": [
           {
            "colorbar": {
             "outlinewidth": 0,
             "ticks": ""
            },
            "colorscale": [
             [
              0,
              "#0d0887"
             ],
             [
              0.1111111111111111,
              "#46039f"
             ],
             [
              0.2222222222222222,
              "#7201a8"
             ],
             [
              0.3333333333333333,
              "#9c179e"
             ],
             [
              0.4444444444444444,
              "#bd3786"
             ],
             [
              0.5555555555555556,
              "#d8576b"
             ],
             [
              0.6666666666666666,
              "#ed7953"
             ],
             [
              0.7777777777777778,
              "#fb9f3a"
             ],
             [
              0.8888888888888888,
              "#fdca26"
             ],
             [
              1,
              "#f0f921"
             ]
            ],
            "type": "surface"
           }
          ],
          "table": [
           {
            "cells": {
             "fill": {
              "color": "#EBF0F8"
             },
             "line": {
              "color": "white"
             }
            },
            "header": {
             "fill": {
              "color": "#C8D4E3"
             },
             "line": {
              "color": "white"
             }
            },
            "type": "table"
           }
          ]
         },
         "layout": {
          "annotationdefaults": {
           "arrowcolor": "#2a3f5f",
           "arrowhead": 0,
           "arrowwidth": 1
          },
          "autotypenumbers": "strict",
          "coloraxis": {
           "colorbar": {
            "outlinewidth": 0,
            "ticks": ""
           }
          },
          "colorscale": {
           "diverging": [
            [
             0,
             "#8e0152"
            ],
            [
             0.1,
             "#c51b7d"
            ],
            [
             0.2,
             "#de77ae"
            ],
            [
             0.3,
             "#f1b6da"
            ],
            [
             0.4,
             "#fde0ef"
            ],
            [
             0.5,
             "#f7f7f7"
            ],
            [
             0.6,
             "#e6f5d0"
            ],
            [
             0.7,
             "#b8e186"
            ],
            [
             0.8,
             "#7fbc41"
            ],
            [
             0.9,
             "#4d9221"
            ],
            [
             1,
             "#276419"
            ]
           ],
           "sequential": [
            [
             0,
             "#0d0887"
            ],
            [
             0.1111111111111111,
             "#46039f"
            ],
            [
             0.2222222222222222,
             "#7201a8"
            ],
            [
             0.3333333333333333,
             "#9c179e"
            ],
            [
             0.4444444444444444,
             "#bd3786"
            ],
            [
             0.5555555555555556,
             "#d8576b"
            ],
            [
             0.6666666666666666,
             "#ed7953"
            ],
            [
             0.7777777777777778,
             "#fb9f3a"
            ],
            [
             0.8888888888888888,
             "#fdca26"
            ],
            [
             1,
             "#f0f921"
            ]
           ],
           "sequentialminus": [
            [
             0,
             "#0d0887"
            ],
            [
             0.1111111111111111,
             "#46039f"
            ],
            [
             0.2222222222222222,
             "#7201a8"
            ],
            [
             0.3333333333333333,
             "#9c179e"
            ],
            [
             0.4444444444444444,
             "#bd3786"
            ],
            [
             0.5555555555555556,
             "#d8576b"
            ],
            [
             0.6666666666666666,
             "#ed7953"
            ],
            [
             0.7777777777777778,
             "#fb9f3a"
            ],
            [
             0.8888888888888888,
             "#fdca26"
            ],
            [
             1,
             "#f0f921"
            ]
           ]
          },
          "colorway": [
           "#636efa",
           "#EF553B",
           "#00cc96",
           "#ab63fa",
           "#FFA15A",
           "#19d3f3",
           "#FF6692",
           "#B6E880",
           "#FF97FF",
           "#FECB52"
          ],
          "font": {
           "color": "#2a3f5f"
          },
          "geo": {
           "bgcolor": "white",
           "lakecolor": "white",
           "landcolor": "#E5ECF6",
           "showlakes": true,
           "showland": true,
           "subunitcolor": "white"
          },
          "hoverlabel": {
           "align": "left"
          },
          "hovermode": "closest",
          "mapbox": {
           "style": "light"
          },
          "paper_bgcolor": "white",
          "plot_bgcolor": "#E5ECF6",
          "polar": {
           "angularaxis": {
            "gridcolor": "white",
            "linecolor": "white",
            "ticks": ""
           },
           "bgcolor": "#E5ECF6",
           "radialaxis": {
            "gridcolor": "white",
            "linecolor": "white",
            "ticks": ""
           }
          },
          "scene": {
           "xaxis": {
            "backgroundcolor": "#E5ECF6",
            "gridcolor": "white",
            "gridwidth": 2,
            "linecolor": "white",
            "showbackground": true,
            "ticks": "",
            "zerolinecolor": "white"
           },
           "yaxis": {
            "backgroundcolor": "#E5ECF6",
            "gridcolor": "white",
            "gridwidth": 2,
            "linecolor": "white",
            "showbackground": true,
            "ticks": "",
            "zerolinecolor": "white"
           },
           "zaxis": {
            "backgroundcolor": "#E5ECF6",
            "gridcolor": "white",
            "gridwidth": 2,
            "linecolor": "white",
            "showbackground": true,
            "ticks": "",
            "zerolinecolor": "white"
           }
          },
          "shapedefaults": {
           "line": {
            "color": "#2a3f5f"
           }
          },
          "ternary": {
           "aaxis": {
            "gridcolor": "white",
            "linecolor": "white",
            "ticks": ""
           },
           "baxis": {
            "gridcolor": "white",
            "linecolor": "white",
            "ticks": ""
           },
           "bgcolor": "#E5ECF6",
           "caxis": {
            "gridcolor": "white",
            "linecolor": "white",
            "ticks": ""
           }
          },
          "title": {
           "x": 0.05
          },
          "xaxis": {
           "automargin": true,
           "gridcolor": "white",
           "linecolor": "white",
           "ticks": "",
           "title": {
            "standoff": 15
           },
           "zerolinecolor": "white",
           "zerolinewidth": 2
          },
          "yaxis": {
           "automargin": true,
           "gridcolor": "white",
           "linecolor": "white",
           "ticks": "",
           "title": {
            "standoff": 15
           },
           "zerolinecolor": "white",
           "zerolinewidth": 2
          }
         }
        },
        "xaxis": {
         "anchor": "y",
         "domain": [
          0,
          1
         ],
         "title": {
          "text": "Gain%"
         }
        },
        "yaxis": {
         "anchor": "x",
         "domain": [
          0,
          1
         ],
         "title": {
          "text": "count"
         }
        }
       }
      }
     },
     "metadata": {},
     "output_type": "display_data"
    },
    {
     "name": "stdout",
     "output_type": "stream",
     "text": [
      "(20, 40)\n",
      "Total trades: 650\n",
      "Average percent gain per trade: 0.01%\n",
      "Total percent gain: 29.37%\n"
     ]
    },
    {
     "name": "stderr",
     "output_type": "stream",
     "text": [
      "/var/folders/hb/0dd7xx3d4mzgbx_w9m1fmb2h0000gn/T/ipykernel_9734/1167655356.py:12: FutureWarning:\n",
      "\n",
      "The behavior of DataFrame concatenation with empty or all-NA entries is deprecated. In a future version, this will no longer exclude empty or all-NA columns when determining the result dtypes. To retain the old behavior, exclude the relevant entries before the concat operation.\n",
      "\n"
     ]
    },
    {
     "data": {
      "application/vnd.plotly.v1+json": {
       "config": {
        "plotlyServerURL": "https://plot.ly"
       },
       "data": [
        {
         "alignmentgroup": "True",
         "bingroup": "x",
         "hovertemplate": "Gain%=%{x}<br>count=%{y}<extra></extra>",
         "legendgroup": "",
         "marker": {
          "color": "#636efa",
          "pattern": {
           "shape": ""
          }
         },
         "name": "",
         "nbinsx": 100,
         "offsetgroup": "",
         "orientation": "v",
         "showlegend": false,
         "type": "histogram",
         "x": [
          -0.07,
          -0.04,
          -0.15,
          1.19,
          -0.05,
          -0.01,
          0.41,
          -0.01,
          -0.16,
          -0.02,
          -0.34,
          -0.03,
          -0.15,
          0.09,
          -0.03,
          -0.19,
          -0.13,
          -0.09,
          -0.32,
          -0.15,
          -0.22,
          -0.37,
          0.95,
          -0.15,
          -0.22,
          0.03,
          0.12,
          0.48,
          -0.03,
          -0.08,
          0.02,
          0.57,
          0.18,
          0.22,
          0.03,
          -0.14,
          0.01,
          -0.13,
          -0.04,
          -0.07,
          -0.32,
          -0.25,
          0.48,
          0.06,
          0.68,
          -0.22,
          -0.08,
          -0.26,
          0,
          0.17,
          0.09,
          -0.13,
          -0.29,
          0.99,
          -0.03,
          -0.17,
          0.04,
          -0.01,
          -0.09,
          0.25,
          -0.39,
          0,
          -0.26,
          0.61,
          -0.27,
          -0.07,
          -0.05,
          0.15,
          -0.17,
          0.15,
          -0.88,
          -0.26,
          0.04,
          -0.06,
          0.21,
          -0.28,
          -0.29,
          0.91,
          0.6,
          0.06,
          -0.33,
          -0.64,
          -0.2,
          0.67,
          0.02,
          0.04,
          1.16,
          -0.09,
          -0.18,
          -0.19,
          -0.14,
          0.07,
          -0.15,
          0.15,
          0.11,
          0.16,
          0.02,
          -0.11,
          -0.27,
          0.18,
          0.17,
          -0.05,
          -0.06,
          0.23,
          -0.09,
          -0.01,
          0.27,
          0.14,
          -0.2,
          0.08,
          0.18,
          0.1,
          -0.08,
          -0.05,
          -0.09,
          -0.02,
          -0.1,
          -0.04,
          0.33,
          -0.36,
          0.38,
          -0.18,
          -0.07,
          -0.01,
          0.02,
          0.05,
          0.2,
          -0.07,
          0.01,
          -0.04,
          -0.03,
          0.05,
          -0.05,
          -0.27,
          -0.17,
          0.07,
          -0.13,
          0.17,
          0,
          0.16,
          0,
          0.1,
          0.5,
          -0.45,
          -0.01,
          -0.01,
          0.04,
          0,
          -0.09,
          -0.32,
          -0.23,
          0.14,
          0.11,
          -0.13,
          0.78,
          -0.13,
          -0.19,
          0.02,
          0.01,
          -0.23,
          -0.02,
          0.05,
          0.75,
          -0.07,
          0.03,
          -0.08,
          0.05,
          0.02,
          -0.17,
          0.01,
          0,
          -0.04,
          0.07,
          -0.21,
          -0.09,
          0.08,
          -0.07,
          -0.19,
          -0.22,
          -0.15,
          0.08,
          0.02,
          -0.07,
          0.24,
          0.09,
          0.11,
          -0.08,
          0.16,
          -0.06,
          -0.15,
          0.4,
          0.42,
          0.11,
          0.28,
          -0.07,
          -0.04,
          -0.01,
          -0.01,
          1.27,
          -0.01,
          0.03,
          -0.24,
          -0.32,
          0.21,
          -0.09,
          0.01,
          0.66,
          0.39,
          -0.1,
          0.17,
          -0.18,
          -0.19,
          -0.09,
          -0.03,
          0.19,
          0,
          -0.12,
          -0.1,
          0.05,
          -0.19,
          -0.06,
          -0.03,
          -0.17,
          -0.15,
          0.44,
          0.11,
          0.1,
          0.12,
          0,
          -0.05,
          0.12,
          0.37,
          -0.02,
          -0.1,
          -0.06,
          0.22,
          -0.19,
          1.65,
          0.04,
          -0.13,
          0.07,
          0.05,
          0.23,
          0.37,
          0,
          0.3,
          0.13,
          -0.1,
          0.12,
          -0.05,
          0.05,
          0.05,
          0.12,
          -0.05,
          -0.1,
          0.05,
          -0.02,
          0.76,
          -0.07,
          0.01,
          -0.11,
          -0.61,
          -0.15,
          0.08,
          -0.01,
          0.11,
          0.07,
          -0.39,
          -0.03,
          -0.1,
          -0.14,
          -0.08,
          -0.12,
          -0.15,
          -0.04,
          0.06,
          -0.01,
          -0.02,
          0.01,
          -0.11,
          0.45,
          -0.13,
          0.02,
          0.02,
          -0.07,
          -0.03,
          -0.07,
          -0.05,
          -0.04,
          0,
          0.09,
          -0.07,
          0.1,
          0.19,
          -0.05,
          -0.01,
          -0.11,
          -0.33,
          -0.03,
          -0.33,
          0.33,
          -0.3,
          -0.12,
          -0.23,
          0.05,
          0.78,
          -0.18,
          -0.07,
          0.49,
          -0.16,
          0.11,
          -0.04,
          -0.1,
          -0.21,
          -0.26,
          -0.03,
          0.06,
          -0.02,
          -0.04,
          0.43,
          0.02,
          -0.09,
          -0.02,
          0.2,
          -0.02,
          -0.1,
          -0.05,
          -0.14,
          -0.08,
          0.11,
          0.3,
          0.26,
          -0.09,
          -0.05,
          0.17,
          -0.01,
          -0.05,
          0.01,
          0,
          0.33,
          -0.05,
          -0.32,
          -0.1,
          0.12,
          -0.1,
          -0.05,
          -0.01,
          -0.06,
          0.15,
          0,
          0.04,
          -0.07,
          0.45,
          0.01,
          -0.09,
          0.16,
          0.1,
          0.41,
          -0.09,
          -0.04,
          -0.18,
          0.37,
          -0.01,
          -0.02,
          0.44,
          -0.12,
          0.03,
          0.02,
          0.09,
          0.01,
          0.02,
          0.31,
          -0.26,
          0.06,
          0.13,
          -0.08,
          0.16,
          -0.06,
          -0.04,
          -0.03,
          0.39,
          -0.06,
          -0.06,
          -0.06,
          -0.09,
          0.39,
          0.01,
          -0.02,
          0.07,
          -0.02,
          -0.67,
          0.02,
          0.1,
          0.02,
          -0.06,
          0,
          0.06,
          0,
          0.37,
          -0.05,
          0.02,
          -0.04,
          0.31,
          0.03,
          0.01,
          0,
          0.32,
          -0.09,
          0.29,
          0.38,
          0.08,
          0.18,
          -0.03,
          -0.1,
          -0.15,
          0.01,
          -0.11,
          -0.01,
          0.1,
          -0.08,
          -0.09,
          -0.05,
          0.01,
          0.21,
          0.05,
          0.14,
          0.1,
          -0.03,
          -0.18,
          -0.01,
          -0.03,
          -0.08,
          -0.09,
          0.14,
          -0.15,
          -0.01,
          0.15,
          -0.05,
          0,
          0.2,
          0.38,
          -0.07,
          -0.12,
          -0.07,
          0.13,
          -0.06,
          0.42,
          -0.1,
          -0.02,
          -0.08,
          0.09,
          -0.09,
          0.18,
          0.11,
          -0.01,
          0.04,
          0.02,
          -0.1,
          -0.17,
          -0.04,
          -0.04,
          -0.01,
          -0.07,
          -0.07,
          -0.03,
          0,
          0.02,
          0.05,
          -0.03,
          -0.02,
          -0.02,
          -0.06,
          -0.13,
          0.05,
          0.06,
          -0.27,
          0.03,
          0.06,
          0.08,
          -0.04,
          0.19,
          -0.08,
          0,
          -0.07,
          -0.03,
          -0.15,
          0.06,
          0.12,
          -0.01,
          -0.13,
          0.07,
          -0.02,
          0,
          0.1,
          0.22,
          -0.27,
          -0.05,
          -0.1,
          -0.06,
          -0.02,
          0.21,
          0.01,
          -0.03,
          0.07,
          0.02,
          -0.01,
          0.02,
          -0.11,
          0,
          -0.12,
          -0.03,
          0.04,
          -0.1,
          -0.02,
          0,
          0,
          0.24,
          -0.06,
          -0.02,
          -0.04,
          0.09,
          -0.01,
          -0.08,
          -0.1,
          -0.17,
          0,
          0.11,
          -0.09,
          0.02,
          0.35,
          -0.12,
          -0.14,
          0.01,
          -0.04,
          -0.02,
          -0.1,
          0.05,
          -0.03,
          -0.16,
          -0.05,
          -0.05,
          0.04,
          -0.04,
          0.24,
          0.06,
          -0.06,
          0,
          -0.05,
          0.1,
          -0.03,
          0.02,
          0.04,
          -0.05,
          0.06,
          -0.06,
          0.04,
          0.22,
          -0.21,
          -0.03,
          -0.01,
          0.05,
          0.14,
          -0.05,
          -0.01,
          -0.09,
          -0.01,
          0.01,
          -0.13,
          -0.35,
          -0.07,
          0.06,
          -0.3,
          -0.1,
          0.08,
          -0.03,
          -0.14,
          0.12,
          0.06,
          0.18,
          -0.08,
          -0.1,
          0.04,
          0.02,
          0.05,
          0.16,
          -0.14,
          -0.08,
          -0.13,
          -0.06,
          0.07,
          -0.05,
          -0.06,
          0,
          -0.06,
          0.02,
          0.21,
          0.12,
          -0.03,
          0.01,
          -0.03,
          -0.07,
          -0.05,
          0.02,
          0.03,
          0.03,
          -0.17,
          -0.15,
          -0.02,
          -0.09,
          0,
          -0.15,
          0.01,
          0.08,
          0.06,
          0.05,
          -0.02,
          -0.02,
          -0.05,
          0.05,
          -0.12,
          0.03,
          -0.05,
          -0.26,
          -0.2,
          -0.16,
          -0.04,
          -0.03,
          -0.03,
          0.12,
          -0.08,
          -0.26,
          -0.03,
          -0.39,
          0.39,
          0.07,
          0.24,
          0.14,
          -0.02,
          -0.01,
          -0.25,
          -0.01,
          0.06,
          0.12,
          -0.11,
          -0.07,
          -0.12,
          -0.09,
          -0.1,
          -0.2,
          0.02
         ],
         "xaxis": "x",
         "yaxis": "y"
        }
       ],
       "layout": {
        "barmode": "relative",
        "legend": {
         "tracegroupgap": 0
        },
        "margin": {
         "t": 60
        },
        "template": {
         "data": {
          "bar": [
           {
            "error_x": {
             "color": "#2a3f5f"
            },
            "error_y": {
             "color": "#2a3f5f"
            },
            "marker": {
             "line": {
              "color": "#E5ECF6",
              "width": 0.5
             },
             "pattern": {
              "fillmode": "overlay",
              "size": 10,
              "solidity": 0.2
             }
            },
            "type": "bar"
           }
          ],
          "barpolar": [
           {
            "marker": {
             "line": {
              "color": "#E5ECF6",
              "width": 0.5
             },
             "pattern": {
              "fillmode": "overlay",
              "size": 10,
              "solidity": 0.2
             }
            },
            "type": "barpolar"
           }
          ],
          "carpet": [
           {
            "aaxis": {
             "endlinecolor": "#2a3f5f",
             "gridcolor": "white",
             "linecolor": "white",
             "minorgridcolor": "white",
             "startlinecolor": "#2a3f5f"
            },
            "baxis": {
             "endlinecolor": "#2a3f5f",
             "gridcolor": "white",
             "linecolor": "white",
             "minorgridcolor": "white",
             "startlinecolor": "#2a3f5f"
            },
            "type": "carpet"
           }
          ],
          "choropleth": [
           {
            "colorbar": {
             "outlinewidth": 0,
             "ticks": ""
            },
            "type": "choropleth"
           }
          ],
          "contour": [
           {
            "colorbar": {
             "outlinewidth": 0,
             "ticks": ""
            },
            "colorscale": [
             [
              0,
              "#0d0887"
             ],
             [
              0.1111111111111111,
              "#46039f"
             ],
             [
              0.2222222222222222,
              "#7201a8"
             ],
             [
              0.3333333333333333,
              "#9c179e"
             ],
             [
              0.4444444444444444,
              "#bd3786"
             ],
             [
              0.5555555555555556,
              "#d8576b"
             ],
             [
              0.6666666666666666,
              "#ed7953"
             ],
             [
              0.7777777777777778,
              "#fb9f3a"
             ],
             [
              0.8888888888888888,
              "#fdca26"
             ],
             [
              1,
              "#f0f921"
             ]
            ],
            "type": "contour"
           }
          ],
          "contourcarpet": [
           {
            "colorbar": {
             "outlinewidth": 0,
             "ticks": ""
            },
            "type": "contourcarpet"
           }
          ],
          "heatmap": [
           {
            "colorbar": {
             "outlinewidth": 0,
             "ticks": ""
            },
            "colorscale": [
             [
              0,
              "#0d0887"
             ],
             [
              0.1111111111111111,
              "#46039f"
             ],
             [
              0.2222222222222222,
              "#7201a8"
             ],
             [
              0.3333333333333333,
              "#9c179e"
             ],
             [
              0.4444444444444444,
              "#bd3786"
             ],
             [
              0.5555555555555556,
              "#d8576b"
             ],
             [
              0.6666666666666666,
              "#ed7953"
             ],
             [
              0.7777777777777778,
              "#fb9f3a"
             ],
             [
              0.8888888888888888,
              "#fdca26"
             ],
             [
              1,
              "#f0f921"
             ]
            ],
            "type": "heatmap"
           }
          ],
          "heatmapgl": [
           {
            "colorbar": {
             "outlinewidth": 0,
             "ticks": ""
            },
            "colorscale": [
             [
              0,
              "#0d0887"
             ],
             [
              0.1111111111111111,
              "#46039f"
             ],
             [
              0.2222222222222222,
              "#7201a8"
             ],
             [
              0.3333333333333333,
              "#9c179e"
             ],
             [
              0.4444444444444444,
              "#bd3786"
             ],
             [
              0.5555555555555556,
              "#d8576b"
             ],
             [
              0.6666666666666666,
              "#ed7953"
             ],
             [
              0.7777777777777778,
              "#fb9f3a"
             ],
             [
              0.8888888888888888,
              "#fdca26"
             ],
             [
              1,
              "#f0f921"
             ]
            ],
            "type": "heatmapgl"
           }
          ],
          "histogram": [
           {
            "marker": {
             "pattern": {
              "fillmode": "overlay",
              "size": 10,
              "solidity": 0.2
             }
            },
            "type": "histogram"
           }
          ],
          "histogram2d": [
           {
            "colorbar": {
             "outlinewidth": 0,
             "ticks": ""
            },
            "colorscale": [
             [
              0,
              "#0d0887"
             ],
             [
              0.1111111111111111,
              "#46039f"
             ],
             [
              0.2222222222222222,
              "#7201a8"
             ],
             [
              0.3333333333333333,
              "#9c179e"
             ],
             [
              0.4444444444444444,
              "#bd3786"
             ],
             [
              0.5555555555555556,
              "#d8576b"
             ],
             [
              0.6666666666666666,
              "#ed7953"
             ],
             [
              0.7777777777777778,
              "#fb9f3a"
             ],
             [
              0.8888888888888888,
              "#fdca26"
             ],
             [
              1,
              "#f0f921"
             ]
            ],
            "type": "histogram2d"
           }
          ],
          "histogram2dcontour": [
           {
            "colorbar": {
             "outlinewidth": 0,
             "ticks": ""
            },
            "colorscale": [
             [
              0,
              "#0d0887"
             ],
             [
              0.1111111111111111,
              "#46039f"
             ],
             [
              0.2222222222222222,
              "#7201a8"
             ],
             [
              0.3333333333333333,
              "#9c179e"
             ],
             [
              0.4444444444444444,
              "#bd3786"
             ],
             [
              0.5555555555555556,
              "#d8576b"
             ],
             [
              0.6666666666666666,
              "#ed7953"
             ],
             [
              0.7777777777777778,
              "#fb9f3a"
             ],
             [
              0.8888888888888888,
              "#fdca26"
             ],
             [
              1,
              "#f0f921"
             ]
            ],
            "type": "histogram2dcontour"
           }
          ],
          "mesh3d": [
           {
            "colorbar": {
             "outlinewidth": 0,
             "ticks": ""
            },
            "type": "mesh3d"
           }
          ],
          "parcoords": [
           {
            "line": {
             "colorbar": {
              "outlinewidth": 0,
              "ticks": ""
             }
            },
            "type": "parcoords"
           }
          ],
          "pie": [
           {
            "automargin": true,
            "type": "pie"
           }
          ],
          "scatter": [
           {
            "fillpattern": {
             "fillmode": "overlay",
             "size": 10,
             "solidity": 0.2
            },
            "type": "scatter"
           }
          ],
          "scatter3d": [
           {
            "line": {
             "colorbar": {
              "outlinewidth": 0,
              "ticks": ""
             }
            },
            "marker": {
             "colorbar": {
              "outlinewidth": 0,
              "ticks": ""
             }
            },
            "type": "scatter3d"
           }
          ],
          "scattercarpet": [
           {
            "marker": {
             "colorbar": {
              "outlinewidth": 0,
              "ticks": ""
             }
            },
            "type": "scattercarpet"
           }
          ],
          "scattergeo": [
           {
            "marker": {
             "colorbar": {
              "outlinewidth": 0,
              "ticks": ""
             }
            },
            "type": "scattergeo"
           }
          ],
          "scattergl": [
           {
            "marker": {
             "colorbar": {
              "outlinewidth": 0,
              "ticks": ""
             }
            },
            "type": "scattergl"
           }
          ],
          "scattermapbox": [
           {
            "marker": {
             "colorbar": {
              "outlinewidth": 0,
              "ticks": ""
             }
            },
            "type": "scattermapbox"
           }
          ],
          "scatterpolar": [
           {
            "marker": {
             "colorbar": {
              "outlinewidth": 0,
              "ticks": ""
             }
            },
            "type": "scatterpolar"
           }
          ],
          "scatterpolargl": [
           {
            "marker": {
             "colorbar": {
              "outlinewidth": 0,
              "ticks": ""
             }
            },
            "type": "scatterpolargl"
           }
          ],
          "scatterternary": [
           {
            "marker": {
             "colorbar": {
              "outlinewidth": 0,
              "ticks": ""
             }
            },
            "type": "scatterternary"
           }
          ],
          "surface": [
           {
            "colorbar": {
             "outlinewidth": 0,
             "ticks": ""
            },
            "colorscale": [
             [
              0,
              "#0d0887"
             ],
             [
              0.1111111111111111,
              "#46039f"
             ],
             [
              0.2222222222222222,
              "#7201a8"
             ],
             [
              0.3333333333333333,
              "#9c179e"
             ],
             [
              0.4444444444444444,
              "#bd3786"
             ],
             [
              0.5555555555555556,
              "#d8576b"
             ],
             [
              0.6666666666666666,
              "#ed7953"
             ],
             [
              0.7777777777777778,
              "#fb9f3a"
             ],
             [
              0.8888888888888888,
              "#fdca26"
             ],
             [
              1,
              "#f0f921"
             ]
            ],
            "type": "surface"
           }
          ],
          "table": [
           {
            "cells": {
             "fill": {
              "color": "#EBF0F8"
             },
             "line": {
              "color": "white"
             }
            },
            "header": {
             "fill": {
              "color": "#C8D4E3"
             },
             "line": {
              "color": "white"
             }
            },
            "type": "table"
           }
          ]
         },
         "layout": {
          "annotationdefaults": {
           "arrowcolor": "#2a3f5f",
           "arrowhead": 0,
           "arrowwidth": 1
          },
          "autotypenumbers": "strict",
          "coloraxis": {
           "colorbar": {
            "outlinewidth": 0,
            "ticks": ""
           }
          },
          "colorscale": {
           "diverging": [
            [
             0,
             "#8e0152"
            ],
            [
             0.1,
             "#c51b7d"
            ],
            [
             0.2,
             "#de77ae"
            ],
            [
             0.3,
             "#f1b6da"
            ],
            [
             0.4,
             "#fde0ef"
            ],
            [
             0.5,
             "#f7f7f7"
            ],
            [
             0.6,
             "#e6f5d0"
            ],
            [
             0.7,
             "#b8e186"
            ],
            [
             0.8,
             "#7fbc41"
            ],
            [
             0.9,
             "#4d9221"
            ],
            [
             1,
             "#276419"
            ]
           ],
           "sequential": [
            [
             0,
             "#0d0887"
            ],
            [
             0.1111111111111111,
             "#46039f"
            ],
            [
             0.2222222222222222,
             "#7201a8"
            ],
            [
             0.3333333333333333,
             "#9c179e"
            ],
            [
             0.4444444444444444,
             "#bd3786"
            ],
            [
             0.5555555555555556,
             "#d8576b"
            ],
            [
             0.6666666666666666,
             "#ed7953"
            ],
            [
             0.7777777777777778,
             "#fb9f3a"
            ],
            [
             0.8888888888888888,
             "#fdca26"
            ],
            [
             1,
             "#f0f921"
            ]
           ],
           "sequentialminus": [
            [
             0,
             "#0d0887"
            ],
            [
             0.1111111111111111,
             "#46039f"
            ],
            [
             0.2222222222222222,
             "#7201a8"
            ],
            [
             0.3333333333333333,
             "#9c179e"
            ],
            [
             0.4444444444444444,
             "#bd3786"
            ],
            [
             0.5555555555555556,
             "#d8576b"
            ],
            [
             0.6666666666666666,
             "#ed7953"
            ],
            [
             0.7777777777777778,
             "#fb9f3a"
            ],
            [
             0.8888888888888888,
             "#fdca26"
            ],
            [
             1,
             "#f0f921"
            ]
           ]
          },
          "colorway": [
           "#636efa",
           "#EF553B",
           "#00cc96",
           "#ab63fa",
           "#FFA15A",
           "#19d3f3",
           "#FF6692",
           "#B6E880",
           "#FF97FF",
           "#FECB52"
          ],
          "font": {
           "color": "#2a3f5f"
          },
          "geo": {
           "bgcolor": "white",
           "lakecolor": "white",
           "landcolor": "#E5ECF6",
           "showlakes": true,
           "showland": true,
           "subunitcolor": "white"
          },
          "hoverlabel": {
           "align": "left"
          },
          "hovermode": "closest",
          "mapbox": {
           "style": "light"
          },
          "paper_bgcolor": "white",
          "plot_bgcolor": "#E5ECF6",
          "polar": {
           "angularaxis": {
            "gridcolor": "white",
            "linecolor": "white",
            "ticks": ""
           },
           "bgcolor": "#E5ECF6",
           "radialaxis": {
            "gridcolor": "white",
            "linecolor": "white",
            "ticks": ""
           }
          },
          "scene": {
           "xaxis": {
            "backgroundcolor": "#E5ECF6",
            "gridcolor": "white",
            "gridwidth": 2,
            "linecolor": "white",
            "showbackground": true,
            "ticks": "",
            "zerolinecolor": "white"
           },
           "yaxis": {
            "backgroundcolor": "#E5ECF6",
            "gridcolor": "white",
            "gridwidth": 2,
            "linecolor": "white",
            "showbackground": true,
            "ticks": "",
            "zerolinecolor": "white"
           },
           "zaxis": {
            "backgroundcolor": "#E5ECF6",
            "gridcolor": "white",
            "gridwidth": 2,
            "linecolor": "white",
            "showbackground": true,
            "ticks": "",
            "zerolinecolor": "white"
           }
          },
          "shapedefaults": {
           "line": {
            "color": "#2a3f5f"
           }
          },
          "ternary": {
           "aaxis": {
            "gridcolor": "white",
            "linecolor": "white",
            "ticks": ""
           },
           "baxis": {
            "gridcolor": "white",
            "linecolor": "white",
            "ticks": ""
           },
           "bgcolor": "#E5ECF6",
           "caxis": {
            "gridcolor": "white",
            "linecolor": "white",
            "ticks": ""
           }
          },
          "title": {
           "x": 0.05
          },
          "xaxis": {
           "automargin": true,
           "gridcolor": "white",
           "linecolor": "white",
           "ticks": "",
           "title": {
            "standoff": 15
           },
           "zerolinecolor": "white",
           "zerolinewidth": 2
          },
          "yaxis": {
           "automargin": true,
           "gridcolor": "white",
           "linecolor": "white",
           "ticks": "",
           "title": {
            "standoff": 15
           },
           "zerolinecolor": "white",
           "zerolinewidth": 2
          }
         }
        },
        "xaxis": {
         "anchor": "y",
         "domain": [
          0,
          1
         ],
         "title": {
          "text": "Gain%"
         }
        },
        "yaxis": {
         "anchor": "x",
         "domain": [
          0,
          1
         ],
         "title": {
          "text": "count"
         }
        }
       }
      }
     },
     "metadata": {},
     "output_type": "display_data"
    },
    {
     "name": "stdout",
     "output_type": "stream",
     "text": [
      "(30, 50)\n",
      "Total trades: 1442\n",
      "Average percent gain per trade: 0.0%\n",
      "Total percent gain: 3.54%\n"
     ]
    },
    {
     "name": "stderr",
     "output_type": "stream",
     "text": [
      "/var/folders/hb/0dd7xx3d4mzgbx_w9m1fmb2h0000gn/T/ipykernel_9734/1167655356.py:12: FutureWarning:\n",
      "\n",
      "The behavior of DataFrame concatenation with empty or all-NA entries is deprecated. In a future version, this will no longer exclude empty or all-NA columns when determining the result dtypes. To retain the old behavior, exclude the relevant entries before the concat operation.\n",
      "\n"
     ]
    },
    {
     "data": {
      "application/vnd.plotly.v1+json": {
       "config": {
        "plotlyServerURL": "https://plot.ly"
       },
       "data": [
        {
         "alignmentgroup": "True",
         "bingroup": "x",
         "hovertemplate": "Gain%=%{x}<br>count=%{y}<extra></extra>",
         "legendgroup": "",
         "marker": {
          "color": "#636efa",
          "pattern": {
           "shape": ""
          }
         },
         "name": "",
         "nbinsx": 100,
         "offsetgroup": "",
         "orientation": "v",
         "showlegend": false,
         "type": "histogram",
         "x": [
          -0.58,
          0.12,
          -0.06,
          -0.18,
          0.11,
          0.1,
          0.12,
          -0.02,
          -0.14,
          0.02,
          -0.42,
          -0.08,
          -0.19,
          0,
          -0.08,
          0.24,
          0.04,
          0.03,
          -0.03,
          -0.13,
          -0.14,
          -0.65,
          -0.01,
          -0.03,
          0,
          -0.06,
          -0.04,
          -0.01,
          0.07,
          -0.12,
          -0.06,
          0.05,
          -0.49,
          0.71,
          0.05,
          -0.03,
          -0.43,
          0.35,
          0.5,
          -0.04,
          0.02,
          0.12,
          0.02,
          0.18,
          0,
          0.31,
          -0.1,
          -0.01,
          -0.15,
          0.03,
          0.04,
          -0.07,
          0.54,
          -0.17,
          -0.09,
          -0.71,
          -0.78,
          0.32,
          -0.01,
          0.09,
          0.24,
          -0.25,
          -0.12,
          0.11,
          0.03,
          -0.15,
          0.51,
          0.08,
          0.1,
          0.03,
          -0.15,
          0.06,
          -0.66,
          0.37,
          0.39,
          -0.12,
          -0.38,
          0.47,
          -0.18,
          -0.02,
          -0.03,
          -0.24,
          0.05,
          0.01,
          -0.05,
          -0.07,
          0.77,
          0.02,
          0.03,
          -0.25,
          0.12,
          0.11,
          -0.06,
          -0.09,
          -0.09,
          -0.42,
          0.12,
          -0.05,
          0.08,
          0.05,
          -0.36,
          -0.02,
          -0.11,
          0.03,
          0.07,
          -0.23,
          0.09,
          -0.04,
          0.07,
          0.28,
          -0.01,
          -0.04,
          -0.01,
          -0.08,
          -0.01,
          0.07,
          -0.12,
          0.19,
          0.82,
          0.06,
          -0.11,
          0.05,
          0.05,
          -0.31,
          0.24,
          0.13,
          0.05,
          -0.01,
          -0.14,
          0.06,
          0.01,
          -0.11,
          0.02,
          0,
          0,
          -0.46,
          -0.22,
          0.25,
          -0.09,
          0.04,
          -0.01,
          0.19,
          -0.05,
          -0.02,
          -0.05,
          0,
          0.02,
          0.27,
          0.02,
          0.38,
          0.1,
          0.19,
          0.36,
          0.32,
          0.02,
          -0.07,
          0.23,
          0.02,
          1.24,
          -0.32,
          -0.9,
          -0.12,
          0.01,
          0.83,
          0.39,
          -0.15,
          0.23,
          0.01,
          -0.05,
          0.17,
          -0.03,
          0,
          -0.02,
          -0.01,
          -0.01,
          0.5,
          -0.09,
          0.36,
          -0.24,
          -0.04,
          0.06,
          -0.06,
          -0.12,
          -0.09,
          0.27,
          0.01,
          0.03,
          0.02,
          0.02,
          -0.26,
          -0.02,
          -0.1,
          0,
          0.33,
          0.3,
          -0.09,
          0.01,
          -0.13,
          0.05,
          0.04,
          -0.07,
          -0.07,
          0.03,
          0.13,
          -0.05,
          0.01,
          0.03,
          0.08,
          -0.04,
          0.02,
          0.03,
          0.27,
          -0.09,
          -0.12,
          -0.05,
          -0.05,
          0.3,
          -0.04,
          0.07,
          0.09,
          0.16,
          0.26,
          -0.02,
          -0.22,
          0.06,
          0.23,
          -0.04,
          0.05,
          0,
          0.13,
          -0.06,
          -0.15,
          0.2,
          0.11,
          0.04,
          -0.01,
          -0.02,
          -0.03,
          0.03,
          0,
          0.01,
          -0.01,
          -0.02,
          0.1,
          -0.04,
          -0.37,
          -0.22,
          0,
          -0.63,
          -0.02,
          0.1,
          -0.04,
          0.11,
          -0.04,
          -0.06,
          -0.1,
          0.9,
          -0.05,
          0.16,
          0.06,
          0.06,
          -0.11,
          0.29,
          0.17,
          0.04,
          0.03,
          -0.13,
          0.05,
          0.08,
          -0.01,
          -0.27,
          -0.06,
          -0.03,
          -0.07,
          -0.03,
          -0.02,
          -0.05,
          -0.1,
          0.01,
          0,
          -0.54,
          0.13,
          -0.05,
          -0.02,
          -0.08,
          0.11,
          -0.13,
          0.13,
          -0.05,
          0.23,
          0.05,
          -0.01,
          0.07,
          0.11,
          0.42,
          0.08,
          -0.12,
          0.12,
          0.02,
          0.07,
          -0.05,
          -0.17,
          0.08,
          0.05,
          0.04,
          -0.05,
          0.02,
          -0.73,
          0.02,
          -0.19,
          -0.05,
          0.29,
          0.03,
          0.14,
          -0.01,
          -0.02,
          -0.01,
          -0.14,
          -0.08,
          -0.07,
          -0.03,
          0,
          0.03,
          -0.36,
          0.02,
          -0.18,
          0.22,
          0.08,
          0.03,
          -0.13,
          -0.03,
          0.22,
          -0.06,
          -0.31,
          0.06,
          -0.04,
          -0.01,
          -0.4,
          -0.03,
          -0.08,
          -0.31,
          -0.02,
          -0.01,
          -0.16,
          0.15,
          0.01,
          0.11,
          0.26,
          -0.08,
          -0.19,
          -0.19,
          -0.06,
          0,
          0.03,
          -0.04,
          0.14,
          0.06,
          -0.14,
          0.04,
          -0.11,
          -0.08,
          -0.03,
          0.01,
          -0.05,
          0.16,
          -0.14,
          -0.01,
          -0.03,
          0.23,
          -0.01,
          -0.58,
          -0.31,
          -0.08,
          -0.19,
          0,
          -0.03,
          0.33,
          0.03,
          0.07,
          -0.01,
          -0.04,
          -0.04,
          -0.03,
          0.04,
          0.1,
          0.06,
          -0.14,
          -0.06,
          0.09,
          -0.32,
          -0.47,
          -0.27,
          -0.01,
          0.02,
          0.07,
          0.42,
          -0.07,
          0.03,
          -0.07,
          -0.18,
          0.05,
          -0.06,
          -0.09,
          -0.19,
          -0.03,
          0.12,
          0.06,
          -0.09,
          -0.11,
          -0.14,
          0.04,
          0.77,
          -0.1,
          0.08,
          0.39,
          0,
          -0.1,
          -0.06,
          0.03,
          -0.17,
          0.05,
          -0.3,
          -0.14,
          0.12,
          0.1,
          0.15,
          0.1,
          -0.05,
          0.06,
          -0.09,
          0.03,
          0.03,
          0.01,
          0.06,
          0.84,
          -0.19,
          0.26,
          -0.01,
          -0.01,
          0.05,
          -0.02,
          -0.02,
          0.25,
          0.06,
          -0.02,
          0.08,
          -0.02,
          0.15,
          0.03,
          -0.05,
          -0.93,
          0,
          0.22,
          -0.01,
          -0.1,
          -0.01,
          -0.17,
          0.07,
          0.02,
          -0.05,
          -0.05,
          0.24,
          -0.01,
          0.04,
          0.06,
          -0.14,
          -0.35,
          0.16,
          0.04,
          0.1,
          0.06,
          -0.01,
          -0.04,
          0.05,
          0.13,
          0.11,
          0.06,
          0,
          -0.04,
          -0.12,
          -0.08,
          0.13,
          0.01,
          0.03,
          0,
          -0.08,
          0.1,
          0,
          -0.03,
          -0.07,
          0.03,
          0.04,
          0,
          -0.02,
          -0.12,
          -0.05,
          0,
          0.02,
          0.06,
          0.02,
          0.24,
          -0.05,
          -0.17,
          1.25,
          -0.01,
          -0.01,
          0.09,
          -0.04,
          -0.22,
          -0.19,
          0.17,
          -0.07,
          -0.05,
          -0.01,
          0.05,
          -0.11,
          -0.16,
          0.09,
          0.02,
          0.02,
          0.13,
          0.95,
          -1.08,
          -0.04,
          -0.15,
          -0.05,
          0.29,
          -0.04,
          -0.14,
          -0.05,
          -0.02,
          0.01,
          -0.02,
          -0.02,
          0.11,
          0.06,
          -0.1,
          0.02,
          -0.22,
          0.45,
          0.04,
          -0.05,
          0,
          0.07,
          0.14,
          0.26,
          -0.03,
          0.02,
          0.07,
          -0.29,
          1,
          0.11,
          0.12,
          0.41,
          0.04,
          -0.04,
          0.05,
          -0.05,
          0.01,
          -0.09,
          0.13,
          -0.03,
          -0.56,
          0.45,
          -0.13,
          0.04,
          -0.01,
          0.08,
          -0.02,
          -0.24,
          0,
          -0.07,
          0.01,
          -0.02,
          -0.17,
          -0.01,
          0.01,
          -0.12,
          0.29,
          0.04,
          0.03,
          -0.02,
          -0.09,
          0.06,
          0,
          0.03,
          -0.15,
          -0.04,
          -0.2,
          -0.08,
          -0.13,
          -0.02,
          -0.01,
          0,
          -0.06,
          -0.04,
          -0.04,
          0.21,
          -0.04,
          -0.03,
          0.05,
          -0.08,
          0.23,
          0.16,
          0.01,
          0.01,
          -0.07,
          -0.22,
          -0.05,
          0.49,
          -0.02,
          -0.04,
          -0.04,
          0.11,
          -0.07,
          0.09,
          0.02,
          0.08,
          0.04,
          0.28,
          0,
          0,
          0.08,
          -0.18,
          -0.07,
          -0.02,
          -0.04,
          0.07,
          0.04,
          -0.12,
          0.02,
          0.09,
          0,
          0.02,
          0.05,
          0.01,
          0.06,
          0.26,
          -0.12,
          0.11,
          -0.3,
          -0.07,
          0.2,
          0.17,
          -0.11,
          0.03,
          0.02,
          0,
          -0.39,
          0.06,
          -0.55,
          0.27,
          0.43,
          -0.36,
          -0.11,
          0.01,
          0.11,
          -0.17,
          0.8,
          -0.18,
          -0.03,
          -0.02,
          -0.04,
          0.08,
          0.09,
          0.14,
          -0.11,
          0.08,
          0.47,
          -0.34,
          0.51,
          0.03,
          1.21,
          0.08,
          -0.1,
          -0.02,
          -0.01,
          -0.01,
          -0.12,
          -0.16,
          0.13,
          -0.08,
          -0.18,
          0.17,
          0.08,
          -0.05,
          0.03,
          -0.14,
          -0.05,
          0.02,
          0,
          -0.05,
          -0.04,
          -0.11,
          0.39,
          0.35,
          0.02,
          -0.21,
          -0.06,
          -0.14,
          -0.05,
          -0.25,
          0.14,
          -0.05,
          0.51,
          0.32,
          0.2,
          0.16,
          0.24,
          -0.07,
          0.01,
          0.02,
          -0.02,
          0.02,
          0,
          0.15,
          0.29,
          -0.04,
          -0.29,
          -0.06,
          -0.03,
          -0.06,
          0.23,
          -0.04,
          0.1,
          -0.09,
          0.04,
          -0.03,
          0.06,
          0,
          0,
          -0.12,
          0.24,
          0.03,
          -0.04,
          0,
          -0.03,
          0.11,
          0.01,
          0.02,
          0.13,
          -0.02,
          0.03,
          -0.07,
          0,
          -0.09,
          -0.09,
          -0.02,
          0.07,
          0,
          -0.05,
          0.04,
          0.01,
          0.02,
          0.05,
          -0.02,
          0,
          0.07,
          -0.01,
          0.09,
          -0.03,
          -0.02,
          0.12,
          0.07,
          0.13,
          0.47,
          0,
          0.12,
          0.04,
          -0.03,
          0,
          0.04,
          0.11,
          0.01,
          -0.02,
          0.2,
          -0.01,
          0.23,
          -0.02,
          -0.05,
          -0.13,
          0,
          0.1,
          0,
          -0.02,
          -0.02,
          -0.26,
          -0.01,
          0.04,
          0.03,
          -0.09,
          0.31,
          -0.04,
          -0.07,
          -0.15,
          0,
          0.03,
          -0.07,
          0.08,
          0.02,
          0.15,
          0.17,
          0.04,
          -0.04,
          0.15,
          -0.02,
          0.23,
          -0.41,
          0,
          0.18,
          0.15,
          0.01,
          0.16,
          -0.13,
          0,
          0.06,
          -0.05,
          -0.04,
          0.15,
          -0.08,
          -0.08,
          -0.01,
          -0.05,
          -0.04,
          -0.01,
          -0.03,
          0,
          0.08,
          0.11,
          -0.16,
          -0.06,
          -0.12,
          -0.08,
          -0.03,
          -0.05,
          -0.04,
          0,
          -0.03,
          0.25,
          0.04,
          -0.05,
          -0.01,
          -0.01,
          0.06,
          0.19,
          -0.1,
          -0.02,
          0.02,
          -0.01,
          0.09,
          -0.09,
          -1.17,
          -0.1,
          0.03,
          -0.17,
          0.02,
          0.06,
          -0.08,
          0.17,
          -0.11,
          -0.15,
          -0.01,
          -0.19,
          -0.19,
          0,
          0.07,
          -0.09,
          -0.17,
          0.06,
          0.09,
          -0.09,
          -0.05,
          0,
          0.03,
          -0.01,
          0.07,
          -0.02,
          -0.17,
          -0.04,
          0.07,
          0.02,
          0.2,
          -0.03,
          0.09,
          -0.01,
          -0.03,
          0.04,
          0,
          0.3,
          -0.06,
          0.05,
          -0.15,
          0.01,
          -0.07,
          -0.03,
          0.22,
          -0.04,
          0.07,
          -0.04,
          -0.14,
          -0.07,
          -0.09,
          -0.16,
          0.08,
          -0.09,
          -0.31,
          0.23,
          0.07,
          0,
          0.07,
          -0.03,
          0.07,
          0.12,
          0.02,
          -0.02,
          0.01,
          -0.15,
          0,
          0,
          0.09,
          0.04,
          -0.04,
          -0.19,
          -0.1,
          0.11,
          -0.04,
          -0.19,
          0.18,
          -0.07,
          -0.05,
          0.08,
          -0.03,
          0.17,
          0.05,
          -0.04,
          0.13,
          -0.18,
          0.12,
          0.04,
          0.04,
          -0.01,
          -0.09,
          -0.02,
          -0.11,
          -0.23,
          0.03,
          -0.12,
          0.08,
          0.11,
          0.4,
          -0.01,
          -0.05,
          -0.22,
          -0.1,
          -0.11,
          0,
          0.03,
          -0.35,
          -0.02,
          0.07,
          0.15,
          -0.01,
          -0.07,
          0.36,
          -0.35,
          0.07,
          -0.03,
          0,
          -0.14,
          0.03,
          -0.01,
          -0.01,
          0.08,
          0,
          0.04,
          0.14,
          -0.04,
          -0.03,
          -0.06,
          0.01,
          0.09,
          -0.16,
          -0.03,
          -0.07,
          0.11,
          0.03,
          0.15,
          0,
          -0.04,
          0.05,
          0.07,
          0.11,
          0,
          -0.04,
          -0.08,
          0.09,
          -0.05,
          -0.02,
          -0.04,
          0.26,
          0.06,
          -0.1,
          -0.12,
          0.01,
          -0.01,
          0.02,
          -0.02,
          0,
          0.01,
          0.04,
          0.02,
          -0.03,
          0.19,
          0.11,
          0.17,
          -0.05,
          0,
          -0.03,
          -0.13,
          -0.25,
          0.12,
          0.24,
          0.03,
          0.01,
          -0.03,
          -0.01,
          -0.01,
          0,
          -0.04,
          -0.09,
          0.05,
          -0.06,
          -0.19,
          0.03,
          0,
          -0.03,
          -0.03,
          0.1,
          -0.03,
          0.19,
          0.15,
          -0.04,
          0.14,
          0.04,
          0.03,
          -0.05,
          0.1,
          -0.05,
          -0.06,
          0.05,
          -0.02,
          -0.06,
          0.18,
          -0.11,
          -0.21,
          -0.05,
          -0.07,
          -0.02,
          0.08,
          0.1,
          0.26,
          0.33,
          -0.01,
          0.02,
          0.34,
          -0.31,
          -0.01,
          -0.01,
          0.05,
          0.22,
          -0.05,
          0.08,
          0.1,
          -0.08,
          0.13,
          0,
          0.01,
          0,
          0.03,
          0,
          0.17,
          -0.06,
          -0.13,
          -0.06,
          0,
          -0.03,
          0.07,
          -0.02,
          -0.02,
          0,
          -0.04,
          -0.02,
          -0.01,
          -0.05,
          -0.06,
          -0.08,
          -0.03,
          0.03,
          0.02,
          -0.03,
          0,
          -0.06,
          0.11,
          0,
          -0.01,
          -0.02,
          -0.03,
          -0.03,
          -0.33,
          -0.02,
          0.07,
          0.05,
          0,
          0.1,
          0.11,
          -0.08,
          0,
          0,
          0.06,
          0.01,
          -0.07,
          0.04,
          -0.04,
          0.01,
          0.11,
          0,
          0.1,
          -0.11,
          -0.01,
          -0.14,
          0.06,
          0.03,
          0,
          -0.05,
          -0.18,
          0.08,
          -0.01,
          -0.05,
          0.01,
          0.06,
          0.03,
          -0.24,
          0.04,
          -0.02,
          0.01,
          0.08,
          -0.04,
          -0.01,
          -0.06,
          0.03,
          0,
          -0.05,
          -0.01,
          0.02,
          0.06,
          -0.07,
          -0.02,
          -0.04,
          0.03,
          0,
          0.02,
          -0.06,
          0.06,
          -0.07,
          -0.04,
          0.19,
          -0.35,
          -0.31,
          0.02,
          -0.12,
          0.07,
          -0.01,
          -0.12,
          0.02,
          0.07,
          -0.02,
          -0.03,
          0.08,
          -0.03,
          0.01,
          -0.11,
          0.04,
          0,
          0.07,
          -0.03,
          0.1,
          0.01,
          0.02,
          -0.01,
          0.01,
          -0.02,
          -0.02,
          -0.13,
          -0.05,
          0.03,
          -0.01,
          0.08,
          -0.04,
          -0.17,
          0.08,
          -0.07,
          0.13,
          0.06,
          0.03,
          -0.21,
          -0.82,
          -0.03,
          -0.04,
          -0.05,
          -0.01,
          0.09,
          0.01,
          0.09,
          -0.03,
          -0.04,
          -0.04,
          0.07,
          0.04,
          -0.13,
          -0.03,
          0.02,
          0.06,
          -0.15,
          -0.09,
          -0.08,
          -0.14,
          -0.1,
          -0.02,
          0.31,
          -0.19,
          0.11,
          0.04,
          -0.21,
          -0.08,
          -0.05,
          0.17,
          0.04,
          -0.02,
          0.02,
          -0.05,
          0.01,
          0.04,
          -0.35,
          -0.02,
          0.03,
          0,
          -0.05,
          -0.03,
          -0.27,
          0.03,
          -0.04,
          0.02,
          -0.26,
          -0.15,
          0.19,
          -0.45,
          -0.02,
          0.03,
          -0.04,
          -0.02,
          0.03,
          -0.24,
          0,
          -0.21,
          -0.04,
          0,
          -0.01,
          -0.1,
          -0.1,
          0.08,
          -0.27,
          -0.02,
          -0.03,
          0.05,
          0.26,
          -0.27,
          0.02,
          0.07,
          0.08,
          -0.06,
          0.16,
          0.01,
          -0.02,
          0.25,
          -0.05,
          0.03,
          0.05,
          -0.33,
          -0.02,
          0.05,
          -0.05,
          0.02,
          0,
          -0.03,
          -0.35,
          0.14,
          -0.23,
          0.04,
          -0.02,
          -0.26,
          0.22,
          -0.04,
          0,
          0.02,
          -0.02,
          0.01,
          -0.1,
          0.02,
          -0.04,
          0.04,
          -0.03,
          0.22,
          0.12,
          0.06,
          0,
          -0.13,
          -0.01,
          0.07,
          0.04,
          -0.04,
          0.07,
          0.02,
          0.04,
          -0.1,
          0.24,
          -0.01,
          -0.05,
          -0.03,
          0.03,
          0.03,
          -0.05,
          -0.1,
          0.01,
          -0.13,
          0.04,
          0.02,
          0,
          0.17,
          0.03,
          0.08,
          -0.02,
          -0.07,
          -0.01,
          -0.02,
          -0.01,
          0.01,
          -0.04,
          -0.03,
          0.04,
          -0.05,
          0,
          0.01,
          0.1,
          0.05,
          0,
          -0.04,
          0,
          0.01,
          -0.08,
          -0.18,
          0.31,
          -0.07,
          -0.03,
          0.06,
          -0.01,
          0.04,
          -0.01,
          -0.03,
          -0.09,
          -0.11,
          0.02,
          0.1,
          -0.05,
          -0.02,
          -0.01,
          0.07,
          0.04,
          -0.04,
          -0.01,
          0.02,
          0.01,
          -0.12,
          -0.01,
          -0.01,
          0.03,
          0.13,
          0,
          -0.05,
          0.03,
          0.03,
          -0.02,
          -0.29,
          0.01,
          -0.09,
          -0.21,
          -0.01,
          -0.09,
          -0.09,
          0.05,
          0,
          0.21,
          -0.11,
          0.05,
          -0.12,
          0,
          0.03,
          0.03,
          -0.03,
          -0.39,
          -0.04,
          0.06,
          0.37,
          0.05,
          0.15,
          -0.04,
          -0.08,
          -0.02,
          0.13,
          -0.28,
          -0.1,
          0.04,
          0,
          -0.05,
          0.09,
          0.06,
          0.07,
          -0.16,
          -0.04,
          -0.15,
          0.06,
          0.06,
          0,
          -0.04,
          0,
          -0.09,
          0.05,
          -0.03,
          0.08,
          0,
          -0.37,
          -0.04,
          -0.15
         ],
         "xaxis": "x",
         "yaxis": "y"
        }
       ],
       "layout": {
        "barmode": "relative",
        "legend": {
         "tracegroupgap": 0
        },
        "margin": {
         "t": 60
        },
        "template": {
         "data": {
          "bar": [
           {
            "error_x": {
             "color": "#2a3f5f"
            },
            "error_y": {
             "color": "#2a3f5f"
            },
            "marker": {
             "line": {
              "color": "#E5ECF6",
              "width": 0.5
             },
             "pattern": {
              "fillmode": "overlay",
              "size": 10,
              "solidity": 0.2
             }
            },
            "type": "bar"
           }
          ],
          "barpolar": [
           {
            "marker": {
             "line": {
              "color": "#E5ECF6",
              "width": 0.5
             },
             "pattern": {
              "fillmode": "overlay",
              "size": 10,
              "solidity": 0.2
             }
            },
            "type": "barpolar"
           }
          ],
          "carpet": [
           {
            "aaxis": {
             "endlinecolor": "#2a3f5f",
             "gridcolor": "white",
             "linecolor": "white",
             "minorgridcolor": "white",
             "startlinecolor": "#2a3f5f"
            },
            "baxis": {
             "endlinecolor": "#2a3f5f",
             "gridcolor": "white",
             "linecolor": "white",
             "minorgridcolor": "white",
             "startlinecolor": "#2a3f5f"
            },
            "type": "carpet"
           }
          ],
          "choropleth": [
           {
            "colorbar": {
             "outlinewidth": 0,
             "ticks": ""
            },
            "type": "choropleth"
           }
          ],
          "contour": [
           {
            "colorbar": {
             "outlinewidth": 0,
             "ticks": ""
            },
            "colorscale": [
             [
              0,
              "#0d0887"
             ],
             [
              0.1111111111111111,
              "#46039f"
             ],
             [
              0.2222222222222222,
              "#7201a8"
             ],
             [
              0.3333333333333333,
              "#9c179e"
             ],
             [
              0.4444444444444444,
              "#bd3786"
             ],
             [
              0.5555555555555556,
              "#d8576b"
             ],
             [
              0.6666666666666666,
              "#ed7953"
             ],
             [
              0.7777777777777778,
              "#fb9f3a"
             ],
             [
              0.8888888888888888,
              "#fdca26"
             ],
             [
              1,
              "#f0f921"
             ]
            ],
            "type": "contour"
           }
          ],
          "contourcarpet": [
           {
            "colorbar": {
             "outlinewidth": 0,
             "ticks": ""
            },
            "type": "contourcarpet"
           }
          ],
          "heatmap": [
           {
            "colorbar": {
             "outlinewidth": 0,
             "ticks": ""
            },
            "colorscale": [
             [
              0,
              "#0d0887"
             ],
             [
              0.1111111111111111,
              "#46039f"
             ],
             [
              0.2222222222222222,
              "#7201a8"
             ],
             [
              0.3333333333333333,
              "#9c179e"
             ],
             [
              0.4444444444444444,
              "#bd3786"
             ],
             [
              0.5555555555555556,
              "#d8576b"
             ],
             [
              0.6666666666666666,
              "#ed7953"
             ],
             [
              0.7777777777777778,
              "#fb9f3a"
             ],
             [
              0.8888888888888888,
              "#fdca26"
             ],
             [
              1,
              "#f0f921"
             ]
            ],
            "type": "heatmap"
           }
          ],
          "heatmapgl": [
           {
            "colorbar": {
             "outlinewidth": 0,
             "ticks": ""
            },
            "colorscale": [
             [
              0,
              "#0d0887"
             ],
             [
              0.1111111111111111,
              "#46039f"
             ],
             [
              0.2222222222222222,
              "#7201a8"
             ],
             [
              0.3333333333333333,
              "#9c179e"
             ],
             [
              0.4444444444444444,
              "#bd3786"
             ],
             [
              0.5555555555555556,
              "#d8576b"
             ],
             [
              0.6666666666666666,
              "#ed7953"
             ],
             [
              0.7777777777777778,
              "#fb9f3a"
             ],
             [
              0.8888888888888888,
              "#fdca26"
             ],
             [
              1,
              "#f0f921"
             ]
            ],
            "type": "heatmapgl"
           }
          ],
          "histogram": [
           {
            "marker": {
             "pattern": {
              "fillmode": "overlay",
              "size": 10,
              "solidity": 0.2
             }
            },
            "type": "histogram"
           }
          ],
          "histogram2d": [
           {
            "colorbar": {
             "outlinewidth": 0,
             "ticks": ""
            },
            "colorscale": [
             [
              0,
              "#0d0887"
             ],
             [
              0.1111111111111111,
              "#46039f"
             ],
             [
              0.2222222222222222,
              "#7201a8"
             ],
             [
              0.3333333333333333,
              "#9c179e"
             ],
             [
              0.4444444444444444,
              "#bd3786"
             ],
             [
              0.5555555555555556,
              "#d8576b"
             ],
             [
              0.6666666666666666,
              "#ed7953"
             ],
             [
              0.7777777777777778,
              "#fb9f3a"
             ],
             [
              0.8888888888888888,
              "#fdca26"
             ],
             [
              1,
              "#f0f921"
             ]
            ],
            "type": "histogram2d"
           }
          ],
          "histogram2dcontour": [
           {
            "colorbar": {
             "outlinewidth": 0,
             "ticks": ""
            },
            "colorscale": [
             [
              0,
              "#0d0887"
             ],
             [
              0.1111111111111111,
              "#46039f"
             ],
             [
              0.2222222222222222,
              "#7201a8"
             ],
             [
              0.3333333333333333,
              "#9c179e"
             ],
             [
              0.4444444444444444,
              "#bd3786"
             ],
             [
              0.5555555555555556,
              "#d8576b"
             ],
             [
              0.6666666666666666,
              "#ed7953"
             ],
             [
              0.7777777777777778,
              "#fb9f3a"
             ],
             [
              0.8888888888888888,
              "#fdca26"
             ],
             [
              1,
              "#f0f921"
             ]
            ],
            "type": "histogram2dcontour"
           }
          ],
          "mesh3d": [
           {
            "colorbar": {
             "outlinewidth": 0,
             "ticks": ""
            },
            "type": "mesh3d"
           }
          ],
          "parcoords": [
           {
            "line": {
             "colorbar": {
              "outlinewidth": 0,
              "ticks": ""
             }
            },
            "type": "parcoords"
           }
          ],
          "pie": [
           {
            "automargin": true,
            "type": "pie"
           }
          ],
          "scatter": [
           {
            "fillpattern": {
             "fillmode": "overlay",
             "size": 10,
             "solidity": 0.2
            },
            "type": "scatter"
           }
          ],
          "scatter3d": [
           {
            "line": {
             "colorbar": {
              "outlinewidth": 0,
              "ticks": ""
             }
            },
            "marker": {
             "colorbar": {
              "outlinewidth": 0,
              "ticks": ""
             }
            },
            "type": "scatter3d"
           }
          ],
          "scattercarpet": [
           {
            "marker": {
             "colorbar": {
              "outlinewidth": 0,
              "ticks": ""
             }
            },
            "type": "scattercarpet"
           }
          ],
          "scattergeo": [
           {
            "marker": {
             "colorbar": {
              "outlinewidth": 0,
              "ticks": ""
             }
            },
            "type": "scattergeo"
           }
          ],
          "scattergl": [
           {
            "marker": {
             "colorbar": {
              "outlinewidth": 0,
              "ticks": ""
             }
            },
            "type": "scattergl"
           }
          ],
          "scattermapbox": [
           {
            "marker": {
             "colorbar": {
              "outlinewidth": 0,
              "ticks": ""
             }
            },
            "type": "scattermapbox"
           }
          ],
          "scatterpolar": [
           {
            "marker": {
             "colorbar": {
              "outlinewidth": 0,
              "ticks": ""
             }
            },
            "type": "scatterpolar"
           }
          ],
          "scatterpolargl": [
           {
            "marker": {
             "colorbar": {
              "outlinewidth": 0,
              "ticks": ""
             }
            },
            "type": "scatterpolargl"
           }
          ],
          "scatterternary": [
           {
            "marker": {
             "colorbar": {
              "outlinewidth": 0,
              "ticks": ""
             }
            },
            "type": "scatterternary"
           }
          ],
          "surface": [
           {
            "colorbar": {
             "outlinewidth": 0,
             "ticks": ""
            },
            "colorscale": [
             [
              0,
              "#0d0887"
             ],
             [
              0.1111111111111111,
              "#46039f"
             ],
             [
              0.2222222222222222,
              "#7201a8"
             ],
             [
              0.3333333333333333,
              "#9c179e"
             ],
             [
              0.4444444444444444,
              "#bd3786"
             ],
             [
              0.5555555555555556,
              "#d8576b"
             ],
             [
              0.6666666666666666,
              "#ed7953"
             ],
             [
              0.7777777777777778,
              "#fb9f3a"
             ],
             [
              0.8888888888888888,
              "#fdca26"
             ],
             [
              1,
              "#f0f921"
             ]
            ],
            "type": "surface"
           }
          ],
          "table": [
           {
            "cells": {
             "fill": {
              "color": "#EBF0F8"
             },
             "line": {
              "color": "white"
             }
            },
            "header": {
             "fill": {
              "color": "#C8D4E3"
             },
             "line": {
              "color": "white"
             }
            },
            "type": "table"
           }
          ]
         },
         "layout": {
          "annotationdefaults": {
           "arrowcolor": "#2a3f5f",
           "arrowhead": 0,
           "arrowwidth": 1
          },
          "autotypenumbers": "strict",
          "coloraxis": {
           "colorbar": {
            "outlinewidth": 0,
            "ticks": ""
           }
          },
          "colorscale": {
           "diverging": [
            [
             0,
             "#8e0152"
            ],
            [
             0.1,
             "#c51b7d"
            ],
            [
             0.2,
             "#de77ae"
            ],
            [
             0.3,
             "#f1b6da"
            ],
            [
             0.4,
             "#fde0ef"
            ],
            [
             0.5,
             "#f7f7f7"
            ],
            [
             0.6,
             "#e6f5d0"
            ],
            [
             0.7,
             "#b8e186"
            ],
            [
             0.8,
             "#7fbc41"
            ],
            [
             0.9,
             "#4d9221"
            ],
            [
             1,
             "#276419"
            ]
           ],
           "sequential": [
            [
             0,
             "#0d0887"
            ],
            [
             0.1111111111111111,
             "#46039f"
            ],
            [
             0.2222222222222222,
             "#7201a8"
            ],
            [
             0.3333333333333333,
             "#9c179e"
            ],
            [
             0.4444444444444444,
             "#bd3786"
            ],
            [
             0.5555555555555556,
             "#d8576b"
            ],
            [
             0.6666666666666666,
             "#ed7953"
            ],
            [
             0.7777777777777778,
             "#fb9f3a"
            ],
            [
             0.8888888888888888,
             "#fdca26"
            ],
            [
             1,
             "#f0f921"
            ]
           ],
           "sequentialminus": [
            [
             0,
             "#0d0887"
            ],
            [
             0.1111111111111111,
             "#46039f"
            ],
            [
             0.2222222222222222,
             "#7201a8"
            ],
            [
             0.3333333333333333,
             "#9c179e"
            ],
            [
             0.4444444444444444,
             "#bd3786"
            ],
            [
             0.5555555555555556,
             "#d8576b"
            ],
            [
             0.6666666666666666,
             "#ed7953"
            ],
            [
             0.7777777777777778,
             "#fb9f3a"
            ],
            [
             0.8888888888888888,
             "#fdca26"
            ],
            [
             1,
             "#f0f921"
            ]
           ]
          },
          "colorway": [
           "#636efa",
           "#EF553B",
           "#00cc96",
           "#ab63fa",
           "#FFA15A",
           "#19d3f3",
           "#FF6692",
           "#B6E880",
           "#FF97FF",
           "#FECB52"
          ],
          "font": {
           "color": "#2a3f5f"
          },
          "geo": {
           "bgcolor": "white",
           "lakecolor": "white",
           "landcolor": "#E5ECF6",
           "showlakes": true,
           "showland": true,
           "subunitcolor": "white"
          },
          "hoverlabel": {
           "align": "left"
          },
          "hovermode": "closest",
          "mapbox": {
           "style": "light"
          },
          "paper_bgcolor": "white",
          "plot_bgcolor": "#E5ECF6",
          "polar": {
           "angularaxis": {
            "gridcolor": "white",
            "linecolor": "white",
            "ticks": ""
           },
           "bgcolor": "#E5ECF6",
           "radialaxis": {
            "gridcolor": "white",
            "linecolor": "white",
            "ticks": ""
           }
          },
          "scene": {
           "xaxis": {
            "backgroundcolor": "#E5ECF6",
            "gridcolor": "white",
            "gridwidth": 2,
            "linecolor": "white",
            "showbackground": true,
            "ticks": "",
            "zerolinecolor": "white"
           },
           "yaxis": {
            "backgroundcolor": "#E5ECF6",
            "gridcolor": "white",
            "gridwidth": 2,
            "linecolor": "white",
            "showbackground": true,
            "ticks": "",
            "zerolinecolor": "white"
           },
           "zaxis": {
            "backgroundcolor": "#E5ECF6",
            "gridcolor": "white",
            "gridwidth": 2,
            "linecolor": "white",
            "showbackground": true,
            "ticks": "",
            "zerolinecolor": "white"
           }
          },
          "shapedefaults": {
           "line": {
            "color": "#2a3f5f"
           }
          },
          "ternary": {
           "aaxis": {
            "gridcolor": "white",
            "linecolor": "white",
            "ticks": ""
           },
           "baxis": {
            "gridcolor": "white",
            "linecolor": "white",
            "ticks": ""
           },
           "bgcolor": "#E5ECF6",
           "caxis": {
            "gridcolor": "white",
            "linecolor": "white",
            "ticks": ""
           }
          },
          "title": {
           "x": 0.05
          },
          "xaxis": {
           "automargin": true,
           "gridcolor": "white",
           "linecolor": "white",
           "ticks": "",
           "title": {
            "standoff": 15
           },
           "zerolinecolor": "white",
           "zerolinewidth": 2
          },
          "yaxis": {
           "automargin": true,
           "gridcolor": "white",
           "linecolor": "white",
           "ticks": "",
           "title": {
            "standoff": 15
           },
           "zerolinecolor": "white",
           "zerolinewidth": 2
          }
         }
        },
        "xaxis": {
         "anchor": "y",
         "domain": [
          0,
          1
         ],
         "title": {
          "text": "Gain%"
         }
        },
        "yaxis": {
         "anchor": "x",
         "domain": [
          0,
          1
         ],
         "title": {
          "text": "count"
         }
        }
       }
      }
     },
     "metadata": {},
     "output_type": "display_data"
    },
    {
     "name": "stdout",
     "output_type": "stream",
     "text": [
      "(40, 60)\n",
      "Total trades: 1974\n",
      "Average percent gain per trade: 0.0%\n",
      "Total percent gain: 32.66%\n"
     ]
    },
    {
     "name": "stderr",
     "output_type": "stream",
     "text": [
      "/var/folders/hb/0dd7xx3d4mzgbx_w9m1fmb2h0000gn/T/ipykernel_9734/1167655356.py:12: FutureWarning:\n",
      "\n",
      "The behavior of DataFrame concatenation with empty or all-NA entries is deprecated. In a future version, this will no longer exclude empty or all-NA columns when determining the result dtypes. To retain the old behavior, exclude the relevant entries before the concat operation.\n",
      "\n"
     ]
    },
    {
     "data": {
      "application/vnd.plotly.v1+json": {
       "config": {
        "plotlyServerURL": "https://plot.ly"
       },
       "data": [
        {
         "alignmentgroup": "True",
         "bingroup": "x",
         "hovertemplate": "Gain%=%{x}<br>count=%{y}<extra></extra>",
         "legendgroup": "",
         "marker": {
          "color": "#636efa",
          "pattern": {
           "shape": ""
          }
         },
         "name": "",
         "nbinsx": 100,
         "offsetgroup": "",
         "orientation": "v",
         "showlegend": false,
         "type": "histogram",
         "x": [
          0.14,
          0.15,
          0.39,
          -0.78,
          -0.09,
          -0.08,
          -0.2,
          0.14,
          0.01,
          0.16,
          0.21,
          -0.13,
          -0.12,
          0.18,
          -0.05,
          0.01,
          0.14,
          0.12,
          0.02,
          0.02,
          -0.22,
          -0.03,
          0.12,
          -0.08,
          -0.08,
          -0.01,
          0.43,
          0.23,
          -0.08,
          0.03,
          -0.02,
          -0.07,
          0.34,
          0.04,
          0.15,
          -0.03,
          0.14,
          0.05,
          -0.08,
          0.06,
          -0.63,
          0.01,
          -0.16,
          0.1,
          -0.1,
          0.06,
          -0.03,
          0.01,
          0.26,
          -0.36,
          -0.12,
          0.12,
          -0.17,
          0.06,
          0.05,
          -0.03,
          -0.31,
          0.38,
          0.25,
          0.39,
          -0.1,
          -0.11,
          0.03,
          0.16,
          0.04,
          0.14,
          0.03,
          0.24,
          -0.05,
          0.09,
          -0.18,
          -0.07,
          -0.24,
          0.03,
          -0.05,
          0.27,
          0.05,
          -0.13,
          -0.12,
          0.44,
          0.12,
          0.06,
          -1.41,
          0.27,
          -0.15,
          -0.47,
          0.03,
          -0.03,
          0.09,
          0.32,
          -0.47,
          0.21,
          0.02,
          -0.1,
          0.06,
          0.13,
          0.12,
          -0.06,
          -0.08,
          -0.08,
          -0.4,
          -0.72,
          0.23,
          0.05,
          0.01,
          0.08,
          0.07,
          0.17,
          -0.04,
          0.06,
          -0.26,
          0.14,
          -0.37,
          0.04,
          0.02,
          -0.06,
          0.17,
          0.04,
          -0.16,
          -0.36,
          -0.06,
          -0.37,
          0.27,
          0.04,
          0.46,
          0.1,
          -0.16,
          0.06,
          0.12,
          0.03,
          0.54,
          -0.3,
          0.11,
          0.14,
          0.21,
          0.06,
          -0.01,
          -0.03,
          0.11,
          -0.01,
          -0.01,
          0.19,
          0.07,
          -0.17,
          0.3,
          -0.06,
          0.07,
          0.22,
          0.32,
          -0.94,
          -0.43,
          0.75,
          -0.22,
          -0.31,
          0.02,
          -0.31,
          -0.08,
          0.17,
          0.17,
          0.09,
          0.04,
          0.05,
          -0.01,
          0.01,
          0.06,
          -0.05,
          0.26,
          0.05,
          -0.01,
          0.1,
          0.09,
          0,
          0,
          -0.11,
          -0.99,
          -0.09,
          0.07,
          0.15,
          -0.09,
          -0.06,
          0.09,
          -0.01,
          -0.13,
          0.01,
          -0.07,
          -0.2,
          0.32,
          0.24,
          -0.65,
          -0.35,
          -0.16,
          0.34,
          0.15,
          -0.15,
          0.12,
          -0.03,
          -0.02,
          1.03,
          -1.41,
          0,
          0.22,
          -0.16,
          0.49,
          0.11,
          -0.06,
          0.08,
          0.02,
          -0.05,
          0.1,
          0.15,
          0.03,
          0.09,
          0.19,
          0.45,
          -0.01,
          -0.03,
          0.03,
          0.05,
          0.14,
          0.11,
          0.41,
          0.08,
          0.2,
          -0.16,
          -0.5,
          -0.27,
          0.35,
          0.08,
          0.18,
          0.07,
          -0.01,
          -0.27,
          0.01,
          0.04,
          0.07,
          -0.02,
          -0.54,
          0.17,
          0.15,
          0.07,
          0.1,
          0.02,
          -0.05,
          0.11,
          -0.05,
          0.34,
          0.14,
          0.21,
          -0.02,
          0.04,
          0.05,
          -0.01,
          0.02,
          -0.07,
          0.17,
          -0.28,
          -0.12,
          -0.13,
          0.3,
          0.36,
          0.15,
          -0.12,
          0.06,
          0.15,
          -0.01,
          0.05,
          0.04,
          -0.27,
          -0.01,
          0.07,
          0.01,
          0.11,
          -0.08,
          0.05,
          0,
          -0.06,
          -0.07,
          0.08,
          0.08,
          -0.3,
          0.26,
          -0.05,
          -0.15,
          0.14,
          0,
          0.1,
          0.03,
          -0.01,
          0.25,
          0.12,
          -0.21,
          0.06,
          0.03,
          0.07,
          0.14,
          0.2,
          0.05,
          -0.02,
          0.02,
          0.04,
          0.15,
          -0.01,
          -0.01,
          -0.02,
          0.2,
          0.03,
          0,
          0.03,
          0,
          0.1,
          0.04,
          -0.26,
          -0.17,
          0.17,
          0.1,
          0.06,
          0.03,
          -0.01,
          -0.02,
          -0.02,
          0,
          0.01,
          -0.04,
          -0.02,
          0.05,
          -0.05,
          -0.01,
          -0.41,
          -0.15,
          -0.11,
          -0.07,
          -0.65,
          0.17,
          -0.05,
          0.04,
          -0.04,
          0.02,
          -0.17,
          0.01,
          -0.44,
          0.09,
          0.71,
          0.05,
          0.08,
          -0.3,
          -0.11,
          0.14,
          0.05,
          -0.12,
          0.07,
          0.05,
          0.11,
          0.17,
          0.03,
          0.09,
          -0.15,
          -0.02,
          0.03,
          0.06,
          0.01,
          -0.01,
          0,
          0.06,
          -0.08,
          0.02,
          0.05,
          0.01,
          0.16,
          -0.82,
          -0.13,
          0.02,
          -0.18,
          -0.27,
          -0.26,
          0.29,
          0.05,
          0.09,
          0.17,
          -0.35,
          0.13,
          0.13,
          -0.31,
          0.05,
          -0.02,
          0.57,
          0.15,
          0.03,
          0.03,
          0.01,
          0.24,
          0.05,
          0.19,
          0.18,
          0.13,
          0.08,
          0.08,
          0.04,
          0.15,
          0.06,
          0.19,
          -0.01,
          -0.14,
          -0.05,
          -0.01,
          0.05,
          0.11,
          0.03,
          -0.03,
          0.23,
          0,
          0.01,
          0.02,
          0.03,
          -0.1,
          -0.72,
          0.18,
          -0.25,
          -0.1,
          0.09,
          0.23,
          -0.03,
          0.39,
          -0.05,
          0.05,
          0.08,
          0.01,
          -0.16,
          0.02,
          0.22,
          -1.23,
          -0.14,
          0.18,
          -0.68,
          0.04,
          -0.35,
          -0.07,
          -0.22,
          0.06,
          -0.01,
          0.09,
          -0.15,
          -0.02,
          0.02,
          0.08,
          0.01,
          0.12,
          -0.02,
          -0.16,
          0.07,
          0.01,
          0.06,
          0.04,
          -0.01,
          -0.22,
          0.06,
          0.39,
          -0.37,
          -0.02,
          0.13,
          0.22,
          0,
          -0.2,
          0.03,
          0.1,
          0.2,
          -0.1,
          -0.01,
          -0.03,
          0.11,
          -0.01,
          -0.17,
          0.1,
          -0.05,
          -0.12,
          -0.07,
          -0.16,
          -0.52,
          -0.12,
          0.01,
          -0.15,
          0.19,
          -0.17,
          0.09,
          0.08,
          0.08,
          0.04,
          -0.04,
          0.04,
          0.15,
          0.47,
          0.03,
          0.02,
          0.07,
          0.01,
          0.13,
          -0.2,
          -0.01,
          0.17,
          -0.76,
          -0.21,
          -0.03,
          0.17,
          0.28,
          0.07,
          0.04,
          0.3,
          0.04,
          -0.03,
          0.01,
          -0.02,
          0.02,
          0.04,
          -0.02,
          -0.08,
          0.07,
          -0.1,
          0.08,
          0.08,
          -0.36,
          -0.14,
          0.38,
          -0.16,
          -0.69,
          -0.36,
          0.06,
          -0.09,
          0.12,
          0.06,
          -0.1,
          -0.15,
          0.08,
          0.04,
          -0.14,
          -0.14,
          0.02,
          -0.11,
          -0.01,
          0.02,
          0,
          -0.04,
          0.04,
          0.31,
          -0.02,
          0.26,
          -0.13,
          -0.09,
          0.59,
          -0.05,
          -0.2,
          0.03,
          0.48,
          0.13,
          0.1,
          0.01,
          -0.06,
          -0.05,
          -0.02,
          -0.07,
          -0.02,
          -0.55,
          -0.11,
          0.07,
          0.21,
          -0.28,
          0.18,
          0.15,
          0.05,
          0.04,
          0.02,
          0.04,
          0.03,
          0.05,
          -0.04,
          -0.03,
          -0.01,
          0.02,
          0.17,
          0.14,
          0.01,
          0.71,
          -0.16,
          0.14,
          0.06,
          0.01,
          0.2,
          -0.09,
          -0.14,
          -0.02,
          -0.07,
          0.02,
          0.05,
          0.06,
          0.03,
          0.05,
          -0.13,
          -0.07,
          0.01,
          0.08,
          -0.07,
          0.06,
          -1.13,
          -0.09,
          -0.11,
          0,
          0.06,
          -0.02,
          -0.01,
          -0.07,
          0.21,
          0.1,
          0.08,
          0.09,
          0,
          0.09,
          0.09,
          -0.03,
          0.02,
          0.34,
          0.28,
          0.62,
          0.05,
          -0.01,
          -0.35,
          0.05,
          0.01,
          0.01,
          0.02,
          0.01,
          -0.08,
          0.2,
          0.09,
          0.03,
          -0.1,
          -0.01,
          -0.04,
          0.07,
          0.12,
          0.23,
          -0.03,
          -0.06,
          -0.4,
          0.19,
          0.06,
          0.01,
          0.01,
          0.11,
          0.11,
          0.02,
          0.03,
          -0.26,
          0.03,
          0,
          0.04,
          0.05,
          0.03,
          -0.26,
          -0.04,
          -0.01,
          0.02,
          0.08,
          -0.25,
          0.06,
          0.19,
          0.03,
          0.07,
          0.03,
          -0.06,
          0.05,
          0.07,
          0.01,
          -0.09,
          -0.01,
          -0.24,
          0.01,
          0.08,
          0.06,
          0.27,
          0.98,
          0.31,
          -0.22,
          0.15,
          -0.01,
          0.05,
          0.03,
          0.01,
          -0.32,
          0.34,
          0.14,
          0.12,
          -0.68,
          -0.09,
          -0.07,
          0.14,
          0.08,
          0.42,
          -0.01,
          0.06,
          0.08,
          0.04,
          0.02,
          -0.02,
          0.02,
          -0.02,
          0.15,
          0.02,
          0,
          0.52,
          0.25,
          -0.09,
          -0.09,
          -0.44,
          0.1,
          0.1,
          0.06,
          -0.07,
          0.04,
          -0.05,
          -0.01,
          0.01,
          -0.15,
          0.13,
          -0.36,
          0.02,
          -0.16,
          -0.3,
          0,
          0.5,
          0.11,
          -0.13,
          0,
          -0.22,
          -0.01,
          0.09,
          0.2,
          0.11,
          0.11,
          0.05,
          -0.03,
          0.01,
          0.05,
          0.02,
          0.04,
          -0.17,
          0.86,
          -0.73,
          -0.3,
          -0.09,
          0.13,
          0.13,
          0.07,
          0.06,
          0.1,
          0.08,
          0.05,
          0.1,
          -0.03,
          -0.01,
          0.03,
          0.08,
          0.34,
          0,
          0.06,
          0.29,
          -0.04,
          0.14,
          -0.17,
          -0.05,
          0.04,
          -0.15,
          0.02,
          0.1,
          0.17,
          0.03,
          0,
          -0.29,
          -0.18,
          -0.05,
          -0.11,
          -0.01,
          0.01,
          -0.02,
          0.13,
          -0.12,
          0.27,
          0.03,
          0.12,
          -0.01,
          -0.46,
          0.15,
          0.01,
          -0.36,
          -0.5,
          0.09,
          0.06,
          0.06,
          -0.01,
          0.01,
          0.16,
          -0.03,
          -0.15,
          0.22,
          0.04,
          0.02,
          -0.51,
          -0.17,
          0.04,
          0,
          0.07,
          -0.04,
          -0.14,
          -0.03,
          0.02,
          0.2,
          -0.13,
          0.2,
          -0.02,
          0.01,
          -0.15,
          -0.24,
          0.01,
          -0.01,
          -0.05,
          0.06,
          0.01,
          -0.2,
          -0.07,
          0.14,
          0.06,
          0.17,
          -0.16,
          0.08,
          0.02,
          0.02,
          0.09,
          0,
          0.01,
          0.14,
          0.23,
          -0.01,
          0.06,
          0.01,
          0.2,
          -0.02,
          0,
          0.18,
          0.03,
          0.1,
          0.06,
          0,
          -0.28,
          0,
          -0.02,
          -0.04,
          -0.05,
          0.01,
          0.11,
          -0.25,
          0,
          -0.41,
          -0.22,
          -0.05,
          0.12,
          -0.17,
          0.04,
          0.09,
          0.09,
          -0.02,
          -0.11,
          0.3,
          0.23,
          -0.13,
          0.05,
          0.01,
          0.03,
          -0.07,
          -0.81,
          -0.15,
          -0.57,
          0.15,
          -0.34,
          0.16,
          0.34,
          0.29,
          -0.17,
          -0.69,
          -0.03,
          0.94,
          0.22,
          0.05,
          -0.15,
          0.06,
          0.34,
          0.04,
          -0.35,
          -0.07,
          0.14,
          -0.12,
          -0.48,
          -0.02,
          -0.38,
          -0.05,
          0.14,
          0.03,
          -0.21,
          -0.1,
          0.13,
          0.63,
          0.15,
          0.23,
          0.01,
          0.14,
          0.09,
          0.55,
          -0.14,
          0,
          -0.05,
          0.02,
          0.12,
          0.11,
          0.06,
          -0.27,
          0.2,
          -0.23,
          0.12,
          0.04,
          -0.01,
          -0.04,
          -0.1,
          0.12,
          -0.17,
          0.25,
          0.18,
          0.26,
          0.07,
          0.04,
          -0.12,
          0.04,
          0,
          0.11,
          -0.31,
          0.15,
          -0.31,
          0.05,
          0.02,
          0.08,
          0.02,
          0.24,
          -0.02,
          0.24,
          -0.1,
          -0.01,
          -0.18,
          -0.04,
          0.09,
          0.45,
          0.28,
          0.52,
          -0.05,
          -0.07,
          -0.39,
          -0.68,
          0.43,
          0.19,
          0.12,
          0.09,
          0.04,
          0.04,
          0.09,
          0.19,
          0.18,
          0.09,
          -0.01,
          -0.31,
          -0.03,
          -0.05,
          0.07,
          0.13,
          0.18,
          -0.02,
          0.06,
          0.13,
          0.01,
          -0.02,
          -0.08,
          -0.27,
          -0.01,
          0.03,
          0.01,
          -0.12,
          0.06,
          0.05,
          0,
          0.08,
          0.03,
          0.03,
          0,
          -0.33,
          0.04,
          0.03,
          0.09,
          0.04,
          0,
          -0.03,
          0.14,
          0.03,
          0.03,
          0.05,
          0,
          -0.04,
          -0.1,
          -0.03,
          -0.35,
          0.02,
          0.08,
          0.04,
          -0.05,
          -0.06,
          0,
          0.07,
          0.08,
          -0.12,
          0.03,
          0.03,
          -0.05,
          0.03,
          0.14,
          0.08,
          -0.06,
          0.13,
          0,
          -0.05,
          -0.04,
          0.02,
          -0.01,
          -0.09,
          0.05,
          0.1,
          0.07,
          0.05,
          0.37,
          0,
          0.03,
          0.02,
          -0.03,
          -0.03,
          0.03,
          0.04,
          0.03,
          0.04,
          0.04,
          0,
          -0.12,
          -0.43,
          0.08,
          -0.01,
          0.02,
          -0.09,
          -0.16,
          0.04,
          -0.08,
          0.02,
          -0.01,
          0.09,
          0.02,
          0.2,
          0.18,
          0.07,
          -0.02,
          0.01,
          -0.03,
          0.03,
          0.02,
          -0.18,
          0.05,
          -0.05,
          0.15,
          -0.03,
          0.04,
          -0.03,
          0.01,
          -0.07,
          -0.02,
          0.01,
          0.03,
          -0.02,
          -0.52,
          -0.01,
          -0.04,
          -0.01,
          0.1,
          0.03,
          0.03,
          -0.01,
          -0.04,
          0.02,
          0.03,
          -0.04,
          0.03,
          0.03,
          -0.02,
          -0.14,
          0.14,
          0,
          -0.02,
          0,
          -0.39,
          -0.13,
          -0.04,
          0.09,
          0.04,
          0.05,
          0.12,
          0,
          0.03,
          0.17,
          -0.13,
          -0.01,
          0.01,
          -0.06,
          -0.1,
          0.11,
          0.05,
          -0.09,
          0.01,
          -0.07,
          0.01,
          0.02,
          0.02,
          0,
          -0.03,
          -0.34,
          0,
          -0.04,
          -0.04,
          -0.2,
          0.08,
          -0.07,
          -0.06,
          0.03,
          0.05,
          -0.04,
          0.11,
          0,
          0.22,
          0.09,
          0.07,
          -0.02,
          -0.02,
          0,
          0.02,
          0.03,
          0,
          -0.06,
          -0.05,
          -0.01,
          -0.08,
          -0.01,
          -0.18,
          0,
          0,
          0.02,
          -0.25,
          -0.02,
          0.03,
          -1.29,
          0.03,
          0.06,
          -0.1,
          0.06,
          -0.01,
          -0.32,
          0.03,
          0.05,
          -0.12,
          -0.07,
          -0.07,
          -0.3,
          -0.14,
          0.27,
          -0.35,
          0.05,
          0.06,
          0.13,
          0.03,
          -0.02,
          0,
          0.09,
          0.31,
          -0.12,
          -0.04,
          0.11,
          0.09,
          -0.03,
          -0.02,
          0.14,
          -0.04,
          0.04,
          0.02,
          -0.03,
          0.02,
          -0.12,
          0.12,
          0.11,
          0.01,
          0,
          -0.01,
          0.02,
          -0.05,
          0.3,
          0,
          0.11,
          -0.16,
          -0.1,
          0,
          -0.17,
          0.13,
          0.11,
          0.02,
          -0.07,
          0.04,
          0.07,
          0.02,
          0.01,
          -0.32,
          0,
          0.05,
          -0.25,
          -0.16,
          0.14,
          0.11,
          -0.05,
          0.03,
          0.13,
          0.01,
          0.04,
          0.05,
          0,
          0.05,
          0.01,
          -0.05,
          0.07,
          -0.01,
          -0.07,
          0.08,
          0,
          -0.01,
          0.09,
          0.04,
          0.04,
          0.21,
          0.02,
          -0.03,
          -0.01,
          0.06,
          0.02,
          0.03,
          0.11,
          0.03,
          -0.17,
          -0.1,
          -0.02,
          0.07,
          0,
          -0.27,
          0.04,
          0.09,
          -0.01,
          -0.16,
          -0.07,
          -0.07,
          0.08,
          0.11,
          0.15,
          0.04,
          -0.01,
          0.12,
          0.05,
          -0.06,
          0.04,
          0.01,
          0.05,
          0,
          -0.35,
          -0.01,
          0.01,
          -0.12,
          0,
          0.03,
          0.15,
          -0.28,
          0,
          0.01,
          -0.01,
          0.03,
          -0.13,
          0.4,
          -0.09,
          0.02,
          0.15,
          0.05,
          -0.03,
          -0.01,
          0.16,
          -0.08,
          0.12,
          0.05,
          0.04,
          0.05,
          0.01,
          -0.01,
          0.28,
          0.03,
          0.01,
          -0.28,
          0.03,
          -0.04,
          -0.1,
          -0.13,
          0.22,
          0.01,
          0.05,
          -0.36,
          0.02,
          0.01,
          0.05,
          -0.16,
          0.02,
          0.05,
          0.29,
          0.04,
          0.08,
          0.03,
          0.03,
          0.09,
          0.03,
          -0.03,
          -0.07,
          0.43,
          0.11,
          -0.01,
          0.06,
          0.02,
          0.03,
          0.05,
          0,
          -0.21,
          0.04,
          0.04,
          -0.01,
          -0.16,
          0.04,
          0.09,
          -0.03,
          0.02,
          0.03,
          -0.12,
          -0.13,
          -0.02,
          -0.08,
          0.02,
          -0.38,
          0.05,
          -0.04,
          0.06,
          0.01,
          -0.01,
          0.03,
          0.02,
          0.08,
          0.16,
          0.06,
          0.16,
          0.03,
          -0.08,
          -0.02,
          0.03,
          -0.13,
          0.03,
          -0.05,
          0.11,
          0.15,
          -0.03,
          -0.04,
          0.05,
          -0.01,
          -0.07,
          -0.07,
          -0.01,
          0.03,
          0.02,
          0.06,
          0,
          -0.01,
          0.03,
          -0.08,
          0.16,
          0.01,
          0.03,
          0.04,
          0,
          -0.11,
          0.07,
          0.06,
          0.1,
          0.03,
          0.17,
          -0.12,
          -0.01,
          0.01,
          0.46,
          -0.16,
          0.59,
          0.06,
          -0.02,
          0.09,
          0.05,
          0.14,
          0.02,
          -0.12,
          0.03,
          -0.06,
          0.08,
          0.15,
          0.01,
          0,
          -0.2,
          -0.52,
          0.08,
          0.04,
          0.3,
          0.1,
          -0.02,
          -0.03,
          -0.03,
          -0.09,
          0,
          0.02,
          0.07,
          -0.07,
          0.06,
          -0.1,
          0.01,
          -0.2,
          0.09,
          -0.06,
          -0.08,
          0.04,
          -0.03,
          0.03,
          0.02,
          -0.07,
          0.08,
          0.02,
          -0.34,
          0.11,
          -0.13,
          0.02,
          -0.03,
          0.03,
          -0.01,
          0.03,
          0.03,
          0.04,
          0.03,
          0.21,
          0.05,
          0.05,
          -0.01,
          0.04,
          0.01,
          0,
          0.11,
          0.06,
          0.16,
          -0.03,
          0.06,
          -0.04,
          -0.01,
          0.08,
          0.09,
          0.02,
          0.06,
          0.08,
          -0.08,
          0.08,
          0.01,
          -0.01,
          -0.09,
          0.02,
          0,
          0.05,
          0.01,
          -0.02,
          0,
          0.01,
          -0.03,
          0.01,
          0,
          0.01,
          -0.06,
          -0.02,
          0.02,
          0,
          -0.31,
          0.02,
          0.06,
          0.04,
          0.01,
          -0.02,
          0.01,
          -0.08,
          0.02,
          0.41,
          -0.19,
          0.14,
          -0.07,
          0.05,
          -0.08,
          0.01,
          0.03,
          0,
          0,
          0.03,
          0,
          -0.03,
          -0.08,
          -0.06,
          0.03,
          0.04,
          0.01,
          0.19,
          0.04,
          0.09,
          0.09,
          0.04,
          -0.04,
          0.02,
          0.14,
          0.06,
          -0.07,
          0.03,
          0.04,
          0.03,
          0.05,
          -0.02,
          0.03,
          0.03,
          0.02,
          0.09,
          0,
          0.05,
          0.04,
          -0.15,
          -0.08,
          0.03,
          0.01,
          0.06,
          0.01,
          0.03,
          0.01,
          0.01,
          0,
          0.17,
          0.15,
          0,
          -0.02,
          0.06,
          0,
          0.05,
          0.04,
          -0.01,
          0.04,
          -0.01,
          0.01,
          -0.16,
          0.03,
          0.03,
          0,
          -0.1,
          0.07,
          0.05,
          0.01,
          0,
          0.06,
          -0.03,
          -0.22,
          -0.09,
          -0.06,
          0.06,
          0.01,
          -0.01,
          -0.02,
          0.09,
          -0.02,
          -0.04,
          -0.04,
          0.03,
          0.06,
          0.09,
          0.03,
          -0.03,
          -0.13,
          -0.05,
          0.14,
          0.03,
          0.03,
          0.02,
          0.01,
          0.1,
          -0.05,
          0.02,
          -0.1,
          0.16,
          0.02,
          -0.02,
          0.44,
          -0.35,
          -0.03,
          -0.18,
          -0.09,
          0.04,
          -1.16,
          0.06,
          0.23,
          -0.09,
          -0.02,
          -0.1,
          0.04,
          0.09,
          0,
          0.06,
          -0.01,
          -0.08,
          -0.01,
          -0.08,
          0.04,
          0.01,
          -0.04,
          0.02,
          0.08,
          0.01,
          0.02,
          0.01,
          0.03,
          0,
          0.01,
          -0.05,
          -0.03,
          -0.02,
          -0.05,
          0.16,
          0.05,
          0.11,
          0.06,
          0.02,
          -0.15,
          0.02,
          -0.03,
          0.12,
          0.12,
          0.01,
          0.07,
          -0.12,
          0.06,
          0,
          -0.08,
          0.13,
          0.36,
          0.03,
          0.01,
          0.09,
          0.02,
          0.09,
          -0.05,
          -0.03,
          0.09,
          0.03,
          -0.01,
          0.01,
          -0.02,
          -0.18,
          -0.01,
          0.05,
          0.14,
          0.03,
          0.01,
          0.15,
          -0.02,
          -0.04,
          -0.34,
          0.09,
          0.12,
          0.22,
          -0.15,
          0.45,
          -0.49,
          -0.02,
          -0.02,
          0.05,
          -0.02,
          0.14,
          0.01,
          -0.06,
          -0.03,
          -0.03,
          0.01,
          -0.04,
          -0.15,
          0.1,
          0.12,
          0.01,
          0.01,
          -0.07,
          -0.05,
          0.01,
          0.03,
          0.05,
          -0.3,
          0.09,
          0.05,
          0.01,
          0.04,
          -0.02,
          0.01,
          0.09,
          -0.3,
          0.07,
          0.08,
          -0.36,
          -0.15,
          0.17,
          0.19,
          -0.42,
          -0.03,
          -0.06,
          -0.08,
          0.06,
          -0.43,
          -0.33,
          0.11,
          0.04,
          -0.07,
          0.2,
          0.04,
          -0.09,
          -0.05,
          0.1,
          0.03,
          -0.03,
          0.05,
          0.06,
          0.22,
          0.09,
          0.13,
          0.05,
          -0.11,
          0.05,
          -0.05,
          -0.18,
          0.07,
          0.03,
          0.08,
          0.13,
          0.17,
          0.04,
          0.04,
          0.04,
          0.2,
          0.01,
          -0.09,
          0.06,
          0.07,
          0.09,
          -0.51,
          0.08,
          -0.16,
          0.08,
          -0.1,
          0.1,
          0.54,
          -0.34,
          0.44,
          -0.07,
          -0.09,
          0.19,
          0.06,
          -0.05,
          0.08,
          -0.1,
          0.01,
          0.34,
          -0.03,
          -0.36,
          0.03,
          0.3,
          0.02,
          0,
          0.08,
          -0.08,
          0.02,
          0,
          0.06,
          0.03,
          0.03,
          0,
          0.15,
          0.17,
          0.02,
          -0.17,
          0.06,
          -0.05,
          0.03,
          -0.13,
          0.09,
          -0.06,
          -0.4,
          -0.03,
          0.01,
          0.02,
          0.01,
          0.05,
          0.03,
          0.02,
          0.14,
          0.11,
          -0.12,
          0.03,
          -0.13,
          0.1,
          0.02,
          0.03,
          -0.01,
          -0.04,
          -0.19,
          -0.3,
          -0.02,
          0.11,
          0.16,
          0.05,
          0.04,
          0.1,
          0.1,
          0.02,
          0.08,
          0.11,
          0,
          0.14,
          0.03,
          0,
          -0.06,
          0,
          0.01,
          -0.02,
          -0.1,
          -0.1,
          0.07,
          0.02,
          0.03,
          0.06,
          -0.01,
          -0.01,
          0,
          0.01,
          0.06,
          -0.15,
          -0.02,
          0.03,
          0.02,
          -0.53,
          -0.2,
          0.04,
          -0.06,
          0.09,
          0.06,
          0.02,
          0.05,
          -0.36,
          -0.15,
          0.05,
          0.06,
          0.02,
          -0.02,
          -0.01,
          -0.01,
          -0.31,
          0.03,
          0.06,
          -0.25,
          -0.11,
          0.06,
          0.04,
          -0.04,
          0.12,
          0.11,
          0.07,
          0.05,
          -0.05,
          -0.02,
          -0.14,
          -0.02,
          -0.35,
          0.02,
          0.06,
          -0.02,
          0.12,
          0.15,
          -0.02,
          -0.09,
          0.04,
          0.04,
          0.04,
          0.03,
          -0.32,
          0.03,
          -0.06,
          -0.02,
          -0.01,
          0.02,
          0.21,
          -0.29,
          -0.24,
          -0.01,
          0.1,
          0.11,
          -0.12,
          -0.48,
          -0.01,
          0.46,
          0.28,
          0.02,
          0,
          0.32,
          0.07,
          0.07,
          0.11,
          -0.04,
          0,
          -0.13,
          0.1,
          -0.24,
          -0.23,
          0.01,
          0.06,
          -0.04,
          -0.06,
          0.09,
          0.02,
          0.08,
          -0.1,
          -0.01,
          -0.17,
          -0.05,
          -0.19,
          0.65,
          0.11,
          0.04,
          0.22,
          0.09,
          0.07,
          0.02,
          -0.05,
          0.04,
          -0.09,
          0.03,
          -0.06,
          0.11,
          0.05,
          0.13,
          -0.5,
          -0.13,
          0.13,
          0.21,
          0.01,
          0.06
         ],
         "xaxis": "x",
         "yaxis": "y"
        }
       ],
       "layout": {
        "barmode": "relative",
        "legend": {
         "tracegroupgap": 0
        },
        "margin": {
         "t": 60
        },
        "template": {
         "data": {
          "bar": [
           {
            "error_x": {
             "color": "#2a3f5f"
            },
            "error_y": {
             "color": "#2a3f5f"
            },
            "marker": {
             "line": {
              "color": "#E5ECF6",
              "width": 0.5
             },
             "pattern": {
              "fillmode": "overlay",
              "size": 10,
              "solidity": 0.2
             }
            },
            "type": "bar"
           }
          ],
          "barpolar": [
           {
            "marker": {
             "line": {
              "color": "#E5ECF6",
              "width": 0.5
             },
             "pattern": {
              "fillmode": "overlay",
              "size": 10,
              "solidity": 0.2
             }
            },
            "type": "barpolar"
           }
          ],
          "carpet": [
           {
            "aaxis": {
             "endlinecolor": "#2a3f5f",
             "gridcolor": "white",
             "linecolor": "white",
             "minorgridcolor": "white",
             "startlinecolor": "#2a3f5f"
            },
            "baxis": {
             "endlinecolor": "#2a3f5f",
             "gridcolor": "white",
             "linecolor": "white",
             "minorgridcolor": "white",
             "startlinecolor": "#2a3f5f"
            },
            "type": "carpet"
           }
          ],
          "choropleth": [
           {
            "colorbar": {
             "outlinewidth": 0,
             "ticks": ""
            },
            "type": "choropleth"
           }
          ],
          "contour": [
           {
            "colorbar": {
             "outlinewidth": 0,
             "ticks": ""
            },
            "colorscale": [
             [
              0,
              "#0d0887"
             ],
             [
              0.1111111111111111,
              "#46039f"
             ],
             [
              0.2222222222222222,
              "#7201a8"
             ],
             [
              0.3333333333333333,
              "#9c179e"
             ],
             [
              0.4444444444444444,
              "#bd3786"
             ],
             [
              0.5555555555555556,
              "#d8576b"
             ],
             [
              0.6666666666666666,
              "#ed7953"
             ],
             [
              0.7777777777777778,
              "#fb9f3a"
             ],
             [
              0.8888888888888888,
              "#fdca26"
             ],
             [
              1,
              "#f0f921"
             ]
            ],
            "type": "contour"
           }
          ],
          "contourcarpet": [
           {
            "colorbar": {
             "outlinewidth": 0,
             "ticks": ""
            },
            "type": "contourcarpet"
           }
          ],
          "heatmap": [
           {
            "colorbar": {
             "outlinewidth": 0,
             "ticks": ""
            },
            "colorscale": [
             [
              0,
              "#0d0887"
             ],
             [
              0.1111111111111111,
              "#46039f"
             ],
             [
              0.2222222222222222,
              "#7201a8"
             ],
             [
              0.3333333333333333,
              "#9c179e"
             ],
             [
              0.4444444444444444,
              "#bd3786"
             ],
             [
              0.5555555555555556,
              "#d8576b"
             ],
             [
              0.6666666666666666,
              "#ed7953"
             ],
             [
              0.7777777777777778,
              "#fb9f3a"
             ],
             [
              0.8888888888888888,
              "#fdca26"
             ],
             [
              1,
              "#f0f921"
             ]
            ],
            "type": "heatmap"
           }
          ],
          "heatmapgl": [
           {
            "colorbar": {
             "outlinewidth": 0,
             "ticks": ""
            },
            "colorscale": [
             [
              0,
              "#0d0887"
             ],
             [
              0.1111111111111111,
              "#46039f"
             ],
             [
              0.2222222222222222,
              "#7201a8"
             ],
             [
              0.3333333333333333,
              "#9c179e"
             ],
             [
              0.4444444444444444,
              "#bd3786"
             ],
             [
              0.5555555555555556,
              "#d8576b"
             ],
             [
              0.6666666666666666,
              "#ed7953"
             ],
             [
              0.7777777777777778,
              "#fb9f3a"
             ],
             [
              0.8888888888888888,
              "#fdca26"
             ],
             [
              1,
              "#f0f921"
             ]
            ],
            "type": "heatmapgl"
           }
          ],
          "histogram": [
           {
            "marker": {
             "pattern": {
              "fillmode": "overlay",
              "size": 10,
              "solidity": 0.2
             }
            },
            "type": "histogram"
           }
          ],
          "histogram2d": [
           {
            "colorbar": {
             "outlinewidth": 0,
             "ticks": ""
            },
            "colorscale": [
             [
              0,
              "#0d0887"
             ],
             [
              0.1111111111111111,
              "#46039f"
             ],
             [
              0.2222222222222222,
              "#7201a8"
             ],
             [
              0.3333333333333333,
              "#9c179e"
             ],
             [
              0.4444444444444444,
              "#bd3786"
             ],
             [
              0.5555555555555556,
              "#d8576b"
             ],
             [
              0.6666666666666666,
              "#ed7953"
             ],
             [
              0.7777777777777778,
              "#fb9f3a"
             ],
             [
              0.8888888888888888,
              "#fdca26"
             ],
             [
              1,
              "#f0f921"
             ]
            ],
            "type": "histogram2d"
           }
          ],
          "histogram2dcontour": [
           {
            "colorbar": {
             "outlinewidth": 0,
             "ticks": ""
            },
            "colorscale": [
             [
              0,
              "#0d0887"
             ],
             [
              0.1111111111111111,
              "#46039f"
             ],
             [
              0.2222222222222222,
              "#7201a8"
             ],
             [
              0.3333333333333333,
              "#9c179e"
             ],
             [
              0.4444444444444444,
              "#bd3786"
             ],
             [
              0.5555555555555556,
              "#d8576b"
             ],
             [
              0.6666666666666666,
              "#ed7953"
             ],
             [
              0.7777777777777778,
              "#fb9f3a"
             ],
             [
              0.8888888888888888,
              "#fdca26"
             ],
             [
              1,
              "#f0f921"
             ]
            ],
            "type": "histogram2dcontour"
           }
          ],
          "mesh3d": [
           {
            "colorbar": {
             "outlinewidth": 0,
             "ticks": ""
            },
            "type": "mesh3d"
           }
          ],
          "parcoords": [
           {
            "line": {
             "colorbar": {
              "outlinewidth": 0,
              "ticks": ""
             }
            },
            "type": "parcoords"
           }
          ],
          "pie": [
           {
            "automargin": true,
            "type": "pie"
           }
          ],
          "scatter": [
           {
            "fillpattern": {
             "fillmode": "overlay",
             "size": 10,
             "solidity": 0.2
            },
            "type": "scatter"
           }
          ],
          "scatter3d": [
           {
            "line": {
             "colorbar": {
              "outlinewidth": 0,
              "ticks": ""
             }
            },
            "marker": {
             "colorbar": {
              "outlinewidth": 0,
              "ticks": ""
             }
            },
            "type": "scatter3d"
           }
          ],
          "scattercarpet": [
           {
            "marker": {
             "colorbar": {
              "outlinewidth": 0,
              "ticks": ""
             }
            },
            "type": "scattercarpet"
           }
          ],
          "scattergeo": [
           {
            "marker": {
             "colorbar": {
              "outlinewidth": 0,
              "ticks": ""
             }
            },
            "type": "scattergeo"
           }
          ],
          "scattergl": [
           {
            "marker": {
             "colorbar": {
              "outlinewidth": 0,
              "ticks": ""
             }
            },
            "type": "scattergl"
           }
          ],
          "scattermapbox": [
           {
            "marker": {
             "colorbar": {
              "outlinewidth": 0,
              "ticks": ""
             }
            },
            "type": "scattermapbox"
           }
          ],
          "scatterpolar": [
           {
            "marker": {
             "colorbar": {
              "outlinewidth": 0,
              "ticks": ""
             }
            },
            "type": "scatterpolar"
           }
          ],
          "scatterpolargl": [
           {
            "marker": {
             "colorbar": {
              "outlinewidth": 0,
              "ticks": ""
             }
            },
            "type": "scatterpolargl"
           }
          ],
          "scatterternary": [
           {
            "marker": {
             "colorbar": {
              "outlinewidth": 0,
              "ticks": ""
             }
            },
            "type": "scatterternary"
           }
          ],
          "surface": [
           {
            "colorbar": {
             "outlinewidth": 0,
             "ticks": ""
            },
            "colorscale": [
             [
              0,
              "#0d0887"
             ],
             [
              0.1111111111111111,
              "#46039f"
             ],
             [
              0.2222222222222222,
              "#7201a8"
             ],
             [
              0.3333333333333333,
              "#9c179e"
             ],
             [
              0.4444444444444444,
              "#bd3786"
             ],
             [
              0.5555555555555556,
              "#d8576b"
             ],
             [
              0.6666666666666666,
              "#ed7953"
             ],
             [
              0.7777777777777778,
              "#fb9f3a"
             ],
             [
              0.8888888888888888,
              "#fdca26"
             ],
             [
              1,
              "#f0f921"
             ]
            ],
            "type": "surface"
           }
          ],
          "table": [
           {
            "cells": {
             "fill": {
              "color": "#EBF0F8"
             },
             "line": {
              "color": "white"
             }
            },
            "header": {
             "fill": {
              "color": "#C8D4E3"
             },
             "line": {
              "color": "white"
             }
            },
            "type": "table"
           }
          ]
         },
         "layout": {
          "annotationdefaults": {
           "arrowcolor": "#2a3f5f",
           "arrowhead": 0,
           "arrowwidth": 1
          },
          "autotypenumbers": "strict",
          "coloraxis": {
           "colorbar": {
            "outlinewidth": 0,
            "ticks": ""
           }
          },
          "colorscale": {
           "diverging": [
            [
             0,
             "#8e0152"
            ],
            [
             0.1,
             "#c51b7d"
            ],
            [
             0.2,
             "#de77ae"
            ],
            [
             0.3,
             "#f1b6da"
            ],
            [
             0.4,
             "#fde0ef"
            ],
            [
             0.5,
             "#f7f7f7"
            ],
            [
             0.6,
             "#e6f5d0"
            ],
            [
             0.7,
             "#b8e186"
            ],
            [
             0.8,
             "#7fbc41"
            ],
            [
             0.9,
             "#4d9221"
            ],
            [
             1,
             "#276419"
            ]
           ],
           "sequential": [
            [
             0,
             "#0d0887"
            ],
            [
             0.1111111111111111,
             "#46039f"
            ],
            [
             0.2222222222222222,
             "#7201a8"
            ],
            [
             0.3333333333333333,
             "#9c179e"
            ],
            [
             0.4444444444444444,
             "#bd3786"
            ],
            [
             0.5555555555555556,
             "#d8576b"
            ],
            [
             0.6666666666666666,
             "#ed7953"
            ],
            [
             0.7777777777777778,
             "#fb9f3a"
            ],
            [
             0.8888888888888888,
             "#fdca26"
            ],
            [
             1,
             "#f0f921"
            ]
           ],
           "sequentialminus": [
            [
             0,
             "#0d0887"
            ],
            [
             0.1111111111111111,
             "#46039f"
            ],
            [
             0.2222222222222222,
             "#7201a8"
            ],
            [
             0.3333333333333333,
             "#9c179e"
            ],
            [
             0.4444444444444444,
             "#bd3786"
            ],
            [
             0.5555555555555556,
             "#d8576b"
            ],
            [
             0.6666666666666666,
             "#ed7953"
            ],
            [
             0.7777777777777778,
             "#fb9f3a"
            ],
            [
             0.8888888888888888,
             "#fdca26"
            ],
            [
             1,
             "#f0f921"
            ]
           ]
          },
          "colorway": [
           "#636efa",
           "#EF553B",
           "#00cc96",
           "#ab63fa",
           "#FFA15A",
           "#19d3f3",
           "#FF6692",
           "#B6E880",
           "#FF97FF",
           "#FECB52"
          ],
          "font": {
           "color": "#2a3f5f"
          },
          "geo": {
           "bgcolor": "white",
           "lakecolor": "white",
           "landcolor": "#E5ECF6",
           "showlakes": true,
           "showland": true,
           "subunitcolor": "white"
          },
          "hoverlabel": {
           "align": "left"
          },
          "hovermode": "closest",
          "mapbox": {
           "style": "light"
          },
          "paper_bgcolor": "white",
          "plot_bgcolor": "#E5ECF6",
          "polar": {
           "angularaxis": {
            "gridcolor": "white",
            "linecolor": "white",
            "ticks": ""
           },
           "bgcolor": "#E5ECF6",
           "radialaxis": {
            "gridcolor": "white",
            "linecolor": "white",
            "ticks": ""
           }
          },
          "scene": {
           "xaxis": {
            "backgroundcolor": "#E5ECF6",
            "gridcolor": "white",
            "gridwidth": 2,
            "linecolor": "white",
            "showbackground": true,
            "ticks": "",
            "zerolinecolor": "white"
           },
           "yaxis": {
            "backgroundcolor": "#E5ECF6",
            "gridcolor": "white",
            "gridwidth": 2,
            "linecolor": "white",
            "showbackground": true,
            "ticks": "",
            "zerolinecolor": "white"
           },
           "zaxis": {
            "backgroundcolor": "#E5ECF6",
            "gridcolor": "white",
            "gridwidth": 2,
            "linecolor": "white",
            "showbackground": true,
            "ticks": "",
            "zerolinecolor": "white"
           }
          },
          "shapedefaults": {
           "line": {
            "color": "#2a3f5f"
           }
          },
          "ternary": {
           "aaxis": {
            "gridcolor": "white",
            "linecolor": "white",
            "ticks": ""
           },
           "baxis": {
            "gridcolor": "white",
            "linecolor": "white",
            "ticks": ""
           },
           "bgcolor": "#E5ECF6",
           "caxis": {
            "gridcolor": "white",
            "linecolor": "white",
            "ticks": ""
           }
          },
          "title": {
           "x": 0.05
          },
          "xaxis": {
           "automargin": true,
           "gridcolor": "white",
           "linecolor": "white",
           "ticks": "",
           "title": {
            "standoff": 15
           },
           "zerolinecolor": "white",
           "zerolinewidth": 2
          },
          "yaxis": {
           "automargin": true,
           "gridcolor": "white",
           "linecolor": "white",
           "ticks": "",
           "title": {
            "standoff": 15
           },
           "zerolinecolor": "white",
           "zerolinewidth": 2
          }
         }
        },
        "xaxis": {
         "anchor": "y",
         "domain": [
          0,
          1
         ],
         "title": {
          "text": "Gain%"
         }
        },
        "yaxis": {
         "anchor": "x",
         "domain": [
          0,
          1
         ],
         "title": {
          "text": "count"
         }
        }
       }
      }
     },
     "metadata": {},
     "output_type": "display_data"
    },
    {
     "name": "stdout",
     "output_type": "stream",
     "text": [
      "(50, 70)\n",
      "Total trades: 1656\n",
      "Average percent gain per trade: 0.02%\n",
      "Total percent gain: 130.13%\n"
     ]
    },
    {
     "name": "stderr",
     "output_type": "stream",
     "text": [
      "/var/folders/hb/0dd7xx3d4mzgbx_w9m1fmb2h0000gn/T/ipykernel_9734/1167655356.py:12: FutureWarning:\n",
      "\n",
      "The behavior of DataFrame concatenation with empty or all-NA entries is deprecated. In a future version, this will no longer exclude empty or all-NA columns when determining the result dtypes. To retain the old behavior, exclude the relevant entries before the concat operation.\n",
      "\n"
     ]
    },
    {
     "data": {
      "application/vnd.plotly.v1+json": {
       "config": {
        "plotlyServerURL": "https://plot.ly"
       },
       "data": [
        {
         "alignmentgroup": "True",
         "bingroup": "x",
         "hovertemplate": "Gain%=%{x}<br>count=%{y}<extra></extra>",
         "legendgroup": "",
         "marker": {
          "color": "#636efa",
          "pattern": {
           "shape": ""
          }
         },
         "name": "",
         "nbinsx": 100,
         "offsetgroup": "",
         "orientation": "v",
         "showlegend": false,
         "type": "histogram",
         "x": [
          0.41,
          0.29,
          -0.65,
          -0.46,
          -0.03,
          0.33,
          0.13,
          0.07,
          -0.07,
          0.15,
          0.05,
          -0.06,
          -0.09,
          0,
          0.07,
          -0.52,
          0.25,
          0.19,
          0.33,
          -0.64,
          0.12,
          0.12,
          0.46,
          0.3,
          0.39,
          0.03,
          0.48,
          0.12,
          -0.02,
          0.13,
          -0.3,
          -0.07,
          -0.08,
          0.17,
          -0.58,
          -0.13,
          0.01,
          -0.43,
          0.23,
          0.17,
          0.04,
          0.16,
          0.11,
          0.11,
          0.35,
          0.2,
          -0.12,
          0.48,
          0.14,
          0.18,
          -0.08,
          -0.1,
          0.13,
          -0.11,
          0.13,
          -0.23,
          0.08,
          0.51,
          0.82,
          0.5,
          0.03,
          0.29,
          0.72,
          -0.13,
          0,
          -1.78,
          -0.64,
          -0.12,
          -0.3,
          0.09,
          0.34,
          -0.17,
          -0.13,
          -0.05,
          0.07,
          0.15,
          0.1,
          -0.72,
          -0.02,
          0.04,
          -0.14,
          -0.48,
          0.32,
          -0.29,
          0.09,
          -0.7,
          0.22,
          0.09,
          0.33,
          0.19,
          0.03,
          -0.34,
          -0.41,
          0.13,
          1.04,
          0,
          -0.13,
          0.35,
          0.29,
          0.27,
          0.02,
          0.11,
          -0.32,
          0.3,
          0.09,
          0.14,
          0.15,
          -0.05,
          0.15,
          0.06,
          -0.02,
          0.04,
          0.08,
          0,
          0.07,
          0.06,
          0.07,
          0.23,
          0.21,
          0.12,
          0.08,
          -0.71,
          -0.2,
          0.01,
          -0.39,
          0.07,
          0.25,
          0.03,
          -0.07,
          0.33,
          -0.06,
          0.25,
          -0.02,
          0.06,
          -0.01,
          0.19,
          -0.05,
          -0.17,
          0.15,
          0.16,
          0.08,
          0.16,
          -0.02,
          0.23,
          0.05,
          0.12,
          0.08,
          -1.42,
          0.11,
          -0.03,
          0.15,
          0.09,
          -0.2,
          0.37,
          0.73,
          0.22,
          0.18,
          -0.03,
          0.33,
          -0.11,
          0.06,
          0.11,
          -0.12,
          0.05,
          0.06,
          0.15,
          -1.46,
          -0.36,
          0.08,
          0.46,
          0.17,
          0.06,
          -0.32,
          0.15,
          0.05,
          0.05,
          0.2,
          0.2,
          0.2,
          0,
          0.08,
          -0.09,
          -0.34,
          0.04,
          0.01,
          0.15,
          -0.58,
          0.12,
          0.51,
          0.13,
          0.25,
          0.01,
          -0.34,
          0.29,
          0.32,
          0.29,
          0.03,
          0.39,
          0.02,
          -0.17,
          0.12,
          0.15,
          0.15,
          -0.07,
          0.17,
          0.06,
          0.06,
          -0.07,
          0.17,
          0.12,
          0.11,
          0.04,
          -0.11,
          0.04,
          0.02,
          -0.06,
          -0.59,
          -0.01,
          -0.1,
          -0.03,
          -0.07,
          0.01,
          -0.17,
          0.19,
          0.26,
          -0.15,
          0.44,
          0.29,
          -0.08,
          -0.01,
          -0.22,
          -0.37,
          0.12,
          0.04,
          0.1,
          0.25,
          0.15,
          0.04,
          -0.07,
          -0.02,
          0.17,
          0.09,
          0.13,
          -0.13,
          0.17,
          0.05,
          0.02,
          0.14,
          -0.02,
          -0.06,
          0.12,
          0.05,
          0.13,
          -0.34,
          -0.22,
          0.15,
          0.22,
          0.03,
          0.09,
          0.16,
          0.05,
          -0.04,
          0.01,
          0,
          -0.34,
          -0.09,
          -0.23,
          0,
          -0.14,
          -0.08,
          0.26,
          -0.6,
          0.15,
          -0.14,
          0.19,
          0.03,
          -0.36,
          0.19,
          -0.33,
          0.28,
          0.65,
          0.21,
          0.08,
          0.21,
          -0.11,
          0.11,
          0.1,
          -0.02,
          -0.01,
          0.17,
          -0.03,
          0,
          0.01,
          -0.03,
          0.47,
          0.01,
          0.1,
          0.1,
          -0.12,
          0,
          -0.06,
          -0.04,
          0.09,
          0.13,
          -1.05,
          -0.53,
          -0.08,
          -0.01,
          0.27,
          0.18,
          0.23,
          0.48,
          0.03,
          0.17,
          0.12,
          -0.3,
          0.17,
          -0.08,
          0.07,
          0.57,
          -0.16,
          -0.08,
          0.24,
          -0.01,
          -0.05,
          0.25,
          0.17,
          -0.01,
          0.05,
          0.02,
          0.12,
          -0.3,
          -0.07,
          0,
          0.02,
          0.15,
          -0.02,
          0.06,
          0.08,
          -0.01,
          0.08,
          0.01,
          0.12,
          -0.06,
          0.02,
          -0.09,
          0.28,
          0.17,
          0.04,
          0.21,
          0.01,
          0.07,
          -0.2,
          0.21,
          -1.19,
          -0.61,
          0.08,
          0.05,
          -0.36,
          0.3,
          0.05,
          -0.21,
          0.02,
          0.29,
          0.3,
          0.39,
          -0.05,
          -0.09,
          0.11,
          0.11,
          0.05,
          -0.31,
          0.22,
          -0.06,
          -0.27,
          -0.08,
          0.1,
          0.08,
          -0.13,
          0.09,
          0.26,
          0.07,
          -0.05,
          0.13,
          -1.52,
          0.19,
          0.33,
          0.18,
          -0.02,
          0.17,
          0.19,
          0.08,
          0.04,
          0.12,
          -0.08,
          0.48,
          0.07,
          0.09,
          -0.08,
          -0.16,
          0.04,
          0.15,
          -1.07,
          -0.02,
          0.34,
          0.25,
          -0.02,
          0.1,
          -0.02,
          -0.09,
          0.13,
          -0.08,
          0.06,
          -0.32,
          -0.05,
          0.12,
          0.04,
          -1.04,
          -0.56,
          0.07,
          -0.02,
          0.12,
          0.13,
          -0.14,
          -0.18,
          0.16,
          0.46,
          -0.1,
          -0.36,
          -0.03,
          -0.14,
          0.16,
          0.06,
          0.4,
          0.14,
          0.17,
          0.08,
          0.37,
          0.21,
          0.03,
          0.17,
          0.09,
          0.01,
          0.35,
          0.34,
          0.05,
          -0.02,
          -0.19,
          -0.28,
          0.19,
          -0.05,
          -0.06,
          0.14,
          0.08,
          0.12,
          0.1,
          -0.01,
          0.13,
          0.16,
          0.08,
          0.03,
          0.08,
          0.04,
          0.19,
          -0.26,
          0.07,
          0.04,
          0.06,
          -0.27,
          0.05,
          0.21,
          -0.08,
          0.05,
          -0.03,
          0.08,
          0.05,
          -0.45,
          -0.01,
          -0.07,
          0.08,
          0.1,
          -0.03,
          -0.02,
          0.06,
          -1.59,
          0,
          -0.23,
          0.15,
          0.11,
          0.13,
          0.26,
          -0.04,
          0.05,
          0.12,
          0.02,
          0.07,
          0.35,
          0.07,
          0.24,
          0.12,
          0.31,
          0.2,
          0.14,
          -0.02,
          0.14,
          0.06,
          0.04,
          -0.57,
          0.17,
          0.13,
          0.04,
          0.21,
          0,
          -0.01,
          0.1,
          0.1,
          -0.43,
          0.28,
          0.02,
          0.38,
          0.12,
          0.13,
          0.06,
          -0.24,
          -0.46,
          0.14,
          0.05,
          0.09,
          -0.04,
          0.1,
          0.04,
          -0.1,
          0.1,
          0.02,
          -0.1,
          0.18,
          0.05,
          0.06,
          0.23,
          0.14,
          0.04,
          -0.18,
          -0.2,
          0,
          0.15,
          0.09,
          -0.01,
          0.08,
          0.1,
          0.08,
          0.08,
          0.11,
          -0.16,
          -0.21,
          0.09,
          1.15,
          0.17,
          0.43,
          0.09,
          0.06,
          0.05,
          0.07,
          0.12,
          -0.54,
          0.26,
          0.49,
          0.25,
          0.12,
          -0.07,
          -0.7,
          0.07,
          0.02,
          -0.07,
          -0.07,
          0.17,
          -0.17,
          -0.05,
          0.14,
          -0.11,
          0.08,
          0.08,
          0.09,
          -0.07,
          0.99,
          0.23,
          0.13,
          0.09,
          0.18,
          -0.05,
          -0.35,
          0.15,
          0.18,
          -0.02,
          0.03,
          -0.64,
          -1.07,
          0.46,
          -0.07,
          -0.17,
          0.12,
          -0.01,
          0.14,
          0.16,
          0.08,
          0.13,
          0.13,
          0.07,
          0.03,
          0.06,
          -0.04,
          0.07,
          -0.01,
          0.23,
          0.12,
          -0.36,
          0.4,
          -0.02,
          0.03,
          0.04,
          0.03,
          0.16,
          0.1,
          0.19,
          0.07,
          0.14,
          -0.1,
          0.07,
          0.17,
          0.08,
          0.32,
          -0.02,
          0.07,
          0.06,
          -0.26,
          -0.39,
          0.11,
          -0.09,
          0.08,
          0.08,
          0.24,
          0.17,
          0.09,
          0.09,
          -0.27,
          0.03,
          -0.08,
          -0.02,
          0.03,
          -0.01,
          0.08,
          0.21,
          0.05,
          0.06,
          -0.85,
          0.19,
          0.42,
          0.17,
          0.08,
          0.03,
          0.01,
          0.17,
          -0.24,
          0.07,
          0.13,
          -0.12,
          0.13,
          -0.43,
          0.04,
          0.04,
          0.04,
          0.08,
          0.08,
          -0.3,
          0.01,
          0.12,
          0.02,
          0.2,
          -0.04,
          -0.44,
          0.14,
          0.18,
          -0.36,
          -0.43,
          0.14,
          0.17,
          0.02,
          0.03,
          -0.12,
          0.1,
          0.09,
          0.29,
          0.31,
          0.05,
          0.02,
          0.1,
          0.12,
          0.19,
          0.14,
          0.14,
          0.02,
          0.17,
          0.03,
          0.08,
          0.33,
          0.11,
          0.05,
          0.06,
          0.03,
          -0.18,
          0.06,
          -0.09,
          -0.34,
          -0.02,
          -0.64,
          -0.03,
          0.07,
          0.08,
          0.11,
          0.08,
          0.11,
          -0.02,
          0.19,
          0.26,
          0.01,
          -0.07,
          -0.38,
          -0.29,
          0.44,
          0.28,
          0.26,
          -0.38,
          0.12,
          -0.45,
          0.2,
          0.62,
          -0.35,
          0.09,
          -0.32,
          -0.02,
          0.14,
          0.09,
          -0.36,
          -0.6,
          -0.04,
          -0.09,
          -0.21,
          0.08,
          0.52,
          -0.09,
          0.27,
          1.03,
          -0.01,
          0.06,
          0.51,
          -0.13,
          0.06,
          0.09,
          0.12,
          0.11,
          0.16,
          0.12,
          0.05,
          -0.4,
          0.13,
          0.08,
          0.1,
          0.33,
          0.09,
          0.12,
          -0.09,
          0.07,
          0.11,
          0.07,
          0.06,
          0.17,
          -0.07,
          0.06,
          0.06,
          -0.03,
          0.09,
          0.19,
          0.11,
          0.12,
          -0.22,
          0.34,
          -0.03,
          0.02,
          0.46,
          -0.64,
          -0.46,
          0.26,
          0.11,
          0.1,
          -0.14,
          0.09,
          0.03,
          -0.13,
          0.21,
          0.09,
          -0.07,
          -0.25,
          0.08,
          -0.01,
          0.14,
          0.16,
          0.05,
          0.14,
          0.13,
          -0.02,
          -0.21,
          0.14,
          -0.13,
          0.06,
          0,
          0.01,
          0.03,
          -0.1,
          0.06,
          0.06,
          0.14,
          0.02,
          -0.05,
          -0.3,
          -0.08,
          0.05,
          0.12,
          0.06,
          0.13,
          0.09,
          0.1,
          0.01,
          -0.05,
          -0.02,
          0.13,
          0.23,
          0.12,
          0.17,
          0.03,
          0.06,
          0,
          0.26,
          0.07,
          0.01,
          -0.8,
          -0.04,
          0.13,
          0.05,
          0.09,
          -0.19,
          -0.04,
          -0.13,
          0.11,
          0.07,
          -0.01,
          0.04,
          0.08,
          0.11,
          0.1,
          0.1,
          0,
          0.11,
          0.07,
          0.11,
          0.04,
          0.02,
          -0.01,
          0.05,
          0.07,
          -0.01,
          -0.01,
          0.1,
          0.02,
          0,
          0.06,
          0.08,
          0.02,
          0.03,
          0,
          0.06,
          -0.08,
          -0.52,
          0.15,
          0.32,
          -0.03,
          0.16,
          0.03,
          0.07,
          0.02,
          0.11,
          0.19,
          0.07,
          -0.81,
          -0.02,
          0.11,
          0.06,
          0.09,
          -0.26,
          0.03,
          -0.09,
          0.05,
          -0.03,
          -0.17,
          0.03,
          0.08,
          0,
          0.1,
          0.02,
          0,
          0.18,
          -0.02,
          0.03,
          0.05,
          -0.06,
          0,
          0.08,
          0.07,
          0.04,
          0.03,
          -0.03,
          0.01,
          -0.01,
          0.01,
          -0.04,
          0.17,
          0.07,
          -0.03,
          -0.03,
          0.04,
          -0.02,
          0.06,
          -0.45,
          0.04,
          0.07,
          0.03,
          -0.07,
          -0.03,
          0,
          -0.05,
          -0.43,
          0.1,
          -0.29,
          0.31,
          0.05,
          -0.65,
          0.08,
          0.12,
          0.11,
          0,
          0.09,
          0.13,
          0.01,
          0.27,
          0.07,
          0.02,
          -0.02,
          0.42,
          -0.06,
          0.04,
          0.07,
          0.01,
          0.15,
          0.02,
          -0.08,
          0.12,
          -0.01,
          0.02,
          0.11,
          -0.22,
          0.06,
          -1.21,
          0.1,
          0.08,
          0.1,
          0.06,
          0.1,
          0.1,
          0.16,
          -0.34,
          0.09,
          0.08,
          0.02,
          0.05,
          0.09,
          -0.01,
          -0.45,
          0.12,
          0.2,
          0.09,
          -0.18,
          0.18,
          0.18,
          0.04,
          0,
          0.06,
          0.12,
          0.04,
          0.29,
          0.01,
          -0.02,
          0.01,
          0.08,
          -0.04,
          0.06,
          0.03,
          0.06,
          -0.03,
          0.03,
          -0.29,
          -0.2,
          0.09,
          -0.07,
          0.13,
          0.08,
          -0.09,
          0.05,
          0,
          0.04,
          -0.11,
          -0.04,
          0.09,
          -0.03,
          -0.42,
          0.11,
          -0.24,
          -0.01,
          0.05,
          0.15,
          0.08,
          0.09,
          -0.02,
          0.11,
          0.09,
          0.06,
          0.02,
          0.02,
          -0.03,
          0,
          0.13,
          0.07,
          0.07,
          -0.01,
          -0.04,
          0.05,
          0.14,
          0.01,
          -0.01,
          0.05,
          0.42,
          0.03,
          -0.07,
          0.14,
          0.08,
          0.12,
          0.08,
          0.12,
          0.06,
          0.08,
          0.25,
          0.21,
          -0.02,
          0.01,
          0.07,
          0,
          0.03,
          -0.17,
          0.01,
          0.03,
          0,
          0.02,
          -0.04,
          -0.01,
          0.07,
          0.03,
          0.13,
          0,
          -0.01,
          0,
          -0.27,
          -0.36,
          0.03,
          0.04,
          -0.09,
          0.05,
          0,
          -0.13,
          0.41,
          0.02,
          0.28,
          0.03,
          0.08,
          0.18,
          0.15,
          -0.03,
          0.14,
          0.01,
          0.32,
          0.3,
          -0.03,
          0.05,
          0.07,
          -0.05,
          0.19,
          -0.02,
          -0.07,
          0.15,
          0,
          -0.36,
          -0.06,
          0.07,
          0.05,
          0,
          0.25,
          0.06,
          0.14,
          0.04,
          0.08,
          0.03,
          0.03,
          0.04,
          0.07,
          0.37,
          0.03,
          0.05,
          0.13,
          0.08,
          0.01,
          0.09,
          0.11,
          0.04,
          0.05,
          -0.52,
          0.13,
          0.04,
          0.14,
          0.12,
          -0.09,
          -0.07,
          -0.04,
          -0.03,
          0.05,
          -0.04,
          -0.3,
          0,
          0,
          -0.12,
          0.07,
          0.06,
          0.1,
          0.03,
          0.04,
          -0.07,
          0.1,
          0.06,
          -0.04,
          -0.3,
          -0.08,
          0,
          0.11,
          -0.03,
          -0.04,
          0.03,
          0.07,
          0.02,
          0.08,
          0.04,
          0.18,
          0.08,
          0.11,
          -0.17,
          0.16,
          -0.05,
          -0.03,
          0.04,
          0.11,
          -0.05,
          -0.21,
          0.05,
          0.06,
          0.04,
          0.15,
          -0.11,
          0.04,
          -0.26,
          0.2,
          0.51,
          0.08,
          -0.03,
          -0.04,
          -0.01,
          0.41,
          0.04,
          0.18,
          -0.08,
          0.09,
          0.06,
          0.14,
          0.05,
          -0.5,
          0.11,
          0.04,
          0.26,
          0.08,
          -0.04,
          0.01,
          -0.05,
          -0.03,
          0.01,
          -0.06,
          -0.3,
          0.2,
          0.17,
          -0.18,
          0.13,
          -0.04,
          0.08,
          0.01,
          0.05,
          -0.03,
          0.06,
          -0.05,
          0.09,
          0.05,
          -0.34,
          0.04,
          0.21,
          -0.25,
          0.01,
          0.16,
          0.02,
          -0.03,
          0.09,
          0.09,
          0,
          0.08,
          0.21,
          0.15,
          0.05,
          0.07,
          0.09,
          0.1,
          0.03,
          0.05,
          -0.06,
          0,
          0.14,
          0.05,
          0.12,
          0.11,
          -0.11,
          -0.13,
          0.06,
          0.04,
          0.04,
          -0.01,
          0.1,
          0.11,
          0.05,
          0.1,
          0.11,
          0.02,
          0.05,
          -0.01,
          0.01,
          0.05,
          0.01,
          0.01,
          0.05,
          0.02,
          -0.03,
          -0.1,
          -0.05,
          0.04,
          0,
          -0.26,
          0.05,
          0.02,
          0.01,
          0.05,
          0.23,
          -0.08,
          0,
          0.01,
          0.09,
          0.06,
          0.14,
          -0.13,
          -0.05,
          0.04,
          0.02,
          0.05,
          0,
          0.01,
          0.09,
          0.05,
          -0.08,
          0.02,
          0.06,
          0.03,
          0.24,
          0.09,
          0.06,
          -0.29,
          0,
          0.07,
          -0.13,
          0.07,
          -0.01,
          0.03,
          0.01,
          0.05,
          0.06,
          0.05,
          0.03,
          0.09,
          0.02,
          0.04,
          -0.15,
          -0.07,
          -0.01,
          0.07,
          -0.16,
          0.09,
          0.09,
          -0.05,
          0.06,
          0.04,
          0.02,
          0.13,
          0.08,
          0.12,
          0.02,
          0.04,
          -0.02,
          0.06,
          -0.02,
          0.05,
          0.03,
          0,
          -0.12,
          0.05,
          0,
          0.04,
          0.01,
          0.03,
          0.04,
          -0.29,
          0.05,
          0.09,
          0.03,
          0,
          -0.27,
          -0.12,
          0.1,
          0.01,
          0.12,
          -0.03,
          0.04,
          -0.07,
          -0.02,
          0.08,
          0.01,
          0.03,
          -0.09,
          0.04,
          0.04,
          0.01,
          0.04,
          0.02,
          0,
          0.01,
          -0.05,
          0.01,
          0.01,
          0.07,
          0.35,
          0.22,
          -0.22,
          0.02,
          0.08,
          -1.08,
          0.11,
          0.12,
          0.02,
          -0.21,
          0.02,
          0.05,
          -0.1,
          -0.07,
          0.04,
          0.03,
          -0.01,
          0.08,
          0.02,
          0,
          -0.03,
          0.01,
          0,
          0.02,
          -0.06,
          -0.48,
          0.12,
          -0.16,
          0.07,
          0.15,
          -0.12,
          0.04,
          -0.13,
          0.07,
          0.07,
          0.02,
          -0.15,
          -0.09,
          0.06,
          0.06,
          0.07,
          0.06,
          0.01,
          -0.01,
          0.13,
          -0.11,
          -0.03,
          0.11,
          -0.02,
          0.04,
          0.03,
          -0.42,
          0.01,
          0.02,
          0.07,
          0.21,
          0.13,
          0.15,
          -0.58,
          0.11,
          0.17,
          0.14,
          -0.13,
          0.08,
          -0.55,
          -0.02,
          -0.04,
          0.08,
          0.08,
          0.02,
          -0.26,
          -0.14,
          0.05,
          0.07,
          -0.02,
          0.04,
          0.23,
          0.15,
          0.13,
          0.05,
          0.01,
          -0.12,
          0.09,
          -0.49,
          0.04,
          0.02,
          0.04,
          -0.06,
          0.08,
          -0.33,
          0.06,
          -0.33,
          0.05,
          0.27,
          -0.26,
          0.11,
          0.1,
          -0.4,
          0.16,
          0.07,
          0.27,
          0.05,
          0.03,
          0.08,
          0,
          0.03,
          -0.05,
          0.06,
          0.08,
          0.2,
          0.06,
          0.04,
          0.06,
          -0.07,
          -0.22,
          0.01,
          0.09,
          0.18,
          0.07,
          0.27,
          0.02,
          0.06,
          0.08,
          0.18,
          -0.01,
          0.04,
          0.17,
          -0.35,
          0.1,
          -0.21,
          -0.69,
          0.09,
          0.07,
          0.17,
          -0.07,
          -0.09,
          -0.01,
          0.11,
          0.16,
          0.11,
          -0.03,
          0.06,
          -0.17,
          0,
          0.31,
          0.11,
          0.08,
          0.01,
          0.09,
          0.02,
          0.2,
          0,
          0.19,
          0.21,
          0.07,
          -0.11,
          -0.01,
          0.02,
          0.01,
          -0.06,
          -0.18,
          0.05,
          0.05,
          -0.15,
          -0.11,
          0.04,
          0.01,
          0.06,
          0.05,
          0.1,
          -0.01,
          0.04,
          0.07,
          -0.53,
          -0.19,
          0.09,
          0.15,
          -0.01,
          0.13,
          0.04,
          0.01,
          0.06,
          0.05,
          0.08,
          0.02,
          0,
          0.12,
          -0.01,
          0.1,
          0.1,
          0,
          0.04,
          0.04,
          -0.11,
          0.05,
          0.02,
          0.01,
          0.06,
          0.02,
          0.15,
          0.08,
          -0.18,
          0.02,
          -0.02,
          0.15,
          -0.23,
          -0.01,
          0.05,
          0.03,
          -0.02,
          -0.26,
          -0.02,
          0.04,
          0.11,
          0.04,
          0.01,
          0.01,
          0.07,
          -0.38,
          0,
          -0.28,
          0.03,
          -0.01,
          0.06,
          0.03,
          0.09,
          0,
          -0.04,
          -0.19,
          0.01,
          -0.45,
          -0.02,
          0.08,
          0.15,
          0.08,
          0,
          -0.1,
          0.05,
          -0.33,
          0.3,
          -0.05,
          -0.12,
          -0.31,
          0.07,
          0.1,
          0.07,
          0.11,
          0.08,
          0.04,
          -0.64,
          0.16,
          0.12,
          -0.03,
          0.13,
          -0.07,
          0.06,
          -0.12,
          0.04,
          -0.38,
          -0.06,
          -0.45,
          -0.17,
          0.07,
          -0.35,
          -0.3,
          0.7,
          0.19,
          -0.24,
          0.05,
          0.25,
          0.02,
          0.31,
          0.12,
          -0.04,
          0.16,
          0,
          0.01,
          0.05,
          0.08,
          -0.49,
          -0.09,
          0.12
         ],
         "xaxis": "x",
         "yaxis": "y"
        }
       ],
       "layout": {
        "barmode": "relative",
        "legend": {
         "tracegroupgap": 0
        },
        "margin": {
         "t": 60
        },
        "template": {
         "data": {
          "bar": [
           {
            "error_x": {
             "color": "#2a3f5f"
            },
            "error_y": {
             "color": "#2a3f5f"
            },
            "marker": {
             "line": {
              "color": "#E5ECF6",
              "width": 0.5
             },
             "pattern": {
              "fillmode": "overlay",
              "size": 10,
              "solidity": 0.2
             }
            },
            "type": "bar"
           }
          ],
          "barpolar": [
           {
            "marker": {
             "line": {
              "color": "#E5ECF6",
              "width": 0.5
             },
             "pattern": {
              "fillmode": "overlay",
              "size": 10,
              "solidity": 0.2
             }
            },
            "type": "barpolar"
           }
          ],
          "carpet": [
           {
            "aaxis": {
             "endlinecolor": "#2a3f5f",
             "gridcolor": "white",
             "linecolor": "white",
             "minorgridcolor": "white",
             "startlinecolor": "#2a3f5f"
            },
            "baxis": {
             "endlinecolor": "#2a3f5f",
             "gridcolor": "white",
             "linecolor": "white",
             "minorgridcolor": "white",
             "startlinecolor": "#2a3f5f"
            },
            "type": "carpet"
           }
          ],
          "choropleth": [
           {
            "colorbar": {
             "outlinewidth": 0,
             "ticks": ""
            },
            "type": "choropleth"
           }
          ],
          "contour": [
           {
            "colorbar": {
             "outlinewidth": 0,
             "ticks": ""
            },
            "colorscale": [
             [
              0,
              "#0d0887"
             ],
             [
              0.1111111111111111,
              "#46039f"
             ],
             [
              0.2222222222222222,
              "#7201a8"
             ],
             [
              0.3333333333333333,
              "#9c179e"
             ],
             [
              0.4444444444444444,
              "#bd3786"
             ],
             [
              0.5555555555555556,
              "#d8576b"
             ],
             [
              0.6666666666666666,
              "#ed7953"
             ],
             [
              0.7777777777777778,
              "#fb9f3a"
             ],
             [
              0.8888888888888888,
              "#fdca26"
             ],
             [
              1,
              "#f0f921"
             ]
            ],
            "type": "contour"
           }
          ],
          "contourcarpet": [
           {
            "colorbar": {
             "outlinewidth": 0,
             "ticks": ""
            },
            "type": "contourcarpet"
           }
          ],
          "heatmap": [
           {
            "colorbar": {
             "outlinewidth": 0,
             "ticks": ""
            },
            "colorscale": [
             [
              0,
              "#0d0887"
             ],
             [
              0.1111111111111111,
              "#46039f"
             ],
             [
              0.2222222222222222,
              "#7201a8"
             ],
             [
              0.3333333333333333,
              "#9c179e"
             ],
             [
              0.4444444444444444,
              "#bd3786"
             ],
             [
              0.5555555555555556,
              "#d8576b"
             ],
             [
              0.6666666666666666,
              "#ed7953"
             ],
             [
              0.7777777777777778,
              "#fb9f3a"
             ],
             [
              0.8888888888888888,
              "#fdca26"
             ],
             [
              1,
              "#f0f921"
             ]
            ],
            "type": "heatmap"
           }
          ],
          "heatmapgl": [
           {
            "colorbar": {
             "outlinewidth": 0,
             "ticks": ""
            },
            "colorscale": [
             [
              0,
              "#0d0887"
             ],
             [
              0.1111111111111111,
              "#46039f"
             ],
             [
              0.2222222222222222,
              "#7201a8"
             ],
             [
              0.3333333333333333,
              "#9c179e"
             ],
             [
              0.4444444444444444,
              "#bd3786"
             ],
             [
              0.5555555555555556,
              "#d8576b"
             ],
             [
              0.6666666666666666,
              "#ed7953"
             ],
             [
              0.7777777777777778,
              "#fb9f3a"
             ],
             [
              0.8888888888888888,
              "#fdca26"
             ],
             [
              1,
              "#f0f921"
             ]
            ],
            "type": "heatmapgl"
           }
          ],
          "histogram": [
           {
            "marker": {
             "pattern": {
              "fillmode": "overlay",
              "size": 10,
              "solidity": 0.2
             }
            },
            "type": "histogram"
           }
          ],
          "histogram2d": [
           {
            "colorbar": {
             "outlinewidth": 0,
             "ticks": ""
            },
            "colorscale": [
             [
              0,
              "#0d0887"
             ],
             [
              0.1111111111111111,
              "#46039f"
             ],
             [
              0.2222222222222222,
              "#7201a8"
             ],
             [
              0.3333333333333333,
              "#9c179e"
             ],
             [
              0.4444444444444444,
              "#bd3786"
             ],
             [
              0.5555555555555556,
              "#d8576b"
             ],
             [
              0.6666666666666666,
              "#ed7953"
             ],
             [
              0.7777777777777778,
              "#fb9f3a"
             ],
             [
              0.8888888888888888,
              "#fdca26"
             ],
             [
              1,
              "#f0f921"
             ]
            ],
            "type": "histogram2d"
           }
          ],
          "histogram2dcontour": [
           {
            "colorbar": {
             "outlinewidth": 0,
             "ticks": ""
            },
            "colorscale": [
             [
              0,
              "#0d0887"
             ],
             [
              0.1111111111111111,
              "#46039f"
             ],
             [
              0.2222222222222222,
              "#7201a8"
             ],
             [
              0.3333333333333333,
              "#9c179e"
             ],
             [
              0.4444444444444444,
              "#bd3786"
             ],
             [
              0.5555555555555556,
              "#d8576b"
             ],
             [
              0.6666666666666666,
              "#ed7953"
             ],
             [
              0.7777777777777778,
              "#fb9f3a"
             ],
             [
              0.8888888888888888,
              "#fdca26"
             ],
             [
              1,
              "#f0f921"
             ]
            ],
            "type": "histogram2dcontour"
           }
          ],
          "mesh3d": [
           {
            "colorbar": {
             "outlinewidth": 0,
             "ticks": ""
            },
            "type": "mesh3d"
           }
          ],
          "parcoords": [
           {
            "line": {
             "colorbar": {
              "outlinewidth": 0,
              "ticks": ""
             }
            },
            "type": "parcoords"
           }
          ],
          "pie": [
           {
            "automargin": true,
            "type": "pie"
           }
          ],
          "scatter": [
           {
            "fillpattern": {
             "fillmode": "overlay",
             "size": 10,
             "solidity": 0.2
            },
            "type": "scatter"
           }
          ],
          "scatter3d": [
           {
            "line": {
             "colorbar": {
              "outlinewidth": 0,
              "ticks": ""
             }
            },
            "marker": {
             "colorbar": {
              "outlinewidth": 0,
              "ticks": ""
             }
            },
            "type": "scatter3d"
           }
          ],
          "scattercarpet": [
           {
            "marker": {
             "colorbar": {
              "outlinewidth": 0,
              "ticks": ""
             }
            },
            "type": "scattercarpet"
           }
          ],
          "scattergeo": [
           {
            "marker": {
             "colorbar": {
              "outlinewidth": 0,
              "ticks": ""
             }
            },
            "type": "scattergeo"
           }
          ],
          "scattergl": [
           {
            "marker": {
             "colorbar": {
              "outlinewidth": 0,
              "ticks": ""
             }
            },
            "type": "scattergl"
           }
          ],
          "scattermapbox": [
           {
            "marker": {
             "colorbar": {
              "outlinewidth": 0,
              "ticks": ""
             }
            },
            "type": "scattermapbox"
           }
          ],
          "scatterpolar": [
           {
            "marker": {
             "colorbar": {
              "outlinewidth": 0,
              "ticks": ""
             }
            },
            "type": "scatterpolar"
           }
          ],
          "scatterpolargl": [
           {
            "marker": {
             "colorbar": {
              "outlinewidth": 0,
              "ticks": ""
             }
            },
            "type": "scatterpolargl"
           }
          ],
          "scatterternary": [
           {
            "marker": {
             "colorbar": {
              "outlinewidth": 0,
              "ticks": ""
             }
            },
            "type": "scatterternary"
           }
          ],
          "surface": [
           {
            "colorbar": {
             "outlinewidth": 0,
             "ticks": ""
            },
            "colorscale": [
             [
              0,
              "#0d0887"
             ],
             [
              0.1111111111111111,
              "#46039f"
             ],
             [
              0.2222222222222222,
              "#7201a8"
             ],
             [
              0.3333333333333333,
              "#9c179e"
             ],
             [
              0.4444444444444444,
              "#bd3786"
             ],
             [
              0.5555555555555556,
              "#d8576b"
             ],
             [
              0.6666666666666666,
              "#ed7953"
             ],
             [
              0.7777777777777778,
              "#fb9f3a"
             ],
             [
              0.8888888888888888,
              "#fdca26"
             ],
             [
              1,
              "#f0f921"
             ]
            ],
            "type": "surface"
           }
          ],
          "table": [
           {
            "cells": {
             "fill": {
              "color": "#EBF0F8"
             },
             "line": {
              "color": "white"
             }
            },
            "header": {
             "fill": {
              "color": "#C8D4E3"
             },
             "line": {
              "color": "white"
             }
            },
            "type": "table"
           }
          ]
         },
         "layout": {
          "annotationdefaults": {
           "arrowcolor": "#2a3f5f",
           "arrowhead": 0,
           "arrowwidth": 1
          },
          "autotypenumbers": "strict",
          "coloraxis": {
           "colorbar": {
            "outlinewidth": 0,
            "ticks": ""
           }
          },
          "colorscale": {
           "diverging": [
            [
             0,
             "#8e0152"
            ],
            [
             0.1,
             "#c51b7d"
            ],
            [
             0.2,
             "#de77ae"
            ],
            [
             0.3,
             "#f1b6da"
            ],
            [
             0.4,
             "#fde0ef"
            ],
            [
             0.5,
             "#f7f7f7"
            ],
            [
             0.6,
             "#e6f5d0"
            ],
            [
             0.7,
             "#b8e186"
            ],
            [
             0.8,
             "#7fbc41"
            ],
            [
             0.9,
             "#4d9221"
            ],
            [
             1,
             "#276419"
            ]
           ],
           "sequential": [
            [
             0,
             "#0d0887"
            ],
            [
             0.1111111111111111,
             "#46039f"
            ],
            [
             0.2222222222222222,
             "#7201a8"
            ],
            [
             0.3333333333333333,
             "#9c179e"
            ],
            [
             0.4444444444444444,
             "#bd3786"
            ],
            [
             0.5555555555555556,
             "#d8576b"
            ],
            [
             0.6666666666666666,
             "#ed7953"
            ],
            [
             0.7777777777777778,
             "#fb9f3a"
            ],
            [
             0.8888888888888888,
             "#fdca26"
            ],
            [
             1,
             "#f0f921"
            ]
           ],
           "sequentialminus": [
            [
             0,
             "#0d0887"
            ],
            [
             0.1111111111111111,
             "#46039f"
            ],
            [
             0.2222222222222222,
             "#7201a8"
            ],
            [
             0.3333333333333333,
             "#9c179e"
            ],
            [
             0.4444444444444444,
             "#bd3786"
            ],
            [
             0.5555555555555556,
             "#d8576b"
            ],
            [
             0.6666666666666666,
             "#ed7953"
            ],
            [
             0.7777777777777778,
             "#fb9f3a"
            ],
            [
             0.8888888888888888,
             "#fdca26"
            ],
            [
             1,
             "#f0f921"
            ]
           ]
          },
          "colorway": [
           "#636efa",
           "#EF553B",
           "#00cc96",
           "#ab63fa",
           "#FFA15A",
           "#19d3f3",
           "#FF6692",
           "#B6E880",
           "#FF97FF",
           "#FECB52"
          ],
          "font": {
           "color": "#2a3f5f"
          },
          "geo": {
           "bgcolor": "white",
           "lakecolor": "white",
           "landcolor": "#E5ECF6",
           "showlakes": true,
           "showland": true,
           "subunitcolor": "white"
          },
          "hoverlabel": {
           "align": "left"
          },
          "hovermode": "closest",
          "mapbox": {
           "style": "light"
          },
          "paper_bgcolor": "white",
          "plot_bgcolor": "#E5ECF6",
          "polar": {
           "angularaxis": {
            "gridcolor": "white",
            "linecolor": "white",
            "ticks": ""
           },
           "bgcolor": "#E5ECF6",
           "radialaxis": {
            "gridcolor": "white",
            "linecolor": "white",
            "ticks": ""
           }
          },
          "scene": {
           "xaxis": {
            "backgroundcolor": "#E5ECF6",
            "gridcolor": "white",
            "gridwidth": 2,
            "linecolor": "white",
            "showbackground": true,
            "ticks": "",
            "zerolinecolor": "white"
           },
           "yaxis": {
            "backgroundcolor": "#E5ECF6",
            "gridcolor": "white",
            "gridwidth": 2,
            "linecolor": "white",
            "showbackground": true,
            "ticks": "",
            "zerolinecolor": "white"
           },
           "zaxis": {
            "backgroundcolor": "#E5ECF6",
            "gridcolor": "white",
            "gridwidth": 2,
            "linecolor": "white",
            "showbackground": true,
            "ticks": "",
            "zerolinecolor": "white"
           }
          },
          "shapedefaults": {
           "line": {
            "color": "#2a3f5f"
           }
          },
          "ternary": {
           "aaxis": {
            "gridcolor": "white",
            "linecolor": "white",
            "ticks": ""
           },
           "baxis": {
            "gridcolor": "white",
            "linecolor": "white",
            "ticks": ""
           },
           "bgcolor": "#E5ECF6",
           "caxis": {
            "gridcolor": "white",
            "linecolor": "white",
            "ticks": ""
           }
          },
          "title": {
           "x": 0.05
          },
          "xaxis": {
           "automargin": true,
           "gridcolor": "white",
           "linecolor": "white",
           "ticks": "",
           "title": {
            "standoff": 15
           },
           "zerolinecolor": "white",
           "zerolinewidth": 2
          },
          "yaxis": {
           "automargin": true,
           "gridcolor": "white",
           "linecolor": "white",
           "ticks": "",
           "title": {
            "standoff": 15
           },
           "zerolinecolor": "white",
           "zerolinewidth": 2
          }
         }
        },
        "xaxis": {
         "anchor": "y",
         "domain": [
          0,
          1
         ],
         "title": {
          "text": "Gain%"
         }
        },
        "yaxis": {
         "anchor": "x",
         "domain": [
          0,
          1
         ],
         "title": {
          "text": "count"
         }
        }
       }
      }
     },
     "metadata": {},
     "output_type": "display_data"
    },
    {
     "name": "stdout",
     "output_type": "stream",
     "text": [
      "(60, 80)\n",
      "Total trades: 807\n",
      "Average percent gain per trade: 0.07%\n",
      "Total percent gain: 222.61%\n"
     ]
    },
    {
     "name": "stderr",
     "output_type": "stream",
     "text": [
      "/var/folders/hb/0dd7xx3d4mzgbx_w9m1fmb2h0000gn/T/ipykernel_9734/1167655356.py:12: FutureWarning:\n",
      "\n",
      "The behavior of DataFrame concatenation with empty or all-NA entries is deprecated. In a future version, this will no longer exclude empty or all-NA columns when determining the result dtypes. To retain the old behavior, exclude the relevant entries before the concat operation.\n",
      "\n"
     ]
    },
    {
     "data": {
      "application/vnd.plotly.v1+json": {
       "config": {
        "plotlyServerURL": "https://plot.ly"
       },
       "data": [
        {
         "alignmentgroup": "True",
         "bingroup": "x",
         "hovertemplate": "Gain%=%{x}<br>count=%{y}<extra></extra>",
         "legendgroup": "",
         "marker": {
          "color": "#636efa",
          "pattern": {
           "shape": ""
          }
         },
         "name": "",
         "nbinsx": 100,
         "offsetgroup": "",
         "orientation": "v",
         "showlegend": false,
         "type": "histogram",
         "x": [
          0.96,
          0.09,
          0.5,
          0.08,
          -0.01,
          0.16,
          0.62,
          0.24,
          -0.37,
          0.2,
          0.26,
          -0.36,
          0.57,
          0.15,
          0.21,
          0.38,
          0.43,
          -0.59,
          -0.33,
          0.05,
          0.16,
          -0.05,
          0.26,
          0.29,
          0.13,
          0.12,
          0.29,
          0.78,
          -0.3,
          -0.23,
          3.34,
          0.52,
          0.59,
          0.34,
          -2.02,
          0.22,
          -0.21,
          0.04,
          0.17,
          -1.19,
          0.31,
          0.62,
          -0.48,
          0.53,
          0.94,
          0.77,
          0.32,
          0.15,
          0.13,
          -0.43,
          0.68,
          0.15,
          0.55,
          -0.09,
          0.08,
          0.18,
          0.71,
          0.15,
          0,
          -1.09,
          0.33,
          0.15,
          -0.06,
          0.22,
          0.08,
          0.34,
          0,
          -0.45,
          0.16,
          -0.11,
          0.29,
          0.28,
          0.58,
          0.01,
          0.17,
          0.24,
          -0.1,
          0.15,
          -1.57,
          -0.04,
          0.36,
          0.16,
          0.13,
          0.34,
          0.07,
          0.13,
          -0.99,
          0.65,
          0.01,
          0.53,
          0.18,
          0.02,
          -0.18,
          0.36,
          0.22,
          -0.03,
          0.19,
          -0.03,
          -0.01,
          0.08,
          0.15,
          0.2,
          -0.14,
          -0.04,
          0.13,
          0.12,
          0.21,
          -0.02,
          0.04,
          0.49,
          0.22,
          -0.43,
          0.06,
          -0.19,
          0.04,
          0.15,
          0.17,
          -0.12,
          0.17,
          0.1,
          0.22,
          -0.04,
          0.17,
          0.09,
          -0.25,
          0.26,
          0.13,
          0,
          -0.36,
          -0.37,
          0.23,
          0.06,
          -0.24,
          0.13,
          -0.11,
          0.89,
          0.17,
          0.22,
          -0.04,
          0.29,
          0,
          -0.02,
          0.09,
          0.65,
          0.26,
          -0.37,
          -0.28,
          -0.23,
          -0.02,
          0.26,
          0.31,
          0.29,
          -0.31,
          0.08,
          -0.19,
          0.01,
          0.46,
          -0.22,
          0.07,
          0.39,
          0.19,
          -0.02,
          0.15,
          0.21,
          -1.87,
          0.25,
          0.03,
          0.27,
          0.21,
          -1.01,
          0.01,
          0.33,
          0.16,
          -0.17,
          0.06,
          -0.42,
          0.17,
          -0.09,
          0.02,
          0.18,
          -0.16,
          0.31,
          0.45,
          0.16,
          0.05,
          -0.87,
          0.34,
          0.38,
          -0.04,
          0.07,
          0.34,
          -0.13,
          0.14,
          -1.06,
          0.18,
          0.15,
          0.23,
          0.05,
          -0.08,
          -0.08,
          -0.29,
          0.41,
          0.28,
          -1.01,
          -0.42,
          -0.23,
          0.45,
          -0.1,
          -0.42,
          -0.04,
          0.2,
          -0.45,
          0.15,
          0.27,
          0.06,
          0.15,
          0.2,
          0.05,
          0.16,
          0.29,
          0.16,
          0.23,
          0.09,
          -0.06,
          0.15,
          0.11,
          -0.01,
          -0.06,
          0.66,
          0.05,
          -0.08,
          -0.03,
          0.44,
          0.35,
          0.02,
          -0.12,
          -0.01,
          -0.18,
          -0.05,
          0.35,
          0.15,
          0.64,
          0.18,
          0.3,
          0.24,
          0.19,
          0.08,
          -0.08,
          0.21,
          0.22,
          0.2,
          0.1,
          0,
          -0.08,
          -0.25,
          0.79,
          0.23,
          0.17,
          0.5,
          0.12,
          0,
          0.09,
          0.2,
          0.15,
          0.41,
          0,
          0.11,
          0.27,
          0.07,
          0.07,
          0.25,
          -0.08,
          -0.18,
          1.12,
          0.57,
          0.45,
          0,
          0.12,
          0.04,
          0.34,
          0.21,
          -0.01,
          0.05,
          0.09,
          0.1,
          0.03,
          -0.12,
          0.71,
          0.3,
          0.49,
          0.33,
          0.23,
          -0.55,
          0.33,
          0.11,
          0.07,
          0.55,
          0.08,
          0.06,
          0.55,
          -0.77,
          0.32,
          -0.19,
          0.11,
          -0.01,
          0.08,
          0.2,
          -0.01,
          0.11,
          0.08,
          0.11,
          0.74,
          0.01,
          -0.02,
          0.08,
          0.12,
          0.23,
          0.34,
          -0.23,
          0.17,
          0.11,
          -0.02,
          -0.37,
          -0.15,
          0.02,
          0.32,
          0.09,
          -0.23,
          0.14,
          0.08,
          -0.07,
          0.12,
          0.04,
          0.06,
          0.34,
          0.68,
          0.05,
          0.39,
          0.21,
          0.14,
          0.13,
          0.21,
          0.07,
          0.04,
          0.06,
          0.29,
          -0.77,
          0.22,
          0.13,
          -0.02,
          0.41,
          0.07,
          0.44,
          0.25,
          -0.97,
          0.02,
          0.13,
          0.23,
          0.15,
          -0.74,
          0.3,
          -0.12,
          0,
          0.7,
          0.27,
          0.21,
          0.47,
          0.36,
          0.03,
          0.39,
          0.07,
          -0.16,
          -0.09,
          -0.29,
          0.15,
          0.32,
          -0.02,
          0.43,
          0.28,
          -0.24,
          0.1,
          -0.24,
          0.56,
          -1.25,
          0.11,
          0.11,
          -0.13,
          0.03,
          0.12,
          0.09,
          -0.53,
          0.08,
          0.04,
          0.07,
          0.23,
          -0.22,
          -0.07,
          0.11,
          -0.05,
          0.13,
          0.03,
          -0.02,
          -0.31,
          0.1,
          0.06,
          0.48,
          0.44,
          0.15,
          0.11,
          -0.32,
          -0.04,
          0.2,
          0.17,
          -0.79,
          0.15,
          -0.2,
          0.15,
          0.19,
          0.02,
          0.18,
          -0.03,
          0.21,
          0.01,
          0.06,
          0.06,
          0.13,
          0.25,
          -0.57,
          0.16,
          0.29,
          0.1,
          0.16,
          0.09,
          0.09,
          0.16,
          -0.32,
          0.1,
          0.09,
          -0.01,
          0.07,
          0.03,
          -0.42,
          0.17,
          0.03,
          0.04,
          0.31,
          0.22,
          0.08,
          0.23,
          0,
          0.15,
          0.03,
          0.08,
          -0.25,
          0.17,
          -0.2,
          -0.53,
          -0.07,
          0.08,
          0.15,
          0.23,
          0.02,
          0.21,
          0.21,
          0.13,
          0.3,
          -0.24,
          0.28,
          0.03,
          0.14,
          0.08,
          0.52,
          -0.08,
          0.09,
          0.17,
          -0.09,
          0.03,
          -0.15,
          0.15,
          0.17,
          0.2,
          0.3,
          -0.03,
          0.01,
          0.12,
          0.03,
          -0.02,
          0.12,
          -0.07,
          -0.22,
          -0.55,
          0.29,
          0.08,
          0.12,
          0.16,
          -0.62,
          0.32,
          0.07,
          0.31,
          0.07,
          0.03,
          -0.1,
          0.04,
          -0.11,
          0.31,
          0.11,
          0.03,
          0.08,
          -0.13,
          0.21,
          0.03,
          0.09,
          0.19,
          0.26,
          0.18,
          -0.02,
          -0.44,
          -0.06,
          0.16,
          0.05,
          -0.02,
          0.02,
          0.03,
          0.08,
          0.11,
          -0.18,
          0.07,
          -0.01,
          0.21,
          0.14,
          0.16,
          0.1,
          0.22,
          -0.1,
          0.22,
          0.36,
          0.06,
          -0.16,
          -0.11,
          0,
          -0.34,
          0.04,
          0.25,
          0.34,
          0.43,
          0.19,
          0.18,
          0.12,
          -0.02,
          0.23,
          -0.47,
          0.18,
          0.16,
          -0.07,
          0.16,
          0.09,
          0.15,
          -0.12,
          -0.05,
          0.49,
          0,
          0.04,
          -0.36,
          0.07,
          0.08,
          0.07,
          0.02,
          0.09,
          0.05,
          -0.02,
          0.06,
          0.26,
          0.01,
          0.19,
          0.35,
          -0.01,
          -0.06,
          0.46,
          -0.12,
          0.29,
          0.05,
          0.11,
          0.06,
          0.11,
          -0.21,
          0.22,
          0.13,
          -0.02,
          0.11,
          0.17,
          -0.04,
          -0.03,
          0.63,
          0.06,
          0.2,
          0.12,
          0.13,
          0.09,
          0.03,
          -0.04,
          0.18,
          0.06,
          -0.21,
          0.07,
          0.09,
          0.11,
          -0.05,
          0.09,
          0.15,
          0.16,
          0.11,
          -0.1,
          -0.03,
          0.18,
          0.05,
          0.05,
          0.15,
          0.23,
          0.07,
          0.04,
          0.03,
          0.05,
          0.03,
          0.12,
          -0.01,
          -0.13,
          0.21,
          0.05,
          0.03,
          0.23,
          0.06,
          -0.3,
          0.12,
          -0.16,
          0.1,
          0.01,
          0.1,
          -0.06,
          0.14,
          -0.01,
          0.22,
          0.05,
          0.11,
          0.09,
          -0.01,
          0.09,
          0,
          0.14,
          0.06,
          -0.01,
          -0.2,
          0.07,
          0.1,
          0.08,
          0.04,
          0.1,
          0.1,
          -0.08,
          0.14,
          0.04,
          0.03,
          -0.05,
          0,
          0.17,
          0.04,
          0.01,
          0.01,
          0,
          0.3,
          -0.23,
          0.06,
          0.05,
          0.19,
          -0.07,
          -0.17,
          0.05,
          -0.21,
          -0.04,
          -0.07,
          0.11,
          0.04,
          -0.6,
          0.03,
          0.18,
          0.01,
          0.22,
          0.09,
          -0.05,
          0,
          0.14,
          0.12,
          -0.09,
          0.35,
          -0.51,
          0.21,
          0.15,
          0.39,
          -0.06,
          -0.25,
          0.08,
          0.21,
          0.07,
          -0.1,
          -0.06,
          0.21,
          0.24,
          0.1,
          0.15,
          0.08,
          0.03,
          0.05,
          0.2,
          -0.15,
          0.08,
          0.07,
          0.07,
          0.15,
          0.05,
          -0.06,
          0.18,
          0.11,
          -0.04,
          0.11,
          0.07,
          0.31,
          -0.36,
          0.18,
          0.21,
          -0.36,
          0.14,
          -0.13,
          0.03,
          0.35,
          0.17,
          0.1,
          0.21,
          0.15,
          -0.37,
          0.13,
          -0.13,
          0.05,
          0.33,
          0.06,
          0.12,
          0.03,
          0.22,
          0.15,
          0.13,
          0.05,
          0.11,
          -0.12,
          0.01,
          0.04,
          -0.24,
          0.02,
          -0.43,
          0.01,
          -0.07,
          0.16,
          0.19,
          0.03,
          -0.04,
          -0.54,
          -0.2,
          0.19,
          0.17,
          0.02,
          -0.01,
          -0.01,
          0.03,
          0.16,
          0.12,
          -0.18,
          0.28,
          0.02,
          0.06,
          0.06,
          0.12,
          0.08,
          -0.59,
          0.16,
          -0.47,
          0.17,
          0.18,
          0.15,
          -0.08,
          -0.03,
          0.17,
          -0.19,
          0.06,
          0.28,
          0.01,
          -0.15,
          0.41,
          0.03,
          0.11,
          0,
          -0.33,
          -0.04,
          0.14,
          0.23,
          0.06,
          0.28,
          -0.15,
          0.08,
          -0.23,
          -0.56
         ],
         "xaxis": "x",
         "yaxis": "y"
        }
       ],
       "layout": {
        "barmode": "relative",
        "legend": {
         "tracegroupgap": 0
        },
        "margin": {
         "t": 60
        },
        "template": {
         "data": {
          "bar": [
           {
            "error_x": {
             "color": "#2a3f5f"
            },
            "error_y": {
             "color": "#2a3f5f"
            },
            "marker": {
             "line": {
              "color": "#E5ECF6",
              "width": 0.5
             },
             "pattern": {
              "fillmode": "overlay",
              "size": 10,
              "solidity": 0.2
             }
            },
            "type": "bar"
           }
          ],
          "barpolar": [
           {
            "marker": {
             "line": {
              "color": "#E5ECF6",
              "width": 0.5
             },
             "pattern": {
              "fillmode": "overlay",
              "size": 10,
              "solidity": 0.2
             }
            },
            "type": "barpolar"
           }
          ],
          "carpet": [
           {
            "aaxis": {
             "endlinecolor": "#2a3f5f",
             "gridcolor": "white",
             "linecolor": "white",
             "minorgridcolor": "white",
             "startlinecolor": "#2a3f5f"
            },
            "baxis": {
             "endlinecolor": "#2a3f5f",
             "gridcolor": "white",
             "linecolor": "white",
             "minorgridcolor": "white",
             "startlinecolor": "#2a3f5f"
            },
            "type": "carpet"
           }
          ],
          "choropleth": [
           {
            "colorbar": {
             "outlinewidth": 0,
             "ticks": ""
            },
            "type": "choropleth"
           }
          ],
          "contour": [
           {
            "colorbar": {
             "outlinewidth": 0,
             "ticks": ""
            },
            "colorscale": [
             [
              0,
              "#0d0887"
             ],
             [
              0.1111111111111111,
              "#46039f"
             ],
             [
              0.2222222222222222,
              "#7201a8"
             ],
             [
              0.3333333333333333,
              "#9c179e"
             ],
             [
              0.4444444444444444,
              "#bd3786"
             ],
             [
              0.5555555555555556,
              "#d8576b"
             ],
             [
              0.6666666666666666,
              "#ed7953"
             ],
             [
              0.7777777777777778,
              "#fb9f3a"
             ],
             [
              0.8888888888888888,
              "#fdca26"
             ],
             [
              1,
              "#f0f921"
             ]
            ],
            "type": "contour"
           }
          ],
          "contourcarpet": [
           {
            "colorbar": {
             "outlinewidth": 0,
             "ticks": ""
            },
            "type": "contourcarpet"
           }
          ],
          "heatmap": [
           {
            "colorbar": {
             "outlinewidth": 0,
             "ticks": ""
            },
            "colorscale": [
             [
              0,
              "#0d0887"
             ],
             [
              0.1111111111111111,
              "#46039f"
             ],
             [
              0.2222222222222222,
              "#7201a8"
             ],
             [
              0.3333333333333333,
              "#9c179e"
             ],
             [
              0.4444444444444444,
              "#bd3786"
             ],
             [
              0.5555555555555556,
              "#d8576b"
             ],
             [
              0.6666666666666666,
              "#ed7953"
             ],
             [
              0.7777777777777778,
              "#fb9f3a"
             ],
             [
              0.8888888888888888,
              "#fdca26"
             ],
             [
              1,
              "#f0f921"
             ]
            ],
            "type": "heatmap"
           }
          ],
          "heatmapgl": [
           {
            "colorbar": {
             "outlinewidth": 0,
             "ticks": ""
            },
            "colorscale": [
             [
              0,
              "#0d0887"
             ],
             [
              0.1111111111111111,
              "#46039f"
             ],
             [
              0.2222222222222222,
              "#7201a8"
             ],
             [
              0.3333333333333333,
              "#9c179e"
             ],
             [
              0.4444444444444444,
              "#bd3786"
             ],
             [
              0.5555555555555556,
              "#d8576b"
             ],
             [
              0.6666666666666666,
              "#ed7953"
             ],
             [
              0.7777777777777778,
              "#fb9f3a"
             ],
             [
              0.8888888888888888,
              "#fdca26"
             ],
             [
              1,
              "#f0f921"
             ]
            ],
            "type": "heatmapgl"
           }
          ],
          "histogram": [
           {
            "marker": {
             "pattern": {
              "fillmode": "overlay",
              "size": 10,
              "solidity": 0.2
             }
            },
            "type": "histogram"
           }
          ],
          "histogram2d": [
           {
            "colorbar": {
             "outlinewidth": 0,
             "ticks": ""
            },
            "colorscale": [
             [
              0,
              "#0d0887"
             ],
             [
              0.1111111111111111,
              "#46039f"
             ],
             [
              0.2222222222222222,
              "#7201a8"
             ],
             [
              0.3333333333333333,
              "#9c179e"
             ],
             [
              0.4444444444444444,
              "#bd3786"
             ],
             [
              0.5555555555555556,
              "#d8576b"
             ],
             [
              0.6666666666666666,
              "#ed7953"
             ],
             [
              0.7777777777777778,
              "#fb9f3a"
             ],
             [
              0.8888888888888888,
              "#fdca26"
             ],
             [
              1,
              "#f0f921"
             ]
            ],
            "type": "histogram2d"
           }
          ],
          "histogram2dcontour": [
           {
            "colorbar": {
             "outlinewidth": 0,
             "ticks": ""
            },
            "colorscale": [
             [
              0,
              "#0d0887"
             ],
             [
              0.1111111111111111,
              "#46039f"
             ],
             [
              0.2222222222222222,
              "#7201a8"
             ],
             [
              0.3333333333333333,
              "#9c179e"
             ],
             [
              0.4444444444444444,
              "#bd3786"
             ],
             [
              0.5555555555555556,
              "#d8576b"
             ],
             [
              0.6666666666666666,
              "#ed7953"
             ],
             [
              0.7777777777777778,
              "#fb9f3a"
             ],
             [
              0.8888888888888888,
              "#fdca26"
             ],
             [
              1,
              "#f0f921"
             ]
            ],
            "type": "histogram2dcontour"
           }
          ],
          "mesh3d": [
           {
            "colorbar": {
             "outlinewidth": 0,
             "ticks": ""
            },
            "type": "mesh3d"
           }
          ],
          "parcoords": [
           {
            "line": {
             "colorbar": {
              "outlinewidth": 0,
              "ticks": ""
             }
            },
            "type": "parcoords"
           }
          ],
          "pie": [
           {
            "automargin": true,
            "type": "pie"
           }
          ],
          "scatter": [
           {
            "fillpattern": {
             "fillmode": "overlay",
             "size": 10,
             "solidity": 0.2
            },
            "type": "scatter"
           }
          ],
          "scatter3d": [
           {
            "line": {
             "colorbar": {
              "outlinewidth": 0,
              "ticks": ""
             }
            },
            "marker": {
             "colorbar": {
              "outlinewidth": 0,
              "ticks": ""
             }
            },
            "type": "scatter3d"
           }
          ],
          "scattercarpet": [
           {
            "marker": {
             "colorbar": {
              "outlinewidth": 0,
              "ticks": ""
             }
            },
            "type": "scattercarpet"
           }
          ],
          "scattergeo": [
           {
            "marker": {
             "colorbar": {
              "outlinewidth": 0,
              "ticks": ""
             }
            },
            "type": "scattergeo"
           }
          ],
          "scattergl": [
           {
            "marker": {
             "colorbar": {
              "outlinewidth": 0,
              "ticks": ""
             }
            },
            "type": "scattergl"
           }
          ],
          "scattermapbox": [
           {
            "marker": {
             "colorbar": {
              "outlinewidth": 0,
              "ticks": ""
             }
            },
            "type": "scattermapbox"
           }
          ],
          "scatterpolar": [
           {
            "marker": {
             "colorbar": {
              "outlinewidth": 0,
              "ticks": ""
             }
            },
            "type": "scatterpolar"
           }
          ],
          "scatterpolargl": [
           {
            "marker": {
             "colorbar": {
              "outlinewidth": 0,
              "ticks": ""
             }
            },
            "type": "scatterpolargl"
           }
          ],
          "scatterternary": [
           {
            "marker": {
             "colorbar": {
              "outlinewidth": 0,
              "ticks": ""
             }
            },
            "type": "scatterternary"
           }
          ],
          "surface": [
           {
            "colorbar": {
             "outlinewidth": 0,
             "ticks": ""
            },
            "colorscale": [
             [
              0,
              "#0d0887"
             ],
             [
              0.1111111111111111,
              "#46039f"
             ],
             [
              0.2222222222222222,
              "#7201a8"
             ],
             [
              0.3333333333333333,
              "#9c179e"
             ],
             [
              0.4444444444444444,
              "#bd3786"
             ],
             [
              0.5555555555555556,
              "#d8576b"
             ],
             [
              0.6666666666666666,
              "#ed7953"
             ],
             [
              0.7777777777777778,
              "#fb9f3a"
             ],
             [
              0.8888888888888888,
              "#fdca26"
             ],
             [
              1,
              "#f0f921"
             ]
            ],
            "type": "surface"
           }
          ],
          "table": [
           {
            "cells": {
             "fill": {
              "color": "#EBF0F8"
             },
             "line": {
              "color": "white"
             }
            },
            "header": {
             "fill": {
              "color": "#C8D4E3"
             },
             "line": {
              "color": "white"
             }
            },
            "type": "table"
           }
          ]
         },
         "layout": {
          "annotationdefaults": {
           "arrowcolor": "#2a3f5f",
           "arrowhead": 0,
           "arrowwidth": 1
          },
          "autotypenumbers": "strict",
          "coloraxis": {
           "colorbar": {
            "outlinewidth": 0,
            "ticks": ""
           }
          },
          "colorscale": {
           "diverging": [
            [
             0,
             "#8e0152"
            ],
            [
             0.1,
             "#c51b7d"
            ],
            [
             0.2,
             "#de77ae"
            ],
            [
             0.3,
             "#f1b6da"
            ],
            [
             0.4,
             "#fde0ef"
            ],
            [
             0.5,
             "#f7f7f7"
            ],
            [
             0.6,
             "#e6f5d0"
            ],
            [
             0.7,
             "#b8e186"
            ],
            [
             0.8,
             "#7fbc41"
            ],
            [
             0.9,
             "#4d9221"
            ],
            [
             1,
             "#276419"
            ]
           ],
           "sequential": [
            [
             0,
             "#0d0887"
            ],
            [
             0.1111111111111111,
             "#46039f"
            ],
            [
             0.2222222222222222,
             "#7201a8"
            ],
            [
             0.3333333333333333,
             "#9c179e"
            ],
            [
             0.4444444444444444,
             "#bd3786"
            ],
            [
             0.5555555555555556,
             "#d8576b"
            ],
            [
             0.6666666666666666,
             "#ed7953"
            ],
            [
             0.7777777777777778,
             "#fb9f3a"
            ],
            [
             0.8888888888888888,
             "#fdca26"
            ],
            [
             1,
             "#f0f921"
            ]
           ],
           "sequentialminus": [
            [
             0,
             "#0d0887"
            ],
            [
             0.1111111111111111,
             "#46039f"
            ],
            [
             0.2222222222222222,
             "#7201a8"
            ],
            [
             0.3333333333333333,
             "#9c179e"
            ],
            [
             0.4444444444444444,
             "#bd3786"
            ],
            [
             0.5555555555555556,
             "#d8576b"
            ],
            [
             0.6666666666666666,
             "#ed7953"
            ],
            [
             0.7777777777777778,
             "#fb9f3a"
            ],
            [
             0.8888888888888888,
             "#fdca26"
            ],
            [
             1,
             "#f0f921"
            ]
           ]
          },
          "colorway": [
           "#636efa",
           "#EF553B",
           "#00cc96",
           "#ab63fa",
           "#FFA15A",
           "#19d3f3",
           "#FF6692",
           "#B6E880",
           "#FF97FF",
           "#FECB52"
          ],
          "font": {
           "color": "#2a3f5f"
          },
          "geo": {
           "bgcolor": "white",
           "lakecolor": "white",
           "landcolor": "#E5ECF6",
           "showlakes": true,
           "showland": true,
           "subunitcolor": "white"
          },
          "hoverlabel": {
           "align": "left"
          },
          "hovermode": "closest",
          "mapbox": {
           "style": "light"
          },
          "paper_bgcolor": "white",
          "plot_bgcolor": "#E5ECF6",
          "polar": {
           "angularaxis": {
            "gridcolor": "white",
            "linecolor": "white",
            "ticks": ""
           },
           "bgcolor": "#E5ECF6",
           "radialaxis": {
            "gridcolor": "white",
            "linecolor": "white",
            "ticks": ""
           }
          },
          "scene": {
           "xaxis": {
            "backgroundcolor": "#E5ECF6",
            "gridcolor": "white",
            "gridwidth": 2,
            "linecolor": "white",
            "showbackground": true,
            "ticks": "",
            "zerolinecolor": "white"
           },
           "yaxis": {
            "backgroundcolor": "#E5ECF6",
            "gridcolor": "white",
            "gridwidth": 2,
            "linecolor": "white",
            "showbackground": true,
            "ticks": "",
            "zerolinecolor": "white"
           },
           "zaxis": {
            "backgroundcolor": "#E5ECF6",
            "gridcolor": "white",
            "gridwidth": 2,
            "linecolor": "white",
            "showbackground": true,
            "ticks": "",
            "zerolinecolor": "white"
           }
          },
          "shapedefaults": {
           "line": {
            "color": "#2a3f5f"
           }
          },
          "ternary": {
           "aaxis": {
            "gridcolor": "white",
            "linecolor": "white",
            "ticks": ""
           },
           "baxis": {
            "gridcolor": "white",
            "linecolor": "white",
            "ticks": ""
           },
           "bgcolor": "#E5ECF6",
           "caxis": {
            "gridcolor": "white",
            "linecolor": "white",
            "ticks": ""
           }
          },
          "title": {
           "x": 0.05
          },
          "xaxis": {
           "automargin": true,
           "gridcolor": "white",
           "linecolor": "white",
           "ticks": "",
           "title": {
            "standoff": 15
           },
           "zerolinecolor": "white",
           "zerolinewidth": 2
          },
          "yaxis": {
           "automargin": true,
           "gridcolor": "white",
           "linecolor": "white",
           "ticks": "",
           "title": {
            "standoff": 15
           },
           "zerolinecolor": "white",
           "zerolinewidth": 2
          }
         }
        },
        "xaxis": {
         "anchor": "y",
         "domain": [
          0,
          1
         ],
         "title": {
          "text": "Gain%"
         }
        },
        "yaxis": {
         "anchor": "x",
         "domain": [
          0,
          1
         ],
         "title": {
          "text": "count"
         }
        }
       }
      }
     },
     "metadata": {},
     "output_type": "display_data"
    },
    {
     "name": "stdout",
     "output_type": "stream",
     "text": [
      "(70, 90)\n",
      "Total trades: 153\n",
      "Average percent gain per trade: 0.28%\n",
      "Total percent gain: 168.57%\n"
     ]
    },
    {
     "name": "stderr",
     "output_type": "stream",
     "text": [
      "/var/folders/hb/0dd7xx3d4mzgbx_w9m1fmb2h0000gn/T/ipykernel_9734/1167655356.py:12: FutureWarning:\n",
      "\n",
      "The behavior of DataFrame concatenation with empty or all-NA entries is deprecated. In a future version, this will no longer exclude empty or all-NA columns when determining the result dtypes. To retain the old behavior, exclude the relevant entries before the concat operation.\n",
      "\n"
     ]
    },
    {
     "data": {
      "application/vnd.plotly.v1+json": {
       "config": {
        "plotlyServerURL": "https://plot.ly"
       },
       "data": [
        {
         "alignmentgroup": "True",
         "bingroup": "x",
         "hovertemplate": "Gain%=%{x}<br>count=%{y}<extra></extra>",
         "legendgroup": "",
         "marker": {
          "color": "#636efa",
          "pattern": {
           "shape": ""
          }
         },
         "name": "",
         "nbinsx": 100,
         "offsetgroup": "",
         "orientation": "v",
         "showlegend": false,
         "type": "histogram",
         "x": [
          1.11,
          0.23,
          -0.12,
          3.59,
          0.41,
          0.9,
          0.25,
          1.4,
          0.73,
          0.13,
          1.64,
          0.23,
          0.11,
          0.18,
          0.06,
          0.64,
          0.33,
          0.29,
          0.67,
          -0.19,
          -0.06,
          -0.42,
          0.11,
          1.62,
          1.11,
          0.6,
          -0.26,
          0.1,
          0.27,
          -1.84,
          0.53,
          0.14,
          0.53,
          0.59,
          0.36,
          0.84,
          -0.21,
          0.18,
          0.28,
          0.81,
          0.91,
          -0.41,
          1.3,
          0.87,
          0.37,
          0.58,
          0.31,
          1.26,
          0.42,
          0.75,
          0.38,
          -0.07,
          -0.61,
          0.17,
          0.81,
          0.09,
          0.23,
          0.5,
          0.5,
          0.17,
          -0.06,
          0.73,
          0.6,
          0.51,
          -0.19,
          0.51,
          0.23,
          0.43,
          -0.03,
          -0.47,
          0.04,
          0.25,
          0.33,
          -0.05,
          0.82,
          0.08,
          0.01,
          0.2,
          0.45,
          0.07,
          -0.15,
          -0.34,
          0.43,
          0.29,
          0.15,
          -0.32,
          0.53,
          0.46,
          0.08,
          0.09,
          0.81,
          0.1,
          -0.02,
          -0.02,
          -0.37,
          0.45,
          0.29,
          0,
          0.35,
          0.11,
          -0.18,
          -0.02,
          0.67,
          0.22,
          0.2,
          0.3,
          0.01,
          0.35,
          0.35,
          0.55,
          0.57,
          0.16,
          0.21,
          0.02,
          0,
          0.09,
          -0.05,
          0.15,
          0.17,
          0.05,
          0.3,
          0.42,
          -0.12,
          0.07,
          0.37,
          -0.07,
          0.44,
          0.31,
          0.02,
          0.1,
          0.33,
          -0.05,
          0.02,
          0.01,
          0.08,
          0.3,
          0.13,
          0.35,
          0.07,
          0.35,
          0.01,
          -0.19,
          -0.04,
          1.1,
          0.21,
          -0.38,
          0.1,
          0.2,
          0.43,
          0.07,
          -0.06,
          0.27,
          -0.45
         ],
         "xaxis": "x",
         "yaxis": "y"
        }
       ],
       "layout": {
        "barmode": "relative",
        "legend": {
         "tracegroupgap": 0
        },
        "margin": {
         "t": 60
        },
        "template": {
         "data": {
          "bar": [
           {
            "error_x": {
             "color": "#2a3f5f"
            },
            "error_y": {
             "color": "#2a3f5f"
            },
            "marker": {
             "line": {
              "color": "#E5ECF6",
              "width": 0.5
             },
             "pattern": {
              "fillmode": "overlay",
              "size": 10,
              "solidity": 0.2
             }
            },
            "type": "bar"
           }
          ],
          "barpolar": [
           {
            "marker": {
             "line": {
              "color": "#E5ECF6",
              "width": 0.5
             },
             "pattern": {
              "fillmode": "overlay",
              "size": 10,
              "solidity": 0.2
             }
            },
            "type": "barpolar"
           }
          ],
          "carpet": [
           {
            "aaxis": {
             "endlinecolor": "#2a3f5f",
             "gridcolor": "white",
             "linecolor": "white",
             "minorgridcolor": "white",
             "startlinecolor": "#2a3f5f"
            },
            "baxis": {
             "endlinecolor": "#2a3f5f",
             "gridcolor": "white",
             "linecolor": "white",
             "minorgridcolor": "white",
             "startlinecolor": "#2a3f5f"
            },
            "type": "carpet"
           }
          ],
          "choropleth": [
           {
            "colorbar": {
             "outlinewidth": 0,
             "ticks": ""
            },
            "type": "choropleth"
           }
          ],
          "contour": [
           {
            "colorbar": {
             "outlinewidth": 0,
             "ticks": ""
            },
            "colorscale": [
             [
              0,
              "#0d0887"
             ],
             [
              0.1111111111111111,
              "#46039f"
             ],
             [
              0.2222222222222222,
              "#7201a8"
             ],
             [
              0.3333333333333333,
              "#9c179e"
             ],
             [
              0.4444444444444444,
              "#bd3786"
             ],
             [
              0.5555555555555556,
              "#d8576b"
             ],
             [
              0.6666666666666666,
              "#ed7953"
             ],
             [
              0.7777777777777778,
              "#fb9f3a"
             ],
             [
              0.8888888888888888,
              "#fdca26"
             ],
             [
              1,
              "#f0f921"
             ]
            ],
            "type": "contour"
           }
          ],
          "contourcarpet": [
           {
            "colorbar": {
             "outlinewidth": 0,
             "ticks": ""
            },
            "type": "contourcarpet"
           }
          ],
          "heatmap": [
           {
            "colorbar": {
             "outlinewidth": 0,
             "ticks": ""
            },
            "colorscale": [
             [
              0,
              "#0d0887"
             ],
             [
              0.1111111111111111,
              "#46039f"
             ],
             [
              0.2222222222222222,
              "#7201a8"
             ],
             [
              0.3333333333333333,
              "#9c179e"
             ],
             [
              0.4444444444444444,
              "#bd3786"
             ],
             [
              0.5555555555555556,
              "#d8576b"
             ],
             [
              0.6666666666666666,
              "#ed7953"
             ],
             [
              0.7777777777777778,
              "#fb9f3a"
             ],
             [
              0.8888888888888888,
              "#fdca26"
             ],
             [
              1,
              "#f0f921"
             ]
            ],
            "type": "heatmap"
           }
          ],
          "heatmapgl": [
           {
            "colorbar": {
             "outlinewidth": 0,
             "ticks": ""
            },
            "colorscale": [
             [
              0,
              "#0d0887"
             ],
             [
              0.1111111111111111,
              "#46039f"
             ],
             [
              0.2222222222222222,
              "#7201a8"
             ],
             [
              0.3333333333333333,
              "#9c179e"
             ],
             [
              0.4444444444444444,
              "#bd3786"
             ],
             [
              0.5555555555555556,
              "#d8576b"
             ],
             [
              0.6666666666666666,
              "#ed7953"
             ],
             [
              0.7777777777777778,
              "#fb9f3a"
             ],
             [
              0.8888888888888888,
              "#fdca26"
             ],
             [
              1,
              "#f0f921"
             ]
            ],
            "type": "heatmapgl"
           }
          ],
          "histogram": [
           {
            "marker": {
             "pattern": {
              "fillmode": "overlay",
              "size": 10,
              "solidity": 0.2
             }
            },
            "type": "histogram"
           }
          ],
          "histogram2d": [
           {
            "colorbar": {
             "outlinewidth": 0,
             "ticks": ""
            },
            "colorscale": [
             [
              0,
              "#0d0887"
             ],
             [
              0.1111111111111111,
              "#46039f"
             ],
             [
              0.2222222222222222,
              "#7201a8"
             ],
             [
              0.3333333333333333,
              "#9c179e"
             ],
             [
              0.4444444444444444,
              "#bd3786"
             ],
             [
              0.5555555555555556,
              "#d8576b"
             ],
             [
              0.6666666666666666,
              "#ed7953"
             ],
             [
              0.7777777777777778,
              "#fb9f3a"
             ],
             [
              0.8888888888888888,
              "#fdca26"
             ],
             [
              1,
              "#f0f921"
             ]
            ],
            "type": "histogram2d"
           }
          ],
          "histogram2dcontour": [
           {
            "colorbar": {
             "outlinewidth": 0,
             "ticks": ""
            },
            "colorscale": [
             [
              0,
              "#0d0887"
             ],
             [
              0.1111111111111111,
              "#46039f"
             ],
             [
              0.2222222222222222,
              "#7201a8"
             ],
             [
              0.3333333333333333,
              "#9c179e"
             ],
             [
              0.4444444444444444,
              "#bd3786"
             ],
             [
              0.5555555555555556,
              "#d8576b"
             ],
             [
              0.6666666666666666,
              "#ed7953"
             ],
             [
              0.7777777777777778,
              "#fb9f3a"
             ],
             [
              0.8888888888888888,
              "#fdca26"
             ],
             [
              1,
              "#f0f921"
             ]
            ],
            "type": "histogram2dcontour"
           }
          ],
          "mesh3d": [
           {
            "colorbar": {
             "outlinewidth": 0,
             "ticks": ""
            },
            "type": "mesh3d"
           }
          ],
          "parcoords": [
           {
            "line": {
             "colorbar": {
              "outlinewidth": 0,
              "ticks": ""
             }
            },
            "type": "parcoords"
           }
          ],
          "pie": [
           {
            "automargin": true,
            "type": "pie"
           }
          ],
          "scatter": [
           {
            "fillpattern": {
             "fillmode": "overlay",
             "size": 10,
             "solidity": 0.2
            },
            "type": "scatter"
           }
          ],
          "scatter3d": [
           {
            "line": {
             "colorbar": {
              "outlinewidth": 0,
              "ticks": ""
             }
            },
            "marker": {
             "colorbar": {
              "outlinewidth": 0,
              "ticks": ""
             }
            },
            "type": "scatter3d"
           }
          ],
          "scattercarpet": [
           {
            "marker": {
             "colorbar": {
              "outlinewidth": 0,
              "ticks": ""
             }
            },
            "type": "scattercarpet"
           }
          ],
          "scattergeo": [
           {
            "marker": {
             "colorbar": {
              "outlinewidth": 0,
              "ticks": ""
             }
            },
            "type": "scattergeo"
           }
          ],
          "scattergl": [
           {
            "marker": {
             "colorbar": {
              "outlinewidth": 0,
              "ticks": ""
             }
            },
            "type": "scattergl"
           }
          ],
          "scattermapbox": [
           {
            "marker": {
             "colorbar": {
              "outlinewidth": 0,
              "ticks": ""
             }
            },
            "type": "scattermapbox"
           }
          ],
          "scatterpolar": [
           {
            "marker": {
             "colorbar": {
              "outlinewidth": 0,
              "ticks": ""
             }
            },
            "type": "scatterpolar"
           }
          ],
          "scatterpolargl": [
           {
            "marker": {
             "colorbar": {
              "outlinewidth": 0,
              "ticks": ""
             }
            },
            "type": "scatterpolargl"
           }
          ],
          "scatterternary": [
           {
            "marker": {
             "colorbar": {
              "outlinewidth": 0,
              "ticks": ""
             }
            },
            "type": "scatterternary"
           }
          ],
          "surface": [
           {
            "colorbar": {
             "outlinewidth": 0,
             "ticks": ""
            },
            "colorscale": [
             [
              0,
              "#0d0887"
             ],
             [
              0.1111111111111111,
              "#46039f"
             ],
             [
              0.2222222222222222,
              "#7201a8"
             ],
             [
              0.3333333333333333,
              "#9c179e"
             ],
             [
              0.4444444444444444,
              "#bd3786"
             ],
             [
              0.5555555555555556,
              "#d8576b"
             ],
             [
              0.6666666666666666,
              "#ed7953"
             ],
             [
              0.7777777777777778,
              "#fb9f3a"
             ],
             [
              0.8888888888888888,
              "#fdca26"
             ],
             [
              1,
              "#f0f921"
             ]
            ],
            "type": "surface"
           }
          ],
          "table": [
           {
            "cells": {
             "fill": {
              "color": "#EBF0F8"
             },
             "line": {
              "color": "white"
             }
            },
            "header": {
             "fill": {
              "color": "#C8D4E3"
             },
             "line": {
              "color": "white"
             }
            },
            "type": "table"
           }
          ]
         },
         "layout": {
          "annotationdefaults": {
           "arrowcolor": "#2a3f5f",
           "arrowhead": 0,
           "arrowwidth": 1
          },
          "autotypenumbers": "strict",
          "coloraxis": {
           "colorbar": {
            "outlinewidth": 0,
            "ticks": ""
           }
          },
          "colorscale": {
           "diverging": [
            [
             0,
             "#8e0152"
            ],
            [
             0.1,
             "#c51b7d"
            ],
            [
             0.2,
             "#de77ae"
            ],
            [
             0.3,
             "#f1b6da"
            ],
            [
             0.4,
             "#fde0ef"
            ],
            [
             0.5,
             "#f7f7f7"
            ],
            [
             0.6,
             "#e6f5d0"
            ],
            [
             0.7,
             "#b8e186"
            ],
            [
             0.8,
             "#7fbc41"
            ],
            [
             0.9,
             "#4d9221"
            ],
            [
             1,
             "#276419"
            ]
           ],
           "sequential": [
            [
             0,
             "#0d0887"
            ],
            [
             0.1111111111111111,
             "#46039f"
            ],
            [
             0.2222222222222222,
             "#7201a8"
            ],
            [
             0.3333333333333333,
             "#9c179e"
            ],
            [
             0.4444444444444444,
             "#bd3786"
            ],
            [
             0.5555555555555556,
             "#d8576b"
            ],
            [
             0.6666666666666666,
             "#ed7953"
            ],
            [
             0.7777777777777778,
             "#fb9f3a"
            ],
            [
             0.8888888888888888,
             "#fdca26"
            ],
            [
             1,
             "#f0f921"
            ]
           ],
           "sequentialminus": [
            [
             0,
             "#0d0887"
            ],
            [
             0.1111111111111111,
             "#46039f"
            ],
            [
             0.2222222222222222,
             "#7201a8"
            ],
            [
             0.3333333333333333,
             "#9c179e"
            ],
            [
             0.4444444444444444,
             "#bd3786"
            ],
            [
             0.5555555555555556,
             "#d8576b"
            ],
            [
             0.6666666666666666,
             "#ed7953"
            ],
            [
             0.7777777777777778,
             "#fb9f3a"
            ],
            [
             0.8888888888888888,
             "#fdca26"
            ],
            [
             1,
             "#f0f921"
            ]
           ]
          },
          "colorway": [
           "#636efa",
           "#EF553B",
           "#00cc96",
           "#ab63fa",
           "#FFA15A",
           "#19d3f3",
           "#FF6692",
           "#B6E880",
           "#FF97FF",
           "#FECB52"
          ],
          "font": {
           "color": "#2a3f5f"
          },
          "geo": {
           "bgcolor": "white",
           "lakecolor": "white",
           "landcolor": "#E5ECF6",
           "showlakes": true,
           "showland": true,
           "subunitcolor": "white"
          },
          "hoverlabel": {
           "align": "left"
          },
          "hovermode": "closest",
          "mapbox": {
           "style": "light"
          },
          "paper_bgcolor": "white",
          "plot_bgcolor": "#E5ECF6",
          "polar": {
           "angularaxis": {
            "gridcolor": "white",
            "linecolor": "white",
            "ticks": ""
           },
           "bgcolor": "#E5ECF6",
           "radialaxis": {
            "gridcolor": "white",
            "linecolor": "white",
            "ticks": ""
           }
          },
          "scene": {
           "xaxis": {
            "backgroundcolor": "#E5ECF6",
            "gridcolor": "white",
            "gridwidth": 2,
            "linecolor": "white",
            "showbackground": true,
            "ticks": "",
            "zerolinecolor": "white"
           },
           "yaxis": {
            "backgroundcolor": "#E5ECF6",
            "gridcolor": "white",
            "gridwidth": 2,
            "linecolor": "white",
            "showbackground": true,
            "ticks": "",
            "zerolinecolor": "white"
           },
           "zaxis": {
            "backgroundcolor": "#E5ECF6",
            "gridcolor": "white",
            "gridwidth": 2,
            "linecolor": "white",
            "showbackground": true,
            "ticks": "",
            "zerolinecolor": "white"
           }
          },
          "shapedefaults": {
           "line": {
            "color": "#2a3f5f"
           }
          },
          "ternary": {
           "aaxis": {
            "gridcolor": "white",
            "linecolor": "white",
            "ticks": ""
           },
           "baxis": {
            "gridcolor": "white",
            "linecolor": "white",
            "ticks": ""
           },
           "bgcolor": "#E5ECF6",
           "caxis": {
            "gridcolor": "white",
            "linecolor": "white",
            "ticks": ""
           }
          },
          "title": {
           "x": 0.05
          },
          "xaxis": {
           "automargin": true,
           "gridcolor": "white",
           "linecolor": "white",
           "ticks": "",
           "title": {
            "standoff": 15
           },
           "zerolinecolor": "white",
           "zerolinewidth": 2
          },
          "yaxis": {
           "automargin": true,
           "gridcolor": "white",
           "linecolor": "white",
           "ticks": "",
           "title": {
            "standoff": 15
           },
           "zerolinecolor": "white",
           "zerolinewidth": 2
          }
         }
        },
        "xaxis": {
         "anchor": "y",
         "domain": [
          0,
          1
         ],
         "title": {
          "text": "Gain%"
         }
        },
        "yaxis": {
         "anchor": "x",
         "domain": [
          0,
          1
         ],
         "title": {
          "text": "count"
         }
        }
       }
      }
     },
     "metadata": {},
     "output_type": "display_data"
    }
   ],
   "source": [
    "# Full stack experiment\n",
    "\n",
    "ticker = 'SPY'\n",
    "\n",
    "df = load_data(ticker)\n",
    "df = RSI(df, 14)\n",
    "\n",
    "enter_exit_pairs_symetric = [(30, 70), (20, 80), (25, 75), (35, 65), (40, 60)]\n",
    "enter_exit_pairs_asymetric = [(10, 30), (20, 40), (30, 50), (40, 60), (50, 70), (60, 80), (70, 90)]\n",
    "\n",
    "all_pairs = enter_exit_pairs_symetric + enter_exit_pairs_asymetric\n",
    "\n",
    "master = []\n",
    "for e in all_pairs:\n",
    "    master.append(simulate_date_range(datetime.date(2022, 9, 30), datetime.date(2023, 9, 30), e[0], e[1], df))\n",
    "    print(e)\n",
    "    rsi_backtest_explain_results(master[-1])\n",
    "\n",
    "master = pd.concat(master, ignore_index=True)"
   ]
  },
  {
   "cell_type": "code",
   "execution_count": null,
   "metadata": {},
   "outputs": [],
   "source": []
  }
 ],
 "metadata": {
  "kernelspec": {
   "display_name": "Python 3",
   "language": "python",
   "name": "python3"
  },
  "language_info": {
   "codemirror_mode": {
    "name": "ipython",
    "version": 3
   },
   "file_extension": ".py",
   "mimetype": "text/x-python",
   "name": "python",
   "nbconvert_exporter": "python",
   "pygments_lexer": "ipython3",
   "version": "3.12.1"
  }
 },
 "nbformat": 4,
 "nbformat_minor": 2
}
