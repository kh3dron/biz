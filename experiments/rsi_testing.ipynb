{
 "cells": [
  {
   "cell_type": "code",
   "execution_count": 179,
   "metadata": {},
   "outputs": [],
   "source": [
    "import warnings\n",
    "warnings.simplefilter(action='ignore', category=FutureWarning)\n",
    "\n",
    "import pandas as pd\n",
    "\n",
    "def load_data(ticker):\n",
    "\n",
    "    filename = '../data/' + ticker + '_1min_firstratedata.csv'\n",
    "    df = pd.read_csv(filename)\n",
    "    df['ticker'] = ticker\n",
    "\n",
    "    df[\"timestamp\"] = pd.to_datetime(df[\"timestamp\"])\n",
    "    df[\"date\"] = df[\"timestamp\"].dt.date\n",
    "    df[\"time\"] = df[\"timestamp\"].dt.time\n",
    "    return df\n",
    "\n",
    "ticker = 'SPY'\n",
    "df = load_data(ticker)"
   ]
  },
  {
   "cell_type": "code",
   "execution_count": 180,
   "metadata": {},
   "outputs": [],
   "source": [
    "# Add the RSI indicator with period n to a df\n",
    "\n",
    "def RSI(df, n):\n",
    "    \"function to calculate RSI\"\n",
    "    delta = df[\"close\"].diff()\n",
    "    delta = delta[1:]\n",
    "    up, down = delta.copy(), delta.copy()\n",
    "    up[up < 0] = 0\n",
    "    down[down > 0] = 0\n",
    "    df[\"up\"] = up.round(4)\n",
    "    df[\"down\"] = down.round(4)\n",
    "    AVG_Gain = df[\"up\"].rolling(window=n).mean()\n",
    "    AVG_Loss = abs(df[\"down\"].rolling(window=n).mean())\n",
    "    RS = AVG_Gain / AVG_Loss\n",
    "    RSI = 100.0 - (100.0 / (1.0 + RS))\n",
    "    df[\"RSI_14\"] = RSI.round(4)\n",
    "    df = df.drop(columns=[\"up\", \"down\"])\n",
    "\n",
    "    return df\n",
    "\n",
    "df = RSI(df, 14)\n",
    "\n",
    "#df.head()"
   ]
  },
  {
   "cell_type": "code",
   "execution_count": 181,
   "metadata": {},
   "outputs": [],
   "source": [
    "import datetime\n",
    "import plotly.graph_objects as go\n",
    "\n",
    "\n",
    "# Candlestick chart of one day\n",
    "def chart_range(df, date):\n",
    "    df = df[df[\"date\"] == date]\n",
    "    fig = go.Figure(\n",
    "        data=[\n",
    "            go.Candlestick(\n",
    "                x=df[\"timestamp\"],\n",
    "                open=df[\"open\"],\n",
    "                high=df[\"high\"],\n",
    "                low=df[\"low\"],\n",
    "                close=df[\"close\"],\n",
    "            )\n",
    "        ]\n",
    "    )\n",
    "    fig.show()\n",
    "\n",
    "\n",
    "# chart_range(df, datetime.date(2023, 5, 18))\n",
    "\n",
    "\n",
    "# chart the RSI of one day\n",
    "def chart_rsi(df, date):\n",
    "    df = df[df[\"date\"] == date]\n",
    "    # only chart from 9:30 to 16:00\n",
    "    df = df[df[\"time\"] >= datetime.time(9, 30, 0)]\n",
    "    df = df[df[\"time\"] <= datetime.time(16, 0, 0)]\n",
    "    fig = go.Figure(data=go.Scatter(x=df[\"timestamp\"], y=df[\"RSI_14\"]))\n",
    "    # add horizontal line at 30 and 70\n",
    "    fig.add_shape(\n",
    "        type=\"line\",\n",
    "        x0=df[\"timestamp\"].min(),\n",
    "        y0=30,\n",
    "        x1=df[\"timestamp\"].max(),\n",
    "        y1=30,\n",
    "        line=dict(color=\"RoyalBlue\", width=1, dash=\"dot\"),\n",
    "    )\n",
    "    fig.add_shape(\n",
    "        type=\"line\",\n",
    "        x0=df[\"timestamp\"].min(),\n",
    "        y0=70,\n",
    "        x1=df[\"timestamp\"].max(),\n",
    "        y1=70,\n",
    "        line=dict(color=\"RoyalBlue\", width=1, dash=\"dot\"),\n",
    "    )\n",
    "    fig.show()\n",
    "\n",
    "\n",
    "# chart_rsi(df, datetime.date(2023, 5, 18))\n",
    "\n",
    "\n",
    "def chart_rsi_with_trades(timestamps, rsi_values, enters, exits):\n",
    "    fig = go.Figure(\n",
    "        data=go.Scatter(x=timestamps, y=rsi_values, mode=\"lines\", name=\"RSI\")\n",
    "    )\n",
    "    fig.add_trace(\n",
    "        go.Scatter(\n",
    "            x=enters[\"timestamps\"],\n",
    "            y=enters[\"values\"],\n",
    "            mode=\"markers\",\n",
    "            marker=dict(color=\"green\", size=8),\n",
    "            name=\"Enter\",\n",
    "        )\n",
    "    )\n",
    "    fig.add_trace(\n",
    "        go.Scatter(\n",
    "            x=exits[\"timestamps\"],\n",
    "            y=exits[\"values\"],\n",
    "            mode=\"markers\",\n",
    "            marker=dict(color=\"red\", size=8),\n",
    "            name=\"Exit\",\n",
    "        )\n",
    "    )\n",
    "    # Add horizontal lines at RSI 30 and 70\n",
    "    fig.add_shape(\n",
    "        type=\"line\",\n",
    "        x0=timestamps[0],\n",
    "        y0=30,\n",
    "        x1=timestamps[-1],\n",
    "        y1=30,\n",
    "        line=dict(color=\"RoyalBlue\", width=1, dash=\"dot\"),\n",
    "    )\n",
    "    fig.add_shape(\n",
    "        type=\"line\",\n",
    "        x0=timestamps[0],\n",
    "        y0=70,\n",
    "        x1=timestamps[-1],\n",
    "        y1=70,\n",
    "        line=dict(color=\"RoyalBlue\", width=1, dash=\"dot\"),\n",
    "    )\n",
    "\n",
    "    fig.show()"
   ]
  },
  {
   "cell_type": "code",
   "execution_count": 182,
   "metadata": {},
   "outputs": [],
   "source": [
    "import datetime\n",
    "import pandas as pd\n",
    "\n",
    "def simulate_trade_RSI(date, entry, exit, max_trades, df):\n",
    "    df_day = df[(df[\"date\"] == date) & (df[\"time\"] >= datetime.time(9, 30, 0)) & (df[\"time\"] <= datetime.time(16, 0, 0))]\n",
    "    trade_log = pd.DataFrame(columns=[\"Date\", \"Direction\", \"Entry\", \"Exit\", \"TimeEnter\", \"TimeExit\", \"Gain%\", \"Gain$\"])\n",
    "    trades, in_trade = 0, False\n",
    "\n",
    "    for i in range(1, len(df_day)):\n",
    "        rsi_condition = (df_day[\"RSI_14\"].iloc[i - 1] < entry and df_day[\"RSI_14\"].iloc[i] >= entry)\n",
    "        exit_condition = (df_day[\"RSI_14\"].iloc[i - 1] > exit and df_day[\"RSI_14\"].iloc[i] <= exit)\n",
    "        \n",
    "        if not in_trade and rsi_condition:\n",
    "            entry_price, in_trade, time_enter = df_day[\"close\"].iloc[i], True, df_day[\"time\"].iloc[i - 1]\n",
    "\n",
    "        elif in_trade and (exit_condition or i == len(df_day) - 1):\n",
    "            exit_price = df_day[\"close\"].iloc[i]\n",
    "            trade_gain_percent = round(((exit_price - entry_price) / entry_price) * 100, 2)\n",
    "            trade_gain_net = round(exit_price - entry_price, 2)\n",
    "\n",
    "            trade_log.loc[len(trade_log)] = pd.Series({\n",
    "                \"Date\": date,\n",
    "                \"Direction\": \"Long\",\n",
    "                \"Entry\": entry_price,\n",
    "                \"Exit\": exit_price,\n",
    "                \"TimeEnter\": time_enter,\n",
    "                \"TimeExit\": df_day[\"time\"].iloc[i],\n",
    "                \"Gain%\": trade_gain_percent,\n",
    "                \"Gain$\": trade_gain_net,\n",
    "            })\n",
    "\n",
    "            trades, entry_price, in_trade = trades + 1, 0, False\n",
    "\n",
    "            # Check if the maximum number of trades is reached\n",
    "            if trades >= max_trades:\n",
    "                break\n",
    "\n",
    "    return trade_log"
   ]
  },
  {
   "cell_type": "code",
   "execution_count": 183,
   "metadata": {},
   "outputs": [],
   "source": [
    "# Combine the simulated trades for a range of dates into a single dataframe\n",
    "\n",
    "def simulate_date_range(start_date, end_date, entry, exit, max_trades, df):\n",
    "    day_datas = []\n",
    "\n",
    "    for n in range((end_date - start_date).days + 1):\n",
    "        date = start_date + datetime.timedelta(n)\n",
    "        day_data = simulate_trade_RSI(date, entry, exit, max_trades, df)\n",
    "        if day_data is not None:\n",
    "            day_datas.append(day_data)\n",
    "\n",
    "    day_datas = pd.concat(day_datas, ignore_index=True)\n",
    "\n",
    "    return day_datas"
   ]
  },
  {
   "cell_type": "code",
   "execution_count": 196,
   "metadata": {},
   "outputs": [],
   "source": [
    "#trades = simulate_date_range(datetime.date(2022, 9, 30), datetime.date(2023, 9, 30), 30, 70, df)\n",
    "\n",
    "# post-processing of the trades dataframe\n",
    "\n",
    "def rsi_backtest_explain_results(trades):\n",
    "\n",
    "    total_gain = trades[\"Gain$\"].sum()\n",
    "    total_trades = len(trades)\n",
    "\n",
    "    average_percent_gain = round(trades[\"Gain%\"].mean(), 2)\n",
    "\n",
    "    print(\"Total trades: \" + str(total_trades))\n",
    "    print(\"Average percent gain per trade: \" + str(average_percent_gain) + \"%\")\n",
    "    print(\"Total percent gain: \" + str(round(total_gain, 2)) + \"%\")\n",
    "\n",
    "    # histogram of the percent gain per trade\n",
    "    import plotly.express as px\n",
    "\n",
    "    fig = px.histogram(trades, x=\"Gain%\", nbins=100)\n",
    "    fig.show()\n",
    "\n",
    "def rsi_ranged_backtest_single_pnl(df, rsi_enter, rsi_exit, maxTrades, ticker):\n",
    "    res = pd.DataFrame()\n",
    "    res.loc[0, 'Ticker'] = ticker\n",
    "    res.loc[0, 'StartDate'] = df['Date'].min()\n",
    "    res.loc[0, 'EndDate'] = df['Date'].max()\n",
    "    res.loc[0, 'Entry'] = rsi_enter\n",
    "    res.loc[0, 'Exit'] = rsi_exit,\n",
    "    res.loc[0, 'MaxTrades'] = maxTrades,\n",
    "    res.loc[0, 'TotalTrades'] = len(df)\n",
    "    res.loc[0, 'TotalPercentGain'] = round(df['Gain%'].sum(), 2)\n",
    "    res.loc[0, 'AveragePercentGain'] = round(df['Gain%'].mean(), 2)\n",
    "    res.loc[0, 'MaxPercentGain'] = round(df['Gain%'].max(), 2)\n",
    "    res.loc[0, 'MinPercentGain'] = round(df['Gain%'].min(), 2)\n",
    "\n",
    "    return res"
   ]
  },
  {
   "cell_type": "code",
   "execution_count": 187,
   "metadata": {},
   "outputs": [],
   "source": [
    "# # Full stack experiment\n",
    "\n",
    "# ticker = \"SPY\"\n",
    "# max_trades = 2\n",
    "\n",
    "# df = load_data(ticker)\n",
    "# df = RSI(df, 14)\n",
    "\n",
    "# max_trade_options = [1, 2, 3, 4]\n",
    "\n",
    "# entry_exit_pairs = [\n",
    "#     (30, 70),\n",
    "#     (20, 80),\n",
    "#     (25, 75),\n",
    "#     (35, 65),\n",
    "#     (40, 60),\n",
    "#     (10, 30),\n",
    "#     (20, 40),\n",
    "#     (30, 50),\n",
    "#     (40, 60),\n",
    "#     (50, 70),\n",
    "#     (60, 80),\n",
    "#     (70, 90),\n",
    "# ]\n",
    "\n",
    "# results = pd.DataFrame(\n",
    "#     columns=[\n",
    "#         \"StartDate\",\n",
    "#         \"EndDate\",\n",
    "#         \"Entry\",\n",
    "#         \"Exit\",\n",
    "#         \"TotalTrades\",\n",
    "#         \"TotalPercentGain\",\n",
    "#         \"AveragePercentGain\",\n",
    "#         \"MaxPercentGain\",\n",
    "#         \"MinPercentGain\",\n",
    "#     ]\n",
    "# )\n",
    "# for e in entry_exit_pairs:\n",
    "#     for f in max_trade_options:\n",
    "#         trades = simulate_date_range(\n",
    "#             datetime.date(2022, 9, 30),\n",
    "#             datetime.date(2023, 9, 30),\n",
    "#             e[0],\n",
    "#             e[1],\n",
    "#             f,\n",
    "#             df,\n",
    "#         )\n",
    "#         pnl = rsi_ranged_backtest_single_pnl(trades, e[0], e[1], f)\n",
    "#         results.loc[len(results)] = pnl.loc[0]"
   ]
  },
  {
   "cell_type": "code",
   "execution_count": 190,
   "metadata": {},
   "outputs": [
    {
     "data": {
      "text/html": [
       "<div>\n",
       "<style scoped>\n",
       "    .dataframe tbody tr th:only-of-type {\n",
       "        vertical-align: middle;\n",
       "    }\n",
       "\n",
       "    .dataframe tbody tr th {\n",
       "        vertical-align: top;\n",
       "    }\n",
       "\n",
       "    .dataframe thead th {\n",
       "        text-align: right;\n",
       "    }\n",
       "</style>\n",
       "<table border=\"1\" class=\"dataframe\">\n",
       "  <thead>\n",
       "    <tr style=\"text-align: right;\">\n",
       "      <th></th>\n",
       "      <th>StartDate</th>\n",
       "      <th>EndDate</th>\n",
       "      <th>Entry</th>\n",
       "      <th>Exit</th>\n",
       "      <th>TotalTrades</th>\n",
       "      <th>TotalPercentGain</th>\n",
       "      <th>AveragePercentGain</th>\n",
       "      <th>MaxPercentGain</th>\n",
       "      <th>MinPercentGain</th>\n",
       "    </tr>\n",
       "  </thead>\n",
       "  <tbody>\n",
       "    <tr>\n",
       "      <th>45</th>\n",
       "      <td>2022-09-30</td>\n",
       "      <td>2023-09-29</td>\n",
       "      <td>70.0</td>\n",
       "      <td>90.0</td>\n",
       "      <td>357.0</td>\n",
       "      <td>15.35</td>\n",
       "      <td>0.04</td>\n",
       "      <td>3.59</td>\n",
       "      <td>-2.18</td>\n",
       "    </tr>\n",
       "    <tr>\n",
       "      <th>27</th>\n",
       "      <td>2022-09-30</td>\n",
       "      <td>2023-09-29</td>\n",
       "      <td>20.0</td>\n",
       "      <td>40.0</td>\n",
       "      <td>663.0</td>\n",
       "      <td>11.94</td>\n",
       "      <td>0.02</td>\n",
       "      <td>1.65</td>\n",
       "      <td>-0.88</td>\n",
       "    </tr>\n",
       "    <tr>\n",
       "      <th>46</th>\n",
       "      <td>2022-09-30</td>\n",
       "      <td>2023-09-29</td>\n",
       "      <td>70.0</td>\n",
       "      <td>90.0</td>\n",
       "      <td>382.0</td>\n",
       "      <td>11.6</td>\n",
       "      <td>0.03</td>\n",
       "      <td>3.59</td>\n",
       "      <td>-2.91</td>\n",
       "    </tr>\n",
       "    <tr>\n",
       "      <th>47</th>\n",
       "      <td>2022-09-30</td>\n",
       "      <td>2023-09-29</td>\n",
       "      <td>70.0</td>\n",
       "      <td>90.0</td>\n",
       "      <td>384.0</td>\n",
       "      <td>11.53</td>\n",
       "      <td>0.03</td>\n",
       "      <td>3.59</td>\n",
       "      <td>-2.91</td>\n",
       "    </tr>\n",
       "    <tr>\n",
       "      <th>26</th>\n",
       "      <td>2022-09-30</td>\n",
       "      <td>2023-09-29</td>\n",
       "      <td>20.0</td>\n",
       "      <td>40.0</td>\n",
       "      <td>580.0</td>\n",
       "      <td>10.91</td>\n",
       "      <td>0.02</td>\n",
       "      <td>1.65</td>\n",
       "      <td>-0.88</td>\n",
       "    </tr>\n",
       "    <tr>\n",
       "      <th>6</th>\n",
       "      <td>2022-09-30</td>\n",
       "      <td>2023-09-29</td>\n",
       "      <td>20.0</td>\n",
       "      <td>80.0</td>\n",
       "      <td>452.0</td>\n",
       "      <td>8.31</td>\n",
       "      <td>0.02</td>\n",
       "      <td>1.52</td>\n",
       "      <td>-1.94</td>\n",
       "    </tr>\n",
       "    <tr>\n",
       "      <th>25</th>\n",
       "      <td>2022-09-30</td>\n",
       "      <td>2023-09-29</td>\n",
       "      <td>20.0</td>\n",
       "      <td>40.0</td>\n",
       "      <td>434.0</td>\n",
       "      <td>8.15</td>\n",
       "      <td>0.02</td>\n",
       "      <td>1.27</td>\n",
       "      <td>-0.88</td>\n",
       "    </tr>\n",
       "    <tr>\n",
       "      <th>44</th>\n",
       "      <td>2022-09-30</td>\n",
       "      <td>2023-09-29</td>\n",
       "      <td>70.0</td>\n",
       "      <td>90.0</td>\n",
       "      <td>251.0</td>\n",
       "      <td>8.09</td>\n",
       "      <td>0.03</td>\n",
       "      <td>3.59</td>\n",
       "      <td>-2.18</td>\n",
       "    </tr>\n",
       "    <tr>\n",
       "      <th>4</th>\n",
       "      <td>2022-09-30</td>\n",
       "      <td>2023-09-29</td>\n",
       "      <td>20.0</td>\n",
       "      <td>80.0</td>\n",
       "      <td>234.0</td>\n",
       "      <td>7.92</td>\n",
       "      <td>0.03</td>\n",
       "      <td>1.32</td>\n",
       "      <td>-1.63</td>\n",
       "    </tr>\n",
       "    <tr>\n",
       "      <th>2</th>\n",
       "      <td>2022-09-30</td>\n",
       "      <td>2023-09-29</td>\n",
       "      <td>30.0</td>\n",
       "      <td>70.0</td>\n",
       "      <td>726.0</td>\n",
       "      <td>7.59</td>\n",
       "      <td>0.01</td>\n",
       "      <td>1.04</td>\n",
       "      <td>-1.7</td>\n",
       "    </tr>\n",
       "    <tr>\n",
       "      <th>7</th>\n",
       "      <td>2022-09-30</td>\n",
       "      <td>2023-09-29</td>\n",
       "      <td>20.0</td>\n",
       "      <td>80.0</td>\n",
       "      <td>462.0</td>\n",
       "      <td>7.42</td>\n",
       "      <td>0.02</td>\n",
       "      <td>1.52</td>\n",
       "      <td>-1.94</td>\n",
       "    </tr>\n",
       "    <tr>\n",
       "      <th>14</th>\n",
       "      <td>2022-09-30</td>\n",
       "      <td>2023-09-29</td>\n",
       "      <td>35.0</td>\n",
       "      <td>65.0</td>\n",
       "      <td>753.0</td>\n",
       "      <td>7.37</td>\n",
       "      <td>0.01</td>\n",
       "      <td>1.07</td>\n",
       "      <td>-1.5</td>\n",
       "    </tr>\n",
       "    <tr>\n",
       "      <th>24</th>\n",
       "      <td>2022-09-30</td>\n",
       "      <td>2023-09-29</td>\n",
       "      <td>20.0</td>\n",
       "      <td>40.0</td>\n",
       "      <td>234.0</td>\n",
       "      <td>7.14</td>\n",
       "      <td>0.03</td>\n",
       "      <td>1.27</td>\n",
       "      <td>-0.88</td>\n",
       "    </tr>\n",
       "    <tr>\n",
       "      <th>40</th>\n",
       "      <td>2022-09-30</td>\n",
       "      <td>2023-09-29</td>\n",
       "      <td>60.0</td>\n",
       "      <td>80.0</td>\n",
       "      <td>251.0</td>\n",
       "      <td>7.0</td>\n",
       "      <td>0.03</td>\n",
       "      <td>3.34</td>\n",
       "      <td>-2.02</td>\n",
       "    </tr>\n",
       "    <tr>\n",
       "      <th>15</th>\n",
       "      <td>2022-09-30</td>\n",
       "      <td>2023-09-29</td>\n",
       "      <td>35.0</td>\n",
       "      <td>65.0</td>\n",
       "      <td>998.0</td>\n",
       "      <td>6.15</td>\n",
       "      <td>0.01</td>\n",
       "      <td>1.07</td>\n",
       "      <td>-1.5</td>\n",
       "    </tr>\n",
       "    <tr>\n",
       "      <th>39</th>\n",
       "      <td>2022-09-30</td>\n",
       "      <td>2023-09-29</td>\n",
       "      <td>50.0</td>\n",
       "      <td>70.0</td>\n",
       "      <td>1000.0</td>\n",
       "      <td>6.07</td>\n",
       "      <td>0.01</td>\n",
       "      <td>1.04</td>\n",
       "      <td>-1.78</td>\n",
       "    </tr>\n",
       "    <tr>\n",
       "      <th>13</th>\n",
       "      <td>2022-09-30</td>\n",
       "      <td>2023-09-29</td>\n",
       "      <td>35.0</td>\n",
       "      <td>65.0</td>\n",
       "      <td>502.0</td>\n",
       "      <td>5.52</td>\n",
       "      <td>0.01</td>\n",
       "      <td>1.07</td>\n",
       "      <td>-1.5</td>\n",
       "    </tr>\n",
       "    <tr>\n",
       "      <th>28</th>\n",
       "      <td>2022-09-30</td>\n",
       "      <td>2023-09-29</td>\n",
       "      <td>30.0</td>\n",
       "      <td>50.0</td>\n",
       "      <td>251.0</td>\n",
       "      <td>4.87</td>\n",
       "      <td>0.02</td>\n",
       "      <td>1.24</td>\n",
       "      <td>-0.93</td>\n",
       "    </tr>\n",
       "    <tr>\n",
       "      <th>42</th>\n",
       "      <td>2022-09-30</td>\n",
       "      <td>2023-09-29</td>\n",
       "      <td>60.0</td>\n",
       "      <td>80.0</td>\n",
       "      <td>706.0</td>\n",
       "      <td>4.81</td>\n",
       "      <td>0.01</td>\n",
       "      <td>3.34</td>\n",
       "      <td>-2.02</td>\n",
       "    </tr>\n",
       "    <tr>\n",
       "      <th>31</th>\n",
       "      <td>2022-09-30</td>\n",
       "      <td>2023-09-29</td>\n",
       "      <td>30.0</td>\n",
       "      <td>50.0</td>\n",
       "      <td>968.0</td>\n",
       "      <td>4.75</td>\n",
       "      <td>0.0</td>\n",
       "      <td>1.24</td>\n",
       "      <td>-1.17</td>\n",
       "    </tr>\n",
       "    <tr>\n",
       "      <th>38</th>\n",
       "      <td>2022-09-30</td>\n",
       "      <td>2023-09-29</td>\n",
       "      <td>50.0</td>\n",
       "      <td>70.0</td>\n",
       "      <td>752.0</td>\n",
       "      <td>3.87</td>\n",
       "      <td>0.01</td>\n",
       "      <td>1.04</td>\n",
       "      <td>-1.78</td>\n",
       "    </tr>\n",
       "    <tr>\n",
       "      <th>3</th>\n",
       "      <td>2022-09-30</td>\n",
       "      <td>2023-09-29</td>\n",
       "      <td>30.0</td>\n",
       "      <td>70.0</td>\n",
       "      <td>907.0</td>\n",
       "      <td>3.48</td>\n",
       "      <td>0.0</td>\n",
       "      <td>1.25</td>\n",
       "      <td>-1.7</td>\n",
       "    </tr>\n",
       "    <tr>\n",
       "      <th>12</th>\n",
       "      <td>2022-09-30</td>\n",
       "      <td>2023-09-29</td>\n",
       "      <td>35.0</td>\n",
       "      <td>65.0</td>\n",
       "      <td>251.0</td>\n",
       "      <td>3.18</td>\n",
       "      <td>0.01</td>\n",
       "      <td>0.93</td>\n",
       "      <td>-1.39</td>\n",
       "    </tr>\n",
       "    <tr>\n",
       "      <th>16</th>\n",
       "      <td>2022-09-30</td>\n",
       "      <td>2023-09-29</td>\n",
       "      <td>40.0</td>\n",
       "      <td>60.0</td>\n",
       "      <td>251.0</td>\n",
       "      <td>3.1</td>\n",
       "      <td>0.01</td>\n",
       "      <td>1.03</td>\n",
       "      <td>-1.29</td>\n",
       "    </tr>\n",
       "    <tr>\n",
       "      <th>32</th>\n",
       "      <td>2022-09-30</td>\n",
       "      <td>2023-09-29</td>\n",
       "      <td>40.0</td>\n",
       "      <td>60.0</td>\n",
       "      <td>251.0</td>\n",
       "      <td>3.1</td>\n",
       "      <td>0.01</td>\n",
       "      <td>1.03</td>\n",
       "      <td>-1.29</td>\n",
       "    </tr>\n",
       "    <tr>\n",
       "      <th>8</th>\n",
       "      <td>2022-09-30</td>\n",
       "      <td>2023-09-29</td>\n",
       "      <td>25.0</td>\n",
       "      <td>75.0</td>\n",
       "      <td>249.0</td>\n",
       "      <td>3.04</td>\n",
       "      <td>0.01</td>\n",
       "      <td>0.95</td>\n",
       "      <td>-1.69</td>\n",
       "    </tr>\n",
       "    <tr>\n",
       "      <th>29</th>\n",
       "      <td>2022-09-30</td>\n",
       "      <td>2023-09-29</td>\n",
       "      <td>30.0</td>\n",
       "      <td>50.0</td>\n",
       "      <td>500.0</td>\n",
       "      <td>2.98</td>\n",
       "      <td>0.01</td>\n",
       "      <td>1.24</td>\n",
       "      <td>-1.17</td>\n",
       "    </tr>\n",
       "    <tr>\n",
       "      <th>11</th>\n",
       "      <td>2022-09-30</td>\n",
       "      <td>2023-09-29</td>\n",
       "      <td>25.0</td>\n",
       "      <td>75.0</td>\n",
       "      <td>720.0</td>\n",
       "      <td>2.77</td>\n",
       "      <td>0.0</td>\n",
       "      <td>1.3</td>\n",
       "      <td>-1.69</td>\n",
       "    </tr>\n",
       "    <tr>\n",
       "      <th>41</th>\n",
       "      <td>2022-09-30</td>\n",
       "      <td>2023-09-29</td>\n",
       "      <td>60.0</td>\n",
       "      <td>80.0</td>\n",
       "      <td>494.0</td>\n",
       "      <td>2.61</td>\n",
       "      <td>0.01</td>\n",
       "      <td>3.34</td>\n",
       "      <td>-2.02</td>\n",
       "    </tr>\n",
       "    <tr>\n",
       "      <th>0</th>\n",
       "      <td>2022-09-30</td>\n",
       "      <td>2023-09-29</td>\n",
       "      <td>30.0</td>\n",
       "      <td>70.0</td>\n",
       "      <td>251.0</td>\n",
       "      <td>2.03</td>\n",
       "      <td>0.01</td>\n",
       "      <td>1.04</td>\n",
       "      <td>-1.7</td>\n",
       "    </tr>\n",
       "    <tr>\n",
       "      <th>30</th>\n",
       "      <td>2022-09-30</td>\n",
       "      <td>2023-09-29</td>\n",
       "      <td>30.0</td>\n",
       "      <td>50.0</td>\n",
       "      <td>743.0</td>\n",
       "      <td>2.0</td>\n",
       "      <td>0.0</td>\n",
       "      <td>1.24</td>\n",
       "      <td>-1.17</td>\n",
       "    </tr>\n",
       "    <tr>\n",
       "      <th>20</th>\n",
       "      <td>2022-09-30</td>\n",
       "      <td>2023-09-29</td>\n",
       "      <td>10.0</td>\n",
       "      <td>30.0</td>\n",
       "      <td>105.0</td>\n",
       "      <td>1.6</td>\n",
       "      <td>0.02</td>\n",
       "      <td>2.13</td>\n",
       "      <td>-1.13</td>\n",
       "    </tr>\n",
       "    <tr>\n",
       "      <th>5</th>\n",
       "      <td>2022-09-30</td>\n",
       "      <td>2023-09-29</td>\n",
       "      <td>20.0</td>\n",
       "      <td>80.0</td>\n",
       "      <td>403.0</td>\n",
       "      <td>1.32</td>\n",
       "      <td>0.0</td>\n",
       "      <td>1.32</td>\n",
       "      <td>-1.94</td>\n",
       "    </tr>\n",
       "    <tr>\n",
       "      <th>37</th>\n",
       "      <td>2022-09-30</td>\n",
       "      <td>2023-09-29</td>\n",
       "      <td>50.0</td>\n",
       "      <td>70.0</td>\n",
       "      <td>502.0</td>\n",
       "      <td>1.32</td>\n",
       "      <td>0.0</td>\n",
       "      <td>1.04</td>\n",
       "      <td>-1.78</td>\n",
       "    </tr>\n",
       "    <tr>\n",
       "      <th>17</th>\n",
       "      <td>2022-09-30</td>\n",
       "      <td>2023-09-29</td>\n",
       "      <td>40.0</td>\n",
       "      <td>60.0</td>\n",
       "      <td>502.0</td>\n",
       "      <td>0.73</td>\n",
       "      <td>0.0</td>\n",
       "      <td>1.03</td>\n",
       "      <td>-1.41</td>\n",
       "    </tr>\n",
       "    <tr>\n",
       "      <th>33</th>\n",
       "      <td>2022-09-30</td>\n",
       "      <td>2023-09-29</td>\n",
       "      <td>40.0</td>\n",
       "      <td>60.0</td>\n",
       "      <td>502.0</td>\n",
       "      <td>0.73</td>\n",
       "      <td>0.0</td>\n",
       "      <td>1.03</td>\n",
       "      <td>-1.41</td>\n",
       "    </tr>\n",
       "    <tr>\n",
       "      <th>34</th>\n",
       "      <td>2022-09-30</td>\n",
       "      <td>2023-09-29</td>\n",
       "      <td>40.0</td>\n",
       "      <td>60.0</td>\n",
       "      <td>753.0</td>\n",
       "      <td>0.68</td>\n",
       "      <td>0.0</td>\n",
       "      <td>1.03</td>\n",
       "      <td>-1.41</td>\n",
       "    </tr>\n",
       "    <tr>\n",
       "      <th>18</th>\n",
       "      <td>2022-09-30</td>\n",
       "      <td>2023-09-29</td>\n",
       "      <td>40.0</td>\n",
       "      <td>60.0</td>\n",
       "      <td>753.0</td>\n",
       "      <td>0.68</td>\n",
       "      <td>0.0</td>\n",
       "      <td>1.03</td>\n",
       "      <td>-1.41</td>\n",
       "    </tr>\n",
       "    <tr>\n",
       "      <th>10</th>\n",
       "      <td>2022-09-30</td>\n",
       "      <td>2023-09-29</td>\n",
       "      <td>25.0</td>\n",
       "      <td>75.0</td>\n",
       "      <td>641.0</td>\n",
       "      <td>0.17</td>\n",
       "      <td>0.0</td>\n",
       "      <td>0.95</td>\n",
       "      <td>-1.69</td>\n",
       "    </tr>\n",
       "    <tr>\n",
       "      <th>36</th>\n",
       "      <td>2022-09-30</td>\n",
       "      <td>2023-09-29</td>\n",
       "      <td>50.0</td>\n",
       "      <td>70.0</td>\n",
       "      <td>251.0</td>\n",
       "      <td>0.13</td>\n",
       "      <td>0.0</td>\n",
       "      <td>1.04</td>\n",
       "      <td>-1.78</td>\n",
       "    </tr>\n",
       "    <tr>\n",
       "      <th>22</th>\n",
       "      <td>2022-09-30</td>\n",
       "      <td>2023-09-29</td>\n",
       "      <td>10.0</td>\n",
       "      <td>30.0</td>\n",
       "      <td>135.0</td>\n",
       "      <td>0.02</td>\n",
       "      <td>0.0</td>\n",
       "      <td>2.13</td>\n",
       "      <td>-1.13</td>\n",
       "    </tr>\n",
       "    <tr>\n",
       "      <th>21</th>\n",
       "      <td>2022-09-30</td>\n",
       "      <td>2023-09-29</td>\n",
       "      <td>10.0</td>\n",
       "      <td>30.0</td>\n",
       "      <td>135.0</td>\n",
       "      <td>0.02</td>\n",
       "      <td>0.0</td>\n",
       "      <td>2.13</td>\n",
       "      <td>-1.13</td>\n",
       "    </tr>\n",
       "    <tr>\n",
       "      <th>23</th>\n",
       "      <td>2022-09-30</td>\n",
       "      <td>2023-09-29</td>\n",
       "      <td>10.0</td>\n",
       "      <td>30.0</td>\n",
       "      <td>135.0</td>\n",
       "      <td>0.02</td>\n",
       "      <td>0.0</td>\n",
       "      <td>2.13</td>\n",
       "      <td>-1.13</td>\n",
       "    </tr>\n",
       "    <tr>\n",
       "      <th>19</th>\n",
       "      <td>2022-09-30</td>\n",
       "      <td>2023-09-29</td>\n",
       "      <td>40.0</td>\n",
       "      <td>60.0</td>\n",
       "      <td>1004.0</td>\n",
       "      <td>-0.26</td>\n",
       "      <td>-0.0</td>\n",
       "      <td>1.03</td>\n",
       "      <td>-1.41</td>\n",
       "    </tr>\n",
       "    <tr>\n",
       "      <th>35</th>\n",
       "      <td>2022-09-30</td>\n",
       "      <td>2023-09-29</td>\n",
       "      <td>40.0</td>\n",
       "      <td>60.0</td>\n",
       "      <td>1004.0</td>\n",
       "      <td>-0.26</td>\n",
       "      <td>-0.0</td>\n",
       "      <td>1.03</td>\n",
       "      <td>-1.41</td>\n",
       "    </tr>\n",
       "    <tr>\n",
       "      <th>9</th>\n",
       "      <td>2022-09-30</td>\n",
       "      <td>2023-09-29</td>\n",
       "      <td>25.0</td>\n",
       "      <td>75.0</td>\n",
       "      <td>476.0</td>\n",
       "      <td>-0.99</td>\n",
       "      <td>-0.0</td>\n",
       "      <td>0.95</td>\n",
       "      <td>-1.69</td>\n",
       "    </tr>\n",
       "    <tr>\n",
       "      <th>1</th>\n",
       "      <td>2022-09-30</td>\n",
       "      <td>2023-09-29</td>\n",
       "      <td>30.0</td>\n",
       "      <td>70.0</td>\n",
       "      <td>500.0</td>\n",
       "      <td>-1.76</td>\n",
       "      <td>-0.0</td>\n",
       "      <td>1.04</td>\n",
       "      <td>-1.7</td>\n",
       "    </tr>\n",
       "    <tr>\n",
       "      <th>43</th>\n",
       "      <td>2022-09-30</td>\n",
       "      <td>2023-09-29</td>\n",
       "      <td>60.0</td>\n",
       "      <td>80.0</td>\n",
       "      <td>868.0</td>\n",
       "      <td>-5.48</td>\n",
       "      <td>-0.01</td>\n",
       "      <td>3.34</td>\n",
       "      <td>-3.33</td>\n",
       "    </tr>\n",
       "  </tbody>\n",
       "</table>\n",
       "</div>"
      ],
      "text/plain": [
       "     StartDate     EndDate Entry  Exit TotalTrades TotalPercentGain  \\\n",
       "45  2022-09-30  2023-09-29  70.0  90.0       357.0            15.35   \n",
       "27  2022-09-30  2023-09-29  20.0  40.0       663.0            11.94   \n",
       "46  2022-09-30  2023-09-29  70.0  90.0       382.0             11.6   \n",
       "47  2022-09-30  2023-09-29  70.0  90.0       384.0            11.53   \n",
       "26  2022-09-30  2023-09-29  20.0  40.0       580.0            10.91   \n",
       "6   2022-09-30  2023-09-29  20.0  80.0       452.0             8.31   \n",
       "25  2022-09-30  2023-09-29  20.0  40.0       434.0             8.15   \n",
       "44  2022-09-30  2023-09-29  70.0  90.0       251.0             8.09   \n",
       "4   2022-09-30  2023-09-29  20.0  80.0       234.0             7.92   \n",
       "2   2022-09-30  2023-09-29  30.0  70.0       726.0             7.59   \n",
       "7   2022-09-30  2023-09-29  20.0  80.0       462.0             7.42   \n",
       "14  2022-09-30  2023-09-29  35.0  65.0       753.0             7.37   \n",
       "24  2022-09-30  2023-09-29  20.0  40.0       234.0             7.14   \n",
       "40  2022-09-30  2023-09-29  60.0  80.0       251.0              7.0   \n",
       "15  2022-09-30  2023-09-29  35.0  65.0       998.0             6.15   \n",
       "39  2022-09-30  2023-09-29  50.0  70.0      1000.0             6.07   \n",
       "13  2022-09-30  2023-09-29  35.0  65.0       502.0             5.52   \n",
       "28  2022-09-30  2023-09-29  30.0  50.0       251.0             4.87   \n",
       "42  2022-09-30  2023-09-29  60.0  80.0       706.0             4.81   \n",
       "31  2022-09-30  2023-09-29  30.0  50.0       968.0             4.75   \n",
       "38  2022-09-30  2023-09-29  50.0  70.0       752.0             3.87   \n",
       "3   2022-09-30  2023-09-29  30.0  70.0       907.0             3.48   \n",
       "12  2022-09-30  2023-09-29  35.0  65.0       251.0             3.18   \n",
       "16  2022-09-30  2023-09-29  40.0  60.0       251.0              3.1   \n",
       "32  2022-09-30  2023-09-29  40.0  60.0       251.0              3.1   \n",
       "8   2022-09-30  2023-09-29  25.0  75.0       249.0             3.04   \n",
       "29  2022-09-30  2023-09-29  30.0  50.0       500.0             2.98   \n",
       "11  2022-09-30  2023-09-29  25.0  75.0       720.0             2.77   \n",
       "41  2022-09-30  2023-09-29  60.0  80.0       494.0             2.61   \n",
       "0   2022-09-30  2023-09-29  30.0  70.0       251.0             2.03   \n",
       "30  2022-09-30  2023-09-29  30.0  50.0       743.0              2.0   \n",
       "20  2022-09-30  2023-09-29  10.0  30.0       105.0              1.6   \n",
       "5   2022-09-30  2023-09-29  20.0  80.0       403.0             1.32   \n",
       "37  2022-09-30  2023-09-29  50.0  70.0       502.0             1.32   \n",
       "17  2022-09-30  2023-09-29  40.0  60.0       502.0             0.73   \n",
       "33  2022-09-30  2023-09-29  40.0  60.0       502.0             0.73   \n",
       "34  2022-09-30  2023-09-29  40.0  60.0       753.0             0.68   \n",
       "18  2022-09-30  2023-09-29  40.0  60.0       753.0             0.68   \n",
       "10  2022-09-30  2023-09-29  25.0  75.0       641.0             0.17   \n",
       "36  2022-09-30  2023-09-29  50.0  70.0       251.0             0.13   \n",
       "22  2022-09-30  2023-09-29  10.0  30.0       135.0             0.02   \n",
       "21  2022-09-30  2023-09-29  10.0  30.0       135.0             0.02   \n",
       "23  2022-09-30  2023-09-29  10.0  30.0       135.0             0.02   \n",
       "19  2022-09-30  2023-09-29  40.0  60.0      1004.0            -0.26   \n",
       "35  2022-09-30  2023-09-29  40.0  60.0      1004.0            -0.26   \n",
       "9   2022-09-30  2023-09-29  25.0  75.0       476.0            -0.99   \n",
       "1   2022-09-30  2023-09-29  30.0  70.0       500.0            -1.76   \n",
       "43  2022-09-30  2023-09-29  60.0  80.0       868.0            -5.48   \n",
       "\n",
       "   AveragePercentGain MaxPercentGain MinPercentGain  \n",
       "45               0.04           3.59          -2.18  \n",
       "27               0.02           1.65          -0.88  \n",
       "46               0.03           3.59          -2.91  \n",
       "47               0.03           3.59          -2.91  \n",
       "26               0.02           1.65          -0.88  \n",
       "6                0.02           1.52          -1.94  \n",
       "25               0.02           1.27          -0.88  \n",
       "44               0.03           3.59          -2.18  \n",
       "4                0.03           1.32          -1.63  \n",
       "2                0.01           1.04           -1.7  \n",
       "7                0.02           1.52          -1.94  \n",
       "14               0.01           1.07           -1.5  \n",
       "24               0.03           1.27          -0.88  \n",
       "40               0.03           3.34          -2.02  \n",
       "15               0.01           1.07           -1.5  \n",
       "39               0.01           1.04          -1.78  \n",
       "13               0.01           1.07           -1.5  \n",
       "28               0.02           1.24          -0.93  \n",
       "42               0.01           3.34          -2.02  \n",
       "31                0.0           1.24          -1.17  \n",
       "38               0.01           1.04          -1.78  \n",
       "3                 0.0           1.25           -1.7  \n",
       "12               0.01           0.93          -1.39  \n",
       "16               0.01           1.03          -1.29  \n",
       "32               0.01           1.03          -1.29  \n",
       "8                0.01           0.95          -1.69  \n",
       "29               0.01           1.24          -1.17  \n",
       "11                0.0            1.3          -1.69  \n",
       "41               0.01           3.34          -2.02  \n",
       "0                0.01           1.04           -1.7  \n",
       "30                0.0           1.24          -1.17  \n",
       "20               0.02           2.13          -1.13  \n",
       "5                 0.0           1.32          -1.94  \n",
       "37                0.0           1.04          -1.78  \n",
       "17                0.0           1.03          -1.41  \n",
       "33                0.0           1.03          -1.41  \n",
       "34                0.0           1.03          -1.41  \n",
       "18                0.0           1.03          -1.41  \n",
       "10                0.0           0.95          -1.69  \n",
       "36                0.0           1.04          -1.78  \n",
       "22                0.0           2.13          -1.13  \n",
       "21                0.0           2.13          -1.13  \n",
       "23                0.0           2.13          -1.13  \n",
       "19               -0.0           1.03          -1.41  \n",
       "35               -0.0           1.03          -1.41  \n",
       "9                -0.0           0.95          -1.69  \n",
       "1                -0.0           1.04           -1.7  \n",
       "43              -0.01           3.34          -3.33  "
      ]
     },
     "execution_count": 190,
     "metadata": {},
     "output_type": "execute_result"
    }
   ],
   "source": [
    "# # sort by total percent gain\n",
    "# results = results.sort_values(by=[\"TotalPercentGain\"], ascending=False)\n",
    "# results"
   ]
  },
  {
   "cell_type": "code",
   "execution_count": 195,
   "metadata": {},
   "outputs": [
    {
     "name": "stdout",
     "output_type": "stream",
     "text": [
      "testing ENTER/EXIT/MAXTRADES: 30 70 1\n",
      "testing ENTER/EXIT/MAXTRADES: 35 65 1\n",
      "testing ENTER/EXIT/MAXTRADES: 40 60 1\n",
      "testing ENTER/EXIT/MAXTRADES: 20 40 1\n",
      "testing ENTER/EXIT/MAXTRADES: 60 80 1\n",
      "testing ENTER/EXIT/MAXTRADES: 70 90 1\n"
     ]
    }
   ],
   "source": [
    "# Full stack experiment\n",
    "\n",
    "ticker = \"AAPL\"\n",
    "\n",
    "df = load_data(ticker)\n",
    "df = RSI(df, 14)\n",
    "\n",
    "max_trade_options = [1]\n",
    "entry_exit_pairs = [(30, 70),(35, 65),(40, 60),(20, 40),(60, 80),(70, 90)]\n",
    "\n",
    "results = pd.DataFrame(\n",
    "    columns=[\n",
    "        \"StartDate\",\"EndDate\",\"Entry\",\"Exit\",\"TotalTrades\",\n",
    "        \"TotalPercentGain\",\"AveragePercentGain\",\"MaxPercentGain\",\"MinPercentGain\"])\n",
    "\n",
    "for e in entry_exit_pairs:\n",
    "    for f in max_trade_options:\n",
    "        print(\"testing ENTER/EXIT/MAXTRADES:\", e[0], e[1], f)\n",
    "        trades = simulate_date_range(datetime.date(2022, 9, 30), datetime.date(2023, 9, 30), e[0], e[1], f, df)\n",
    "        pnl = rsi_ranged_backtest_single_pnl(trades, e[0], e[1], f)\n",
    "        results.loc[len(results)] = pnl.loc[0]"
   ]
  },
  {
   "cell_type": "code",
   "execution_count": 194,
   "metadata": {},
   "outputs": [
    {
     "data": {
      "text/html": [
       "<div>\n",
       "<style scoped>\n",
       "    .dataframe tbody tr th:only-of-type {\n",
       "        vertical-align: middle;\n",
       "    }\n",
       "\n",
       "    .dataframe tbody tr th {\n",
       "        vertical-align: top;\n",
       "    }\n",
       "\n",
       "    .dataframe thead th {\n",
       "        text-align: right;\n",
       "    }\n",
       "</style>\n",
       "<table border=\"1\" class=\"dataframe\">\n",
       "  <thead>\n",
       "    <tr style=\"text-align: right;\">\n",
       "      <th></th>\n",
       "      <th>StartDate</th>\n",
       "      <th>EndDate</th>\n",
       "      <th>Entry</th>\n",
       "      <th>Exit</th>\n",
       "      <th>TotalTrades</th>\n",
       "      <th>TotalPercentGain</th>\n",
       "      <th>AveragePercentGain</th>\n",
       "      <th>MaxPercentGain</th>\n",
       "      <th>MinPercentGain</th>\n",
       "    </tr>\n",
       "  </thead>\n",
       "  <tbody>\n",
       "    <tr>\n",
       "      <th>6</th>\n",
       "      <td>2022-09-30</td>\n",
       "      <td>2023-09-29</td>\n",
       "      <td>70.0</td>\n",
       "      <td>90.0</td>\n",
       "      <td>251.0</td>\n",
       "      <td>19.84</td>\n",
       "      <td>0.08</td>\n",
       "      <td>4.73</td>\n",
       "      <td>-2.97</td>\n",
       "    </tr>\n",
       "    <tr>\n",
       "      <th>5</th>\n",
       "      <td>2022-09-30</td>\n",
       "      <td>2023-09-29</td>\n",
       "      <td>60.0</td>\n",
       "      <td>80.0</td>\n",
       "      <td>251.0</td>\n",
       "      <td>17.59</td>\n",
       "      <td>0.07</td>\n",
       "      <td>2.07</td>\n",
       "      <td>-2.96</td>\n",
       "    </tr>\n",
       "    <tr>\n",
       "      <th>2</th>\n",
       "      <td>2022-09-30</td>\n",
       "      <td>2023-09-29</td>\n",
       "      <td>40.0</td>\n",
       "      <td>60.0</td>\n",
       "      <td>251.0</td>\n",
       "      <td>0.29</td>\n",
       "      <td>0.0</td>\n",
       "      <td>1.5</td>\n",
       "      <td>-4.03</td>\n",
       "    </tr>\n",
       "    <tr>\n",
       "      <th>4</th>\n",
       "      <td>2022-09-30</td>\n",
       "      <td>2023-09-29</td>\n",
       "      <td>40.0</td>\n",
       "      <td>60.0</td>\n",
       "      <td>251.0</td>\n",
       "      <td>0.29</td>\n",
       "      <td>0.0</td>\n",
       "      <td>1.5</td>\n",
       "      <td>-4.03</td>\n",
       "    </tr>\n",
       "    <tr>\n",
       "      <th>3</th>\n",
       "      <td>2022-09-30</td>\n",
       "      <td>2023-09-29</td>\n",
       "      <td>20.0</td>\n",
       "      <td>40.0</td>\n",
       "      <td>239.0</td>\n",
       "      <td>-2.02</td>\n",
       "      <td>-0.01</td>\n",
       "      <td>2.21</td>\n",
       "      <td>-2.64</td>\n",
       "    </tr>\n",
       "    <tr>\n",
       "      <th>0</th>\n",
       "      <td>2022-09-30</td>\n",
       "      <td>2023-09-29</td>\n",
       "      <td>30.0</td>\n",
       "      <td>70.0</td>\n",
       "      <td>251.0</td>\n",
       "      <td>-2.75</td>\n",
       "      <td>-0.01</td>\n",
       "      <td>1.61</td>\n",
       "      <td>-3.98</td>\n",
       "    </tr>\n",
       "    <tr>\n",
       "      <th>1</th>\n",
       "      <td>2022-09-30</td>\n",
       "      <td>2023-09-29</td>\n",
       "      <td>35.0</td>\n",
       "      <td>65.0</td>\n",
       "      <td>251.0</td>\n",
       "      <td>-4.49</td>\n",
       "      <td>-0.02</td>\n",
       "      <td>1.19</td>\n",
       "      <td>-3.85</td>\n",
       "    </tr>\n",
       "  </tbody>\n",
       "</table>\n",
       "</div>"
      ],
      "text/plain": [
       "    StartDate     EndDate Entry  Exit TotalTrades TotalPercentGain  \\\n",
       "6  2022-09-30  2023-09-29  70.0  90.0       251.0            19.84   \n",
       "5  2022-09-30  2023-09-29  60.0  80.0       251.0            17.59   \n",
       "2  2022-09-30  2023-09-29  40.0  60.0       251.0             0.29   \n",
       "4  2022-09-30  2023-09-29  40.0  60.0       251.0             0.29   \n",
       "3  2022-09-30  2023-09-29  20.0  40.0       239.0            -2.02   \n",
       "0  2022-09-30  2023-09-29  30.0  70.0       251.0            -2.75   \n",
       "1  2022-09-30  2023-09-29  35.0  65.0       251.0            -4.49   \n",
       "\n",
       "  AveragePercentGain MaxPercentGain MinPercentGain  \n",
       "6               0.08           4.73          -2.97  \n",
       "5               0.07           2.07          -2.96  \n",
       "2                0.0            1.5          -4.03  \n",
       "4                0.0            1.5          -4.03  \n",
       "3              -0.01           2.21          -2.64  \n",
       "0              -0.01           1.61          -3.98  \n",
       "1              -0.02           1.19          -3.85  "
      ]
     },
     "execution_count": 194,
     "metadata": {},
     "output_type": "execute_result"
    }
   ],
   "source": [
    "results = results.sort_values(by=[\"TotalPercentGain\"], ascending=False)\n",
    "results"
   ]
  },
  {
   "cell_type": "markdown",
   "metadata": {},
   "source": [
    "So far, APPL and SPY both do best with the 70/90 strat. try more tickers"
   ]
  },
  {
   "cell_type": "code",
   "execution_count": 197,
   "metadata": {},
   "outputs": [
    {
     "name": "stdout",
     "output_type": "stream",
     "text": [
      "testing TICKER/ENTER/EXIT/MAXTRADES: AAPL 30 70 1\n",
      "testing TICKER/ENTER/EXIT/MAXTRADES: AMZN 30 70 1\n",
      "testing TICKER/ENTER/EXIT/MAXTRADES: META 30 70 1\n",
      "testing TICKER/ENTER/EXIT/MAXTRADES: MSFT 30 70 1\n",
      "testing TICKER/ENTER/EXIT/MAXTRADES: TSLA 30 70 1\n",
      "testing TICKER/ENTER/EXIT/MAXTRADES: AAPL 40 60 1\n",
      "testing TICKER/ENTER/EXIT/MAXTRADES: AMZN 40 60 1\n",
      "testing TICKER/ENTER/EXIT/MAXTRADES: META 40 60 1\n",
      "testing TICKER/ENTER/EXIT/MAXTRADES: MSFT 40 60 1\n",
      "testing TICKER/ENTER/EXIT/MAXTRADES: TSLA 40 60 1\n"
     ]
    }
   ],
   "source": [
    "# Full stack experiment\n",
    "\n",
    "tickers = ['AAPL', 'AMZN', 'META', 'MSFT', 'TSLA']\n",
    "max_trade_options = [1]\n",
    "entry_exit_pairs = [(30, 70),(40, 60)]\n",
    "\n",
    "results = pd.DataFrame(\n",
    "    columns=[\n",
    "        \"Ticker\",\"StartDate\",\"EndDate\",\"Entry\",\"Exit\",\"TotalTrades\",\n",
    "        \"TotalPercentGain\",\"AveragePercentGain\",\"MaxPercentGain\",\"MinPercentGain\"])\n",
    "\n",
    "for e in entry_exit_pairs:\n",
    "    for f in max_trade_options:\n",
    "        for g in tickers:\n",
    "\n",
    "            df = load_data(g)\n",
    "            df = RSI(df, 14)\n",
    "\n",
    "            print(\"testing TICKER/ENTER/EXIT/MAXTRADES:\", g, e[0], e[1], f)\n",
    "            trades = simulate_date_range(datetime.date(2022, 9, 30), datetime.date(2023, 9, 30), e[0], e[1], f, df)\n",
    "            pnl = rsi_ranged_backtest_single_pnl(trades, e[0], e[1], f, g)\n",
    "            results.loc[len(results)] = pnl.loc[0]\n",
    "\n",
    "results = results.sort_values(by=[\"TotalPercentGain\"], ascending=False)"
   ]
  },
  {
   "cell_type": "code",
   "execution_count": 200,
   "metadata": {},
   "outputs": [],
   "source": [
    "def multi_rsi_backtest(tickers, max_trades, indicator_pairs):\n",
    "    results = pd.DataFrame(\n",
    "        columns=[\n",
    "            \"Ticker\",\"StartDate\",\"EndDate\",\"Entry\",\"Exit\",\"TotalTrades\",\n",
    "            \"TotalPercentGain\",\"AveragePercentGain\",\"MaxPercentGain\",\"MinPercentGain\"])\n",
    "\n",
    "    for e in indicator_pairs:\n",
    "        for f in max_trades:\n",
    "            for g in tickers:\n",
    "\n",
    "                df = load_data(g)\n",
    "                df = RSI(df, 14)\n",
    "\n",
    "                print(\"testing TICKER/ENTER/EXIT/MAXTRADES:\", g, e[0], e[1], f)\n",
    "                trades = simulate_date_range(datetime.date(2022, 9, 30), datetime.date(2023, 9, 30), e[0], e[1], f, df)\n",
    "                pnl = rsi_ranged_backtest_single_pnl(trades, e[0], e[1], f, g)\n",
    "                results.loc[len(results)] = pnl.loc[0]\n",
    "\n",
    "    results = results.sort_values(by=[\"TotalPercentGain\"], ascending=False)\n",
    "    return results"
   ]
  },
  {
   "cell_type": "code",
   "execution_count": 201,
   "metadata": {},
   "outputs": [
    {
     "name": "stdout",
     "output_type": "stream",
     "text": [
      "testing TICKER/ENTER/EXIT/MAXTRADES: AAPL 30 70 1\n",
      "testing TICKER/ENTER/EXIT/MAXTRADES: AMZN 30 70 1\n",
      "testing TICKER/ENTER/EXIT/MAXTRADES: META 30 70 1\n",
      "testing TICKER/ENTER/EXIT/MAXTRADES: MSFT 30 70 1\n",
      "testing TICKER/ENTER/EXIT/MAXTRADES: TSLA 30 70 1\n",
      "testing TICKER/ENTER/EXIT/MAXTRADES: AAPL 40 60 1\n",
      "testing TICKER/ENTER/EXIT/MAXTRADES: AMZN 40 60 1\n",
      "testing TICKER/ENTER/EXIT/MAXTRADES: META 40 60 1\n",
      "testing TICKER/ENTER/EXIT/MAXTRADES: MSFT 40 60 1\n",
      "testing TICKER/ENTER/EXIT/MAXTRADES: TSLA 40 60 1\n"
     ]
    }
   ],
   "source": [
    "tickers = ['AAPL', 'AMZN', 'META', 'MSFT', 'TSLA']\n",
    "max_trade_options = [1]\n",
    "entry_exit_pairs = [(30, 70),(40, 60)]\n",
    "\n",
    "results = multi_rsi_backtest(tickers, max_trade_options, entry_exit_pairs)"
   ]
  },
  {
   "cell_type": "code",
   "execution_count": 203,
   "metadata": {},
   "outputs": [
    {
     "data": {
      "text/html": [
       "<div>\n",
       "<style scoped>\n",
       "    .dataframe tbody tr th:only-of-type {\n",
       "        vertical-align: middle;\n",
       "    }\n",
       "\n",
       "    .dataframe tbody tr th {\n",
       "        vertical-align: top;\n",
       "    }\n",
       "\n",
       "    .dataframe thead th {\n",
       "        text-align: right;\n",
       "    }\n",
       "</style>\n",
       "<table border=\"1\" class=\"dataframe\">\n",
       "  <thead>\n",
       "    <tr style=\"text-align: right;\">\n",
       "      <th></th>\n",
       "      <th>Ticker</th>\n",
       "      <th>StartDate</th>\n",
       "      <th>EndDate</th>\n",
       "      <th>Entry</th>\n",
       "      <th>Exit</th>\n",
       "      <th>TotalTrades</th>\n",
       "      <th>TotalPercentGain</th>\n",
       "      <th>AveragePercentGain</th>\n",
       "      <th>MaxPercentGain</th>\n",
       "      <th>MinPercentGain</th>\n",
       "    </tr>\n",
       "  </thead>\n",
       "  <tbody>\n",
       "    <tr>\n",
       "      <th>2</th>\n",
       "      <td>META</td>\n",
       "      <td>2022-09-30</td>\n",
       "      <td>2023-09-29</td>\n",
       "      <td>30.0</td>\n",
       "      <td>70.0</td>\n",
       "      <td>251.0</td>\n",
       "      <td>32.31</td>\n",
       "      <td>0.13</td>\n",
       "      <td>1.88</td>\n",
       "      <td>-2.88</td>\n",
       "    </tr>\n",
       "    <tr>\n",
       "      <th>7</th>\n",
       "      <td>META</td>\n",
       "      <td>2022-09-30</td>\n",
       "      <td>2023-09-29</td>\n",
       "      <td>40.0</td>\n",
       "      <td>60.0</td>\n",
       "      <td>251.0</td>\n",
       "      <td>17.8</td>\n",
       "      <td>0.07</td>\n",
       "      <td>2.76</td>\n",
       "      <td>-2.56</td>\n",
       "    </tr>\n",
       "    <tr>\n",
       "      <th>9</th>\n",
       "      <td>TSLA</td>\n",
       "      <td>2022-09-30</td>\n",
       "      <td>2023-09-29</td>\n",
       "      <td>40.0</td>\n",
       "      <td>60.0</td>\n",
       "      <td>251.0</td>\n",
       "      <td>10.61</td>\n",
       "      <td>0.04</td>\n",
       "      <td>4.59</td>\n",
       "      <td>-4.45</td>\n",
       "    </tr>\n",
       "    <tr>\n",
       "      <th>5</th>\n",
       "      <td>AAPL</td>\n",
       "      <td>2022-09-30</td>\n",
       "      <td>2023-09-29</td>\n",
       "      <td>40.0</td>\n",
       "      <td>60.0</td>\n",
       "      <td>251.0</td>\n",
       "      <td>0.29</td>\n",
       "      <td>0.0</td>\n",
       "      <td>1.5</td>\n",
       "      <td>-4.03</td>\n",
       "    </tr>\n",
       "    <tr>\n",
       "      <th>6</th>\n",
       "      <td>AMZN</td>\n",
       "      <td>2022-09-30</td>\n",
       "      <td>2023-09-29</td>\n",
       "      <td>40.0</td>\n",
       "      <td>60.0</td>\n",
       "      <td>251.0</td>\n",
       "      <td>-0.38</td>\n",
       "      <td>-0.0</td>\n",
       "      <td>2.77</td>\n",
       "      <td>-5.07</td>\n",
       "    </tr>\n",
       "    <tr>\n",
       "      <th>1</th>\n",
       "      <td>AMZN</td>\n",
       "      <td>2022-09-30</td>\n",
       "      <td>2023-09-29</td>\n",
       "      <td>30.0</td>\n",
       "      <td>70.0</td>\n",
       "      <td>251.0</td>\n",
       "      <td>-1.68</td>\n",
       "      <td>-0.01</td>\n",
       "      <td>3.46</td>\n",
       "      <td>-6.42</td>\n",
       "    </tr>\n",
       "    <tr>\n",
       "      <th>3</th>\n",
       "      <td>MSFT</td>\n",
       "      <td>2022-09-30</td>\n",
       "      <td>2023-09-29</td>\n",
       "      <td>30.0</td>\n",
       "      <td>70.0</td>\n",
       "      <td>251.0</td>\n",
       "      <td>-2.05</td>\n",
       "      <td>-0.01</td>\n",
       "      <td>1.6</td>\n",
       "      <td>-2.3</td>\n",
       "    </tr>\n",
       "    <tr>\n",
       "      <th>0</th>\n",
       "      <td>AAPL</td>\n",
       "      <td>2022-09-30</td>\n",
       "      <td>2023-09-29</td>\n",
       "      <td>30.0</td>\n",
       "      <td>70.0</td>\n",
       "      <td>251.0</td>\n",
       "      <td>-2.75</td>\n",
       "      <td>-0.01</td>\n",
       "      <td>1.61</td>\n",
       "      <td>-3.98</td>\n",
       "    </tr>\n",
       "    <tr>\n",
       "      <th>8</th>\n",
       "      <td>MSFT</td>\n",
       "      <td>2022-09-30</td>\n",
       "      <td>2023-09-29</td>\n",
       "      <td>40.0</td>\n",
       "      <td>60.0</td>\n",
       "      <td>251.0</td>\n",
       "      <td>-3.37</td>\n",
       "      <td>-0.01</td>\n",
       "      <td>1.55</td>\n",
       "      <td>-1.94</td>\n",
       "    </tr>\n",
       "    <tr>\n",
       "      <th>4</th>\n",
       "      <td>TSLA</td>\n",
       "      <td>2022-09-30</td>\n",
       "      <td>2023-09-29</td>\n",
       "      <td>30.0</td>\n",
       "      <td>70.0</td>\n",
       "      <td>251.0</td>\n",
       "      <td>-8.59</td>\n",
       "      <td>-0.03</td>\n",
       "      <td>3.81</td>\n",
       "      <td>-8.31</td>\n",
       "    </tr>\n",
       "  </tbody>\n",
       "</table>\n",
       "</div>"
      ],
      "text/plain": [
       "  Ticker   StartDate     EndDate Entry  Exit TotalTrades TotalPercentGain  \\\n",
       "2   META  2022-09-30  2023-09-29  30.0  70.0       251.0            32.31   \n",
       "7   META  2022-09-30  2023-09-29  40.0  60.0       251.0             17.8   \n",
       "9   TSLA  2022-09-30  2023-09-29  40.0  60.0       251.0            10.61   \n",
       "5   AAPL  2022-09-30  2023-09-29  40.0  60.0       251.0             0.29   \n",
       "6   AMZN  2022-09-30  2023-09-29  40.0  60.0       251.0            -0.38   \n",
       "1   AMZN  2022-09-30  2023-09-29  30.0  70.0       251.0            -1.68   \n",
       "3   MSFT  2022-09-30  2023-09-29  30.0  70.0       251.0            -2.05   \n",
       "0   AAPL  2022-09-30  2023-09-29  30.0  70.0       251.0            -2.75   \n",
       "8   MSFT  2022-09-30  2023-09-29  40.0  60.0       251.0            -3.37   \n",
       "4   TSLA  2022-09-30  2023-09-29  30.0  70.0       251.0            -8.59   \n",
       "\n",
       "  AveragePercentGain MaxPercentGain MinPercentGain  \n",
       "2               0.13           1.88          -2.88  \n",
       "7               0.07           2.76          -2.56  \n",
       "9               0.04           4.59          -4.45  \n",
       "5                0.0            1.5          -4.03  \n",
       "6               -0.0           2.77          -5.07  \n",
       "1              -0.01           3.46          -6.42  \n",
       "3              -0.01            1.6           -2.3  \n",
       "0              -0.01           1.61          -3.98  \n",
       "8              -0.01           1.55          -1.94  \n",
       "4              -0.03           3.81          -8.31  "
      ]
     },
     "execution_count": 203,
     "metadata": {},
     "output_type": "execute_result"
    }
   ],
   "source": [
    "results"
   ]
  },
  {
   "cell_type": "code",
   "execution_count": 205,
   "metadata": {},
   "outputs": [
    {
     "data": {
      "application/vnd.plotly.v1+json": {
       "config": {
        "plotlyServerURL": "https://plot.ly"
       },
       "data": [
        {
         "coloraxis": "coloraxis",
         "histfunc": "sum",
         "hovertemplate": "Exit=%{x}<br>Entry=%{y}<br>sum of TotalPercentGain=%{z}<extra></extra>",
         "name": "",
         "type": "histogram2d",
         "x": [
          70,
          60,
          60,
          60,
          60,
          70,
          70,
          70,
          60,
          70
         ],
         "xaxis": "x",
         "xbingroup": "x",
         "y": [
          30,
          40,
          40,
          40,
          40,
          30,
          30,
          30,
          40,
          30
         ],
         "yaxis": "y",
         "ybingroup": "y",
         "z": [
          32.31,
          17.8,
          10.61,
          0.29,
          -0.38,
          -1.68,
          -2.05,
          -2.75,
          -3.37,
          -8.59
         ]
        }
       ],
       "layout": {
        "coloraxis": {
         "colorbar": {
          "title": {
           "text": "sum of TotalPercentGain"
          }
         },
         "colorscale": [
          [
           0,
           "#440154"
          ],
          [
           0.1111111111111111,
           "#482878"
          ],
          [
           0.2222222222222222,
           "#3e4989"
          ],
          [
           0.3333333333333333,
           "#31688e"
          ],
          [
           0.4444444444444444,
           "#26828e"
          ],
          [
           0.5555555555555556,
           "#1f9e89"
          ],
          [
           0.6666666666666666,
           "#35b779"
          ],
          [
           0.7777777777777778,
           "#6ece58"
          ],
          [
           0.8888888888888888,
           "#b5de2b"
          ],
          [
           1,
           "#fde725"
          ]
         ]
        },
        "legend": {
         "tracegroupgap": 0
        },
        "template": {
         "data": {
          "bar": [
           {
            "error_x": {
             "color": "#2a3f5f"
            },
            "error_y": {
             "color": "#2a3f5f"
            },
            "marker": {
             "line": {
              "color": "#E5ECF6",
              "width": 0.5
             },
             "pattern": {
              "fillmode": "overlay",
              "size": 10,
              "solidity": 0.2
             }
            },
            "type": "bar"
           }
          ],
          "barpolar": [
           {
            "marker": {
             "line": {
              "color": "#E5ECF6",
              "width": 0.5
             },
             "pattern": {
              "fillmode": "overlay",
              "size": 10,
              "solidity": 0.2
             }
            },
            "type": "barpolar"
           }
          ],
          "carpet": [
           {
            "aaxis": {
             "endlinecolor": "#2a3f5f",
             "gridcolor": "white",
             "linecolor": "white",
             "minorgridcolor": "white",
             "startlinecolor": "#2a3f5f"
            },
            "baxis": {
             "endlinecolor": "#2a3f5f",
             "gridcolor": "white",
             "linecolor": "white",
             "minorgridcolor": "white",
             "startlinecolor": "#2a3f5f"
            },
            "type": "carpet"
           }
          ],
          "choropleth": [
           {
            "colorbar": {
             "outlinewidth": 0,
             "ticks": ""
            },
            "type": "choropleth"
           }
          ],
          "contour": [
           {
            "colorbar": {
             "outlinewidth": 0,
             "ticks": ""
            },
            "colorscale": [
             [
              0,
              "#0d0887"
             ],
             [
              0.1111111111111111,
              "#46039f"
             ],
             [
              0.2222222222222222,
              "#7201a8"
             ],
             [
              0.3333333333333333,
              "#9c179e"
             ],
             [
              0.4444444444444444,
              "#bd3786"
             ],
             [
              0.5555555555555556,
              "#d8576b"
             ],
             [
              0.6666666666666666,
              "#ed7953"
             ],
             [
              0.7777777777777778,
              "#fb9f3a"
             ],
             [
              0.8888888888888888,
              "#fdca26"
             ],
             [
              1,
              "#f0f921"
             ]
            ],
            "type": "contour"
           }
          ],
          "contourcarpet": [
           {
            "colorbar": {
             "outlinewidth": 0,
             "ticks": ""
            },
            "type": "contourcarpet"
           }
          ],
          "heatmap": [
           {
            "colorbar": {
             "outlinewidth": 0,
             "ticks": ""
            },
            "colorscale": [
             [
              0,
              "#0d0887"
             ],
             [
              0.1111111111111111,
              "#46039f"
             ],
             [
              0.2222222222222222,
              "#7201a8"
             ],
             [
              0.3333333333333333,
              "#9c179e"
             ],
             [
              0.4444444444444444,
              "#bd3786"
             ],
             [
              0.5555555555555556,
              "#d8576b"
             ],
             [
              0.6666666666666666,
              "#ed7953"
             ],
             [
              0.7777777777777778,
              "#fb9f3a"
             ],
             [
              0.8888888888888888,
              "#fdca26"
             ],
             [
              1,
              "#f0f921"
             ]
            ],
            "type": "heatmap"
           }
          ],
          "heatmapgl": [
           {
            "colorbar": {
             "outlinewidth": 0,
             "ticks": ""
            },
            "colorscale": [
             [
              0,
              "#0d0887"
             ],
             [
              0.1111111111111111,
              "#46039f"
             ],
             [
              0.2222222222222222,
              "#7201a8"
             ],
             [
              0.3333333333333333,
              "#9c179e"
             ],
             [
              0.4444444444444444,
              "#bd3786"
             ],
             [
              0.5555555555555556,
              "#d8576b"
             ],
             [
              0.6666666666666666,
              "#ed7953"
             ],
             [
              0.7777777777777778,
              "#fb9f3a"
             ],
             [
              0.8888888888888888,
              "#fdca26"
             ],
             [
              1,
              "#f0f921"
             ]
            ],
            "type": "heatmapgl"
           }
          ],
          "histogram": [
           {
            "marker": {
             "pattern": {
              "fillmode": "overlay",
              "size": 10,
              "solidity": 0.2
             }
            },
            "type": "histogram"
           }
          ],
          "histogram2d": [
           {
            "colorbar": {
             "outlinewidth": 0,
             "ticks": ""
            },
            "colorscale": [
             [
              0,
              "#0d0887"
             ],
             [
              0.1111111111111111,
              "#46039f"
             ],
             [
              0.2222222222222222,
              "#7201a8"
             ],
             [
              0.3333333333333333,
              "#9c179e"
             ],
             [
              0.4444444444444444,
              "#bd3786"
             ],
             [
              0.5555555555555556,
              "#d8576b"
             ],
             [
              0.6666666666666666,
              "#ed7953"
             ],
             [
              0.7777777777777778,
              "#fb9f3a"
             ],
             [
              0.8888888888888888,
              "#fdca26"
             ],
             [
              1,
              "#f0f921"
             ]
            ],
            "type": "histogram2d"
           }
          ],
          "histogram2dcontour": [
           {
            "colorbar": {
             "outlinewidth": 0,
             "ticks": ""
            },
            "colorscale": [
             [
              0,
              "#0d0887"
             ],
             [
              0.1111111111111111,
              "#46039f"
             ],
             [
              0.2222222222222222,
              "#7201a8"
             ],
             [
              0.3333333333333333,
              "#9c179e"
             ],
             [
              0.4444444444444444,
              "#bd3786"
             ],
             [
              0.5555555555555556,
              "#d8576b"
             ],
             [
              0.6666666666666666,
              "#ed7953"
             ],
             [
              0.7777777777777778,
              "#fb9f3a"
             ],
             [
              0.8888888888888888,
              "#fdca26"
             ],
             [
              1,
              "#f0f921"
             ]
            ],
            "type": "histogram2dcontour"
           }
          ],
          "mesh3d": [
           {
            "colorbar": {
             "outlinewidth": 0,
             "ticks": ""
            },
            "type": "mesh3d"
           }
          ],
          "parcoords": [
           {
            "line": {
             "colorbar": {
              "outlinewidth": 0,
              "ticks": ""
             }
            },
            "type": "parcoords"
           }
          ],
          "pie": [
           {
            "automargin": true,
            "type": "pie"
           }
          ],
          "scatter": [
           {
            "fillpattern": {
             "fillmode": "overlay",
             "size": 10,
             "solidity": 0.2
            },
            "type": "scatter"
           }
          ],
          "scatter3d": [
           {
            "line": {
             "colorbar": {
              "outlinewidth": 0,
              "ticks": ""
             }
            },
            "marker": {
             "colorbar": {
              "outlinewidth": 0,
              "ticks": ""
             }
            },
            "type": "scatter3d"
           }
          ],
          "scattercarpet": [
           {
            "marker": {
             "colorbar": {
              "outlinewidth": 0,
              "ticks": ""
             }
            },
            "type": "scattercarpet"
           }
          ],
          "scattergeo": [
           {
            "marker": {
             "colorbar": {
              "outlinewidth": 0,
              "ticks": ""
             }
            },
            "type": "scattergeo"
           }
          ],
          "scattergl": [
           {
            "marker": {
             "colorbar": {
              "outlinewidth": 0,
              "ticks": ""
             }
            },
            "type": "scattergl"
           }
          ],
          "scattermapbox": [
           {
            "marker": {
             "colorbar": {
              "outlinewidth": 0,
              "ticks": ""
             }
            },
            "type": "scattermapbox"
           }
          ],
          "scatterpolar": [
           {
            "marker": {
             "colorbar": {
              "outlinewidth": 0,
              "ticks": ""
             }
            },
            "type": "scatterpolar"
           }
          ],
          "scatterpolargl": [
           {
            "marker": {
             "colorbar": {
              "outlinewidth": 0,
              "ticks": ""
             }
            },
            "type": "scatterpolargl"
           }
          ],
          "scatterternary": [
           {
            "marker": {
             "colorbar": {
              "outlinewidth": 0,
              "ticks": ""
             }
            },
            "type": "scatterternary"
           }
          ],
          "surface": [
           {
            "colorbar": {
             "outlinewidth": 0,
             "ticks": ""
            },
            "colorscale": [
             [
              0,
              "#0d0887"
             ],
             [
              0.1111111111111111,
              "#46039f"
             ],
             [
              0.2222222222222222,
              "#7201a8"
             ],
             [
              0.3333333333333333,
              "#9c179e"
             ],
             [
              0.4444444444444444,
              "#bd3786"
             ],
             [
              0.5555555555555556,
              "#d8576b"
             ],
             [
              0.6666666666666666,
              "#ed7953"
             ],
             [
              0.7777777777777778,
              "#fb9f3a"
             ],
             [
              0.8888888888888888,
              "#fdca26"
             ],
             [
              1,
              "#f0f921"
             ]
            ],
            "type": "surface"
           }
          ],
          "table": [
           {
            "cells": {
             "fill": {
              "color": "#EBF0F8"
             },
             "line": {
              "color": "white"
             }
            },
            "header": {
             "fill": {
              "color": "#C8D4E3"
             },
             "line": {
              "color": "white"
             }
            },
            "type": "table"
           }
          ]
         },
         "layout": {
          "annotationdefaults": {
           "arrowcolor": "#2a3f5f",
           "arrowhead": 0,
           "arrowwidth": 1
          },
          "autotypenumbers": "strict",
          "coloraxis": {
           "colorbar": {
            "outlinewidth": 0,
            "ticks": ""
           }
          },
          "colorscale": {
           "diverging": [
            [
             0,
             "#8e0152"
            ],
            [
             0.1,
             "#c51b7d"
            ],
            [
             0.2,
             "#de77ae"
            ],
            [
             0.3,
             "#f1b6da"
            ],
            [
             0.4,
             "#fde0ef"
            ],
            [
             0.5,
             "#f7f7f7"
            ],
            [
             0.6,
             "#e6f5d0"
            ],
            [
             0.7,
             "#b8e186"
            ],
            [
             0.8,
             "#7fbc41"
            ],
            [
             0.9,
             "#4d9221"
            ],
            [
             1,
             "#276419"
            ]
           ],
           "sequential": [
            [
             0,
             "#0d0887"
            ],
            [
             0.1111111111111111,
             "#46039f"
            ],
            [
             0.2222222222222222,
             "#7201a8"
            ],
            [
             0.3333333333333333,
             "#9c179e"
            ],
            [
             0.4444444444444444,
             "#bd3786"
            ],
            [
             0.5555555555555556,
             "#d8576b"
            ],
            [
             0.6666666666666666,
             "#ed7953"
            ],
            [
             0.7777777777777778,
             "#fb9f3a"
            ],
            [
             0.8888888888888888,
             "#fdca26"
            ],
            [
             1,
             "#f0f921"
            ]
           ],
           "sequentialminus": [
            [
             0,
             "#0d0887"
            ],
            [
             0.1111111111111111,
             "#46039f"
            ],
            [
             0.2222222222222222,
             "#7201a8"
            ],
            [
             0.3333333333333333,
             "#9c179e"
            ],
            [
             0.4444444444444444,
             "#bd3786"
            ],
            [
             0.5555555555555556,
             "#d8576b"
            ],
            [
             0.6666666666666666,
             "#ed7953"
            ],
            [
             0.7777777777777778,
             "#fb9f3a"
            ],
            [
             0.8888888888888888,
             "#fdca26"
            ],
            [
             1,
             "#f0f921"
            ]
           ]
          },
          "colorway": [
           "#636efa",
           "#EF553B",
           "#00cc96",
           "#ab63fa",
           "#FFA15A",
           "#19d3f3",
           "#FF6692",
           "#B6E880",
           "#FF97FF",
           "#FECB52"
          ],
          "font": {
           "color": "#2a3f5f"
          },
          "geo": {
           "bgcolor": "white",
           "lakecolor": "white",
           "landcolor": "#E5ECF6",
           "showlakes": true,
           "showland": true,
           "subunitcolor": "white"
          },
          "hoverlabel": {
           "align": "left"
          },
          "hovermode": "closest",
          "mapbox": {
           "style": "light"
          },
          "paper_bgcolor": "white",
          "plot_bgcolor": "#E5ECF6",
          "polar": {
           "angularaxis": {
            "gridcolor": "white",
            "linecolor": "white",
            "ticks": ""
           },
           "bgcolor": "#E5ECF6",
           "radialaxis": {
            "gridcolor": "white",
            "linecolor": "white",
            "ticks": ""
           }
          },
          "scene": {
           "xaxis": {
            "backgroundcolor": "#E5ECF6",
            "gridcolor": "white",
            "gridwidth": 2,
            "linecolor": "white",
            "showbackground": true,
            "ticks": "",
            "zerolinecolor": "white"
           },
           "yaxis": {
            "backgroundcolor": "#E5ECF6",
            "gridcolor": "white",
            "gridwidth": 2,
            "linecolor": "white",
            "showbackground": true,
            "ticks": "",
            "zerolinecolor": "white"
           },
           "zaxis": {
            "backgroundcolor": "#E5ECF6",
            "gridcolor": "white",
            "gridwidth": 2,
            "linecolor": "white",
            "showbackground": true,
            "ticks": "",
            "zerolinecolor": "white"
           }
          },
          "shapedefaults": {
           "line": {
            "color": "#2a3f5f"
           }
          },
          "ternary": {
           "aaxis": {
            "gridcolor": "white",
            "linecolor": "white",
            "ticks": ""
           },
           "baxis": {
            "gridcolor": "white",
            "linecolor": "white",
            "ticks": ""
           },
           "bgcolor": "#E5ECF6",
           "caxis": {
            "gridcolor": "white",
            "linecolor": "white",
            "ticks": ""
           }
          },
          "title": {
           "x": 0.05
          },
          "xaxis": {
           "automargin": true,
           "gridcolor": "white",
           "linecolor": "white",
           "ticks": "",
           "title": {
            "standoff": 15
           },
           "zerolinecolor": "white",
           "zerolinewidth": 2
          },
          "yaxis": {
           "automargin": true,
           "gridcolor": "white",
           "linecolor": "white",
           "ticks": "",
           "title": {
            "standoff": 15
           },
           "zerolinecolor": "white",
           "zerolinewidth": 2
          }
         }
        },
        "title": {
         "text": "Total Percent Gain"
        },
        "xaxis": {
         "anchor": "y",
         "domain": [
          0,
          1
         ],
         "title": {
          "text": "Exit"
         }
        },
        "yaxis": {
         "anchor": "x",
         "domain": [
          0,
          1
         ],
         "title": {
          "text": "Entry"
         }
        }
       }
      }
     },
     "metadata": {},
     "output_type": "display_data"
    }
   ],
   "source": [
    "# Heatmap of tickers and entry/exit pairs, charting average total percent gain across all tickers\n",
    "\n",
    "import plotly.express as px\n",
    "\n",
    "fig = px.density_heatmap(\n",
    "    results,\n",
    "    x=\"Entry\",\n",
    "    y=\"Exit\",\n",
    "    z=\"TotalPercentGain\",\n",
    "    histfunc=\"avg\",\n",
    "    color_continuous_scale=\"Viridis\",\n",
    "    title=\"Average Total Percent Gain\",\n",
    ")\n",
    "\n",
    "fig.show()"
   ]
  },
  {
   "cell_type": "code",
   "execution_count": null,
   "metadata": {},
   "outputs": [],
   "source": []
  }
 ],
 "metadata": {
  "kernelspec": {
   "display_name": "Python 3",
   "language": "python",
   "name": "python3"
  },
  "language_info": {
   "codemirror_mode": {
    "name": "ipython",
    "version": 3
   },
   "file_extension": ".py",
   "mimetype": "text/x-python",
   "name": "python",
   "nbconvert_exporter": "python",
   "pygments_lexer": "ipython3",
   "version": "3.12.1"
  }
 },
 "nbformat": 4,
 "nbformat_minor": 2
}
