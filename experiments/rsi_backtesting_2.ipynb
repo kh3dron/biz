{
 "cells": [
  {
   "cell_type": "code",
   "execution_count": 34,
   "metadata": {},
   "outputs": [],
   "source": [
    "import warnings\n",
    "warnings.simplefilter(action='ignore', category=FutureWarning)\n",
    "\n",
    "import pandas as pd\n",
    "\n",
    "def load_data(ticker):\n",
    "\n",
    "    filename = '../data/' + ticker + '_1min_firstratedata.csv'\n",
    "    df = pd.read_csv(filename)\n",
    "    df['ticker'] = ticker\n",
    "\n",
    "    df[\"timestamp\"] = pd.to_datetime(df[\"timestamp\"])\n",
    "    df[\"date\"] = df[\"timestamp\"].dt.date\n",
    "    df[\"time\"] = df[\"timestamp\"].dt.time\n",
    "    return df\n",
    "\n",
    "ticker = 'SPY'\n",
    "df = load_data(ticker)"
   ]
  },
  {
   "cell_type": "code",
   "execution_count": 35,
   "metadata": {},
   "outputs": [],
   "source": [
    "# Add the RSI indicator with period n to a df\n",
    "\n",
    "def RSI(df, n):\n",
    "    \"function to calculate RSI\"\n",
    "    delta = df[\"close\"].diff()\n",
    "    delta = delta[1:]\n",
    "    up, down = delta.copy(), delta.copy()\n",
    "    up[up < 0] = 0\n",
    "    down[down > 0] = 0\n",
    "    df[\"up\"] = up.round(4)\n",
    "    df[\"down\"] = down.round(4)\n",
    "    AVG_Gain = df[\"up\"].rolling(window=n).mean()\n",
    "    AVG_Loss = abs(df[\"down\"].rolling(window=n).mean())\n",
    "    RS = AVG_Gain / AVG_Loss\n",
    "    RSI = 100.0 - (100.0 / (1.0 + RS))\n",
    "    df[\"RSI_14\"] = RSI.round(4)\n",
    "    df = df.drop(columns=[\"up\", \"down\"])\n",
    "\n",
    "    return df\n",
    "\n",
    "df = RSI(df, 14)\n",
    "\n",
    "#df.head()"
   ]
  },
  {
   "cell_type": "code",
   "execution_count": 36,
   "metadata": {},
   "outputs": [],
   "source": [
    "import datetime\n",
    "import pandas as pd\n",
    "\n",
    "def simulate_trade_RSI(date, entry, exit_high, exit_low, max_trades, df):\n",
    "    df_day = df[(df[\"date\"] == date) & (df[\"time\"] >= datetime.time(9, 30, 0)) & (df[\"time\"] <= datetime.time(16, 0, 0))]\n",
    "    trade_log = pd.DataFrame(columns=[\"Date\", \"Direction\", \"Entry\", \"Exit\", \"TimeEnter\", \"TimeExit\", \"Gain%\", \"Gain$\", \"ExitCondition\"])\n",
    "    trades, in_trade = 0, False\n",
    "\n",
    "    for i in range(1, len(df_day)):\n",
    "        entry_rsi = (df_day[\"RSI_14\"].iloc[i - 1] < entry and df_day[\"RSI_14\"].iloc[i] >= entry)\n",
    "\n",
    "        exit_profit = (df_day[\"close\"].iloc[i - 1] >= exit_high and df_day[\"close\"].iloc[i] < exit_high)\n",
    "        exit_stoploss = (df_day[\"close\"].iloc[i - 1] <= exit_low and df_day[\"close\"].iloc[i] > exit_low)\n",
    "        exit_endofday = (i == len(df_day) - 1)\n",
    "        exit_condition = \"MaxProfit\" if exit_profit else \"StopLoss\" if exit_stoploss else \"EndOfDay\" if exit_endofday else None\n",
    "\n",
    "        if not in_trade and entry_rsi:\n",
    "            entry_price, in_trade, time_enter = df_day[\"close\"].iloc[i], True, df_day[\"time\"].iloc[i - 1]\n",
    "\n",
    "        elif in_trade and (exit_profit or exit_stoploss or exit_endofday):\n",
    "            exit_price = df_day[\"close\"].iloc[i]\n",
    "            trade_gain_percent = round(((exit_price - entry_price) / entry_price) * 100, 2)\n",
    "            trade_gain_net = round(exit_price - entry_price, 2)\n",
    "\n",
    "            trade_log.loc[len(trade_log)] = pd.Series({\n",
    "                \"Date\": date,\n",
    "                \"Direction\": \"Long\",\n",
    "                \"Entry\": entry_price,\n",
    "                \"Exit\": exit_price,\n",
    "                \"TimeEnter\": time_enter,\n",
    "                \"TimeExit\": df_day[\"time\"].iloc[i],\n",
    "                \"Gain%\": trade_gain_percent,\n",
    "                \"Gain$\": trade_gain_net,\n",
    "                \"ExitCondition\": exit_condition\n",
    "            })\n",
    "\n",
    "            trades, entry_price, in_trade = trades + 1, 0, False\n",
    "\n",
    "            # Check if the maximum number of trades is reached\n",
    "            if trades >= max_trades:\n",
    "                break\n",
    "\n",
    "    return trade_log\n"
   ]
  },
  {
   "cell_type": "code",
   "execution_count": 37,
   "metadata": {},
   "outputs": [],
   "source": [
    "# Combine the simulated trades for a range of dates into a single dataframe\n",
    "\n",
    "def simulate_date_range(start_date, end_date, entry, exit_high, exit_low, max_trades, df):\n",
    "    day_datas = []\n",
    "\n",
    "    for n in range((end_date - start_date).days + 1):\n",
    "        date = start_date + datetime.timedelta(n)\n",
    "        day_data = simulate_trade_RSI(date, entry, exit_high, exit_low, max_trades, df)\n",
    "        if day_data is not None:\n",
    "            day_datas.append(day_data)\n",
    "\n",
    "    day_datas = pd.concat(day_datas, ignore_index=True)\n",
    "\n",
    "    return day_datas"
   ]
  },
  {
   "cell_type": "code",
   "execution_count": 38,
   "metadata": {},
   "outputs": [],
   "source": [
    "trades = simulate_date_range(datetime.date(2022, 9, 30), datetime.date(2023, 9, 30), 30, 70, 20, 2, df)"
   ]
  },
  {
   "cell_type": "code",
   "execution_count": 39,
   "metadata": {},
   "outputs": [
    {
     "data": {
      "application/vnd.plotly.v1+json": {
       "config": {
        "plotlyServerURL": "https://plot.ly"
       },
       "data": [
        {
         "alignmentgroup": "True",
         "bingroup": "x",
         "hovertemplate": "Gain%=%{x}<br>count=%{y}<extra></extra>",
         "legendgroup": "",
         "marker": {
          "color": "#636efa",
          "pattern": {
           "shape": ""
          }
         },
         "name": "",
         "nbinsx": 100,
         "offsetgroup": "",
         "orientation": "v",
         "showlegend": false,
         "type": "histogram",
         "x": [
          -1.86,
          1.8,
          0.36,
          1.41,
          -0.4,
          -1.56,
          -0.73,
          -0.17,
          -0.33,
          3.85,
          -2.89,
          0,
          -0.13,
          -0.13,
          -0.76,
          1.46,
          0.89,
          0.65,
          -1.17,
          -0.26,
          0.84,
          -0.18,
          -1.29,
          -2.18,
          0.29,
          0.85,
          0.87,
          0.37,
          -1.34,
          1.47,
          0.79,
          -0.48,
          -0.46,
          -0.05,
          0.94,
          -0.06,
          -0.09,
          0.86,
          0.14,
          -0.05,
          -0.79,
          -0.06,
          3.25,
          0.3,
          0.71,
          -1.02,
          -1.45,
          0.09,
          0.4,
          -0.87,
          1.11,
          -1.75,
          -1.06,
          -0.32,
          -0.09,
          -0.55,
          -0.04,
          0.81,
          -0.25,
          1.17,
          0.31,
          -1.45,
          0.09,
          0.63,
          -1.2,
          0.64,
          -0.29,
          2.09,
          -0.56,
          0.7,
          0.84,
          1,
          0.71,
          -0.09,
          -1.68,
          0.06,
          1.61,
          -0.21,
          0.52,
          1.14,
          0.78,
          0.06,
          -0.63,
          0.81,
          1.31,
          0.66,
          -0.78,
          0.21,
          1.4,
          -0.45,
          -1.55,
          0.6,
          0.29,
          0.55,
          0.88,
          -1.03,
          0.62,
          -0.89,
          0.01,
          -0.04,
          0.39,
          -0.37,
          -0.29,
          0.03,
          1,
          1.11,
          -0.49,
          -0.66,
          0.15,
          -2.05,
          -0.7,
          0.84,
          -0.18,
          0.96,
          2.22,
          -0.56,
          0.58,
          0.51,
          -1.43,
          -1.39,
          1.3,
          -0.45,
          -0.01,
          0.5,
          -0.02,
          0.44,
          0.44,
          -0.66,
          0.01,
          0.68,
          0.79,
          -0.02,
          -0.92,
          0.73,
          -0.2,
          0.39,
          -0.32,
          0.2,
          0.09,
          0.22,
          0.03,
          -0.98,
          -0.21,
          1.08,
          0.55,
          -0.07,
          -0.82,
          -0.92,
          -0.17,
          0.33,
          -0.01,
          0.03,
          0.26,
          0.22,
          -0.49,
          0.16,
          -0.34,
          0.74,
          0.41,
          -0.33,
          -0.08,
          -0.75,
          -0.15,
          0.32,
          0.29,
          -0.53,
          0.01,
          0.95,
          0.74,
          -0.25,
          0.38,
          -0.46,
          0.66,
          -0.31,
          0.67,
          0.23,
          0.1,
          0.48,
          -0.4,
          -0.18,
          -0.14,
          0.43,
          0.04,
          -0.4,
          0.7,
          0.41,
          0.42,
          0.14,
          0.28,
          -0.05,
          0.16,
          -0.2,
          0.14,
          0.38,
          -0.21,
          0.38,
          -0.3,
          0.04,
          -0.01,
          -0.18,
          -0.5,
          -0.37,
          0.15,
          0.14,
          0.21,
          -1.36,
          -0.07,
          0.02,
          0.11,
          -0.63,
          0.12,
          -0.79,
          0.42,
          0.53,
          -0.63,
          -0.79,
          0.43,
          0.29,
          -0.54,
          -0.83,
          -0.96,
          0.6,
          0.26,
          -0.62,
          0.19,
          -1.57,
          0.57,
          0.02,
          0.73,
          0.28,
          -0.36,
          -0.23,
          -0.15,
          -0.4,
          0.31,
          -0.19,
          0.25,
          -0.18,
          0.29,
          0.42,
          -0.73,
          0.16,
          0.33,
          -1.19,
          -0.85,
          -0.37,
          0.66,
          -0.68,
          -0.16,
          0.43,
          -0.84
         ],
         "xaxis": "x",
         "yaxis": "y"
        }
       ],
       "layout": {
        "bargap": 0.1,
        "barmode": "relative",
        "legend": {
         "tracegroupgap": 0
        },
        "template": {
         "data": {
          "bar": [
           {
            "error_x": {
             "color": "#2a3f5f"
            },
            "error_y": {
             "color": "#2a3f5f"
            },
            "marker": {
             "line": {
              "color": "#E5ECF6",
              "width": 0.5
             },
             "pattern": {
              "fillmode": "overlay",
              "size": 10,
              "solidity": 0.2
             }
            },
            "type": "bar"
           }
          ],
          "barpolar": [
           {
            "marker": {
             "line": {
              "color": "#E5ECF6",
              "width": 0.5
             },
             "pattern": {
              "fillmode": "overlay",
              "size": 10,
              "solidity": 0.2
             }
            },
            "type": "barpolar"
           }
          ],
          "carpet": [
           {
            "aaxis": {
             "endlinecolor": "#2a3f5f",
             "gridcolor": "white",
             "linecolor": "white",
             "minorgridcolor": "white",
             "startlinecolor": "#2a3f5f"
            },
            "baxis": {
             "endlinecolor": "#2a3f5f",
             "gridcolor": "white",
             "linecolor": "white",
             "minorgridcolor": "white",
             "startlinecolor": "#2a3f5f"
            },
            "type": "carpet"
           }
          ],
          "choropleth": [
           {
            "colorbar": {
             "outlinewidth": 0,
             "ticks": ""
            },
            "type": "choropleth"
           }
          ],
          "contour": [
           {
            "colorbar": {
             "outlinewidth": 0,
             "ticks": ""
            },
            "colorscale": [
             [
              0,
              "#0d0887"
             ],
             [
              0.1111111111111111,
              "#46039f"
             ],
             [
              0.2222222222222222,
              "#7201a8"
             ],
             [
              0.3333333333333333,
              "#9c179e"
             ],
             [
              0.4444444444444444,
              "#bd3786"
             ],
             [
              0.5555555555555556,
              "#d8576b"
             ],
             [
              0.6666666666666666,
              "#ed7953"
             ],
             [
              0.7777777777777778,
              "#fb9f3a"
             ],
             [
              0.8888888888888888,
              "#fdca26"
             ],
             [
              1,
              "#f0f921"
             ]
            ],
            "type": "contour"
           }
          ],
          "contourcarpet": [
           {
            "colorbar": {
             "outlinewidth": 0,
             "ticks": ""
            },
            "type": "contourcarpet"
           }
          ],
          "heatmap": [
           {
            "colorbar": {
             "outlinewidth": 0,
             "ticks": ""
            },
            "colorscale": [
             [
              0,
              "#0d0887"
             ],
             [
              0.1111111111111111,
              "#46039f"
             ],
             [
              0.2222222222222222,
              "#7201a8"
             ],
             [
              0.3333333333333333,
              "#9c179e"
             ],
             [
              0.4444444444444444,
              "#bd3786"
             ],
             [
              0.5555555555555556,
              "#d8576b"
             ],
             [
              0.6666666666666666,
              "#ed7953"
             ],
             [
              0.7777777777777778,
              "#fb9f3a"
             ],
             [
              0.8888888888888888,
              "#fdca26"
             ],
             [
              1,
              "#f0f921"
             ]
            ],
            "type": "heatmap"
           }
          ],
          "heatmapgl": [
           {
            "colorbar": {
             "outlinewidth": 0,
             "ticks": ""
            },
            "colorscale": [
             [
              0,
              "#0d0887"
             ],
             [
              0.1111111111111111,
              "#46039f"
             ],
             [
              0.2222222222222222,
              "#7201a8"
             ],
             [
              0.3333333333333333,
              "#9c179e"
             ],
             [
              0.4444444444444444,
              "#bd3786"
             ],
             [
              0.5555555555555556,
              "#d8576b"
             ],
             [
              0.6666666666666666,
              "#ed7953"
             ],
             [
              0.7777777777777778,
              "#fb9f3a"
             ],
             [
              0.8888888888888888,
              "#fdca26"
             ],
             [
              1,
              "#f0f921"
             ]
            ],
            "type": "heatmapgl"
           }
          ],
          "histogram": [
           {
            "marker": {
             "pattern": {
              "fillmode": "overlay",
              "size": 10,
              "solidity": 0.2
             }
            },
            "type": "histogram"
           }
          ],
          "histogram2d": [
           {
            "colorbar": {
             "outlinewidth": 0,
             "ticks": ""
            },
            "colorscale": [
             [
              0,
              "#0d0887"
             ],
             [
              0.1111111111111111,
              "#46039f"
             ],
             [
              0.2222222222222222,
              "#7201a8"
             ],
             [
              0.3333333333333333,
              "#9c179e"
             ],
             [
              0.4444444444444444,
              "#bd3786"
             ],
             [
              0.5555555555555556,
              "#d8576b"
             ],
             [
              0.6666666666666666,
              "#ed7953"
             ],
             [
              0.7777777777777778,
              "#fb9f3a"
             ],
             [
              0.8888888888888888,
              "#fdca26"
             ],
             [
              1,
              "#f0f921"
             ]
            ],
            "type": "histogram2d"
           }
          ],
          "histogram2dcontour": [
           {
            "colorbar": {
             "outlinewidth": 0,
             "ticks": ""
            },
            "colorscale": [
             [
              0,
              "#0d0887"
             ],
             [
              0.1111111111111111,
              "#46039f"
             ],
             [
              0.2222222222222222,
              "#7201a8"
             ],
             [
              0.3333333333333333,
              "#9c179e"
             ],
             [
              0.4444444444444444,
              "#bd3786"
             ],
             [
              0.5555555555555556,
              "#d8576b"
             ],
             [
              0.6666666666666666,
              "#ed7953"
             ],
             [
              0.7777777777777778,
              "#fb9f3a"
             ],
             [
              0.8888888888888888,
              "#fdca26"
             ],
             [
              1,
              "#f0f921"
             ]
            ],
            "type": "histogram2dcontour"
           }
          ],
          "mesh3d": [
           {
            "colorbar": {
             "outlinewidth": 0,
             "ticks": ""
            },
            "type": "mesh3d"
           }
          ],
          "parcoords": [
           {
            "line": {
             "colorbar": {
              "outlinewidth": 0,
              "ticks": ""
             }
            },
            "type": "parcoords"
           }
          ],
          "pie": [
           {
            "automargin": true,
            "type": "pie"
           }
          ],
          "scatter": [
           {
            "fillpattern": {
             "fillmode": "overlay",
             "size": 10,
             "solidity": 0.2
            },
            "type": "scatter"
           }
          ],
          "scatter3d": [
           {
            "line": {
             "colorbar": {
              "outlinewidth": 0,
              "ticks": ""
             }
            },
            "marker": {
             "colorbar": {
              "outlinewidth": 0,
              "ticks": ""
             }
            },
            "type": "scatter3d"
           }
          ],
          "scattercarpet": [
           {
            "marker": {
             "colorbar": {
              "outlinewidth": 0,
              "ticks": ""
             }
            },
            "type": "scattercarpet"
           }
          ],
          "scattergeo": [
           {
            "marker": {
             "colorbar": {
              "outlinewidth": 0,
              "ticks": ""
             }
            },
            "type": "scattergeo"
           }
          ],
          "scattergl": [
           {
            "marker": {
             "colorbar": {
              "outlinewidth": 0,
              "ticks": ""
             }
            },
            "type": "scattergl"
           }
          ],
          "scattermapbox": [
           {
            "marker": {
             "colorbar": {
              "outlinewidth": 0,
              "ticks": ""
             }
            },
            "type": "scattermapbox"
           }
          ],
          "scatterpolar": [
           {
            "marker": {
             "colorbar": {
              "outlinewidth": 0,
              "ticks": ""
             }
            },
            "type": "scatterpolar"
           }
          ],
          "scatterpolargl": [
           {
            "marker": {
             "colorbar": {
              "outlinewidth": 0,
              "ticks": ""
             }
            },
            "type": "scatterpolargl"
           }
          ],
          "scatterternary": [
           {
            "marker": {
             "colorbar": {
              "outlinewidth": 0,
              "ticks": ""
             }
            },
            "type": "scatterternary"
           }
          ],
          "surface": [
           {
            "colorbar": {
             "outlinewidth": 0,
             "ticks": ""
            },
            "colorscale": [
             [
              0,
              "#0d0887"
             ],
             [
              0.1111111111111111,
              "#46039f"
             ],
             [
              0.2222222222222222,
              "#7201a8"
             ],
             [
              0.3333333333333333,
              "#9c179e"
             ],
             [
              0.4444444444444444,
              "#bd3786"
             ],
             [
              0.5555555555555556,
              "#d8576b"
             ],
             [
              0.6666666666666666,
              "#ed7953"
             ],
             [
              0.7777777777777778,
              "#fb9f3a"
             ],
             [
              0.8888888888888888,
              "#fdca26"
             ],
             [
              1,
              "#f0f921"
             ]
            ],
            "type": "surface"
           }
          ],
          "table": [
           {
            "cells": {
             "fill": {
              "color": "#EBF0F8"
             },
             "line": {
              "color": "white"
             }
            },
            "header": {
             "fill": {
              "color": "#C8D4E3"
             },
             "line": {
              "color": "white"
             }
            },
            "type": "table"
           }
          ]
         },
         "layout": {
          "annotationdefaults": {
           "arrowcolor": "#2a3f5f",
           "arrowhead": 0,
           "arrowwidth": 1
          },
          "autotypenumbers": "strict",
          "coloraxis": {
           "colorbar": {
            "outlinewidth": 0,
            "ticks": ""
           }
          },
          "colorscale": {
           "diverging": [
            [
             0,
             "#8e0152"
            ],
            [
             0.1,
             "#c51b7d"
            ],
            [
             0.2,
             "#de77ae"
            ],
            [
             0.3,
             "#f1b6da"
            ],
            [
             0.4,
             "#fde0ef"
            ],
            [
             0.5,
             "#f7f7f7"
            ],
            [
             0.6,
             "#e6f5d0"
            ],
            [
             0.7,
             "#b8e186"
            ],
            [
             0.8,
             "#7fbc41"
            ],
            [
             0.9,
             "#4d9221"
            ],
            [
             1,
             "#276419"
            ]
           ],
           "sequential": [
            [
             0,
             "#0d0887"
            ],
            [
             0.1111111111111111,
             "#46039f"
            ],
            [
             0.2222222222222222,
             "#7201a8"
            ],
            [
             0.3333333333333333,
             "#9c179e"
            ],
            [
             0.4444444444444444,
             "#bd3786"
            ],
            [
             0.5555555555555556,
             "#d8576b"
            ],
            [
             0.6666666666666666,
             "#ed7953"
            ],
            [
             0.7777777777777778,
             "#fb9f3a"
            ],
            [
             0.8888888888888888,
             "#fdca26"
            ],
            [
             1,
             "#f0f921"
            ]
           ],
           "sequentialminus": [
            [
             0,
             "#0d0887"
            ],
            [
             0.1111111111111111,
             "#46039f"
            ],
            [
             0.2222222222222222,
             "#7201a8"
            ],
            [
             0.3333333333333333,
             "#9c179e"
            ],
            [
             0.4444444444444444,
             "#bd3786"
            ],
            [
             0.5555555555555556,
             "#d8576b"
            ],
            [
             0.6666666666666666,
             "#ed7953"
            ],
            [
             0.7777777777777778,
             "#fb9f3a"
            ],
            [
             0.8888888888888888,
             "#fdca26"
            ],
            [
             1,
             "#f0f921"
            ]
           ]
          },
          "colorway": [
           "#636efa",
           "#EF553B",
           "#00cc96",
           "#ab63fa",
           "#FFA15A",
           "#19d3f3",
           "#FF6692",
           "#B6E880",
           "#FF97FF",
           "#FECB52"
          ],
          "font": {
           "color": "#2a3f5f"
          },
          "geo": {
           "bgcolor": "white",
           "lakecolor": "white",
           "landcolor": "#E5ECF6",
           "showlakes": true,
           "showland": true,
           "subunitcolor": "white"
          },
          "hoverlabel": {
           "align": "left"
          },
          "hovermode": "closest",
          "mapbox": {
           "style": "light"
          },
          "paper_bgcolor": "white",
          "plot_bgcolor": "#E5ECF6",
          "polar": {
           "angularaxis": {
            "gridcolor": "white",
            "linecolor": "white",
            "ticks": ""
           },
           "bgcolor": "#E5ECF6",
           "radialaxis": {
            "gridcolor": "white",
            "linecolor": "white",
            "ticks": ""
           }
          },
          "scene": {
           "xaxis": {
            "backgroundcolor": "#E5ECF6",
            "gridcolor": "white",
            "gridwidth": 2,
            "linecolor": "white",
            "showbackground": true,
            "ticks": "",
            "zerolinecolor": "white"
           },
           "yaxis": {
            "backgroundcolor": "#E5ECF6",
            "gridcolor": "white",
            "gridwidth": 2,
            "linecolor": "white",
            "showbackground": true,
            "ticks": "",
            "zerolinecolor": "white"
           },
           "zaxis": {
            "backgroundcolor": "#E5ECF6",
            "gridcolor": "white",
            "gridwidth": 2,
            "linecolor": "white",
            "showbackground": true,
            "ticks": "",
            "zerolinecolor": "white"
           }
          },
          "shapedefaults": {
           "line": {
            "color": "#2a3f5f"
           }
          },
          "ternary": {
           "aaxis": {
            "gridcolor": "white",
            "linecolor": "white",
            "ticks": ""
           },
           "baxis": {
            "gridcolor": "white",
            "linecolor": "white",
            "ticks": ""
           },
           "bgcolor": "#E5ECF6",
           "caxis": {
            "gridcolor": "white",
            "linecolor": "white",
            "ticks": ""
           }
          },
          "title": {
           "x": 0.05
          },
          "xaxis": {
           "automargin": true,
           "gridcolor": "white",
           "linecolor": "white",
           "ticks": "",
           "title": {
            "standoff": 15
           },
           "zerolinecolor": "white",
           "zerolinewidth": 2
          },
          "yaxis": {
           "automargin": true,
           "gridcolor": "white",
           "linecolor": "white",
           "ticks": "",
           "title": {
            "standoff": 15
           },
           "zerolinecolor": "white",
           "zerolinewidth": 2
          }
         }
        },
        "title": {
         "text": "Histogram of Trade Gain%"
        },
        "xaxis": {
         "anchor": "y",
         "domain": [
          0,
          1
         ],
         "title": {
          "text": "Gain%"
         }
        },
        "yaxis": {
         "anchor": "x",
         "domain": [
          0,
          1
         ],
         "title": {
          "text": "Count"
         }
        }
       }
      }
     },
     "metadata": {},
     "output_type": "display_data"
    }
   ],
   "source": [
    "trades\n",
    "# histogram of the trade gain%\n",
    "\n",
    "import plotly.express as px\n",
    "import plotly.graph_objects as go\n",
    "\n",
    "fig = px.histogram(trades, x=\"Gain%\", nbins=100, title=\"Histogram of Trade Gain%\")\n",
    "fig.update_layout(\n",
    "    xaxis_title=\"Gain%\",\n",
    "    yaxis_title=\"Count\",\n",
    "    bargap=0.1\n",
    ")\n",
    "fig.show()"
   ]
  },
  {
   "cell_type": "code",
   "execution_count": 40,
   "metadata": {},
   "outputs": [
    {
     "name": "stdout",
     "output_type": "stream",
     "text": [
      "Total Trades: 251\n",
      "Total Gain%: 6.54\n",
      "Average Gain%: 0.02606\n",
      "Median Gain%: 0.03\n",
      "Average Gain$: 0.08235\n",
      "Median Gain$: 0.11\n"
     ]
    },
    {
     "data": {
      "text/plain": [
       "count     251.00\n",
       "unique    162.00\n",
       "top         0.29\n",
       "freq        5.00\n",
       "Name: Gain%, dtype: float64"
      ]
     },
     "execution_count": 40,
     "metadata": {},
     "output_type": "execute_result"
    }
   ],
   "source": [
    "print(\"Total Trades:\", len(trades))\n",
    "print(\"Total Gain%:\", round(trades[\"Gain%\"].sum(), 2))\n",
    "print(\"Average Gain%:\", round(trades[\"Gain%\"].mean(), 5))\n",
    "print(\"Median Gain%:\", round(trades[\"Gain%\"].median(), 2))\n",
    "\n",
    "print(\"Average Gain$:\", round(trades[\"Gain$\"].mean(), 5))\n",
    "print(\"Median Gain$:\", round(trades[\"Gain$\"].median(), 2))\n",
    "\n",
    "\n",
    "trades[\"Gain%\"].describe()"
   ]
  },
  {
   "cell_type": "code",
   "execution_count": 51,
   "metadata": {},
   "outputs": [
    {
     "data": {
      "text/html": [
       "<div>\n",
       "<style scoped>\n",
       "    .dataframe tbody tr th:only-of-type {\n",
       "        vertical-align: middle;\n",
       "    }\n",
       "\n",
       "    .dataframe tbody tr th {\n",
       "        vertical-align: top;\n",
       "    }\n",
       "\n",
       "    .dataframe thead th {\n",
       "        text-align: right;\n",
       "    }\n",
       "</style>\n",
       "<table border=\"1\" class=\"dataframe\">\n",
       "  <thead>\n",
       "    <tr style=\"text-align: right;\">\n",
       "      <th></th>\n",
       "      <th>Date</th>\n",
       "      <th>Direction</th>\n",
       "      <th>Entry</th>\n",
       "      <th>Exit</th>\n",
       "      <th>TimeEnter</th>\n",
       "      <th>TimeExit</th>\n",
       "      <th>Gain%</th>\n",
       "      <th>Gain$</th>\n",
       "      <th>ExitCondition</th>\n",
       "    </tr>\n",
       "  </thead>\n",
       "  <tbody>\n",
       "    <tr>\n",
       "      <th>0</th>\n",
       "      <td>2022-09-30</td>\n",
       "      <td>Long</td>\n",
       "      <td>364.67</td>\n",
       "      <td>357.87</td>\n",
       "      <td>11:38:00</td>\n",
       "      <td>16:00:00</td>\n",
       "      <td>-1.86</td>\n",
       "      <td>-6.8</td>\n",
       "      <td>EndOfDay</td>\n",
       "    </tr>\n",
       "    <tr>\n",
       "      <th>1</th>\n",
       "      <td>2022-10-03</td>\n",
       "      <td>Long</td>\n",
       "      <td>360.2711</td>\n",
       "      <td>366.77</td>\n",
       "      <td>09:41:00</td>\n",
       "      <td>16:00:00</td>\n",
       "      <td>1.8</td>\n",
       "      <td>6.5</td>\n",
       "      <td>EndOfDay</td>\n",
       "    </tr>\n",
       "    <tr>\n",
       "      <th>2</th>\n",
       "      <td>2022-10-04</td>\n",
       "      <td>Long</td>\n",
       "      <td>376.389</td>\n",
       "      <td>377.74</td>\n",
       "      <td>10:26:00</td>\n",
       "      <td>16:00:00</td>\n",
       "      <td>0.36</td>\n",
       "      <td>1.35</td>\n",
       "      <td>EndOfDay</td>\n",
       "    </tr>\n",
       "    <tr>\n",
       "      <th>3</th>\n",
       "      <td>2022-10-05</td>\n",
       "      <td>Long</td>\n",
       "      <td>372.29</td>\n",
       "      <td>377.54</td>\n",
       "      <td>10:13:00</td>\n",
       "      <td>16:00:00</td>\n",
       "      <td>1.41</td>\n",
       "      <td>5.25</td>\n",
       "      <td>EndOfDay</td>\n",
       "    </tr>\n",
       "    <tr>\n",
       "      <th>4</th>\n",
       "      <td>2022-10-06</td>\n",
       "      <td>Long</td>\n",
       "      <td>374.6999</td>\n",
       "      <td>373.21</td>\n",
       "      <td>10:14:00</td>\n",
       "      <td>16:00:00</td>\n",
       "      <td>-0.4</td>\n",
       "      <td>-1.49</td>\n",
       "      <td>EndOfDay</td>\n",
       "    </tr>\n",
       "    <tr>\n",
       "      <th>5</th>\n",
       "      <td>2022-10-07</td>\n",
       "      <td>Long</td>\n",
       "      <td>368.53</td>\n",
       "      <td>362.78</td>\n",
       "      <td>09:33:00</td>\n",
       "      <td>16:00:00</td>\n",
       "      <td>-1.56</td>\n",
       "      <td>-5.75</td>\n",
       "      <td>EndOfDay</td>\n",
       "    </tr>\n",
       "    <tr>\n",
       "      <th>6</th>\n",
       "      <td>2022-10-10</td>\n",
       "      <td>Long</td>\n",
       "      <td>362.89</td>\n",
       "      <td>360.23</td>\n",
       "      <td>09:36:00</td>\n",
       "      <td>16:00:00</td>\n",
       "      <td>-0.73</td>\n",
       "      <td>-2.66</td>\n",
       "      <td>EndOfDay</td>\n",
       "    </tr>\n",
       "    <tr>\n",
       "      <th>7</th>\n",
       "      <td>2022-10-11</td>\n",
       "      <td>Long</td>\n",
       "      <td>358.3461</td>\n",
       "      <td>357.73</td>\n",
       "      <td>09:30:00</td>\n",
       "      <td>16:00:00</td>\n",
       "      <td>-0.17</td>\n",
       "      <td>-0.62</td>\n",
       "      <td>EndOfDay</td>\n",
       "    </tr>\n",
       "    <tr>\n",
       "      <th>8</th>\n",
       "      <td>2022-10-12</td>\n",
       "      <td>Long</td>\n",
       "      <td>357.97</td>\n",
       "      <td>356.79</td>\n",
       "      <td>09:34:00</td>\n",
       "      <td>16:00:00</td>\n",
       "      <td>-0.33</td>\n",
       "      <td>-1.18</td>\n",
       "      <td>EndOfDay</td>\n",
       "    </tr>\n",
       "    <tr>\n",
       "      <th>9</th>\n",
       "      <td>2022-10-13</td>\n",
       "      <td>Long</td>\n",
       "      <td>352.48</td>\n",
       "      <td>366.06</td>\n",
       "      <td>10:29:00</td>\n",
       "      <td>16:00:00</td>\n",
       "      <td>3.85</td>\n",
       "      <td>13.58</td>\n",
       "      <td>EndOfDay</td>\n",
       "    </tr>\n",
       "    <tr>\n",
       "      <th>10</th>\n",
       "      <td>2022-10-14</td>\n",
       "      <td>Long</td>\n",
       "      <td>368.34</td>\n",
       "      <td>357.68</td>\n",
       "      <td>09:35:00</td>\n",
       "      <td>16:00:00</td>\n",
       "      <td>-2.89</td>\n",
       "      <td>-10.66</td>\n",
       "      <td>EndOfDay</td>\n",
       "    </tr>\n",
       "    <tr>\n",
       "      <th>11</th>\n",
       "      <td>2022-10-17</td>\n",
       "      <td>Long</td>\n",
       "      <td>366.915</td>\n",
       "      <td>366.93</td>\n",
       "      <td>10:31:00</td>\n",
       "      <td>16:00:00</td>\n",
       "      <td>0.0</td>\n",
       "      <td>0.01</td>\n",
       "      <td>EndOfDay</td>\n",
       "    </tr>\n",
       "    <tr>\n",
       "      <th>12</th>\n",
       "      <td>2022-10-18</td>\n",
       "      <td>Long</td>\n",
       "      <td>371.4723</td>\n",
       "      <td>371.0</td>\n",
       "      <td>10:39:00</td>\n",
       "      <td>16:00:00</td>\n",
       "      <td>-0.13</td>\n",
       "      <td>-0.47</td>\n",
       "      <td>EndOfDay</td>\n",
       "    </tr>\n",
       "    <tr>\n",
       "      <th>13</th>\n",
       "      <td>2022-10-19</td>\n",
       "      <td>Long</td>\n",
       "      <td>369.11</td>\n",
       "      <td>368.62</td>\n",
       "      <td>09:50:00</td>\n",
       "      <td>16:00:00</td>\n",
       "      <td>-0.13</td>\n",
       "      <td>-0.49</td>\n",
       "      <td>EndOfDay</td>\n",
       "    </tr>\n",
       "    <tr>\n",
       "      <th>14</th>\n",
       "      <td>2022-10-20</td>\n",
       "      <td>Long</td>\n",
       "      <td>368.4</td>\n",
       "      <td>365.59</td>\n",
       "      <td>09:32:00</td>\n",
       "      <td>16:00:00</td>\n",
       "      <td>-0.76</td>\n",
       "      <td>-2.81</td>\n",
       "      <td>EndOfDay</td>\n",
       "    </tr>\n",
       "    <tr>\n",
       "      <th>15</th>\n",
       "      <td>2022-10-21</td>\n",
       "      <td>Long</td>\n",
       "      <td>369.14</td>\n",
       "      <td>374.54</td>\n",
       "      <td>10:21:00</td>\n",
       "      <td>16:00:00</td>\n",
       "      <td>1.46</td>\n",
       "      <td>5.4</td>\n",
       "      <td>EndOfDay</td>\n",
       "    </tr>\n",
       "    <tr>\n",
       "      <th>16</th>\n",
       "      <td>2022-10-24</td>\n",
       "      <td>Long</td>\n",
       "      <td>375.41</td>\n",
       "      <td>378.75</td>\n",
       "      <td>10:13:00</td>\n",
       "      <td>16:00:00</td>\n",
       "      <td>0.89</td>\n",
       "      <td>3.34</td>\n",
       "      <td>EndOfDay</td>\n",
       "    </tr>\n",
       "    <tr>\n",
       "      <th>17</th>\n",
       "      <td>2022-10-25</td>\n",
       "      <td>Long</td>\n",
       "      <td>382.1101</td>\n",
       "      <td>384.61</td>\n",
       "      <td>10:39:00</td>\n",
       "      <td>16:00:00</td>\n",
       "      <td>0.65</td>\n",
       "      <td>2.5</td>\n",
       "      <td>EndOfDay</td>\n",
       "    </tr>\n",
       "    <tr>\n",
       "      <th>18</th>\n",
       "      <td>2022-10-26</td>\n",
       "      <td>Long</td>\n",
       "      <td>386.76</td>\n",
       "      <td>382.22</td>\n",
       "      <td>11:57:00</td>\n",
       "      <td>16:00:00</td>\n",
       "      <td>-1.17</td>\n",
       "      <td>-4.54</td>\n",
       "      <td>EndOfDay</td>\n",
       "    </tr>\n",
       "    <tr>\n",
       "      <th>19</th>\n",
       "      <td>2022-10-27</td>\n",
       "      <td>Long</td>\n",
       "      <td>381.1528</td>\n",
       "      <td>380.16</td>\n",
       "      <td>10:01:00</td>\n",
       "      <td>16:00:00</td>\n",
       "      <td>-0.26</td>\n",
       "      <td>-0.99</td>\n",
       "      <td>EndOfDay</td>\n",
       "    </tr>\n",
       "    <tr>\n",
       "      <th>20</th>\n",
       "      <td>2022-10-28</td>\n",
       "      <td>Long</td>\n",
       "      <td>385.93</td>\n",
       "      <td>389.18</td>\n",
       "      <td>12:00:00</td>\n",
       "      <td>16:00:00</td>\n",
       "      <td>0.84</td>\n",
       "      <td>3.25</td>\n",
       "      <td>EndOfDay</td>\n",
       "    </tr>\n",
       "    <tr>\n",
       "      <th>21</th>\n",
       "      <td>2022-10-31</td>\n",
       "      <td>Long</td>\n",
       "      <td>386.83</td>\n",
       "      <td>386.14</td>\n",
       "      <td>09:30:00</td>\n",
       "      <td>16:00:00</td>\n",
       "      <td>-0.18</td>\n",
       "      <td>-0.69</td>\n",
       "      <td>EndOfDay</td>\n",
       "    </tr>\n",
       "    <tr>\n",
       "      <th>22</th>\n",
       "      <td>2022-11-01</td>\n",
       "      <td>Long</td>\n",
       "      <td>389.81</td>\n",
       "      <td>384.78</td>\n",
       "      <td>09:31:00</td>\n",
       "      <td>16:00:00</td>\n",
       "      <td>-1.29</td>\n",
       "      <td>-5.03</td>\n",
       "      <td>EndOfDay</td>\n",
       "    </tr>\n",
       "    <tr>\n",
       "      <th>23</th>\n",
       "      <td>2022-11-02</td>\n",
       "      <td>Long</td>\n",
       "      <td>382.95</td>\n",
       "      <td>374.6</td>\n",
       "      <td>09:44:00</td>\n",
       "      <td>16:00:00</td>\n",
       "      <td>-2.18</td>\n",
       "      <td>-8.35</td>\n",
       "      <td>EndOfDay</td>\n",
       "    </tr>\n",
       "    <tr>\n",
       "      <th>24</th>\n",
       "      <td>2022-11-03</td>\n",
       "      <td>Long</td>\n",
       "      <td>369.94</td>\n",
       "      <td>371.03</td>\n",
       "      <td>10:02:00</td>\n",
       "      <td>16:00:00</td>\n",
       "      <td>0.29</td>\n",
       "      <td>1.09</td>\n",
       "      <td>EndOfDay</td>\n",
       "    </tr>\n",
       "    <tr>\n",
       "      <th>25</th>\n",
       "      <td>2022-11-04</td>\n",
       "      <td>Long</td>\n",
       "      <td>373.185</td>\n",
       "      <td>376.34</td>\n",
       "      <td>09:52:00</td>\n",
       "      <td>16:00:00</td>\n",
       "      <td>0.85</td>\n",
       "      <td>3.15</td>\n",
       "      <td>EndOfDay</td>\n",
       "    </tr>\n",
       "    <tr>\n",
       "      <th>26</th>\n",
       "      <td>2022-11-07</td>\n",
       "      <td>Long</td>\n",
       "      <td>376.56</td>\n",
       "      <td>379.84</td>\n",
       "      <td>09:38:00</td>\n",
       "      <td>16:00:00</td>\n",
       "      <td>0.87</td>\n",
       "      <td>3.28</td>\n",
       "      <td>EndOfDay</td>\n",
       "    </tr>\n",
       "    <tr>\n",
       "      <th>27</th>\n",
       "      <td>2022-11-08</td>\n",
       "      <td>Long</td>\n",
       "      <td>380.13</td>\n",
       "      <td>381.53</td>\n",
       "      <td>09:42:00</td>\n",
       "      <td>16:00:00</td>\n",
       "      <td>0.37</td>\n",
       "      <td>1.4</td>\n",
       "      <td>EndOfDay</td>\n",
       "    </tr>\n",
       "    <tr>\n",
       "      <th>28</th>\n",
       "      <td>2022-11-09</td>\n",
       "      <td>Long</td>\n",
       "      <td>379.32</td>\n",
       "      <td>374.25</td>\n",
       "      <td>09:34:00</td>\n",
       "      <td>16:00:00</td>\n",
       "      <td>-1.34</td>\n",
       "      <td>-5.07</td>\n",
       "      <td>EndOfDay</td>\n",
       "    </tr>\n",
       "    <tr>\n",
       "      <th>29</th>\n",
       "      <td>2022-11-10</td>\n",
       "      <td>Long</td>\n",
       "      <td>388.745</td>\n",
       "      <td>394.47</td>\n",
       "      <td>10:39:00</td>\n",
       "      <td>16:00:00</td>\n",
       "      <td>1.47</td>\n",
       "      <td>5.73</td>\n",
       "      <td>EndOfDay</td>\n",
       "    </tr>\n",
       "    <tr>\n",
       "      <th>30</th>\n",
       "      <td>2022-11-11</td>\n",
       "      <td>Long</td>\n",
       "      <td>395.0518</td>\n",
       "      <td>398.16</td>\n",
       "      <td>09:32:00</td>\n",
       "      <td>16:00:00</td>\n",
       "      <td>0.79</td>\n",
       "      <td>3.11</td>\n",
       "      <td>EndOfDay</td>\n",
       "    </tr>\n",
       "    <tr>\n",
       "      <th>31</th>\n",
       "      <td>2022-11-14</td>\n",
       "      <td>Long</td>\n",
       "      <td>397.34</td>\n",
       "      <td>395.43</td>\n",
       "      <td>09:30:00</td>\n",
       "      <td>16:00:00</td>\n",
       "      <td>-0.48</td>\n",
       "      <td>-1.91</td>\n",
       "      <td>EndOfDay</td>\n",
       "    </tr>\n",
       "    <tr>\n",
       "      <th>32</th>\n",
       "      <td>2022-11-15</td>\n",
       "      <td>Long</td>\n",
       "      <td>400.6416</td>\n",
       "      <td>398.79</td>\n",
       "      <td>09:49:00</td>\n",
       "      <td>16:00:00</td>\n",
       "      <td>-0.46</td>\n",
       "      <td>-1.85</td>\n",
       "      <td>EndOfDay</td>\n",
       "    </tr>\n",
       "    <tr>\n",
       "      <th>33</th>\n",
       "      <td>2022-11-16</td>\n",
       "      <td>Long</td>\n",
       "      <td>395.8</td>\n",
       "      <td>395.6</td>\n",
       "      <td>10:59:00</td>\n",
       "      <td>16:00:00</td>\n",
       "      <td>-0.05</td>\n",
       "      <td>-0.2</td>\n",
       "      <td>EndOfDay</td>\n",
       "    </tr>\n",
       "    <tr>\n",
       "      <th>34</th>\n",
       "      <td>2022-11-17</td>\n",
       "      <td>Long</td>\n",
       "      <td>390.62</td>\n",
       "      <td>394.31</td>\n",
       "      <td>10:02:00</td>\n",
       "      <td>16:00:00</td>\n",
       "      <td>0.94</td>\n",
       "      <td>3.69</td>\n",
       "      <td>EndOfDay</td>\n",
       "    </tr>\n",
       "    <tr>\n",
       "      <th>35</th>\n",
       "      <td>2022-11-18</td>\n",
       "      <td>Long</td>\n",
       "      <td>396.2242</td>\n",
       "      <td>395.97</td>\n",
       "      <td>09:39:00</td>\n",
       "      <td>16:00:00</td>\n",
       "      <td>-0.06</td>\n",
       "      <td>-0.25</td>\n",
       "      <td>EndOfDay</td>\n",
       "    </tr>\n",
       "    <tr>\n",
       "      <th>36</th>\n",
       "      <td>2022-11-21</td>\n",
       "      <td>Long</td>\n",
       "      <td>394.995</td>\n",
       "      <td>394.62</td>\n",
       "      <td>09:45:00</td>\n",
       "      <td>16:00:00</td>\n",
       "      <td>-0.09</td>\n",
       "      <td>-0.38</td>\n",
       "      <td>EndOfDay</td>\n",
       "    </tr>\n",
       "    <tr>\n",
       "      <th>37</th>\n",
       "      <td>2022-11-22</td>\n",
       "      <td>Long</td>\n",
       "      <td>396.38</td>\n",
       "      <td>399.8</td>\n",
       "      <td>09:34:00</td>\n",
       "      <td>16:00:00</td>\n",
       "      <td>0.86</td>\n",
       "      <td>3.42</td>\n",
       "      <td>EndOfDay</td>\n",
       "    </tr>\n",
       "    <tr>\n",
       "      <th>38</th>\n",
       "      <td>2022-11-23</td>\n",
       "      <td>Long</td>\n",
       "      <td>401.84</td>\n",
       "      <td>402.42</td>\n",
       "      <td>11:36:00</td>\n",
       "      <td>16:00:00</td>\n",
       "      <td>0.14</td>\n",
       "      <td>0.58</td>\n",
       "      <td>EndOfDay</td>\n",
       "    </tr>\n",
       "    <tr>\n",
       "      <th>39</th>\n",
       "      <td>2022-11-25</td>\n",
       "      <td>Long</td>\n",
       "      <td>402.5599</td>\n",
       "      <td>402.37</td>\n",
       "      <td>11:21:00</td>\n",
       "      <td>15:59:00</td>\n",
       "      <td>-0.05</td>\n",
       "      <td>-0.19</td>\n",
       "      <td>EndOfDay</td>\n",
       "    </tr>\n",
       "    <tr>\n",
       "      <th>40</th>\n",
       "      <td>2022-11-28</td>\n",
       "      <td>Long</td>\n",
       "      <td>399.35</td>\n",
       "      <td>396.2</td>\n",
       "      <td>10:28:00</td>\n",
       "      <td>16:00:00</td>\n",
       "      <td>-0.79</td>\n",
       "      <td>-3.15</td>\n",
       "      <td>EndOfDay</td>\n",
       "    </tr>\n",
       "    <tr>\n",
       "      <th>41</th>\n",
       "      <td>2022-11-29</td>\n",
       "      <td>Long</td>\n",
       "      <td>395.56</td>\n",
       "      <td>395.34</td>\n",
       "      <td>09:56:00</td>\n",
       "      <td>16:00:00</td>\n",
       "      <td>-0.06</td>\n",
       "      <td>-0.22</td>\n",
       "      <td>EndOfDay</td>\n",
       "    </tr>\n",
       "    <tr>\n",
       "      <th>42</th>\n",
       "      <td>2022-11-30</td>\n",
       "      <td>Long</td>\n",
       "      <td>394.48</td>\n",
       "      <td>407.32</td>\n",
       "      <td>10:01:00</td>\n",
       "      <td>16:00:00</td>\n",
       "      <td>3.25</td>\n",
       "      <td>12.84</td>\n",
       "      <td>EndOfDay</td>\n",
       "    </tr>\n",
       "    <tr>\n",
       "      <th>43</th>\n",
       "      <td>2022-12-01</td>\n",
       "      <td>Long</td>\n",
       "      <td>405.85</td>\n",
       "      <td>407.08</td>\n",
       "      <td>10:25:00</td>\n",
       "      <td>16:00:00</td>\n",
       "      <td>0.3</td>\n",
       "      <td>1.23</td>\n",
       "      <td>EndOfDay</td>\n",
       "    </tr>\n",
       "    <tr>\n",
       "      <th>44</th>\n",
       "      <td>2022-12-02</td>\n",
       "      <td>Long</td>\n",
       "      <td>403.67</td>\n",
       "      <td>406.52</td>\n",
       "      <td>10:28:00</td>\n",
       "      <td>16:00:00</td>\n",
       "      <td>0.71</td>\n",
       "      <td>2.85</td>\n",
       "      <td>EndOfDay</td>\n",
       "    </tr>\n",
       "    <tr>\n",
       "      <th>45</th>\n",
       "      <td>2022-12-05</td>\n",
       "      <td>Long</td>\n",
       "      <td>403.88</td>\n",
       "      <td>399.78</td>\n",
       "      <td>09:53:00</td>\n",
       "      <td>16:00:00</td>\n",
       "      <td>-1.02</td>\n",
       "      <td>-4.1</td>\n",
       "      <td>EndOfDay</td>\n",
       "    </tr>\n",
       "    <tr>\n",
       "      <th>46</th>\n",
       "      <td>2022-12-06</td>\n",
       "      <td>Long</td>\n",
       "      <td>399.65</td>\n",
       "      <td>393.84</td>\n",
       "      <td>09:30:00</td>\n",
       "      <td>16:00:00</td>\n",
       "      <td>-1.45</td>\n",
       "      <td>-5.81</td>\n",
       "      <td>EndOfDay</td>\n",
       "    </tr>\n",
       "    <tr>\n",
       "      <th>47</th>\n",
       "      <td>2022-12-07</td>\n",
       "      <td>Long</td>\n",
       "      <td>393.0</td>\n",
       "      <td>393.35</td>\n",
       "      <td>09:56:00</td>\n",
       "      <td>16:00:00</td>\n",
       "      <td>0.09</td>\n",
       "      <td>0.35</td>\n",
       "      <td>EndOfDay</td>\n",
       "    </tr>\n",
       "    <tr>\n",
       "      <th>48</th>\n",
       "      <td>2022-12-08</td>\n",
       "      <td>Long</td>\n",
       "      <td>394.54</td>\n",
       "      <td>396.11</td>\n",
       "      <td>09:39:00</td>\n",
       "      <td>16:00:00</td>\n",
       "      <td>0.4</td>\n",
       "      <td>1.57</td>\n",
       "      <td>EndOfDay</td>\n",
       "    </tr>\n",
       "    <tr>\n",
       "      <th>49</th>\n",
       "      <td>2022-12-09</td>\n",
       "      <td>Long</td>\n",
       "      <td>396.535</td>\n",
       "      <td>393.1</td>\n",
       "      <td>11:14:00</td>\n",
       "      <td>16:00:00</td>\n",
       "      <td>-0.87</td>\n",
       "      <td>-3.44</td>\n",
       "      <td>EndOfDay</td>\n",
       "    </tr>\n",
       "  </tbody>\n",
       "</table>\n",
       "</div>"
      ],
      "text/plain": [
       "          Date Direction     Entry    Exit TimeEnter  TimeExit Gain%  Gain$  \\\n",
       "0   2022-09-30      Long    364.67  357.87  11:38:00  16:00:00 -1.86   -6.8   \n",
       "1   2022-10-03      Long  360.2711  366.77  09:41:00  16:00:00   1.8    6.5   \n",
       "2   2022-10-04      Long   376.389  377.74  10:26:00  16:00:00  0.36   1.35   \n",
       "3   2022-10-05      Long    372.29  377.54  10:13:00  16:00:00  1.41   5.25   \n",
       "4   2022-10-06      Long  374.6999  373.21  10:14:00  16:00:00  -0.4  -1.49   \n",
       "5   2022-10-07      Long    368.53  362.78  09:33:00  16:00:00 -1.56  -5.75   \n",
       "6   2022-10-10      Long    362.89  360.23  09:36:00  16:00:00 -0.73  -2.66   \n",
       "7   2022-10-11      Long  358.3461  357.73  09:30:00  16:00:00 -0.17  -0.62   \n",
       "8   2022-10-12      Long    357.97  356.79  09:34:00  16:00:00 -0.33  -1.18   \n",
       "9   2022-10-13      Long    352.48  366.06  10:29:00  16:00:00  3.85  13.58   \n",
       "10  2022-10-14      Long    368.34  357.68  09:35:00  16:00:00 -2.89 -10.66   \n",
       "11  2022-10-17      Long   366.915  366.93  10:31:00  16:00:00   0.0   0.01   \n",
       "12  2022-10-18      Long  371.4723   371.0  10:39:00  16:00:00 -0.13  -0.47   \n",
       "13  2022-10-19      Long    369.11  368.62  09:50:00  16:00:00 -0.13  -0.49   \n",
       "14  2022-10-20      Long     368.4  365.59  09:32:00  16:00:00 -0.76  -2.81   \n",
       "15  2022-10-21      Long    369.14  374.54  10:21:00  16:00:00  1.46    5.4   \n",
       "16  2022-10-24      Long    375.41  378.75  10:13:00  16:00:00  0.89   3.34   \n",
       "17  2022-10-25      Long  382.1101  384.61  10:39:00  16:00:00  0.65    2.5   \n",
       "18  2022-10-26      Long    386.76  382.22  11:57:00  16:00:00 -1.17  -4.54   \n",
       "19  2022-10-27      Long  381.1528  380.16  10:01:00  16:00:00 -0.26  -0.99   \n",
       "20  2022-10-28      Long    385.93  389.18  12:00:00  16:00:00  0.84   3.25   \n",
       "21  2022-10-31      Long    386.83  386.14  09:30:00  16:00:00 -0.18  -0.69   \n",
       "22  2022-11-01      Long    389.81  384.78  09:31:00  16:00:00 -1.29  -5.03   \n",
       "23  2022-11-02      Long    382.95   374.6  09:44:00  16:00:00 -2.18  -8.35   \n",
       "24  2022-11-03      Long    369.94  371.03  10:02:00  16:00:00  0.29   1.09   \n",
       "25  2022-11-04      Long   373.185  376.34  09:52:00  16:00:00  0.85   3.15   \n",
       "26  2022-11-07      Long    376.56  379.84  09:38:00  16:00:00  0.87   3.28   \n",
       "27  2022-11-08      Long    380.13  381.53  09:42:00  16:00:00  0.37    1.4   \n",
       "28  2022-11-09      Long    379.32  374.25  09:34:00  16:00:00 -1.34  -5.07   \n",
       "29  2022-11-10      Long   388.745  394.47  10:39:00  16:00:00  1.47   5.73   \n",
       "30  2022-11-11      Long  395.0518  398.16  09:32:00  16:00:00  0.79   3.11   \n",
       "31  2022-11-14      Long    397.34  395.43  09:30:00  16:00:00 -0.48  -1.91   \n",
       "32  2022-11-15      Long  400.6416  398.79  09:49:00  16:00:00 -0.46  -1.85   \n",
       "33  2022-11-16      Long     395.8   395.6  10:59:00  16:00:00 -0.05   -0.2   \n",
       "34  2022-11-17      Long    390.62  394.31  10:02:00  16:00:00  0.94   3.69   \n",
       "35  2022-11-18      Long  396.2242  395.97  09:39:00  16:00:00 -0.06  -0.25   \n",
       "36  2022-11-21      Long   394.995  394.62  09:45:00  16:00:00 -0.09  -0.38   \n",
       "37  2022-11-22      Long    396.38   399.8  09:34:00  16:00:00  0.86   3.42   \n",
       "38  2022-11-23      Long    401.84  402.42  11:36:00  16:00:00  0.14   0.58   \n",
       "39  2022-11-25      Long  402.5599  402.37  11:21:00  15:59:00 -0.05  -0.19   \n",
       "40  2022-11-28      Long    399.35   396.2  10:28:00  16:00:00 -0.79  -3.15   \n",
       "41  2022-11-29      Long    395.56  395.34  09:56:00  16:00:00 -0.06  -0.22   \n",
       "42  2022-11-30      Long    394.48  407.32  10:01:00  16:00:00  3.25  12.84   \n",
       "43  2022-12-01      Long    405.85  407.08  10:25:00  16:00:00   0.3   1.23   \n",
       "44  2022-12-02      Long    403.67  406.52  10:28:00  16:00:00  0.71   2.85   \n",
       "45  2022-12-05      Long    403.88  399.78  09:53:00  16:00:00 -1.02   -4.1   \n",
       "46  2022-12-06      Long    399.65  393.84  09:30:00  16:00:00 -1.45  -5.81   \n",
       "47  2022-12-07      Long     393.0  393.35  09:56:00  16:00:00  0.09   0.35   \n",
       "48  2022-12-08      Long    394.54  396.11  09:39:00  16:00:00   0.4   1.57   \n",
       "49  2022-12-09      Long   396.535   393.1  11:14:00  16:00:00 -0.87  -3.44   \n",
       "\n",
       "   ExitCondition  \n",
       "0       EndOfDay  \n",
       "1       EndOfDay  \n",
       "2       EndOfDay  \n",
       "3       EndOfDay  \n",
       "4       EndOfDay  \n",
       "5       EndOfDay  \n",
       "6       EndOfDay  \n",
       "7       EndOfDay  \n",
       "8       EndOfDay  \n",
       "9       EndOfDay  \n",
       "10      EndOfDay  \n",
       "11      EndOfDay  \n",
       "12      EndOfDay  \n",
       "13      EndOfDay  \n",
       "14      EndOfDay  \n",
       "15      EndOfDay  \n",
       "16      EndOfDay  \n",
       "17      EndOfDay  \n",
       "18      EndOfDay  \n",
       "19      EndOfDay  \n",
       "20      EndOfDay  \n",
       "21      EndOfDay  \n",
       "22      EndOfDay  \n",
       "23      EndOfDay  \n",
       "24      EndOfDay  \n",
       "25      EndOfDay  \n",
       "26      EndOfDay  \n",
       "27      EndOfDay  \n",
       "28      EndOfDay  \n",
       "29      EndOfDay  \n",
       "30      EndOfDay  \n",
       "31      EndOfDay  \n",
       "32      EndOfDay  \n",
       "33      EndOfDay  \n",
       "34      EndOfDay  \n",
       "35      EndOfDay  \n",
       "36      EndOfDay  \n",
       "37      EndOfDay  \n",
       "38      EndOfDay  \n",
       "39      EndOfDay  \n",
       "40      EndOfDay  \n",
       "41      EndOfDay  \n",
       "42      EndOfDay  \n",
       "43      EndOfDay  \n",
       "44      EndOfDay  \n",
       "45      EndOfDay  \n",
       "46      EndOfDay  \n",
       "47      EndOfDay  \n",
       "48      EndOfDay  \n",
       "49      EndOfDay  "
      ]
     },
     "execution_count": 51,
     "metadata": {},
     "output_type": "execute_result"
    }
   ],
   "source": [
    "trades.to_csv('../temp/trades.csv', index=False)"
   ]
  },
  {
   "cell_type": "code",
   "execution_count": 41,
   "metadata": {},
   "outputs": [
    {
     "data": {
      "application/vnd.plotly.v1+json": {
       "config": {
        "plotlyServerURL": "https://plot.ly"
       },
       "data": [
        {
         "alignmentgroup": "True",
         "bingroup": "x",
         "hovertemplate": "TimeEnter=%{x}<br>count=%{y}<extra></extra>",
         "legendgroup": "",
         "marker": {
          "color": "#636efa",
          "pattern": {
           "shape": ""
          }
         },
         "name": "",
         "nbinsx": 50,
         "offsetgroup": "",
         "orientation": "v",
         "showlegend": false,
         "type": "histogram",
         "x": [
          "11:38:00",
          "09:41:00",
          "10:26:00",
          "10:13:00",
          "10:14:00",
          "09:33:00",
          "09:36:00",
          "09:30:00",
          "09:34:00",
          "10:29:00",
          "09:35:00",
          "10:31:00",
          "10:39:00",
          "09:50:00",
          "09:32:00",
          "10:21:00",
          "10:13:00",
          "10:39:00",
          "11:57:00",
          "10:01:00",
          "12:00:00",
          "09:30:00",
          "09:31:00",
          "09:44:00",
          "10:02:00",
          "09:52:00",
          "09:38:00",
          "09:42:00",
          "09:34:00",
          "10:39:00",
          "09:32:00",
          "09:30:00",
          "09:49:00",
          "10:59:00",
          "10:02:00",
          "09:39:00",
          "09:45:00",
          "09:34:00",
          "11:36:00",
          "11:21:00",
          "10:28:00",
          "09:56:00",
          "10:01:00",
          "10:25:00",
          "10:28:00",
          "09:53:00",
          "09:30:00",
          "09:56:00",
          "09:39:00",
          "11:14:00",
          "10:20:00",
          "09:43:00",
          "10:33:00",
          "10:09:00",
          "10:18:00",
          "09:56:00",
          "11:11:00",
          "09:36:00",
          "09:36:00",
          "09:56:00",
          "09:48:00",
          "09:31:00",
          "10:49:00",
          "09:51:00",
          "09:32:00",
          "10:13:00",
          "09:33:00",
          "09:43:00",
          "09:38:00",
          "09:48:00",
          "10:36:00",
          "09:54:00",
          "11:13:00",
          "10:44:00",
          "10:39:00",
          "09:55:00",
          "09:40:00",
          "11:36:00",
          "10:08:00",
          "09:30:00",
          "09:57:00",
          "10:22:00",
          "10:26:00",
          "11:50:00",
          "09:35:00",
          "09:36:00",
          "10:57:00",
          "10:17:00",
          "11:04:00",
          "10:36:00",
          "09:42:00",
          "10:03:00",
          "11:28:00",
          "09:33:00",
          "09:57:00",
          "13:00:00",
          "09:57:00",
          "09:56:00",
          "10:20:00",
          "10:12:00",
          "09:47:00",
          "09:34:00",
          "09:38:00",
          "10:16:00",
          "10:49:00",
          "09:36:00",
          "11:28:00",
          "10:15:00",
          "09:44:00",
          "09:32:00",
          "09:51:00",
          "09:32:00",
          "12:08:00",
          "09:59:00",
          "10:11:00",
          "09:53:00",
          "10:19:00",
          "10:16:00",
          "09:35:00",
          "11:22:00",
          "09:43:00",
          "09:31:00",
          "10:25:00",
          "10:36:00",
          "09:40:00",
          "12:39:00",
          "11:04:00",
          "09:33:00",
          "10:12:00",
          "09:36:00",
          "09:32:00",
          "09:32:00",
          "09:30:00",
          "10:48:00",
          "10:12:00",
          "10:47:00",
          "09:31:00",
          "11:34:00",
          "10:01:00",
          "09:56:00",
          "10:06:00",
          "09:47:00",
          "10:28:00",
          "11:00:00",
          "10:38:00",
          "10:04:00",
          "09:33:00",
          "10:16:00",
          "09:52:00",
          "10:58:00",
          "09:35:00",
          "09:33:00",
          "09:54:00",
          "09:39:00",
          "09:31:00",
          "09:30:00",
          "10:01:00",
          "09:43:00",
          "11:17:00",
          "09:31:00",
          "09:57:00",
          "10:15:00",
          "09:49:00",
          "09:43:00",
          "11:14:00",
          "09:31:00",
          "09:59:00",
          "09:38:00",
          "10:02:00",
          "09:57:00",
          "09:40:00",
          "10:15:00",
          "09:47:00",
          "10:45:00",
          "09:32:00",
          "09:31:00",
          "09:32:00",
          "13:11:00",
          "09:43:00",
          "09:31:00",
          "09:39:00",
          "10:48:00",
          "09:31:00",
          "10:33:00",
          "11:12:00",
          "09:32:00",
          "10:48:00",
          "10:49:00",
          "09:30:00",
          "12:03:00",
          "09:39:00",
          "10:17:00",
          "10:38:00",
          "09:30:00",
          "10:55:00",
          "10:25:00",
          "10:33:00",
          "12:22:00",
          "15:01:00",
          "10:38:00",
          "10:01:00",
          "09:34:00",
          "09:51:00",
          "10:40:00",
          "10:46:00",
          "09:30:00",
          "12:09:00",
          "09:31:00",
          "10:26:00",
          "09:38:00",
          "09:34:00",
          "09:56:00",
          "09:44:00",
          "09:56:00",
          "09:32:00",
          "10:51:00",
          "09:32:00",
          "11:10:00",
          "09:49:00",
          "10:04:00",
          "09:46:00",
          "10:02:00",
          "09:53:00",
          "09:33:00",
          "11:44:00",
          "09:45:00",
          "10:27:00",
          "10:39:00",
          "10:48:00",
          "10:31:00",
          "10:52:00",
          "09:42:00",
          "09:45:00",
          "09:41:00",
          "09:57:00",
          "10:42:00",
          "09:52:00",
          "10:31:00",
          "10:19:00",
          "09:51:00",
          "09:39:00",
          "09:49:00",
          "10:14:00",
          "09:34:00",
          "09:44:00",
          "09:30:00",
          "10:26:00",
          "09:59:00",
          "09:41:00",
          "10:17:00",
          "09:43:00"
         ],
         "xaxis": "x",
         "yaxis": "y"
        }
       ],
       "layout": {
        "bargap": 0.1,
        "barmode": "relative",
        "legend": {
         "tracegroupgap": 0
        },
        "template": {
         "data": {
          "bar": [
           {
            "error_x": {
             "color": "#2a3f5f"
            },
            "error_y": {
             "color": "#2a3f5f"
            },
            "marker": {
             "line": {
              "color": "#E5ECF6",
              "width": 0.5
             },
             "pattern": {
              "fillmode": "overlay",
              "size": 10,
              "solidity": 0.2
             }
            },
            "type": "bar"
           }
          ],
          "barpolar": [
           {
            "marker": {
             "line": {
              "color": "#E5ECF6",
              "width": 0.5
             },
             "pattern": {
              "fillmode": "overlay",
              "size": 10,
              "solidity": 0.2
             }
            },
            "type": "barpolar"
           }
          ],
          "carpet": [
           {
            "aaxis": {
             "endlinecolor": "#2a3f5f",
             "gridcolor": "white",
             "linecolor": "white",
             "minorgridcolor": "white",
             "startlinecolor": "#2a3f5f"
            },
            "baxis": {
             "endlinecolor": "#2a3f5f",
             "gridcolor": "white",
             "linecolor": "white",
             "minorgridcolor": "white",
             "startlinecolor": "#2a3f5f"
            },
            "type": "carpet"
           }
          ],
          "choropleth": [
           {
            "colorbar": {
             "outlinewidth": 0,
             "ticks": ""
            },
            "type": "choropleth"
           }
          ],
          "contour": [
           {
            "colorbar": {
             "outlinewidth": 0,
             "ticks": ""
            },
            "colorscale": [
             [
              0,
              "#0d0887"
             ],
             [
              0.1111111111111111,
              "#46039f"
             ],
             [
              0.2222222222222222,
              "#7201a8"
             ],
             [
              0.3333333333333333,
              "#9c179e"
             ],
             [
              0.4444444444444444,
              "#bd3786"
             ],
             [
              0.5555555555555556,
              "#d8576b"
             ],
             [
              0.6666666666666666,
              "#ed7953"
             ],
             [
              0.7777777777777778,
              "#fb9f3a"
             ],
             [
              0.8888888888888888,
              "#fdca26"
             ],
             [
              1,
              "#f0f921"
             ]
            ],
            "type": "contour"
           }
          ],
          "contourcarpet": [
           {
            "colorbar": {
             "outlinewidth": 0,
             "ticks": ""
            },
            "type": "contourcarpet"
           }
          ],
          "heatmap": [
           {
            "colorbar": {
             "outlinewidth": 0,
             "ticks": ""
            },
            "colorscale": [
             [
              0,
              "#0d0887"
             ],
             [
              0.1111111111111111,
              "#46039f"
             ],
             [
              0.2222222222222222,
              "#7201a8"
             ],
             [
              0.3333333333333333,
              "#9c179e"
             ],
             [
              0.4444444444444444,
              "#bd3786"
             ],
             [
              0.5555555555555556,
              "#d8576b"
             ],
             [
              0.6666666666666666,
              "#ed7953"
             ],
             [
              0.7777777777777778,
              "#fb9f3a"
             ],
             [
              0.8888888888888888,
              "#fdca26"
             ],
             [
              1,
              "#f0f921"
             ]
            ],
            "type": "heatmap"
           }
          ],
          "heatmapgl": [
           {
            "colorbar": {
             "outlinewidth": 0,
             "ticks": ""
            },
            "colorscale": [
             [
              0,
              "#0d0887"
             ],
             [
              0.1111111111111111,
              "#46039f"
             ],
             [
              0.2222222222222222,
              "#7201a8"
             ],
             [
              0.3333333333333333,
              "#9c179e"
             ],
             [
              0.4444444444444444,
              "#bd3786"
             ],
             [
              0.5555555555555556,
              "#d8576b"
             ],
             [
              0.6666666666666666,
              "#ed7953"
             ],
             [
              0.7777777777777778,
              "#fb9f3a"
             ],
             [
              0.8888888888888888,
              "#fdca26"
             ],
             [
              1,
              "#f0f921"
             ]
            ],
            "type": "heatmapgl"
           }
          ],
          "histogram": [
           {
            "marker": {
             "pattern": {
              "fillmode": "overlay",
              "size": 10,
              "solidity": 0.2
             }
            },
            "type": "histogram"
           }
          ],
          "histogram2d": [
           {
            "colorbar": {
             "outlinewidth": 0,
             "ticks": ""
            },
            "colorscale": [
             [
              0,
              "#0d0887"
             ],
             [
              0.1111111111111111,
              "#46039f"
             ],
             [
              0.2222222222222222,
              "#7201a8"
             ],
             [
              0.3333333333333333,
              "#9c179e"
             ],
             [
              0.4444444444444444,
              "#bd3786"
             ],
             [
              0.5555555555555556,
              "#d8576b"
             ],
             [
              0.6666666666666666,
              "#ed7953"
             ],
             [
              0.7777777777777778,
              "#fb9f3a"
             ],
             [
              0.8888888888888888,
              "#fdca26"
             ],
             [
              1,
              "#f0f921"
             ]
            ],
            "type": "histogram2d"
           }
          ],
          "histogram2dcontour": [
           {
            "colorbar": {
             "outlinewidth": 0,
             "ticks": ""
            },
            "colorscale": [
             [
              0,
              "#0d0887"
             ],
             [
              0.1111111111111111,
              "#46039f"
             ],
             [
              0.2222222222222222,
              "#7201a8"
             ],
             [
              0.3333333333333333,
              "#9c179e"
             ],
             [
              0.4444444444444444,
              "#bd3786"
             ],
             [
              0.5555555555555556,
              "#d8576b"
             ],
             [
              0.6666666666666666,
              "#ed7953"
             ],
             [
              0.7777777777777778,
              "#fb9f3a"
             ],
             [
              0.8888888888888888,
              "#fdca26"
             ],
             [
              1,
              "#f0f921"
             ]
            ],
            "type": "histogram2dcontour"
           }
          ],
          "mesh3d": [
           {
            "colorbar": {
             "outlinewidth": 0,
             "ticks": ""
            },
            "type": "mesh3d"
           }
          ],
          "parcoords": [
           {
            "line": {
             "colorbar": {
              "outlinewidth": 0,
              "ticks": ""
             }
            },
            "type": "parcoords"
           }
          ],
          "pie": [
           {
            "automargin": true,
            "type": "pie"
           }
          ],
          "scatter": [
           {
            "fillpattern": {
             "fillmode": "overlay",
             "size": 10,
             "solidity": 0.2
            },
            "type": "scatter"
           }
          ],
          "scatter3d": [
           {
            "line": {
             "colorbar": {
              "outlinewidth": 0,
              "ticks": ""
             }
            },
            "marker": {
             "colorbar": {
              "outlinewidth": 0,
              "ticks": ""
             }
            },
            "type": "scatter3d"
           }
          ],
          "scattercarpet": [
           {
            "marker": {
             "colorbar": {
              "outlinewidth": 0,
              "ticks": ""
             }
            },
            "type": "scattercarpet"
           }
          ],
          "scattergeo": [
           {
            "marker": {
             "colorbar": {
              "outlinewidth": 0,
              "ticks": ""
             }
            },
            "type": "scattergeo"
           }
          ],
          "scattergl": [
           {
            "marker": {
             "colorbar": {
              "outlinewidth": 0,
              "ticks": ""
             }
            },
            "type": "scattergl"
           }
          ],
          "scattermapbox": [
           {
            "marker": {
             "colorbar": {
              "outlinewidth": 0,
              "ticks": ""
             }
            },
            "type": "scattermapbox"
           }
          ],
          "scatterpolar": [
           {
            "marker": {
             "colorbar": {
              "outlinewidth": 0,
              "ticks": ""
             }
            },
            "type": "scatterpolar"
           }
          ],
          "scatterpolargl": [
           {
            "marker": {
             "colorbar": {
              "outlinewidth": 0,
              "ticks": ""
             }
            },
            "type": "scatterpolargl"
           }
          ],
          "scatterternary": [
           {
            "marker": {
             "colorbar": {
              "outlinewidth": 0,
              "ticks": ""
             }
            },
            "type": "scatterternary"
           }
          ],
          "surface": [
           {
            "colorbar": {
             "outlinewidth": 0,
             "ticks": ""
            },
            "colorscale": [
             [
              0,
              "#0d0887"
             ],
             [
              0.1111111111111111,
              "#46039f"
             ],
             [
              0.2222222222222222,
              "#7201a8"
             ],
             [
              0.3333333333333333,
              "#9c179e"
             ],
             [
              0.4444444444444444,
              "#bd3786"
             ],
             [
              0.5555555555555556,
              "#d8576b"
             ],
             [
              0.6666666666666666,
              "#ed7953"
             ],
             [
              0.7777777777777778,
              "#fb9f3a"
             ],
             [
              0.8888888888888888,
              "#fdca26"
             ],
             [
              1,
              "#f0f921"
             ]
            ],
            "type": "surface"
           }
          ],
          "table": [
           {
            "cells": {
             "fill": {
              "color": "#EBF0F8"
             },
             "line": {
              "color": "white"
             }
            },
            "header": {
             "fill": {
              "color": "#C8D4E3"
             },
             "line": {
              "color": "white"
             }
            },
            "type": "table"
           }
          ]
         },
         "layout": {
          "annotationdefaults": {
           "arrowcolor": "#2a3f5f",
           "arrowhead": 0,
           "arrowwidth": 1
          },
          "autotypenumbers": "strict",
          "coloraxis": {
           "colorbar": {
            "outlinewidth": 0,
            "ticks": ""
           }
          },
          "colorscale": {
           "diverging": [
            [
             0,
             "#8e0152"
            ],
            [
             0.1,
             "#c51b7d"
            ],
            [
             0.2,
             "#de77ae"
            ],
            [
             0.3,
             "#f1b6da"
            ],
            [
             0.4,
             "#fde0ef"
            ],
            [
             0.5,
             "#f7f7f7"
            ],
            [
             0.6,
             "#e6f5d0"
            ],
            [
             0.7,
             "#b8e186"
            ],
            [
             0.8,
             "#7fbc41"
            ],
            [
             0.9,
             "#4d9221"
            ],
            [
             1,
             "#276419"
            ]
           ],
           "sequential": [
            [
             0,
             "#0d0887"
            ],
            [
             0.1111111111111111,
             "#46039f"
            ],
            [
             0.2222222222222222,
             "#7201a8"
            ],
            [
             0.3333333333333333,
             "#9c179e"
            ],
            [
             0.4444444444444444,
             "#bd3786"
            ],
            [
             0.5555555555555556,
             "#d8576b"
            ],
            [
             0.6666666666666666,
             "#ed7953"
            ],
            [
             0.7777777777777778,
             "#fb9f3a"
            ],
            [
             0.8888888888888888,
             "#fdca26"
            ],
            [
             1,
             "#f0f921"
            ]
           ],
           "sequentialminus": [
            [
             0,
             "#0d0887"
            ],
            [
             0.1111111111111111,
             "#46039f"
            ],
            [
             0.2222222222222222,
             "#7201a8"
            ],
            [
             0.3333333333333333,
             "#9c179e"
            ],
            [
             0.4444444444444444,
             "#bd3786"
            ],
            [
             0.5555555555555556,
             "#d8576b"
            ],
            [
             0.6666666666666666,
             "#ed7953"
            ],
            [
             0.7777777777777778,
             "#fb9f3a"
            ],
            [
             0.8888888888888888,
             "#fdca26"
            ],
            [
             1,
             "#f0f921"
            ]
           ]
          },
          "colorway": [
           "#636efa",
           "#EF553B",
           "#00cc96",
           "#ab63fa",
           "#FFA15A",
           "#19d3f3",
           "#FF6692",
           "#B6E880",
           "#FF97FF",
           "#FECB52"
          ],
          "font": {
           "color": "#2a3f5f"
          },
          "geo": {
           "bgcolor": "white",
           "lakecolor": "white",
           "landcolor": "#E5ECF6",
           "showlakes": true,
           "showland": true,
           "subunitcolor": "white"
          },
          "hoverlabel": {
           "align": "left"
          },
          "hovermode": "closest",
          "mapbox": {
           "style": "light"
          },
          "paper_bgcolor": "white",
          "plot_bgcolor": "#E5ECF6",
          "polar": {
           "angularaxis": {
            "gridcolor": "white",
            "linecolor": "white",
            "ticks": ""
           },
           "bgcolor": "#E5ECF6",
           "radialaxis": {
            "gridcolor": "white",
            "linecolor": "white",
            "ticks": ""
           }
          },
          "scene": {
           "xaxis": {
            "backgroundcolor": "#E5ECF6",
            "gridcolor": "white",
            "gridwidth": 2,
            "linecolor": "white",
            "showbackground": true,
            "ticks": "",
            "zerolinecolor": "white"
           },
           "yaxis": {
            "backgroundcolor": "#E5ECF6",
            "gridcolor": "white",
            "gridwidth": 2,
            "linecolor": "white",
            "showbackground": true,
            "ticks": "",
            "zerolinecolor": "white"
           },
           "zaxis": {
            "backgroundcolor": "#E5ECF6",
            "gridcolor": "white",
            "gridwidth": 2,
            "linecolor": "white",
            "showbackground": true,
            "ticks": "",
            "zerolinecolor": "white"
           }
          },
          "shapedefaults": {
           "line": {
            "color": "#2a3f5f"
           }
          },
          "ternary": {
           "aaxis": {
            "gridcolor": "white",
            "linecolor": "white",
            "ticks": ""
           },
           "baxis": {
            "gridcolor": "white",
            "linecolor": "white",
            "ticks": ""
           },
           "bgcolor": "#E5ECF6",
           "caxis": {
            "gridcolor": "white",
            "linecolor": "white",
            "ticks": ""
           }
          },
          "title": {
           "x": 0.05
          },
          "xaxis": {
           "automargin": true,
           "gridcolor": "white",
           "linecolor": "white",
           "ticks": "",
           "title": {
            "standoff": 15
           },
           "zerolinecolor": "white",
           "zerolinewidth": 2
          },
          "yaxis": {
           "automargin": true,
           "gridcolor": "white",
           "linecolor": "white",
           "ticks": "",
           "title": {
            "standoff": 15
           },
           "zerolinecolor": "white",
           "zerolinewidth": 2
          }
         }
        },
        "title": {
         "text": "Histogram of Time to Enter Trade"
        },
        "xaxis": {
         "anchor": "y",
         "domain": [
          0,
          1
         ],
         "title": {
          "text": "Time"
         }
        },
        "yaxis": {
         "anchor": "x",
         "domain": [
          0,
          1
         ],
         "title": {
          "text": "Count"
         }
        }
       }
      }
     },
     "metadata": {},
     "output_type": "display_data"
    }
   ],
   "source": [
    "fig = px.histogram(trades, x=\"TimeEnter\", nbins=50, title=\"Histogram of Time to Enter Trade\")\n",
    "fig.update_layout(\n",
    "    xaxis_title=\"Time\",\n",
    "    yaxis_title=\"Count\",\n",
    "    bargap=0.1\n",
    ")\n",
    "fig.show()"
   ]
  },
  {
   "cell_type": "code",
   "execution_count": 42,
   "metadata": {},
   "outputs": [
    {
     "data": {
      "application/vnd.plotly.v1+json": {
       "config": {
        "plotlyServerURL": "https://plot.ly"
       },
       "data": [
        {
         "hovertemplate": "TimeEnter=%{x}<br>Gain%=%{y}<extra></extra>",
         "legendgroup": "",
         "marker": {
          "color": "#636efa",
          "symbol": "circle"
         },
         "mode": "markers",
         "name": "",
         "orientation": "v",
         "showlegend": false,
         "type": "scatter",
         "x": [
          "11:38:00",
          "09:41:00",
          "10:26:00",
          "10:13:00",
          "10:14:00",
          "09:33:00",
          "09:36:00",
          "09:30:00",
          "09:34:00",
          "10:29:00",
          "09:35:00",
          "10:31:00",
          "10:39:00",
          "09:50:00",
          "09:32:00",
          "10:21:00",
          "10:13:00",
          "10:39:00",
          "11:57:00",
          "10:01:00",
          "12:00:00",
          "09:30:00",
          "09:31:00",
          "09:44:00",
          "10:02:00",
          "09:52:00",
          "09:38:00",
          "09:42:00",
          "09:34:00",
          "10:39:00",
          "09:32:00",
          "09:30:00",
          "09:49:00",
          "10:59:00",
          "10:02:00",
          "09:39:00",
          "09:45:00",
          "09:34:00",
          "11:36:00",
          "11:21:00",
          "10:28:00",
          "09:56:00",
          "10:01:00",
          "10:25:00",
          "10:28:00",
          "09:53:00",
          "09:30:00",
          "09:56:00",
          "09:39:00",
          "11:14:00",
          "10:20:00",
          "09:43:00",
          "10:33:00",
          "10:09:00",
          "10:18:00",
          "09:56:00",
          "11:11:00",
          "09:36:00",
          "09:36:00",
          "09:56:00",
          "09:48:00",
          "09:31:00",
          "10:49:00",
          "09:51:00",
          "09:32:00",
          "10:13:00",
          "09:33:00",
          "09:43:00",
          "09:38:00",
          "09:48:00",
          "10:36:00",
          "09:54:00",
          "11:13:00",
          "10:44:00",
          "10:39:00",
          "09:55:00",
          "09:40:00",
          "11:36:00",
          "10:08:00",
          "09:30:00",
          "09:57:00",
          "10:22:00",
          "10:26:00",
          "11:50:00",
          "09:35:00",
          "09:36:00",
          "10:57:00",
          "10:17:00",
          "11:04:00",
          "10:36:00",
          "09:42:00",
          "10:03:00",
          "11:28:00",
          "09:33:00",
          "09:57:00",
          "13:00:00",
          "09:57:00",
          "09:56:00",
          "10:20:00",
          "10:12:00",
          "09:47:00",
          "09:34:00",
          "09:38:00",
          "10:16:00",
          "10:49:00",
          "09:36:00",
          "11:28:00",
          "10:15:00",
          "09:44:00",
          "09:32:00",
          "09:51:00",
          "09:32:00",
          "12:08:00",
          "09:59:00",
          "10:11:00",
          "09:53:00",
          "10:19:00",
          "10:16:00",
          "09:35:00",
          "11:22:00",
          "09:43:00",
          "09:31:00",
          "10:25:00",
          "10:36:00",
          "09:40:00",
          "12:39:00",
          "11:04:00",
          "09:33:00",
          "10:12:00",
          "09:36:00",
          "09:32:00",
          "09:32:00",
          "09:30:00",
          "10:48:00",
          "10:12:00",
          "10:47:00",
          "09:31:00",
          "11:34:00",
          "10:01:00",
          "09:56:00",
          "10:06:00",
          "09:47:00",
          "10:28:00",
          "11:00:00",
          "10:38:00",
          "10:04:00",
          "09:33:00",
          "10:16:00",
          "09:52:00",
          "10:58:00",
          "09:35:00",
          "09:33:00",
          "09:54:00",
          "09:39:00",
          "09:31:00",
          "09:30:00",
          "10:01:00",
          "09:43:00",
          "11:17:00",
          "09:31:00",
          "09:57:00",
          "10:15:00",
          "09:49:00",
          "09:43:00",
          "11:14:00",
          "09:31:00",
          "09:59:00",
          "09:38:00",
          "10:02:00",
          "09:57:00",
          "09:40:00",
          "10:15:00",
          "09:47:00",
          "10:45:00",
          "09:32:00",
          "09:31:00",
          "09:32:00",
          "13:11:00",
          "09:43:00",
          "09:31:00",
          "09:39:00",
          "10:48:00",
          "09:31:00",
          "10:33:00",
          "11:12:00",
          "09:32:00",
          "10:48:00",
          "10:49:00",
          "09:30:00",
          "12:03:00",
          "09:39:00",
          "10:17:00",
          "10:38:00",
          "09:30:00",
          "10:55:00",
          "10:25:00",
          "10:33:00",
          "12:22:00",
          "15:01:00",
          "10:38:00",
          "10:01:00",
          "09:34:00",
          "09:51:00",
          "10:40:00",
          "10:46:00",
          "09:30:00",
          "12:09:00",
          "09:31:00",
          "10:26:00",
          "09:38:00",
          "09:34:00",
          "09:56:00",
          "09:44:00",
          "09:56:00",
          "09:32:00",
          "10:51:00",
          "09:32:00",
          "11:10:00",
          "09:49:00",
          "10:04:00",
          "09:46:00",
          "10:02:00",
          "09:53:00",
          "09:33:00",
          "11:44:00",
          "09:45:00",
          "10:27:00",
          "10:39:00",
          "10:48:00",
          "10:31:00",
          "10:52:00",
          "09:42:00",
          "09:45:00",
          "09:41:00",
          "09:57:00",
          "10:42:00",
          "09:52:00",
          "10:31:00",
          "10:19:00",
          "09:51:00",
          "09:39:00",
          "09:49:00",
          "10:14:00",
          "09:34:00",
          "09:44:00",
          "09:30:00",
          "10:26:00",
          "09:59:00",
          "09:41:00",
          "10:17:00",
          "09:43:00"
         ],
         "xaxis": "x",
         "y": [
          -1.86,
          1.8,
          0.36,
          1.41,
          -0.4,
          -1.56,
          -0.73,
          -0.17,
          -0.33,
          3.85,
          -2.89,
          0,
          -0.13,
          -0.13,
          -0.76,
          1.46,
          0.89,
          0.65,
          -1.17,
          -0.26,
          0.84,
          -0.18,
          -1.29,
          -2.18,
          0.29,
          0.85,
          0.87,
          0.37,
          -1.34,
          1.47,
          0.79,
          -0.48,
          -0.46,
          -0.05,
          0.94,
          -0.06,
          -0.09,
          0.86,
          0.14,
          -0.05,
          -0.79,
          -0.06,
          3.25,
          0.3,
          0.71,
          -1.02,
          -1.45,
          0.09,
          0.4,
          -0.87,
          1.11,
          -1.75,
          -1.06,
          -0.32,
          -0.09,
          -0.55,
          -0.04,
          0.81,
          -0.25,
          1.17,
          0.31,
          -1.45,
          0.09,
          0.63,
          -1.2,
          0.64,
          -0.29,
          2.09,
          -0.56,
          0.7,
          0.84,
          1,
          0.71,
          -0.09,
          -1.68,
          0.06,
          1.61,
          -0.21,
          0.52,
          1.14,
          0.78,
          0.06,
          -0.63,
          0.81,
          1.31,
          0.66,
          -0.78,
          0.21,
          1.4,
          -0.45,
          -1.55,
          0.6,
          0.29,
          0.55,
          0.88,
          -1.03,
          0.62,
          -0.89,
          0.01,
          -0.04,
          0.39,
          -0.37,
          -0.29,
          0.03,
          1,
          1.11,
          -0.49,
          -0.66,
          0.15,
          -2.05,
          -0.7,
          0.84,
          -0.18,
          0.96,
          2.22,
          -0.56,
          0.58,
          0.51,
          -1.43,
          -1.39,
          1.3,
          -0.45,
          -0.01,
          0.5,
          -0.02,
          0.44,
          0.44,
          -0.66,
          0.01,
          0.68,
          0.79,
          -0.02,
          -0.92,
          0.73,
          -0.2,
          0.39,
          -0.32,
          0.2,
          0.09,
          0.22,
          0.03,
          -0.98,
          -0.21,
          1.08,
          0.55,
          -0.07,
          -0.82,
          -0.92,
          -0.17,
          0.33,
          -0.01,
          0.03,
          0.26,
          0.22,
          -0.49,
          0.16,
          -0.34,
          0.74,
          0.41,
          -0.33,
          -0.08,
          -0.75,
          -0.15,
          0.32,
          0.29,
          -0.53,
          0.01,
          0.95,
          0.74,
          -0.25,
          0.38,
          -0.46,
          0.66,
          -0.31,
          0.67,
          0.23,
          0.1,
          0.48,
          -0.4,
          -0.18,
          -0.14,
          0.43,
          0.04,
          -0.4,
          0.7,
          0.41,
          0.42,
          0.14,
          0.28,
          -0.05,
          0.16,
          -0.2,
          0.14,
          0.38,
          -0.21,
          0.38,
          -0.3,
          0.04,
          -0.01,
          -0.18,
          -0.5,
          -0.37,
          0.15,
          0.14,
          0.21,
          -1.36,
          -0.07,
          0.02,
          0.11,
          -0.63,
          0.12,
          -0.79,
          0.42,
          0.53,
          -0.63,
          -0.79,
          0.43,
          0.29,
          -0.54,
          -0.83,
          -0.96,
          0.6,
          0.26,
          -0.62,
          0.19,
          -1.57,
          0.57,
          0.02,
          0.73,
          0.28,
          -0.36,
          -0.23,
          -0.15,
          -0.4,
          0.31,
          -0.19,
          0.25,
          -0.18,
          0.29,
          0.42,
          -0.73,
          0.16,
          0.33,
          -1.19,
          -0.85,
          -0.37,
          0.66,
          -0.68,
          -0.16,
          0.43,
          -0.84
         ],
         "yaxis": "y"
        }
       ],
       "layout": {
        "bargap": 0.1,
        "legend": {
         "tracegroupgap": 0
        },
        "template": {
         "data": {
          "bar": [
           {
            "error_x": {
             "color": "#2a3f5f"
            },
            "error_y": {
             "color": "#2a3f5f"
            },
            "marker": {
             "line": {
              "color": "#E5ECF6",
              "width": 0.5
             },
             "pattern": {
              "fillmode": "overlay",
              "size": 10,
              "solidity": 0.2
             }
            },
            "type": "bar"
           }
          ],
          "barpolar": [
           {
            "marker": {
             "line": {
              "color": "#E5ECF6",
              "width": 0.5
             },
             "pattern": {
              "fillmode": "overlay",
              "size": 10,
              "solidity": 0.2
             }
            },
            "type": "barpolar"
           }
          ],
          "carpet": [
           {
            "aaxis": {
             "endlinecolor": "#2a3f5f",
             "gridcolor": "white",
             "linecolor": "white",
             "minorgridcolor": "white",
             "startlinecolor": "#2a3f5f"
            },
            "baxis": {
             "endlinecolor": "#2a3f5f",
             "gridcolor": "white",
             "linecolor": "white",
             "minorgridcolor": "white",
             "startlinecolor": "#2a3f5f"
            },
            "type": "carpet"
           }
          ],
          "choropleth": [
           {
            "colorbar": {
             "outlinewidth": 0,
             "ticks": ""
            },
            "type": "choropleth"
           }
          ],
          "contour": [
           {
            "colorbar": {
             "outlinewidth": 0,
             "ticks": ""
            },
            "colorscale": [
             [
              0,
              "#0d0887"
             ],
             [
              0.1111111111111111,
              "#46039f"
             ],
             [
              0.2222222222222222,
              "#7201a8"
             ],
             [
              0.3333333333333333,
              "#9c179e"
             ],
             [
              0.4444444444444444,
              "#bd3786"
             ],
             [
              0.5555555555555556,
              "#d8576b"
             ],
             [
              0.6666666666666666,
              "#ed7953"
             ],
             [
              0.7777777777777778,
              "#fb9f3a"
             ],
             [
              0.8888888888888888,
              "#fdca26"
             ],
             [
              1,
              "#f0f921"
             ]
            ],
            "type": "contour"
           }
          ],
          "contourcarpet": [
           {
            "colorbar": {
             "outlinewidth": 0,
             "ticks": ""
            },
            "type": "contourcarpet"
           }
          ],
          "heatmap": [
           {
            "colorbar": {
             "outlinewidth": 0,
             "ticks": ""
            },
            "colorscale": [
             [
              0,
              "#0d0887"
             ],
             [
              0.1111111111111111,
              "#46039f"
             ],
             [
              0.2222222222222222,
              "#7201a8"
             ],
             [
              0.3333333333333333,
              "#9c179e"
             ],
             [
              0.4444444444444444,
              "#bd3786"
             ],
             [
              0.5555555555555556,
              "#d8576b"
             ],
             [
              0.6666666666666666,
              "#ed7953"
             ],
             [
              0.7777777777777778,
              "#fb9f3a"
             ],
             [
              0.8888888888888888,
              "#fdca26"
             ],
             [
              1,
              "#f0f921"
             ]
            ],
            "type": "heatmap"
           }
          ],
          "heatmapgl": [
           {
            "colorbar": {
             "outlinewidth": 0,
             "ticks": ""
            },
            "colorscale": [
             [
              0,
              "#0d0887"
             ],
             [
              0.1111111111111111,
              "#46039f"
             ],
             [
              0.2222222222222222,
              "#7201a8"
             ],
             [
              0.3333333333333333,
              "#9c179e"
             ],
             [
              0.4444444444444444,
              "#bd3786"
             ],
             [
              0.5555555555555556,
              "#d8576b"
             ],
             [
              0.6666666666666666,
              "#ed7953"
             ],
             [
              0.7777777777777778,
              "#fb9f3a"
             ],
             [
              0.8888888888888888,
              "#fdca26"
             ],
             [
              1,
              "#f0f921"
             ]
            ],
            "type": "heatmapgl"
           }
          ],
          "histogram": [
           {
            "marker": {
             "pattern": {
              "fillmode": "overlay",
              "size": 10,
              "solidity": 0.2
             }
            },
            "type": "histogram"
           }
          ],
          "histogram2d": [
           {
            "colorbar": {
             "outlinewidth": 0,
             "ticks": ""
            },
            "colorscale": [
             [
              0,
              "#0d0887"
             ],
             [
              0.1111111111111111,
              "#46039f"
             ],
             [
              0.2222222222222222,
              "#7201a8"
             ],
             [
              0.3333333333333333,
              "#9c179e"
             ],
             [
              0.4444444444444444,
              "#bd3786"
             ],
             [
              0.5555555555555556,
              "#d8576b"
             ],
             [
              0.6666666666666666,
              "#ed7953"
             ],
             [
              0.7777777777777778,
              "#fb9f3a"
             ],
             [
              0.8888888888888888,
              "#fdca26"
             ],
             [
              1,
              "#f0f921"
             ]
            ],
            "type": "histogram2d"
           }
          ],
          "histogram2dcontour": [
           {
            "colorbar": {
             "outlinewidth": 0,
             "ticks": ""
            },
            "colorscale": [
             [
              0,
              "#0d0887"
             ],
             [
              0.1111111111111111,
              "#46039f"
             ],
             [
              0.2222222222222222,
              "#7201a8"
             ],
             [
              0.3333333333333333,
              "#9c179e"
             ],
             [
              0.4444444444444444,
              "#bd3786"
             ],
             [
              0.5555555555555556,
              "#d8576b"
             ],
             [
              0.6666666666666666,
              "#ed7953"
             ],
             [
              0.7777777777777778,
              "#fb9f3a"
             ],
             [
              0.8888888888888888,
              "#fdca26"
             ],
             [
              1,
              "#f0f921"
             ]
            ],
            "type": "histogram2dcontour"
           }
          ],
          "mesh3d": [
           {
            "colorbar": {
             "outlinewidth": 0,
             "ticks": ""
            },
            "type": "mesh3d"
           }
          ],
          "parcoords": [
           {
            "line": {
             "colorbar": {
              "outlinewidth": 0,
              "ticks": ""
             }
            },
            "type": "parcoords"
           }
          ],
          "pie": [
           {
            "automargin": true,
            "type": "pie"
           }
          ],
          "scatter": [
           {
            "fillpattern": {
             "fillmode": "overlay",
             "size": 10,
             "solidity": 0.2
            },
            "type": "scatter"
           }
          ],
          "scatter3d": [
           {
            "line": {
             "colorbar": {
              "outlinewidth": 0,
              "ticks": ""
             }
            },
            "marker": {
             "colorbar": {
              "outlinewidth": 0,
              "ticks": ""
             }
            },
            "type": "scatter3d"
           }
          ],
          "scattercarpet": [
           {
            "marker": {
             "colorbar": {
              "outlinewidth": 0,
              "ticks": ""
             }
            },
            "type": "scattercarpet"
           }
          ],
          "scattergeo": [
           {
            "marker": {
             "colorbar": {
              "outlinewidth": 0,
              "ticks": ""
             }
            },
            "type": "scattergeo"
           }
          ],
          "scattergl": [
           {
            "marker": {
             "colorbar": {
              "outlinewidth": 0,
              "ticks": ""
             }
            },
            "type": "scattergl"
           }
          ],
          "scattermapbox": [
           {
            "marker": {
             "colorbar": {
              "outlinewidth": 0,
              "ticks": ""
             }
            },
            "type": "scattermapbox"
           }
          ],
          "scatterpolar": [
           {
            "marker": {
             "colorbar": {
              "outlinewidth": 0,
              "ticks": ""
             }
            },
            "type": "scatterpolar"
           }
          ],
          "scatterpolargl": [
           {
            "marker": {
             "colorbar": {
              "outlinewidth": 0,
              "ticks": ""
             }
            },
            "type": "scatterpolargl"
           }
          ],
          "scatterternary": [
           {
            "marker": {
             "colorbar": {
              "outlinewidth": 0,
              "ticks": ""
             }
            },
            "type": "scatterternary"
           }
          ],
          "surface": [
           {
            "colorbar": {
             "outlinewidth": 0,
             "ticks": ""
            },
            "colorscale": [
             [
              0,
              "#0d0887"
             ],
             [
              0.1111111111111111,
              "#46039f"
             ],
             [
              0.2222222222222222,
              "#7201a8"
             ],
             [
              0.3333333333333333,
              "#9c179e"
             ],
             [
              0.4444444444444444,
              "#bd3786"
             ],
             [
              0.5555555555555556,
              "#d8576b"
             ],
             [
              0.6666666666666666,
              "#ed7953"
             ],
             [
              0.7777777777777778,
              "#fb9f3a"
             ],
             [
              0.8888888888888888,
              "#fdca26"
             ],
             [
              1,
              "#f0f921"
             ]
            ],
            "type": "surface"
           }
          ],
          "table": [
           {
            "cells": {
             "fill": {
              "color": "#EBF0F8"
             },
             "line": {
              "color": "white"
             }
            },
            "header": {
             "fill": {
              "color": "#C8D4E3"
             },
             "line": {
              "color": "white"
             }
            },
            "type": "table"
           }
          ]
         },
         "layout": {
          "annotationdefaults": {
           "arrowcolor": "#2a3f5f",
           "arrowhead": 0,
           "arrowwidth": 1
          },
          "autotypenumbers": "strict",
          "coloraxis": {
           "colorbar": {
            "outlinewidth": 0,
            "ticks": ""
           }
          },
          "colorscale": {
           "diverging": [
            [
             0,
             "#8e0152"
            ],
            [
             0.1,
             "#c51b7d"
            ],
            [
             0.2,
             "#de77ae"
            ],
            [
             0.3,
             "#f1b6da"
            ],
            [
             0.4,
             "#fde0ef"
            ],
            [
             0.5,
             "#f7f7f7"
            ],
            [
             0.6,
             "#e6f5d0"
            ],
            [
             0.7,
             "#b8e186"
            ],
            [
             0.8,
             "#7fbc41"
            ],
            [
             0.9,
             "#4d9221"
            ],
            [
             1,
             "#276419"
            ]
           ],
           "sequential": [
            [
             0,
             "#0d0887"
            ],
            [
             0.1111111111111111,
             "#46039f"
            ],
            [
             0.2222222222222222,
             "#7201a8"
            ],
            [
             0.3333333333333333,
             "#9c179e"
            ],
            [
             0.4444444444444444,
             "#bd3786"
            ],
            [
             0.5555555555555556,
             "#d8576b"
            ],
            [
             0.6666666666666666,
             "#ed7953"
            ],
            [
             0.7777777777777778,
             "#fb9f3a"
            ],
            [
             0.8888888888888888,
             "#fdca26"
            ],
            [
             1,
             "#f0f921"
            ]
           ],
           "sequentialminus": [
            [
             0,
             "#0d0887"
            ],
            [
             0.1111111111111111,
             "#46039f"
            ],
            [
             0.2222222222222222,
             "#7201a8"
            ],
            [
             0.3333333333333333,
             "#9c179e"
            ],
            [
             0.4444444444444444,
             "#bd3786"
            ],
            [
             0.5555555555555556,
             "#d8576b"
            ],
            [
             0.6666666666666666,
             "#ed7953"
            ],
            [
             0.7777777777777778,
             "#fb9f3a"
            ],
            [
             0.8888888888888888,
             "#fdca26"
            ],
            [
             1,
             "#f0f921"
            ]
           ]
          },
          "colorway": [
           "#636efa",
           "#EF553B",
           "#00cc96",
           "#ab63fa",
           "#FFA15A",
           "#19d3f3",
           "#FF6692",
           "#B6E880",
           "#FF97FF",
           "#FECB52"
          ],
          "font": {
           "color": "#2a3f5f"
          },
          "geo": {
           "bgcolor": "white",
           "lakecolor": "white",
           "landcolor": "#E5ECF6",
           "showlakes": true,
           "showland": true,
           "subunitcolor": "white"
          },
          "hoverlabel": {
           "align": "left"
          },
          "hovermode": "closest",
          "mapbox": {
           "style": "light"
          },
          "paper_bgcolor": "white",
          "plot_bgcolor": "#E5ECF6",
          "polar": {
           "angularaxis": {
            "gridcolor": "white",
            "linecolor": "white",
            "ticks": ""
           },
           "bgcolor": "#E5ECF6",
           "radialaxis": {
            "gridcolor": "white",
            "linecolor": "white",
            "ticks": ""
           }
          },
          "scene": {
           "xaxis": {
            "backgroundcolor": "#E5ECF6",
            "gridcolor": "white",
            "gridwidth": 2,
            "linecolor": "white",
            "showbackground": true,
            "ticks": "",
            "zerolinecolor": "white"
           },
           "yaxis": {
            "backgroundcolor": "#E5ECF6",
            "gridcolor": "white",
            "gridwidth": 2,
            "linecolor": "white",
            "showbackground": true,
            "ticks": "",
            "zerolinecolor": "white"
           },
           "zaxis": {
            "backgroundcolor": "#E5ECF6",
            "gridcolor": "white",
            "gridwidth": 2,
            "linecolor": "white",
            "showbackground": true,
            "ticks": "",
            "zerolinecolor": "white"
           }
          },
          "shapedefaults": {
           "line": {
            "color": "#2a3f5f"
           }
          },
          "ternary": {
           "aaxis": {
            "gridcolor": "white",
            "linecolor": "white",
            "ticks": ""
           },
           "baxis": {
            "gridcolor": "white",
            "linecolor": "white",
            "ticks": ""
           },
           "bgcolor": "#E5ECF6",
           "caxis": {
            "gridcolor": "white",
            "linecolor": "white",
            "ticks": ""
           }
          },
          "title": {
           "x": 0.05
          },
          "xaxis": {
           "automargin": true,
           "gridcolor": "white",
           "linecolor": "white",
           "ticks": "",
           "title": {
            "standoff": 15
           },
           "zerolinecolor": "white",
           "zerolinewidth": 2
          },
          "yaxis": {
           "automargin": true,
           "gridcolor": "white",
           "linecolor": "white",
           "ticks": "",
           "title": {
            "standoff": 15
           },
           "zerolinecolor": "white",
           "zerolinewidth": 2
          }
         }
        },
        "title": {
         "text": "Entry Time vs Gain%"
        },
        "xaxis": {
         "anchor": "y",
         "domain": [
          0,
          1
         ],
         "title": {
          "text": "Time"
         }
        },
        "yaxis": {
         "anchor": "x",
         "domain": [
          0,
          1
         ],
         "title": {
          "text": "Gain%"
         }
        }
       }
      }
     },
     "metadata": {},
     "output_type": "display_data"
    }
   ],
   "source": [
    "# scatter plot of entry time vs gain%\n",
    "\n",
    "fig = px.scatter(trades, x=\"TimeEnter\", y=\"Gain%\", title=\"Entry Time vs Gain%\")\n",
    "fig.update_layout(\n",
    "    xaxis_title=\"Time\",\n",
    "    yaxis_title=\"Gain%\",\n",
    "    bargap=0.1\n",
    ")\n",
    "\n",
    "fig.show()"
   ]
  },
  {
   "cell_type": "code",
   "execution_count": 43,
   "metadata": {},
   "outputs": [],
   "source": [
    "def rsi_ranged_backtest_single_pnl(df, rsi_enter, rsi_exit, maxTrades, ticker):\n",
    "    res = pd.DataFrame()\n",
    "    res.loc[0, 'Ticker'] = ticker\n",
    "    res.loc[0, 'StartDate'] = df['Date'].min()\n",
    "    res.loc[0, 'EndDate'] = df['Date'].max()\n",
    "    res.loc[0, 'Entry'] = rsi_enter\n",
    "    res.loc[0, 'Exit'] = rsi_exit,\n",
    "    res.loc[0, 'MaxTrades'] = maxTrades,\n",
    "    res.loc[0, 'TotalTrades'] = len(df)\n",
    "    res.loc[0, 'TotalPercentGain'] = round(df['Gain%'].sum(), 2)\n",
    "    res.loc[0, 'AveragePercentGain'] = round(df['Gain%'].mean(), 2)\n",
    "    res.loc[0, 'MaxPercentGain'] = round(df['Gain%'].max(), 2)\n",
    "    res.loc[0, 'MinPercentGain'] = round(df['Gain%'].min(), 2)\n",
    "\n",
    "    return res"
   ]
  },
  {
   "cell_type": "code",
   "execution_count": 44,
   "metadata": {},
   "outputs": [],
   "source": [
    "def multi_rsi_backtest(tickers, max_trades, indicator_pairs):\n",
    "    results = pd.DataFrame(\n",
    "        columns=[\n",
    "            \"Ticker\",\"StartDate\",\"EndDate\",\"Entry\",\"Exit\",\"TotalTrades\",\n",
    "            \"TotalPercentGain\",\"AveragePercentGain\",\"MaxPercentGain\",\"MinPercentGain\"])\n",
    "\n",
    "    for e in indicator_pairs:\n",
    "        for f in max_trades:\n",
    "            for g in tickers:\n",
    "\n",
    "                df = load_data(g)\n",
    "                df = RSI(df, 14)\n",
    "\n",
    "                print(\"testing TICKER/ENTER/EXIT/MAXTRADES:\", g, e[0], e[1], f)\n",
    "                trades = simulate_date_range(datetime.date(2022, 9, 30), datetime.date(2023, 9, 30), e[0], e[1], f, df)\n",
    "                pnl = rsi_ranged_backtest_single_pnl(trades, e[0], e[1], f, g)\n",
    "                results.loc[len(results)] = pnl.loc[0]\n",
    "\n",
    "    results = results.sort_values(by=[\"TotalPercentGain\"], ascending=False)\n",
    "    return results"
   ]
  }
 ],
 "metadata": {
  "kernelspec": {
   "display_name": "Python 3",
   "language": "python",
   "name": "python3"
  },
  "language_info": {
   "codemirror_mode": {
    "name": "ipython",
    "version": 3
   },
   "file_extension": ".py",
   "mimetype": "text/x-python",
   "name": "python",
   "nbconvert_exporter": "python",
   "pygments_lexer": "ipython3",
   "version": "3.12.1"
  }
 },
 "nbformat": 4,
 "nbformat_minor": 2
}
