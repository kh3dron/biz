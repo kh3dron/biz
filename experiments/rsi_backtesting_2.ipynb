{
 "cells": [
  {
   "cell_type": "code",
   "execution_count": 251,
   "metadata": {},
   "outputs": [],
   "source": [
    "import warnings\n",
    "warnings.simplefilter(action='ignore', category=FutureWarning)\n",
    "\n",
    "import pandas as pd\n",
    "\n",
    "def load_data(ticker):\n",
    "\n",
    "    filename = '../data/' + ticker + '_1min_firstratedata.csv'\n",
    "    df = pd.read_csv(filename)\n",
    "    df['ticker'] = ticker\n",
    "\n",
    "    df[\"timestamp\"] = pd.to_datetime(df[\"timestamp\"])\n",
    "    df[\"date\"] = df[\"timestamp\"].dt.date\n",
    "    df[\"time\"] = df[\"timestamp\"].dt.time\n",
    "    return df\n",
    "\n",
    "ticker = 'SPY'\n",
    "df = load_data(ticker)"
   ]
  },
  {
   "cell_type": "code",
   "execution_count": 252,
   "metadata": {},
   "outputs": [],
   "source": [
    "import datetime\n",
    "\n",
    "def daily_summary(ticker):\n",
    "\n",
    "    # Data Preprocessing\n",
    "    filename = \"../data/\" + ticker + \"_1min_firstratedata.csv\"\n",
    "    df = pd.read_csv(filename)\n",
    "    df[\"ticker\"] = ticker\n",
    "\n",
    "    # time handling\n",
    "    df[\"timestamp\"] = pd.to_datetime(df[\"timestamp\"])\n",
    "    df[\"Date\"] = df[\"timestamp\"].dt.date\n",
    "    df[\"time\"] = df[\"timestamp\"].dt.time\n",
    "    df[\"timestamp\"] = pd.to_datetime(df[\"timestamp\"], format=\"%Y-%m-%d %H:%M:%S\")\n",
    "    \n",
    "    # Crop to market hours\n",
    "    df = df[(df[\"time\"] >= datetime.time(9, 30)) & (df[\"time\"] <= datetime.time(16, 0))]\n",
    "\n",
    "    # Get the earliest and latest times for each day\n",
    "    # Find the indices of the earliest and latest rows for each day\n",
    "    earliest_indices = df.groupby(\"Date\")[\"time\"].idxmin()\n",
    "    latest_indices = df.groupby(\"Date\")[\"time\"].idxmax()\n",
    "\n",
    "    # Concatenate the indices and drop duplicates\n",
    "    indices_to_keep = pd.concat([earliest_indices, latest_indices]).drop_duplicates()\n",
    "\n",
    "    # Create a new DataFrame with only the selected rows\n",
    "    df = df.loc[indices_to_keep]\n",
    "    df = df.sort_values(by=[\"Date\"])\n",
    "    df.drop([\"timestamp\", \"high\", \"low\"], axis=1, inplace=True)\n",
    "\n",
    "    df = df.groupby([\"Date\", \"time\"]).filter(lambda group: len(group) != 2)\n",
    "    \n",
    "    open_rows = df[df[\"time\"] == datetime.time(9, 30)][[\"Date\", \"open\", \"time\"]]\n",
    "    close_rows = df[df[\"time\"] == datetime.time(16, 0)][[\"Date\", \"close\", \"time\"]]\n",
    "\n",
    "    merged_df = pd.merge(open_rows, close_rows, on=[\"Date\"])\n",
    "    merged_df[\"dif\"] = merged_df[\"close\"] - merged_df[\"open\"]\n",
    "    merged_df[\"dif\"] = merged_df[\"dif\"].round(2)\n",
    "\n",
    "    merged_df[\"percent_change\"] = (merged_df[\"dif\"] / merged_df[\"open\"]).round(4)\n",
    "    merged_df[\"percent_change\"] = merged_df[\"percent_change\"] * 100\n",
    "\n",
    "    merged_df[\"up\"] = merged_df[\"dif\"] > 0\n",
    "    merged_df[\"up\"] = merged_df[\"up\"].astype(int)\n",
    "\n",
    "    merged_df.to_csv(\"../temp/merged.csv\", index=False)\n",
    "\n",
    "    return merged_df"
   ]
  },
  {
   "cell_type": "code",
   "execution_count": 253,
   "metadata": {},
   "outputs": [],
   "source": [
    "# Add the RSI indicator with period n to a df\n",
    "\n",
    "def RSI(df, n):\n",
    "    \"function to calculate RSI\"\n",
    "    delta = df[\"close\"].diff()\n",
    "    delta = delta[1:]\n",
    "    up, down = delta.copy(), delta.copy()\n",
    "    up[up < 0] = 0\n",
    "    down[down > 0] = 0\n",
    "    df[\"up\"] = up.round(4)\n",
    "    df[\"down\"] = down.round(4)\n",
    "    AVG_Gain = df[\"up\"].rolling(window=n).mean()\n",
    "    AVG_Loss = abs(df[\"down\"].rolling(window=n).mean())\n",
    "    RS = AVG_Gain / AVG_Loss\n",
    "    RSI = 100.0 - (100.0 / (1.0 + RS))\n",
    "    df[\"RSI_14\"] = RSI.round(4)\n",
    "    df = df.drop(columns=[\"up\", \"down\"])\n",
    "\n",
    "    return df\n",
    "\n",
    "df = RSI(df, 14)"
   ]
  },
  {
   "cell_type": "code",
   "execution_count": 254,
   "metadata": {},
   "outputs": [],
   "source": [
    "import datetime\n",
    "import pandas as pd\n",
    "\n",
    "def simulate_trade_RSI(date, entry, exit_high, exit_low, max_trades, df):\n",
    "    df_day = df[(df[\"date\"] == date) & (df[\"time\"] >= datetime.time(9, 30, 0)) & (df[\"time\"] <= datetime.time(16, 0, 0))]\n",
    "    trade_log = pd.DataFrame(columns=[\"Date\", \"Direction\", \"Entry\", \"Exit\", \"TimeEnter\", \"TimeExit\", \"Gain%\", \"Gain$\", \"ExitCondition\"])\n",
    "    trades, in_trade = 0, False\n",
    "\n",
    "    for i in range(1, len(df_day)):\n",
    "        entry_rsi = (df_day[\"RSI_14\"].iloc[i - 1] < entry and df_day[\"RSI_14\"].iloc[i] >= entry)\n",
    "\n",
    "        exit_profit = (df_day[\"RSI_14\"].iloc[i - 1] >= exit_high and df_day[\"RSI_14\"].iloc[i] < exit_high)\n",
    "        exit_stoploss = (df_day[\"RSI_14\"].iloc[i - 1] <= exit_low and df_day[\"RSI_14\"].iloc[i] > exit_low)\n",
    "        exit_endofday = (df_day[\"time\"].iloc[i] == datetime.time(16, 0, 0))\n",
    "        exit_condition = \"MaxProfit\" if exit_profit else \"StopLoss\" if exit_stoploss else \"EndOfDay\" if exit_endofday else None\n",
    "\n",
    "        if not in_trade and entry_rsi:\n",
    "            entry_price, in_trade, time_enter = df_day[\"close\"].iloc[i], True, df_day[\"time\"].iloc[i - 1]\n",
    "\n",
    "        elif in_trade and (exit_profit or exit_stoploss or exit_endofday):\n",
    "            exit_price = df_day[\"close\"].iloc[i]\n",
    "            trade_gain_percent = round(((exit_price - entry_price) / entry_price) * 100, 2)\n",
    "            trade_gain_net = round(exit_price - entry_price, 2)\n",
    "\n",
    "            trade_log.loc[len(trade_log)] = pd.Series({\n",
    "                \"Date\": date,\n",
    "                \"Direction\": \"Long\",\n",
    "                \"Entry\": entry_price,\n",
    "                \"Exit\": exit_price,\n",
    "                \"TimeEnter\": time_enter,\n",
    "                \"TimeExit\": df_day[\"time\"].iloc[i],\n",
    "                \"Gain%\": trade_gain_percent,\n",
    "                \"Gain$\": trade_gain_net,\n",
    "                \"ExitCondition\": exit_condition\n",
    "            })\n",
    "\n",
    "            trades, entry_price, in_trade = trades + 1, 0, False\n",
    "\n",
    "            # Check if the maximum number of trades is reached\n",
    "            if trades >= max_trades:\n",
    "                break\n",
    "\n",
    "    return trade_log\n"
   ]
  },
  {
   "cell_type": "code",
   "execution_count": 255,
   "metadata": {},
   "outputs": [],
   "source": [
    "# Combine the simulated trades for a range of dates into a single dataframe\n",
    "\n",
    "def simulate_date_range(start_date, end_date, entry, exit_high, exit_low, max_trades, df):\n",
    "    day_datas = []\n",
    "\n",
    "    for n in range((end_date - start_date).days + 1):\n",
    "        date = start_date + datetime.timedelta(n)\n",
    "        day_data = simulate_trade_RSI(date, entry, exit_high, exit_low, max_trades, df)\n",
    "        if day_data is not None:\n",
    "            day_datas.append(day_data)\n",
    "\n",
    "    day_datas = pd.concat(day_datas, ignore_index=True)\n",
    "\n",
    "    return day_datas"
   ]
  },
  {
   "cell_type": "code",
   "execution_count": 256,
   "metadata": {},
   "outputs": [],
   "source": [
    "trades = simulate_date_range(datetime.date(2022, 9, 30), datetime.date(2023, 9, 30), 50, 70, 30, 1, df)"
   ]
  },
  {
   "cell_type": "code",
   "execution_count": 257,
   "metadata": {},
   "outputs": [
    {
     "data": {
      "application/vnd.plotly.v1+json": {
       "config": {
        "plotlyServerURL": "https://plot.ly"
       },
       "data": [
        {
         "hovertemplate": "index=%{x}<br>RunningGain%=%{y}<extra></extra>",
         "legendgroup": "",
         "line": {
          "color": "#636efa",
          "dash": "solid"
         },
         "marker": {
          "symbol": "circle"
         },
         "mode": "lines",
         "name": "",
         "orientation": "v",
         "showlegend": false,
         "type": "scatter",
         "x": [
          0,
          1,
          2,
          3,
          4,
          5,
          6,
          7,
          8,
          9,
          10,
          11,
          12,
          13,
          14,
          15,
          16,
          17,
          18,
          19,
          20,
          21,
          22,
          23,
          24,
          25,
          26,
          27,
          28,
          29,
          30,
          31,
          32,
          33,
          34,
          35,
          36,
          37,
          38,
          39,
          40,
          41,
          42,
          43,
          44,
          45,
          46,
          47,
          48,
          49,
          50,
          51,
          52,
          53,
          54,
          55,
          56,
          57,
          58,
          59,
          60,
          61,
          62,
          63,
          64,
          65,
          66,
          67,
          68,
          69,
          70,
          71,
          72,
          73,
          74,
          75,
          76,
          77,
          78,
          79,
          80,
          81,
          82,
          83,
          84,
          85,
          86,
          87,
          88,
          89,
          90,
          91,
          92,
          93,
          94,
          95,
          96,
          97,
          98,
          99,
          100,
          101,
          102,
          103,
          104,
          105,
          106,
          107,
          108,
          109,
          110,
          111,
          112,
          113,
          114,
          115,
          116,
          117,
          118,
          119,
          120,
          121,
          122,
          123,
          124,
          125,
          126,
          127,
          128,
          129,
          130,
          131,
          132,
          133,
          134,
          135,
          136,
          137,
          138,
          139,
          140,
          141,
          142,
          143,
          144,
          145,
          146,
          147,
          148,
          149,
          150,
          151,
          152,
          153,
          154,
          155,
          156,
          157,
          158,
          159,
          160,
          161,
          162,
          163,
          164,
          165,
          166,
          167,
          168,
          169,
          170,
          171,
          172,
          173,
          174,
          175,
          176,
          177,
          178,
          179,
          180,
          181,
          182,
          183,
          184,
          185,
          186,
          187,
          188,
          189,
          190,
          191,
          192,
          193,
          194,
          195,
          196,
          197,
          198,
          199,
          200,
          201,
          202,
          203,
          204,
          205,
          206,
          207,
          208,
          209,
          210,
          211,
          212,
          213,
          214,
          215,
          216,
          217,
          218,
          219,
          220,
          221,
          222,
          223,
          224,
          225,
          226,
          227,
          228,
          229,
          230,
          231,
          232,
          233,
          234,
          235,
          236,
          237,
          238,
          239,
          240,
          241,
          242,
          243,
          244,
          245,
          246,
          247,
          248,
          249,
          250
         ],
         "xaxis": "x",
         "y": [
          0.41,
          0.38,
          0.25,
          -0.31999999999999995,
          -0.19999999999999996,
          -0.029999999999999943,
          -0.41999999999999993,
          -0.30999999999999994,
          -0.17999999999999994,
          0.33000000000000007,
          -0.2499999999999999,
          0.09000000000000014,
          0.19000000000000014,
          0.5100000000000001,
          0.8400000000000001,
          1.8800000000000001,
          1.4500000000000002,
          1.37,
          1.4400000000000002,
          0.6900000000000002,
          1.0200000000000002,
          0.8200000000000003,
          0.3100000000000003,
          0.14000000000000026,
          -0.2799999999999997,
          -0.1299999999999997,
          -0.2299999999999997,
          -0.029999999999999694,
          -0.2299999999999997,
          0.2800000000000003,
          0.3100000000000003,
          0.3700000000000003,
          0.13000000000000028,
          0.030000000000000276,
          0.29000000000000026,
          -0.01999999999999974,
          0.02000000000000026,
          0.19000000000000028,
          0.3200000000000003,
          0.4800000000000003,
          0.25000000000000033,
          0.020000000000000323,
          -0.35999999999999965,
          -0.27999999999999964,
          -0.10999999999999963,
          -0.09999999999999963,
          -0.45999999999999963,
          -0.27999999999999964,
          0.2900000000000003,
          0.4600000000000003,
          0.4800000000000003,
          0.6000000000000003,
          0.6400000000000003,
          0.7200000000000003,
          0.7700000000000004,
          0.4300000000000003,
          0.6500000000000004,
          0.7400000000000003,
          0.4900000000000003,
          -0.06999999999999973,
          0.41000000000000025,
          0.5600000000000003,
          0.9000000000000004,
          0.5700000000000003,
          -0.19999999999999973,
          -0.7699999999999997,
          -0.7999999999999997,
          -0.6299999999999997,
          -0.2799999999999997,
          -0.08999999999999969,
          -0.08999999999999969,
          0.10000000000000031,
          0.3100000000000003,
          0.36000000000000026,
          0.34000000000000025,
          0.13000000000000025,
          0.09000000000000025,
          0.40000000000000024,
          0.5300000000000002,
          0.12000000000000027,
          -0.4499999999999997,
          -0.7499999999999997,
          -0.5199999999999997,
          -0.36999999999999966,
          -0.29999999999999966,
          -0.5099999999999997,
          -0.019999999999999685,
          -0.30999999999999966,
          -0.30999999999999966,
          -0.12999999999999967,
          -0.2699999999999997,
          -0.3399999999999997,
          -0.2599999999999997,
          -0.029999999999999666,
          3.3306690738754696e-16,
          0.08000000000000033,
          -0.41999999999999965,
          -0.3299999999999996,
          -0.2999999999999996,
          -0.2399999999999996,
          -0.2099999999999996,
          -0.0799999999999996,
          -0.0699999999999996,
          0.07000000000000041,
          0.24000000000000044,
          0.36000000000000043,
          0.6900000000000004,
          -0.10999999999999965,
          -0.029999999999999652,
          -0.01999999999999965,
          -0.5699999999999997,
          -0.3699999999999997,
          -0.38999999999999974,
          -0.8899999999999997,
          -0.6199999999999997,
          -0.49999999999999967,
          -0.41999999999999965,
          -0.34999999999999964,
          -0.23999999999999966,
          -0.21999999999999967,
          -0.10999999999999967,
          -0.28999999999999965,
          -0.14999999999999963,
          -0.3099999999999996,
          -0.47999999999999965,
          -0.41999999999999965,
          -0.29999999999999966,
          -0.28999999999999965,
          -0.23999999999999966,
          -0.15999999999999964,
          -0.26999999999999963,
          -0.33999999999999964,
          -0.6599999999999997,
          -0.3399999999999997,
          -0.6699999999999997,
          -0.6099999999999997,
          -0.6399999999999997,
          -0.4599999999999997,
          -0.3899999999999997,
          -0.5999999999999996,
          -0.5399999999999996,
          -0.6099999999999997,
          -0.9999999999999997,
          -0.9199999999999997,
          -0.4999999999999997,
          -0.4799999999999997,
          -0.6299999999999997,
          -0.46999999999999964,
          -0.8299999999999996,
          -0.6499999999999997,
          -0.7299999999999996,
          -0.6699999999999997,
          -1.2599999999999998,
          -1.5099999999999998,
          -1.6899999999999997,
          -1.8199999999999998,
          -1.8499999999999999,
          -1.71,
          -1.63,
          -1.65,
          -1.6199999999999999,
          -1.4899999999999998,
          -1.6799999999999997,
          -1.6599999999999997,
          -1.3399999999999996,
          -1.1499999999999997,
          -1.2399999999999998,
          -1.2599999999999998,
          -1.1899999999999997,
          -1.2299999999999998,
          -1.1899999999999997,
          -1.3599999999999997,
          -1.4899999999999998,
          -1.5499999999999998,
          -1.5899999999999999,
          -1.4799999999999998,
          -1.4299999999999997,
          -0.9199999999999997,
          -0.8799999999999997,
          -1.0399999999999996,
          -1.2799999999999996,
          -1.0799999999999996,
          -1.0199999999999996,
          -0.8099999999999996,
          -0.7199999999999996,
          -0.8499999999999996,
          -0.7099999999999996,
          -0.6699999999999996,
          -0.6199999999999996,
          -0.5699999999999995,
          -0.7099999999999995,
          -0.47999999999999954,
          -0.3399999999999995,
          -0.3399999999999995,
          -0.24999999999999953,
          -0.17999999999999952,
          -0.15999999999999953,
          -0.06999999999999953,
          0.06000000000000047,
          0.06000000000000047,
          -0.009999999999999537,
          0.09000000000000047,
          0.07000000000000046,
          0.11000000000000046,
          0.020000000000000462,
          -0.16999999999999954,
          -0.05999999999999954,
          -0.22999999999999954,
          -0.14999999999999952,
          -0.40999999999999953,
          -0.36999999999999955,
          -0.30999999999999955,
          -0.17999999999999955,
          -0.49999999999999956,
          -0.6899999999999995,
          -0.6099999999999995,
          -0.5899999999999995,
          -0.35999999999999954,
          -0.6099999999999995,
          -0.6699999999999995,
          -0.8499999999999994,
          -0.8399999999999994,
          -0.8099999999999994,
          -0.9999999999999993,
          -0.7299999999999993,
          -0.5599999999999993,
          -0.9199999999999993,
          -0.7599999999999992,
          -0.44999999999999923,
          -0.25999999999999923,
          -0.26999999999999924,
          -0.5599999999999992,
          -0.5799999999999992,
          -0.8899999999999992,
          -0.7599999999999992,
          -0.6599999999999993,
          -0.6399999999999992,
          -0.8199999999999992,
          -1.1399999999999992,
          -1.2199999999999993,
          -1.6699999999999993,
          -1.7399999999999993,
          -2.059999999999999,
          -2.059999999999999,
          -2.1599999999999993,
          -2.0899999999999994,
          -1.9299999999999995,
          -2.0399999999999996,
          -2.26,
          -2.21,
          -2.21
         ],
         "yaxis": "y"
        }
       ],
       "layout": {
        "legend": {
         "tracegroupgap": 0
        },
        "template": {
         "data": {
          "bar": [
           {
            "error_x": {
             "color": "#2a3f5f"
            },
            "error_y": {
             "color": "#2a3f5f"
            },
            "marker": {
             "line": {
              "color": "#E5ECF6",
              "width": 0.5
             },
             "pattern": {
              "fillmode": "overlay",
              "size": 10,
              "solidity": 0.2
             }
            },
            "type": "bar"
           }
          ],
          "barpolar": [
           {
            "marker": {
             "line": {
              "color": "#E5ECF6",
              "width": 0.5
             },
             "pattern": {
              "fillmode": "overlay",
              "size": 10,
              "solidity": 0.2
             }
            },
            "type": "barpolar"
           }
          ],
          "carpet": [
           {
            "aaxis": {
             "endlinecolor": "#2a3f5f",
             "gridcolor": "white",
             "linecolor": "white",
             "minorgridcolor": "white",
             "startlinecolor": "#2a3f5f"
            },
            "baxis": {
             "endlinecolor": "#2a3f5f",
             "gridcolor": "white",
             "linecolor": "white",
             "minorgridcolor": "white",
             "startlinecolor": "#2a3f5f"
            },
            "type": "carpet"
           }
          ],
          "choropleth": [
           {
            "colorbar": {
             "outlinewidth": 0,
             "ticks": ""
            },
            "type": "choropleth"
           }
          ],
          "contour": [
           {
            "colorbar": {
             "outlinewidth": 0,
             "ticks": ""
            },
            "colorscale": [
             [
              0,
              "#0d0887"
             ],
             [
              0.1111111111111111,
              "#46039f"
             ],
             [
              0.2222222222222222,
              "#7201a8"
             ],
             [
              0.3333333333333333,
              "#9c179e"
             ],
             [
              0.4444444444444444,
              "#bd3786"
             ],
             [
              0.5555555555555556,
              "#d8576b"
             ],
             [
              0.6666666666666666,
              "#ed7953"
             ],
             [
              0.7777777777777778,
              "#fb9f3a"
             ],
             [
              0.8888888888888888,
              "#fdca26"
             ],
             [
              1,
              "#f0f921"
             ]
            ],
            "type": "contour"
           }
          ],
          "contourcarpet": [
           {
            "colorbar": {
             "outlinewidth": 0,
             "ticks": ""
            },
            "type": "contourcarpet"
           }
          ],
          "heatmap": [
           {
            "colorbar": {
             "outlinewidth": 0,
             "ticks": ""
            },
            "colorscale": [
             [
              0,
              "#0d0887"
             ],
             [
              0.1111111111111111,
              "#46039f"
             ],
             [
              0.2222222222222222,
              "#7201a8"
             ],
             [
              0.3333333333333333,
              "#9c179e"
             ],
             [
              0.4444444444444444,
              "#bd3786"
             ],
             [
              0.5555555555555556,
              "#d8576b"
             ],
             [
              0.6666666666666666,
              "#ed7953"
             ],
             [
              0.7777777777777778,
              "#fb9f3a"
             ],
             [
              0.8888888888888888,
              "#fdca26"
             ],
             [
              1,
              "#f0f921"
             ]
            ],
            "type": "heatmap"
           }
          ],
          "heatmapgl": [
           {
            "colorbar": {
             "outlinewidth": 0,
             "ticks": ""
            },
            "colorscale": [
             [
              0,
              "#0d0887"
             ],
             [
              0.1111111111111111,
              "#46039f"
             ],
             [
              0.2222222222222222,
              "#7201a8"
             ],
             [
              0.3333333333333333,
              "#9c179e"
             ],
             [
              0.4444444444444444,
              "#bd3786"
             ],
             [
              0.5555555555555556,
              "#d8576b"
             ],
             [
              0.6666666666666666,
              "#ed7953"
             ],
             [
              0.7777777777777778,
              "#fb9f3a"
             ],
             [
              0.8888888888888888,
              "#fdca26"
             ],
             [
              1,
              "#f0f921"
             ]
            ],
            "type": "heatmapgl"
           }
          ],
          "histogram": [
           {
            "marker": {
             "pattern": {
              "fillmode": "overlay",
              "size": 10,
              "solidity": 0.2
             }
            },
            "type": "histogram"
           }
          ],
          "histogram2d": [
           {
            "colorbar": {
             "outlinewidth": 0,
             "ticks": ""
            },
            "colorscale": [
             [
              0,
              "#0d0887"
             ],
             [
              0.1111111111111111,
              "#46039f"
             ],
             [
              0.2222222222222222,
              "#7201a8"
             ],
             [
              0.3333333333333333,
              "#9c179e"
             ],
             [
              0.4444444444444444,
              "#bd3786"
             ],
             [
              0.5555555555555556,
              "#d8576b"
             ],
             [
              0.6666666666666666,
              "#ed7953"
             ],
             [
              0.7777777777777778,
              "#fb9f3a"
             ],
             [
              0.8888888888888888,
              "#fdca26"
             ],
             [
              1,
              "#f0f921"
             ]
            ],
            "type": "histogram2d"
           }
          ],
          "histogram2dcontour": [
           {
            "colorbar": {
             "outlinewidth": 0,
             "ticks": ""
            },
            "colorscale": [
             [
              0,
              "#0d0887"
             ],
             [
              0.1111111111111111,
              "#46039f"
             ],
             [
              0.2222222222222222,
              "#7201a8"
             ],
             [
              0.3333333333333333,
              "#9c179e"
             ],
             [
              0.4444444444444444,
              "#bd3786"
             ],
             [
              0.5555555555555556,
              "#d8576b"
             ],
             [
              0.6666666666666666,
              "#ed7953"
             ],
             [
              0.7777777777777778,
              "#fb9f3a"
             ],
             [
              0.8888888888888888,
              "#fdca26"
             ],
             [
              1,
              "#f0f921"
             ]
            ],
            "type": "histogram2dcontour"
           }
          ],
          "mesh3d": [
           {
            "colorbar": {
             "outlinewidth": 0,
             "ticks": ""
            },
            "type": "mesh3d"
           }
          ],
          "parcoords": [
           {
            "line": {
             "colorbar": {
              "outlinewidth": 0,
              "ticks": ""
             }
            },
            "type": "parcoords"
           }
          ],
          "pie": [
           {
            "automargin": true,
            "type": "pie"
           }
          ],
          "scatter": [
           {
            "fillpattern": {
             "fillmode": "overlay",
             "size": 10,
             "solidity": 0.2
            },
            "type": "scatter"
           }
          ],
          "scatter3d": [
           {
            "line": {
             "colorbar": {
              "outlinewidth": 0,
              "ticks": ""
             }
            },
            "marker": {
             "colorbar": {
              "outlinewidth": 0,
              "ticks": ""
             }
            },
            "type": "scatter3d"
           }
          ],
          "scattercarpet": [
           {
            "marker": {
             "colorbar": {
              "outlinewidth": 0,
              "ticks": ""
             }
            },
            "type": "scattercarpet"
           }
          ],
          "scattergeo": [
           {
            "marker": {
             "colorbar": {
              "outlinewidth": 0,
              "ticks": ""
             }
            },
            "type": "scattergeo"
           }
          ],
          "scattergl": [
           {
            "marker": {
             "colorbar": {
              "outlinewidth": 0,
              "ticks": ""
             }
            },
            "type": "scattergl"
           }
          ],
          "scattermapbox": [
           {
            "marker": {
             "colorbar": {
              "outlinewidth": 0,
              "ticks": ""
             }
            },
            "type": "scattermapbox"
           }
          ],
          "scatterpolar": [
           {
            "marker": {
             "colorbar": {
              "outlinewidth": 0,
              "ticks": ""
             }
            },
            "type": "scatterpolar"
           }
          ],
          "scatterpolargl": [
           {
            "marker": {
             "colorbar": {
              "outlinewidth": 0,
              "ticks": ""
             }
            },
            "type": "scatterpolargl"
           }
          ],
          "scatterternary": [
           {
            "marker": {
             "colorbar": {
              "outlinewidth": 0,
              "ticks": ""
             }
            },
            "type": "scatterternary"
           }
          ],
          "surface": [
           {
            "colorbar": {
             "outlinewidth": 0,
             "ticks": ""
            },
            "colorscale": [
             [
              0,
              "#0d0887"
             ],
             [
              0.1111111111111111,
              "#46039f"
             ],
             [
              0.2222222222222222,
              "#7201a8"
             ],
             [
              0.3333333333333333,
              "#9c179e"
             ],
             [
              0.4444444444444444,
              "#bd3786"
             ],
             [
              0.5555555555555556,
              "#d8576b"
             ],
             [
              0.6666666666666666,
              "#ed7953"
             ],
             [
              0.7777777777777778,
              "#fb9f3a"
             ],
             [
              0.8888888888888888,
              "#fdca26"
             ],
             [
              1,
              "#f0f921"
             ]
            ],
            "type": "surface"
           }
          ],
          "table": [
           {
            "cells": {
             "fill": {
              "color": "#EBF0F8"
             },
             "line": {
              "color": "white"
             }
            },
            "header": {
             "fill": {
              "color": "#C8D4E3"
             },
             "line": {
              "color": "white"
             }
            },
            "type": "table"
           }
          ]
         },
         "layout": {
          "annotationdefaults": {
           "arrowcolor": "#2a3f5f",
           "arrowhead": 0,
           "arrowwidth": 1
          },
          "autotypenumbers": "strict",
          "coloraxis": {
           "colorbar": {
            "outlinewidth": 0,
            "ticks": ""
           }
          },
          "colorscale": {
           "diverging": [
            [
             0,
             "#8e0152"
            ],
            [
             0.1,
             "#c51b7d"
            ],
            [
             0.2,
             "#de77ae"
            ],
            [
             0.3,
             "#f1b6da"
            ],
            [
             0.4,
             "#fde0ef"
            ],
            [
             0.5,
             "#f7f7f7"
            ],
            [
             0.6,
             "#e6f5d0"
            ],
            [
             0.7,
             "#b8e186"
            ],
            [
             0.8,
             "#7fbc41"
            ],
            [
             0.9,
             "#4d9221"
            ],
            [
             1,
             "#276419"
            ]
           ],
           "sequential": [
            [
             0,
             "#0d0887"
            ],
            [
             0.1111111111111111,
             "#46039f"
            ],
            [
             0.2222222222222222,
             "#7201a8"
            ],
            [
             0.3333333333333333,
             "#9c179e"
            ],
            [
             0.4444444444444444,
             "#bd3786"
            ],
            [
             0.5555555555555556,
             "#d8576b"
            ],
            [
             0.6666666666666666,
             "#ed7953"
            ],
            [
             0.7777777777777778,
             "#fb9f3a"
            ],
            [
             0.8888888888888888,
             "#fdca26"
            ],
            [
             1,
             "#f0f921"
            ]
           ],
           "sequentialminus": [
            [
             0,
             "#0d0887"
            ],
            [
             0.1111111111111111,
             "#46039f"
            ],
            [
             0.2222222222222222,
             "#7201a8"
            ],
            [
             0.3333333333333333,
             "#9c179e"
            ],
            [
             0.4444444444444444,
             "#bd3786"
            ],
            [
             0.5555555555555556,
             "#d8576b"
            ],
            [
             0.6666666666666666,
             "#ed7953"
            ],
            [
             0.7777777777777778,
             "#fb9f3a"
            ],
            [
             0.8888888888888888,
             "#fdca26"
            ],
            [
             1,
             "#f0f921"
            ]
           ]
          },
          "colorway": [
           "#636efa",
           "#EF553B",
           "#00cc96",
           "#ab63fa",
           "#FFA15A",
           "#19d3f3",
           "#FF6692",
           "#B6E880",
           "#FF97FF",
           "#FECB52"
          ],
          "font": {
           "color": "#2a3f5f"
          },
          "geo": {
           "bgcolor": "white",
           "lakecolor": "white",
           "landcolor": "#E5ECF6",
           "showlakes": true,
           "showland": true,
           "subunitcolor": "white"
          },
          "hoverlabel": {
           "align": "left"
          },
          "hovermode": "closest",
          "mapbox": {
           "style": "light"
          },
          "paper_bgcolor": "white",
          "plot_bgcolor": "#E5ECF6",
          "polar": {
           "angularaxis": {
            "gridcolor": "white",
            "linecolor": "white",
            "ticks": ""
           },
           "bgcolor": "#E5ECF6",
           "radialaxis": {
            "gridcolor": "white",
            "linecolor": "white",
            "ticks": ""
           }
          },
          "scene": {
           "xaxis": {
            "backgroundcolor": "#E5ECF6",
            "gridcolor": "white",
            "gridwidth": 2,
            "linecolor": "white",
            "showbackground": true,
            "ticks": "",
            "zerolinecolor": "white"
           },
           "yaxis": {
            "backgroundcolor": "#E5ECF6",
            "gridcolor": "white",
            "gridwidth": 2,
            "linecolor": "white",
            "showbackground": true,
            "ticks": "",
            "zerolinecolor": "white"
           },
           "zaxis": {
            "backgroundcolor": "#E5ECF6",
            "gridcolor": "white",
            "gridwidth": 2,
            "linecolor": "white",
            "showbackground": true,
            "ticks": "",
            "zerolinecolor": "white"
           }
          },
          "shapedefaults": {
           "line": {
            "color": "#2a3f5f"
           }
          },
          "ternary": {
           "aaxis": {
            "gridcolor": "white",
            "linecolor": "white",
            "ticks": ""
           },
           "baxis": {
            "gridcolor": "white",
            "linecolor": "white",
            "ticks": ""
           },
           "bgcolor": "#E5ECF6",
           "caxis": {
            "gridcolor": "white",
            "linecolor": "white",
            "ticks": ""
           }
          },
          "title": {
           "x": 0.05
          },
          "xaxis": {
           "automargin": true,
           "gridcolor": "white",
           "linecolor": "white",
           "ticks": "",
           "title": {
            "standoff": 15
           },
           "zerolinecolor": "white",
           "zerolinewidth": 2
          },
          "yaxis": {
           "automargin": true,
           "gridcolor": "white",
           "linecolor": "white",
           "ticks": "",
           "title": {
            "standoff": 15
           },
           "zerolinecolor": "white",
           "zerolinewidth": 2
          }
         }
        },
        "title": {
         "text": "Running Gain%"
        },
        "xaxis": {
         "anchor": "y",
         "domain": [
          0,
          1
         ],
         "title": {
          "text": "index"
         }
        },
        "yaxis": {
         "anchor": "x",
         "domain": [
          0,
          1
         ],
         "title": {
          "text": "RunningGain%"
         }
        }
       }
      }
     },
     "metadata": {},
     "output_type": "display_data"
    }
   ],
   "source": [
    "# chart the results of the simulated trades\n",
    "\n",
    "import plotly.express as px\n",
    "import plotly.graph_objects as go\n",
    "\n",
    "# line chart of running gain%\n",
    "def chart_gain_percent(trades):\n",
    "    trades[\"RunningGain%\"] = trades[\"Gain%\"].cumsum()\n",
    "    fig = px.line(trades, y=\"RunningGain%\", title=\"Running Gain%\")\n",
    "    fig.show()\n",
    "\n",
    "chart_gain_percent(trades)"
   ]
  },
  {
   "cell_type": "code",
   "execution_count": 258,
   "metadata": {},
   "outputs": [
    {
     "name": "stdout",
     "output_type": "stream",
     "text": [
      "Index(['Date', 'open', 'time_x', 'close', 'time_y', 'dif', 'percent_change',\n",
      "       'up'],\n",
      "      dtype='object')\n",
      "Index(['Date', 'Direction', 'Entry', 'Exit', 'TimeEnter', 'TimeExit', 'Gain%',\n",
      "       'Gain$', 'ExitCondition', 'RunningGain%'],\n",
      "      dtype='object')\n"
     ]
    },
    {
     "data": {
      "text/html": [
       "<div>\n",
       "<style scoped>\n",
       "    .dataframe tbody tr th:only-of-type {\n",
       "        vertical-align: middle;\n",
       "    }\n",
       "\n",
       "    .dataframe tbody tr th {\n",
       "        vertical-align: top;\n",
       "    }\n",
       "\n",
       "    .dataframe thead th {\n",
       "        text-align: right;\n",
       "    }\n",
       "</style>\n",
       "<table border=\"1\" class=\"dataframe\">\n",
       "  <thead>\n",
       "    <tr style=\"text-align: right;\">\n",
       "      <th></th>\n",
       "      <th>Date</th>\n",
       "      <th>Direction</th>\n",
       "      <th>Entry</th>\n",
       "      <th>Exit</th>\n",
       "      <th>TimeEnter</th>\n",
       "      <th>TimeExit</th>\n",
       "      <th>Gain%</th>\n",
       "      <th>Gain$</th>\n",
       "      <th>ExitCondition</th>\n",
       "      <th>RunningGain%</th>\n",
       "      <th>open</th>\n",
       "      <th>time_x</th>\n",
       "      <th>close</th>\n",
       "      <th>time_y</th>\n",
       "      <th>dif</th>\n",
       "      <th>percent_change</th>\n",
       "      <th>up</th>\n",
       "    </tr>\n",
       "  </thead>\n",
       "  <tbody>\n",
       "    <tr>\n",
       "      <th>0</th>\n",
       "      <td>2022-09-30</td>\n",
       "      <td>Long</td>\n",
       "      <td>362.6</td>\n",
       "      <td>364.1</td>\n",
       "      <td>09:32:00</td>\n",
       "      <td>10:38:00</td>\n",
       "      <td>0.41</td>\n",
       "      <td>1.5</td>\n",
       "      <td>MaxProfit</td>\n",
       "      <td>0.41</td>\n",
       "      <td>361.80</td>\n",
       "      <td>09:30:00</td>\n",
       "      <td>357.87</td>\n",
       "      <td>16:00:00</td>\n",
       "      <td>-3.93</td>\n",
       "      <td>-1.09</td>\n",
       "      <td>0</td>\n",
       "    </tr>\n",
       "    <tr>\n",
       "      <th>1</th>\n",
       "      <td>2022-10-03</td>\n",
       "      <td>Long</td>\n",
       "      <td>361.04</td>\n",
       "      <td>360.9199</td>\n",
       "      <td>09:44:00</td>\n",
       "      <td>09:55:00</td>\n",
       "      <td>-0.03</td>\n",
       "      <td>-0.12</td>\n",
       "      <td>MaxProfit</td>\n",
       "      <td>0.38</td>\n",
       "      <td>361.08</td>\n",
       "      <td>09:30:00</td>\n",
       "      <td>366.77</td>\n",
       "      <td>16:00:00</td>\n",
       "      <td>5.69</td>\n",
       "      <td>1.58</td>\n",
       "      <td>1</td>\n",
       "    </tr>\n",
       "    <tr>\n",
       "      <th>2</th>\n",
       "      <td>2022-10-04</td>\n",
       "      <td>Long</td>\n",
       "      <td>376.87</td>\n",
       "      <td>376.389</td>\n",
       "      <td>10:15:00</td>\n",
       "      <td>10:27:00</td>\n",
       "      <td>-0.13</td>\n",
       "      <td>-0.48</td>\n",
       "      <td>StopLoss</td>\n",
       "      <td>0.25</td>\n",
       "      <td>372.40</td>\n",
       "      <td>09:30:00</td>\n",
       "      <td>377.74</td>\n",
       "      <td>16:00:00</td>\n",
       "      <td>5.34</td>\n",
       "      <td>1.43</td>\n",
       "      <td>1</td>\n",
       "    </tr>\n",
       "    <tr>\n",
       "      <th>3</th>\n",
       "      <td>2022-10-05</td>\n",
       "      <td>Long</td>\n",
       "      <td>374.44</td>\n",
       "      <td>372.29</td>\n",
       "      <td>09:50:00</td>\n",
       "      <td>10:14:00</td>\n",
       "      <td>-0.57</td>\n",
       "      <td>-2.15</td>\n",
       "      <td>StopLoss</td>\n",
       "      <td>-0.32</td>\n",
       "      <td>373.39</td>\n",
       "      <td>09:30:00</td>\n",
       "      <td>377.54</td>\n",
       "      <td>16:00:00</td>\n",
       "      <td>4.15</td>\n",
       "      <td>1.11</td>\n",
       "      <td>1</td>\n",
       "    </tr>\n",
       "    <tr>\n",
       "      <th>4</th>\n",
       "      <td>2022-10-06</td>\n",
       "      <td>Long</td>\n",
       "      <td>376.41</td>\n",
       "      <td>376.86</td>\n",
       "      <td>09:30:00</td>\n",
       "      <td>09:34:00</td>\n",
       "      <td>0.12</td>\n",
       "      <td>0.45</td>\n",
       "      <td>MaxProfit</td>\n",
       "      <td>-0.2</td>\n",
       "      <td>375.62</td>\n",
       "      <td>09:30:00</td>\n",
       "      <td>373.21</td>\n",
       "      <td>16:00:00</td>\n",
       "      <td>-2.41</td>\n",
       "      <td>-0.64</td>\n",
       "      <td>0</td>\n",
       "    </tr>\n",
       "  </tbody>\n",
       "</table>\n",
       "</div>"
      ],
      "text/plain": [
       "         Date Direction   Entry      Exit TimeEnter  TimeExit Gain% Gain$  \\\n",
       "0  2022-09-30      Long   362.6     364.1  09:32:00  10:38:00  0.41   1.5   \n",
       "1  2022-10-03      Long  361.04  360.9199  09:44:00  09:55:00 -0.03 -0.12   \n",
       "2  2022-10-04      Long  376.87   376.389  10:15:00  10:27:00 -0.13 -0.48   \n",
       "3  2022-10-05      Long  374.44    372.29  09:50:00  10:14:00 -0.57 -2.15   \n",
       "4  2022-10-06      Long  376.41    376.86  09:30:00  09:34:00  0.12  0.45   \n",
       "\n",
       "  ExitCondition RunningGain%    open    time_x   close    time_y   dif  \\\n",
       "0     MaxProfit         0.41  361.80  09:30:00  357.87  16:00:00 -3.93   \n",
       "1     MaxProfit         0.38  361.08  09:30:00  366.77  16:00:00  5.69   \n",
       "2      StopLoss         0.25  372.40  09:30:00  377.74  16:00:00  5.34   \n",
       "3      StopLoss        -0.32  373.39  09:30:00  377.54  16:00:00  4.15   \n",
       "4     MaxProfit         -0.2  375.62  09:30:00  373.21  16:00:00 -2.41   \n",
       "\n",
       "   percent_change  up  \n",
       "0           -1.09   0  \n",
       "1            1.58   1  \n",
       "2            1.43   1  \n",
       "3            1.11   1  \n",
       "4           -0.64   0  "
      ]
     },
     "execution_count": 258,
     "metadata": {},
     "output_type": "execute_result"
    }
   ],
   "source": [
    "# chart a scatter of the sum of the gain% for each day against \n",
    "\n",
    "import plotly.express as px\n",
    "import plotly.graph_objects as go\n",
    "\n",
    "underlying = daily_summary(ticker)\n",
    "print(underlying.columns)\n",
    "print(trades.columns)\n",
    "\n",
    "combined = pd.merge(trades, underlying, on=[\"Date\"])\n",
    "\n",
    "#print(combined.columns)\n",
    "#combined.head()\n",
    "\n",
    "fig = px.scatter(combined, x=\"percent_change\", y=\"Gain%\", title=\"Gain% vs Underlying Gain%\")\n",
    "fig.show()"
   ]
  },
  {
   "cell_type": "code",
   "execution_count": 259,
   "metadata": {},
   "outputs": [
    {
     "data": {
      "application/vnd.plotly.v1+json": {
       "config": {
        "plotlyServerURL": "https://plot.ly"
       },
       "data": [
        {
         "alignmentgroup": "True",
         "bingroup": "x",
         "hovertemplate": "Gain%=%{x}<br>count=%{y}<extra></extra>",
         "legendgroup": "",
         "marker": {
          "color": "#636efa",
          "pattern": {
           "shape": ""
          }
         },
         "name": "",
         "nbinsx": 100,
         "offsetgroup": "",
         "orientation": "v",
         "showlegend": false,
         "type": "histogram",
         "x": [
          0.41,
          -0.03,
          -0.13,
          -0.57,
          0.12,
          0.17,
          -0.39,
          0.11,
          0.13,
          0.51,
          -0.58,
          0.34,
          0.1,
          0.32,
          0.33,
          1.04,
          -0.43,
          -0.08,
          0.07,
          -0.75,
          0.33,
          -0.2,
          -0.51,
          -0.17,
          -0.42,
          0.15,
          -0.1,
          0.2,
          -0.2,
          0.51,
          0.03,
          0.06,
          -0.24,
          -0.1,
          0.26,
          -0.31,
          0.04,
          0.17,
          0.13,
          0.16,
          -0.23,
          -0.23,
          -0.38,
          0.08,
          0.17,
          0.01,
          -0.36,
          0.18,
          0.57,
          0.17,
          0.02,
          0.12,
          0.04,
          0.08,
          0.05,
          -0.34,
          0.22,
          0.09,
          -0.25,
          -0.56,
          0.48,
          0.15,
          0.34,
          -0.33,
          -0.77,
          -0.57,
          -0.03,
          0.17,
          0.35,
          0.19,
          0,
          0.19,
          0.21,
          0.05,
          -0.02,
          -0.21,
          -0.04,
          0.31,
          0.13,
          -0.41,
          -0.57,
          -0.3,
          0.23,
          0.15,
          0.07,
          -0.21,
          0.49,
          -0.29,
          0,
          0.18,
          -0.14,
          -0.07,
          0.08,
          0.23,
          0.03,
          0.08,
          -0.5,
          0.09,
          0.03,
          0.06,
          0.03,
          0.13,
          0.01,
          0.14,
          0.17,
          0.12,
          0.33,
          -0.8,
          0.08,
          0.01,
          -0.55,
          0.2,
          -0.02,
          -0.5,
          0.27,
          0.12,
          0.08,
          0.07,
          0.11,
          0.02,
          0.11,
          -0.18,
          0.14,
          -0.16,
          -0.17,
          0.06,
          0.12,
          0.01,
          0.05,
          0.08,
          -0.11,
          -0.07,
          -0.32,
          0.32,
          -0.33,
          0.06,
          -0.03,
          0.18,
          0.07,
          -0.21,
          0.06,
          -0.07,
          -0.39,
          0.08,
          0.42,
          0.02,
          -0.15,
          0.16,
          -0.36,
          0.18,
          -0.08,
          0.06,
          -0.59,
          -0.25,
          -0.18,
          -0.13,
          -0.03,
          0.14,
          0.08,
          -0.02,
          0.03,
          0.13,
          -0.19,
          0.02,
          0.32,
          0.19,
          -0.09,
          -0.02,
          0.07,
          -0.04,
          0.04,
          -0.17,
          -0.13,
          -0.06,
          -0.04,
          0.11,
          0.05,
          0.51,
          0.04,
          -0.16,
          -0.24,
          0.2,
          0.06,
          0.21,
          0.09,
          -0.13,
          0.14,
          0.04,
          0.05,
          0.05,
          -0.14,
          0.23,
          0.14,
          0,
          0.09,
          0.07,
          0.02,
          0.09,
          0.13,
          0,
          -0.07,
          0.1,
          -0.02,
          0.04,
          -0.09,
          -0.19,
          0.11,
          -0.17,
          0.08,
          -0.26,
          0.04,
          0.06,
          0.13,
          -0.32,
          -0.19,
          0.08,
          0.02,
          0.23,
          -0.25,
          -0.06,
          -0.18,
          0.01,
          0.03,
          -0.19,
          0.27,
          0.17,
          -0.36,
          0.16,
          0.31,
          0.19,
          -0.01,
          -0.29,
          -0.02,
          -0.31,
          0.13,
          0.1,
          0.02,
          -0.18,
          -0.32,
          -0.08,
          -0.45,
          -0.07,
          -0.32,
          0,
          -0.1,
          0.07,
          0.16,
          -0.11,
          -0.22,
          0.05,
          0
         ],
         "xaxis": "x",
         "yaxis": "y"
        }
       ],
       "layout": {
        "bargap": 0.1,
        "barmode": "relative",
        "legend": {
         "tracegroupgap": 0
        },
        "template": {
         "data": {
          "bar": [
           {
            "error_x": {
             "color": "#2a3f5f"
            },
            "error_y": {
             "color": "#2a3f5f"
            },
            "marker": {
             "line": {
              "color": "#E5ECF6",
              "width": 0.5
             },
             "pattern": {
              "fillmode": "overlay",
              "size": 10,
              "solidity": 0.2
             }
            },
            "type": "bar"
           }
          ],
          "barpolar": [
           {
            "marker": {
             "line": {
              "color": "#E5ECF6",
              "width": 0.5
             },
             "pattern": {
              "fillmode": "overlay",
              "size": 10,
              "solidity": 0.2
             }
            },
            "type": "barpolar"
           }
          ],
          "carpet": [
           {
            "aaxis": {
             "endlinecolor": "#2a3f5f",
             "gridcolor": "white",
             "linecolor": "white",
             "minorgridcolor": "white",
             "startlinecolor": "#2a3f5f"
            },
            "baxis": {
             "endlinecolor": "#2a3f5f",
             "gridcolor": "white",
             "linecolor": "white",
             "minorgridcolor": "white",
             "startlinecolor": "#2a3f5f"
            },
            "type": "carpet"
           }
          ],
          "choropleth": [
           {
            "colorbar": {
             "outlinewidth": 0,
             "ticks": ""
            },
            "type": "choropleth"
           }
          ],
          "contour": [
           {
            "colorbar": {
             "outlinewidth": 0,
             "ticks": ""
            },
            "colorscale": [
             [
              0,
              "#0d0887"
             ],
             [
              0.1111111111111111,
              "#46039f"
             ],
             [
              0.2222222222222222,
              "#7201a8"
             ],
             [
              0.3333333333333333,
              "#9c179e"
             ],
             [
              0.4444444444444444,
              "#bd3786"
             ],
             [
              0.5555555555555556,
              "#d8576b"
             ],
             [
              0.6666666666666666,
              "#ed7953"
             ],
             [
              0.7777777777777778,
              "#fb9f3a"
             ],
             [
              0.8888888888888888,
              "#fdca26"
             ],
             [
              1,
              "#f0f921"
             ]
            ],
            "type": "contour"
           }
          ],
          "contourcarpet": [
           {
            "colorbar": {
             "outlinewidth": 0,
             "ticks": ""
            },
            "type": "contourcarpet"
           }
          ],
          "heatmap": [
           {
            "colorbar": {
             "outlinewidth": 0,
             "ticks": ""
            },
            "colorscale": [
             [
              0,
              "#0d0887"
             ],
             [
              0.1111111111111111,
              "#46039f"
             ],
             [
              0.2222222222222222,
              "#7201a8"
             ],
             [
              0.3333333333333333,
              "#9c179e"
             ],
             [
              0.4444444444444444,
              "#bd3786"
             ],
             [
              0.5555555555555556,
              "#d8576b"
             ],
             [
              0.6666666666666666,
              "#ed7953"
             ],
             [
              0.7777777777777778,
              "#fb9f3a"
             ],
             [
              0.8888888888888888,
              "#fdca26"
             ],
             [
              1,
              "#f0f921"
             ]
            ],
            "type": "heatmap"
           }
          ],
          "heatmapgl": [
           {
            "colorbar": {
             "outlinewidth": 0,
             "ticks": ""
            },
            "colorscale": [
             [
              0,
              "#0d0887"
             ],
             [
              0.1111111111111111,
              "#46039f"
             ],
             [
              0.2222222222222222,
              "#7201a8"
             ],
             [
              0.3333333333333333,
              "#9c179e"
             ],
             [
              0.4444444444444444,
              "#bd3786"
             ],
             [
              0.5555555555555556,
              "#d8576b"
             ],
             [
              0.6666666666666666,
              "#ed7953"
             ],
             [
              0.7777777777777778,
              "#fb9f3a"
             ],
             [
              0.8888888888888888,
              "#fdca26"
             ],
             [
              1,
              "#f0f921"
             ]
            ],
            "type": "heatmapgl"
           }
          ],
          "histogram": [
           {
            "marker": {
             "pattern": {
              "fillmode": "overlay",
              "size": 10,
              "solidity": 0.2
             }
            },
            "type": "histogram"
           }
          ],
          "histogram2d": [
           {
            "colorbar": {
             "outlinewidth": 0,
             "ticks": ""
            },
            "colorscale": [
             [
              0,
              "#0d0887"
             ],
             [
              0.1111111111111111,
              "#46039f"
             ],
             [
              0.2222222222222222,
              "#7201a8"
             ],
             [
              0.3333333333333333,
              "#9c179e"
             ],
             [
              0.4444444444444444,
              "#bd3786"
             ],
             [
              0.5555555555555556,
              "#d8576b"
             ],
             [
              0.6666666666666666,
              "#ed7953"
             ],
             [
              0.7777777777777778,
              "#fb9f3a"
             ],
             [
              0.8888888888888888,
              "#fdca26"
             ],
             [
              1,
              "#f0f921"
             ]
            ],
            "type": "histogram2d"
           }
          ],
          "histogram2dcontour": [
           {
            "colorbar": {
             "outlinewidth": 0,
             "ticks": ""
            },
            "colorscale": [
             [
              0,
              "#0d0887"
             ],
             [
              0.1111111111111111,
              "#46039f"
             ],
             [
              0.2222222222222222,
              "#7201a8"
             ],
             [
              0.3333333333333333,
              "#9c179e"
             ],
             [
              0.4444444444444444,
              "#bd3786"
             ],
             [
              0.5555555555555556,
              "#d8576b"
             ],
             [
              0.6666666666666666,
              "#ed7953"
             ],
             [
              0.7777777777777778,
              "#fb9f3a"
             ],
             [
              0.8888888888888888,
              "#fdca26"
             ],
             [
              1,
              "#f0f921"
             ]
            ],
            "type": "histogram2dcontour"
           }
          ],
          "mesh3d": [
           {
            "colorbar": {
             "outlinewidth": 0,
             "ticks": ""
            },
            "type": "mesh3d"
           }
          ],
          "parcoords": [
           {
            "line": {
             "colorbar": {
              "outlinewidth": 0,
              "ticks": ""
             }
            },
            "type": "parcoords"
           }
          ],
          "pie": [
           {
            "automargin": true,
            "type": "pie"
           }
          ],
          "scatter": [
           {
            "fillpattern": {
             "fillmode": "overlay",
             "size": 10,
             "solidity": 0.2
            },
            "type": "scatter"
           }
          ],
          "scatter3d": [
           {
            "line": {
             "colorbar": {
              "outlinewidth": 0,
              "ticks": ""
             }
            },
            "marker": {
             "colorbar": {
              "outlinewidth": 0,
              "ticks": ""
             }
            },
            "type": "scatter3d"
           }
          ],
          "scattercarpet": [
           {
            "marker": {
             "colorbar": {
              "outlinewidth": 0,
              "ticks": ""
             }
            },
            "type": "scattercarpet"
           }
          ],
          "scattergeo": [
           {
            "marker": {
             "colorbar": {
              "outlinewidth": 0,
              "ticks": ""
             }
            },
            "type": "scattergeo"
           }
          ],
          "scattergl": [
           {
            "marker": {
             "colorbar": {
              "outlinewidth": 0,
              "ticks": ""
             }
            },
            "type": "scattergl"
           }
          ],
          "scattermapbox": [
           {
            "marker": {
             "colorbar": {
              "outlinewidth": 0,
              "ticks": ""
             }
            },
            "type": "scattermapbox"
           }
          ],
          "scatterpolar": [
           {
            "marker": {
             "colorbar": {
              "outlinewidth": 0,
              "ticks": ""
             }
            },
            "type": "scatterpolar"
           }
          ],
          "scatterpolargl": [
           {
            "marker": {
             "colorbar": {
              "outlinewidth": 0,
              "ticks": ""
             }
            },
            "type": "scatterpolargl"
           }
          ],
          "scatterternary": [
           {
            "marker": {
             "colorbar": {
              "outlinewidth": 0,
              "ticks": ""
             }
            },
            "type": "scatterternary"
           }
          ],
          "surface": [
           {
            "colorbar": {
             "outlinewidth": 0,
             "ticks": ""
            },
            "colorscale": [
             [
              0,
              "#0d0887"
             ],
             [
              0.1111111111111111,
              "#46039f"
             ],
             [
              0.2222222222222222,
              "#7201a8"
             ],
             [
              0.3333333333333333,
              "#9c179e"
             ],
             [
              0.4444444444444444,
              "#bd3786"
             ],
             [
              0.5555555555555556,
              "#d8576b"
             ],
             [
              0.6666666666666666,
              "#ed7953"
             ],
             [
              0.7777777777777778,
              "#fb9f3a"
             ],
             [
              0.8888888888888888,
              "#fdca26"
             ],
             [
              1,
              "#f0f921"
             ]
            ],
            "type": "surface"
           }
          ],
          "table": [
           {
            "cells": {
             "fill": {
              "color": "#EBF0F8"
             },
             "line": {
              "color": "white"
             }
            },
            "header": {
             "fill": {
              "color": "#C8D4E3"
             },
             "line": {
              "color": "white"
             }
            },
            "type": "table"
           }
          ]
         },
         "layout": {
          "annotationdefaults": {
           "arrowcolor": "#2a3f5f",
           "arrowhead": 0,
           "arrowwidth": 1
          },
          "autotypenumbers": "strict",
          "coloraxis": {
           "colorbar": {
            "outlinewidth": 0,
            "ticks": ""
           }
          },
          "colorscale": {
           "diverging": [
            [
             0,
             "#8e0152"
            ],
            [
             0.1,
             "#c51b7d"
            ],
            [
             0.2,
             "#de77ae"
            ],
            [
             0.3,
             "#f1b6da"
            ],
            [
             0.4,
             "#fde0ef"
            ],
            [
             0.5,
             "#f7f7f7"
            ],
            [
             0.6,
             "#e6f5d0"
            ],
            [
             0.7,
             "#b8e186"
            ],
            [
             0.8,
             "#7fbc41"
            ],
            [
             0.9,
             "#4d9221"
            ],
            [
             1,
             "#276419"
            ]
           ],
           "sequential": [
            [
             0,
             "#0d0887"
            ],
            [
             0.1111111111111111,
             "#46039f"
            ],
            [
             0.2222222222222222,
             "#7201a8"
            ],
            [
             0.3333333333333333,
             "#9c179e"
            ],
            [
             0.4444444444444444,
             "#bd3786"
            ],
            [
             0.5555555555555556,
             "#d8576b"
            ],
            [
             0.6666666666666666,
             "#ed7953"
            ],
            [
             0.7777777777777778,
             "#fb9f3a"
            ],
            [
             0.8888888888888888,
             "#fdca26"
            ],
            [
             1,
             "#f0f921"
            ]
           ],
           "sequentialminus": [
            [
             0,
             "#0d0887"
            ],
            [
             0.1111111111111111,
             "#46039f"
            ],
            [
             0.2222222222222222,
             "#7201a8"
            ],
            [
             0.3333333333333333,
             "#9c179e"
            ],
            [
             0.4444444444444444,
             "#bd3786"
            ],
            [
             0.5555555555555556,
             "#d8576b"
            ],
            [
             0.6666666666666666,
             "#ed7953"
            ],
            [
             0.7777777777777778,
             "#fb9f3a"
            ],
            [
             0.8888888888888888,
             "#fdca26"
            ],
            [
             1,
             "#f0f921"
            ]
           ]
          },
          "colorway": [
           "#636efa",
           "#EF553B",
           "#00cc96",
           "#ab63fa",
           "#FFA15A",
           "#19d3f3",
           "#FF6692",
           "#B6E880",
           "#FF97FF",
           "#FECB52"
          ],
          "font": {
           "color": "#2a3f5f"
          },
          "geo": {
           "bgcolor": "white",
           "lakecolor": "white",
           "landcolor": "#E5ECF6",
           "showlakes": true,
           "showland": true,
           "subunitcolor": "white"
          },
          "hoverlabel": {
           "align": "left"
          },
          "hovermode": "closest",
          "mapbox": {
           "style": "light"
          },
          "paper_bgcolor": "white",
          "plot_bgcolor": "#E5ECF6",
          "polar": {
           "angularaxis": {
            "gridcolor": "white",
            "linecolor": "white",
            "ticks": ""
           },
           "bgcolor": "#E5ECF6",
           "radialaxis": {
            "gridcolor": "white",
            "linecolor": "white",
            "ticks": ""
           }
          },
          "scene": {
           "xaxis": {
            "backgroundcolor": "#E5ECF6",
            "gridcolor": "white",
            "gridwidth": 2,
            "linecolor": "white",
            "showbackground": true,
            "ticks": "",
            "zerolinecolor": "white"
           },
           "yaxis": {
            "backgroundcolor": "#E5ECF6",
            "gridcolor": "white",
            "gridwidth": 2,
            "linecolor": "white",
            "showbackground": true,
            "ticks": "",
            "zerolinecolor": "white"
           },
           "zaxis": {
            "backgroundcolor": "#E5ECF6",
            "gridcolor": "white",
            "gridwidth": 2,
            "linecolor": "white",
            "showbackground": true,
            "ticks": "",
            "zerolinecolor": "white"
           }
          },
          "shapedefaults": {
           "line": {
            "color": "#2a3f5f"
           }
          },
          "ternary": {
           "aaxis": {
            "gridcolor": "white",
            "linecolor": "white",
            "ticks": ""
           },
           "baxis": {
            "gridcolor": "white",
            "linecolor": "white",
            "ticks": ""
           },
           "bgcolor": "#E5ECF6",
           "caxis": {
            "gridcolor": "white",
            "linecolor": "white",
            "ticks": ""
           }
          },
          "title": {
           "x": 0.05
          },
          "xaxis": {
           "automargin": true,
           "gridcolor": "white",
           "linecolor": "white",
           "ticks": "",
           "title": {
            "standoff": 15
           },
           "zerolinecolor": "white",
           "zerolinewidth": 2
          },
          "yaxis": {
           "automargin": true,
           "gridcolor": "white",
           "linecolor": "white",
           "ticks": "",
           "title": {
            "standoff": 15
           },
           "zerolinecolor": "white",
           "zerolinewidth": 2
          }
         }
        },
        "title": {
         "text": "Histogram of Trade Gain%"
        },
        "xaxis": {
         "anchor": "y",
         "domain": [
          0,
          1
         ],
         "title": {
          "text": "Gain%"
         }
        },
        "yaxis": {
         "anchor": "x",
         "domain": [
          0,
          1
         ],
         "title": {
          "text": "Count"
         }
        }
       }
      }
     },
     "metadata": {},
     "output_type": "display_data"
    }
   ],
   "source": [
    "trades\n",
    "# histogram of the trade gain%\n",
    "\n",
    "\n",
    "fig = px.histogram(trades, x=\"Gain%\", nbins=100, title=\"Histogram of Trade Gain%\")\n",
    "fig.update_layout(\n",
    "    xaxis_title=\"Gain%\",\n",
    "    yaxis_title=\"Count\",\n",
    "    bargap=0.1\n",
    ")\n",
    "fig.show()"
   ]
  },
  {
   "cell_type": "code",
   "execution_count": 260,
   "metadata": {},
   "outputs": [
    {
     "name": "stdout",
     "output_type": "stream",
     "text": [
      "Total Trades: 251\n",
      "Total Gain%: -2.21\n",
      "Average Gain%: -0.0088\n",
      "Median Gain%: 0.04\n",
      "Average Gain$: -0.03904\n",
      "Median Gain$: 0.14\n"
     ]
    },
    {
     "data": {
      "text/plain": [
       "count     251.00\n",
       "unique     85.00\n",
       "top         0.08\n",
       "freq       11.00\n",
       "Name: Gain%, dtype: float64"
      ]
     },
     "execution_count": 260,
     "metadata": {},
     "output_type": "execute_result"
    }
   ],
   "source": [
    "print(\"Total Trades:\", len(trades))\n",
    "print(\"Total Gain%:\", round(trades[\"Gain%\"].sum(), 2))\n",
    "print(\"Average Gain%:\", round(trades[\"Gain%\"].mean(), 5))\n",
    "print(\"Median Gain%:\", round(trades[\"Gain%\"].median(), 2))\n",
    "\n",
    "print(\"Average Gain$:\", round(trades[\"Gain$\"].mean(), 5))\n",
    "print(\"Median Gain$:\", round(trades[\"Gain$\"].median(), 2))\n",
    "\n",
    "\n",
    "trades[\"Gain%\"].describe()"
   ]
  },
  {
   "cell_type": "code",
   "execution_count": 261,
   "metadata": {},
   "outputs": [
    {
     "data": {
      "text/plain": [
       "ExitCondition\n",
       "MaxProfit    160\n",
       "StopLoss      91\n",
       "Name: count, dtype: int64"
      ]
     },
     "execution_count": 261,
     "metadata": {},
     "output_type": "execute_result"
    }
   ],
   "source": [
    "trades.to_csv('../temp/trades.csv', index=False)\n",
    "\n",
    "trades[\"ExitCondition\"].value_counts()"
   ]
  },
  {
   "cell_type": "code",
   "execution_count": 262,
   "metadata": {},
   "outputs": [
    {
     "data": {
      "application/vnd.plotly.v1+json": {
       "config": {
        "plotlyServerURL": "https://plot.ly"
       },
       "data": [
        {
         "alignmentgroup": "True",
         "bingroup": "x",
         "hovertemplate": "TimeEnter=%{x}<br>count=%{y}<extra></extra>",
         "legendgroup": "",
         "marker": {
          "color": "#636efa",
          "pattern": {
           "shape": ""
          }
         },
         "name": "",
         "nbinsx": 50,
         "offsetgroup": "",
         "orientation": "v",
         "showlegend": false,
         "type": "histogram",
         "x": [
          "09:32:00",
          "09:44:00",
          "10:15:00",
          "09:50:00",
          "09:30:00",
          "10:10:00",
          "09:46:00",
          "10:13:00",
          "09:35:00",
          "09:32:00",
          "09:37:00",
          "09:59:00",
          "10:06:00",
          "10:00:00",
          "09:43:00",
          "09:30:00",
          "09:34:00",
          "10:14:00",
          "09:30:00",
          "09:32:00",
          "09:57:00",
          "09:33:00",
          "09:39:00",
          "09:46:00",
          "09:32:00",
          "09:55:00",
          "09:49:00",
          "09:46:00",
          "09:44:00",
          "09:31:00",
          "09:45:00",
          "09:30:00",
          "09:30:00",
          "09:31:00",
          "10:07:00",
          "09:54:00",
          "09:46:00",
          "09:54:00",
          "10:01:00",
          "09:34:00",
          "09:46:00",
          "09:33:00",
          "09:32:00",
          "09:31:00",
          "09:44:00",
          "09:33:00",
          "09:32:00",
          "09:30:00",
          "09:46:00",
          "09:31:00",
          "09:47:00",
          "09:45:00",
          "09:31:00",
          "10:15:00",
          "09:47:00",
          "09:37:00",
          "09:32:00",
          "09:38:00",
          "09:55:00",
          "09:30:00",
          "09:58:00",
          "09:31:00",
          "09:33:00",
          "09:32:00",
          "09:38:00",
          "09:34:00",
          "09:53:00",
          "09:31:00",
          "09:43:00",
          "09:53:00",
          "09:32:00",
          "09:57:00",
          "09:42:00",
          "09:46:00",
          "09:40:00",
          "09:56:00",
          "09:44:00",
          "09:31:00",
          "09:30:00",
          "09:39:00",
          "09:34:00",
          "10:35:00",
          "09:54:00",
          "09:39:00",
          "09:36:00",
          "09:31:00",
          "09:58:00",
          "09:50:00",
          "09:30:00",
          "09:33:00",
          "09:32:00",
          "09:40:00",
          "09:38:00",
          "09:43:00",
          "09:30:00",
          "09:38:00",
          "09:33:00",
          "09:31:00",
          "09:30:00",
          "09:45:00",
          "09:31:00",
          "09:47:00",
          "09:41:00",
          "09:31:00",
          "09:38:00",
          "09:43:00",
          "09:31:00",
          "09:33:00",
          "09:47:00",
          "09:33:00",
          "09:31:00",
          "09:46:00",
          "09:51:00",
          "10:05:00",
          "09:33:00",
          "09:59:00",
          "09:31:00",
          "09:53:00",
          "09:46:00",
          "09:59:00",
          "09:52:00",
          "09:33:00",
          "09:34:00",
          "09:43:00",
          "09:47:00",
          "09:31:00",
          "09:30:00",
          "09:53:00",
          "09:46:00",
          "09:56:00",
          "09:40:00",
          "09:44:00",
          "09:35:00",
          "09:31:00",
          "10:00:00",
          "09:33:00",
          "09:43:00",
          "09:44:00",
          "10:06:00",
          "09:30:00",
          "09:32:00",
          "09:59:00",
          "09:35:00",
          "09:31:00",
          "10:00:00",
          "10:08:00",
          "09:51:00",
          "09:31:00",
          "09:33:00",
          "09:58:00",
          "09:59:00",
          "09:41:00",
          "09:30:00",
          "09:45:00",
          "09:31:00",
          "10:04:00",
          "09:31:00",
          "10:04:00",
          "09:35:00",
          "09:40:00",
          "10:15:00",
          "09:30:00",
          "10:16:00",
          "09:45:00",
          "09:31:00",
          "10:14:00",
          "09:36:00",
          "09:48:00",
          "10:10:00",
          "10:09:00",
          "09:43:00",
          "09:58:00",
          "09:40:00",
          "10:37:00",
          "09:39:00",
          "09:34:00",
          "09:41:00",
          "09:35:00",
          "09:58:00",
          "09:35:00",
          "09:45:00",
          "09:31:00",
          "09:33:00",
          "09:32:00",
          "09:32:00",
          "09:40:00",
          "09:32:00",
          "09:32:00",
          "09:32:00",
          "10:05:00",
          "09:46:00",
          "09:30:00",
          "09:56:00",
          "09:31:00",
          "09:33:00",
          "09:30:00",
          "09:46:00",
          "09:53:00",
          "09:30:00",
          "09:57:00",
          "09:52:00",
          "10:05:00",
          "10:04:00",
          "09:31:00",
          "09:45:00",
          "09:32:00",
          "09:38:00",
          "09:39:00",
          "09:46:00",
          "09:42:00",
          "09:46:00",
          "09:30:00",
          "09:55:00",
          "09:31:00",
          "09:56:00",
          "09:30:00",
          "09:35:00",
          "09:33:00",
          "09:31:00",
          "09:52:00",
          "09:31:00",
          "09:31:00",
          "09:57:00",
          "10:06:00",
          "10:20:00",
          "09:50:00",
          "09:48:00",
          "09:30:00",
          "09:56:00",
          "09:46:00",
          "09:44:00",
          "09:32:00",
          "10:06:00",
          "09:43:00",
          "09:31:00",
          "09:47:00",
          "10:17:00",
          "09:56:00",
          "09:46:00",
          "09:39:00",
          "09:59:00",
          "09:32:00",
          "09:50:00",
          "09:43:00",
          "09:34:00",
          "09:44:00",
          "09:34:00",
          "09:32:00",
          "09:43:00",
          "09:32:00",
          "09:53:00"
         ],
         "xaxis": "x",
         "yaxis": "y"
        }
       ],
       "layout": {
        "bargap": 0.1,
        "barmode": "relative",
        "legend": {
         "tracegroupgap": 0
        },
        "template": {
         "data": {
          "bar": [
           {
            "error_x": {
             "color": "#2a3f5f"
            },
            "error_y": {
             "color": "#2a3f5f"
            },
            "marker": {
             "line": {
              "color": "#E5ECF6",
              "width": 0.5
             },
             "pattern": {
              "fillmode": "overlay",
              "size": 10,
              "solidity": 0.2
             }
            },
            "type": "bar"
           }
          ],
          "barpolar": [
           {
            "marker": {
             "line": {
              "color": "#E5ECF6",
              "width": 0.5
             },
             "pattern": {
              "fillmode": "overlay",
              "size": 10,
              "solidity": 0.2
             }
            },
            "type": "barpolar"
           }
          ],
          "carpet": [
           {
            "aaxis": {
             "endlinecolor": "#2a3f5f",
             "gridcolor": "white",
             "linecolor": "white",
             "minorgridcolor": "white",
             "startlinecolor": "#2a3f5f"
            },
            "baxis": {
             "endlinecolor": "#2a3f5f",
             "gridcolor": "white",
             "linecolor": "white",
             "minorgridcolor": "white",
             "startlinecolor": "#2a3f5f"
            },
            "type": "carpet"
           }
          ],
          "choropleth": [
           {
            "colorbar": {
             "outlinewidth": 0,
             "ticks": ""
            },
            "type": "choropleth"
           }
          ],
          "contour": [
           {
            "colorbar": {
             "outlinewidth": 0,
             "ticks": ""
            },
            "colorscale": [
             [
              0,
              "#0d0887"
             ],
             [
              0.1111111111111111,
              "#46039f"
             ],
             [
              0.2222222222222222,
              "#7201a8"
             ],
             [
              0.3333333333333333,
              "#9c179e"
             ],
             [
              0.4444444444444444,
              "#bd3786"
             ],
             [
              0.5555555555555556,
              "#d8576b"
             ],
             [
              0.6666666666666666,
              "#ed7953"
             ],
             [
              0.7777777777777778,
              "#fb9f3a"
             ],
             [
              0.8888888888888888,
              "#fdca26"
             ],
             [
              1,
              "#f0f921"
             ]
            ],
            "type": "contour"
           }
          ],
          "contourcarpet": [
           {
            "colorbar": {
             "outlinewidth": 0,
             "ticks": ""
            },
            "type": "contourcarpet"
           }
          ],
          "heatmap": [
           {
            "colorbar": {
             "outlinewidth": 0,
             "ticks": ""
            },
            "colorscale": [
             [
              0,
              "#0d0887"
             ],
             [
              0.1111111111111111,
              "#46039f"
             ],
             [
              0.2222222222222222,
              "#7201a8"
             ],
             [
              0.3333333333333333,
              "#9c179e"
             ],
             [
              0.4444444444444444,
              "#bd3786"
             ],
             [
              0.5555555555555556,
              "#d8576b"
             ],
             [
              0.6666666666666666,
              "#ed7953"
             ],
             [
              0.7777777777777778,
              "#fb9f3a"
             ],
             [
              0.8888888888888888,
              "#fdca26"
             ],
             [
              1,
              "#f0f921"
             ]
            ],
            "type": "heatmap"
           }
          ],
          "heatmapgl": [
           {
            "colorbar": {
             "outlinewidth": 0,
             "ticks": ""
            },
            "colorscale": [
             [
              0,
              "#0d0887"
             ],
             [
              0.1111111111111111,
              "#46039f"
             ],
             [
              0.2222222222222222,
              "#7201a8"
             ],
             [
              0.3333333333333333,
              "#9c179e"
             ],
             [
              0.4444444444444444,
              "#bd3786"
             ],
             [
              0.5555555555555556,
              "#d8576b"
             ],
             [
              0.6666666666666666,
              "#ed7953"
             ],
             [
              0.7777777777777778,
              "#fb9f3a"
             ],
             [
              0.8888888888888888,
              "#fdca26"
             ],
             [
              1,
              "#f0f921"
             ]
            ],
            "type": "heatmapgl"
           }
          ],
          "histogram": [
           {
            "marker": {
             "pattern": {
              "fillmode": "overlay",
              "size": 10,
              "solidity": 0.2
             }
            },
            "type": "histogram"
           }
          ],
          "histogram2d": [
           {
            "colorbar": {
             "outlinewidth": 0,
             "ticks": ""
            },
            "colorscale": [
             [
              0,
              "#0d0887"
             ],
             [
              0.1111111111111111,
              "#46039f"
             ],
             [
              0.2222222222222222,
              "#7201a8"
             ],
             [
              0.3333333333333333,
              "#9c179e"
             ],
             [
              0.4444444444444444,
              "#bd3786"
             ],
             [
              0.5555555555555556,
              "#d8576b"
             ],
             [
              0.6666666666666666,
              "#ed7953"
             ],
             [
              0.7777777777777778,
              "#fb9f3a"
             ],
             [
              0.8888888888888888,
              "#fdca26"
             ],
             [
              1,
              "#f0f921"
             ]
            ],
            "type": "histogram2d"
           }
          ],
          "histogram2dcontour": [
           {
            "colorbar": {
             "outlinewidth": 0,
             "ticks": ""
            },
            "colorscale": [
             [
              0,
              "#0d0887"
             ],
             [
              0.1111111111111111,
              "#46039f"
             ],
             [
              0.2222222222222222,
              "#7201a8"
             ],
             [
              0.3333333333333333,
              "#9c179e"
             ],
             [
              0.4444444444444444,
              "#bd3786"
             ],
             [
              0.5555555555555556,
              "#d8576b"
             ],
             [
              0.6666666666666666,
              "#ed7953"
             ],
             [
              0.7777777777777778,
              "#fb9f3a"
             ],
             [
              0.8888888888888888,
              "#fdca26"
             ],
             [
              1,
              "#f0f921"
             ]
            ],
            "type": "histogram2dcontour"
           }
          ],
          "mesh3d": [
           {
            "colorbar": {
             "outlinewidth": 0,
             "ticks": ""
            },
            "type": "mesh3d"
           }
          ],
          "parcoords": [
           {
            "line": {
             "colorbar": {
              "outlinewidth": 0,
              "ticks": ""
             }
            },
            "type": "parcoords"
           }
          ],
          "pie": [
           {
            "automargin": true,
            "type": "pie"
           }
          ],
          "scatter": [
           {
            "fillpattern": {
             "fillmode": "overlay",
             "size": 10,
             "solidity": 0.2
            },
            "type": "scatter"
           }
          ],
          "scatter3d": [
           {
            "line": {
             "colorbar": {
              "outlinewidth": 0,
              "ticks": ""
             }
            },
            "marker": {
             "colorbar": {
              "outlinewidth": 0,
              "ticks": ""
             }
            },
            "type": "scatter3d"
           }
          ],
          "scattercarpet": [
           {
            "marker": {
             "colorbar": {
              "outlinewidth": 0,
              "ticks": ""
             }
            },
            "type": "scattercarpet"
           }
          ],
          "scattergeo": [
           {
            "marker": {
             "colorbar": {
              "outlinewidth": 0,
              "ticks": ""
             }
            },
            "type": "scattergeo"
           }
          ],
          "scattergl": [
           {
            "marker": {
             "colorbar": {
              "outlinewidth": 0,
              "ticks": ""
             }
            },
            "type": "scattergl"
           }
          ],
          "scattermapbox": [
           {
            "marker": {
             "colorbar": {
              "outlinewidth": 0,
              "ticks": ""
             }
            },
            "type": "scattermapbox"
           }
          ],
          "scatterpolar": [
           {
            "marker": {
             "colorbar": {
              "outlinewidth": 0,
              "ticks": ""
             }
            },
            "type": "scatterpolar"
           }
          ],
          "scatterpolargl": [
           {
            "marker": {
             "colorbar": {
              "outlinewidth": 0,
              "ticks": ""
             }
            },
            "type": "scatterpolargl"
           }
          ],
          "scatterternary": [
           {
            "marker": {
             "colorbar": {
              "outlinewidth": 0,
              "ticks": ""
             }
            },
            "type": "scatterternary"
           }
          ],
          "surface": [
           {
            "colorbar": {
             "outlinewidth": 0,
             "ticks": ""
            },
            "colorscale": [
             [
              0,
              "#0d0887"
             ],
             [
              0.1111111111111111,
              "#46039f"
             ],
             [
              0.2222222222222222,
              "#7201a8"
             ],
             [
              0.3333333333333333,
              "#9c179e"
             ],
             [
              0.4444444444444444,
              "#bd3786"
             ],
             [
              0.5555555555555556,
              "#d8576b"
             ],
             [
              0.6666666666666666,
              "#ed7953"
             ],
             [
              0.7777777777777778,
              "#fb9f3a"
             ],
             [
              0.8888888888888888,
              "#fdca26"
             ],
             [
              1,
              "#f0f921"
             ]
            ],
            "type": "surface"
           }
          ],
          "table": [
           {
            "cells": {
             "fill": {
              "color": "#EBF0F8"
             },
             "line": {
              "color": "white"
             }
            },
            "header": {
             "fill": {
              "color": "#C8D4E3"
             },
             "line": {
              "color": "white"
             }
            },
            "type": "table"
           }
          ]
         },
         "layout": {
          "annotationdefaults": {
           "arrowcolor": "#2a3f5f",
           "arrowhead": 0,
           "arrowwidth": 1
          },
          "autotypenumbers": "strict",
          "coloraxis": {
           "colorbar": {
            "outlinewidth": 0,
            "ticks": ""
           }
          },
          "colorscale": {
           "diverging": [
            [
             0,
             "#8e0152"
            ],
            [
             0.1,
             "#c51b7d"
            ],
            [
             0.2,
             "#de77ae"
            ],
            [
             0.3,
             "#f1b6da"
            ],
            [
             0.4,
             "#fde0ef"
            ],
            [
             0.5,
             "#f7f7f7"
            ],
            [
             0.6,
             "#e6f5d0"
            ],
            [
             0.7,
             "#b8e186"
            ],
            [
             0.8,
             "#7fbc41"
            ],
            [
             0.9,
             "#4d9221"
            ],
            [
             1,
             "#276419"
            ]
           ],
           "sequential": [
            [
             0,
             "#0d0887"
            ],
            [
             0.1111111111111111,
             "#46039f"
            ],
            [
             0.2222222222222222,
             "#7201a8"
            ],
            [
             0.3333333333333333,
             "#9c179e"
            ],
            [
             0.4444444444444444,
             "#bd3786"
            ],
            [
             0.5555555555555556,
             "#d8576b"
            ],
            [
             0.6666666666666666,
             "#ed7953"
            ],
            [
             0.7777777777777778,
             "#fb9f3a"
            ],
            [
             0.8888888888888888,
             "#fdca26"
            ],
            [
             1,
             "#f0f921"
            ]
           ],
           "sequentialminus": [
            [
             0,
             "#0d0887"
            ],
            [
             0.1111111111111111,
             "#46039f"
            ],
            [
             0.2222222222222222,
             "#7201a8"
            ],
            [
             0.3333333333333333,
             "#9c179e"
            ],
            [
             0.4444444444444444,
             "#bd3786"
            ],
            [
             0.5555555555555556,
             "#d8576b"
            ],
            [
             0.6666666666666666,
             "#ed7953"
            ],
            [
             0.7777777777777778,
             "#fb9f3a"
            ],
            [
             0.8888888888888888,
             "#fdca26"
            ],
            [
             1,
             "#f0f921"
            ]
           ]
          },
          "colorway": [
           "#636efa",
           "#EF553B",
           "#00cc96",
           "#ab63fa",
           "#FFA15A",
           "#19d3f3",
           "#FF6692",
           "#B6E880",
           "#FF97FF",
           "#FECB52"
          ],
          "font": {
           "color": "#2a3f5f"
          },
          "geo": {
           "bgcolor": "white",
           "lakecolor": "white",
           "landcolor": "#E5ECF6",
           "showlakes": true,
           "showland": true,
           "subunitcolor": "white"
          },
          "hoverlabel": {
           "align": "left"
          },
          "hovermode": "closest",
          "mapbox": {
           "style": "light"
          },
          "paper_bgcolor": "white",
          "plot_bgcolor": "#E5ECF6",
          "polar": {
           "angularaxis": {
            "gridcolor": "white",
            "linecolor": "white",
            "ticks": ""
           },
           "bgcolor": "#E5ECF6",
           "radialaxis": {
            "gridcolor": "white",
            "linecolor": "white",
            "ticks": ""
           }
          },
          "scene": {
           "xaxis": {
            "backgroundcolor": "#E5ECF6",
            "gridcolor": "white",
            "gridwidth": 2,
            "linecolor": "white",
            "showbackground": true,
            "ticks": "",
            "zerolinecolor": "white"
           },
           "yaxis": {
            "backgroundcolor": "#E5ECF6",
            "gridcolor": "white",
            "gridwidth": 2,
            "linecolor": "white",
            "showbackground": true,
            "ticks": "",
            "zerolinecolor": "white"
           },
           "zaxis": {
            "backgroundcolor": "#E5ECF6",
            "gridcolor": "white",
            "gridwidth": 2,
            "linecolor": "white",
            "showbackground": true,
            "ticks": "",
            "zerolinecolor": "white"
           }
          },
          "shapedefaults": {
           "line": {
            "color": "#2a3f5f"
           }
          },
          "ternary": {
           "aaxis": {
            "gridcolor": "white",
            "linecolor": "white",
            "ticks": ""
           },
           "baxis": {
            "gridcolor": "white",
            "linecolor": "white",
            "ticks": ""
           },
           "bgcolor": "#E5ECF6",
           "caxis": {
            "gridcolor": "white",
            "linecolor": "white",
            "ticks": ""
           }
          },
          "title": {
           "x": 0.05
          },
          "xaxis": {
           "automargin": true,
           "gridcolor": "white",
           "linecolor": "white",
           "ticks": "",
           "title": {
            "standoff": 15
           },
           "zerolinecolor": "white",
           "zerolinewidth": 2
          },
          "yaxis": {
           "automargin": true,
           "gridcolor": "white",
           "linecolor": "white",
           "ticks": "",
           "title": {
            "standoff": 15
           },
           "zerolinecolor": "white",
           "zerolinewidth": 2
          }
         }
        },
        "title": {
         "text": "Histogram of Time to Enter Trade"
        },
        "xaxis": {
         "anchor": "y",
         "domain": [
          0,
          1
         ],
         "title": {
          "text": "Time"
         }
        },
        "yaxis": {
         "anchor": "x",
         "domain": [
          0,
          1
         ],
         "title": {
          "text": "Count"
         }
        }
       }
      }
     },
     "metadata": {},
     "output_type": "display_data"
    }
   ],
   "source": [
    "fig = px.histogram(trades, x=\"TimeEnter\", nbins=50, title=\"Histogram of Time to Enter Trade\")\n",
    "fig.update_layout(\n",
    "    xaxis_title=\"Time\",\n",
    "    yaxis_title=\"Count\",\n",
    "    bargap=0.1\n",
    ")\n",
    "fig.show()"
   ]
  },
  {
   "cell_type": "code",
   "execution_count": 263,
   "metadata": {},
   "outputs": [
    {
     "data": {
      "application/vnd.plotly.v1+json": {
       "config": {
        "plotlyServerURL": "https://plot.ly"
       },
       "data": [
        {
         "hovertemplate": "TimeEnter=%{x}<br>Gain%=%{y}<extra></extra>",
         "legendgroup": "",
         "marker": {
          "color": "#636efa",
          "symbol": "circle"
         },
         "mode": "markers",
         "name": "",
         "orientation": "v",
         "showlegend": false,
         "type": "scatter",
         "x": [
          "09:32:00",
          "09:44:00",
          "10:15:00",
          "09:50:00",
          "09:30:00",
          "10:10:00",
          "09:46:00",
          "10:13:00",
          "09:35:00",
          "09:32:00",
          "09:37:00",
          "09:59:00",
          "10:06:00",
          "10:00:00",
          "09:43:00",
          "09:30:00",
          "09:34:00",
          "10:14:00",
          "09:30:00",
          "09:32:00",
          "09:57:00",
          "09:33:00",
          "09:39:00",
          "09:46:00",
          "09:32:00",
          "09:55:00",
          "09:49:00",
          "09:46:00",
          "09:44:00",
          "09:31:00",
          "09:45:00",
          "09:30:00",
          "09:30:00",
          "09:31:00",
          "10:07:00",
          "09:54:00",
          "09:46:00",
          "09:54:00",
          "10:01:00",
          "09:34:00",
          "09:46:00",
          "09:33:00",
          "09:32:00",
          "09:31:00",
          "09:44:00",
          "09:33:00",
          "09:32:00",
          "09:30:00",
          "09:46:00",
          "09:31:00",
          "09:47:00",
          "09:45:00",
          "09:31:00",
          "10:15:00",
          "09:47:00",
          "09:37:00",
          "09:32:00",
          "09:38:00",
          "09:55:00",
          "09:30:00",
          "09:58:00",
          "09:31:00",
          "09:33:00",
          "09:32:00",
          "09:38:00",
          "09:34:00",
          "09:53:00",
          "09:31:00",
          "09:43:00",
          "09:53:00",
          "09:32:00",
          "09:57:00",
          "09:42:00",
          "09:46:00",
          "09:40:00",
          "09:56:00",
          "09:44:00",
          "09:31:00",
          "09:30:00",
          "09:39:00",
          "09:34:00",
          "10:35:00",
          "09:54:00",
          "09:39:00",
          "09:36:00",
          "09:31:00",
          "09:58:00",
          "09:50:00",
          "09:30:00",
          "09:33:00",
          "09:32:00",
          "09:40:00",
          "09:38:00",
          "09:43:00",
          "09:30:00",
          "09:38:00",
          "09:33:00",
          "09:31:00",
          "09:30:00",
          "09:45:00",
          "09:31:00",
          "09:47:00",
          "09:41:00",
          "09:31:00",
          "09:38:00",
          "09:43:00",
          "09:31:00",
          "09:33:00",
          "09:47:00",
          "09:33:00",
          "09:31:00",
          "09:46:00",
          "09:51:00",
          "10:05:00",
          "09:33:00",
          "09:59:00",
          "09:31:00",
          "09:53:00",
          "09:46:00",
          "09:59:00",
          "09:52:00",
          "09:33:00",
          "09:34:00",
          "09:43:00",
          "09:47:00",
          "09:31:00",
          "09:30:00",
          "09:53:00",
          "09:46:00",
          "09:56:00",
          "09:40:00",
          "09:44:00",
          "09:35:00",
          "09:31:00",
          "10:00:00",
          "09:33:00",
          "09:43:00",
          "09:44:00",
          "10:06:00",
          "09:30:00",
          "09:32:00",
          "09:59:00",
          "09:35:00",
          "09:31:00",
          "10:00:00",
          "10:08:00",
          "09:51:00",
          "09:31:00",
          "09:33:00",
          "09:58:00",
          "09:59:00",
          "09:41:00",
          "09:30:00",
          "09:45:00",
          "09:31:00",
          "10:04:00",
          "09:31:00",
          "10:04:00",
          "09:35:00",
          "09:40:00",
          "10:15:00",
          "09:30:00",
          "10:16:00",
          "09:45:00",
          "09:31:00",
          "10:14:00",
          "09:36:00",
          "09:48:00",
          "10:10:00",
          "10:09:00",
          "09:43:00",
          "09:58:00",
          "09:40:00",
          "10:37:00",
          "09:39:00",
          "09:34:00",
          "09:41:00",
          "09:35:00",
          "09:58:00",
          "09:35:00",
          "09:45:00",
          "09:31:00",
          "09:33:00",
          "09:32:00",
          "09:32:00",
          "09:40:00",
          "09:32:00",
          "09:32:00",
          "09:32:00",
          "10:05:00",
          "09:46:00",
          "09:30:00",
          "09:56:00",
          "09:31:00",
          "09:33:00",
          "09:30:00",
          "09:46:00",
          "09:53:00",
          "09:30:00",
          "09:57:00",
          "09:52:00",
          "10:05:00",
          "10:04:00",
          "09:31:00",
          "09:45:00",
          "09:32:00",
          "09:38:00",
          "09:39:00",
          "09:46:00",
          "09:42:00",
          "09:46:00",
          "09:30:00",
          "09:55:00",
          "09:31:00",
          "09:56:00",
          "09:30:00",
          "09:35:00",
          "09:33:00",
          "09:31:00",
          "09:52:00",
          "09:31:00",
          "09:31:00",
          "09:57:00",
          "10:06:00",
          "10:20:00",
          "09:50:00",
          "09:48:00",
          "09:30:00",
          "09:56:00",
          "09:46:00",
          "09:44:00",
          "09:32:00",
          "10:06:00",
          "09:43:00",
          "09:31:00",
          "09:47:00",
          "10:17:00",
          "09:56:00",
          "09:46:00",
          "09:39:00",
          "09:59:00",
          "09:32:00",
          "09:50:00",
          "09:43:00",
          "09:34:00",
          "09:44:00",
          "09:34:00",
          "09:32:00",
          "09:43:00",
          "09:32:00",
          "09:53:00"
         ],
         "xaxis": "x",
         "y": [
          0.41,
          -0.03,
          -0.13,
          -0.57,
          0.12,
          0.17,
          -0.39,
          0.11,
          0.13,
          0.51,
          -0.58,
          0.34,
          0.1,
          0.32,
          0.33,
          1.04,
          -0.43,
          -0.08,
          0.07,
          -0.75,
          0.33,
          -0.2,
          -0.51,
          -0.17,
          -0.42,
          0.15,
          -0.1,
          0.2,
          -0.2,
          0.51,
          0.03,
          0.06,
          -0.24,
          -0.1,
          0.26,
          -0.31,
          0.04,
          0.17,
          0.13,
          0.16,
          -0.23,
          -0.23,
          -0.38,
          0.08,
          0.17,
          0.01,
          -0.36,
          0.18,
          0.57,
          0.17,
          0.02,
          0.12,
          0.04,
          0.08,
          0.05,
          -0.34,
          0.22,
          0.09,
          -0.25,
          -0.56,
          0.48,
          0.15,
          0.34,
          -0.33,
          -0.77,
          -0.57,
          -0.03,
          0.17,
          0.35,
          0.19,
          0,
          0.19,
          0.21,
          0.05,
          -0.02,
          -0.21,
          -0.04,
          0.31,
          0.13,
          -0.41,
          -0.57,
          -0.3,
          0.23,
          0.15,
          0.07,
          -0.21,
          0.49,
          -0.29,
          0,
          0.18,
          -0.14,
          -0.07,
          0.08,
          0.23,
          0.03,
          0.08,
          -0.5,
          0.09,
          0.03,
          0.06,
          0.03,
          0.13,
          0.01,
          0.14,
          0.17,
          0.12,
          0.33,
          -0.8,
          0.08,
          0.01,
          -0.55,
          0.2,
          -0.02,
          -0.5,
          0.27,
          0.12,
          0.08,
          0.07,
          0.11,
          0.02,
          0.11,
          -0.18,
          0.14,
          -0.16,
          -0.17,
          0.06,
          0.12,
          0.01,
          0.05,
          0.08,
          -0.11,
          -0.07,
          -0.32,
          0.32,
          -0.33,
          0.06,
          -0.03,
          0.18,
          0.07,
          -0.21,
          0.06,
          -0.07,
          -0.39,
          0.08,
          0.42,
          0.02,
          -0.15,
          0.16,
          -0.36,
          0.18,
          -0.08,
          0.06,
          -0.59,
          -0.25,
          -0.18,
          -0.13,
          -0.03,
          0.14,
          0.08,
          -0.02,
          0.03,
          0.13,
          -0.19,
          0.02,
          0.32,
          0.19,
          -0.09,
          -0.02,
          0.07,
          -0.04,
          0.04,
          -0.17,
          -0.13,
          -0.06,
          -0.04,
          0.11,
          0.05,
          0.51,
          0.04,
          -0.16,
          -0.24,
          0.2,
          0.06,
          0.21,
          0.09,
          -0.13,
          0.14,
          0.04,
          0.05,
          0.05,
          -0.14,
          0.23,
          0.14,
          0,
          0.09,
          0.07,
          0.02,
          0.09,
          0.13,
          0,
          -0.07,
          0.1,
          -0.02,
          0.04,
          -0.09,
          -0.19,
          0.11,
          -0.17,
          0.08,
          -0.26,
          0.04,
          0.06,
          0.13,
          -0.32,
          -0.19,
          0.08,
          0.02,
          0.23,
          -0.25,
          -0.06,
          -0.18,
          0.01,
          0.03,
          -0.19,
          0.27,
          0.17,
          -0.36,
          0.16,
          0.31,
          0.19,
          -0.01,
          -0.29,
          -0.02,
          -0.31,
          0.13,
          0.1,
          0.02,
          -0.18,
          -0.32,
          -0.08,
          -0.45,
          -0.07,
          -0.32,
          0,
          -0.1,
          0.07,
          0.16,
          -0.11,
          -0.22,
          0.05,
          0
         ],
         "yaxis": "y"
        }
       ],
       "layout": {
        "bargap": 0.1,
        "legend": {
         "tracegroupgap": 0
        },
        "template": {
         "data": {
          "bar": [
           {
            "error_x": {
             "color": "#2a3f5f"
            },
            "error_y": {
             "color": "#2a3f5f"
            },
            "marker": {
             "line": {
              "color": "#E5ECF6",
              "width": 0.5
             },
             "pattern": {
              "fillmode": "overlay",
              "size": 10,
              "solidity": 0.2
             }
            },
            "type": "bar"
           }
          ],
          "barpolar": [
           {
            "marker": {
             "line": {
              "color": "#E5ECF6",
              "width": 0.5
             },
             "pattern": {
              "fillmode": "overlay",
              "size": 10,
              "solidity": 0.2
             }
            },
            "type": "barpolar"
           }
          ],
          "carpet": [
           {
            "aaxis": {
             "endlinecolor": "#2a3f5f",
             "gridcolor": "white",
             "linecolor": "white",
             "minorgridcolor": "white",
             "startlinecolor": "#2a3f5f"
            },
            "baxis": {
             "endlinecolor": "#2a3f5f",
             "gridcolor": "white",
             "linecolor": "white",
             "minorgridcolor": "white",
             "startlinecolor": "#2a3f5f"
            },
            "type": "carpet"
           }
          ],
          "choropleth": [
           {
            "colorbar": {
             "outlinewidth": 0,
             "ticks": ""
            },
            "type": "choropleth"
           }
          ],
          "contour": [
           {
            "colorbar": {
             "outlinewidth": 0,
             "ticks": ""
            },
            "colorscale": [
             [
              0,
              "#0d0887"
             ],
             [
              0.1111111111111111,
              "#46039f"
             ],
             [
              0.2222222222222222,
              "#7201a8"
             ],
             [
              0.3333333333333333,
              "#9c179e"
             ],
             [
              0.4444444444444444,
              "#bd3786"
             ],
             [
              0.5555555555555556,
              "#d8576b"
             ],
             [
              0.6666666666666666,
              "#ed7953"
             ],
             [
              0.7777777777777778,
              "#fb9f3a"
             ],
             [
              0.8888888888888888,
              "#fdca26"
             ],
             [
              1,
              "#f0f921"
             ]
            ],
            "type": "contour"
           }
          ],
          "contourcarpet": [
           {
            "colorbar": {
             "outlinewidth": 0,
             "ticks": ""
            },
            "type": "contourcarpet"
           }
          ],
          "heatmap": [
           {
            "colorbar": {
             "outlinewidth": 0,
             "ticks": ""
            },
            "colorscale": [
             [
              0,
              "#0d0887"
             ],
             [
              0.1111111111111111,
              "#46039f"
             ],
             [
              0.2222222222222222,
              "#7201a8"
             ],
             [
              0.3333333333333333,
              "#9c179e"
             ],
             [
              0.4444444444444444,
              "#bd3786"
             ],
             [
              0.5555555555555556,
              "#d8576b"
             ],
             [
              0.6666666666666666,
              "#ed7953"
             ],
             [
              0.7777777777777778,
              "#fb9f3a"
             ],
             [
              0.8888888888888888,
              "#fdca26"
             ],
             [
              1,
              "#f0f921"
             ]
            ],
            "type": "heatmap"
           }
          ],
          "heatmapgl": [
           {
            "colorbar": {
             "outlinewidth": 0,
             "ticks": ""
            },
            "colorscale": [
             [
              0,
              "#0d0887"
             ],
             [
              0.1111111111111111,
              "#46039f"
             ],
             [
              0.2222222222222222,
              "#7201a8"
             ],
             [
              0.3333333333333333,
              "#9c179e"
             ],
             [
              0.4444444444444444,
              "#bd3786"
             ],
             [
              0.5555555555555556,
              "#d8576b"
             ],
             [
              0.6666666666666666,
              "#ed7953"
             ],
             [
              0.7777777777777778,
              "#fb9f3a"
             ],
             [
              0.8888888888888888,
              "#fdca26"
             ],
             [
              1,
              "#f0f921"
             ]
            ],
            "type": "heatmapgl"
           }
          ],
          "histogram": [
           {
            "marker": {
             "pattern": {
              "fillmode": "overlay",
              "size": 10,
              "solidity": 0.2
             }
            },
            "type": "histogram"
           }
          ],
          "histogram2d": [
           {
            "colorbar": {
             "outlinewidth": 0,
             "ticks": ""
            },
            "colorscale": [
             [
              0,
              "#0d0887"
             ],
             [
              0.1111111111111111,
              "#46039f"
             ],
             [
              0.2222222222222222,
              "#7201a8"
             ],
             [
              0.3333333333333333,
              "#9c179e"
             ],
             [
              0.4444444444444444,
              "#bd3786"
             ],
             [
              0.5555555555555556,
              "#d8576b"
             ],
             [
              0.6666666666666666,
              "#ed7953"
             ],
             [
              0.7777777777777778,
              "#fb9f3a"
             ],
             [
              0.8888888888888888,
              "#fdca26"
             ],
             [
              1,
              "#f0f921"
             ]
            ],
            "type": "histogram2d"
           }
          ],
          "histogram2dcontour": [
           {
            "colorbar": {
             "outlinewidth": 0,
             "ticks": ""
            },
            "colorscale": [
             [
              0,
              "#0d0887"
             ],
             [
              0.1111111111111111,
              "#46039f"
             ],
             [
              0.2222222222222222,
              "#7201a8"
             ],
             [
              0.3333333333333333,
              "#9c179e"
             ],
             [
              0.4444444444444444,
              "#bd3786"
             ],
             [
              0.5555555555555556,
              "#d8576b"
             ],
             [
              0.6666666666666666,
              "#ed7953"
             ],
             [
              0.7777777777777778,
              "#fb9f3a"
             ],
             [
              0.8888888888888888,
              "#fdca26"
             ],
             [
              1,
              "#f0f921"
             ]
            ],
            "type": "histogram2dcontour"
           }
          ],
          "mesh3d": [
           {
            "colorbar": {
             "outlinewidth": 0,
             "ticks": ""
            },
            "type": "mesh3d"
           }
          ],
          "parcoords": [
           {
            "line": {
             "colorbar": {
              "outlinewidth": 0,
              "ticks": ""
             }
            },
            "type": "parcoords"
           }
          ],
          "pie": [
           {
            "automargin": true,
            "type": "pie"
           }
          ],
          "scatter": [
           {
            "fillpattern": {
             "fillmode": "overlay",
             "size": 10,
             "solidity": 0.2
            },
            "type": "scatter"
           }
          ],
          "scatter3d": [
           {
            "line": {
             "colorbar": {
              "outlinewidth": 0,
              "ticks": ""
             }
            },
            "marker": {
             "colorbar": {
              "outlinewidth": 0,
              "ticks": ""
             }
            },
            "type": "scatter3d"
           }
          ],
          "scattercarpet": [
           {
            "marker": {
             "colorbar": {
              "outlinewidth": 0,
              "ticks": ""
             }
            },
            "type": "scattercarpet"
           }
          ],
          "scattergeo": [
           {
            "marker": {
             "colorbar": {
              "outlinewidth": 0,
              "ticks": ""
             }
            },
            "type": "scattergeo"
           }
          ],
          "scattergl": [
           {
            "marker": {
             "colorbar": {
              "outlinewidth": 0,
              "ticks": ""
             }
            },
            "type": "scattergl"
           }
          ],
          "scattermapbox": [
           {
            "marker": {
             "colorbar": {
              "outlinewidth": 0,
              "ticks": ""
             }
            },
            "type": "scattermapbox"
           }
          ],
          "scatterpolar": [
           {
            "marker": {
             "colorbar": {
              "outlinewidth": 0,
              "ticks": ""
             }
            },
            "type": "scatterpolar"
           }
          ],
          "scatterpolargl": [
           {
            "marker": {
             "colorbar": {
              "outlinewidth": 0,
              "ticks": ""
             }
            },
            "type": "scatterpolargl"
           }
          ],
          "scatterternary": [
           {
            "marker": {
             "colorbar": {
              "outlinewidth": 0,
              "ticks": ""
             }
            },
            "type": "scatterternary"
           }
          ],
          "surface": [
           {
            "colorbar": {
             "outlinewidth": 0,
             "ticks": ""
            },
            "colorscale": [
             [
              0,
              "#0d0887"
             ],
             [
              0.1111111111111111,
              "#46039f"
             ],
             [
              0.2222222222222222,
              "#7201a8"
             ],
             [
              0.3333333333333333,
              "#9c179e"
             ],
             [
              0.4444444444444444,
              "#bd3786"
             ],
             [
              0.5555555555555556,
              "#d8576b"
             ],
             [
              0.6666666666666666,
              "#ed7953"
             ],
             [
              0.7777777777777778,
              "#fb9f3a"
             ],
             [
              0.8888888888888888,
              "#fdca26"
             ],
             [
              1,
              "#f0f921"
             ]
            ],
            "type": "surface"
           }
          ],
          "table": [
           {
            "cells": {
             "fill": {
              "color": "#EBF0F8"
             },
             "line": {
              "color": "white"
             }
            },
            "header": {
             "fill": {
              "color": "#C8D4E3"
             },
             "line": {
              "color": "white"
             }
            },
            "type": "table"
           }
          ]
         },
         "layout": {
          "annotationdefaults": {
           "arrowcolor": "#2a3f5f",
           "arrowhead": 0,
           "arrowwidth": 1
          },
          "autotypenumbers": "strict",
          "coloraxis": {
           "colorbar": {
            "outlinewidth": 0,
            "ticks": ""
           }
          },
          "colorscale": {
           "diverging": [
            [
             0,
             "#8e0152"
            ],
            [
             0.1,
             "#c51b7d"
            ],
            [
             0.2,
             "#de77ae"
            ],
            [
             0.3,
             "#f1b6da"
            ],
            [
             0.4,
             "#fde0ef"
            ],
            [
             0.5,
             "#f7f7f7"
            ],
            [
             0.6,
             "#e6f5d0"
            ],
            [
             0.7,
             "#b8e186"
            ],
            [
             0.8,
             "#7fbc41"
            ],
            [
             0.9,
             "#4d9221"
            ],
            [
             1,
             "#276419"
            ]
           ],
           "sequential": [
            [
             0,
             "#0d0887"
            ],
            [
             0.1111111111111111,
             "#46039f"
            ],
            [
             0.2222222222222222,
             "#7201a8"
            ],
            [
             0.3333333333333333,
             "#9c179e"
            ],
            [
             0.4444444444444444,
             "#bd3786"
            ],
            [
             0.5555555555555556,
             "#d8576b"
            ],
            [
             0.6666666666666666,
             "#ed7953"
            ],
            [
             0.7777777777777778,
             "#fb9f3a"
            ],
            [
             0.8888888888888888,
             "#fdca26"
            ],
            [
             1,
             "#f0f921"
            ]
           ],
           "sequentialminus": [
            [
             0,
             "#0d0887"
            ],
            [
             0.1111111111111111,
             "#46039f"
            ],
            [
             0.2222222222222222,
             "#7201a8"
            ],
            [
             0.3333333333333333,
             "#9c179e"
            ],
            [
             0.4444444444444444,
             "#bd3786"
            ],
            [
             0.5555555555555556,
             "#d8576b"
            ],
            [
             0.6666666666666666,
             "#ed7953"
            ],
            [
             0.7777777777777778,
             "#fb9f3a"
            ],
            [
             0.8888888888888888,
             "#fdca26"
            ],
            [
             1,
             "#f0f921"
            ]
           ]
          },
          "colorway": [
           "#636efa",
           "#EF553B",
           "#00cc96",
           "#ab63fa",
           "#FFA15A",
           "#19d3f3",
           "#FF6692",
           "#B6E880",
           "#FF97FF",
           "#FECB52"
          ],
          "font": {
           "color": "#2a3f5f"
          },
          "geo": {
           "bgcolor": "white",
           "lakecolor": "white",
           "landcolor": "#E5ECF6",
           "showlakes": true,
           "showland": true,
           "subunitcolor": "white"
          },
          "hoverlabel": {
           "align": "left"
          },
          "hovermode": "closest",
          "mapbox": {
           "style": "light"
          },
          "paper_bgcolor": "white",
          "plot_bgcolor": "#E5ECF6",
          "polar": {
           "angularaxis": {
            "gridcolor": "white",
            "linecolor": "white",
            "ticks": ""
           },
           "bgcolor": "#E5ECF6",
           "radialaxis": {
            "gridcolor": "white",
            "linecolor": "white",
            "ticks": ""
           }
          },
          "scene": {
           "xaxis": {
            "backgroundcolor": "#E5ECF6",
            "gridcolor": "white",
            "gridwidth": 2,
            "linecolor": "white",
            "showbackground": true,
            "ticks": "",
            "zerolinecolor": "white"
           },
           "yaxis": {
            "backgroundcolor": "#E5ECF6",
            "gridcolor": "white",
            "gridwidth": 2,
            "linecolor": "white",
            "showbackground": true,
            "ticks": "",
            "zerolinecolor": "white"
           },
           "zaxis": {
            "backgroundcolor": "#E5ECF6",
            "gridcolor": "white",
            "gridwidth": 2,
            "linecolor": "white",
            "showbackground": true,
            "ticks": "",
            "zerolinecolor": "white"
           }
          },
          "shapedefaults": {
           "line": {
            "color": "#2a3f5f"
           }
          },
          "ternary": {
           "aaxis": {
            "gridcolor": "white",
            "linecolor": "white",
            "ticks": ""
           },
           "baxis": {
            "gridcolor": "white",
            "linecolor": "white",
            "ticks": ""
           },
           "bgcolor": "#E5ECF6",
           "caxis": {
            "gridcolor": "white",
            "linecolor": "white",
            "ticks": ""
           }
          },
          "title": {
           "x": 0.05
          },
          "xaxis": {
           "automargin": true,
           "gridcolor": "white",
           "linecolor": "white",
           "ticks": "",
           "title": {
            "standoff": 15
           },
           "zerolinecolor": "white",
           "zerolinewidth": 2
          },
          "yaxis": {
           "automargin": true,
           "gridcolor": "white",
           "linecolor": "white",
           "ticks": "",
           "title": {
            "standoff": 15
           },
           "zerolinecolor": "white",
           "zerolinewidth": 2
          }
         }
        },
        "title": {
         "text": "Entry Time vs Gain%"
        },
        "xaxis": {
         "anchor": "y",
         "domain": [
          0,
          1
         ],
         "title": {
          "text": "Time"
         }
        },
        "yaxis": {
         "anchor": "x",
         "domain": [
          0,
          1
         ],
         "title": {
          "text": "Gain%"
         }
        }
       }
      }
     },
     "metadata": {},
     "output_type": "display_data"
    }
   ],
   "source": [
    "# scatter plot of entry time vs gain%\n",
    "\n",
    "fig = px.scatter(trades, x=\"TimeEnter\", y=\"Gain%\", title=\"Entry Time vs Gain%\")\n",
    "fig.update_layout(\n",
    "    xaxis_title=\"Time\",\n",
    "    yaxis_title=\"Gain%\",\n",
    "    bargap=0.1\n",
    ")\n",
    "\n",
    "fig.show()"
   ]
  },
  {
   "cell_type": "code",
   "execution_count": 264,
   "metadata": {},
   "outputs": [],
   "source": [
    "def rsi_ranged_backtest_single_pnl(df, rsi_enter, rsi_exit, maxTrades, ticker):\n",
    "    res = pd.DataFrame()\n",
    "    res.loc[0, 'Ticker'] = ticker\n",
    "    res.loc[0, 'StartDate'] = df['Date'].min()\n",
    "    res.loc[0, 'EndDate'] = df['Date'].max()\n",
    "    res.loc[0, 'Entry'] = rsi_enter\n",
    "    res.loc[0, 'Exit'] = rsi_exit,\n",
    "    res.loc[0, 'MaxTrades'] = maxTrades,\n",
    "    res.loc[0, 'TotalTrades'] = len(df)\n",
    "    res.loc[0, 'TotalPercentGain'] = round(df['Gain%'].sum(), 2)\n",
    "    res.loc[0, 'AveragePercentGain'] = round(df['Gain%'].mean(), 2)\n",
    "    res.loc[0, 'MaxPercentGain'] = round(df['Gain%'].max(), 2)\n",
    "    res.loc[0, 'MinPercentGain'] = round(df['Gain%'].min(), 2)\n",
    "\n",
    "    return res"
   ]
  },
  {
   "cell_type": "code",
   "execution_count": 265,
   "metadata": {},
   "outputs": [],
   "source": [
    "def multi_rsi_backtest(tickers, max_trades, indicator_pairs):\n",
    "    results = pd.DataFrame(\n",
    "        columns=[\n",
    "            \"Ticker\",\"StartDate\",\"EndDate\",\"Entry\",\"Exit\",\"TotalTrades\",\n",
    "            \"TotalPercentGain\",\"AveragePercentGain\",\"MaxPercentGain\",\"MinPercentGain\"])\n",
    "\n",
    "    for e in indicator_pairs:\n",
    "        for f in max_trades:\n",
    "            for g in tickers:\n",
    "\n",
    "                df = load_data(g)\n",
    "                df = RSI(df, 14)\n",
    "\n",
    "                print(\"testing TICKER/ENTER/EXIT/MAXTRADES:\", g, e[0], e[1], f)\n",
    "                trades = simulate_date_range(datetime.date(2022, 9, 30), datetime.date(2023, 9, 30), e[0], e[1], f, df)\n",
    "                pnl = rsi_ranged_backtest_single_pnl(trades, e[0], e[1], f, g)\n",
    "                results.loc[len(results)] = pnl.loc[0]\n",
    "\n",
    "    results = results.sort_values(by=[\"TotalPercentGain\"], ascending=False)\n",
    "    return results"
   ]
  }
 ],
 "metadata": {
  "kernelspec": {
   "display_name": "Python 3",
   "language": "python",
   "name": "python3"
  },
  "language_info": {
   "codemirror_mode": {
    "name": "ipython",
    "version": 3
   },
   "file_extension": ".py",
   "mimetype": "text/x-python",
   "name": "python",
   "nbconvert_exporter": "python",
   "pygments_lexer": "ipython3",
   "version": "3.12.1"
  }
 },
 "nbformat": 4,
 "nbformat_minor": 2
}
