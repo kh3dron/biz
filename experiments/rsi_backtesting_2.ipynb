{
 "cells": [
  {
   "cell_type": "code",
   "execution_count": 77,
   "metadata": {},
   "outputs": [],
   "source": [
    "import warnings\n",
    "warnings.simplefilter(action='ignore', category=FutureWarning)\n",
    "\n",
    "import pandas as pd\n",
    "\n",
    "def load_data(ticker):\n",
    "\n",
    "    filename = '../data/' + ticker + '_1min_firstratedata.csv'\n",
    "    df = pd.read_csv(filename)\n",
    "    df['ticker'] = ticker\n",
    "\n",
    "    df[\"timestamp\"] = pd.to_datetime(df[\"timestamp\"])\n",
    "    df[\"date\"] = df[\"timestamp\"].dt.date\n",
    "    df[\"time\"] = df[\"timestamp\"].dt.time\n",
    "    return df\n",
    "\n",
    "ticker = 'SPY'\n",
    "df = load_data(ticker)"
   ]
  },
  {
   "cell_type": "code",
   "execution_count": 78,
   "metadata": {},
   "outputs": [],
   "source": [
    "# Add the RSI indicator with period n to a df\n",
    "\n",
    "def RSI(df, n):\n",
    "    \"function to calculate RSI\"\n",
    "    delta = df[\"close\"].diff()\n",
    "    delta = delta[1:]\n",
    "    up, down = delta.copy(), delta.copy()\n",
    "    up[up < 0] = 0\n",
    "    down[down > 0] = 0\n",
    "    df[\"up\"] = up.round(4)\n",
    "    df[\"down\"] = down.round(4)\n",
    "    AVG_Gain = df[\"up\"].rolling(window=n).mean()\n",
    "    AVG_Loss = abs(df[\"down\"].rolling(window=n).mean())\n",
    "    RS = AVG_Gain / AVG_Loss\n",
    "    RSI = 100.0 - (100.0 / (1.0 + RS))\n",
    "    df[\"RSI_14\"] = RSI.round(4)\n",
    "    df = df.drop(columns=[\"up\", \"down\"])\n",
    "\n",
    "    return df\n",
    "\n",
    "df = RSI(df, 14)\n",
    "\n",
    "#df.head()"
   ]
  },
  {
   "cell_type": "code",
   "execution_count": 79,
   "metadata": {},
   "outputs": [],
   "source": [
    "import datetime\n",
    "import pandas as pd\n",
    "\n",
    "def simulate_trade_RSI(date, entry, exit_high, exit_low, max_trades, df):\n",
    "    df_day = df[(df[\"date\"] == date) & (df[\"time\"] >= datetime.time(9, 30, 0)) & (df[\"time\"] <= datetime.time(16, 0, 0))]\n",
    "    trade_log = pd.DataFrame(columns=[\"Date\", \"Direction\", \"Entry\", \"Exit\", \"TimeEnter\", \"TimeExit\", \"Gain%\", \"Gain$\", \"ExitCondition\"])\n",
    "    trades, in_trade = 0, False\n",
    "\n",
    "    for i in range(1, len(df_day)):\n",
    "        entry_rsi = (df_day[\"RSI_14\"].iloc[i - 1] < entry and df_day[\"RSI_14\"].iloc[i] >= entry)\n",
    "\n",
    "        exit_profit = (df_day[\"RSI_14\"].iloc[i - 1] >= exit_high and df_day[\"RSI_14\"].iloc[i] < exit_high)\n",
    "        exit_stoploss = (df_day[\"RSI_14\"].iloc[i - 1] <= exit_low and df_day[\"RSI_14\"].iloc[i] > exit_low)\n",
    "        exit_endofday = (df_day[\"time\"].iloc[i] == datetime.time(16, 0, 0))\n",
    "        exit_condition = \"MaxProfit\" if exit_profit else \"StopLoss\" if exit_stoploss else \"EndOfDay\" if exit_endofday else None\n",
    "\n",
    "        if not in_trade and entry_rsi:\n",
    "            entry_price, in_trade, time_enter = df_day[\"close\"].iloc[i], True, df_day[\"time\"].iloc[i - 1]\n",
    "\n",
    "        elif in_trade and (exit_profit or exit_stoploss or exit_endofday):\n",
    "            exit_price = df_day[\"close\"].iloc[i]\n",
    "            trade_gain_percent = round(((exit_price - entry_price) / entry_price) * 100, 2)\n",
    "            trade_gain_net = round(exit_price - entry_price, 2)\n",
    "\n",
    "            trade_log.loc[len(trade_log)] = pd.Series({\n",
    "                \"Date\": date,\n",
    "                \"Direction\": \"Long\",\n",
    "                \"Entry\": entry_price,\n",
    "                \"Exit\": exit_price,\n",
    "                \"TimeEnter\": time_enter,\n",
    "                \"TimeExit\": df_day[\"time\"].iloc[i],\n",
    "                \"Gain%\": trade_gain_percent,\n",
    "                \"Gain$\": trade_gain_net,\n",
    "                \"ExitCondition\": exit_condition\n",
    "            })\n",
    "\n",
    "            trades, entry_price, in_trade = trades + 1, 0, False\n",
    "\n",
    "            # Check if the maximum number of trades is reached\n",
    "            if trades >= max_trades:\n",
    "                break\n",
    "\n",
    "    return trade_log\n"
   ]
  },
  {
   "cell_type": "code",
   "execution_count": 80,
   "metadata": {},
   "outputs": [],
   "source": [
    "# Combine the simulated trades for a range of dates into a single dataframe\n",
    "\n",
    "def simulate_date_range(start_date, end_date, entry, exit_high, exit_low, max_trades, df):\n",
    "    day_datas = []\n",
    "\n",
    "    for n in range((end_date - start_date).days + 1):\n",
    "        date = start_date + datetime.timedelta(n)\n",
    "        day_data = simulate_trade_RSI(date, entry, exit_high, exit_low, max_trades, df)\n",
    "        if day_data is not None:\n",
    "            day_datas.append(day_data)\n",
    "\n",
    "    day_datas = pd.concat(day_datas, ignore_index=True)\n",
    "\n",
    "    return day_datas"
   ]
  },
  {
   "cell_type": "code",
   "execution_count": 81,
   "metadata": {},
   "outputs": [],
   "source": [
    "trades = simulate_date_range(datetime.date(2022, 9, 30), datetime.date(2023, 9, 30), 30, 50, 20, 2, df)"
   ]
  },
  {
   "cell_type": "code",
   "execution_count": 82,
   "metadata": {},
   "outputs": [
    {
     "data": {
      "application/vnd.plotly.v1+json": {
       "config": {
        "plotlyServerURL": "https://plot.ly"
       },
       "data": [
        {
         "alignmentgroup": "True",
         "bingroup": "x",
         "hovertemplate": "Gain%=%{x}<br>count=%{y}<extra></extra>",
         "legendgroup": "",
         "marker": {
          "color": "#636efa",
          "pattern": {
           "shape": ""
          }
         },
         "name": "",
         "nbinsx": 100,
         "offsetgroup": "",
         "orientation": "v",
         "showlegend": false,
         "type": "histogram",
         "x": [
          -0.5,
          -0.19,
          0.11,
          0.1,
          0.02,
          -0.24,
          -0.19,
          0,
          -0.08,
          0.24,
          -0.54,
          0.2,
          0.07,
          -0.1,
          -0.15,
          -0.32,
          0.18,
          0,
          0.04,
          -0.07,
          -0.09,
          -0.71,
          -0.01,
          -0.15,
          0.06,
          -0.61,
          0.47,
          -0.24,
          0.77,
          0.02,
          -0.35,
          0.14,
          -0.36,
          -0.02,
          0.03,
          0.07,
          -0.04,
          -0.01,
          0.82,
          0.06,
          0.24,
          0.13,
          -0.01,
          -0.14,
          0,
          -0.63,
          -0.02,
          -0.05,
          0.38,
          0.1,
          1.24,
          -0.18,
          -0.15,
          0.23,
          -0.02,
          -0.01,
          -0.09,
          0.36,
          0.27,
          0.01,
          0.02,
          0.02,
          -0.1,
          0,
          0.05,
          0.04,
          0.08,
          0.03,
          0.03,
          -0.09,
          -0.05,
          -0.05,
          -0.02,
          -0.22,
          -0.24,
          0.31,
          -0.06,
          -0.23,
          -0.02,
          -0.03,
          -0.01,
          -0.02,
          0,
          -0.32,
          0.15,
          -0.04,
          -0.05,
          0.16,
          0.04,
          0.03,
          -0.31,
          -0.07,
          0,
          -0.47,
          -0.05,
          0.23,
          0.42,
          0.08,
          0.02,
          0.07,
          0.05,
          0.04,
          0.02,
          -0.59,
          0.03,
          0.14,
          -0.08,
          -0.07,
          -0.18,
          0.22,
          -0.06,
          -0.31,
          -0.31,
          -0.02,
          -0.02,
          0.11,
          -0.19,
          -0.12,
          0.06,
          -0.14,
          -0.08,
          -0.03,
          0.23,
          -0.01,
          -0.03,
          0.33,
          -0.03,
          0.04,
          -0.32,
          -0.45,
          -0.07,
          0.01,
          -0.09,
          -0.19,
          0.11,
          0.6,
          0.39,
          0,
          0.12,
          0.1,
          -0.09,
          0.03,
          0.84,
          -0.19,
          -0.02,
          -0.02,
          -0.02,
          0.08,
          -0.09,
          -0.35,
          -0.01,
          -0.2,
          0.24,
          -0.01,
          0,
          0.06,
          0.16,
          0.04,
          -0.04,
          0.05,
          -0.04,
          -0.12,
          -0.06,
          -0.03,
          -0.27,
          0.15,
          0.02,
          0.57,
          0.06,
          0.02,
          -0.01,
          -0.01,
          0.17,
          -0.07,
          -0.06,
          0.01,
          0.13,
          0.95,
          -0.04,
          -0.15,
          -0.02,
          0.01,
          0.45,
          0.04,
          -0.03,
          -0.09,
          1,
          0.11,
          -0.04,
          0.05,
          -0.09,
          0.13,
          0.45,
          -0.04,
          -0.24,
          0,
          -0.12,
          0.29,
          0.03,
          -0.15,
          -0.08,
          -0.13,
          0,
          -0.06,
          0.05,
          -0.08,
          -0.05,
          0.49,
          0.11,
          -0.07,
          0.04,
          0.28,
          0.01,
          -0.04,
          0.04,
          -0.12,
          0.01,
          0.06,
          0.2,
          0.17,
          0.27,
          0.43,
          -0.18,
          -0.18,
          0.08,
          0.09,
          0.08,
          0.47,
          1.21,
          0.08,
          -0.01,
          -0.12,
          0.17,
          -0.47,
          -0.16,
          -0.03,
          -0.05,
          -0.04,
          0.02,
          -0.21,
          0.14,
          -0.05,
          -0.07,
          0.01,
          -0.27,
          -0.07,
          -0.05,
          -0.01,
          -0.03,
          0.06,
          -0.04,
          0,
          0.02,
          0.13,
          0.03,
          -0.07,
          -0.05,
          0.04,
          -0.08,
          0.16,
          -0.02,
          0.12,
          -0.03,
          0,
          -0.02,
          0.2,
          0,
          0.1,
          -0.17,
          -0.03,
          -0.04,
          -0.08,
          0,
          0.03,
          0.17,
          0.04,
          0.15,
          -0.02,
          -0.16,
          0.27,
          0.06,
          -0.05,
          -0.08,
          -0.08,
          0.11,
          -0.16,
          -0.04,
          0,
          -0.03,
          0.25,
          0.06,
          0.19,
          -0.09,
          -0.34,
          0.03,
          -0.17,
          -0.01,
          -0.19,
          -0.05,
          0,
          -0.17,
          -0.04,
          0.09,
          -0.01,
          0.3,
          -0.06,
          -0.07,
          -0.03,
          -0.04,
          -0.16,
          -0.13,
          -0.15,
          -0.03,
          0.07,
          -0.23,
          -0.06,
          -0.06,
          -0.12,
          0.11,
          -0.04,
          -0.1,
          0.14,
          0.12,
          0.04,
          -0.19,
          -0.07,
          -0.01,
          -0.05,
          -0.11,
          0,
          -0.12,
          -0.24,
          -0.28,
          -0.06,
          -0.14,
          0.03,
          0.08,
          -0.03,
          -0.03,
          -0.06,
          0.03,
          0.15,
          0,
          -0.04,
          0.26,
          0.06,
          -0.12,
          0.01,
          -0.05,
          0.01,
          0.04,
          0.02,
          0.11,
          0.18,
          0.24,
          0.03,
          0.01,
          -0.03,
          0,
          -0.08,
          -0.03,
          0.1,
          0.1,
          -0.05,
          -0.02,
          -0.06,
          -0.13,
          0.05,
          0.26,
          0.33,
          0.02,
          0.34,
          0.22,
          -0.1,
          0.1,
          -0.08,
          0.13,
          0,
          0,
          0.03,
          -0.06,
          -0.13,
          -0.04,
          -0.02,
          -0.06,
          -0.08,
          0,
          -0.06,
          -0.01,
          0.04,
          0.05,
          0,
          -0.08,
          0,
          0.01,
          0.11,
          0.1,
          -0.11,
          -0.01,
          -0.06,
          -0.23,
          -0.23,
          -0.03,
          -0.1,
          -0.04,
          -0.01,
          -0.01,
          -0.04,
          0.01,
          0.06,
          -0.01,
          0.07,
          -0.01,
          -0.03,
          0.07,
          0.07,
          -0.03,
          0.01,
          -0.02,
          0.08,
          -0.19,
          -0.25,
          0.32,
          -0.05,
          -0.01,
          -0.04,
          -0.04,
          -0.13,
          -0.03,
          -0.09,
          -0.08,
          0.11,
          0.04,
          0.02,
          -0.05,
          -0.28,
          -0.07,
          0.03,
          -0.04,
          -0.02,
          0.03,
          -0.04,
          0,
          0.08,
          -0.02,
          -0.22,
          0.02,
          0.01,
          -0.02,
          0.05,
          -0.33,
          -0.07,
          -0.09,
          -0.03,
          -0.06,
          -0.04,
          -0.05,
          0.01,
          -0.1,
          -0.04,
          0.04,
          -0.14,
          0.12,
          -0.1,
          0.24,
          0.03,
          0.03,
          0,
          0.17,
          -0.01,
          0.01,
          -0.05,
          0,
          0,
          -0.04,
          0.31,
          -0.07,
          0.02,
          -0.01,
          -0.05,
          0.01,
          -0.01,
          0.01,
          0.01,
          -0.1,
          0.03,
          0.03,
          -0.09,
          -0.09,
          0,
          0.03,
          0.06,
          -0.01,
          -0.41,
          0.03,
          0.09,
          -0.09,
          0.06,
          0.04,
          0.05,
          -0.03
         ],
         "xaxis": "x",
         "yaxis": "y"
        }
       ],
       "layout": {
        "bargap": 0.1,
        "barmode": "relative",
        "legend": {
         "tracegroupgap": 0
        },
        "template": {
         "data": {
          "bar": [
           {
            "error_x": {
             "color": "#2a3f5f"
            },
            "error_y": {
             "color": "#2a3f5f"
            },
            "marker": {
             "line": {
              "color": "#E5ECF6",
              "width": 0.5
             },
             "pattern": {
              "fillmode": "overlay",
              "size": 10,
              "solidity": 0.2
             }
            },
            "type": "bar"
           }
          ],
          "barpolar": [
           {
            "marker": {
             "line": {
              "color": "#E5ECF6",
              "width": 0.5
             },
             "pattern": {
              "fillmode": "overlay",
              "size": 10,
              "solidity": 0.2
             }
            },
            "type": "barpolar"
           }
          ],
          "carpet": [
           {
            "aaxis": {
             "endlinecolor": "#2a3f5f",
             "gridcolor": "white",
             "linecolor": "white",
             "minorgridcolor": "white",
             "startlinecolor": "#2a3f5f"
            },
            "baxis": {
             "endlinecolor": "#2a3f5f",
             "gridcolor": "white",
             "linecolor": "white",
             "minorgridcolor": "white",
             "startlinecolor": "#2a3f5f"
            },
            "type": "carpet"
           }
          ],
          "choropleth": [
           {
            "colorbar": {
             "outlinewidth": 0,
             "ticks": ""
            },
            "type": "choropleth"
           }
          ],
          "contour": [
           {
            "colorbar": {
             "outlinewidth": 0,
             "ticks": ""
            },
            "colorscale": [
             [
              0,
              "#0d0887"
             ],
             [
              0.1111111111111111,
              "#46039f"
             ],
             [
              0.2222222222222222,
              "#7201a8"
             ],
             [
              0.3333333333333333,
              "#9c179e"
             ],
             [
              0.4444444444444444,
              "#bd3786"
             ],
             [
              0.5555555555555556,
              "#d8576b"
             ],
             [
              0.6666666666666666,
              "#ed7953"
             ],
             [
              0.7777777777777778,
              "#fb9f3a"
             ],
             [
              0.8888888888888888,
              "#fdca26"
             ],
             [
              1,
              "#f0f921"
             ]
            ],
            "type": "contour"
           }
          ],
          "contourcarpet": [
           {
            "colorbar": {
             "outlinewidth": 0,
             "ticks": ""
            },
            "type": "contourcarpet"
           }
          ],
          "heatmap": [
           {
            "colorbar": {
             "outlinewidth": 0,
             "ticks": ""
            },
            "colorscale": [
             [
              0,
              "#0d0887"
             ],
             [
              0.1111111111111111,
              "#46039f"
             ],
             [
              0.2222222222222222,
              "#7201a8"
             ],
             [
              0.3333333333333333,
              "#9c179e"
             ],
             [
              0.4444444444444444,
              "#bd3786"
             ],
             [
              0.5555555555555556,
              "#d8576b"
             ],
             [
              0.6666666666666666,
              "#ed7953"
             ],
             [
              0.7777777777777778,
              "#fb9f3a"
             ],
             [
              0.8888888888888888,
              "#fdca26"
             ],
             [
              1,
              "#f0f921"
             ]
            ],
            "type": "heatmap"
           }
          ],
          "heatmapgl": [
           {
            "colorbar": {
             "outlinewidth": 0,
             "ticks": ""
            },
            "colorscale": [
             [
              0,
              "#0d0887"
             ],
             [
              0.1111111111111111,
              "#46039f"
             ],
             [
              0.2222222222222222,
              "#7201a8"
             ],
             [
              0.3333333333333333,
              "#9c179e"
             ],
             [
              0.4444444444444444,
              "#bd3786"
             ],
             [
              0.5555555555555556,
              "#d8576b"
             ],
             [
              0.6666666666666666,
              "#ed7953"
             ],
             [
              0.7777777777777778,
              "#fb9f3a"
             ],
             [
              0.8888888888888888,
              "#fdca26"
             ],
             [
              1,
              "#f0f921"
             ]
            ],
            "type": "heatmapgl"
           }
          ],
          "histogram": [
           {
            "marker": {
             "pattern": {
              "fillmode": "overlay",
              "size": 10,
              "solidity": 0.2
             }
            },
            "type": "histogram"
           }
          ],
          "histogram2d": [
           {
            "colorbar": {
             "outlinewidth": 0,
             "ticks": ""
            },
            "colorscale": [
             [
              0,
              "#0d0887"
             ],
             [
              0.1111111111111111,
              "#46039f"
             ],
             [
              0.2222222222222222,
              "#7201a8"
             ],
             [
              0.3333333333333333,
              "#9c179e"
             ],
             [
              0.4444444444444444,
              "#bd3786"
             ],
             [
              0.5555555555555556,
              "#d8576b"
             ],
             [
              0.6666666666666666,
              "#ed7953"
             ],
             [
              0.7777777777777778,
              "#fb9f3a"
             ],
             [
              0.8888888888888888,
              "#fdca26"
             ],
             [
              1,
              "#f0f921"
             ]
            ],
            "type": "histogram2d"
           }
          ],
          "histogram2dcontour": [
           {
            "colorbar": {
             "outlinewidth": 0,
             "ticks": ""
            },
            "colorscale": [
             [
              0,
              "#0d0887"
             ],
             [
              0.1111111111111111,
              "#46039f"
             ],
             [
              0.2222222222222222,
              "#7201a8"
             ],
             [
              0.3333333333333333,
              "#9c179e"
             ],
             [
              0.4444444444444444,
              "#bd3786"
             ],
             [
              0.5555555555555556,
              "#d8576b"
             ],
             [
              0.6666666666666666,
              "#ed7953"
             ],
             [
              0.7777777777777778,
              "#fb9f3a"
             ],
             [
              0.8888888888888888,
              "#fdca26"
             ],
             [
              1,
              "#f0f921"
             ]
            ],
            "type": "histogram2dcontour"
           }
          ],
          "mesh3d": [
           {
            "colorbar": {
             "outlinewidth": 0,
             "ticks": ""
            },
            "type": "mesh3d"
           }
          ],
          "parcoords": [
           {
            "line": {
             "colorbar": {
              "outlinewidth": 0,
              "ticks": ""
             }
            },
            "type": "parcoords"
           }
          ],
          "pie": [
           {
            "automargin": true,
            "type": "pie"
           }
          ],
          "scatter": [
           {
            "fillpattern": {
             "fillmode": "overlay",
             "size": 10,
             "solidity": 0.2
            },
            "type": "scatter"
           }
          ],
          "scatter3d": [
           {
            "line": {
             "colorbar": {
              "outlinewidth": 0,
              "ticks": ""
             }
            },
            "marker": {
             "colorbar": {
              "outlinewidth": 0,
              "ticks": ""
             }
            },
            "type": "scatter3d"
           }
          ],
          "scattercarpet": [
           {
            "marker": {
             "colorbar": {
              "outlinewidth": 0,
              "ticks": ""
             }
            },
            "type": "scattercarpet"
           }
          ],
          "scattergeo": [
           {
            "marker": {
             "colorbar": {
              "outlinewidth": 0,
              "ticks": ""
             }
            },
            "type": "scattergeo"
           }
          ],
          "scattergl": [
           {
            "marker": {
             "colorbar": {
              "outlinewidth": 0,
              "ticks": ""
             }
            },
            "type": "scattergl"
           }
          ],
          "scattermapbox": [
           {
            "marker": {
             "colorbar": {
              "outlinewidth": 0,
              "ticks": ""
             }
            },
            "type": "scattermapbox"
           }
          ],
          "scatterpolar": [
           {
            "marker": {
             "colorbar": {
              "outlinewidth": 0,
              "ticks": ""
             }
            },
            "type": "scatterpolar"
           }
          ],
          "scatterpolargl": [
           {
            "marker": {
             "colorbar": {
              "outlinewidth": 0,
              "ticks": ""
             }
            },
            "type": "scatterpolargl"
           }
          ],
          "scatterternary": [
           {
            "marker": {
             "colorbar": {
              "outlinewidth": 0,
              "ticks": ""
             }
            },
            "type": "scatterternary"
           }
          ],
          "surface": [
           {
            "colorbar": {
             "outlinewidth": 0,
             "ticks": ""
            },
            "colorscale": [
             [
              0,
              "#0d0887"
             ],
             [
              0.1111111111111111,
              "#46039f"
             ],
             [
              0.2222222222222222,
              "#7201a8"
             ],
             [
              0.3333333333333333,
              "#9c179e"
             ],
             [
              0.4444444444444444,
              "#bd3786"
             ],
             [
              0.5555555555555556,
              "#d8576b"
             ],
             [
              0.6666666666666666,
              "#ed7953"
             ],
             [
              0.7777777777777778,
              "#fb9f3a"
             ],
             [
              0.8888888888888888,
              "#fdca26"
             ],
             [
              1,
              "#f0f921"
             ]
            ],
            "type": "surface"
           }
          ],
          "table": [
           {
            "cells": {
             "fill": {
              "color": "#EBF0F8"
             },
             "line": {
              "color": "white"
             }
            },
            "header": {
             "fill": {
              "color": "#C8D4E3"
             },
             "line": {
              "color": "white"
             }
            },
            "type": "table"
           }
          ]
         },
         "layout": {
          "annotationdefaults": {
           "arrowcolor": "#2a3f5f",
           "arrowhead": 0,
           "arrowwidth": 1
          },
          "autotypenumbers": "strict",
          "coloraxis": {
           "colorbar": {
            "outlinewidth": 0,
            "ticks": ""
           }
          },
          "colorscale": {
           "diverging": [
            [
             0,
             "#8e0152"
            ],
            [
             0.1,
             "#c51b7d"
            ],
            [
             0.2,
             "#de77ae"
            ],
            [
             0.3,
             "#f1b6da"
            ],
            [
             0.4,
             "#fde0ef"
            ],
            [
             0.5,
             "#f7f7f7"
            ],
            [
             0.6,
             "#e6f5d0"
            ],
            [
             0.7,
             "#b8e186"
            ],
            [
             0.8,
             "#7fbc41"
            ],
            [
             0.9,
             "#4d9221"
            ],
            [
             1,
             "#276419"
            ]
           ],
           "sequential": [
            [
             0,
             "#0d0887"
            ],
            [
             0.1111111111111111,
             "#46039f"
            ],
            [
             0.2222222222222222,
             "#7201a8"
            ],
            [
             0.3333333333333333,
             "#9c179e"
            ],
            [
             0.4444444444444444,
             "#bd3786"
            ],
            [
             0.5555555555555556,
             "#d8576b"
            ],
            [
             0.6666666666666666,
             "#ed7953"
            ],
            [
             0.7777777777777778,
             "#fb9f3a"
            ],
            [
             0.8888888888888888,
             "#fdca26"
            ],
            [
             1,
             "#f0f921"
            ]
           ],
           "sequentialminus": [
            [
             0,
             "#0d0887"
            ],
            [
             0.1111111111111111,
             "#46039f"
            ],
            [
             0.2222222222222222,
             "#7201a8"
            ],
            [
             0.3333333333333333,
             "#9c179e"
            ],
            [
             0.4444444444444444,
             "#bd3786"
            ],
            [
             0.5555555555555556,
             "#d8576b"
            ],
            [
             0.6666666666666666,
             "#ed7953"
            ],
            [
             0.7777777777777778,
             "#fb9f3a"
            ],
            [
             0.8888888888888888,
             "#fdca26"
            ],
            [
             1,
             "#f0f921"
            ]
           ]
          },
          "colorway": [
           "#636efa",
           "#EF553B",
           "#00cc96",
           "#ab63fa",
           "#FFA15A",
           "#19d3f3",
           "#FF6692",
           "#B6E880",
           "#FF97FF",
           "#FECB52"
          ],
          "font": {
           "color": "#2a3f5f"
          },
          "geo": {
           "bgcolor": "white",
           "lakecolor": "white",
           "landcolor": "#E5ECF6",
           "showlakes": true,
           "showland": true,
           "subunitcolor": "white"
          },
          "hoverlabel": {
           "align": "left"
          },
          "hovermode": "closest",
          "mapbox": {
           "style": "light"
          },
          "paper_bgcolor": "white",
          "plot_bgcolor": "#E5ECF6",
          "polar": {
           "angularaxis": {
            "gridcolor": "white",
            "linecolor": "white",
            "ticks": ""
           },
           "bgcolor": "#E5ECF6",
           "radialaxis": {
            "gridcolor": "white",
            "linecolor": "white",
            "ticks": ""
           }
          },
          "scene": {
           "xaxis": {
            "backgroundcolor": "#E5ECF6",
            "gridcolor": "white",
            "gridwidth": 2,
            "linecolor": "white",
            "showbackground": true,
            "ticks": "",
            "zerolinecolor": "white"
           },
           "yaxis": {
            "backgroundcolor": "#E5ECF6",
            "gridcolor": "white",
            "gridwidth": 2,
            "linecolor": "white",
            "showbackground": true,
            "ticks": "",
            "zerolinecolor": "white"
           },
           "zaxis": {
            "backgroundcolor": "#E5ECF6",
            "gridcolor": "white",
            "gridwidth": 2,
            "linecolor": "white",
            "showbackground": true,
            "ticks": "",
            "zerolinecolor": "white"
           }
          },
          "shapedefaults": {
           "line": {
            "color": "#2a3f5f"
           }
          },
          "ternary": {
           "aaxis": {
            "gridcolor": "white",
            "linecolor": "white",
            "ticks": ""
           },
           "baxis": {
            "gridcolor": "white",
            "linecolor": "white",
            "ticks": ""
           },
           "bgcolor": "#E5ECF6",
           "caxis": {
            "gridcolor": "white",
            "linecolor": "white",
            "ticks": ""
           }
          },
          "title": {
           "x": 0.05
          },
          "xaxis": {
           "automargin": true,
           "gridcolor": "white",
           "linecolor": "white",
           "ticks": "",
           "title": {
            "standoff": 15
           },
           "zerolinecolor": "white",
           "zerolinewidth": 2
          },
          "yaxis": {
           "automargin": true,
           "gridcolor": "white",
           "linecolor": "white",
           "ticks": "",
           "title": {
            "standoff": 15
           },
           "zerolinecolor": "white",
           "zerolinewidth": 2
          }
         }
        },
        "title": {
         "text": "Histogram of Trade Gain%"
        },
        "xaxis": {
         "anchor": "y",
         "domain": [
          0,
          1
         ],
         "title": {
          "text": "Gain%"
         }
        },
        "yaxis": {
         "anchor": "x",
         "domain": [
          0,
          1
         ],
         "title": {
          "text": "Count"
         }
        }
       }
      }
     },
     "metadata": {},
     "output_type": "display_data"
    }
   ],
   "source": [
    "trades\n",
    "# histogram of the trade gain%\n",
    "\n",
    "import plotly.express as px\n",
    "import plotly.graph_objects as go\n",
    "\n",
    "fig = px.histogram(trades, x=\"Gain%\", nbins=100, title=\"Histogram of Trade Gain%\")\n",
    "fig.update_layout(\n",
    "    xaxis_title=\"Gain%\",\n",
    "    yaxis_title=\"Count\",\n",
    "    bargap=0.1\n",
    ")\n",
    "fig.show()"
   ]
  },
  {
   "cell_type": "code",
   "execution_count": 83,
   "metadata": {},
   "outputs": [
    {
     "name": "stdout",
     "output_type": "stream",
     "text": [
      "Total Trades: 501\n",
      "Total Gain%: 1.71\n",
      "Average Gain%: 0.00341\n",
      "Median Gain%: -0.01\n",
      "Average Gain$: 0.01166\n",
      "Median Gain$: -0.04\n"
     ]
    },
    {
     "data": {
      "text/plain": [
       "count     501.0\n",
       "unique     93.0\n",
       "top        -0.0\n",
       "freq       29.0\n",
       "Name: Gain%, dtype: float64"
      ]
     },
     "execution_count": 83,
     "metadata": {},
     "output_type": "execute_result"
    }
   ],
   "source": [
    "print(\"Total Trades:\", len(trades))\n",
    "print(\"Total Gain%:\", round(trades[\"Gain%\"].sum(), 2))\n",
    "print(\"Average Gain%:\", round(trades[\"Gain%\"].mean(), 5))\n",
    "print(\"Median Gain%:\", round(trades[\"Gain%\"].median(), 2))\n",
    "\n",
    "print(\"Average Gain$:\", round(trades[\"Gain$\"].mean(), 5))\n",
    "print(\"Median Gain$:\", round(trades[\"Gain$\"].median(), 2))\n",
    "\n",
    "\n",
    "trades[\"Gain%\"].describe()"
   ]
  },
  {
   "cell_type": "code",
   "execution_count": 84,
   "metadata": {},
   "outputs": [],
   "source": [
    "trades.to_csv('../temp/trades.csv', index=False)\n",
    "\n",
    "trades[\"ExitCondition\"].value_counts()"
   ]
  },
  {
   "cell_type": "code",
   "execution_count": 85,
   "metadata": {},
   "outputs": [
    {
     "data": {
      "application/vnd.plotly.v1+json": {
       "config": {
        "plotlyServerURL": "https://plot.ly"
       },
       "data": [
        {
         "alignmentgroup": "True",
         "bingroup": "x",
         "hovertemplate": "TimeEnter=%{x}<br>count=%{y}<extra></extra>",
         "legendgroup": "",
         "marker": {
          "color": "#636efa",
          "pattern": {
           "shape": ""
          }
         },
         "name": "",
         "nbinsx": 50,
         "offsetgroup": "",
         "orientation": "v",
         "showlegend": false,
         "type": "histogram",
         "x": [
          "11:38:00",
          "11:57:00",
          "09:41:00",
          "10:41:00",
          "10:26:00",
          "12:42:00",
          "10:13:00",
          "13:37:00",
          "10:14:00",
          "12:09:00",
          "09:33:00",
          "10:04:00",
          "09:36:00",
          "09:55:00",
          "09:30:00",
          "09:39:00",
          "09:34:00",
          "10:16:00",
          "10:29:00",
          "12:22:00",
          "09:35:00",
          "09:54:00",
          "10:31:00",
          "11:00:00",
          "10:39:00",
          "11:02:00",
          "09:50:00",
          "10:44:00",
          "09:32:00",
          "10:36:00",
          "10:21:00",
          "10:37:00",
          "10:13:00",
          "12:42:00",
          "10:39:00",
          "12:05:00",
          "11:57:00",
          "12:17:00",
          "10:01:00",
          "10:49:00",
          "12:00:00",
          "12:47:00",
          "09:30:00",
          "09:52:00",
          "09:31:00",
          "09:58:00",
          "09:44:00",
          "10:21:00",
          "10:02:00",
          "11:17:00",
          "09:52:00",
          "10:58:00",
          "09:38:00",
          "09:58:00",
          "09:42:00",
          "11:51:00",
          "09:34:00",
          "09:59:00",
          "10:39:00",
          "12:41:00",
          "09:32:00",
          "10:37:00",
          "09:30:00",
          "10:31:00",
          "09:49:00",
          "10:14:00",
          "10:59:00",
          "12:23:00",
          "10:02:00",
          "13:56:00",
          "09:39:00",
          "10:10:00",
          "09:45:00",
          "10:08:00",
          "09:34:00",
          "09:44:00",
          "11:36:00",
          "11:49:00",
          "11:21:00",
          "12:05:00",
          "10:28:00",
          "10:59:00",
          "09:56:00",
          "10:54:00",
          "10:01:00",
          "10:23:00",
          "10:25:00",
          "11:17:00",
          "10:28:00",
          "12:01:00",
          "09:53:00",
          "10:05:00",
          "09:30:00",
          "09:47:00",
          "09:56:00",
          "10:44:00",
          "09:39:00",
          "11:06:00",
          "11:14:00",
          "12:04:00",
          "10:20:00",
          "13:15:00",
          "09:43:00",
          "10:08:00",
          "10:33:00",
          "11:17:00",
          "10:09:00",
          "10:32:00",
          "10:18:00",
          "10:34:00",
          "09:56:00",
          "10:40:00",
          "11:11:00",
          "12:39:00",
          "09:36:00",
          "11:25:00",
          "09:36:00",
          "10:05:00",
          "09:56:00",
          "10:54:00",
          "09:48:00",
          "11:01:00",
          "09:31:00",
          "09:53:00",
          "10:49:00",
          "11:14:00",
          "09:51:00",
          "11:03:00",
          "09:32:00",
          "09:59:00",
          "10:13:00",
          "12:10:00",
          "09:33:00",
          "10:26:00",
          "09:43:00",
          "09:51:00",
          "09:38:00",
          "11:35:00",
          "09:48:00",
          "10:44:00",
          "10:36:00",
          "11:01:00",
          "09:54:00",
          "10:50:00",
          "11:13:00",
          "11:41:00",
          "10:44:00",
          "11:08:00",
          "10:39:00",
          "10:50:00",
          "09:55:00",
          "10:32:00",
          "09:40:00",
          "11:43:00",
          "11:36:00",
          "12:15:00",
          "10:08:00",
          "11:16:00",
          "09:30:00",
          "10:03:00",
          "09:57:00",
          "10:39:00",
          "10:22:00",
          "10:27:00",
          "10:26:00",
          "10:48:00",
          "11:50:00",
          "15:23:00",
          "09:35:00",
          "10:08:00",
          "09:36:00",
          "11:49:00",
          "10:57:00",
          "11:49:00",
          "10:17:00",
          "10:28:00",
          "11:04:00",
          "12:26:00",
          "10:36:00",
          "11:01:00",
          "09:42:00",
          "10:31:00",
          "10:03:00",
          "10:53:00",
          "11:28:00",
          "13:00:00",
          "09:33:00",
          "10:48:00",
          "09:57:00",
          "10:51:00",
          "13:00:00",
          "13:31:00",
          "09:57:00",
          "10:47:00",
          "09:56:00",
          "10:59:00",
          "10:20:00",
          "10:40:00",
          "10:12:00",
          "10:59:00",
          "09:47:00",
          "10:17:00",
          "09:34:00",
          "10:49:00",
          "09:38:00",
          "10:20:00",
          "10:16:00",
          "11:21:00",
          "10:49:00",
          "11:31:00",
          "09:36:00",
          "10:10:00",
          "11:28:00",
          "11:34:00",
          "10:15:00",
          "10:53:00",
          "09:44:00",
          "10:54:00",
          "09:32:00",
          "10:19:00",
          "09:51:00",
          "10:50:00",
          "09:32:00",
          "10:21:00",
          "12:08:00",
          "12:29:00",
          "09:59:00",
          "10:51:00",
          "10:11:00",
          "12:14:00",
          "09:53:00",
          "10:36:00",
          "10:19:00",
          "11:46:00",
          "10:16:00",
          "10:27:00",
          "09:35:00",
          "10:59:00",
          "11:22:00",
          "12:06:00",
          "09:43:00",
          "10:44:00",
          "09:31:00",
          "09:39:00",
          "10:25:00",
          "10:44:00",
          "10:36:00",
          "10:49:00",
          "09:40:00",
          "10:18:00",
          "12:39:00",
          "13:06:00",
          "11:04:00",
          "13:01:00",
          "09:33:00",
          "10:24:00",
          "10:12:00",
          "10:53:00",
          "09:36:00",
          "09:44:00",
          "09:32:00",
          "09:57:00",
          "09:32:00",
          "10:02:00",
          "09:30:00",
          "09:48:00",
          "10:48:00",
          "11:54:00",
          "10:12:00",
          "10:21:00",
          "10:47:00",
          "11:31:00",
          "09:31:00",
          "10:11:00",
          "11:34:00",
          "13:21:00",
          "10:01:00",
          "11:07:00",
          "09:56:00",
          "10:04:00",
          "10:06:00",
          "10:49:00",
          "09:47:00",
          "10:16:00",
          "10:28:00",
          "12:20:00",
          "11:00:00",
          "15:36:00",
          "10:38:00",
          "11:05:00",
          "10:04:00",
          "10:29:00",
          "09:33:00",
          "10:02:00",
          "10:16:00",
          "10:39:00",
          "09:52:00",
          "10:09:00",
          "10:58:00",
          "11:19:00",
          "09:35:00",
          "10:17:00",
          "09:33:00",
          "10:15:00",
          "09:54:00",
          "10:22:00",
          "09:39:00",
          "10:00:00",
          "09:31:00",
          "09:49:00",
          "09:30:00",
          "09:39:00",
          "10:01:00",
          "10:13:00",
          "09:43:00",
          "09:55:00",
          "11:17:00",
          "12:02:00",
          "09:31:00",
          "10:37:00",
          "09:57:00",
          "10:09:00",
          "10:15:00",
          "10:53:00",
          "09:49:00",
          "10:12:00",
          "09:43:00",
          "10:14:00",
          "11:14:00",
          "13:18:00",
          "09:31:00",
          "09:48:00",
          "09:59:00",
          "10:32:00",
          "09:38:00",
          "09:53:00",
          "10:02:00",
          "11:41:00",
          "09:57:00",
          "10:16:00",
          "09:40:00",
          "11:26:00",
          "10:15:00",
          "10:35:00",
          "09:47:00",
          "12:48:00",
          "10:45:00",
          "11:35:00",
          "09:32:00",
          "10:12:00",
          "09:31:00",
          "11:39:00",
          "09:32:00",
          "10:55:00",
          "13:11:00",
          "14:14:00",
          "09:43:00",
          "10:49:00",
          "09:31:00",
          "09:57:00",
          "09:39:00",
          "10:06:00",
          "10:48:00",
          "12:03:00",
          "09:31:00",
          "10:58:00",
          "10:33:00",
          "10:44:00",
          "11:12:00",
          "13:06:00",
          "09:32:00",
          "10:12:00",
          "10:48:00",
          "12:58:00",
          "10:49:00",
          "11:30:00",
          "09:30:00",
          "13:40:00",
          "12:03:00",
          "12:46:00",
          "09:39:00",
          "09:55:00",
          "10:17:00",
          "13:38:00",
          "10:38:00",
          "11:04:00",
          "09:30:00",
          "09:51:00",
          "10:55:00",
          "11:06:00",
          "10:25:00",
          "11:15:00",
          "10:33:00",
          "11:50:00",
          "12:22:00",
          "14:38:00",
          "15:01:00",
          "10:38:00",
          "10:56:00",
          "10:01:00",
          "10:11:00",
          "09:34:00",
          "09:57:00",
          "09:51:00",
          "09:59:00",
          "10:40:00",
          "11:57:00",
          "10:46:00",
          "12:49:00",
          "09:30:00",
          "10:09:00",
          "12:09:00",
          "12:40:00",
          "09:31:00",
          "10:03:00",
          "10:26:00",
          "11:07:00",
          "09:38:00",
          "10:20:00",
          "09:34:00",
          "10:15:00",
          "09:56:00",
          "10:09:00",
          "09:44:00",
          "10:56:00",
          "09:56:00",
          "10:22:00",
          "09:32:00",
          "11:02:00",
          "10:51:00",
          "11:10:00",
          "09:32:00",
          "10:36:00",
          "11:10:00",
          "12:18:00",
          "09:49:00",
          "10:18:00",
          "10:04:00",
          "10:34:00",
          "09:46:00",
          "10:37:00",
          "10:02:00",
          "11:31:00",
          "09:53:00",
          "10:16:00",
          "09:33:00",
          "10:36:00",
          "11:44:00",
          "12:11:00",
          "09:45:00",
          "10:26:00",
          "10:27:00",
          "10:33:00",
          "10:39:00",
          "10:56:00",
          "10:48:00",
          "12:40:00",
          "10:31:00",
          "13:58:00",
          "10:52:00",
          "11:23:00",
          "09:42:00",
          "09:50:00",
          "09:45:00",
          "10:39:00",
          "09:41:00",
          "10:13:00",
          "09:57:00",
          "10:35:00",
          "10:42:00",
          "11:48:00",
          "09:52:00",
          "10:39:00",
          "10:31:00",
          "10:59:00",
          "10:19:00",
          "14:06:00",
          "09:51:00",
          "10:14:00",
          "09:39:00",
          "09:51:00",
          "09:49:00",
          "12:10:00",
          "10:14:00",
          "10:35:00",
          "09:34:00",
          "10:16:00",
          "09:44:00",
          "10:35:00",
          "09:30:00",
          "10:21:00",
          "10:26:00",
          "10:55:00",
          "09:59:00",
          "10:26:00",
          "09:41:00",
          "10:03:00",
          "10:17:00",
          "10:34:00",
          "09:43:00",
          "10:14:00"
         ],
         "xaxis": "x",
         "yaxis": "y"
        }
       ],
       "layout": {
        "bargap": 0.1,
        "barmode": "relative",
        "legend": {
         "tracegroupgap": 0
        },
        "template": {
         "data": {
          "bar": [
           {
            "error_x": {
             "color": "#2a3f5f"
            },
            "error_y": {
             "color": "#2a3f5f"
            },
            "marker": {
             "line": {
              "color": "#E5ECF6",
              "width": 0.5
             },
             "pattern": {
              "fillmode": "overlay",
              "size": 10,
              "solidity": 0.2
             }
            },
            "type": "bar"
           }
          ],
          "barpolar": [
           {
            "marker": {
             "line": {
              "color": "#E5ECF6",
              "width": 0.5
             },
             "pattern": {
              "fillmode": "overlay",
              "size": 10,
              "solidity": 0.2
             }
            },
            "type": "barpolar"
           }
          ],
          "carpet": [
           {
            "aaxis": {
             "endlinecolor": "#2a3f5f",
             "gridcolor": "white",
             "linecolor": "white",
             "minorgridcolor": "white",
             "startlinecolor": "#2a3f5f"
            },
            "baxis": {
             "endlinecolor": "#2a3f5f",
             "gridcolor": "white",
             "linecolor": "white",
             "minorgridcolor": "white",
             "startlinecolor": "#2a3f5f"
            },
            "type": "carpet"
           }
          ],
          "choropleth": [
           {
            "colorbar": {
             "outlinewidth": 0,
             "ticks": ""
            },
            "type": "choropleth"
           }
          ],
          "contour": [
           {
            "colorbar": {
             "outlinewidth": 0,
             "ticks": ""
            },
            "colorscale": [
             [
              0,
              "#0d0887"
             ],
             [
              0.1111111111111111,
              "#46039f"
             ],
             [
              0.2222222222222222,
              "#7201a8"
             ],
             [
              0.3333333333333333,
              "#9c179e"
             ],
             [
              0.4444444444444444,
              "#bd3786"
             ],
             [
              0.5555555555555556,
              "#d8576b"
             ],
             [
              0.6666666666666666,
              "#ed7953"
             ],
             [
              0.7777777777777778,
              "#fb9f3a"
             ],
             [
              0.8888888888888888,
              "#fdca26"
             ],
             [
              1,
              "#f0f921"
             ]
            ],
            "type": "contour"
           }
          ],
          "contourcarpet": [
           {
            "colorbar": {
             "outlinewidth": 0,
             "ticks": ""
            },
            "type": "contourcarpet"
           }
          ],
          "heatmap": [
           {
            "colorbar": {
             "outlinewidth": 0,
             "ticks": ""
            },
            "colorscale": [
             [
              0,
              "#0d0887"
             ],
             [
              0.1111111111111111,
              "#46039f"
             ],
             [
              0.2222222222222222,
              "#7201a8"
             ],
             [
              0.3333333333333333,
              "#9c179e"
             ],
             [
              0.4444444444444444,
              "#bd3786"
             ],
             [
              0.5555555555555556,
              "#d8576b"
             ],
             [
              0.6666666666666666,
              "#ed7953"
             ],
             [
              0.7777777777777778,
              "#fb9f3a"
             ],
             [
              0.8888888888888888,
              "#fdca26"
             ],
             [
              1,
              "#f0f921"
             ]
            ],
            "type": "heatmap"
           }
          ],
          "heatmapgl": [
           {
            "colorbar": {
             "outlinewidth": 0,
             "ticks": ""
            },
            "colorscale": [
             [
              0,
              "#0d0887"
             ],
             [
              0.1111111111111111,
              "#46039f"
             ],
             [
              0.2222222222222222,
              "#7201a8"
             ],
             [
              0.3333333333333333,
              "#9c179e"
             ],
             [
              0.4444444444444444,
              "#bd3786"
             ],
             [
              0.5555555555555556,
              "#d8576b"
             ],
             [
              0.6666666666666666,
              "#ed7953"
             ],
             [
              0.7777777777777778,
              "#fb9f3a"
             ],
             [
              0.8888888888888888,
              "#fdca26"
             ],
             [
              1,
              "#f0f921"
             ]
            ],
            "type": "heatmapgl"
           }
          ],
          "histogram": [
           {
            "marker": {
             "pattern": {
              "fillmode": "overlay",
              "size": 10,
              "solidity": 0.2
             }
            },
            "type": "histogram"
           }
          ],
          "histogram2d": [
           {
            "colorbar": {
             "outlinewidth": 0,
             "ticks": ""
            },
            "colorscale": [
             [
              0,
              "#0d0887"
             ],
             [
              0.1111111111111111,
              "#46039f"
             ],
             [
              0.2222222222222222,
              "#7201a8"
             ],
             [
              0.3333333333333333,
              "#9c179e"
             ],
             [
              0.4444444444444444,
              "#bd3786"
             ],
             [
              0.5555555555555556,
              "#d8576b"
             ],
             [
              0.6666666666666666,
              "#ed7953"
             ],
             [
              0.7777777777777778,
              "#fb9f3a"
             ],
             [
              0.8888888888888888,
              "#fdca26"
             ],
             [
              1,
              "#f0f921"
             ]
            ],
            "type": "histogram2d"
           }
          ],
          "histogram2dcontour": [
           {
            "colorbar": {
             "outlinewidth": 0,
             "ticks": ""
            },
            "colorscale": [
             [
              0,
              "#0d0887"
             ],
             [
              0.1111111111111111,
              "#46039f"
             ],
             [
              0.2222222222222222,
              "#7201a8"
             ],
             [
              0.3333333333333333,
              "#9c179e"
             ],
             [
              0.4444444444444444,
              "#bd3786"
             ],
             [
              0.5555555555555556,
              "#d8576b"
             ],
             [
              0.6666666666666666,
              "#ed7953"
             ],
             [
              0.7777777777777778,
              "#fb9f3a"
             ],
             [
              0.8888888888888888,
              "#fdca26"
             ],
             [
              1,
              "#f0f921"
             ]
            ],
            "type": "histogram2dcontour"
           }
          ],
          "mesh3d": [
           {
            "colorbar": {
             "outlinewidth": 0,
             "ticks": ""
            },
            "type": "mesh3d"
           }
          ],
          "parcoords": [
           {
            "line": {
             "colorbar": {
              "outlinewidth": 0,
              "ticks": ""
             }
            },
            "type": "parcoords"
           }
          ],
          "pie": [
           {
            "automargin": true,
            "type": "pie"
           }
          ],
          "scatter": [
           {
            "fillpattern": {
             "fillmode": "overlay",
             "size": 10,
             "solidity": 0.2
            },
            "type": "scatter"
           }
          ],
          "scatter3d": [
           {
            "line": {
             "colorbar": {
              "outlinewidth": 0,
              "ticks": ""
             }
            },
            "marker": {
             "colorbar": {
              "outlinewidth": 0,
              "ticks": ""
             }
            },
            "type": "scatter3d"
           }
          ],
          "scattercarpet": [
           {
            "marker": {
             "colorbar": {
              "outlinewidth": 0,
              "ticks": ""
             }
            },
            "type": "scattercarpet"
           }
          ],
          "scattergeo": [
           {
            "marker": {
             "colorbar": {
              "outlinewidth": 0,
              "ticks": ""
             }
            },
            "type": "scattergeo"
           }
          ],
          "scattergl": [
           {
            "marker": {
             "colorbar": {
              "outlinewidth": 0,
              "ticks": ""
             }
            },
            "type": "scattergl"
           }
          ],
          "scattermapbox": [
           {
            "marker": {
             "colorbar": {
              "outlinewidth": 0,
              "ticks": ""
             }
            },
            "type": "scattermapbox"
           }
          ],
          "scatterpolar": [
           {
            "marker": {
             "colorbar": {
              "outlinewidth": 0,
              "ticks": ""
             }
            },
            "type": "scatterpolar"
           }
          ],
          "scatterpolargl": [
           {
            "marker": {
             "colorbar": {
              "outlinewidth": 0,
              "ticks": ""
             }
            },
            "type": "scatterpolargl"
           }
          ],
          "scatterternary": [
           {
            "marker": {
             "colorbar": {
              "outlinewidth": 0,
              "ticks": ""
             }
            },
            "type": "scatterternary"
           }
          ],
          "surface": [
           {
            "colorbar": {
             "outlinewidth": 0,
             "ticks": ""
            },
            "colorscale": [
             [
              0,
              "#0d0887"
             ],
             [
              0.1111111111111111,
              "#46039f"
             ],
             [
              0.2222222222222222,
              "#7201a8"
             ],
             [
              0.3333333333333333,
              "#9c179e"
             ],
             [
              0.4444444444444444,
              "#bd3786"
             ],
             [
              0.5555555555555556,
              "#d8576b"
             ],
             [
              0.6666666666666666,
              "#ed7953"
             ],
             [
              0.7777777777777778,
              "#fb9f3a"
             ],
             [
              0.8888888888888888,
              "#fdca26"
             ],
             [
              1,
              "#f0f921"
             ]
            ],
            "type": "surface"
           }
          ],
          "table": [
           {
            "cells": {
             "fill": {
              "color": "#EBF0F8"
             },
             "line": {
              "color": "white"
             }
            },
            "header": {
             "fill": {
              "color": "#C8D4E3"
             },
             "line": {
              "color": "white"
             }
            },
            "type": "table"
           }
          ]
         },
         "layout": {
          "annotationdefaults": {
           "arrowcolor": "#2a3f5f",
           "arrowhead": 0,
           "arrowwidth": 1
          },
          "autotypenumbers": "strict",
          "coloraxis": {
           "colorbar": {
            "outlinewidth": 0,
            "ticks": ""
           }
          },
          "colorscale": {
           "diverging": [
            [
             0,
             "#8e0152"
            ],
            [
             0.1,
             "#c51b7d"
            ],
            [
             0.2,
             "#de77ae"
            ],
            [
             0.3,
             "#f1b6da"
            ],
            [
             0.4,
             "#fde0ef"
            ],
            [
             0.5,
             "#f7f7f7"
            ],
            [
             0.6,
             "#e6f5d0"
            ],
            [
             0.7,
             "#b8e186"
            ],
            [
             0.8,
             "#7fbc41"
            ],
            [
             0.9,
             "#4d9221"
            ],
            [
             1,
             "#276419"
            ]
           ],
           "sequential": [
            [
             0,
             "#0d0887"
            ],
            [
             0.1111111111111111,
             "#46039f"
            ],
            [
             0.2222222222222222,
             "#7201a8"
            ],
            [
             0.3333333333333333,
             "#9c179e"
            ],
            [
             0.4444444444444444,
             "#bd3786"
            ],
            [
             0.5555555555555556,
             "#d8576b"
            ],
            [
             0.6666666666666666,
             "#ed7953"
            ],
            [
             0.7777777777777778,
             "#fb9f3a"
            ],
            [
             0.8888888888888888,
             "#fdca26"
            ],
            [
             1,
             "#f0f921"
            ]
           ],
           "sequentialminus": [
            [
             0,
             "#0d0887"
            ],
            [
             0.1111111111111111,
             "#46039f"
            ],
            [
             0.2222222222222222,
             "#7201a8"
            ],
            [
             0.3333333333333333,
             "#9c179e"
            ],
            [
             0.4444444444444444,
             "#bd3786"
            ],
            [
             0.5555555555555556,
             "#d8576b"
            ],
            [
             0.6666666666666666,
             "#ed7953"
            ],
            [
             0.7777777777777778,
             "#fb9f3a"
            ],
            [
             0.8888888888888888,
             "#fdca26"
            ],
            [
             1,
             "#f0f921"
            ]
           ]
          },
          "colorway": [
           "#636efa",
           "#EF553B",
           "#00cc96",
           "#ab63fa",
           "#FFA15A",
           "#19d3f3",
           "#FF6692",
           "#B6E880",
           "#FF97FF",
           "#FECB52"
          ],
          "font": {
           "color": "#2a3f5f"
          },
          "geo": {
           "bgcolor": "white",
           "lakecolor": "white",
           "landcolor": "#E5ECF6",
           "showlakes": true,
           "showland": true,
           "subunitcolor": "white"
          },
          "hoverlabel": {
           "align": "left"
          },
          "hovermode": "closest",
          "mapbox": {
           "style": "light"
          },
          "paper_bgcolor": "white",
          "plot_bgcolor": "#E5ECF6",
          "polar": {
           "angularaxis": {
            "gridcolor": "white",
            "linecolor": "white",
            "ticks": ""
           },
           "bgcolor": "#E5ECF6",
           "radialaxis": {
            "gridcolor": "white",
            "linecolor": "white",
            "ticks": ""
           }
          },
          "scene": {
           "xaxis": {
            "backgroundcolor": "#E5ECF6",
            "gridcolor": "white",
            "gridwidth": 2,
            "linecolor": "white",
            "showbackground": true,
            "ticks": "",
            "zerolinecolor": "white"
           },
           "yaxis": {
            "backgroundcolor": "#E5ECF6",
            "gridcolor": "white",
            "gridwidth": 2,
            "linecolor": "white",
            "showbackground": true,
            "ticks": "",
            "zerolinecolor": "white"
           },
           "zaxis": {
            "backgroundcolor": "#E5ECF6",
            "gridcolor": "white",
            "gridwidth": 2,
            "linecolor": "white",
            "showbackground": true,
            "ticks": "",
            "zerolinecolor": "white"
           }
          },
          "shapedefaults": {
           "line": {
            "color": "#2a3f5f"
           }
          },
          "ternary": {
           "aaxis": {
            "gridcolor": "white",
            "linecolor": "white",
            "ticks": ""
           },
           "baxis": {
            "gridcolor": "white",
            "linecolor": "white",
            "ticks": ""
           },
           "bgcolor": "#E5ECF6",
           "caxis": {
            "gridcolor": "white",
            "linecolor": "white",
            "ticks": ""
           }
          },
          "title": {
           "x": 0.05
          },
          "xaxis": {
           "automargin": true,
           "gridcolor": "white",
           "linecolor": "white",
           "ticks": "",
           "title": {
            "standoff": 15
           },
           "zerolinecolor": "white",
           "zerolinewidth": 2
          },
          "yaxis": {
           "automargin": true,
           "gridcolor": "white",
           "linecolor": "white",
           "ticks": "",
           "title": {
            "standoff": 15
           },
           "zerolinecolor": "white",
           "zerolinewidth": 2
          }
         }
        },
        "title": {
         "text": "Histogram of Time to Enter Trade"
        },
        "xaxis": {
         "anchor": "y",
         "domain": [
          0,
          1
         ],
         "title": {
          "text": "Time"
         }
        },
        "yaxis": {
         "anchor": "x",
         "domain": [
          0,
          1
         ],
         "title": {
          "text": "Count"
         }
        }
       }
      }
     },
     "metadata": {},
     "output_type": "display_data"
    }
   ],
   "source": [
    "fig = px.histogram(trades, x=\"TimeEnter\", nbins=50, title=\"Histogram of Time to Enter Trade\")\n",
    "fig.update_layout(\n",
    "    xaxis_title=\"Time\",\n",
    "    yaxis_title=\"Count\",\n",
    "    bargap=0.1\n",
    ")\n",
    "fig.show()"
   ]
  },
  {
   "cell_type": "code",
   "execution_count": 86,
   "metadata": {},
   "outputs": [
    {
     "data": {
      "application/vnd.plotly.v1+json": {
       "config": {
        "plotlyServerURL": "https://plot.ly"
       },
       "data": [
        {
         "hovertemplate": "TimeEnter=%{x}<br>Gain%=%{y}<extra></extra>",
         "legendgroup": "",
         "marker": {
          "color": "#636efa",
          "symbol": "circle"
         },
         "mode": "markers",
         "name": "",
         "orientation": "v",
         "showlegend": false,
         "type": "scatter",
         "x": [
          "11:38:00",
          "11:57:00",
          "09:41:00",
          "10:41:00",
          "10:26:00",
          "12:42:00",
          "10:13:00",
          "13:37:00",
          "10:14:00",
          "12:09:00",
          "09:33:00",
          "10:04:00",
          "09:36:00",
          "09:55:00",
          "09:30:00",
          "09:39:00",
          "09:34:00",
          "10:16:00",
          "10:29:00",
          "12:22:00",
          "09:35:00",
          "09:54:00",
          "10:31:00",
          "11:00:00",
          "10:39:00",
          "11:02:00",
          "09:50:00",
          "10:44:00",
          "09:32:00",
          "10:36:00",
          "10:21:00",
          "10:37:00",
          "10:13:00",
          "12:42:00",
          "10:39:00",
          "12:05:00",
          "11:57:00",
          "12:17:00",
          "10:01:00",
          "10:49:00",
          "12:00:00",
          "12:47:00",
          "09:30:00",
          "09:52:00",
          "09:31:00",
          "09:58:00",
          "09:44:00",
          "10:21:00",
          "10:02:00",
          "11:17:00",
          "09:52:00",
          "10:58:00",
          "09:38:00",
          "09:58:00",
          "09:42:00",
          "11:51:00",
          "09:34:00",
          "09:59:00",
          "10:39:00",
          "12:41:00",
          "09:32:00",
          "10:37:00",
          "09:30:00",
          "10:31:00",
          "09:49:00",
          "10:14:00",
          "10:59:00",
          "12:23:00",
          "10:02:00",
          "13:56:00",
          "09:39:00",
          "10:10:00",
          "09:45:00",
          "10:08:00",
          "09:34:00",
          "09:44:00",
          "11:36:00",
          "11:49:00",
          "11:21:00",
          "12:05:00",
          "10:28:00",
          "10:59:00",
          "09:56:00",
          "10:54:00",
          "10:01:00",
          "10:23:00",
          "10:25:00",
          "11:17:00",
          "10:28:00",
          "12:01:00",
          "09:53:00",
          "10:05:00",
          "09:30:00",
          "09:47:00",
          "09:56:00",
          "10:44:00",
          "09:39:00",
          "11:06:00",
          "11:14:00",
          "12:04:00",
          "10:20:00",
          "13:15:00",
          "09:43:00",
          "10:08:00",
          "10:33:00",
          "11:17:00",
          "10:09:00",
          "10:32:00",
          "10:18:00",
          "10:34:00",
          "09:56:00",
          "10:40:00",
          "11:11:00",
          "12:39:00",
          "09:36:00",
          "11:25:00",
          "09:36:00",
          "10:05:00",
          "09:56:00",
          "10:54:00",
          "09:48:00",
          "11:01:00",
          "09:31:00",
          "09:53:00",
          "10:49:00",
          "11:14:00",
          "09:51:00",
          "11:03:00",
          "09:32:00",
          "09:59:00",
          "10:13:00",
          "12:10:00",
          "09:33:00",
          "10:26:00",
          "09:43:00",
          "09:51:00",
          "09:38:00",
          "11:35:00",
          "09:48:00",
          "10:44:00",
          "10:36:00",
          "11:01:00",
          "09:54:00",
          "10:50:00",
          "11:13:00",
          "11:41:00",
          "10:44:00",
          "11:08:00",
          "10:39:00",
          "10:50:00",
          "09:55:00",
          "10:32:00",
          "09:40:00",
          "11:43:00",
          "11:36:00",
          "12:15:00",
          "10:08:00",
          "11:16:00",
          "09:30:00",
          "10:03:00",
          "09:57:00",
          "10:39:00",
          "10:22:00",
          "10:27:00",
          "10:26:00",
          "10:48:00",
          "11:50:00",
          "15:23:00",
          "09:35:00",
          "10:08:00",
          "09:36:00",
          "11:49:00",
          "10:57:00",
          "11:49:00",
          "10:17:00",
          "10:28:00",
          "11:04:00",
          "12:26:00",
          "10:36:00",
          "11:01:00",
          "09:42:00",
          "10:31:00",
          "10:03:00",
          "10:53:00",
          "11:28:00",
          "13:00:00",
          "09:33:00",
          "10:48:00",
          "09:57:00",
          "10:51:00",
          "13:00:00",
          "13:31:00",
          "09:57:00",
          "10:47:00",
          "09:56:00",
          "10:59:00",
          "10:20:00",
          "10:40:00",
          "10:12:00",
          "10:59:00",
          "09:47:00",
          "10:17:00",
          "09:34:00",
          "10:49:00",
          "09:38:00",
          "10:20:00",
          "10:16:00",
          "11:21:00",
          "10:49:00",
          "11:31:00",
          "09:36:00",
          "10:10:00",
          "11:28:00",
          "11:34:00",
          "10:15:00",
          "10:53:00",
          "09:44:00",
          "10:54:00",
          "09:32:00",
          "10:19:00",
          "09:51:00",
          "10:50:00",
          "09:32:00",
          "10:21:00",
          "12:08:00",
          "12:29:00",
          "09:59:00",
          "10:51:00",
          "10:11:00",
          "12:14:00",
          "09:53:00",
          "10:36:00",
          "10:19:00",
          "11:46:00",
          "10:16:00",
          "10:27:00",
          "09:35:00",
          "10:59:00",
          "11:22:00",
          "12:06:00",
          "09:43:00",
          "10:44:00",
          "09:31:00",
          "09:39:00",
          "10:25:00",
          "10:44:00",
          "10:36:00",
          "10:49:00",
          "09:40:00",
          "10:18:00",
          "12:39:00",
          "13:06:00",
          "11:04:00",
          "13:01:00",
          "09:33:00",
          "10:24:00",
          "10:12:00",
          "10:53:00",
          "09:36:00",
          "09:44:00",
          "09:32:00",
          "09:57:00",
          "09:32:00",
          "10:02:00",
          "09:30:00",
          "09:48:00",
          "10:48:00",
          "11:54:00",
          "10:12:00",
          "10:21:00",
          "10:47:00",
          "11:31:00",
          "09:31:00",
          "10:11:00",
          "11:34:00",
          "13:21:00",
          "10:01:00",
          "11:07:00",
          "09:56:00",
          "10:04:00",
          "10:06:00",
          "10:49:00",
          "09:47:00",
          "10:16:00",
          "10:28:00",
          "12:20:00",
          "11:00:00",
          "15:36:00",
          "10:38:00",
          "11:05:00",
          "10:04:00",
          "10:29:00",
          "09:33:00",
          "10:02:00",
          "10:16:00",
          "10:39:00",
          "09:52:00",
          "10:09:00",
          "10:58:00",
          "11:19:00",
          "09:35:00",
          "10:17:00",
          "09:33:00",
          "10:15:00",
          "09:54:00",
          "10:22:00",
          "09:39:00",
          "10:00:00",
          "09:31:00",
          "09:49:00",
          "09:30:00",
          "09:39:00",
          "10:01:00",
          "10:13:00",
          "09:43:00",
          "09:55:00",
          "11:17:00",
          "12:02:00",
          "09:31:00",
          "10:37:00",
          "09:57:00",
          "10:09:00",
          "10:15:00",
          "10:53:00",
          "09:49:00",
          "10:12:00",
          "09:43:00",
          "10:14:00",
          "11:14:00",
          "13:18:00",
          "09:31:00",
          "09:48:00",
          "09:59:00",
          "10:32:00",
          "09:38:00",
          "09:53:00",
          "10:02:00",
          "11:41:00",
          "09:57:00",
          "10:16:00",
          "09:40:00",
          "11:26:00",
          "10:15:00",
          "10:35:00",
          "09:47:00",
          "12:48:00",
          "10:45:00",
          "11:35:00",
          "09:32:00",
          "10:12:00",
          "09:31:00",
          "11:39:00",
          "09:32:00",
          "10:55:00",
          "13:11:00",
          "14:14:00",
          "09:43:00",
          "10:49:00",
          "09:31:00",
          "09:57:00",
          "09:39:00",
          "10:06:00",
          "10:48:00",
          "12:03:00",
          "09:31:00",
          "10:58:00",
          "10:33:00",
          "10:44:00",
          "11:12:00",
          "13:06:00",
          "09:32:00",
          "10:12:00",
          "10:48:00",
          "12:58:00",
          "10:49:00",
          "11:30:00",
          "09:30:00",
          "13:40:00",
          "12:03:00",
          "12:46:00",
          "09:39:00",
          "09:55:00",
          "10:17:00",
          "13:38:00",
          "10:38:00",
          "11:04:00",
          "09:30:00",
          "09:51:00",
          "10:55:00",
          "11:06:00",
          "10:25:00",
          "11:15:00",
          "10:33:00",
          "11:50:00",
          "12:22:00",
          "14:38:00",
          "15:01:00",
          "10:38:00",
          "10:56:00",
          "10:01:00",
          "10:11:00",
          "09:34:00",
          "09:57:00",
          "09:51:00",
          "09:59:00",
          "10:40:00",
          "11:57:00",
          "10:46:00",
          "12:49:00",
          "09:30:00",
          "10:09:00",
          "12:09:00",
          "12:40:00",
          "09:31:00",
          "10:03:00",
          "10:26:00",
          "11:07:00",
          "09:38:00",
          "10:20:00",
          "09:34:00",
          "10:15:00",
          "09:56:00",
          "10:09:00",
          "09:44:00",
          "10:56:00",
          "09:56:00",
          "10:22:00",
          "09:32:00",
          "11:02:00",
          "10:51:00",
          "11:10:00",
          "09:32:00",
          "10:36:00",
          "11:10:00",
          "12:18:00",
          "09:49:00",
          "10:18:00",
          "10:04:00",
          "10:34:00",
          "09:46:00",
          "10:37:00",
          "10:02:00",
          "11:31:00",
          "09:53:00",
          "10:16:00",
          "09:33:00",
          "10:36:00",
          "11:44:00",
          "12:11:00",
          "09:45:00",
          "10:26:00",
          "10:27:00",
          "10:33:00",
          "10:39:00",
          "10:56:00",
          "10:48:00",
          "12:40:00",
          "10:31:00",
          "13:58:00",
          "10:52:00",
          "11:23:00",
          "09:42:00",
          "09:50:00",
          "09:45:00",
          "10:39:00",
          "09:41:00",
          "10:13:00",
          "09:57:00",
          "10:35:00",
          "10:42:00",
          "11:48:00",
          "09:52:00",
          "10:39:00",
          "10:31:00",
          "10:59:00",
          "10:19:00",
          "14:06:00",
          "09:51:00",
          "10:14:00",
          "09:39:00",
          "09:51:00",
          "09:49:00",
          "12:10:00",
          "10:14:00",
          "10:35:00",
          "09:34:00",
          "10:16:00",
          "09:44:00",
          "10:35:00",
          "09:30:00",
          "10:21:00",
          "10:26:00",
          "10:55:00",
          "09:59:00",
          "10:26:00",
          "09:41:00",
          "10:03:00",
          "10:17:00",
          "10:34:00",
          "09:43:00",
          "10:14:00"
         ],
         "xaxis": "x",
         "y": [
          -0.5,
          -0.19,
          0.11,
          0.1,
          0.02,
          -0.24,
          -0.19,
          0,
          -0.08,
          0.24,
          -0.54,
          0.2,
          0.07,
          -0.1,
          -0.15,
          -0.32,
          0.18,
          0,
          0.04,
          -0.07,
          -0.09,
          -0.71,
          -0.01,
          -0.15,
          0.06,
          -0.61,
          0.47,
          -0.24,
          0.77,
          0.02,
          -0.35,
          0.14,
          -0.36,
          -0.02,
          0.03,
          0.07,
          -0.04,
          -0.01,
          0.82,
          0.06,
          0.24,
          0.13,
          -0.01,
          -0.14,
          0,
          -0.63,
          -0.02,
          -0.05,
          0.38,
          0.1,
          1.24,
          -0.18,
          -0.15,
          0.23,
          -0.02,
          -0.01,
          -0.09,
          0.36,
          0.27,
          0.01,
          0.02,
          0.02,
          -0.1,
          0,
          0.05,
          0.04,
          0.08,
          0.03,
          0.03,
          -0.09,
          -0.05,
          -0.05,
          -0.02,
          -0.22,
          -0.24,
          0.31,
          -0.06,
          -0.23,
          -0.02,
          -0.03,
          -0.01,
          -0.02,
          0,
          -0.32,
          0.15,
          -0.04,
          -0.05,
          0.16,
          0.04,
          0.03,
          -0.31,
          -0.07,
          0,
          -0.47,
          -0.05,
          0.23,
          0.42,
          0.08,
          0.02,
          0.07,
          0.05,
          0.04,
          0.02,
          -0.59,
          0.03,
          0.14,
          -0.08,
          -0.07,
          -0.18,
          0.22,
          -0.06,
          -0.31,
          -0.31,
          -0.02,
          -0.02,
          0.11,
          -0.19,
          -0.12,
          0.06,
          -0.14,
          -0.08,
          -0.03,
          0.23,
          -0.01,
          -0.03,
          0.33,
          -0.03,
          0.04,
          -0.32,
          -0.45,
          -0.07,
          0.01,
          -0.09,
          -0.19,
          0.11,
          0.6,
          0.39,
          0,
          0.12,
          0.1,
          -0.09,
          0.03,
          0.84,
          -0.19,
          -0.02,
          -0.02,
          -0.02,
          0.08,
          -0.09,
          -0.35,
          -0.01,
          -0.2,
          0.24,
          -0.01,
          0,
          0.06,
          0.16,
          0.04,
          -0.04,
          0.05,
          -0.04,
          -0.12,
          -0.06,
          -0.03,
          -0.27,
          0.15,
          0.02,
          0.57,
          0.06,
          0.02,
          -0.01,
          -0.01,
          0.17,
          -0.07,
          -0.06,
          0.01,
          0.13,
          0.95,
          -0.04,
          -0.15,
          -0.02,
          0.01,
          0.45,
          0.04,
          -0.03,
          -0.09,
          1,
          0.11,
          -0.04,
          0.05,
          -0.09,
          0.13,
          0.45,
          -0.04,
          -0.24,
          0,
          -0.12,
          0.29,
          0.03,
          -0.15,
          -0.08,
          -0.13,
          0,
          -0.06,
          0.05,
          -0.08,
          -0.05,
          0.49,
          0.11,
          -0.07,
          0.04,
          0.28,
          0.01,
          -0.04,
          0.04,
          -0.12,
          0.01,
          0.06,
          0.2,
          0.17,
          0.27,
          0.43,
          -0.18,
          -0.18,
          0.08,
          0.09,
          0.08,
          0.47,
          1.21,
          0.08,
          -0.01,
          -0.12,
          0.17,
          -0.47,
          -0.16,
          -0.03,
          -0.05,
          -0.04,
          0.02,
          -0.21,
          0.14,
          -0.05,
          -0.07,
          0.01,
          -0.27,
          -0.07,
          -0.05,
          -0.01,
          -0.03,
          0.06,
          -0.04,
          0,
          0.02,
          0.13,
          0.03,
          -0.07,
          -0.05,
          0.04,
          -0.08,
          0.16,
          -0.02,
          0.12,
          -0.03,
          0,
          -0.02,
          0.2,
          0,
          0.1,
          -0.17,
          -0.03,
          -0.04,
          -0.08,
          0,
          0.03,
          0.17,
          0.04,
          0.15,
          -0.02,
          -0.16,
          0.27,
          0.06,
          -0.05,
          -0.08,
          -0.08,
          0.11,
          -0.16,
          -0.04,
          0,
          -0.03,
          0.25,
          0.06,
          0.19,
          -0.09,
          -0.34,
          0.03,
          -0.17,
          -0.01,
          -0.19,
          -0.05,
          0,
          -0.17,
          -0.04,
          0.09,
          -0.01,
          0.3,
          -0.06,
          -0.07,
          -0.03,
          -0.04,
          -0.16,
          -0.13,
          -0.15,
          -0.03,
          0.07,
          -0.23,
          -0.06,
          -0.06,
          -0.12,
          0.11,
          -0.04,
          -0.1,
          0.14,
          0.12,
          0.04,
          -0.19,
          -0.07,
          -0.01,
          -0.05,
          -0.11,
          0,
          -0.12,
          -0.24,
          -0.28,
          -0.06,
          -0.14,
          0.03,
          0.08,
          -0.03,
          -0.03,
          -0.06,
          0.03,
          0.15,
          0,
          -0.04,
          0.26,
          0.06,
          -0.12,
          0.01,
          -0.05,
          0.01,
          0.04,
          0.02,
          0.11,
          0.18,
          0.24,
          0.03,
          0.01,
          -0.03,
          0,
          -0.08,
          -0.03,
          0.1,
          0.1,
          -0.05,
          -0.02,
          -0.06,
          -0.13,
          0.05,
          0.26,
          0.33,
          0.02,
          0.34,
          0.22,
          -0.1,
          0.1,
          -0.08,
          0.13,
          0,
          0,
          0.03,
          -0.06,
          -0.13,
          -0.04,
          -0.02,
          -0.06,
          -0.08,
          0,
          -0.06,
          -0.01,
          0.04,
          0.05,
          0,
          -0.08,
          0,
          0.01,
          0.11,
          0.1,
          -0.11,
          -0.01,
          -0.06,
          -0.23,
          -0.23,
          -0.03,
          -0.1,
          -0.04,
          -0.01,
          -0.01,
          -0.04,
          0.01,
          0.06,
          -0.01,
          0.07,
          -0.01,
          -0.03,
          0.07,
          0.07,
          -0.03,
          0.01,
          -0.02,
          0.08,
          -0.19,
          -0.25,
          0.32,
          -0.05,
          -0.01,
          -0.04,
          -0.04,
          -0.13,
          -0.03,
          -0.09,
          -0.08,
          0.11,
          0.04,
          0.02,
          -0.05,
          -0.28,
          -0.07,
          0.03,
          -0.04,
          -0.02,
          0.03,
          -0.04,
          0,
          0.08,
          -0.02,
          -0.22,
          0.02,
          0.01,
          -0.02,
          0.05,
          -0.33,
          -0.07,
          -0.09,
          -0.03,
          -0.06,
          -0.04,
          -0.05,
          0.01,
          -0.1,
          -0.04,
          0.04,
          -0.14,
          0.12,
          -0.1,
          0.24,
          0.03,
          0.03,
          0,
          0.17,
          -0.01,
          0.01,
          -0.05,
          0,
          0,
          -0.04,
          0.31,
          -0.07,
          0.02,
          -0.01,
          -0.05,
          0.01,
          -0.01,
          0.01,
          0.01,
          -0.1,
          0.03,
          0.03,
          -0.09,
          -0.09,
          0,
          0.03,
          0.06,
          -0.01,
          -0.41,
          0.03,
          0.09,
          -0.09,
          0.06,
          0.04,
          0.05,
          -0.03
         ],
         "yaxis": "y"
        }
       ],
       "layout": {
        "bargap": 0.1,
        "legend": {
         "tracegroupgap": 0
        },
        "template": {
         "data": {
          "bar": [
           {
            "error_x": {
             "color": "#2a3f5f"
            },
            "error_y": {
             "color": "#2a3f5f"
            },
            "marker": {
             "line": {
              "color": "#E5ECF6",
              "width": 0.5
             },
             "pattern": {
              "fillmode": "overlay",
              "size": 10,
              "solidity": 0.2
             }
            },
            "type": "bar"
           }
          ],
          "barpolar": [
           {
            "marker": {
             "line": {
              "color": "#E5ECF6",
              "width": 0.5
             },
             "pattern": {
              "fillmode": "overlay",
              "size": 10,
              "solidity": 0.2
             }
            },
            "type": "barpolar"
           }
          ],
          "carpet": [
           {
            "aaxis": {
             "endlinecolor": "#2a3f5f",
             "gridcolor": "white",
             "linecolor": "white",
             "minorgridcolor": "white",
             "startlinecolor": "#2a3f5f"
            },
            "baxis": {
             "endlinecolor": "#2a3f5f",
             "gridcolor": "white",
             "linecolor": "white",
             "minorgridcolor": "white",
             "startlinecolor": "#2a3f5f"
            },
            "type": "carpet"
           }
          ],
          "choropleth": [
           {
            "colorbar": {
             "outlinewidth": 0,
             "ticks": ""
            },
            "type": "choropleth"
           }
          ],
          "contour": [
           {
            "colorbar": {
             "outlinewidth": 0,
             "ticks": ""
            },
            "colorscale": [
             [
              0,
              "#0d0887"
             ],
             [
              0.1111111111111111,
              "#46039f"
             ],
             [
              0.2222222222222222,
              "#7201a8"
             ],
             [
              0.3333333333333333,
              "#9c179e"
             ],
             [
              0.4444444444444444,
              "#bd3786"
             ],
             [
              0.5555555555555556,
              "#d8576b"
             ],
             [
              0.6666666666666666,
              "#ed7953"
             ],
             [
              0.7777777777777778,
              "#fb9f3a"
             ],
             [
              0.8888888888888888,
              "#fdca26"
             ],
             [
              1,
              "#f0f921"
             ]
            ],
            "type": "contour"
           }
          ],
          "contourcarpet": [
           {
            "colorbar": {
             "outlinewidth": 0,
             "ticks": ""
            },
            "type": "contourcarpet"
           }
          ],
          "heatmap": [
           {
            "colorbar": {
             "outlinewidth": 0,
             "ticks": ""
            },
            "colorscale": [
             [
              0,
              "#0d0887"
             ],
             [
              0.1111111111111111,
              "#46039f"
             ],
             [
              0.2222222222222222,
              "#7201a8"
             ],
             [
              0.3333333333333333,
              "#9c179e"
             ],
             [
              0.4444444444444444,
              "#bd3786"
             ],
             [
              0.5555555555555556,
              "#d8576b"
             ],
             [
              0.6666666666666666,
              "#ed7953"
             ],
             [
              0.7777777777777778,
              "#fb9f3a"
             ],
             [
              0.8888888888888888,
              "#fdca26"
             ],
             [
              1,
              "#f0f921"
             ]
            ],
            "type": "heatmap"
           }
          ],
          "heatmapgl": [
           {
            "colorbar": {
             "outlinewidth": 0,
             "ticks": ""
            },
            "colorscale": [
             [
              0,
              "#0d0887"
             ],
             [
              0.1111111111111111,
              "#46039f"
             ],
             [
              0.2222222222222222,
              "#7201a8"
             ],
             [
              0.3333333333333333,
              "#9c179e"
             ],
             [
              0.4444444444444444,
              "#bd3786"
             ],
             [
              0.5555555555555556,
              "#d8576b"
             ],
             [
              0.6666666666666666,
              "#ed7953"
             ],
             [
              0.7777777777777778,
              "#fb9f3a"
             ],
             [
              0.8888888888888888,
              "#fdca26"
             ],
             [
              1,
              "#f0f921"
             ]
            ],
            "type": "heatmapgl"
           }
          ],
          "histogram": [
           {
            "marker": {
             "pattern": {
              "fillmode": "overlay",
              "size": 10,
              "solidity": 0.2
             }
            },
            "type": "histogram"
           }
          ],
          "histogram2d": [
           {
            "colorbar": {
             "outlinewidth": 0,
             "ticks": ""
            },
            "colorscale": [
             [
              0,
              "#0d0887"
             ],
             [
              0.1111111111111111,
              "#46039f"
             ],
             [
              0.2222222222222222,
              "#7201a8"
             ],
             [
              0.3333333333333333,
              "#9c179e"
             ],
             [
              0.4444444444444444,
              "#bd3786"
             ],
             [
              0.5555555555555556,
              "#d8576b"
             ],
             [
              0.6666666666666666,
              "#ed7953"
             ],
             [
              0.7777777777777778,
              "#fb9f3a"
             ],
             [
              0.8888888888888888,
              "#fdca26"
             ],
             [
              1,
              "#f0f921"
             ]
            ],
            "type": "histogram2d"
           }
          ],
          "histogram2dcontour": [
           {
            "colorbar": {
             "outlinewidth": 0,
             "ticks": ""
            },
            "colorscale": [
             [
              0,
              "#0d0887"
             ],
             [
              0.1111111111111111,
              "#46039f"
             ],
             [
              0.2222222222222222,
              "#7201a8"
             ],
             [
              0.3333333333333333,
              "#9c179e"
             ],
             [
              0.4444444444444444,
              "#bd3786"
             ],
             [
              0.5555555555555556,
              "#d8576b"
             ],
             [
              0.6666666666666666,
              "#ed7953"
             ],
             [
              0.7777777777777778,
              "#fb9f3a"
             ],
             [
              0.8888888888888888,
              "#fdca26"
             ],
             [
              1,
              "#f0f921"
             ]
            ],
            "type": "histogram2dcontour"
           }
          ],
          "mesh3d": [
           {
            "colorbar": {
             "outlinewidth": 0,
             "ticks": ""
            },
            "type": "mesh3d"
           }
          ],
          "parcoords": [
           {
            "line": {
             "colorbar": {
              "outlinewidth": 0,
              "ticks": ""
             }
            },
            "type": "parcoords"
           }
          ],
          "pie": [
           {
            "automargin": true,
            "type": "pie"
           }
          ],
          "scatter": [
           {
            "fillpattern": {
             "fillmode": "overlay",
             "size": 10,
             "solidity": 0.2
            },
            "type": "scatter"
           }
          ],
          "scatter3d": [
           {
            "line": {
             "colorbar": {
              "outlinewidth": 0,
              "ticks": ""
             }
            },
            "marker": {
             "colorbar": {
              "outlinewidth": 0,
              "ticks": ""
             }
            },
            "type": "scatter3d"
           }
          ],
          "scattercarpet": [
           {
            "marker": {
             "colorbar": {
              "outlinewidth": 0,
              "ticks": ""
             }
            },
            "type": "scattercarpet"
           }
          ],
          "scattergeo": [
           {
            "marker": {
             "colorbar": {
              "outlinewidth": 0,
              "ticks": ""
             }
            },
            "type": "scattergeo"
           }
          ],
          "scattergl": [
           {
            "marker": {
             "colorbar": {
              "outlinewidth": 0,
              "ticks": ""
             }
            },
            "type": "scattergl"
           }
          ],
          "scattermapbox": [
           {
            "marker": {
             "colorbar": {
              "outlinewidth": 0,
              "ticks": ""
             }
            },
            "type": "scattermapbox"
           }
          ],
          "scatterpolar": [
           {
            "marker": {
             "colorbar": {
              "outlinewidth": 0,
              "ticks": ""
             }
            },
            "type": "scatterpolar"
           }
          ],
          "scatterpolargl": [
           {
            "marker": {
             "colorbar": {
              "outlinewidth": 0,
              "ticks": ""
             }
            },
            "type": "scatterpolargl"
           }
          ],
          "scatterternary": [
           {
            "marker": {
             "colorbar": {
              "outlinewidth": 0,
              "ticks": ""
             }
            },
            "type": "scatterternary"
           }
          ],
          "surface": [
           {
            "colorbar": {
             "outlinewidth": 0,
             "ticks": ""
            },
            "colorscale": [
             [
              0,
              "#0d0887"
             ],
             [
              0.1111111111111111,
              "#46039f"
             ],
             [
              0.2222222222222222,
              "#7201a8"
             ],
             [
              0.3333333333333333,
              "#9c179e"
             ],
             [
              0.4444444444444444,
              "#bd3786"
             ],
             [
              0.5555555555555556,
              "#d8576b"
             ],
             [
              0.6666666666666666,
              "#ed7953"
             ],
             [
              0.7777777777777778,
              "#fb9f3a"
             ],
             [
              0.8888888888888888,
              "#fdca26"
             ],
             [
              1,
              "#f0f921"
             ]
            ],
            "type": "surface"
           }
          ],
          "table": [
           {
            "cells": {
             "fill": {
              "color": "#EBF0F8"
             },
             "line": {
              "color": "white"
             }
            },
            "header": {
             "fill": {
              "color": "#C8D4E3"
             },
             "line": {
              "color": "white"
             }
            },
            "type": "table"
           }
          ]
         },
         "layout": {
          "annotationdefaults": {
           "arrowcolor": "#2a3f5f",
           "arrowhead": 0,
           "arrowwidth": 1
          },
          "autotypenumbers": "strict",
          "coloraxis": {
           "colorbar": {
            "outlinewidth": 0,
            "ticks": ""
           }
          },
          "colorscale": {
           "diverging": [
            [
             0,
             "#8e0152"
            ],
            [
             0.1,
             "#c51b7d"
            ],
            [
             0.2,
             "#de77ae"
            ],
            [
             0.3,
             "#f1b6da"
            ],
            [
             0.4,
             "#fde0ef"
            ],
            [
             0.5,
             "#f7f7f7"
            ],
            [
             0.6,
             "#e6f5d0"
            ],
            [
             0.7,
             "#b8e186"
            ],
            [
             0.8,
             "#7fbc41"
            ],
            [
             0.9,
             "#4d9221"
            ],
            [
             1,
             "#276419"
            ]
           ],
           "sequential": [
            [
             0,
             "#0d0887"
            ],
            [
             0.1111111111111111,
             "#46039f"
            ],
            [
             0.2222222222222222,
             "#7201a8"
            ],
            [
             0.3333333333333333,
             "#9c179e"
            ],
            [
             0.4444444444444444,
             "#bd3786"
            ],
            [
             0.5555555555555556,
             "#d8576b"
            ],
            [
             0.6666666666666666,
             "#ed7953"
            ],
            [
             0.7777777777777778,
             "#fb9f3a"
            ],
            [
             0.8888888888888888,
             "#fdca26"
            ],
            [
             1,
             "#f0f921"
            ]
           ],
           "sequentialminus": [
            [
             0,
             "#0d0887"
            ],
            [
             0.1111111111111111,
             "#46039f"
            ],
            [
             0.2222222222222222,
             "#7201a8"
            ],
            [
             0.3333333333333333,
             "#9c179e"
            ],
            [
             0.4444444444444444,
             "#bd3786"
            ],
            [
             0.5555555555555556,
             "#d8576b"
            ],
            [
             0.6666666666666666,
             "#ed7953"
            ],
            [
             0.7777777777777778,
             "#fb9f3a"
            ],
            [
             0.8888888888888888,
             "#fdca26"
            ],
            [
             1,
             "#f0f921"
            ]
           ]
          },
          "colorway": [
           "#636efa",
           "#EF553B",
           "#00cc96",
           "#ab63fa",
           "#FFA15A",
           "#19d3f3",
           "#FF6692",
           "#B6E880",
           "#FF97FF",
           "#FECB52"
          ],
          "font": {
           "color": "#2a3f5f"
          },
          "geo": {
           "bgcolor": "white",
           "lakecolor": "white",
           "landcolor": "#E5ECF6",
           "showlakes": true,
           "showland": true,
           "subunitcolor": "white"
          },
          "hoverlabel": {
           "align": "left"
          },
          "hovermode": "closest",
          "mapbox": {
           "style": "light"
          },
          "paper_bgcolor": "white",
          "plot_bgcolor": "#E5ECF6",
          "polar": {
           "angularaxis": {
            "gridcolor": "white",
            "linecolor": "white",
            "ticks": ""
           },
           "bgcolor": "#E5ECF6",
           "radialaxis": {
            "gridcolor": "white",
            "linecolor": "white",
            "ticks": ""
           }
          },
          "scene": {
           "xaxis": {
            "backgroundcolor": "#E5ECF6",
            "gridcolor": "white",
            "gridwidth": 2,
            "linecolor": "white",
            "showbackground": true,
            "ticks": "",
            "zerolinecolor": "white"
           },
           "yaxis": {
            "backgroundcolor": "#E5ECF6",
            "gridcolor": "white",
            "gridwidth": 2,
            "linecolor": "white",
            "showbackground": true,
            "ticks": "",
            "zerolinecolor": "white"
           },
           "zaxis": {
            "backgroundcolor": "#E5ECF6",
            "gridcolor": "white",
            "gridwidth": 2,
            "linecolor": "white",
            "showbackground": true,
            "ticks": "",
            "zerolinecolor": "white"
           }
          },
          "shapedefaults": {
           "line": {
            "color": "#2a3f5f"
           }
          },
          "ternary": {
           "aaxis": {
            "gridcolor": "white",
            "linecolor": "white",
            "ticks": ""
           },
           "baxis": {
            "gridcolor": "white",
            "linecolor": "white",
            "ticks": ""
           },
           "bgcolor": "#E5ECF6",
           "caxis": {
            "gridcolor": "white",
            "linecolor": "white",
            "ticks": ""
           }
          },
          "title": {
           "x": 0.05
          },
          "xaxis": {
           "automargin": true,
           "gridcolor": "white",
           "linecolor": "white",
           "ticks": "",
           "title": {
            "standoff": 15
           },
           "zerolinecolor": "white",
           "zerolinewidth": 2
          },
          "yaxis": {
           "automargin": true,
           "gridcolor": "white",
           "linecolor": "white",
           "ticks": "",
           "title": {
            "standoff": 15
           },
           "zerolinecolor": "white",
           "zerolinewidth": 2
          }
         }
        },
        "title": {
         "text": "Entry Time vs Gain%"
        },
        "xaxis": {
         "anchor": "y",
         "domain": [
          0,
          1
         ],
         "title": {
          "text": "Time"
         }
        },
        "yaxis": {
         "anchor": "x",
         "domain": [
          0,
          1
         ],
         "title": {
          "text": "Gain%"
         }
        }
       }
      }
     },
     "metadata": {},
     "output_type": "display_data"
    }
   ],
   "source": [
    "# scatter plot of entry time vs gain%\n",
    "\n",
    "fig = px.scatter(trades, x=\"TimeEnter\", y=\"Gain%\", title=\"Entry Time vs Gain%\")\n",
    "fig.update_layout(\n",
    "    xaxis_title=\"Time\",\n",
    "    yaxis_title=\"Gain%\",\n",
    "    bargap=0.1\n",
    ")\n",
    "\n",
    "fig.show()"
   ]
  },
  {
   "cell_type": "code",
   "execution_count": 87,
   "metadata": {},
   "outputs": [],
   "source": [
    "def rsi_ranged_backtest_single_pnl(df, rsi_enter, rsi_exit, maxTrades, ticker):\n",
    "    res = pd.DataFrame()\n",
    "    res.loc[0, 'Ticker'] = ticker\n",
    "    res.loc[0, 'StartDate'] = df['Date'].min()\n",
    "    res.loc[0, 'EndDate'] = df['Date'].max()\n",
    "    res.loc[0, 'Entry'] = rsi_enter\n",
    "    res.loc[0, 'Exit'] = rsi_exit,\n",
    "    res.loc[0, 'MaxTrades'] = maxTrades,\n",
    "    res.loc[0, 'TotalTrades'] = len(df)\n",
    "    res.loc[0, 'TotalPercentGain'] = round(df['Gain%'].sum(), 2)\n",
    "    res.loc[0, 'AveragePercentGain'] = round(df['Gain%'].mean(), 2)\n",
    "    res.loc[0, 'MaxPercentGain'] = round(df['Gain%'].max(), 2)\n",
    "    res.loc[0, 'MinPercentGain'] = round(df['Gain%'].min(), 2)\n",
    "\n",
    "    return res"
   ]
  },
  {
   "cell_type": "code",
   "execution_count": 88,
   "metadata": {},
   "outputs": [],
   "source": [
    "def multi_rsi_backtest(tickers, max_trades, indicator_pairs):\n",
    "    results = pd.DataFrame(\n",
    "        columns=[\n",
    "            \"Ticker\",\"StartDate\",\"EndDate\",\"Entry\",\"Exit\",\"TotalTrades\",\n",
    "            \"TotalPercentGain\",\"AveragePercentGain\",\"MaxPercentGain\",\"MinPercentGain\"])\n",
    "\n",
    "    for e in indicator_pairs:\n",
    "        for f in max_trades:\n",
    "            for g in tickers:\n",
    "\n",
    "                df = load_data(g)\n",
    "                df = RSI(df, 14)\n",
    "\n",
    "                print(\"testing TICKER/ENTER/EXIT/MAXTRADES:\", g, e[0], e[1], f)\n",
    "                trades = simulate_date_range(datetime.date(2022, 9, 30), datetime.date(2023, 9, 30), e[0], e[1], f, df)\n",
    "                pnl = rsi_ranged_backtest_single_pnl(trades, e[0], e[1], f, g)\n",
    "                results.loc[len(results)] = pnl.loc[0]\n",
    "\n",
    "    results = results.sort_values(by=[\"TotalPercentGain\"], ascending=False)\n",
    "    return results"
   ]
  }
 ],
 "metadata": {
  "kernelspec": {
   "display_name": "Python 3",
   "language": "python",
   "name": "python3"
  },
  "language_info": {
   "codemirror_mode": {
    "name": "ipython",
    "version": 3
   },
   "file_extension": ".py",
   "mimetype": "text/x-python",
   "name": "python",
   "nbconvert_exporter": "python",
   "pygments_lexer": "ipython3",
   "version": "3.12.1"
  }
 },
 "nbformat": 4,
 "nbformat_minor": 2
}
