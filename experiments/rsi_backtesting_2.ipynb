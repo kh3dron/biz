{
 "cells": [
  {
   "cell_type": "code",
   "execution_count": 9,
   "metadata": {},
   "outputs": [],
   "source": [
    "import warnings\n",
    "warnings.simplefilter(action='ignore', category=FutureWarning)\n",
    "\n",
    "import pandas as pd\n",
    "\n",
    "def load_data(ticker):\n",
    "\n",
    "    filename = '../data/' + ticker + '_1min_firstratedata.csv'\n",
    "    df = pd.read_csv(filename)\n",
    "    df['ticker'] = ticker\n",
    "\n",
    "    df[\"timestamp\"] = pd.to_datetime(df[\"timestamp\"])\n",
    "    df[\"date\"] = df[\"timestamp\"].dt.date\n",
    "    df[\"time\"] = df[\"timestamp\"].dt.time\n",
    "    return df\n",
    "\n",
    "ticker = 'SPY'\n",
    "df = load_data(ticker)"
   ]
  },
  {
   "cell_type": "code",
   "execution_count": 10,
   "metadata": {},
   "outputs": [],
   "source": [
    "# Add the RSI indicator with period n to a df\n",
    "\n",
    "def RSI(df, n):\n",
    "    \"function to calculate RSI\"\n",
    "    delta = df[\"close\"].diff()\n",
    "    delta = delta[1:]\n",
    "    up, down = delta.copy(), delta.copy()\n",
    "    up[up < 0] = 0\n",
    "    down[down > 0] = 0\n",
    "    df[\"up\"] = up.round(4)\n",
    "    df[\"down\"] = down.round(4)\n",
    "    AVG_Gain = df[\"up\"].rolling(window=n).mean()\n",
    "    AVG_Loss = abs(df[\"down\"].rolling(window=n).mean())\n",
    "    RS = AVG_Gain / AVG_Loss\n",
    "    RSI = 100.0 - (100.0 / (1.0 + RS))\n",
    "    df[\"RSI_14\"] = RSI.round(4)\n",
    "    df = df.drop(columns=[\"up\", \"down\"])\n",
    "\n",
    "    return df\n",
    "\n",
    "df = RSI(df, 14)\n",
    "\n",
    "#df.head()"
   ]
  },
  {
   "cell_type": "code",
   "execution_count": 11,
   "metadata": {},
   "outputs": [],
   "source": [
    "import datetime\n",
    "import pandas as pd\n",
    "\n",
    "def simulate_trade_RSI(date, entry, exit_high, exit_low, max_trades, df):\n",
    "    df_day = df[(df[\"date\"] == date) & (df[\"time\"] >= datetime.time(9, 30, 0)) & (df[\"time\"] <= datetime.time(16, 0, 0))]\n",
    "    trade_log = pd.DataFrame(columns=[\"Date\", \"Direction\", \"Entry\", \"Exit\", \"TimeEnter\", \"TimeExit\", \"Gain%\", \"Gain$\"])\n",
    "    trades, in_trade = 0, False\n",
    "\n",
    "    for i in range(1, len(df_day)):\n",
    "        rsi_condition = (df_day[\"RSI_14\"].iloc[i - 1] < entry and df_day[\"RSI_14\"].iloc[i] >= entry)\n",
    "        exit_condition = (df_day[\"RSI_14\"].iloc[i - 1] > exit_high or df_day[\"RSI_14\"].iloc[i] <= exit_low)\n",
    "        \n",
    "        if not in_trade and rsi_condition:\n",
    "            entry_price, in_trade, time_enter = df_day[\"close\"].iloc[i], True, df_day[\"time\"].iloc[i - 1]\n",
    "\n",
    "        elif in_trade and (exit_condition or i == len(df_day) - 1):\n",
    "            exit_price = df_day[\"close\"].iloc[i]\n",
    "            trade_gain_percent = round(((exit_price - entry_price) / entry_price) * 100, 2)\n",
    "            trade_gain_net = round(exit_price - entry_price, 2)\n",
    "\n",
    "            trade_log.loc[len(trade_log)] = pd.Series({\n",
    "                \"Date\": date,\n",
    "                \"Direction\": \"Long\",\n",
    "                \"Entry\": entry_price,\n",
    "                \"Exit\": exit_price,\n",
    "                \"TimeEnter\": time_enter,\n",
    "                \"TimeExit\": df_day[\"time\"].iloc[i],\n",
    "                \"Gain%\": trade_gain_percent,\n",
    "                \"Gain$\": trade_gain_net\n",
    "            })\n",
    "\n",
    "            trades, entry_price, in_trade = trades + 1, 0, False\n",
    "\n",
    "            # Check if the maximum number of trades is reached\n",
    "            if trades >= max_trades:\n",
    "                break\n",
    "\n",
    "    return trade_log\n"
   ]
  },
  {
   "cell_type": "code",
   "execution_count": 12,
   "metadata": {},
   "outputs": [],
   "source": [
    "# Combine the simulated trades for a range of dates into a single dataframe\n",
    "\n",
    "def simulate_date_range(start_date, end_date, entry, exit_high, exit_low, max_trades, df):\n",
    "    day_datas = []\n",
    "\n",
    "    for n in range((end_date - start_date).days + 1):\n",
    "        date = start_date + datetime.timedelta(n)\n",
    "        day_data = simulate_trade_RSI(date, entry, exit_high, exit_low, max_trades, df)\n",
    "        if day_data is not None:\n",
    "            day_datas.append(day_data)\n",
    "\n",
    "    day_datas = pd.concat(day_datas, ignore_index=True)\n",
    "\n",
    "    return day_datas"
   ]
  },
  {
   "cell_type": "code",
   "execution_count": 13,
   "metadata": {},
   "outputs": [],
   "source": [
    "trades = simulate_date_range(datetime.date(2022, 9, 30), datetime.date(2023, 9, 30), 30, 70, 20, 1, df)"
   ]
  },
  {
   "cell_type": "code",
   "execution_count": 22,
   "metadata": {},
   "outputs": [
    {
     "data": {
      "application/vnd.plotly.v1+json": {
       "config": {
        "plotlyServerURL": "https://plot.ly"
       },
       "data": [
        {
         "alignmentgroup": "True",
         "bingroup": "x",
         "hovertemplate": "Gain%=%{x}<br>count=%{y}<extra></extra>",
         "legendgroup": "",
         "marker": {
          "color": "#636efa",
          "pattern": {
           "shape": ""
          }
         },
         "name": "",
         "nbinsx": 50,
         "offsetgroup": "",
         "orientation": "v",
         "showlegend": false,
         "type": "histogram",
         "x": [
          -0.14,
          0.18,
          0.04,
          -0.07,
          -0.01,
          -0.49,
          -0.43,
          -0.09,
          0.2,
          0.79,
          -2.15,
          -0.17,
          -0.58,
          0.39,
          0.28,
          -0.41,
          0.11,
          0.17,
          -0.42,
          0.4,
          0.14,
          -0.16,
          -0.45,
          -0.24,
          0.46,
          0.51,
          0.27,
          0.21,
          0.31,
          0.38,
          0.1,
          0.1,
          0.34,
          0.16,
          0.35,
          -0.55,
          0.16,
          -0.27,
          -0.37,
          -0.02,
          -0.11,
          0.15,
          0.05,
          0.08,
          0.21,
          -0.38,
          -0.48,
          0.28,
          0.29,
          0.07,
          0.19,
          0.16,
          0.07,
          0.18,
          -0.52,
          0.14,
          -0.04,
          0.2,
          -0.54,
          0.81,
          0.2,
          0.23,
          -0.16,
          0.3,
          -0.7,
          0.48,
          -0.24,
          -0.03,
          0.27,
          0.44,
          0,
          0.41,
          0.07,
          -0.06,
          -0.08,
          -0.38,
          0.04,
          0.01,
          0.17,
          -0.22,
          0.28,
          0,
          -0.28,
          0.08,
          0.15,
          0.16,
          0.3,
          -0.09,
          0.14,
          -0.49,
          -0.54,
          0.55,
          0.14,
          0.47,
          0.24,
          -0.05,
          0.22,
          -0.17,
          0.12,
          -0.39,
          -0.01,
          0.13,
          0.19,
          0.24,
          0.11,
          0.14,
          -0.01,
          0.38,
          0.11,
          0.08,
          0.41,
          -0.36,
          -0.1,
          -0.35,
          0.14,
          0.35,
          0.25,
          -0.16,
          0.05,
          -0.34,
          0.29,
          -0.02,
          -0.17,
          -0.07,
          -0.2,
          -0.11,
          0,
          -0.09,
          0.08,
          -0.11,
          0.17,
          -0.12,
          -0.3,
          0.08,
          -0.15,
          -0.22,
          0.08,
          0.05,
          0.17,
          -0.15,
          -0.23,
          0.06,
          0.14,
          0.16,
          0.16,
          0.15,
          -0.29,
          -0.28,
          -0.38,
          0.04,
          -0.07,
          0.16,
          0.33,
          -0.26,
          -0.37,
          -0.18,
          -0.06,
          -0.14,
          -0.11,
          0.05,
          -0.12,
          0.1,
          -0.23,
          0,
          0.11,
          -0.16,
          -0.17,
          0.13,
          0.2,
          -0.12,
          0.04,
          -0.15,
          0.19,
          0.03,
          -0.12,
          0.26,
          0.1,
          0.1,
          0,
          -0.14,
          -0.19,
          0.15,
          0.15,
          -0.03,
          0.15,
          0.17,
          0.16,
          0.15,
          0.17,
          -0.03,
          -0.29,
          0,
          0.01,
          0,
          -0.04,
          0.07,
          -0.02,
          -0.02,
          0.16,
          -0.03,
          -0.05,
          -0.2,
          -0.14,
          0.02,
          0.03,
          -0.11,
          0.08,
          -0.08,
          0.09,
          -0.2,
          0.08,
          -0.03,
          0.1,
          -0.1,
          -0.28,
          0,
          0.26,
          0.15,
          -0.27,
          0.11,
          -0.03,
          0.12,
          0.14,
          -0.27,
          0.09,
          0.24,
          -0.02,
          -0.06,
          0.07,
          0.27,
          -0.12,
          -0.1,
          0.05,
          -0.25,
          -0.11,
          0.06,
          0.07,
          -0.02,
          0.2,
          0.06,
          -0.13,
          0.14,
          -0.17,
          0.09,
          0,
          0.18,
          -0.05,
          -0.37,
          -0.1,
          0.11,
          0.16
         ],
         "xaxis": "x",
         "yaxis": "y"
        }
       ],
       "layout": {
        "bargap": 0.1,
        "barmode": "relative",
        "legend": {
         "tracegroupgap": 0
        },
        "template": {
         "data": {
          "bar": [
           {
            "error_x": {
             "color": "#2a3f5f"
            },
            "error_y": {
             "color": "#2a3f5f"
            },
            "marker": {
             "line": {
              "color": "#E5ECF6",
              "width": 0.5
             },
             "pattern": {
              "fillmode": "overlay",
              "size": 10,
              "solidity": 0.2
             }
            },
            "type": "bar"
           }
          ],
          "barpolar": [
           {
            "marker": {
             "line": {
              "color": "#E5ECF6",
              "width": 0.5
             },
             "pattern": {
              "fillmode": "overlay",
              "size": 10,
              "solidity": 0.2
             }
            },
            "type": "barpolar"
           }
          ],
          "carpet": [
           {
            "aaxis": {
             "endlinecolor": "#2a3f5f",
             "gridcolor": "white",
             "linecolor": "white",
             "minorgridcolor": "white",
             "startlinecolor": "#2a3f5f"
            },
            "baxis": {
             "endlinecolor": "#2a3f5f",
             "gridcolor": "white",
             "linecolor": "white",
             "minorgridcolor": "white",
             "startlinecolor": "#2a3f5f"
            },
            "type": "carpet"
           }
          ],
          "choropleth": [
           {
            "colorbar": {
             "outlinewidth": 0,
             "ticks": ""
            },
            "type": "choropleth"
           }
          ],
          "contour": [
           {
            "colorbar": {
             "outlinewidth": 0,
             "ticks": ""
            },
            "colorscale": [
             [
              0,
              "#0d0887"
             ],
             [
              0.1111111111111111,
              "#46039f"
             ],
             [
              0.2222222222222222,
              "#7201a8"
             ],
             [
              0.3333333333333333,
              "#9c179e"
             ],
             [
              0.4444444444444444,
              "#bd3786"
             ],
             [
              0.5555555555555556,
              "#d8576b"
             ],
             [
              0.6666666666666666,
              "#ed7953"
             ],
             [
              0.7777777777777778,
              "#fb9f3a"
             ],
             [
              0.8888888888888888,
              "#fdca26"
             ],
             [
              1,
              "#f0f921"
             ]
            ],
            "type": "contour"
           }
          ],
          "contourcarpet": [
           {
            "colorbar": {
             "outlinewidth": 0,
             "ticks": ""
            },
            "type": "contourcarpet"
           }
          ],
          "heatmap": [
           {
            "colorbar": {
             "outlinewidth": 0,
             "ticks": ""
            },
            "colorscale": [
             [
              0,
              "#0d0887"
             ],
             [
              0.1111111111111111,
              "#46039f"
             ],
             [
              0.2222222222222222,
              "#7201a8"
             ],
             [
              0.3333333333333333,
              "#9c179e"
             ],
             [
              0.4444444444444444,
              "#bd3786"
             ],
             [
              0.5555555555555556,
              "#d8576b"
             ],
             [
              0.6666666666666666,
              "#ed7953"
             ],
             [
              0.7777777777777778,
              "#fb9f3a"
             ],
             [
              0.8888888888888888,
              "#fdca26"
             ],
             [
              1,
              "#f0f921"
             ]
            ],
            "type": "heatmap"
           }
          ],
          "heatmapgl": [
           {
            "colorbar": {
             "outlinewidth": 0,
             "ticks": ""
            },
            "colorscale": [
             [
              0,
              "#0d0887"
             ],
             [
              0.1111111111111111,
              "#46039f"
             ],
             [
              0.2222222222222222,
              "#7201a8"
             ],
             [
              0.3333333333333333,
              "#9c179e"
             ],
             [
              0.4444444444444444,
              "#bd3786"
             ],
             [
              0.5555555555555556,
              "#d8576b"
             ],
             [
              0.6666666666666666,
              "#ed7953"
             ],
             [
              0.7777777777777778,
              "#fb9f3a"
             ],
             [
              0.8888888888888888,
              "#fdca26"
             ],
             [
              1,
              "#f0f921"
             ]
            ],
            "type": "heatmapgl"
           }
          ],
          "histogram": [
           {
            "marker": {
             "pattern": {
              "fillmode": "overlay",
              "size": 10,
              "solidity": 0.2
             }
            },
            "type": "histogram"
           }
          ],
          "histogram2d": [
           {
            "colorbar": {
             "outlinewidth": 0,
             "ticks": ""
            },
            "colorscale": [
             [
              0,
              "#0d0887"
             ],
             [
              0.1111111111111111,
              "#46039f"
             ],
             [
              0.2222222222222222,
              "#7201a8"
             ],
             [
              0.3333333333333333,
              "#9c179e"
             ],
             [
              0.4444444444444444,
              "#bd3786"
             ],
             [
              0.5555555555555556,
              "#d8576b"
             ],
             [
              0.6666666666666666,
              "#ed7953"
             ],
             [
              0.7777777777777778,
              "#fb9f3a"
             ],
             [
              0.8888888888888888,
              "#fdca26"
             ],
             [
              1,
              "#f0f921"
             ]
            ],
            "type": "histogram2d"
           }
          ],
          "histogram2dcontour": [
           {
            "colorbar": {
             "outlinewidth": 0,
             "ticks": ""
            },
            "colorscale": [
             [
              0,
              "#0d0887"
             ],
             [
              0.1111111111111111,
              "#46039f"
             ],
             [
              0.2222222222222222,
              "#7201a8"
             ],
             [
              0.3333333333333333,
              "#9c179e"
             ],
             [
              0.4444444444444444,
              "#bd3786"
             ],
             [
              0.5555555555555556,
              "#d8576b"
             ],
             [
              0.6666666666666666,
              "#ed7953"
             ],
             [
              0.7777777777777778,
              "#fb9f3a"
             ],
             [
              0.8888888888888888,
              "#fdca26"
             ],
             [
              1,
              "#f0f921"
             ]
            ],
            "type": "histogram2dcontour"
           }
          ],
          "mesh3d": [
           {
            "colorbar": {
             "outlinewidth": 0,
             "ticks": ""
            },
            "type": "mesh3d"
           }
          ],
          "parcoords": [
           {
            "line": {
             "colorbar": {
              "outlinewidth": 0,
              "ticks": ""
             }
            },
            "type": "parcoords"
           }
          ],
          "pie": [
           {
            "automargin": true,
            "type": "pie"
           }
          ],
          "scatter": [
           {
            "fillpattern": {
             "fillmode": "overlay",
             "size": 10,
             "solidity": 0.2
            },
            "type": "scatter"
           }
          ],
          "scatter3d": [
           {
            "line": {
             "colorbar": {
              "outlinewidth": 0,
              "ticks": ""
             }
            },
            "marker": {
             "colorbar": {
              "outlinewidth": 0,
              "ticks": ""
             }
            },
            "type": "scatter3d"
           }
          ],
          "scattercarpet": [
           {
            "marker": {
             "colorbar": {
              "outlinewidth": 0,
              "ticks": ""
             }
            },
            "type": "scattercarpet"
           }
          ],
          "scattergeo": [
           {
            "marker": {
             "colorbar": {
              "outlinewidth": 0,
              "ticks": ""
             }
            },
            "type": "scattergeo"
           }
          ],
          "scattergl": [
           {
            "marker": {
             "colorbar": {
              "outlinewidth": 0,
              "ticks": ""
             }
            },
            "type": "scattergl"
           }
          ],
          "scattermapbox": [
           {
            "marker": {
             "colorbar": {
              "outlinewidth": 0,
              "ticks": ""
             }
            },
            "type": "scattermapbox"
           }
          ],
          "scatterpolar": [
           {
            "marker": {
             "colorbar": {
              "outlinewidth": 0,
              "ticks": ""
             }
            },
            "type": "scatterpolar"
           }
          ],
          "scatterpolargl": [
           {
            "marker": {
             "colorbar": {
              "outlinewidth": 0,
              "ticks": ""
             }
            },
            "type": "scatterpolargl"
           }
          ],
          "scatterternary": [
           {
            "marker": {
             "colorbar": {
              "outlinewidth": 0,
              "ticks": ""
             }
            },
            "type": "scatterternary"
           }
          ],
          "surface": [
           {
            "colorbar": {
             "outlinewidth": 0,
             "ticks": ""
            },
            "colorscale": [
             [
              0,
              "#0d0887"
             ],
             [
              0.1111111111111111,
              "#46039f"
             ],
             [
              0.2222222222222222,
              "#7201a8"
             ],
             [
              0.3333333333333333,
              "#9c179e"
             ],
             [
              0.4444444444444444,
              "#bd3786"
             ],
             [
              0.5555555555555556,
              "#d8576b"
             ],
             [
              0.6666666666666666,
              "#ed7953"
             ],
             [
              0.7777777777777778,
              "#fb9f3a"
             ],
             [
              0.8888888888888888,
              "#fdca26"
             ],
             [
              1,
              "#f0f921"
             ]
            ],
            "type": "surface"
           }
          ],
          "table": [
           {
            "cells": {
             "fill": {
              "color": "#EBF0F8"
             },
             "line": {
              "color": "white"
             }
            },
            "header": {
             "fill": {
              "color": "#C8D4E3"
             },
             "line": {
              "color": "white"
             }
            },
            "type": "table"
           }
          ]
         },
         "layout": {
          "annotationdefaults": {
           "arrowcolor": "#2a3f5f",
           "arrowhead": 0,
           "arrowwidth": 1
          },
          "autotypenumbers": "strict",
          "coloraxis": {
           "colorbar": {
            "outlinewidth": 0,
            "ticks": ""
           }
          },
          "colorscale": {
           "diverging": [
            [
             0,
             "#8e0152"
            ],
            [
             0.1,
             "#c51b7d"
            ],
            [
             0.2,
             "#de77ae"
            ],
            [
             0.3,
             "#f1b6da"
            ],
            [
             0.4,
             "#fde0ef"
            ],
            [
             0.5,
             "#f7f7f7"
            ],
            [
             0.6,
             "#e6f5d0"
            ],
            [
             0.7,
             "#b8e186"
            ],
            [
             0.8,
             "#7fbc41"
            ],
            [
             0.9,
             "#4d9221"
            ],
            [
             1,
             "#276419"
            ]
           ],
           "sequential": [
            [
             0,
             "#0d0887"
            ],
            [
             0.1111111111111111,
             "#46039f"
            ],
            [
             0.2222222222222222,
             "#7201a8"
            ],
            [
             0.3333333333333333,
             "#9c179e"
            ],
            [
             0.4444444444444444,
             "#bd3786"
            ],
            [
             0.5555555555555556,
             "#d8576b"
            ],
            [
             0.6666666666666666,
             "#ed7953"
            ],
            [
             0.7777777777777778,
             "#fb9f3a"
            ],
            [
             0.8888888888888888,
             "#fdca26"
            ],
            [
             1,
             "#f0f921"
            ]
           ],
           "sequentialminus": [
            [
             0,
             "#0d0887"
            ],
            [
             0.1111111111111111,
             "#46039f"
            ],
            [
             0.2222222222222222,
             "#7201a8"
            ],
            [
             0.3333333333333333,
             "#9c179e"
            ],
            [
             0.4444444444444444,
             "#bd3786"
            ],
            [
             0.5555555555555556,
             "#d8576b"
            ],
            [
             0.6666666666666666,
             "#ed7953"
            ],
            [
             0.7777777777777778,
             "#fb9f3a"
            ],
            [
             0.8888888888888888,
             "#fdca26"
            ],
            [
             1,
             "#f0f921"
            ]
           ]
          },
          "colorway": [
           "#636efa",
           "#EF553B",
           "#00cc96",
           "#ab63fa",
           "#FFA15A",
           "#19d3f3",
           "#FF6692",
           "#B6E880",
           "#FF97FF",
           "#FECB52"
          ],
          "font": {
           "color": "#2a3f5f"
          },
          "geo": {
           "bgcolor": "white",
           "lakecolor": "white",
           "landcolor": "#E5ECF6",
           "showlakes": true,
           "showland": true,
           "subunitcolor": "white"
          },
          "hoverlabel": {
           "align": "left"
          },
          "hovermode": "closest",
          "mapbox": {
           "style": "light"
          },
          "paper_bgcolor": "white",
          "plot_bgcolor": "#E5ECF6",
          "polar": {
           "angularaxis": {
            "gridcolor": "white",
            "linecolor": "white",
            "ticks": ""
           },
           "bgcolor": "#E5ECF6",
           "radialaxis": {
            "gridcolor": "white",
            "linecolor": "white",
            "ticks": ""
           }
          },
          "scene": {
           "xaxis": {
            "backgroundcolor": "#E5ECF6",
            "gridcolor": "white",
            "gridwidth": 2,
            "linecolor": "white",
            "showbackground": true,
            "ticks": "",
            "zerolinecolor": "white"
           },
           "yaxis": {
            "backgroundcolor": "#E5ECF6",
            "gridcolor": "white",
            "gridwidth": 2,
            "linecolor": "white",
            "showbackground": true,
            "ticks": "",
            "zerolinecolor": "white"
           },
           "zaxis": {
            "backgroundcolor": "#E5ECF6",
            "gridcolor": "white",
            "gridwidth": 2,
            "linecolor": "white",
            "showbackground": true,
            "ticks": "",
            "zerolinecolor": "white"
           }
          },
          "shapedefaults": {
           "line": {
            "color": "#2a3f5f"
           }
          },
          "ternary": {
           "aaxis": {
            "gridcolor": "white",
            "linecolor": "white",
            "ticks": ""
           },
           "baxis": {
            "gridcolor": "white",
            "linecolor": "white",
            "ticks": ""
           },
           "bgcolor": "#E5ECF6",
           "caxis": {
            "gridcolor": "white",
            "linecolor": "white",
            "ticks": ""
           }
          },
          "title": {
           "x": 0.05
          },
          "xaxis": {
           "automargin": true,
           "gridcolor": "white",
           "linecolor": "white",
           "ticks": "",
           "title": {
            "standoff": 15
           },
           "zerolinecolor": "white",
           "zerolinewidth": 2
          },
          "yaxis": {
           "automargin": true,
           "gridcolor": "white",
           "linecolor": "white",
           "ticks": "",
           "title": {
            "standoff": 15
           },
           "zerolinecolor": "white",
           "zerolinewidth": 2
          }
         }
        },
        "title": {
         "text": "Histogram of Trade Gain%"
        },
        "xaxis": {
         "anchor": "y",
         "domain": [
          0,
          1
         ],
         "title": {
          "text": "Gain%"
         }
        },
        "yaxis": {
         "anchor": "x",
         "domain": [
          0,
          1
         ],
         "title": {
          "text": "Count"
         }
        }
       }
      }
     },
     "metadata": {},
     "output_type": "display_data"
    }
   ],
   "source": [
    "trades\n",
    "# histogram of the trade gain%\n",
    "\n",
    "import plotly.express as px\n",
    "import plotly.graph_objects as go\n",
    "\n",
    "fig = px.histogram(trades, x=\"Gain%\", nbins=50, title=\"Histogram of Trade Gain%\")\n",
    "fig.update_layout(\n",
    "    xaxis_title=\"Gain%\",\n",
    "    yaxis_title=\"Count\",\n",
    "    bargap=0.1\n",
    ")\n",
    "fig.show()"
   ]
  },
  {
   "cell_type": "code",
   "execution_count": 61,
   "metadata": {},
   "outputs": [
    {
     "data": {
      "text/plain": [
       "count     251.00\n",
       "unique     94.00\n",
       "top         0.16\n",
       "freq       10.00\n",
       "Name: Gain%, dtype: float64"
      ]
     },
     "execution_count": 61,
     "metadata": {},
     "output_type": "execute_result"
    }
   ],
   "source": [
    "trades[\"Gain%\"].describe()"
   ]
  },
  {
   "cell_type": "code",
   "execution_count": 26,
   "metadata": {},
   "outputs": [
    {
     "data": {
      "application/vnd.plotly.v1+json": {
       "config": {
        "plotlyServerURL": "https://plot.ly"
       },
       "data": [
        {
         "alignmentgroup": "True",
         "bingroup": "x",
         "hovertemplate": "TimeEnter=%{x}<br>count=%{y}<extra></extra>",
         "legendgroup": "",
         "marker": {
          "color": "#636efa",
          "pattern": {
           "shape": ""
          }
         },
         "name": "",
         "nbinsx": 50,
         "offsetgroup": "",
         "orientation": "v",
         "showlegend": false,
         "type": "histogram",
         "x": [
          "11:38:00",
          "09:41:00",
          "10:26:00",
          "10:13:00",
          "10:14:00",
          "09:33:00",
          "09:36:00",
          "09:30:00",
          "09:34:00",
          "10:29:00",
          "09:35:00",
          "10:31:00",
          "10:39:00",
          "09:50:00",
          "09:32:00",
          "10:21:00",
          "10:13:00",
          "10:39:00",
          "11:57:00",
          "10:01:00",
          "12:00:00",
          "09:30:00",
          "09:31:00",
          "09:44:00",
          "10:02:00",
          "09:52:00",
          "09:38:00",
          "09:42:00",
          "09:34:00",
          "10:39:00",
          "09:32:00",
          "09:30:00",
          "09:49:00",
          "10:59:00",
          "10:02:00",
          "09:39:00",
          "09:45:00",
          "09:34:00",
          "11:36:00",
          "11:21:00",
          "10:28:00",
          "09:56:00",
          "10:01:00",
          "10:25:00",
          "10:28:00",
          "09:53:00",
          "09:30:00",
          "09:56:00",
          "09:39:00",
          "11:14:00",
          "10:20:00",
          "09:43:00",
          "10:33:00",
          "10:09:00",
          "10:18:00",
          "09:56:00",
          "11:11:00",
          "09:36:00",
          "09:36:00",
          "09:56:00",
          "09:48:00",
          "09:31:00",
          "10:49:00",
          "09:51:00",
          "09:32:00",
          "10:13:00",
          "09:33:00",
          "09:43:00",
          "09:38:00",
          "09:48:00",
          "10:36:00",
          "09:54:00",
          "11:13:00",
          "10:44:00",
          "10:39:00",
          "09:55:00",
          "09:40:00",
          "11:36:00",
          "10:08:00",
          "09:30:00",
          "09:57:00",
          "10:22:00",
          "10:26:00",
          "11:50:00",
          "09:35:00",
          "09:36:00",
          "10:57:00",
          "10:17:00",
          "11:04:00",
          "10:36:00",
          "09:42:00",
          "10:03:00",
          "11:28:00",
          "09:33:00",
          "09:57:00",
          "13:00:00",
          "09:57:00",
          "09:56:00",
          "10:20:00",
          "10:12:00",
          "09:47:00",
          "09:34:00",
          "09:38:00",
          "10:16:00",
          "10:49:00",
          "09:36:00",
          "11:28:00",
          "10:15:00",
          "09:44:00",
          "09:32:00",
          "09:51:00",
          "09:32:00",
          "12:08:00",
          "09:59:00",
          "10:11:00",
          "09:53:00",
          "10:19:00",
          "10:16:00",
          "09:35:00",
          "11:22:00",
          "09:43:00",
          "09:31:00",
          "10:25:00",
          "10:36:00",
          "09:40:00",
          "12:39:00",
          "11:04:00",
          "09:33:00",
          "10:12:00",
          "09:36:00",
          "09:32:00",
          "09:32:00",
          "09:30:00",
          "10:48:00",
          "10:12:00",
          "10:47:00",
          "09:31:00",
          "11:34:00",
          "10:01:00",
          "09:56:00",
          "10:06:00",
          "09:47:00",
          "10:28:00",
          "11:00:00",
          "10:38:00",
          "10:04:00",
          "09:33:00",
          "10:16:00",
          "09:52:00",
          "10:58:00",
          "09:35:00",
          "09:33:00",
          "09:54:00",
          "09:39:00",
          "09:31:00",
          "09:30:00",
          "10:01:00",
          "09:43:00",
          "11:17:00",
          "09:31:00",
          "09:57:00",
          "10:15:00",
          "09:49:00",
          "09:43:00",
          "11:14:00",
          "09:31:00",
          "09:59:00",
          "09:38:00",
          "10:02:00",
          "09:57:00",
          "09:40:00",
          "10:15:00",
          "09:47:00",
          "10:45:00",
          "09:32:00",
          "09:31:00",
          "09:32:00",
          "13:11:00",
          "09:43:00",
          "09:31:00",
          "09:39:00",
          "10:48:00",
          "09:31:00",
          "10:33:00",
          "11:12:00",
          "09:32:00",
          "10:48:00",
          "10:49:00",
          "09:30:00",
          "12:03:00",
          "09:39:00",
          "10:17:00",
          "10:38:00",
          "09:30:00",
          "10:55:00",
          "10:25:00",
          "10:33:00",
          "12:22:00",
          "15:01:00",
          "10:38:00",
          "10:01:00",
          "09:34:00",
          "09:51:00",
          "10:40:00",
          "10:46:00",
          "09:30:00",
          "12:09:00",
          "09:31:00",
          "10:26:00",
          "09:38:00",
          "09:34:00",
          "09:56:00",
          "09:44:00",
          "09:56:00",
          "09:32:00",
          "10:51:00",
          "09:32:00",
          "11:10:00",
          "09:49:00",
          "10:04:00",
          "09:46:00",
          "10:02:00",
          "09:53:00",
          "09:33:00",
          "11:44:00",
          "09:45:00",
          "10:27:00",
          "10:39:00",
          "10:48:00",
          "10:31:00",
          "10:52:00",
          "09:42:00",
          "09:45:00",
          "09:41:00",
          "09:57:00",
          "10:42:00",
          "09:52:00",
          "10:31:00",
          "10:19:00",
          "09:51:00",
          "09:39:00",
          "09:49:00",
          "10:14:00",
          "09:34:00",
          "09:44:00",
          "09:30:00",
          "10:26:00",
          "09:59:00",
          "09:41:00",
          "10:17:00",
          "09:43:00"
         ],
         "xaxis": "x",
         "yaxis": "y"
        }
       ],
       "layout": {
        "bargap": 0.1,
        "barmode": "relative",
        "legend": {
         "tracegroupgap": 0
        },
        "template": {
         "data": {
          "bar": [
           {
            "error_x": {
             "color": "#2a3f5f"
            },
            "error_y": {
             "color": "#2a3f5f"
            },
            "marker": {
             "line": {
              "color": "#E5ECF6",
              "width": 0.5
             },
             "pattern": {
              "fillmode": "overlay",
              "size": 10,
              "solidity": 0.2
             }
            },
            "type": "bar"
           }
          ],
          "barpolar": [
           {
            "marker": {
             "line": {
              "color": "#E5ECF6",
              "width": 0.5
             },
             "pattern": {
              "fillmode": "overlay",
              "size": 10,
              "solidity": 0.2
             }
            },
            "type": "barpolar"
           }
          ],
          "carpet": [
           {
            "aaxis": {
             "endlinecolor": "#2a3f5f",
             "gridcolor": "white",
             "linecolor": "white",
             "minorgridcolor": "white",
             "startlinecolor": "#2a3f5f"
            },
            "baxis": {
             "endlinecolor": "#2a3f5f",
             "gridcolor": "white",
             "linecolor": "white",
             "minorgridcolor": "white",
             "startlinecolor": "#2a3f5f"
            },
            "type": "carpet"
           }
          ],
          "choropleth": [
           {
            "colorbar": {
             "outlinewidth": 0,
             "ticks": ""
            },
            "type": "choropleth"
           }
          ],
          "contour": [
           {
            "colorbar": {
             "outlinewidth": 0,
             "ticks": ""
            },
            "colorscale": [
             [
              0,
              "#0d0887"
             ],
             [
              0.1111111111111111,
              "#46039f"
             ],
             [
              0.2222222222222222,
              "#7201a8"
             ],
             [
              0.3333333333333333,
              "#9c179e"
             ],
             [
              0.4444444444444444,
              "#bd3786"
             ],
             [
              0.5555555555555556,
              "#d8576b"
             ],
             [
              0.6666666666666666,
              "#ed7953"
             ],
             [
              0.7777777777777778,
              "#fb9f3a"
             ],
             [
              0.8888888888888888,
              "#fdca26"
             ],
             [
              1,
              "#f0f921"
             ]
            ],
            "type": "contour"
           }
          ],
          "contourcarpet": [
           {
            "colorbar": {
             "outlinewidth": 0,
             "ticks": ""
            },
            "type": "contourcarpet"
           }
          ],
          "heatmap": [
           {
            "colorbar": {
             "outlinewidth": 0,
             "ticks": ""
            },
            "colorscale": [
             [
              0,
              "#0d0887"
             ],
             [
              0.1111111111111111,
              "#46039f"
             ],
             [
              0.2222222222222222,
              "#7201a8"
             ],
             [
              0.3333333333333333,
              "#9c179e"
             ],
             [
              0.4444444444444444,
              "#bd3786"
             ],
             [
              0.5555555555555556,
              "#d8576b"
             ],
             [
              0.6666666666666666,
              "#ed7953"
             ],
             [
              0.7777777777777778,
              "#fb9f3a"
             ],
             [
              0.8888888888888888,
              "#fdca26"
             ],
             [
              1,
              "#f0f921"
             ]
            ],
            "type": "heatmap"
           }
          ],
          "heatmapgl": [
           {
            "colorbar": {
             "outlinewidth": 0,
             "ticks": ""
            },
            "colorscale": [
             [
              0,
              "#0d0887"
             ],
             [
              0.1111111111111111,
              "#46039f"
             ],
             [
              0.2222222222222222,
              "#7201a8"
             ],
             [
              0.3333333333333333,
              "#9c179e"
             ],
             [
              0.4444444444444444,
              "#bd3786"
             ],
             [
              0.5555555555555556,
              "#d8576b"
             ],
             [
              0.6666666666666666,
              "#ed7953"
             ],
             [
              0.7777777777777778,
              "#fb9f3a"
             ],
             [
              0.8888888888888888,
              "#fdca26"
             ],
             [
              1,
              "#f0f921"
             ]
            ],
            "type": "heatmapgl"
           }
          ],
          "histogram": [
           {
            "marker": {
             "pattern": {
              "fillmode": "overlay",
              "size": 10,
              "solidity": 0.2
             }
            },
            "type": "histogram"
           }
          ],
          "histogram2d": [
           {
            "colorbar": {
             "outlinewidth": 0,
             "ticks": ""
            },
            "colorscale": [
             [
              0,
              "#0d0887"
             ],
             [
              0.1111111111111111,
              "#46039f"
             ],
             [
              0.2222222222222222,
              "#7201a8"
             ],
             [
              0.3333333333333333,
              "#9c179e"
             ],
             [
              0.4444444444444444,
              "#bd3786"
             ],
             [
              0.5555555555555556,
              "#d8576b"
             ],
             [
              0.6666666666666666,
              "#ed7953"
             ],
             [
              0.7777777777777778,
              "#fb9f3a"
             ],
             [
              0.8888888888888888,
              "#fdca26"
             ],
             [
              1,
              "#f0f921"
             ]
            ],
            "type": "histogram2d"
           }
          ],
          "histogram2dcontour": [
           {
            "colorbar": {
             "outlinewidth": 0,
             "ticks": ""
            },
            "colorscale": [
             [
              0,
              "#0d0887"
             ],
             [
              0.1111111111111111,
              "#46039f"
             ],
             [
              0.2222222222222222,
              "#7201a8"
             ],
             [
              0.3333333333333333,
              "#9c179e"
             ],
             [
              0.4444444444444444,
              "#bd3786"
             ],
             [
              0.5555555555555556,
              "#d8576b"
             ],
             [
              0.6666666666666666,
              "#ed7953"
             ],
             [
              0.7777777777777778,
              "#fb9f3a"
             ],
             [
              0.8888888888888888,
              "#fdca26"
             ],
             [
              1,
              "#f0f921"
             ]
            ],
            "type": "histogram2dcontour"
           }
          ],
          "mesh3d": [
           {
            "colorbar": {
             "outlinewidth": 0,
             "ticks": ""
            },
            "type": "mesh3d"
           }
          ],
          "parcoords": [
           {
            "line": {
             "colorbar": {
              "outlinewidth": 0,
              "ticks": ""
             }
            },
            "type": "parcoords"
           }
          ],
          "pie": [
           {
            "automargin": true,
            "type": "pie"
           }
          ],
          "scatter": [
           {
            "fillpattern": {
             "fillmode": "overlay",
             "size": 10,
             "solidity": 0.2
            },
            "type": "scatter"
           }
          ],
          "scatter3d": [
           {
            "line": {
             "colorbar": {
              "outlinewidth": 0,
              "ticks": ""
             }
            },
            "marker": {
             "colorbar": {
              "outlinewidth": 0,
              "ticks": ""
             }
            },
            "type": "scatter3d"
           }
          ],
          "scattercarpet": [
           {
            "marker": {
             "colorbar": {
              "outlinewidth": 0,
              "ticks": ""
             }
            },
            "type": "scattercarpet"
           }
          ],
          "scattergeo": [
           {
            "marker": {
             "colorbar": {
              "outlinewidth": 0,
              "ticks": ""
             }
            },
            "type": "scattergeo"
           }
          ],
          "scattergl": [
           {
            "marker": {
             "colorbar": {
              "outlinewidth": 0,
              "ticks": ""
             }
            },
            "type": "scattergl"
           }
          ],
          "scattermapbox": [
           {
            "marker": {
             "colorbar": {
              "outlinewidth": 0,
              "ticks": ""
             }
            },
            "type": "scattermapbox"
           }
          ],
          "scatterpolar": [
           {
            "marker": {
             "colorbar": {
              "outlinewidth": 0,
              "ticks": ""
             }
            },
            "type": "scatterpolar"
           }
          ],
          "scatterpolargl": [
           {
            "marker": {
             "colorbar": {
              "outlinewidth": 0,
              "ticks": ""
             }
            },
            "type": "scatterpolargl"
           }
          ],
          "scatterternary": [
           {
            "marker": {
             "colorbar": {
              "outlinewidth": 0,
              "ticks": ""
             }
            },
            "type": "scatterternary"
           }
          ],
          "surface": [
           {
            "colorbar": {
             "outlinewidth": 0,
             "ticks": ""
            },
            "colorscale": [
             [
              0,
              "#0d0887"
             ],
             [
              0.1111111111111111,
              "#46039f"
             ],
             [
              0.2222222222222222,
              "#7201a8"
             ],
             [
              0.3333333333333333,
              "#9c179e"
             ],
             [
              0.4444444444444444,
              "#bd3786"
             ],
             [
              0.5555555555555556,
              "#d8576b"
             ],
             [
              0.6666666666666666,
              "#ed7953"
             ],
             [
              0.7777777777777778,
              "#fb9f3a"
             ],
             [
              0.8888888888888888,
              "#fdca26"
             ],
             [
              1,
              "#f0f921"
             ]
            ],
            "type": "surface"
           }
          ],
          "table": [
           {
            "cells": {
             "fill": {
              "color": "#EBF0F8"
             },
             "line": {
              "color": "white"
             }
            },
            "header": {
             "fill": {
              "color": "#C8D4E3"
             },
             "line": {
              "color": "white"
             }
            },
            "type": "table"
           }
          ]
         },
         "layout": {
          "annotationdefaults": {
           "arrowcolor": "#2a3f5f",
           "arrowhead": 0,
           "arrowwidth": 1
          },
          "autotypenumbers": "strict",
          "coloraxis": {
           "colorbar": {
            "outlinewidth": 0,
            "ticks": ""
           }
          },
          "colorscale": {
           "diverging": [
            [
             0,
             "#8e0152"
            ],
            [
             0.1,
             "#c51b7d"
            ],
            [
             0.2,
             "#de77ae"
            ],
            [
             0.3,
             "#f1b6da"
            ],
            [
             0.4,
             "#fde0ef"
            ],
            [
             0.5,
             "#f7f7f7"
            ],
            [
             0.6,
             "#e6f5d0"
            ],
            [
             0.7,
             "#b8e186"
            ],
            [
             0.8,
             "#7fbc41"
            ],
            [
             0.9,
             "#4d9221"
            ],
            [
             1,
             "#276419"
            ]
           ],
           "sequential": [
            [
             0,
             "#0d0887"
            ],
            [
             0.1111111111111111,
             "#46039f"
            ],
            [
             0.2222222222222222,
             "#7201a8"
            ],
            [
             0.3333333333333333,
             "#9c179e"
            ],
            [
             0.4444444444444444,
             "#bd3786"
            ],
            [
             0.5555555555555556,
             "#d8576b"
            ],
            [
             0.6666666666666666,
             "#ed7953"
            ],
            [
             0.7777777777777778,
             "#fb9f3a"
            ],
            [
             0.8888888888888888,
             "#fdca26"
            ],
            [
             1,
             "#f0f921"
            ]
           ],
           "sequentialminus": [
            [
             0,
             "#0d0887"
            ],
            [
             0.1111111111111111,
             "#46039f"
            ],
            [
             0.2222222222222222,
             "#7201a8"
            ],
            [
             0.3333333333333333,
             "#9c179e"
            ],
            [
             0.4444444444444444,
             "#bd3786"
            ],
            [
             0.5555555555555556,
             "#d8576b"
            ],
            [
             0.6666666666666666,
             "#ed7953"
            ],
            [
             0.7777777777777778,
             "#fb9f3a"
            ],
            [
             0.8888888888888888,
             "#fdca26"
            ],
            [
             1,
             "#f0f921"
            ]
           ]
          },
          "colorway": [
           "#636efa",
           "#EF553B",
           "#00cc96",
           "#ab63fa",
           "#FFA15A",
           "#19d3f3",
           "#FF6692",
           "#B6E880",
           "#FF97FF",
           "#FECB52"
          ],
          "font": {
           "color": "#2a3f5f"
          },
          "geo": {
           "bgcolor": "white",
           "lakecolor": "white",
           "landcolor": "#E5ECF6",
           "showlakes": true,
           "showland": true,
           "subunitcolor": "white"
          },
          "hoverlabel": {
           "align": "left"
          },
          "hovermode": "closest",
          "mapbox": {
           "style": "light"
          },
          "paper_bgcolor": "white",
          "plot_bgcolor": "#E5ECF6",
          "polar": {
           "angularaxis": {
            "gridcolor": "white",
            "linecolor": "white",
            "ticks": ""
           },
           "bgcolor": "#E5ECF6",
           "radialaxis": {
            "gridcolor": "white",
            "linecolor": "white",
            "ticks": ""
           }
          },
          "scene": {
           "xaxis": {
            "backgroundcolor": "#E5ECF6",
            "gridcolor": "white",
            "gridwidth": 2,
            "linecolor": "white",
            "showbackground": true,
            "ticks": "",
            "zerolinecolor": "white"
           },
           "yaxis": {
            "backgroundcolor": "#E5ECF6",
            "gridcolor": "white",
            "gridwidth": 2,
            "linecolor": "white",
            "showbackground": true,
            "ticks": "",
            "zerolinecolor": "white"
           },
           "zaxis": {
            "backgroundcolor": "#E5ECF6",
            "gridcolor": "white",
            "gridwidth": 2,
            "linecolor": "white",
            "showbackground": true,
            "ticks": "",
            "zerolinecolor": "white"
           }
          },
          "shapedefaults": {
           "line": {
            "color": "#2a3f5f"
           }
          },
          "ternary": {
           "aaxis": {
            "gridcolor": "white",
            "linecolor": "white",
            "ticks": ""
           },
           "baxis": {
            "gridcolor": "white",
            "linecolor": "white",
            "ticks": ""
           },
           "bgcolor": "#E5ECF6",
           "caxis": {
            "gridcolor": "white",
            "linecolor": "white",
            "ticks": ""
           }
          },
          "title": {
           "x": 0.05
          },
          "xaxis": {
           "automargin": true,
           "gridcolor": "white",
           "linecolor": "white",
           "ticks": "",
           "title": {
            "standoff": 15
           },
           "zerolinecolor": "white",
           "zerolinewidth": 2
          },
          "yaxis": {
           "automargin": true,
           "gridcolor": "white",
           "linecolor": "white",
           "ticks": "",
           "title": {
            "standoff": 15
           },
           "zerolinecolor": "white",
           "zerolinewidth": 2
          }
         }
        },
        "title": {
         "text": "Histogram of Time to Enter Trade"
        },
        "xaxis": {
         "anchor": "y",
         "domain": [
          0,
          1
         ],
         "title": {
          "text": "Time"
         }
        },
        "yaxis": {
         "anchor": "x",
         "domain": [
          0,
          1
         ],
         "title": {
          "text": "Count"
         }
        }
       }
      }
     },
     "metadata": {},
     "output_type": "display_data"
    }
   ],
   "source": [
    "fig = px.histogram(trades, x=\"TimeEnter\", nbins=50, title=\"Histogram of Time to Enter Trade\")\n",
    "fig.update_layout(\n",
    "    xaxis_title=\"Time\",\n",
    "    yaxis_title=\"Count\",\n",
    "    bargap=0.1\n",
    ")\n",
    "fig.show()"
   ]
  },
  {
   "cell_type": "code",
   "execution_count": 27,
   "metadata": {},
   "outputs": [
    {
     "data": {
      "application/vnd.plotly.v1+json": {
       "config": {
        "plotlyServerURL": "https://plot.ly"
       },
       "data": [
        {
         "hovertemplate": "TimeEnter=%{x}<br>Gain%=%{y}<extra></extra>",
         "legendgroup": "",
         "marker": {
          "color": "#636efa",
          "symbol": "circle"
         },
         "mode": "markers",
         "name": "",
         "orientation": "v",
         "showlegend": false,
         "type": "scatter",
         "x": [
          "11:38:00",
          "09:41:00",
          "10:26:00",
          "10:13:00",
          "10:14:00",
          "09:33:00",
          "09:36:00",
          "09:30:00",
          "09:34:00",
          "10:29:00",
          "09:35:00",
          "10:31:00",
          "10:39:00",
          "09:50:00",
          "09:32:00",
          "10:21:00",
          "10:13:00",
          "10:39:00",
          "11:57:00",
          "10:01:00",
          "12:00:00",
          "09:30:00",
          "09:31:00",
          "09:44:00",
          "10:02:00",
          "09:52:00",
          "09:38:00",
          "09:42:00",
          "09:34:00",
          "10:39:00",
          "09:32:00",
          "09:30:00",
          "09:49:00",
          "10:59:00",
          "10:02:00",
          "09:39:00",
          "09:45:00",
          "09:34:00",
          "11:36:00",
          "11:21:00",
          "10:28:00",
          "09:56:00",
          "10:01:00",
          "10:25:00",
          "10:28:00",
          "09:53:00",
          "09:30:00",
          "09:56:00",
          "09:39:00",
          "11:14:00",
          "10:20:00",
          "09:43:00",
          "10:33:00",
          "10:09:00",
          "10:18:00",
          "09:56:00",
          "11:11:00",
          "09:36:00",
          "09:36:00",
          "09:56:00",
          "09:48:00",
          "09:31:00",
          "10:49:00",
          "09:51:00",
          "09:32:00",
          "10:13:00",
          "09:33:00",
          "09:43:00",
          "09:38:00",
          "09:48:00",
          "10:36:00",
          "09:54:00",
          "11:13:00",
          "10:44:00",
          "10:39:00",
          "09:55:00",
          "09:40:00",
          "11:36:00",
          "10:08:00",
          "09:30:00",
          "09:57:00",
          "10:22:00",
          "10:26:00",
          "11:50:00",
          "09:35:00",
          "09:36:00",
          "10:57:00",
          "10:17:00",
          "11:04:00",
          "10:36:00",
          "09:42:00",
          "10:03:00",
          "11:28:00",
          "09:33:00",
          "09:57:00",
          "13:00:00",
          "09:57:00",
          "09:56:00",
          "10:20:00",
          "10:12:00",
          "09:47:00",
          "09:34:00",
          "09:38:00",
          "10:16:00",
          "10:49:00",
          "09:36:00",
          "11:28:00",
          "10:15:00",
          "09:44:00",
          "09:32:00",
          "09:51:00",
          "09:32:00",
          "12:08:00",
          "09:59:00",
          "10:11:00",
          "09:53:00",
          "10:19:00",
          "10:16:00",
          "09:35:00",
          "11:22:00",
          "09:43:00",
          "09:31:00",
          "10:25:00",
          "10:36:00",
          "09:40:00",
          "12:39:00",
          "11:04:00",
          "09:33:00",
          "10:12:00",
          "09:36:00",
          "09:32:00",
          "09:32:00",
          "09:30:00",
          "10:48:00",
          "10:12:00",
          "10:47:00",
          "09:31:00",
          "11:34:00",
          "10:01:00",
          "09:56:00",
          "10:06:00",
          "09:47:00",
          "10:28:00",
          "11:00:00",
          "10:38:00",
          "10:04:00",
          "09:33:00",
          "10:16:00",
          "09:52:00",
          "10:58:00",
          "09:35:00",
          "09:33:00",
          "09:54:00",
          "09:39:00",
          "09:31:00",
          "09:30:00",
          "10:01:00",
          "09:43:00",
          "11:17:00",
          "09:31:00",
          "09:57:00",
          "10:15:00",
          "09:49:00",
          "09:43:00",
          "11:14:00",
          "09:31:00",
          "09:59:00",
          "09:38:00",
          "10:02:00",
          "09:57:00",
          "09:40:00",
          "10:15:00",
          "09:47:00",
          "10:45:00",
          "09:32:00",
          "09:31:00",
          "09:32:00",
          "13:11:00",
          "09:43:00",
          "09:31:00",
          "09:39:00",
          "10:48:00",
          "09:31:00",
          "10:33:00",
          "11:12:00",
          "09:32:00",
          "10:48:00",
          "10:49:00",
          "09:30:00",
          "12:03:00",
          "09:39:00",
          "10:17:00",
          "10:38:00",
          "09:30:00",
          "10:55:00",
          "10:25:00",
          "10:33:00",
          "12:22:00",
          "15:01:00",
          "10:38:00",
          "10:01:00",
          "09:34:00",
          "09:51:00",
          "10:40:00",
          "10:46:00",
          "09:30:00",
          "12:09:00",
          "09:31:00",
          "10:26:00",
          "09:38:00",
          "09:34:00",
          "09:56:00",
          "09:44:00",
          "09:56:00",
          "09:32:00",
          "10:51:00",
          "09:32:00",
          "11:10:00",
          "09:49:00",
          "10:04:00",
          "09:46:00",
          "10:02:00",
          "09:53:00",
          "09:33:00",
          "11:44:00",
          "09:45:00",
          "10:27:00",
          "10:39:00",
          "10:48:00",
          "10:31:00",
          "10:52:00",
          "09:42:00",
          "09:45:00",
          "09:41:00",
          "09:57:00",
          "10:42:00",
          "09:52:00",
          "10:31:00",
          "10:19:00",
          "09:51:00",
          "09:39:00",
          "09:49:00",
          "10:14:00",
          "09:34:00",
          "09:44:00",
          "09:30:00",
          "10:26:00",
          "09:59:00",
          "09:41:00",
          "10:17:00",
          "09:43:00"
         ],
         "xaxis": "x",
         "y": [
          -0.14,
          0.18,
          0.04,
          -0.07,
          -0.01,
          -0.49,
          -0.43,
          -0.09,
          0.2,
          0.79,
          -2.15,
          -0.17,
          -0.58,
          0.39,
          0.28,
          -0.41,
          0.11,
          0.17,
          -0.42,
          0.4,
          0.14,
          -0.16,
          -0.45,
          -0.24,
          0.46,
          0.51,
          0.27,
          0.21,
          0.31,
          0.38,
          0.1,
          0.1,
          0.34,
          0.16,
          0.35,
          -0.55,
          0.16,
          -0.27,
          -0.37,
          -0.02,
          -0.11,
          0.15,
          0.05,
          0.08,
          0.21,
          -0.38,
          -0.48,
          0.28,
          0.29,
          0.07,
          0.19,
          0.16,
          0.07,
          0.18,
          -0.52,
          0.14,
          -0.04,
          0.2,
          -0.54,
          0.81,
          0.2,
          0.23,
          -0.16,
          0.3,
          -0.7,
          0.48,
          -0.24,
          -0.03,
          0.27,
          0.44,
          0,
          0.41,
          0.07,
          -0.06,
          -0.08,
          -0.38,
          0.04,
          0.01,
          0.17,
          -0.22,
          0.28,
          0,
          -0.28,
          0.08,
          0.15,
          0.16,
          0.3,
          -0.09,
          0.14,
          -0.49,
          -0.54,
          0.55,
          0.14,
          0.47,
          0.24,
          -0.05,
          0.22,
          -0.17,
          0.12,
          -0.39,
          -0.01,
          0.13,
          0.19,
          0.24,
          0.11,
          0.14,
          -0.01,
          0.38,
          0.11,
          0.08,
          0.41,
          -0.36,
          -0.1,
          -0.35,
          0.14,
          0.35,
          0.25,
          -0.16,
          0.05,
          -0.34,
          0.29,
          -0.02,
          -0.17,
          -0.07,
          -0.2,
          -0.11,
          0,
          -0.09,
          0.08,
          -0.11,
          0.17,
          -0.12,
          -0.3,
          0.08,
          -0.15,
          -0.22,
          0.08,
          0.05,
          0.17,
          -0.15,
          -0.23,
          0.06,
          0.14,
          0.16,
          0.16,
          0.15,
          -0.29,
          -0.28,
          -0.38,
          0.04,
          -0.07,
          0.16,
          0.33,
          -0.26,
          -0.37,
          -0.18,
          -0.06,
          -0.14,
          -0.11,
          0.05,
          -0.12,
          0.1,
          -0.23,
          0,
          0.11,
          -0.16,
          -0.17,
          0.13,
          0.2,
          -0.12,
          0.04,
          -0.15,
          0.19,
          0.03,
          -0.12,
          0.26,
          0.1,
          0.1,
          0,
          -0.14,
          -0.19,
          0.15,
          0.15,
          -0.03,
          0.15,
          0.17,
          0.16,
          0.15,
          0.17,
          -0.03,
          -0.29,
          0,
          0.01,
          0,
          -0.04,
          0.07,
          -0.02,
          -0.02,
          0.16,
          -0.03,
          -0.05,
          -0.2,
          -0.14,
          0.02,
          0.03,
          -0.11,
          0.08,
          -0.08,
          0.09,
          -0.2,
          0.08,
          -0.03,
          0.1,
          -0.1,
          -0.28,
          0,
          0.26,
          0.15,
          -0.27,
          0.11,
          -0.03,
          0.12,
          0.14,
          -0.27,
          0.09,
          0.24,
          -0.02,
          -0.06,
          0.07,
          0.27,
          -0.12,
          -0.1,
          0.05,
          -0.25,
          -0.11,
          0.06,
          0.07,
          -0.02,
          0.2,
          0.06,
          -0.13,
          0.14,
          -0.17,
          0.09,
          0,
          0.18,
          -0.05,
          -0.37,
          -0.1,
          0.11,
          0.16
         ],
         "yaxis": "y"
        }
       ],
       "layout": {
        "bargap": 0.1,
        "legend": {
         "tracegroupgap": 0
        },
        "template": {
         "data": {
          "bar": [
           {
            "error_x": {
             "color": "#2a3f5f"
            },
            "error_y": {
             "color": "#2a3f5f"
            },
            "marker": {
             "line": {
              "color": "#E5ECF6",
              "width": 0.5
             },
             "pattern": {
              "fillmode": "overlay",
              "size": 10,
              "solidity": 0.2
             }
            },
            "type": "bar"
           }
          ],
          "barpolar": [
           {
            "marker": {
             "line": {
              "color": "#E5ECF6",
              "width": 0.5
             },
             "pattern": {
              "fillmode": "overlay",
              "size": 10,
              "solidity": 0.2
             }
            },
            "type": "barpolar"
           }
          ],
          "carpet": [
           {
            "aaxis": {
             "endlinecolor": "#2a3f5f",
             "gridcolor": "white",
             "linecolor": "white",
             "minorgridcolor": "white",
             "startlinecolor": "#2a3f5f"
            },
            "baxis": {
             "endlinecolor": "#2a3f5f",
             "gridcolor": "white",
             "linecolor": "white",
             "minorgridcolor": "white",
             "startlinecolor": "#2a3f5f"
            },
            "type": "carpet"
           }
          ],
          "choropleth": [
           {
            "colorbar": {
             "outlinewidth": 0,
             "ticks": ""
            },
            "type": "choropleth"
           }
          ],
          "contour": [
           {
            "colorbar": {
             "outlinewidth": 0,
             "ticks": ""
            },
            "colorscale": [
             [
              0,
              "#0d0887"
             ],
             [
              0.1111111111111111,
              "#46039f"
             ],
             [
              0.2222222222222222,
              "#7201a8"
             ],
             [
              0.3333333333333333,
              "#9c179e"
             ],
             [
              0.4444444444444444,
              "#bd3786"
             ],
             [
              0.5555555555555556,
              "#d8576b"
             ],
             [
              0.6666666666666666,
              "#ed7953"
             ],
             [
              0.7777777777777778,
              "#fb9f3a"
             ],
             [
              0.8888888888888888,
              "#fdca26"
             ],
             [
              1,
              "#f0f921"
             ]
            ],
            "type": "contour"
           }
          ],
          "contourcarpet": [
           {
            "colorbar": {
             "outlinewidth": 0,
             "ticks": ""
            },
            "type": "contourcarpet"
           }
          ],
          "heatmap": [
           {
            "colorbar": {
             "outlinewidth": 0,
             "ticks": ""
            },
            "colorscale": [
             [
              0,
              "#0d0887"
             ],
             [
              0.1111111111111111,
              "#46039f"
             ],
             [
              0.2222222222222222,
              "#7201a8"
             ],
             [
              0.3333333333333333,
              "#9c179e"
             ],
             [
              0.4444444444444444,
              "#bd3786"
             ],
             [
              0.5555555555555556,
              "#d8576b"
             ],
             [
              0.6666666666666666,
              "#ed7953"
             ],
             [
              0.7777777777777778,
              "#fb9f3a"
             ],
             [
              0.8888888888888888,
              "#fdca26"
             ],
             [
              1,
              "#f0f921"
             ]
            ],
            "type": "heatmap"
           }
          ],
          "heatmapgl": [
           {
            "colorbar": {
             "outlinewidth": 0,
             "ticks": ""
            },
            "colorscale": [
             [
              0,
              "#0d0887"
             ],
             [
              0.1111111111111111,
              "#46039f"
             ],
             [
              0.2222222222222222,
              "#7201a8"
             ],
             [
              0.3333333333333333,
              "#9c179e"
             ],
             [
              0.4444444444444444,
              "#bd3786"
             ],
             [
              0.5555555555555556,
              "#d8576b"
             ],
             [
              0.6666666666666666,
              "#ed7953"
             ],
             [
              0.7777777777777778,
              "#fb9f3a"
             ],
             [
              0.8888888888888888,
              "#fdca26"
             ],
             [
              1,
              "#f0f921"
             ]
            ],
            "type": "heatmapgl"
           }
          ],
          "histogram": [
           {
            "marker": {
             "pattern": {
              "fillmode": "overlay",
              "size": 10,
              "solidity": 0.2
             }
            },
            "type": "histogram"
           }
          ],
          "histogram2d": [
           {
            "colorbar": {
             "outlinewidth": 0,
             "ticks": ""
            },
            "colorscale": [
             [
              0,
              "#0d0887"
             ],
             [
              0.1111111111111111,
              "#46039f"
             ],
             [
              0.2222222222222222,
              "#7201a8"
             ],
             [
              0.3333333333333333,
              "#9c179e"
             ],
             [
              0.4444444444444444,
              "#bd3786"
             ],
             [
              0.5555555555555556,
              "#d8576b"
             ],
             [
              0.6666666666666666,
              "#ed7953"
             ],
             [
              0.7777777777777778,
              "#fb9f3a"
             ],
             [
              0.8888888888888888,
              "#fdca26"
             ],
             [
              1,
              "#f0f921"
             ]
            ],
            "type": "histogram2d"
           }
          ],
          "histogram2dcontour": [
           {
            "colorbar": {
             "outlinewidth": 0,
             "ticks": ""
            },
            "colorscale": [
             [
              0,
              "#0d0887"
             ],
             [
              0.1111111111111111,
              "#46039f"
             ],
             [
              0.2222222222222222,
              "#7201a8"
             ],
             [
              0.3333333333333333,
              "#9c179e"
             ],
             [
              0.4444444444444444,
              "#bd3786"
             ],
             [
              0.5555555555555556,
              "#d8576b"
             ],
             [
              0.6666666666666666,
              "#ed7953"
             ],
             [
              0.7777777777777778,
              "#fb9f3a"
             ],
             [
              0.8888888888888888,
              "#fdca26"
             ],
             [
              1,
              "#f0f921"
             ]
            ],
            "type": "histogram2dcontour"
           }
          ],
          "mesh3d": [
           {
            "colorbar": {
             "outlinewidth": 0,
             "ticks": ""
            },
            "type": "mesh3d"
           }
          ],
          "parcoords": [
           {
            "line": {
             "colorbar": {
              "outlinewidth": 0,
              "ticks": ""
             }
            },
            "type": "parcoords"
           }
          ],
          "pie": [
           {
            "automargin": true,
            "type": "pie"
           }
          ],
          "scatter": [
           {
            "fillpattern": {
             "fillmode": "overlay",
             "size": 10,
             "solidity": 0.2
            },
            "type": "scatter"
           }
          ],
          "scatter3d": [
           {
            "line": {
             "colorbar": {
              "outlinewidth": 0,
              "ticks": ""
             }
            },
            "marker": {
             "colorbar": {
              "outlinewidth": 0,
              "ticks": ""
             }
            },
            "type": "scatter3d"
           }
          ],
          "scattercarpet": [
           {
            "marker": {
             "colorbar": {
              "outlinewidth": 0,
              "ticks": ""
             }
            },
            "type": "scattercarpet"
           }
          ],
          "scattergeo": [
           {
            "marker": {
             "colorbar": {
              "outlinewidth": 0,
              "ticks": ""
             }
            },
            "type": "scattergeo"
           }
          ],
          "scattergl": [
           {
            "marker": {
             "colorbar": {
              "outlinewidth": 0,
              "ticks": ""
             }
            },
            "type": "scattergl"
           }
          ],
          "scattermapbox": [
           {
            "marker": {
             "colorbar": {
              "outlinewidth": 0,
              "ticks": ""
             }
            },
            "type": "scattermapbox"
           }
          ],
          "scatterpolar": [
           {
            "marker": {
             "colorbar": {
              "outlinewidth": 0,
              "ticks": ""
             }
            },
            "type": "scatterpolar"
           }
          ],
          "scatterpolargl": [
           {
            "marker": {
             "colorbar": {
              "outlinewidth": 0,
              "ticks": ""
             }
            },
            "type": "scatterpolargl"
           }
          ],
          "scatterternary": [
           {
            "marker": {
             "colorbar": {
              "outlinewidth": 0,
              "ticks": ""
             }
            },
            "type": "scatterternary"
           }
          ],
          "surface": [
           {
            "colorbar": {
             "outlinewidth": 0,
             "ticks": ""
            },
            "colorscale": [
             [
              0,
              "#0d0887"
             ],
             [
              0.1111111111111111,
              "#46039f"
             ],
             [
              0.2222222222222222,
              "#7201a8"
             ],
             [
              0.3333333333333333,
              "#9c179e"
             ],
             [
              0.4444444444444444,
              "#bd3786"
             ],
             [
              0.5555555555555556,
              "#d8576b"
             ],
             [
              0.6666666666666666,
              "#ed7953"
             ],
             [
              0.7777777777777778,
              "#fb9f3a"
             ],
             [
              0.8888888888888888,
              "#fdca26"
             ],
             [
              1,
              "#f0f921"
             ]
            ],
            "type": "surface"
           }
          ],
          "table": [
           {
            "cells": {
             "fill": {
              "color": "#EBF0F8"
             },
             "line": {
              "color": "white"
             }
            },
            "header": {
             "fill": {
              "color": "#C8D4E3"
             },
             "line": {
              "color": "white"
             }
            },
            "type": "table"
           }
          ]
         },
         "layout": {
          "annotationdefaults": {
           "arrowcolor": "#2a3f5f",
           "arrowhead": 0,
           "arrowwidth": 1
          },
          "autotypenumbers": "strict",
          "coloraxis": {
           "colorbar": {
            "outlinewidth": 0,
            "ticks": ""
           }
          },
          "colorscale": {
           "diverging": [
            [
             0,
             "#8e0152"
            ],
            [
             0.1,
             "#c51b7d"
            ],
            [
             0.2,
             "#de77ae"
            ],
            [
             0.3,
             "#f1b6da"
            ],
            [
             0.4,
             "#fde0ef"
            ],
            [
             0.5,
             "#f7f7f7"
            ],
            [
             0.6,
             "#e6f5d0"
            ],
            [
             0.7,
             "#b8e186"
            ],
            [
             0.8,
             "#7fbc41"
            ],
            [
             0.9,
             "#4d9221"
            ],
            [
             1,
             "#276419"
            ]
           ],
           "sequential": [
            [
             0,
             "#0d0887"
            ],
            [
             0.1111111111111111,
             "#46039f"
            ],
            [
             0.2222222222222222,
             "#7201a8"
            ],
            [
             0.3333333333333333,
             "#9c179e"
            ],
            [
             0.4444444444444444,
             "#bd3786"
            ],
            [
             0.5555555555555556,
             "#d8576b"
            ],
            [
             0.6666666666666666,
             "#ed7953"
            ],
            [
             0.7777777777777778,
             "#fb9f3a"
            ],
            [
             0.8888888888888888,
             "#fdca26"
            ],
            [
             1,
             "#f0f921"
            ]
           ],
           "sequentialminus": [
            [
             0,
             "#0d0887"
            ],
            [
             0.1111111111111111,
             "#46039f"
            ],
            [
             0.2222222222222222,
             "#7201a8"
            ],
            [
             0.3333333333333333,
             "#9c179e"
            ],
            [
             0.4444444444444444,
             "#bd3786"
            ],
            [
             0.5555555555555556,
             "#d8576b"
            ],
            [
             0.6666666666666666,
             "#ed7953"
            ],
            [
             0.7777777777777778,
             "#fb9f3a"
            ],
            [
             0.8888888888888888,
             "#fdca26"
            ],
            [
             1,
             "#f0f921"
            ]
           ]
          },
          "colorway": [
           "#636efa",
           "#EF553B",
           "#00cc96",
           "#ab63fa",
           "#FFA15A",
           "#19d3f3",
           "#FF6692",
           "#B6E880",
           "#FF97FF",
           "#FECB52"
          ],
          "font": {
           "color": "#2a3f5f"
          },
          "geo": {
           "bgcolor": "white",
           "lakecolor": "white",
           "landcolor": "#E5ECF6",
           "showlakes": true,
           "showland": true,
           "subunitcolor": "white"
          },
          "hoverlabel": {
           "align": "left"
          },
          "hovermode": "closest",
          "mapbox": {
           "style": "light"
          },
          "paper_bgcolor": "white",
          "plot_bgcolor": "#E5ECF6",
          "polar": {
           "angularaxis": {
            "gridcolor": "white",
            "linecolor": "white",
            "ticks": ""
           },
           "bgcolor": "#E5ECF6",
           "radialaxis": {
            "gridcolor": "white",
            "linecolor": "white",
            "ticks": ""
           }
          },
          "scene": {
           "xaxis": {
            "backgroundcolor": "#E5ECF6",
            "gridcolor": "white",
            "gridwidth": 2,
            "linecolor": "white",
            "showbackground": true,
            "ticks": "",
            "zerolinecolor": "white"
           },
           "yaxis": {
            "backgroundcolor": "#E5ECF6",
            "gridcolor": "white",
            "gridwidth": 2,
            "linecolor": "white",
            "showbackground": true,
            "ticks": "",
            "zerolinecolor": "white"
           },
           "zaxis": {
            "backgroundcolor": "#E5ECF6",
            "gridcolor": "white",
            "gridwidth": 2,
            "linecolor": "white",
            "showbackground": true,
            "ticks": "",
            "zerolinecolor": "white"
           }
          },
          "shapedefaults": {
           "line": {
            "color": "#2a3f5f"
           }
          },
          "ternary": {
           "aaxis": {
            "gridcolor": "white",
            "linecolor": "white",
            "ticks": ""
           },
           "baxis": {
            "gridcolor": "white",
            "linecolor": "white",
            "ticks": ""
           },
           "bgcolor": "#E5ECF6",
           "caxis": {
            "gridcolor": "white",
            "linecolor": "white",
            "ticks": ""
           }
          },
          "title": {
           "x": 0.05
          },
          "xaxis": {
           "automargin": true,
           "gridcolor": "white",
           "linecolor": "white",
           "ticks": "",
           "title": {
            "standoff": 15
           },
           "zerolinecolor": "white",
           "zerolinewidth": 2
          },
          "yaxis": {
           "automargin": true,
           "gridcolor": "white",
           "linecolor": "white",
           "ticks": "",
           "title": {
            "standoff": 15
           },
           "zerolinecolor": "white",
           "zerolinewidth": 2
          }
         }
        },
        "title": {
         "text": "Entry Time vs Gain%"
        },
        "xaxis": {
         "anchor": "y",
         "domain": [
          0,
          1
         ],
         "title": {
          "text": "Time"
         }
        },
        "yaxis": {
         "anchor": "x",
         "domain": [
          0,
          1
         ],
         "title": {
          "text": "Gain%"
         }
        }
       }
      }
     },
     "metadata": {},
     "output_type": "display_data"
    }
   ],
   "source": [
    "# scatter plot of entry time vs gain%\n",
    "\n",
    "fig = px.scatter(trades, x=\"TimeEnter\", y=\"Gain%\", title=\"Entry Time vs Gain%\")\n",
    "fig.update_layout(\n",
    "    xaxis_title=\"Time\",\n",
    "    yaxis_title=\"Gain%\",\n",
    "    bargap=0.1\n",
    ")\n",
    "\n",
    "fig.show()"
   ]
  },
  {
   "cell_type": "code",
   "execution_count": 59,
   "metadata": {},
   "outputs": [
    {
     "data": {
      "application/vnd.plotly.v1+json": {
       "config": {
        "plotlyServerURL": "https://plot.ly"
       },
       "data": [
        {
         "hovertemplate": "Gain%=-0.09<br>Entry Time=%{x}<br>Exit Time=%{y}<extra></extra>",
         "legendgroup": "-0.09",
         "marker": {
          "color": "#636efa",
          "symbol": "circle"
         },
         "mode": "markers",
         "name": "-0.09",
         "orientation": "v",
         "showlegend": true,
         "type": "scatter",
         "x": [
          "09:30:00",
          "09:33:00",
          "10:17:00"
         ],
         "xaxis": "x",
         "y": [
          "09:33:00",
          "09:59:00",
          "10:21:00"
         ],
         "yaxis": "y"
        },
        {
         "hovertemplate": "Gain%=-0.18<br>Entry Time=%{x}<br>Exit Time=%{y}<extra></extra>",
         "legendgroup": "-0.18",
         "marker": {
          "color": "#EF553B",
          "symbol": "circle"
         },
         "mode": "markers",
         "name": "-0.18",
         "orientation": "v",
         "showlegend": true,
         "type": "scatter",
         "x": [
          "09:30:00"
         ],
         "xaxis": "x",
         "y": [
          "09:34:00"
         ],
         "yaxis": "y"
        },
        {
         "hovertemplate": "Gain%=0.0<br>Entry Time=%{x}<br>Exit Time=%{y}<extra></extra>",
         "legendgroup": "0.0",
         "marker": {
          "color": "#00cc96",
          "symbol": "circle"
         },
         "mode": "markers",
         "name": "0.0",
         "orientation": "v",
         "showlegend": true,
         "type": "scatter",
         "x": [
          "09:30:00",
          "09:43:00",
          "09:43:00",
          "09:44:00",
          "10:17:00",
          "10:22:00",
          "10:36:00",
          "10:51:00",
          "11:04:00"
         ],
         "xaxis": "x",
         "y": [
          "09:40:00",
          "10:01:00",
          "10:05:00",
          "10:16:00",
          "10:49:00",
          "10:24:00",
          "11:12:00",
          "11:35:00",
          "11:28:00"
         ],
         "yaxis": "y"
        },
        {
         "hovertemplate": "Gain%=0.17<br>Entry Time=%{x}<br>Exit Time=%{y}<extra></extra>",
         "legendgroup": "0.17",
         "marker": {
          "color": "#ab63fa",
          "symbol": "circle"
         },
         "mode": "markers",
         "name": "0.17",
         "orientation": "v",
         "showlegend": true,
         "type": "scatter",
         "x": [
          "09:30:00",
          "09:32:00",
          "09:32:00",
          "10:01:00",
          "10:08:00",
          "10:39:00"
         ],
         "xaxis": "x",
         "y": [
          "09:45:00",
          "10:12:00",
          "10:21:00",
          "10:14:00",
          "10:21:00",
          "10:52:00"
         ],
         "yaxis": "y"
        },
        {
         "hovertemplate": "Gain%=-0.48<br>Entry Time=%{x}<br>Exit Time=%{y}<extra></extra>",
         "legendgroup": "-0.48",
         "marker": {
          "color": "#FFA15A",
          "symbol": "circle"
         },
         "mode": "markers",
         "name": "-0.48",
         "orientation": "v",
         "showlegend": true,
         "type": "scatter",
         "x": [
          "09:30:00"
         ],
         "xaxis": "x",
         "y": [
          "09:45:00"
         ],
         "yaxis": "y"
        },
        {
         "hovertemplate": "Gain%=-0.3<br>Entry Time=%{x}<br>Exit Time=%{y}<extra></extra>",
         "legendgroup": "-0.3",
         "marker": {
          "color": "#19d3f3",
          "symbol": "circle"
         },
         "mode": "markers",
         "name": "-0.3",
         "orientation": "v",
         "showlegend": true,
         "type": "scatter",
         "x": [
          "09:30:00"
         ],
         "xaxis": "x",
         "y": [
          "09:46:00"
         ],
         "yaxis": "y"
        },
        {
         "hovertemplate": "Gain%=-0.22<br>Entry Time=%{x}<br>Exit Time=%{y}<extra></extra>",
         "legendgroup": "-0.22",
         "marker": {
          "color": "#FF6692",
          "symbol": "circle"
         },
         "mode": "markers",
         "name": "-0.22",
         "orientation": "v",
         "showlegend": true,
         "type": "scatter",
         "x": [
          "09:30:00",
          "10:47:00"
         ],
         "xaxis": "x",
         "y": [
          "09:54:00",
          "11:39:00"
         ],
         "yaxis": "y"
        },
        {
         "hovertemplate": "Gain%=0.1<br>Entry Time=%{x}<br>Exit Time=%{y}<extra></extra>",
         "legendgroup": "0.1",
         "marker": {
          "color": "#B6E880",
          "symbol": "circle"
         },
         "mode": "markers",
         "name": "0.1",
         "orientation": "v",
         "showlegend": true,
         "type": "scatter",
         "x": [
          "09:30:00",
          "09:32:00",
          "09:32:00",
          "09:44:00",
          "10:15:00",
          "13:11:00"
         ],
         "xaxis": "x",
         "y": [
          "10:00:00",
          "09:54:00",
          "09:47:00",
          "10:15:00",
          "10:30:00",
          "13:28:00"
         ],
         "yaxis": "y"
        },
        {
         "hovertemplate": "Gain%=0.18<br>Entry Time=%{x}<br>Exit Time=%{y}<extra></extra>",
         "legendgroup": "0.18",
         "marker": {
          "color": "#FF97FF",
          "symbol": "circle"
         },
         "mode": "markers",
         "name": "0.18",
         "orientation": "v",
         "showlegend": true,
         "type": "scatter",
         "x": [
          "09:30:00",
          "09:41:00",
          "10:09:00"
         ],
         "xaxis": "x",
         "y": [
          "10:06:00",
          "09:55:00",
          "10:19:00"
         ],
         "yaxis": "y"
        },
        {
         "hovertemplate": "Gain%=-0.16<br>Entry Time=%{x}<br>Exit Time=%{y}<extra></extra>",
         "legendgroup": "-0.16",
         "marker": {
          "color": "#FECB52",
          "symbol": "circle"
         },
         "mode": "markers",
         "name": "-0.16",
         "orientation": "v",
         "showlegend": true,
         "type": "scatter",
         "x": [
          "09:30:00",
          "09:31:00",
          "10:16:00",
          "10:49:00"
         ],
         "xaxis": "x",
         "y": [
          "10:21:00",
          "09:47:00",
          "10:24:00",
          "11:12:00"
         ],
         "yaxis": "y"
        },
        {
         "hovertemplate": "Gain%=-0.11<br>Entry Time=%{x}<br>Exit Time=%{y}<extra></extra>",
         "legendgroup": "-0.11",
         "marker": {
          "color": "#636efa",
          "symbol": "circle"
         },
         "mode": "markers",
         "name": "-0.11",
         "orientation": "v",
         "showlegend": true,
         "type": "scatter",
         "x": [
          "09:30:00",
          "09:36:00",
          "09:57:00",
          "10:28:00",
          "11:17:00",
          "12:39:00"
         ],
         "xaxis": "x",
         "y": [
          "10:43:00",
          "09:42:00",
          "10:34:00",
          "10:50:00",
          "11:22:00",
          "13:30:00"
         ],
         "yaxis": "y"
        },
        {
         "hovertemplate": "Gain%=0.15<br>Entry Time=%{x}<br>Exit Time=%{y}<extra></extra>",
         "legendgroup": "0.15",
         "marker": {
          "color": "#EF553B",
          "symbol": "circle"
         },
         "mode": "markers",
         "name": "0.15",
         "orientation": "v",
         "showlegend": true,
         "type": "scatter",
         "x": [
          "09:31:00",
          "09:35:00",
          "09:56:00",
          "10:04:00",
          "10:48:00",
          "10:49:00",
          "11:10:00",
          "11:12:00"
         ],
         "xaxis": "x",
         "y": [
          "10:04:00",
          "09:48:00",
          "10:07:00",
          "10:18:00",
          "11:08:00",
          "11:12:00",
          "11:48:00",
          "11:25:00"
         ],
         "yaxis": "y"
        },
        {
         "hovertemplate": "Gain%=-0.45<br>Entry Time=%{x}<br>Exit Time=%{y}<extra></extra>",
         "legendgroup": "-0.45",
         "marker": {
          "color": "#00cc96",
          "symbol": "circle"
         },
         "mode": "markers",
         "name": "-0.45",
         "orientation": "v",
         "showlegend": true,
         "type": "scatter",
         "x": [
          "09:31:00"
         ],
         "xaxis": "x",
         "y": [
          "09:53:00"
         ],
         "yaxis": "y"
        },
        {
         "hovertemplate": "Gain%=0.23<br>Entry Time=%{x}<br>Exit Time=%{y}<extra></extra>",
         "legendgroup": "0.23",
         "marker": {
          "color": "#ab63fa",
          "symbol": "circle"
         },
         "mode": "markers",
         "name": "0.23",
         "orientation": "v",
         "showlegend": true,
         "type": "scatter",
         "x": [
          "09:31:00"
         ],
         "xaxis": "x",
         "y": [
          "09:36:00"
         ],
         "yaxis": "y"
        },
        {
         "hovertemplate": "Gain%=0.08<br>Entry Time=%{x}<br>Exit Time=%{y}<extra></extra>",
         "legendgroup": "0.08",
         "marker": {
          "color": "#FFA15A",
          "symbol": "circle"
         },
         "mode": "markers",
         "name": "0.08",
         "orientation": "v",
         "showlegend": true,
         "type": "scatter",
         "x": [
          "09:31:00",
          "09:32:00",
          "09:34:00",
          "10:12:00",
          "10:25:00",
          "10:48:00",
          "11:50:00",
          "12:09:00"
         ],
         "xaxis": "x",
         "y": [
          "09:48:00",
          "09:40:00",
          "09:58:00",
          "10:25:00",
          "10:47:00",
          "10:56:00",
          "12:20:00",
          "12:23:00"
         ],
         "yaxis": "y"
        },
        {
         "hovertemplate": "Gain%=-0.37<br>Entry Time=%{x}<br>Exit Time=%{y}<extra></extra>",
         "legendgroup": "-0.37",
         "marker": {
          "color": "#19d3f3",
          "symbol": "circle"
         },
         "mode": "markers",
         "name": "-0.37",
         "orientation": "v",
         "showlegend": true,
         "type": "scatter",
         "x": [
          "09:31:00",
          "09:59:00",
          "11:36:00"
         ],
         "xaxis": "x",
         "y": [
          "10:06:00",
          "10:16:00",
          "11:54:00"
         ],
         "yaxis": "y"
        },
        {
         "hovertemplate": "Gain%=-0.02<br>Entry Time=%{x}<br>Exit Time=%{y}<extra></extra>",
         "legendgroup": "-0.02",
         "marker": {
          "color": "#FF6692",
          "symbol": "circle"
         },
         "mode": "markers",
         "name": "-0.02",
         "orientation": "v",
         "showlegend": true,
         "type": "scatter",
         "x": [
          "09:31:00",
          "10:27:00",
          "10:31:00",
          "10:33:00",
          "11:21:00",
          "12:22:00"
         ],
         "xaxis": "x",
         "y": [
          "09:54:00",
          "10:30:00",
          "11:30:00",
          "11:01:00",
          "11:46:00",
          "12:48:00"
         ],
         "yaxis": "y"
        },
        {
         "hovertemplate": "Gain%=-0.14<br>Entry Time=%{x}<br>Exit Time=%{y}<extra></extra>",
         "legendgroup": "-0.14",
         "marker": {
          "color": "#B6E880",
          "symbol": "circle"
         },
         "mode": "markers",
         "name": "-0.14",
         "orientation": "v",
         "showlegend": true,
         "type": "scatter",
         "x": [
          "09:31:00",
          "09:43:00",
          "09:51:00",
          "11:38:00"
         ],
         "xaxis": "x",
         "y": [
          "10:02:00",
          "09:49:00",
          "09:54:00",
          "11:40:00"
         ],
         "yaxis": "y"
        },
        {
         "hovertemplate": "Gain%=-0.08<br>Entry Time=%{x}<br>Exit Time=%{y}<extra></extra>",
         "legendgroup": "-0.08",
         "marker": {
          "color": "#FF97FF",
          "symbol": "circle"
         },
         "mode": "markers",
         "name": "-0.08",
         "orientation": "v",
         "showlegend": true,
         "type": "scatter",
         "x": [
          "09:31:00",
          "10:39:00"
         ],
         "xaxis": "x",
         "y": [
          "10:17:00",
          "10:42:00"
         ],
         "yaxis": "y"
        },
        {
         "hovertemplate": "Gain%=0.05<br>Entry Time=%{x}<br>Exit Time=%{y}<extra></extra>",
         "legendgroup": "0.05",
         "marker": {
          "color": "#FECB52",
          "symbol": "circle"
         },
         "mode": "markers",
         "name": "0.05",
         "orientation": "v",
         "showlegend": true,
         "type": "scatter",
         "x": [
          "09:31:00",
          "09:35:00",
          "09:45:00",
          "10:01:00",
          "11:34:00"
         ],
         "xaxis": "x",
         "y": [
          "09:46:00",
          "10:08:00",
          "10:52:00",
          "10:41:00",
          "11:47:00"
         ],
         "yaxis": "y"
        },
        {
         "hovertemplate": "Gain%=0.26<br>Entry Time=%{x}<br>Exit Time=%{y}<extra></extra>",
         "legendgroup": "0.26",
         "marker": {
          "color": "#636efa",
          "symbol": "circle"
         },
         "mode": "markers",
         "name": "0.26",
         "orientation": "v",
         "showlegend": true,
         "type": "scatter",
         "x": [
          "09:31:00",
          "09:32:00"
         ],
         "xaxis": "x",
         "y": [
          "09:44:00",
          "10:01:00"
         ],
         "yaxis": "y"
        },
        {
         "hovertemplate": "Gain%=-0.12<br>Entry Time=%{x}<br>Exit Time=%{y}<extra></extra>",
         "legendgroup": "-0.12",
         "marker": {
          "color": "#EF553B",
          "symbol": "circle"
         },
         "mode": "markers",
         "name": "-0.12",
         "orientation": "v",
         "showlegend": true,
         "type": "scatter",
         "x": [
          "09:32:00",
          "09:32:00",
          "09:57:00",
          "09:57:00",
          "10:52:00"
         ],
         "xaxis": "x",
         "y": [
          "09:37:00",
          "10:01:00",
          "10:15:00",
          "10:02:00",
          "11:49:00"
         ],
         "yaxis": "y"
        },
        {
         "hovertemplate": "Gain%=-0.36<br>Entry Time=%{x}<br>Exit Time=%{y}<extra></extra>",
         "legendgroup": "-0.36",
         "marker": {
          "color": "#00cc96",
          "symbol": "circle"
         },
         "mode": "markers",
         "name": "-0.36",
         "orientation": "v",
         "showlegend": true,
         "type": "scatter",
         "x": [
          "09:32:00"
         ],
         "xaxis": "x",
         "y": [
          "09:38:00"
         ],
         "yaxis": "y"
        },
        {
         "hovertemplate": "Gain%=0.28<br>Entry Time=%{x}<br>Exit Time=%{y}<extra></extra>",
         "legendgroup": "0.28",
         "marker": {
          "color": "#ab63fa",
          "symbol": "circle"
         },
         "mode": "markers",
         "name": "0.28",
         "orientation": "v",
         "showlegend": true,
         "type": "scatter",
         "x": [
          "09:32:00",
          "09:56:00",
          "09:57:00"
         ],
         "xaxis": "x",
         "y": [
          "09:51:00",
          "10:07:00",
          "10:21:00"
         ],
         "yaxis": "y"
        },
        {
         "hovertemplate": "Gain%=-0.7<br>Entry Time=%{x}<br>Exit Time=%{y}<extra></extra>",
         "legendgroup": "-0.7",
         "marker": {
          "color": "#FFA15A",
          "symbol": "circle"
         },
         "mode": "markers",
         "name": "-0.7",
         "orientation": "v",
         "showlegend": true,
         "type": "scatter",
         "x": [
          "09:32:00"
         ],
         "xaxis": "x",
         "y": [
          "09:56:00"
         ],
         "yaxis": "y"
        },
        {
         "hovertemplate": "Gain%=-0.28<br>Entry Time=%{x}<br>Exit Time=%{y}<extra></extra>",
         "legendgroup": "-0.28",
         "marker": {
          "color": "#19d3f3",
          "symbol": "circle"
         },
         "mode": "markers",
         "name": "-0.28",
         "orientation": "v",
         "showlegend": true,
         "type": "scatter",
         "x": [
          "09:32:00",
          "10:16:00",
          "10:26:00"
         ],
         "xaxis": "x",
         "y": [
          "10:55:00",
          "11:26:00",
          "10:43:00"
         ],
         "yaxis": "y"
        },
        {
         "hovertemplate": "Gain%=0.47<br>Entry Time=%{x}<br>Exit Time=%{y}<extra></extra>",
         "legendgroup": "0.47",
         "marker": {
          "color": "#FF6692",
          "symbol": "circle"
         },
         "mode": "markers",
         "name": "0.47",
         "orientation": "v",
         "showlegend": true,
         "type": "scatter",
         "x": [
          "09:33:00"
         ],
         "xaxis": "x",
         "y": [
          "09:46:00"
         ],
         "yaxis": "y"
        },
        {
         "hovertemplate": "Gain%=-0.49<br>Entry Time=%{x}<br>Exit Time=%{y}<extra></extra>",
         "legendgroup": "-0.49",
         "marker": {
          "color": "#B6E880",
          "symbol": "circle"
         },
         "mode": "markers",
         "name": "-0.49",
         "orientation": "v",
         "showlegend": true,
         "type": "scatter",
         "x": [
          "09:33:00",
          "10:36:00"
         ],
         "xaxis": "x",
         "y": [
          "09:47:00",
          "11:32:00"
         ],
         "yaxis": "y"
        },
        {
         "hovertemplate": "Gain%=-0.24<br>Entry Time=%{x}<br>Exit Time=%{y}<extra></extra>",
         "legendgroup": "-0.24",
         "marker": {
          "color": "#FF97FF",
          "symbol": "circle"
         },
         "mode": "markers",
         "name": "-0.24",
         "orientation": "v",
         "showlegend": true,
         "type": "scatter",
         "x": [
          "09:33:00",
          "09:44:00"
         ],
         "xaxis": "x",
         "y": [
          "10:00:00",
          "12:19:00"
         ],
         "yaxis": "y"
        },
        {
         "hovertemplate": "Gain%=0.16<br>Entry Time=%{x}<br>Exit Time=%{y}<extra></extra>",
         "legendgroup": "0.16",
         "marker": {
          "color": "#FECB52",
          "symbol": "circle"
         },
         "mode": "markers",
         "name": "0.16",
         "orientation": "v",
         "showlegend": true,
         "type": "scatter",
         "x": [
          "09:33:00",
          "09:36:00",
          "09:43:00",
          "09:43:00",
          "09:45:00",
          "10:38:00",
          "10:48:00",
          "10:59:00",
          "11:00:00",
          "15:01:00"
         ],
         "xaxis": "x",
         "y": [
          "10:01:00",
          "10:26:00",
          "10:01:00",
          "09:53:00",
          "09:52:00",
          "10:52:00",
          "11:08:00",
          "11:27:00",
          "11:24:00",
          "15:15:00"
         ],
         "yaxis": "y"
        },
        {
         "hovertemplate": "Gain%=-0.27<br>Entry Time=%{x}<br>Exit Time=%{y}<extra></extra>",
         "legendgroup": "-0.27",
         "marker": {
          "color": "#636efa",
          "symbol": "circle"
         },
         "mode": "markers",
         "name": "-0.27",
         "orientation": "v",
         "showlegend": true,
         "type": "scatter",
         "x": [
          "09:33:00",
          "09:34:00",
          "09:49:00"
         ],
         "xaxis": "x",
         "y": [
          "10:01:00",
          "09:42:00",
          "10:06:00"
         ],
         "yaxis": "y"
        },
        {
         "hovertemplate": "Gain%=-0.29<br>Entry Time=%{x}<br>Exit Time=%{y}<extra></extra>",
         "legendgroup": "-0.29",
         "marker": {
          "color": "#EF553B",
          "symbol": "circle"
         },
         "mode": "markers",
         "name": "-0.29",
         "orientation": "v",
         "showlegend": true,
         "type": "scatter",
         "x": [
          "09:33:00",
          "09:39:00"
         ],
         "xaxis": "x",
         "y": [
          "10:06:00",
          "11:37:00"
         ],
         "yaxis": "y"
        },
        {
         "hovertemplate": "Gain%=0.2<br>Entry Time=%{x}<br>Exit Time=%{y}<extra></extra>",
         "legendgroup": "0.2",
         "marker": {
          "color": "#00cc96",
          "symbol": "circle"
         },
         "mode": "markers",
         "name": "0.2",
         "orientation": "v",
         "showlegend": true,
         "type": "scatter",
         "x": [
          "09:34:00",
          "09:36:00",
          "09:48:00",
          "10:02:00",
          "10:19:00"
         ],
         "xaxis": "x",
         "y": [
          "09:46:00",
          "09:49:00",
          "10:17:00",
          "10:13:00",
          "10:30:00"
         ],
         "yaxis": "y"
        },
        {
         "hovertemplate": "Gain%=0.31<br>Entry Time=%{x}<br>Exit Time=%{y}<extra></extra>",
         "legendgroup": "0.31",
         "marker": {
          "color": "#ab63fa",
          "symbol": "circle"
         },
         "mode": "markers",
         "name": "0.31",
         "orientation": "v",
         "showlegend": true,
         "type": "scatter",
         "x": [
          "09:34:00"
         ],
         "xaxis": "x",
         "y": [
          "10:07:00"
         ],
         "yaxis": "y"
        },
        {
         "hovertemplate": "Gain%=0.09<br>Entry Time=%{x}<br>Exit Time=%{y}<extra></extra>",
         "legendgroup": "0.09",
         "marker": {
          "color": "#FFA15A",
          "symbol": "circle"
         },
         "mode": "markers",
         "name": "0.09",
         "orientation": "v",
         "showlegend": true,
         "type": "scatter",
         "x": [
          "09:34:00",
          "10:26:00",
          "11:44:00"
         ],
         "xaxis": "x",
         "y": [
          "09:46:00",
          "10:33:00",
          "11:57:00"
         ],
         "yaxis": "y"
        },
        {
         "hovertemplate": "Gain%=0.13<br>Entry Time=%{x}<br>Exit Time=%{y}<extra></extra>",
         "legendgroup": "0.13",
         "marker": {
          "color": "#19d3f3",
          "symbol": "circle"
         },
         "mode": "markers",
         "name": "0.13",
         "orientation": "v",
         "showlegend": true,
         "type": "scatter",
         "x": [
          "09:34:00",
          "09:38:00"
         ],
         "xaxis": "x",
         "y": [
          "09:56:00",
          "10:06:00"
         ],
         "yaxis": "y"
        },
        {
         "hovertemplate": "Gain%=-0.2<br>Entry Time=%{x}<br>Exit Time=%{y}<extra></extra>",
         "legendgroup": "-0.2",
         "marker": {
          "color": "#FF6692",
          "symbol": "circle"
         },
         "mode": "markers",
         "name": "-0.2",
         "orientation": "v",
         "showlegend": true,
         "type": "scatter",
         "x": [
          "09:34:00",
          "09:38:00",
          "09:40:00"
         ],
         "xaxis": "x",
         "y": [
          "09:49:00",
          "10:11:00",
          "10:13:00"
         ],
         "yaxis": "y"
        },
        {
         "hovertemplate": "Gain%=-2.15<br>Entry Time=%{x}<br>Exit Time=%{y}<extra></extra>",
         "legendgroup": "-2.15",
         "marker": {
          "color": "#B6E880",
          "symbol": "circle"
         },
         "mode": "markers",
         "name": "-2.15",
         "orientation": "v",
         "showlegend": true,
         "type": "scatter",
         "x": [
          "09:35:00"
         ],
         "xaxis": "x",
         "y": [
          "10:45:00"
         ],
         "yaxis": "y"
        },
        {
         "hovertemplate": "Gain%=-0.07<br>Entry Time=%{x}<br>Exit Time=%{y}<extra></extra>",
         "legendgroup": "-0.07",
         "marker": {
          "color": "#FF97FF",
          "symbol": "circle"
         },
         "mode": "markers",
         "name": "-0.07",
         "orientation": "v",
         "showlegend": true,
         "type": "scatter",
         "x": [
          "09:35:00",
          "10:13:00",
          "10:36:00"
         ],
         "xaxis": "x",
         "y": [
          "10:49:00",
          "10:47:00",
          "10:46:00"
         ],
         "yaxis": "y"
        },
        {
         "hovertemplate": "Gain%=0.14<br>Entry Time=%{x}<br>Exit Time=%{y}<extra></extra>",
         "legendgroup": "0.14",
         "marker": {
          "color": "#FECB52",
          "symbol": "circle"
         },
         "mode": "markers",
         "name": "0.14",
         "orientation": "v",
         "showlegend": true,
         "type": "scatter",
         "x": [
          "09:36:00",
          "09:49:00",
          "09:53:00",
          "09:56:00",
          "10:11:00",
          "10:28:00",
          "11:04:00",
          "11:28:00",
          "12:00:00"
         ],
         "xaxis": "x",
         "y": [
          "09:48:00",
          "10:22:00",
          "10:00:00",
          "10:18:00",
          "10:30:00",
          "10:37:00",
          "11:11:00",
          "11:47:00",
          "12:19:00"
         ],
         "yaxis": "y"
        },
        {
         "hovertemplate": "Gain%=-0.43<br>Entry Time=%{x}<br>Exit Time=%{y}<extra></extra>",
         "legendgroup": "-0.43",
         "marker": {
          "color": "#636efa",
          "symbol": "circle"
         },
         "mode": "markers",
         "name": "-0.43",
         "orientation": "v",
         "showlegend": true,
         "type": "scatter",
         "x": [
          "09:36:00"
         ],
         "xaxis": "x",
         "y": [
          "10:04:00"
         ],
         "yaxis": "y"
        },
        {
         "hovertemplate": "Gain%=-0.54<br>Entry Time=%{x}<br>Exit Time=%{y}<extra></extra>",
         "legendgroup": "-0.54",
         "marker": {
          "color": "#EF553B",
          "symbol": "circle"
         },
         "mode": "markers",
         "name": "-0.54",
         "orientation": "v",
         "showlegend": true,
         "type": "scatter",
         "x": [
          "09:36:00",
          "09:42:00"
         ],
         "xaxis": "x",
         "y": [
          "10:10:00",
          "11:25:00"
         ],
         "yaxis": "y"
        },
        {
         "hovertemplate": "Gain%=0.19<br>Entry Time=%{x}<br>Exit Time=%{y}<extra></extra>",
         "legendgroup": "0.19",
         "marker": {
          "color": "#00cc96",
          "symbol": "circle"
         },
         "mode": "markers",
         "name": "0.19",
         "orientation": "v",
         "showlegend": true,
         "type": "scatter",
         "x": [
          "09:38:00",
          "09:47:00",
          "10:20:00"
         ],
         "xaxis": "x",
         "y": [
          "09:47:00",
          "10:06:00",
          "11:04:00"
         ],
         "yaxis": "y"
        },
        {
         "hovertemplate": "Gain%=0.27<br>Entry Time=%{x}<br>Exit Time=%{y}<extra></extra>",
         "legendgroup": "0.27",
         "marker": {
          "color": "#ab63fa",
          "symbol": "circle"
         },
         "mode": "markers",
         "name": "0.27",
         "orientation": "v",
         "showlegend": true,
         "type": "scatter",
         "x": [
          "09:38:00",
          "09:38:00",
          "10:31:00"
         ],
         "xaxis": "x",
         "y": [
          "09:50:00",
          "10:14:00",
          "11:36:00"
         ],
         "yaxis": "y"
        },
        {
         "hovertemplate": "Gain%=-0.19<br>Entry Time=%{x}<br>Exit Time=%{y}<extra></extra>",
         "legendgroup": "-0.19",
         "marker": {
          "color": "#FFA15A",
          "symbol": "circle"
         },
         "mode": "markers",
         "name": "-0.19",
         "orientation": "v",
         "showlegend": true,
         "type": "scatter",
         "x": [
          "09:39:00"
         ],
         "xaxis": "x",
         "y": [
          "10:01:00"
         ],
         "yaxis": "y"
        },
        {
         "hovertemplate": "Gain%=-0.13<br>Entry Time=%{x}<br>Exit Time=%{y}<extra></extra>",
         "legendgroup": "-0.13",
         "marker": {
          "color": "#19d3f3",
          "symbol": "circle"
         },
         "mode": "markers",
         "name": "-0.13",
         "orientation": "v",
         "showlegend": true,
         "type": "scatter",
         "x": [
          "09:39:00"
         ],
         "xaxis": "x",
         "y": [
          "09:47:00"
         ],
         "yaxis": "y"
        },
        {
         "hovertemplate": "Gain%=0.29<br>Entry Time=%{x}<br>Exit Time=%{y}<extra></extra>",
         "legendgroup": "0.29",
         "marker": {
          "color": "#FF6692",
          "symbol": "circle"
         },
         "mode": "markers",
         "name": "0.29",
         "orientation": "v",
         "showlegend": true,
         "type": "scatter",
         "x": [
          "09:39:00",
          "09:43:00"
         ],
         "xaxis": "x",
         "y": [
          "09:57:00",
          "10:00:00"
         ],
         "yaxis": "y"
        },
        {
         "hovertemplate": "Gain%=-0.26<br>Entry Time=%{x}<br>Exit Time=%{y}<extra></extra>",
         "legendgroup": "-0.26",
         "marker": {
          "color": "#B6E880",
          "symbol": "circle"
         },
         "mode": "markers",
         "name": "-0.26",
         "orientation": "v",
         "showlegend": true,
         "type": "scatter",
         "x": [
          "09:39:00"
         ],
         "xaxis": "x",
         "y": [
          "10:43:00"
         ],
         "yaxis": "y"
        },
        {
         "hovertemplate": "Gain%=-0.55<br>Entry Time=%{x}<br>Exit Time=%{y}<extra></extra>",
         "legendgroup": "-0.55",
         "marker": {
          "color": "#FF97FF",
          "symbol": "circle"
         },
         "mode": "markers",
         "name": "-0.55",
         "orientation": "v",
         "showlegend": true,
         "type": "scatter",
         "x": [
          "09:39:00"
         ],
         "xaxis": "x",
         "y": [
          "11:03:00"
         ],
         "yaxis": "y"
        },
        {
         "hovertemplate": "Gain%=0.04<br>Entry Time=%{x}<br>Exit Time=%{y}<extra></extra>",
         "legendgroup": "0.04",
         "marker": {
          "color": "#FECB52",
          "symbol": "circle"
         },
         "mode": "markers",
         "name": "0.04",
         "orientation": "v",
         "showlegend": true,
         "type": "scatter",
         "x": [
          "09:40:00",
          "09:40:00",
          "10:26:00",
          "10:58:00"
         ],
         "xaxis": "x",
         "y": [
          "09:49:00",
          "09:50:00",
          "10:44:00",
          "11:33:00"
         ],
         "yaxis": "y"
        },
        {
         "hovertemplate": "Gain%=-0.1<br>Entry Time=%{x}<br>Exit Time=%{y}<extra></extra>",
         "legendgroup": "-0.1",
         "marker": {
          "color": "#636efa",
          "symbol": "circle"
         },
         "mode": "markers",
         "name": "-0.1",
         "orientation": "v",
         "showlegend": true,
         "type": "scatter",
         "x": [
          "09:41:00",
          "09:42:00",
          "09:56:00",
          "12:08:00"
         ],
         "xaxis": "x",
         "y": [
          "10:05:00",
          "09:47:00",
          "10:30:00",
          "12:40:00"
         ],
         "yaxis": "y"
        },
        {
         "hovertemplate": "Gain%=-0.25<br>Entry Time=%{x}<br>Exit Time=%{y}<extra></extra>",
         "legendgroup": "-0.25",
         "marker": {
          "color": "#EF553B",
          "symbol": "circle"
         },
         "mode": "markers",
         "name": "-0.25",
         "orientation": "v",
         "showlegend": true,
         "type": "scatter",
         "x": [
          "09:41:00"
         ],
         "xaxis": "x",
         "y": [
          "10:05:00"
         ],
         "yaxis": "y"
        },
        {
         "hovertemplate": "Gain%=0.21<br>Entry Time=%{x}<br>Exit Time=%{y}<extra></extra>",
         "legendgroup": "0.21",
         "marker": {
          "color": "#00cc96",
          "symbol": "circle"
         },
         "mode": "markers",
         "name": "0.21",
         "orientation": "v",
         "showlegend": true,
         "type": "scatter",
         "x": [
          "09:42:00",
          "10:28:00"
         ],
         "xaxis": "x",
         "y": [
          "09:53:00",
          "11:30:00"
         ],
         "yaxis": "y"
        },
        {
         "hovertemplate": "Gain%=-0.03<br>Entry Time=%{x}<br>Exit Time=%{y}<extra></extra>",
         "legendgroup": "-0.03",
         "marker": {
          "color": "#ab63fa",
          "symbol": "circle"
         },
         "mode": "markers",
         "name": "-0.03",
         "orientation": "v",
         "showlegend": true,
         "type": "scatter",
         "x": [
          "09:43:00",
          "09:46:00",
          "09:56:00",
          "10:33:00",
          "10:38:00",
          "12:03:00"
         ],
         "xaxis": "x",
         "y": [
          "09:47:00",
          "10:51:00",
          "10:00:00",
          "10:36:00",
          "11:13:00",
          "12:58:00"
         ],
         "yaxis": "y"
        },
        {
         "hovertemplate": "Gain%=0.11<br>Entry Time=%{x}<br>Exit Time=%{y}<extra></extra>",
         "legendgroup": "0.11",
         "marker": {
          "color": "#FFA15A",
          "symbol": "circle"
         },
         "mode": "markers",
         "name": "0.11",
         "orientation": "v",
         "showlegend": true,
         "type": "scatter",
         "x": [
          "09:44:00",
          "10:04:00",
          "10:13:00",
          "10:17:00",
          "10:49:00",
          "11:14:00"
         ],
         "xaxis": "x",
         "y": [
          "09:59:00",
          "11:03:00",
          "10:36:00",
          "10:45:00",
          "10:54:00",
          "11:50:00"
         ],
         "yaxis": "y"
        },
        {
         "hovertemplate": "Gain%=0.24<br>Entry Time=%{x}<br>Exit Time=%{y}<extra></extra>",
         "legendgroup": "0.24",
         "marker": {
          "color": "#19d3f3",
          "symbol": "circle"
         },
         "mode": "markers",
         "name": "0.24",
         "orientation": "v",
         "showlegend": true,
         "type": "scatter",
         "x": [
          "09:45:00",
          "09:57:00",
          "10:16:00"
         ],
         "xaxis": "x",
         "y": [
          "09:57:00",
          "10:22:00",
          "10:39:00"
         ],
         "yaxis": "y"
        },
        {
         "hovertemplate": "Gain%=-0.01<br>Entry Time=%{x}<br>Exit Time=%{y}<extra></extra>",
         "legendgroup": "-0.01",
         "marker": {
          "color": "#FF6692",
          "symbol": "circle"
         },
         "mode": "markers",
         "name": "-0.01",
         "orientation": "v",
         "showlegend": true,
         "type": "scatter",
         "x": [
          "09:47:00",
          "10:14:00",
          "11:28:00"
         ],
         "xaxis": "x",
         "y": [
          "11:10:00",
          "10:44:00",
          "11:32:00"
         ],
         "yaxis": "y"
        },
        {
         "hovertemplate": "Gain%=0.06<br>Entry Time=%{x}<br>Exit Time=%{y}<extra></extra>",
         "legendgroup": "0.06",
         "marker": {
          "color": "#B6E880",
          "symbol": "circle"
         },
         "mode": "markers",
         "name": "0.06",
         "orientation": "v",
         "showlegend": true,
         "type": "scatter",
         "x": [
          "09:47:00",
          "09:51:00",
          "10:42:00"
         ],
         "xaxis": "x",
         "y": [
          "10:01:00",
          "10:31:00",
          "11:16:00"
         ],
         "yaxis": "y"
        },
        {
         "hovertemplate": "Gain%=0.44<br>Entry Time=%{x}<br>Exit Time=%{y}<extra></extra>",
         "legendgroup": "0.44",
         "marker": {
          "color": "#FF97FF",
          "symbol": "circle"
         },
         "mode": "markers",
         "name": "0.44",
         "orientation": "v",
         "showlegend": true,
         "type": "scatter",
         "x": [
          "09:48:00"
         ],
         "xaxis": "x",
         "y": [
          "10:13:00"
         ],
         "yaxis": "y"
        },
        {
         "hovertemplate": "Gain%=0.34<br>Entry Time=%{x}<br>Exit Time=%{y}<extra></extra>",
         "legendgroup": "0.34",
         "marker": {
          "color": "#FECB52",
          "symbol": "circle"
         },
         "mode": "markers",
         "name": "0.34",
         "orientation": "v",
         "showlegend": true,
         "type": "scatter",
         "x": [
          "09:49:00"
         ],
         "xaxis": "x",
         "y": [
          "10:02:00"
         ],
         "yaxis": "y"
        },
        {
         "hovertemplate": "Gain%=-0.23<br>Entry Time=%{x}<br>Exit Time=%{y}<extra></extra>",
         "legendgroup": "-0.23",
         "marker": {
          "color": "#636efa",
          "symbol": "circle"
         },
         "mode": "markers",
         "name": "-0.23",
         "orientation": "v",
         "showlegend": true,
         "type": "scatter",
         "x": [
          "09:49:00",
          "10:06:00"
         ],
         "xaxis": "x",
         "y": [
          "10:09:00",
          "10:42:00"
         ],
         "yaxis": "y"
        },
        {
         "hovertemplate": "Gain%=0.39<br>Entry Time=%{x}<br>Exit Time=%{y}<extra></extra>",
         "legendgroup": "0.39",
         "marker": {
          "color": "#EF553B",
          "symbol": "circle"
         },
         "mode": "markers",
         "name": "0.39",
         "orientation": "v",
         "showlegend": true,
         "type": "scatter",
         "x": [
          "09:50:00"
         ],
         "xaxis": "x",
         "y": [
          "10:15:00"
         ],
         "yaxis": "y"
        },
        {
         "hovertemplate": "Gain%=0.41<br>Entry Time=%{x}<br>Exit Time=%{y}<extra></extra>",
         "legendgroup": "0.41",
         "marker": {
          "color": "#00cc96",
          "symbol": "circle"
         },
         "mode": "markers",
         "name": "0.41",
         "orientation": "v",
         "showlegend": true,
         "type": "scatter",
         "x": [
          "09:51:00",
          "09:54:00"
         ],
         "xaxis": "x",
         "y": [
          "10:01:00",
          "10:05:00"
         ],
         "yaxis": "y"
        },
        {
         "hovertemplate": "Gain%=0.3<br>Entry Time=%{x}<br>Exit Time=%{y}<extra></extra>",
         "legendgroup": "0.3",
         "marker": {
          "color": "#ab63fa",
          "symbol": "circle"
         },
         "mode": "markers",
         "name": "0.3",
         "orientation": "v",
         "showlegend": true,
         "type": "scatter",
         "x": [
          "09:51:00",
          "10:57:00"
         ],
         "xaxis": "x",
         "y": [
          "10:19:00",
          "11:33:00"
         ],
         "yaxis": "y"
        },
        {
         "hovertemplate": "Gain%=0.51<br>Entry Time=%{x}<br>Exit Time=%{y}<extra></extra>",
         "legendgroup": "0.51",
         "marker": {
          "color": "#FFA15A",
          "symbol": "circle"
         },
         "mode": "markers",
         "name": "0.51",
         "orientation": "v",
         "showlegend": true,
         "type": "scatter",
         "x": [
          "09:52:00"
         ],
         "xaxis": "x",
         "y": [
          "09:59:00"
         ],
         "yaxis": "y"
        },
        {
         "hovertemplate": "Gain%=0.07<br>Entry Time=%{x}<br>Exit Time=%{y}<extra></extra>",
         "legendgroup": "0.07",
         "marker": {
          "color": "#19d3f3",
          "symbol": "circle"
         },
         "mode": "markers",
         "name": "0.07",
         "orientation": "v",
         "showlegend": true,
         "type": "scatter",
         "x": [
          "09:52:00",
          "10:25:00",
          "10:33:00",
          "10:48:00",
          "11:13:00",
          "11:14:00"
         ],
         "xaxis": "x",
         "y": [
          "10:27:00",
          "10:44:00",
          "10:46:00",
          "11:10:00",
          "12:11:00",
          "11:25:00"
         ],
         "yaxis": "y"
        },
        {
         "hovertemplate": "Gain%=-0.38<br>Entry Time=%{x}<br>Exit Time=%{y}<extra></extra>",
         "legendgroup": "-0.38",
         "marker": {
          "color": "#FF6692",
          "symbol": "circle"
         },
         "mode": "markers",
         "name": "-0.38",
         "orientation": "v",
         "showlegend": true,
         "type": "scatter",
         "x": [
          "09:52:00",
          "09:53:00",
          "09:55:00"
         ],
         "xaxis": "x",
         "y": [
          "10:33:00",
          "10:00:00",
          "10:56:00"
         ],
         "yaxis": "y"
        },
        {
         "hovertemplate": "Gain%=0.35<br>Entry Time=%{x}<br>Exit Time=%{y}<extra></extra>",
         "legendgroup": "0.35",
         "marker": {
          "color": "#B6E880",
          "symbol": "circle"
         },
         "mode": "markers",
         "name": "0.35",
         "orientation": "v",
         "showlegend": true,
         "type": "scatter",
         "x": [
          "09:53:00",
          "10:02:00"
         ],
         "xaxis": "x",
         "y": [
          "10:03:00",
          "10:27:00"
         ],
         "yaxis": "y"
        },
        {
         "hovertemplate": "Gain%=0.33<br>Entry Time=%{x}<br>Exit Time=%{y}<extra></extra>",
         "legendgroup": "0.33",
         "marker": {
          "color": "#FF97FF",
          "symbol": "circle"
         },
         "mode": "markers",
         "name": "0.33",
         "orientation": "v",
         "showlegend": true,
         "type": "scatter",
         "x": [
          "09:54:00"
         ],
         "xaxis": "x",
         "y": [
          "10:03:00"
         ],
         "yaxis": "y"
        },
        {
         "hovertemplate": "Gain%=-0.15<br>Entry Time=%{x}<br>Exit Time=%{y}<extra></extra>",
         "legendgroup": "-0.15",
         "marker": {
          "color": "#FECB52",
          "symbol": "circle"
         },
         "mode": "markers",
         "name": "-0.15",
         "orientation": "v",
         "showlegend": true,
         "type": "scatter",
         "x": [
          "09:56:00",
          "10:12:00",
          "10:15:00"
         ],
         "xaxis": "x",
         "y": [
          "10:01:00",
          "10:18:00",
          "11:31:00"
         ],
         "yaxis": "y"
        },
        {
         "hovertemplate": "Gain%=0.81<br>Entry Time=%{x}<br>Exit Time=%{y}<extra></extra>",
         "legendgroup": "0.81",
         "marker": {
          "color": "#636efa",
          "symbol": "circle"
         },
         "mode": "markers",
         "name": "0.81",
         "orientation": "v",
         "showlegend": true,
         "type": "scatter",
         "x": [
          "09:56:00"
         ],
         "xaxis": "x",
         "y": [
          "10:18:00"
         ],
         "yaxis": "y"
        },
        {
         "hovertemplate": "Gain%=-0.17<br>Entry Time=%{x}<br>Exit Time=%{y}<extra></extra>",
         "legendgroup": "-0.17",
         "marker": {
          "color": "#EF553B",
          "symbol": "circle"
         },
         "mode": "markers",
         "name": "-0.17",
         "orientation": "v",
         "showlegend": true,
         "type": "scatter",
         "x": [
          "09:56:00",
          "09:59:00",
          "10:14:00",
          "10:25:00",
          "10:31:00"
         ],
         "xaxis": "x",
         "y": [
          "10:43:00",
          "10:17:00",
          "10:39:00",
          "10:32:00",
          "10:34:00"
         ],
         "yaxis": "y"
        },
        {
         "hovertemplate": "Gain%=0.22<br>Entry Time=%{x}<br>Exit Time=%{y}<extra></extra>",
         "legendgroup": "0.22",
         "marker": {
          "color": "#00cc96",
          "symbol": "circle"
         },
         "mode": "markers",
         "name": "0.22",
         "orientation": "v",
         "showlegend": true,
         "type": "scatter",
         "x": [
          "09:57:00"
         ],
         "xaxis": "x",
         "y": [
          "10:08:00"
         ],
         "yaxis": "y"
        },
        {
         "hovertemplate": "Gain%=-0.35<br>Entry Time=%{x}<br>Exit Time=%{y}<extra></extra>",
         "legendgroup": "-0.35",
         "marker": {
          "color": "#ab63fa",
          "symbol": "circle"
         },
         "mode": "markers",
         "name": "-0.35",
         "orientation": "v",
         "showlegend": true,
         "type": "scatter",
         "x": [
          "09:59:00"
         ],
         "xaxis": "x",
         "y": [
          "10:50:00"
         ],
         "yaxis": "y"
        },
        {
         "hovertemplate": "Gain%=-0.05<br>Entry Time=%{x}<br>Exit Time=%{y}<extra></extra>",
         "legendgroup": "-0.05",
         "marker": {
          "color": "#FFA15A",
          "symbol": "circle"
         },
         "mode": "markers",
         "name": "-0.05",
         "orientation": "v",
         "showlegend": true,
         "type": "scatter",
         "x": [
          "10:01:00",
          "10:26:00",
          "13:00:00"
         ],
         "xaxis": "x",
         "y": [
          "10:04:00",
          "11:01:00",
          "13:43:00"
         ],
         "yaxis": "y"
        },
        {
         "hovertemplate": "Gain%=0.4<br>Entry Time=%{x}<br>Exit Time=%{y}<extra></extra>",
         "legendgroup": "0.4",
         "marker": {
          "color": "#19d3f3",
          "symbol": "circle"
         },
         "mode": "markers",
         "name": "0.4",
         "orientation": "v",
         "showlegend": true,
         "type": "scatter",
         "x": [
          "10:01:00"
         ],
         "xaxis": "x",
         "y": [
          "10:06:00"
         ],
         "yaxis": "y"
        },
        {
         "hovertemplate": "Gain%=-0.06<br>Entry Time=%{x}<br>Exit Time=%{y}<extra></extra>",
         "legendgroup": "-0.06",
         "marker": {
          "color": "#FF6692",
          "symbol": "circle"
         },
         "mode": "markers",
         "name": "-0.06",
         "orientation": "v",
         "showlegend": true,
         "type": "scatter",
         "x": [
          "10:01:00",
          "10:39:00",
          "10:44:00"
         ],
         "xaxis": "x",
         "y": [
          "10:28:00",
          "10:41:00",
          "11:39:00"
         ],
         "yaxis": "y"
        },
        {
         "hovertemplate": "Gain%=0.46<br>Entry Time=%{x}<br>Exit Time=%{y}<extra></extra>",
         "legendgroup": "0.46",
         "marker": {
          "color": "#B6E880",
          "symbol": "circle"
         },
         "mode": "markers",
         "name": "0.46",
         "orientation": "v",
         "showlegend": true,
         "type": "scatter",
         "x": [
          "10:02:00"
         ],
         "xaxis": "x",
         "y": [
          "10:15:00"
         ],
         "yaxis": "y"
        },
        {
         "hovertemplate": "Gain%=0.12<br>Entry Time=%{x}<br>Exit Time=%{y}<extra></extra>",
         "legendgroup": "0.12",
         "marker": {
          "color": "#FF97FF",
          "symbol": "circle"
         },
         "mode": "markers",
         "name": "0.12",
         "orientation": "v",
         "showlegend": true,
         "type": "scatter",
         "x": [
          "10:02:00",
          "10:20:00"
         ],
         "xaxis": "x",
         "y": [
          "10:41:00",
          "10:26:00"
         ],
         "yaxis": "y"
        },
        {
         "hovertemplate": "Gain%=0.55<br>Entry Time=%{x}<br>Exit Time=%{y}<extra></extra>",
         "legendgroup": "0.55",
         "marker": {
          "color": "#FECB52",
          "symbol": "circle"
         },
         "mode": "markers",
         "name": "0.55",
         "orientation": "v",
         "showlegend": true,
         "type": "scatter",
         "x": [
          "10:03:00"
         ],
         "xaxis": "x",
         "y": [
          "10:18:00"
         ],
         "yaxis": "y"
        },
        {
         "hovertemplate": "Gain%=-0.39<br>Entry Time=%{x}<br>Exit Time=%{y}<extra></extra>",
         "legendgroup": "-0.39",
         "marker": {
          "color": "#636efa",
          "symbol": "circle"
         },
         "mode": "markers",
         "name": "-0.39",
         "orientation": "v",
         "showlegend": true,
         "type": "scatter",
         "x": [
          "10:12:00"
         ],
         "xaxis": "x",
         "y": [
          "10:48:00"
         ],
         "yaxis": "y"
        },
        {
         "hovertemplate": "Gain%=0.48<br>Entry Time=%{x}<br>Exit Time=%{y}<extra></extra>",
         "legendgroup": "0.48",
         "marker": {
          "color": "#EF553B",
          "symbol": "circle"
         },
         "mode": "markers",
         "name": "0.48",
         "orientation": "v",
         "showlegend": true,
         "type": "scatter",
         "x": [
          "10:13:00"
         ],
         "xaxis": "x",
         "y": [
          "10:46:00"
         ],
         "yaxis": "y"
        },
        {
         "hovertemplate": "Gain%=0.38<br>Entry Time=%{x}<br>Exit Time=%{y}<extra></extra>",
         "legendgroup": "0.38",
         "marker": {
          "color": "#00cc96",
          "symbol": "circle"
         },
         "mode": "markers",
         "name": "0.38",
         "orientation": "v",
         "showlegend": true,
         "type": "scatter",
         "x": [
          "10:15:00",
          "10:39:00"
         ],
         "xaxis": "x",
         "y": [
          "10:33:00",
          "10:51:00"
         ],
         "yaxis": "y"
        },
        {
         "hovertemplate": "Gain%=-0.52<br>Entry Time=%{x}<br>Exit Time=%{y}<extra></extra>",
         "legendgroup": "-0.52",
         "marker": {
          "color": "#ab63fa",
          "symbol": "circle"
         },
         "mode": "markers",
         "name": "-0.52",
         "orientation": "v",
         "showlegend": true,
         "type": "scatter",
         "x": [
          "10:18:00"
         ],
         "xaxis": "x",
         "y": [
          "11:49:00"
         ],
         "yaxis": "y"
        },
        {
         "hovertemplate": "Gain%=0.25<br>Entry Time=%{x}<br>Exit Time=%{y}<extra></extra>",
         "legendgroup": "0.25",
         "marker": {
          "color": "#FFA15A",
          "symbol": "circle"
         },
         "mode": "markers",
         "name": "0.25",
         "orientation": "v",
         "showlegend": true,
         "type": "scatter",
         "x": [
          "10:19:00"
         ],
         "xaxis": "x",
         "y": [
          "10:32:00"
         ],
         "yaxis": "y"
        },
        {
         "hovertemplate": "Gain%=-0.41<br>Entry Time=%{x}<br>Exit Time=%{y}<extra></extra>",
         "legendgroup": "-0.41",
         "marker": {
          "color": "#19d3f3",
          "symbol": "circle"
         },
         "mode": "markers",
         "name": "-0.41",
         "orientation": "v",
         "showlegend": true,
         "type": "scatter",
         "x": [
          "10:21:00"
         ],
         "xaxis": "x",
         "y": [
          "10:26:00"
         ],
         "yaxis": "y"
        },
        {
         "hovertemplate": "Gain%=0.79<br>Entry Time=%{x}<br>Exit Time=%{y}<extra></extra>",
         "legendgroup": "0.79",
         "marker": {
          "color": "#FF6692",
          "symbol": "circle"
         },
         "mode": "markers",
         "name": "0.79",
         "orientation": "v",
         "showlegend": true,
         "type": "scatter",
         "x": [
          "10:29:00"
         ],
         "xaxis": "x",
         "y": [
          "11:06:00"
         ],
         "yaxis": "y"
        },
        {
         "hovertemplate": "Gain%=0.01<br>Entry Time=%{x}<br>Exit Time=%{y}<extra></extra>",
         "legendgroup": "0.01",
         "marker": {
          "color": "#B6E880",
          "symbol": "circle"
         },
         "mode": "markers",
         "name": "0.01",
         "orientation": "v",
         "showlegend": true,
         "type": "scatter",
         "x": [
          "10:38:00",
          "11:36:00"
         ],
         "xaxis": "x",
         "y": [
          "11:31:00",
          "12:40:00"
         ],
         "yaxis": "y"
        },
        {
         "hovertemplate": "Gain%=-0.58<br>Entry Time=%{x}<br>Exit Time=%{y}<extra></extra>",
         "legendgroup": "-0.58",
         "marker": {
          "color": "#FF97FF",
          "symbol": "circle"
         },
         "mode": "markers",
         "name": "-0.58",
         "orientation": "v",
         "showlegend": true,
         "type": "scatter",
         "x": [
          "10:39:00"
         ],
         "xaxis": "x",
         "y": [
          "11:16:00"
         ],
         "yaxis": "y"
        },
        {
         "hovertemplate": "Gain%=0.02<br>Entry Time=%{x}<br>Exit Time=%{y}<extra></extra>",
         "legendgroup": "0.02",
         "marker": {
          "color": "#FECB52",
          "symbol": "circle"
         },
         "mode": "markers",
         "name": "0.02",
         "orientation": "v",
         "showlegend": true,
         "type": "scatter",
         "x": [
          "10:40:00"
         ],
         "xaxis": "x",
         "y": [
          "11:10:00"
         ],
         "yaxis": "y"
        },
        {
         "hovertemplate": "Gain%=0.03<br>Entry Time=%{x}<br>Exit Time=%{y}<extra></extra>",
         "legendgroup": "0.03",
         "marker": {
          "color": "#636efa",
          "symbol": "circle"
         },
         "mode": "markers",
         "name": "0.03",
         "orientation": "v",
         "showlegend": true,
         "type": "scatter",
         "x": [
          "10:45:00",
          "10:46:00"
         ],
         "xaxis": "x",
         "y": [
          "11:13:00",
          "11:39:00"
         ],
         "yaxis": "y"
        },
        {
         "hovertemplate": "Gain%=-0.04<br>Entry Time=%{x}<br>Exit Time=%{y}<extra></extra>",
         "legendgroup": "-0.04",
         "marker": {
          "color": "#EF553B",
          "symbol": "circle"
         },
         "mode": "markers",
         "name": "-0.04",
         "orientation": "v",
         "showlegend": true,
         "type": "scatter",
         "x": [
          "10:55:00",
          "11:11:00"
         ],
         "xaxis": "x",
         "y": [
          "10:58:00",
          "12:01:00"
         ],
         "yaxis": "y"
        },
        {
         "hovertemplate": "Gain%=-0.34<br>Entry Time=%{x}<br>Exit Time=%{y}<extra></extra>",
         "legendgroup": "-0.34",
         "marker": {
          "color": "#00cc96",
          "symbol": "circle"
         },
         "mode": "markers",
         "name": "-0.34",
         "orientation": "v",
         "showlegend": true,
         "type": "scatter",
         "x": [
          "11:22:00"
         ],
         "xaxis": "x",
         "y": [
          "12:40:00"
         ],
         "yaxis": "y"
        },
        {
         "hovertemplate": "Gain%=-0.42<br>Entry Time=%{x}<br>Exit Time=%{y}<extra></extra>",
         "legendgroup": "-0.42",
         "marker": {
          "color": "#ab63fa",
          "symbol": "circle"
         },
         "mode": "markers",
         "name": "-0.42",
         "orientation": "v",
         "showlegend": true,
         "type": "scatter",
         "x": [
          "11:57:00"
         ],
         "xaxis": "x",
         "y": [
          "12:50:00"
         ],
         "yaxis": "y"
        }
       ],
       "layout": {
        "height": 700,
        "legend": {
         "title": {
          "text": "Gain%"
         },
         "tracegroupgap": 0
        },
        "template": {
         "data": {
          "bar": [
           {
            "error_x": {
             "color": "#2a3f5f"
            },
            "error_y": {
             "color": "#2a3f5f"
            },
            "marker": {
             "line": {
              "color": "#E5ECF6",
              "width": 0.5
             },
             "pattern": {
              "fillmode": "overlay",
              "size": 10,
              "solidity": 0.2
             }
            },
            "type": "bar"
           }
          ],
          "barpolar": [
           {
            "marker": {
             "line": {
              "color": "#E5ECF6",
              "width": 0.5
             },
             "pattern": {
              "fillmode": "overlay",
              "size": 10,
              "solidity": 0.2
             }
            },
            "type": "barpolar"
           }
          ],
          "carpet": [
           {
            "aaxis": {
             "endlinecolor": "#2a3f5f",
             "gridcolor": "white",
             "linecolor": "white",
             "minorgridcolor": "white",
             "startlinecolor": "#2a3f5f"
            },
            "baxis": {
             "endlinecolor": "#2a3f5f",
             "gridcolor": "white",
             "linecolor": "white",
             "minorgridcolor": "white",
             "startlinecolor": "#2a3f5f"
            },
            "type": "carpet"
           }
          ],
          "choropleth": [
           {
            "colorbar": {
             "outlinewidth": 0,
             "ticks": ""
            },
            "type": "choropleth"
           }
          ],
          "contour": [
           {
            "colorbar": {
             "outlinewidth": 0,
             "ticks": ""
            },
            "colorscale": [
             [
              0,
              "#0d0887"
             ],
             [
              0.1111111111111111,
              "#46039f"
             ],
             [
              0.2222222222222222,
              "#7201a8"
             ],
             [
              0.3333333333333333,
              "#9c179e"
             ],
             [
              0.4444444444444444,
              "#bd3786"
             ],
             [
              0.5555555555555556,
              "#d8576b"
             ],
             [
              0.6666666666666666,
              "#ed7953"
             ],
             [
              0.7777777777777778,
              "#fb9f3a"
             ],
             [
              0.8888888888888888,
              "#fdca26"
             ],
             [
              1,
              "#f0f921"
             ]
            ],
            "type": "contour"
           }
          ],
          "contourcarpet": [
           {
            "colorbar": {
             "outlinewidth": 0,
             "ticks": ""
            },
            "type": "contourcarpet"
           }
          ],
          "heatmap": [
           {
            "colorbar": {
             "outlinewidth": 0,
             "ticks": ""
            },
            "colorscale": [
             [
              0,
              "#0d0887"
             ],
             [
              0.1111111111111111,
              "#46039f"
             ],
             [
              0.2222222222222222,
              "#7201a8"
             ],
             [
              0.3333333333333333,
              "#9c179e"
             ],
             [
              0.4444444444444444,
              "#bd3786"
             ],
             [
              0.5555555555555556,
              "#d8576b"
             ],
             [
              0.6666666666666666,
              "#ed7953"
             ],
             [
              0.7777777777777778,
              "#fb9f3a"
             ],
             [
              0.8888888888888888,
              "#fdca26"
             ],
             [
              1,
              "#f0f921"
             ]
            ],
            "type": "heatmap"
           }
          ],
          "heatmapgl": [
           {
            "colorbar": {
             "outlinewidth": 0,
             "ticks": ""
            },
            "colorscale": [
             [
              0,
              "#0d0887"
             ],
             [
              0.1111111111111111,
              "#46039f"
             ],
             [
              0.2222222222222222,
              "#7201a8"
             ],
             [
              0.3333333333333333,
              "#9c179e"
             ],
             [
              0.4444444444444444,
              "#bd3786"
             ],
             [
              0.5555555555555556,
              "#d8576b"
             ],
             [
              0.6666666666666666,
              "#ed7953"
             ],
             [
              0.7777777777777778,
              "#fb9f3a"
             ],
             [
              0.8888888888888888,
              "#fdca26"
             ],
             [
              1,
              "#f0f921"
             ]
            ],
            "type": "heatmapgl"
           }
          ],
          "histogram": [
           {
            "marker": {
             "pattern": {
              "fillmode": "overlay",
              "size": 10,
              "solidity": 0.2
             }
            },
            "type": "histogram"
           }
          ],
          "histogram2d": [
           {
            "colorbar": {
             "outlinewidth": 0,
             "ticks": ""
            },
            "colorscale": [
             [
              0,
              "#0d0887"
             ],
             [
              0.1111111111111111,
              "#46039f"
             ],
             [
              0.2222222222222222,
              "#7201a8"
             ],
             [
              0.3333333333333333,
              "#9c179e"
             ],
             [
              0.4444444444444444,
              "#bd3786"
             ],
             [
              0.5555555555555556,
              "#d8576b"
             ],
             [
              0.6666666666666666,
              "#ed7953"
             ],
             [
              0.7777777777777778,
              "#fb9f3a"
             ],
             [
              0.8888888888888888,
              "#fdca26"
             ],
             [
              1,
              "#f0f921"
             ]
            ],
            "type": "histogram2d"
           }
          ],
          "histogram2dcontour": [
           {
            "colorbar": {
             "outlinewidth": 0,
             "ticks": ""
            },
            "colorscale": [
             [
              0,
              "#0d0887"
             ],
             [
              0.1111111111111111,
              "#46039f"
             ],
             [
              0.2222222222222222,
              "#7201a8"
             ],
             [
              0.3333333333333333,
              "#9c179e"
             ],
             [
              0.4444444444444444,
              "#bd3786"
             ],
             [
              0.5555555555555556,
              "#d8576b"
             ],
             [
              0.6666666666666666,
              "#ed7953"
             ],
             [
              0.7777777777777778,
              "#fb9f3a"
             ],
             [
              0.8888888888888888,
              "#fdca26"
             ],
             [
              1,
              "#f0f921"
             ]
            ],
            "type": "histogram2dcontour"
           }
          ],
          "mesh3d": [
           {
            "colorbar": {
             "outlinewidth": 0,
             "ticks": ""
            },
            "type": "mesh3d"
           }
          ],
          "parcoords": [
           {
            "line": {
             "colorbar": {
              "outlinewidth": 0,
              "ticks": ""
             }
            },
            "type": "parcoords"
           }
          ],
          "pie": [
           {
            "automargin": true,
            "type": "pie"
           }
          ],
          "scatter": [
           {
            "fillpattern": {
             "fillmode": "overlay",
             "size": 10,
             "solidity": 0.2
            },
            "type": "scatter"
           }
          ],
          "scatter3d": [
           {
            "line": {
             "colorbar": {
              "outlinewidth": 0,
              "ticks": ""
             }
            },
            "marker": {
             "colorbar": {
              "outlinewidth": 0,
              "ticks": ""
             }
            },
            "type": "scatter3d"
           }
          ],
          "scattercarpet": [
           {
            "marker": {
             "colorbar": {
              "outlinewidth": 0,
              "ticks": ""
             }
            },
            "type": "scattercarpet"
           }
          ],
          "scattergeo": [
           {
            "marker": {
             "colorbar": {
              "outlinewidth": 0,
              "ticks": ""
             }
            },
            "type": "scattergeo"
           }
          ],
          "scattergl": [
           {
            "marker": {
             "colorbar": {
              "outlinewidth": 0,
              "ticks": ""
             }
            },
            "type": "scattergl"
           }
          ],
          "scattermapbox": [
           {
            "marker": {
             "colorbar": {
              "outlinewidth": 0,
              "ticks": ""
             }
            },
            "type": "scattermapbox"
           }
          ],
          "scatterpolar": [
           {
            "marker": {
             "colorbar": {
              "outlinewidth": 0,
              "ticks": ""
             }
            },
            "type": "scatterpolar"
           }
          ],
          "scatterpolargl": [
           {
            "marker": {
             "colorbar": {
              "outlinewidth": 0,
              "ticks": ""
             }
            },
            "type": "scatterpolargl"
           }
          ],
          "scatterternary": [
           {
            "marker": {
             "colorbar": {
              "outlinewidth": 0,
              "ticks": ""
             }
            },
            "type": "scatterternary"
           }
          ],
          "surface": [
           {
            "colorbar": {
             "outlinewidth": 0,
             "ticks": ""
            },
            "colorscale": [
             [
              0,
              "#0d0887"
             ],
             [
              0.1111111111111111,
              "#46039f"
             ],
             [
              0.2222222222222222,
              "#7201a8"
             ],
             [
              0.3333333333333333,
              "#9c179e"
             ],
             [
              0.4444444444444444,
              "#bd3786"
             ],
             [
              0.5555555555555556,
              "#d8576b"
             ],
             [
              0.6666666666666666,
              "#ed7953"
             ],
             [
              0.7777777777777778,
              "#fb9f3a"
             ],
             [
              0.8888888888888888,
              "#fdca26"
             ],
             [
              1,
              "#f0f921"
             ]
            ],
            "type": "surface"
           }
          ],
          "table": [
           {
            "cells": {
             "fill": {
              "color": "#EBF0F8"
             },
             "line": {
              "color": "white"
             }
            },
            "header": {
             "fill": {
              "color": "#C8D4E3"
             },
             "line": {
              "color": "white"
             }
            },
            "type": "table"
           }
          ]
         },
         "layout": {
          "annotationdefaults": {
           "arrowcolor": "#2a3f5f",
           "arrowhead": 0,
           "arrowwidth": 1
          },
          "autotypenumbers": "strict",
          "coloraxis": {
           "colorbar": {
            "outlinewidth": 0,
            "ticks": ""
           }
          },
          "colorscale": {
           "diverging": [
            [
             0,
             "#8e0152"
            ],
            [
             0.1,
             "#c51b7d"
            ],
            [
             0.2,
             "#de77ae"
            ],
            [
             0.3,
             "#f1b6da"
            ],
            [
             0.4,
             "#fde0ef"
            ],
            [
             0.5,
             "#f7f7f7"
            ],
            [
             0.6,
             "#e6f5d0"
            ],
            [
             0.7,
             "#b8e186"
            ],
            [
             0.8,
             "#7fbc41"
            ],
            [
             0.9,
             "#4d9221"
            ],
            [
             1,
             "#276419"
            ]
           ],
           "sequential": [
            [
             0,
             "#0d0887"
            ],
            [
             0.1111111111111111,
             "#46039f"
            ],
            [
             0.2222222222222222,
             "#7201a8"
            ],
            [
             0.3333333333333333,
             "#9c179e"
            ],
            [
             0.4444444444444444,
             "#bd3786"
            ],
            [
             0.5555555555555556,
             "#d8576b"
            ],
            [
             0.6666666666666666,
             "#ed7953"
            ],
            [
             0.7777777777777778,
             "#fb9f3a"
            ],
            [
             0.8888888888888888,
             "#fdca26"
            ],
            [
             1,
             "#f0f921"
            ]
           ],
           "sequentialminus": [
            [
             0,
             "#0d0887"
            ],
            [
             0.1111111111111111,
             "#46039f"
            ],
            [
             0.2222222222222222,
             "#7201a8"
            ],
            [
             0.3333333333333333,
             "#9c179e"
            ],
            [
             0.4444444444444444,
             "#bd3786"
            ],
            [
             0.5555555555555556,
             "#d8576b"
            ],
            [
             0.6666666666666666,
             "#ed7953"
            ],
            [
             0.7777777777777778,
             "#fb9f3a"
            ],
            [
             0.8888888888888888,
             "#fdca26"
            ],
            [
             1,
             "#f0f921"
            ]
           ]
          },
          "colorway": [
           "#636efa",
           "#EF553B",
           "#00cc96",
           "#ab63fa",
           "#FFA15A",
           "#19d3f3",
           "#FF6692",
           "#B6E880",
           "#FF97FF",
           "#FECB52"
          ],
          "font": {
           "color": "#2a3f5f"
          },
          "geo": {
           "bgcolor": "white",
           "lakecolor": "white",
           "landcolor": "#E5ECF6",
           "showlakes": true,
           "showland": true,
           "subunitcolor": "white"
          },
          "hoverlabel": {
           "align": "left"
          },
          "hovermode": "closest",
          "mapbox": {
           "style": "light"
          },
          "paper_bgcolor": "white",
          "plot_bgcolor": "#E5ECF6",
          "polar": {
           "angularaxis": {
            "gridcolor": "white",
            "linecolor": "white",
            "ticks": ""
           },
           "bgcolor": "#E5ECF6",
           "radialaxis": {
            "gridcolor": "white",
            "linecolor": "white",
            "ticks": ""
           }
          },
          "scene": {
           "xaxis": {
            "backgroundcolor": "#E5ECF6",
            "gridcolor": "white",
            "gridwidth": 2,
            "linecolor": "white",
            "showbackground": true,
            "ticks": "",
            "zerolinecolor": "white"
           },
           "yaxis": {
            "backgroundcolor": "#E5ECF6",
            "gridcolor": "white",
            "gridwidth": 2,
            "linecolor": "white",
            "showbackground": true,
            "ticks": "",
            "zerolinecolor": "white"
           },
           "zaxis": {
            "backgroundcolor": "#E5ECF6",
            "gridcolor": "white",
            "gridwidth": 2,
            "linecolor": "white",
            "showbackground": true,
            "ticks": "",
            "zerolinecolor": "white"
           }
          },
          "shapedefaults": {
           "line": {
            "color": "#2a3f5f"
           }
          },
          "ternary": {
           "aaxis": {
            "gridcolor": "white",
            "linecolor": "white",
            "ticks": ""
           },
           "baxis": {
            "gridcolor": "white",
            "linecolor": "white",
            "ticks": ""
           },
           "bgcolor": "#E5ECF6",
           "caxis": {
            "gridcolor": "white",
            "linecolor": "white",
            "ticks": ""
           }
          },
          "title": {
           "x": 0.05
          },
          "xaxis": {
           "automargin": true,
           "gridcolor": "white",
           "linecolor": "white",
           "ticks": "",
           "title": {
            "standoff": 15
           },
           "zerolinecolor": "white",
           "zerolinewidth": 2
          },
          "yaxis": {
           "automargin": true,
           "gridcolor": "white",
           "linecolor": "white",
           "ticks": "",
           "title": {
            "standoff": 15
           },
           "zerolinecolor": "white",
           "zerolinewidth": 2
          }
         }
        },
        "title": {
         "text": "Entry Time vs Exit Time with Gain% Color"
        },
        "width": 1000,
        "xaxis": {
         "anchor": "y",
         "categoryarray": [
          "09:30:00",
          "09:30:00",
          "09:30:00",
          "09:30:00",
          "09:30:00",
          "09:30:00",
          "09:30:00",
          "09:30:00",
          "09:30:00",
          "09:30:00",
          "09:30:00",
          "09:31:00",
          "09:31:00",
          "09:31:00",
          "09:31:00",
          "09:31:00",
          "09:31:00",
          "09:31:00",
          "09:31:00",
          "09:31:00",
          "09:31:00",
          "09:31:00",
          "09:32:00",
          "09:32:00",
          "09:32:00",
          "09:32:00",
          "09:32:00",
          "09:32:00",
          "09:32:00",
          "09:32:00",
          "09:32:00",
          "09:32:00",
          "09:32:00",
          "09:32:00",
          "09:33:00",
          "09:33:00",
          "09:33:00",
          "09:33:00",
          "09:33:00",
          "09:33:00",
          "09:33:00",
          "09:34:00",
          "09:34:00",
          "09:34:00",
          "09:34:00",
          "09:34:00",
          "09:34:00",
          "09:34:00",
          "09:35:00",
          "09:35:00",
          "09:35:00",
          "09:35:00",
          "09:36:00",
          "09:36:00",
          "09:36:00",
          "09:36:00",
          "09:36:00",
          "09:36:00",
          "09:38:00",
          "09:38:00",
          "09:38:00",
          "09:38:00",
          "09:38:00",
          "09:39:00",
          "09:39:00",
          "09:39:00",
          "09:39:00",
          "09:39:00",
          "09:39:00",
          "09:40:00",
          "09:40:00",
          "09:40:00",
          "09:41:00",
          "09:41:00",
          "09:41:00",
          "09:42:00",
          "09:42:00",
          "09:42:00",
          "09:43:00",
          "09:43:00",
          "09:43:00",
          "09:43:00",
          "09:43:00",
          "09:43:00",
          "09:43:00",
          "09:44:00",
          "09:44:00",
          "09:44:00",
          "09:44:00",
          "09:45:00",
          "09:45:00",
          "09:45:00",
          "09:46:00",
          "09:47:00",
          "09:47:00",
          "09:47:00",
          "09:48:00",
          "09:48:00",
          "09:49:00",
          "09:49:00",
          "09:49:00",
          "09:49:00",
          "09:50:00",
          "09:51:00",
          "09:51:00",
          "09:51:00",
          "09:51:00",
          "09:52:00",
          "09:52:00",
          "09:52:00",
          "09:53:00",
          "09:53:00",
          "09:53:00",
          "09:54:00",
          "09:54:00",
          "09:55:00",
          "09:56:00",
          "09:56:00",
          "09:56:00",
          "09:56:00",
          "09:56:00",
          "09:56:00",
          "09:56:00",
          "09:56:00",
          "09:57:00",
          "09:57:00",
          "09:57:00",
          "09:57:00",
          "09:57:00",
          "09:57:00",
          "09:59:00",
          "09:59:00",
          "09:59:00",
          "10:01:00",
          "10:01:00",
          "10:01:00",
          "10:01:00",
          "10:01:00",
          "10:02:00",
          "10:02:00",
          "10:02:00",
          "10:02:00",
          "10:03:00",
          "10:04:00",
          "10:04:00",
          "10:06:00",
          "10:08:00",
          "10:09:00",
          "10:11:00",
          "10:12:00",
          "10:12:00",
          "10:12:00",
          "10:13:00",
          "10:13:00",
          "10:13:00",
          "10:14:00",
          "10:14:00",
          "10:15:00",
          "10:15:00",
          "10:15:00",
          "10:16:00",
          "10:16:00",
          "10:16:00",
          "10:17:00",
          "10:17:00",
          "10:17:00",
          "10:18:00",
          "10:19:00",
          "10:19:00",
          "10:20:00",
          "10:20:00",
          "10:21:00",
          "10:22:00",
          "10:25:00",
          "10:25:00",
          "10:25:00",
          "10:26:00",
          "10:26:00",
          "10:26:00",
          "10:26:00",
          "10:27:00",
          "10:28:00",
          "10:28:00",
          "10:28:00",
          "10:29:00",
          "10:31:00",
          "10:31:00",
          "10:31:00",
          "10:33:00",
          "10:33:00",
          "10:33:00",
          "10:36:00",
          "10:36:00",
          "10:36:00",
          "10:38:00",
          "10:38:00",
          "10:38:00",
          "10:39:00",
          "10:39:00",
          "10:39:00",
          "10:39:00",
          "10:39:00",
          "10:40:00",
          "10:42:00",
          "10:44:00",
          "10:45:00",
          "10:46:00",
          "10:47:00",
          "10:48:00",
          "10:48:00",
          "10:48:00",
          "10:48:00",
          "10:49:00",
          "10:49:00",
          "10:49:00",
          "10:51:00",
          "10:52:00",
          "10:55:00",
          "10:57:00",
          "10:58:00",
          "10:59:00",
          "11:00:00",
          "11:04:00",
          "11:04:00",
          "11:10:00",
          "11:11:00",
          "11:12:00",
          "11:13:00",
          "11:14:00",
          "11:14:00",
          "11:17:00",
          "11:21:00",
          "11:22:00",
          "11:28:00",
          "11:28:00",
          "11:34:00",
          "11:36:00",
          "11:36:00",
          "11:38:00",
          "11:44:00",
          "11:50:00",
          "11:57:00",
          "12:00:00",
          "12:03:00",
          "12:08:00",
          "12:09:00",
          "12:22:00",
          "12:39:00",
          "13:00:00",
          "13:11:00",
          "15:01:00"
         ],
         "categoryorder": "array",
         "domain": [
          0,
          1
         ],
         "title": {
          "text": "Entry Time"
         }
        },
        "yaxis": {
         "anchor": "x",
         "autorange": "reversed",
         "categoryarray": [
          "15:15:00",
          "13:28:00",
          "13:43:00",
          "13:30:00",
          "12:48:00",
          "12:23:00",
          "12:40:00",
          "12:58:00",
          "12:19:00",
          "12:50:00",
          "12:20:00",
          "11:57:00",
          "11:40:00",
          "12:40:00",
          "11:54:00",
          "11:47:00",
          "11:47:00",
          "11:32:00",
          "12:40:00",
          "11:46:00",
          "11:22:00",
          "11:50:00",
          "11:25:00",
          "12:11:00",
          "11:25:00",
          "12:01:00",
          "11:48:00",
          "11:28:00",
          "11:11:00",
          "11:24:00",
          "11:27:00",
          "11:33:00",
          "11:33:00",
          "10:58:00",
          "11:49:00",
          "11:35:00",
          "11:12:00",
          "11:12:00",
          "10:54:00",
          "11:10:00",
          "11:08:00",
          "11:08:00",
          "10:56:00",
          "11:39:00",
          "11:39:00",
          "11:13:00",
          "11:39:00",
          "11:16:00",
          "11:10:00",
          "11:16:00",
          "10:52:00",
          "10:51:00",
          "10:42:00",
          "10:41:00",
          "11:31:00",
          "11:13:00",
          "10:52:00",
          "11:32:00",
          "11:12:00",
          "10:46:00",
          "11:01:00",
          "10:46:00",
          "10:36:00",
          "11:36:00",
          "11:30:00",
          "10:34:00",
          "11:06:00",
          "11:30:00",
          "10:50:00",
          "10:37:00",
          "10:30:00",
          "11:01:00",
          "10:44:00",
          "10:43:00",
          "10:33:00",
          "10:47:00",
          "10:44:00",
          "10:32:00",
          "10:24:00",
          "10:26:00",
          "11:04:00",
          "10:26:00",
          "10:32:00",
          "10:30:00",
          "11:49:00",
          "10:49:00",
          "10:45:00",
          "10:21:00",
          "11:26:00",
          "10:39:00",
          "10:24:00",
          "11:31:00",
          "10:33:00",
          "10:30:00",
          "10:44:00",
          "10:39:00",
          "10:47:00",
          "10:46:00",
          "10:36:00",
          "10:48:00",
          "10:25:00",
          "10:18:00",
          "10:30:00",
          "10:19:00",
          "10:21:00",
          "10:42:00",
          "11:03:00",
          "10:18:00",
          "10:18:00",
          "10:41:00",
          "10:27:00",
          "10:15:00",
          "10:13:00",
          "10:41:00",
          "10:28:00",
          "10:14:00",
          "10:06:00",
          "10:04:00",
          "10:50:00",
          "10:17:00",
          "10:16:00",
          "10:21:00",
          "10:34:00",
          "10:22:00",
          "10:02:00",
          "10:15:00",
          "10:08:00",
          "10:43:00",
          "10:30:00",
          "10:18:00",
          "10:18:00",
          "10:07:00",
          "10:07:00",
          "10:01:00",
          "10:00:00",
          "10:56:00",
          "10:05:00",
          "10:03:00",
          "10:00:00",
          "10:03:00",
          "10:00:00",
          "10:33:00",
          "10:27:00",
          "09:59:00",
          "10:31:00",
          "10:19:00",
          "10:01:00",
          "09:54:00",
          "10:15:00",
          "10:22:00",
          "10:09:00",
          "10:06:00",
          "10:02:00",
          "10:17:00",
          "10:13:00",
          "10:06:00",
          "10:01:00",
          "11:10:00",
          "10:51:00",
          "10:52:00",
          "09:57:00",
          "09:52:00",
          "12:19:00",
          "10:16:00",
          "10:15:00",
          "09:59:00",
          "09:53:00",
          "10:05:00",
          "09:49:00",
          "10:01:00",
          "10:00:00",
          "09:47:00",
          "10:01:00",
          "11:25:00",
          "09:53:00",
          "09:47:00",
          "10:05:00",
          "10:05:00",
          "09:55:00",
          "10:13:00",
          "09:50:00",
          "09:49:00",
          "11:03:00",
          "10:43:00",
          "11:37:00",
          "09:57:00",
          "09:47:00",
          "10:01:00",
          "10:14:00",
          "10:11:00",
          "10:06:00",
          "09:50:00",
          "09:47:00",
          "10:10:00",
          "10:04:00",
          "10:26:00",
          "09:42:00",
          "09:49:00",
          "09:48:00",
          "10:49:00",
          "10:45:00",
          "10:08:00",
          "09:48:00",
          "09:42:00",
          "09:49:00",
          "09:56:00",
          "09:46:00",
          "10:07:00",
          "09:46:00",
          "09:58:00",
          "10:06:00",
          "10:01:00",
          "10:01:00",
          "10:00:00",
          "09:59:00",
          "09:47:00",
          "09:46:00",
          "10:01:00",
          "10:01:00",
          "10:21:00",
          "10:55:00",
          "10:12:00",
          "09:56:00",
          "09:47:00",
          "09:51:00",
          "09:38:00",
          "09:54:00",
          "09:37:00",
          "09:40:00",
          "09:44:00",
          "09:46:00",
          "10:17:00",
          "10:02:00",
          "09:54:00",
          "10:06:00",
          "09:48:00",
          "09:47:00",
          "09:36:00",
          "09:53:00",
          "10:04:00",
          "10:43:00",
          "10:21:00",
          "10:06:00",
          "10:00:00",
          "09:54:00",
          "09:46:00",
          "09:45:00",
          "09:45:00",
          "09:40:00",
          "09:34:00",
          "09:33:00"
         ],
         "categoryorder": "array",
         "domain": [
          0,
          1
         ],
         "title": {
          "text": "Exit Time"
         }
        }
       }
      }
     },
     "metadata": {},
     "output_type": "display_data"
    }
   ],
   "source": [
    "import plotly.express as px\n",
    "\n",
    "# Assuming 'trades' is your DataFrame with the trade information\n",
    "\n",
    "# Create scatter plot\n",
    "fig = px.scatter(trades, x=\"TimeEnter\", y=\"TimeExit\", color=\"Gain%\", color_continuous_scale=\"RdBu\",\n",
    "                 title=\"Entry Time vs Exit Time with Gain% Color\",\n",
    "                 labels={\"TimeEnter\": \"Entry Time\", \"TimeExit\": \"Exit Time\", \"Gain%\": \"Gain%\"},\n",
    "                 width=1000, height=700,\n",
    "                 category_orders={\"TimeEnter\": trades[\"TimeEnter\"].tolist(), \"TimeExit\": trades[\"TimeExit\"].tolist()})\n",
    "\n",
    "fig.update_yaxes(autorange=\"reversed\")\n",
    "\n",
    "# Show the plot\n",
    "fig.show()\n"
   ]
  },
  {
   "cell_type": "code",
   "execution_count": 15,
   "metadata": {},
   "outputs": [],
   "source": [
    "def rsi_ranged_backtest_single_pnl(df, rsi_enter, rsi_exit, maxTrades, ticker):\n",
    "    res = pd.DataFrame()\n",
    "    res.loc[0, 'Ticker'] = ticker\n",
    "    res.loc[0, 'StartDate'] = df['Date'].min()\n",
    "    res.loc[0, 'EndDate'] = df['Date'].max()\n",
    "    res.loc[0, 'Entry'] = rsi_enter\n",
    "    res.loc[0, 'Exit'] = rsi_exit,\n",
    "    res.loc[0, 'MaxTrades'] = maxTrades,\n",
    "    res.loc[0, 'TotalTrades'] = len(df)\n",
    "    res.loc[0, 'TotalPercentGain'] = round(df['Gain%'].sum(), 2)\n",
    "    res.loc[0, 'AveragePercentGain'] = round(df['Gain%'].mean(), 2)\n",
    "    res.loc[0, 'MaxPercentGain'] = round(df['Gain%'].max(), 2)\n",
    "    res.loc[0, 'MinPercentGain'] = round(df['Gain%'].min(), 2)\n",
    "\n",
    "    return res"
   ]
  },
  {
   "cell_type": "code",
   "execution_count": 16,
   "metadata": {},
   "outputs": [],
   "source": [
    "def multi_rsi_backtest(tickers, max_trades, indicator_pairs):\n",
    "    results = pd.DataFrame(\n",
    "        columns=[\n",
    "            \"Ticker\",\"StartDate\",\"EndDate\",\"Entry\",\"Exit\",\"TotalTrades\",\n",
    "            \"TotalPercentGain\",\"AveragePercentGain\",\"MaxPercentGain\",\"MinPercentGain\"])\n",
    "\n",
    "    for e in indicator_pairs:\n",
    "        for f in max_trades:\n",
    "            for g in tickers:\n",
    "\n",
    "                df = load_data(g)\n",
    "                df = RSI(df, 14)\n",
    "\n",
    "                print(\"testing TICKER/ENTER/EXIT/MAXTRADES:\", g, e[0], e[1], f)\n",
    "                trades = simulate_date_range(datetime.date(2022, 9, 30), datetime.date(2023, 9, 30), e[0], e[1], f, df)\n",
    "                pnl = rsi_ranged_backtest_single_pnl(trades, e[0], e[1], f, g)\n",
    "                results.loc[len(results)] = pnl.loc[0]\n",
    "\n",
    "    results = results.sort_values(by=[\"TotalPercentGain\"], ascending=False)\n",
    "    return results"
   ]
  }
 ],
 "metadata": {
  "kernelspec": {
   "display_name": "Python 3",
   "language": "python",
   "name": "python3"
  },
  "language_info": {
   "codemirror_mode": {
    "name": "ipython",
    "version": 3
   },
   "file_extension": ".py",
   "mimetype": "text/x-python",
   "name": "python",
   "nbconvert_exporter": "python",
   "pygments_lexer": "ipython3",
   "version": "3.12.1"
  }
 },
 "nbformat": 4,
 "nbformat_minor": 2
}
