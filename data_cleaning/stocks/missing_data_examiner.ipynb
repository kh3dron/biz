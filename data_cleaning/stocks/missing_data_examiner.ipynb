{
 "cells": [
  {
   "cell_type": "code",
   "execution_count": 2,
   "metadata": {},
   "outputs": [
    {
     "name": "stdout",
     "output_type": "stream",
     "text": [
      "    ticker  miss_rate\n",
      "0      MMM   0.005295\n",
      "1      AOS   0.137961\n",
      "2      ABT   0.002929\n",
      "3     ABBV   0.002687\n",
      "4      ACN   0.008191\n",
      "..     ...        ...\n",
      "498    YUM   0.015164\n",
      "499   ZBRA   0.269297\n",
      "500    ZBH   0.038688\n",
      "501   ZION   0.030303\n",
      "502    ZTS   0.016500\n",
      "\n",
      "[503 rows x 2 columns]\n"
     ]
    }
   ],
   "source": [
    "# read results.cvs\n",
    "\n",
    "import pandas as pd\n",
    "\n",
    "df = pd.read_csv('misses.csv')"
   ]
  },
  {
   "cell_type": "code",
   "execution_count": 9,
   "metadata": {},
   "outputs": [
    {
     "data": {
      "text/plain": [
       "263"
      ]
     },
     "execution_count": 9,
     "metadata": {},
     "output_type": "execute_result"
    }
   ],
   "source": [
    "df.sort_values(by='miss_rate', ascending=False, inplace=True)\n",
    "\n",
    "workable = df[df['miss_rate'] < 0.03]\n",
    "len(workable)\n",
    "\n",
    "# So about half the data is 97% full"
   ]
  },
  {
   "cell_type": "code",
   "execution_count": null,
   "metadata": {},
   "outputs": [],
   "source": []
  }
 ],
 "metadata": {
  "kernelspec": {
   "display_name": "Python 3",
   "language": "python",
   "name": "python3"
  },
  "language_info": {
   "codemirror_mode": {
    "name": "ipython",
    "version": 3
   },
   "file_extension": ".py",
   "mimetype": "text/x-python",
   "name": "python",
   "nbconvert_exporter": "python",
   "pygments_lexer": "ipython3",
   "version": "3.12.1"
  }
 },
 "nbformat": 4,
 "nbformat_minor": 2
}
