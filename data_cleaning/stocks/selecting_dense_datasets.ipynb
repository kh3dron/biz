{
 "cells": [
  {
   "cell_type": "code",
   "execution_count": 3,
   "metadata": {},
   "outputs": [
    {
     "name": "stdout",
     "output_type": "stream",
     "text": [
      "- 50% dense: 2752 of 6564 (41.9%)\n",
      "- 90% dense: 910 of 6564 (13.9%)\n",
      "- 95% dense: 608 of 6564 (9.3%)\n",
      "- 99% dense: 248 of 6564 (3.8%)\n"
     ]
    }
   ],
   "source": [
    "import pandas as pd\n",
    "\n",
    "import warnings\n",
    "warnings.simplefilter(action='ignore', category=FutureWarning)\n",
    "\n",
    "\n",
    "df = pd.read_csv('all_ticker_misses.csv')\n",
    "\n",
    "total_records = len(df)\n",
    "\n",
    "dense_50 = len(df[df['miss_rate'] < 0.5])\n",
    "dense_90 = len(df[df['miss_rate'] < 0.1])\n",
    "dense_95 = len(df[df['miss_rate'] < 0.05])\n",
    "dense_99 = len(df[df['miss_rate'] < 0.01])\n",
    "\n",
    "print(f\"- 50% dense: {dense_50} of {total_records} ({dense_50/total_records:.1%})\")\n",
    "print(f\"- 90% dense: {dense_90} of {total_records} ({dense_90/total_records:.1%})\")\n",
    "print(f\"- 95% dense: {dense_95} of {total_records} ({dense_95/total_records:.1%})\")\n",
    "print(f\"- 99% dense: {dense_99} of {total_records} ({dense_99/total_records:.1%})\")"
   ]
  },
  {
   "cell_type": "markdown",
   "metadata": {},
   "source": [
    "- 50% dense: 2752 of 6564 (41.9%)\n",
    "- 90% dense: 910 of 6564 (13.9%)\n",
    "- 95% dense: 608 of 6564 (9.3%)\n",
    "- 99% dense: 248 of 6564 (3.8%)\n",
    "\n",
    "This is dissapointing"
   ]
  },
  {
   "cell_type": "code",
   "execution_count": null,
   "metadata": {},
   "outputs": [],
   "source": [
    "# write out the tickers of the 95% dense\n",
    "\n",
    "dense_95_df = df[df['miss_rate'] < 0.05]\n",
    "dense_95_df.to_csv('dense_95.csv', index=False)"
   ]
  }
 ],
 "metadata": {
  "kernelspec": {
   "display_name": "Python 3",
   "language": "python",
   "name": "python3"
  },
  "language_info": {
   "codemirror_mode": {
    "name": "ipython",
    "version": 3
   },
   "file_extension": ".py",
   "mimetype": "text/x-python",
   "name": "python",
   "nbconvert_exporter": "python",
   "pygments_lexer": "ipython3",
   "version": "3.10.12"
  }
 },
 "nbformat": 4,
 "nbformat_minor": 2
}
