{
 "cells": [
  {
   "cell_type": "code",
   "execution_count": 14,
   "metadata": {},
   "outputs": [
    {
     "name": "stdout",
     "output_type": "stream",
     "text": [
      "> 50% dense: 501 of 503 (99.6%)\n",
      "> 95% dense: 325 of 503 (64.6%)\n",
      "> 99% dense: 164 of 503 (32.6%)\n"
     ]
    }
   ],
   "source": [
    "import pandas as pd\n",
    "\n",
    "df = pd.read_csv('misses_sp500.csv')\n",
    "\n",
    "total_records = len(df)\n",
    "\n",
    "dense_50 = len(df[df['miss_rate'] < 0.5])\n",
    "dense_90 = len(df[df['miss_rate'] < 0.05])\n",
    "dense_99 = len(df[df['miss_rate'] < 0.01])\n",
    "\n",
    "print(f\"> 50% dense: {dense_50} of {total_records} ({dense_50/total_records:.1%})\")\n",
    "print(f\"> 95% dense: {dense_90} of {total_records} ({dense_90/total_records:.1%})\")\n",
    "print(f\"> 99% dense: {dense_99} of {total_records} ({dense_99/total_records:.1%})\")"
   ]
  },
  {
   "cell_type": "code",
   "execution_count": null,
   "metadata": {},
   "outputs": [],
   "source": []
  }
 ],
 "metadata": {
  "kernelspec": {
   "display_name": "Python 3",
   "language": "python",
   "name": "python3"
  },
  "language_info": {
   "codemirror_mode": {
    "name": "ipython",
    "version": 3
   },
   "file_extension": ".py",
   "mimetype": "text/x-python",
   "name": "python",
   "nbconvert_exporter": "python",
   "pygments_lexer": "ipython3",
   "version": "3.12.1"
  }
 },
 "nbformat": 4,
 "nbformat_minor": 2
}
