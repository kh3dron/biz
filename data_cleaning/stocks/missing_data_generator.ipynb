{
 "cells": [
  {
   "cell_type": "code",
   "execution_count": 19,
   "metadata": {},
   "outputs": [
    {
     "name": "stdout",
     "output_type": "stream",
     "text": [
      "['MMM' 'AOS' 'ABT' 'ABBV' 'ACN' 'ADBE' 'AMD' 'AES' 'AFL' 'A' 'APD' 'ABNB'\n",
      " 'AKAM' 'ALB' 'ARE' 'ALGN' 'ALLE' 'LNT' 'ALL' 'GOOGL' 'GOOG' 'MO' 'AMZN'\n",
      " 'AMCR' 'AEE' 'AAL' 'AEP' 'AXP' 'AIG' 'AMT' 'AWK' 'AMP' 'AME' 'AMGN' 'APH'\n",
      " 'ADI' 'ANSS' 'AON' 'APA' 'AAPL' 'AMAT' 'APTV' 'ACGL' 'ADM' 'ANET' 'AJG'\n",
      " 'AIZ' 'T' 'ATO' 'ADSK' 'ADP' 'AZO' 'AVB' 'AVY' 'AXON' 'BKR' 'BALL' 'BAC'\n",
      " 'BK' 'BBWI' 'BAX' 'BDX' 'BRK.B' 'BBY' 'BIO' 'TECH' 'BIIB' 'BLK' 'BX' 'BA'\n",
      " 'BKNG' 'BWA' 'BXP' 'BSX' 'BMY' 'AVGO' 'BR' 'BRO' 'BF.B' 'BLDR' 'BG'\n",
      " 'CDNS' 'CZR' 'CPT' 'CPB' 'COF' 'CAH' 'KMX' 'CCL' 'CARR' 'CTLT' 'CAT'\n",
      " 'CBOE' 'CBRE' 'CDW' 'CE' 'COR' 'CNC' 'CNP' 'CDAY' 'CF' 'CHRW' 'CRL'\n",
      " 'SCHW' 'CHTR' 'CVX' 'CMG' 'CB' 'CHD' 'CI' 'CINF' 'CTAS' 'CSCO' 'C' 'CFG'\n",
      " 'CLX' 'CME' 'CMS' 'KO' 'CTSH' 'CL' 'CMCSA' 'CMA' 'CAG' 'COP' 'ED' 'STZ'\n",
      " 'CEG' 'COO' 'CPRT' 'GLW' 'CTVA' 'CSGP' 'COST' 'CTRA' 'CCI' 'CSX' 'CMI'\n",
      " 'CVS' 'DHR' 'DRI' 'DVA' 'DE' 'DAL' 'XRAY' 'DVN' 'DXCM' 'FANG' 'DLR' 'DFS'\n",
      " 'DG' 'DLTR' 'D' 'DPZ' 'DOV' 'DOW' 'DHI' 'DTE' 'DUK' 'DD' 'EMN' 'ETN'\n",
      " 'EBAY' 'ECL' 'EIX' 'EW' 'EA' 'ELV' 'LLY' 'EMR' 'ENPH' 'ETR' 'EOG' 'EPAM'\n",
      " 'EQT' 'EFX' 'EQIX' 'EQR' 'ESS' 'EL' 'ETSY' 'EG' 'EVRG' 'ES' 'EXC' 'EXPE'\n",
      " 'EXPD' 'EXR' 'XOM' 'FFIV' 'FDS' 'FICO' 'FAST' 'FRT' 'FDX' 'FIS' 'FITB'\n",
      " 'FSLR' 'FE' 'FI' 'FLT' 'FMC' 'F' 'FTNT' 'FTV' 'FOXA' 'FOX' 'BEN' 'FCX'\n",
      " 'GRMN' 'IT' 'GEHC' 'GEN' 'GNRC' 'GD' 'GE' 'GIS' 'GM' 'GPC' 'GILD' 'GPN'\n",
      " 'GL' 'GS' 'HAL' 'HIG' 'HAS' 'HCA' 'PEAK' 'HSIC' 'HSY' 'HES' 'HPE' 'HLT'\n",
      " 'HOLX' 'HD' 'HON' 'HRL' 'HST' 'HWM' 'HPQ' 'HUBB' 'HUM' 'HBAN' 'HII' 'IBM'\n",
      " 'IEX' 'IDXX' 'ITW' 'ILMN' 'INCY' 'IR' 'PODD' 'INTC' 'ICE' 'IFF' 'IP'\n",
      " 'IPG' 'INTU' 'ISRG' 'IVZ' 'INVH' 'IQV' 'IRM' 'JBHT' 'JBL' 'JKHY' 'J'\n",
      " 'JNJ' 'JCI' 'JPM' 'JNPR' 'K' 'KVUE' 'KDP' 'KEY' 'KEYS' 'KMB' 'KIM' 'KMI'\n",
      " 'KLAC' 'KHC' 'KR' 'LHX' 'LH' 'LRCX' 'LW' 'LVS' 'LDOS' 'LEN' 'LIN' 'LYV'\n",
      " 'LKQ' 'LMT' 'L' 'LOW' 'LULU' 'LYB' 'MTB' 'MRO' 'MPC' 'MKTX' 'MAR' 'MMC'\n",
      " 'MLM' 'MAS' 'MA' 'MTCH' 'MKC' 'MCD' 'MCK' 'MDT' 'MRK' 'META' 'MET' 'MTD'\n",
      " 'MGM' 'MCHP' 'MU' 'MSFT' 'MAA' 'MRNA' 'MHK' 'MOH' 'TAP' 'MDLZ' 'MPWR'\n",
      " 'MNST' 'MCO' 'MS' 'MOS' 'MSI' 'MSCI' 'NDAQ' 'NTAP' 'NFLX' 'NEM' 'NWSA'\n",
      " 'NWS' 'NEE' 'NKE' 'NI' 'NDSN' 'NSC' 'NTRS' 'NOC' 'NCLH' 'NRG' 'NUE'\n",
      " 'NVDA' 'NVR' 'NXPI' 'ORLY' 'OXY' 'ODFL' 'OMC' 'ON' 'OKE' 'ORCL' 'OTIS'\n",
      " 'PCAR' 'PKG' 'PANW' 'PARA' 'PH' 'PAYX' 'PAYC' 'PYPL' 'PNR' 'PEP' 'PFE'\n",
      " 'PCG' 'PM' 'PSX' 'PNW' 'PXD' 'PNC' 'POOL' 'PPG' 'PPL' 'PFG' 'PG' 'PGR'\n",
      " 'PLD' 'PRU' 'PEG' 'PTC' 'PSA' 'PHM' 'QRVO' 'PWR' 'QCOM' 'DGX' 'RL' 'RJF'\n",
      " 'RTX' 'O' 'REG' 'REGN' 'RF' 'RSG' 'RMD' 'RVTY' 'RHI' 'ROK' 'ROL' 'ROP'\n",
      " 'ROST' 'RCL' 'SPGI' 'CRM' 'SBAC' 'SLB' 'STX' 'SRE' 'NOW' 'SHW' 'SPG'\n",
      " 'SWKS' 'SJM' 'SNA' 'SO' 'LUV' 'SWK' 'SBUX' 'STT' 'STLD' 'STE' 'SYK' 'SYF'\n",
      " 'SNPS' 'SYY' 'TMUS' 'TROW' 'TTWO' 'TPR' 'TRGP' 'TGT' 'TEL' 'TDY' 'TFX'\n",
      " 'TER' 'TSLA' 'TXN' 'TXT' 'TMO' 'TJX' 'TSCO' 'TT' 'TDG' 'TRV' 'TRMB' 'TFC'\n",
      " 'TYL' 'TSN' 'USB' 'UBER' 'UDR' 'ULTA' 'UNP' 'UAL' 'UPS' 'URI' 'UNH' 'UHS'\n",
      " 'VLO' 'VTR' 'VLTO' 'VRSN' 'VRSK' 'VZ' 'VRTX' 'VFC' 'VTRS' 'VICI' 'V'\n",
      " 'VMC' 'WRB' 'WAB' 'WBA' 'WMT' 'DIS' 'WBD' 'WM' 'WAT' 'WEC' 'WFC' 'WELL'\n",
      " 'WST' 'WDC' 'WRK' 'WY' 'WHR' 'WMB' 'WTW' 'GWW' 'WYNN' 'XEL' 'XYL' 'YUM'\n",
      " 'ZBRA' 'ZBH' 'ZION' 'ZTS']\n"
     ]
    }
   ],
   "source": [
    "import sys\n",
    "sys.path.append('../../')\n",
    "\n",
    "import warnings\n",
    "warnings.simplefilter(action='ignore', category=FutureWarning)\n",
    "\n",
    "import pandas as pd\n",
    "import utilities\n",
    "\n",
    "# begin by opening and examining the SP500 companies\n",
    "\n",
    "\n",
    "tickers = pd.read_html('https://en.wikipedia.org/wiki/List_of_S%26P_500_companies')[0]\n",
    "print(tickers[\"Symbol\"].values)"
   ]
  },
  {
   "cell_type": "code",
   "execution_count": 20,
   "metadata": {},
   "outputs": [],
   "source": [
    "def retrieve_data(ticker):\n",
    "    filename = \"../../data/stocks/{}_full_1min_adjsplit.txt\".format(ticker)\n",
    "\n",
    "    try:\n",
    "        df = pd.read_csv(filename, sep=\",\", header=0)\n",
    "    except FileNotFoundError:\n",
    "        print(\"{}: file not found\".format(filename))\n",
    "        return None\n",
    "\n",
    "    df.columns = [\"timestamp\", \"open\", \"high\", \"low\", \"close\", \"volume\"]\n",
    "    df[\"ticker\"] = ticker\n",
    "    df = utilities.timestamp_to_date_and_time(df)\n",
    "    \n",
    "    misses = utilities.missing_markethours(df)\n",
    "    \n",
    "    print(ticker, misses)\n",
    "    return misses"
   ]
  },
  {
   "cell_type": "code",
   "execution_count": 21,
   "metadata": {},
   "outputs": [
    {
     "name": "stdout",
     "output_type": "stream",
     "text": [
      "6567\n"
     ]
    }
   ],
   "source": [
    "import os\n",
    "\n",
    "# replace tickers with the whole list\n",
    "files = os.listdir('../../data/stocks')\n",
    "tickers = [f.split('_')[0] for f in files if f.endswith('.txt')]\n",
    "print(len(tickers))"
   ]
  },
  {
   "cell_type": "code",
   "execution_count": 22,
   "metadata": {},
   "outputs": [
    {
     "name": "stdout",
     "output_type": "stream",
     "text": [
      "ILMN 0.07986546342453826\n",
      "SQ 0.006689829516444368\n",
      "DG 0.02792094555318736\n",
      "RANI 0.8260949576739051\n",
      "NMTC 0.8291285103785104\n",
      "DNA 0.03253365613880632\n",
      "PMN 0.9462647262647262\n"
     ]
    },
    {
     "ename": "KeyboardInterrupt",
     "evalue": "",
     "output_type": "error",
     "traceback": [
      "\u001b[0;31m---------------------------------------------------------------------------\u001b[0m",
      "\u001b[0;31mKeyboardInterrupt\u001b[0m                         Traceback (most recent call last)",
      "Cell \u001b[0;32mIn[22], line 4\u001b[0m\n\u001b[1;32m      1\u001b[0m all_misses \u001b[38;5;241m=\u001b[39m pd\u001b[38;5;241m.\u001b[39mDataFrame(columns\u001b[38;5;241m=\u001b[39m[\u001b[38;5;124m\"\u001b[39m\u001b[38;5;124mticker\u001b[39m\u001b[38;5;124m\"\u001b[39m, \u001b[38;5;124m\"\u001b[39m\u001b[38;5;124mmiss_rate\u001b[39m\u001b[38;5;124m\"\u001b[39m])\n\u001b[1;32m      3\u001b[0m \u001b[38;5;28;01mfor\u001b[39;00m ticker \u001b[38;5;129;01min\u001b[39;00m tickers:\n\u001b[0;32m----> 4\u001b[0m     misses \u001b[38;5;241m=\u001b[39m \u001b[43mretrieve_data\u001b[49m\u001b[43m(\u001b[49m\u001b[43mticker\u001b[49m\u001b[43m)\u001b[49m\n\u001b[1;32m      5\u001b[0m     new_row \u001b[38;5;241m=\u001b[39m pd\u001b[38;5;241m.\u001b[39mDataFrame({\u001b[38;5;124m\"\u001b[39m\u001b[38;5;124mticker\u001b[39m\u001b[38;5;124m\"\u001b[39m: ticker, \u001b[38;5;124m\"\u001b[39m\u001b[38;5;124mmiss_rate\u001b[39m\u001b[38;5;124m\"\u001b[39m: [misses]})\n\u001b[1;32m      6\u001b[0m     all_misses \u001b[38;5;241m=\u001b[39m pd\u001b[38;5;241m.\u001b[39mconcat([all_misses, new_row])\n",
      "Cell \u001b[0;32mIn[20], line 5\u001b[0m, in \u001b[0;36mretrieve_data\u001b[0;34m(ticker)\u001b[0m\n\u001b[1;32m      2\u001b[0m filename \u001b[38;5;241m=\u001b[39m \u001b[38;5;124m\"\u001b[39m\u001b[38;5;124m../../data/stocks/\u001b[39m\u001b[38;5;132;01m{}\u001b[39;00m\u001b[38;5;124m_full_1min_adjsplit.txt\u001b[39m\u001b[38;5;124m\"\u001b[39m\u001b[38;5;241m.\u001b[39mformat(ticker)\n\u001b[1;32m      4\u001b[0m \u001b[38;5;28;01mtry\u001b[39;00m:\n\u001b[0;32m----> 5\u001b[0m     df \u001b[38;5;241m=\u001b[39m \u001b[43mpd\u001b[49m\u001b[38;5;241;43m.\u001b[39;49m\u001b[43mread_csv\u001b[49m\u001b[43m(\u001b[49m\u001b[43mfilename\u001b[49m\u001b[43m,\u001b[49m\u001b[43m \u001b[49m\u001b[43msep\u001b[49m\u001b[38;5;241;43m=\u001b[39;49m\u001b[38;5;124;43m\"\u001b[39;49m\u001b[38;5;124;43m,\u001b[39;49m\u001b[38;5;124;43m\"\u001b[39;49m\u001b[43m,\u001b[49m\u001b[43m \u001b[49m\u001b[43mheader\u001b[49m\u001b[38;5;241;43m=\u001b[39;49m\u001b[38;5;241;43m0\u001b[39;49m\u001b[43m)\u001b[49m\n\u001b[1;32m      6\u001b[0m \u001b[38;5;28;01mexcept\u001b[39;00m \u001b[38;5;167;01mFileNotFoundError\u001b[39;00m:\n\u001b[1;32m      7\u001b[0m     \u001b[38;5;28mprint\u001b[39m(\u001b[38;5;124m\"\u001b[39m\u001b[38;5;132;01m{}\u001b[39;00m\u001b[38;5;124m: file not found\u001b[39m\u001b[38;5;124m\"\u001b[39m\u001b[38;5;241m.\u001b[39mformat(filename))\n",
      "File \u001b[0;32m/Library/Frameworks/Python.framework/Versions/3.12/lib/python3.12/site-packages/pandas/io/parsers/readers.py:948\u001b[0m, in \u001b[0;36mread_csv\u001b[0;34m(filepath_or_buffer, sep, delimiter, header, names, index_col, usecols, dtype, engine, converters, true_values, false_values, skipinitialspace, skiprows, skipfooter, nrows, na_values, keep_default_na, na_filter, verbose, skip_blank_lines, parse_dates, infer_datetime_format, keep_date_col, date_parser, date_format, dayfirst, cache_dates, iterator, chunksize, compression, thousands, decimal, lineterminator, quotechar, quoting, doublequote, escapechar, comment, encoding, encoding_errors, dialect, on_bad_lines, delim_whitespace, low_memory, memory_map, float_precision, storage_options, dtype_backend)\u001b[0m\n\u001b[1;32m    935\u001b[0m kwds_defaults \u001b[38;5;241m=\u001b[39m _refine_defaults_read(\n\u001b[1;32m    936\u001b[0m     dialect,\n\u001b[1;32m    937\u001b[0m     delimiter,\n\u001b[0;32m   (...)\u001b[0m\n\u001b[1;32m    944\u001b[0m     dtype_backend\u001b[38;5;241m=\u001b[39mdtype_backend,\n\u001b[1;32m    945\u001b[0m )\n\u001b[1;32m    946\u001b[0m kwds\u001b[38;5;241m.\u001b[39mupdate(kwds_defaults)\n\u001b[0;32m--> 948\u001b[0m \u001b[38;5;28;01mreturn\u001b[39;00m \u001b[43m_read\u001b[49m\u001b[43m(\u001b[49m\u001b[43mfilepath_or_buffer\u001b[49m\u001b[43m,\u001b[49m\u001b[43m \u001b[49m\u001b[43mkwds\u001b[49m\u001b[43m)\u001b[49m\n",
      "File \u001b[0;32m/Library/Frameworks/Python.framework/Versions/3.12/lib/python3.12/site-packages/pandas/io/parsers/readers.py:617\u001b[0m, in \u001b[0;36m_read\u001b[0;34m(filepath_or_buffer, kwds)\u001b[0m\n\u001b[1;32m    614\u001b[0m     \u001b[38;5;28;01mreturn\u001b[39;00m parser\n\u001b[1;32m    616\u001b[0m \u001b[38;5;28;01mwith\u001b[39;00m parser:\n\u001b[0;32m--> 617\u001b[0m     \u001b[38;5;28;01mreturn\u001b[39;00m \u001b[43mparser\u001b[49m\u001b[38;5;241;43m.\u001b[39;49m\u001b[43mread\u001b[49m\u001b[43m(\u001b[49m\u001b[43mnrows\u001b[49m\u001b[43m)\u001b[49m\n",
      "File \u001b[0;32m/Library/Frameworks/Python.framework/Versions/3.12/lib/python3.12/site-packages/pandas/io/parsers/readers.py:1748\u001b[0m, in \u001b[0;36mTextFileReader.read\u001b[0;34m(self, nrows)\u001b[0m\n\u001b[1;32m   1741\u001b[0m nrows \u001b[38;5;241m=\u001b[39m validate_integer(\u001b[38;5;124m\"\u001b[39m\u001b[38;5;124mnrows\u001b[39m\u001b[38;5;124m\"\u001b[39m, nrows)\n\u001b[1;32m   1742\u001b[0m \u001b[38;5;28;01mtry\u001b[39;00m:\n\u001b[1;32m   1743\u001b[0m     \u001b[38;5;66;03m# error: \"ParserBase\" has no attribute \"read\"\u001b[39;00m\n\u001b[1;32m   1744\u001b[0m     (\n\u001b[1;32m   1745\u001b[0m         index,\n\u001b[1;32m   1746\u001b[0m         columns,\n\u001b[1;32m   1747\u001b[0m         col_dict,\n\u001b[0;32m-> 1748\u001b[0m     ) \u001b[38;5;241m=\u001b[39m \u001b[38;5;28;43mself\u001b[39;49m\u001b[38;5;241;43m.\u001b[39;49m\u001b[43m_engine\u001b[49m\u001b[38;5;241;43m.\u001b[39;49m\u001b[43mread\u001b[49m\u001b[43m(\u001b[49m\u001b[43m  \u001b[49m\u001b[38;5;66;43;03m# type: ignore[attr-defined]\u001b[39;49;00m\n\u001b[1;32m   1749\u001b[0m \u001b[43m        \u001b[49m\u001b[43mnrows\u001b[49m\n\u001b[1;32m   1750\u001b[0m \u001b[43m    \u001b[49m\u001b[43m)\u001b[49m\n\u001b[1;32m   1751\u001b[0m \u001b[38;5;28;01mexcept\u001b[39;00m \u001b[38;5;167;01mException\u001b[39;00m:\n\u001b[1;32m   1752\u001b[0m     \u001b[38;5;28mself\u001b[39m\u001b[38;5;241m.\u001b[39mclose()\n",
      "File \u001b[0;32m/Library/Frameworks/Python.framework/Versions/3.12/lib/python3.12/site-packages/pandas/io/parsers/c_parser_wrapper.py:234\u001b[0m, in \u001b[0;36mCParserWrapper.read\u001b[0;34m(self, nrows)\u001b[0m\n\u001b[1;32m    232\u001b[0m \u001b[38;5;28;01mtry\u001b[39;00m:\n\u001b[1;32m    233\u001b[0m     \u001b[38;5;28;01mif\u001b[39;00m \u001b[38;5;28mself\u001b[39m\u001b[38;5;241m.\u001b[39mlow_memory:\n\u001b[0;32m--> 234\u001b[0m         chunks \u001b[38;5;241m=\u001b[39m \u001b[38;5;28;43mself\u001b[39;49m\u001b[38;5;241;43m.\u001b[39;49m\u001b[43m_reader\u001b[49m\u001b[38;5;241;43m.\u001b[39;49m\u001b[43mread_low_memory\u001b[49m\u001b[43m(\u001b[49m\u001b[43mnrows\u001b[49m\u001b[43m)\u001b[49m\n\u001b[1;32m    235\u001b[0m         \u001b[38;5;66;03m# destructive to chunks\u001b[39;00m\n\u001b[1;32m    236\u001b[0m         data \u001b[38;5;241m=\u001b[39m _concatenate_chunks(chunks)\n",
      "File \u001b[0;32mparsers.pyx:843\u001b[0m, in \u001b[0;36mpandas._libs.parsers.TextReader.read_low_memory\u001b[0;34m()\u001b[0m\n",
      "File \u001b[0;32mparsers.pyx:904\u001b[0m, in \u001b[0;36mpandas._libs.parsers.TextReader._read_rows\u001b[0;34m()\u001b[0m\n",
      "File \u001b[0;32mparsers.pyx:879\u001b[0m, in \u001b[0;36mpandas._libs.parsers.TextReader._tokenize_rows\u001b[0;34m()\u001b[0m\n",
      "File \u001b[0;32mparsers.pyx:890\u001b[0m, in \u001b[0;36mpandas._libs.parsers.TextReader._check_tokenize_status\u001b[0;34m()\u001b[0m\n",
      "File \u001b[0;32mparsers.pyx:2050\u001b[0m, in \u001b[0;36mpandas._libs.parsers.raise_parser_error\u001b[0;34m()\u001b[0m\n",
      "File \u001b[0;32m<frozen codecs>:331\u001b[0m, in \u001b[0;36mgetstate\u001b[0;34m(self)\u001b[0m\n",
      "\u001b[0;31mKeyboardInterrupt\u001b[0m: "
     ]
    }
   ],
   "source": [
    "all_misses = pd.DataFrame(columns=[\"ticker\", \"miss_rate\"])\n",
    "\n",
    "for ticker in tickers:\n",
    "    misses = retrieve_data(ticker)\n",
    "    new_row = pd.DataFrame({\"ticker\": ticker, \"miss_rate\": [misses]})\n",
    "    all_misses = pd.concat([all_misses, new_row])"
   ]
  },
  {
   "cell_type": "code",
   "execution_count": null,
   "metadata": {},
   "outputs": [],
   "source": [
    "all_misses.to_csv(\"all_ticker_misses.csv\", index=False)"
   ]
  }
 ],
 "metadata": {
  "kernelspec": {
   "display_name": "Python 3",
   "language": "python",
   "name": "python3"
  },
  "language_info": {
   "codemirror_mode": {
    "name": "ipython",
    "version": 3
   },
   "file_extension": ".py",
   "mimetype": "text/x-python",
   "name": "python",
   "nbconvert_exporter": "python",
   "pygments_lexer": "ipython3",
   "version": "3.12.1"
  }
 },
 "nbformat": 4,
 "nbformat_minor": 2
}
