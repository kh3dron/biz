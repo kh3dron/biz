{
 "cells": [
  {
   "cell_type": "code",
   "execution_count": null,
   "metadata": {},
   "outputs": [],
   "source": [
    "import sys\n",
    "sys.path.append('../../')\n",
    "\n",
    "import warnings\n",
    "warnings.simplefilter(action='ignore', category=FutureWarning)\n",
    "\n",
    "import pandas as pd\n",
    "import utilities\n",
    "\n",
    "# begin by opening and examining the SP500 companies\n",
    "\n",
    "\n",
    "tickers = pd.read_html('https://en.wikipedia.org/wiki/List_of_S%26P_500_companies')[0]\n",
    "print(tickers[\"Symbol\"].values)"
   ]
  },
  {
   "cell_type": "code",
   "execution_count": null,
   "metadata": {},
   "outputs": [],
   "source": [
    "def retrieve_data(ticker):\n",
    "    filename = \"../../data/stocks/{}_full_1min_adjsplit.txt\".format(ticker)\n",
    "\n",
    "    try:\n",
    "        df = pd.read_csv(filename, sep=\",\", header=0)\n",
    "    except FileNotFoundError:\n",
    "        print(\"{}: file not found\".format(filename))\n",
    "        return None\n",
    "\n",
    "    df.columns = [\"timestamp\", \"open\", \"high\", \"low\", \"close\", \"volume\"]\n",
    "    df[\"ticker\"] = ticker\n",
    "    df = utilities.timestamp_to_date_and_time(df)\n",
    "    \n",
    "    misses = utilities.missing_markethours(df)\n",
    "    \n",
    "    return misses"
   ]
  },
  {
   "cell_type": "code",
   "execution_count": null,
   "metadata": {},
   "outputs": [],
   "source": [
    "import os\n",
    "\n",
    "# replace tickers with the whole list\n",
    "files = os.listdir('../../data/stocks')\n",
    "tickers = [f.split('_')[0] for f in files if f.endswith('.txt')]\n",
    "\n",
    "tickers.sort()"
   ]
  },
  {
   "cell_type": "code",
   "execution_count": null,
   "metadata": {},
   "outputs": [],
   "source": [
    "all_misses = pd.DataFrame(columns=[\"ticker\", \"miss_rate\"])\n",
    "count = 0\n",
    "\n",
    "for ticker in tickers:\n",
    "    count += 1\n",
    "    try:\n",
    "        misses = retrieve_data(ticker)\n",
    "        new_row = pd.DataFrame({\"ticker\": ticker, \"miss_rate\": [misses]})\n",
    "        print(count, ticker, misses)\n",
    "        all_misses = pd.concat([all_misses, new_row])\n",
    "    except Exception as e:\n",
    "        print(\"Error with ticker {}: {}\".format(ticker, e))\n",
    "        continue"
   ]
  },
  {
   "cell_type": "code",
   "execution_count": null,
   "metadata": {},
   "outputs": [],
   "source": [
    "all_misses.to_csv(\"all_ticker_misses.csv\", index=False)"
   ]
  }
 ],
 "metadata": {
  "kernelspec": {
   "display_name": "Python 3",
   "language": "python",
   "name": "python3"
  },
  "language_info": {
   "codemirror_mode": {
    "name": "ipython",
    "version": 3
   },
   "file_extension": ".py",
   "mimetype": "text/x-python",
   "name": "python",
   "nbconvert_exporter": "python",
   "pygments_lexer": "ipython3",
   "version": "3.10.12"
  }
 },
 "nbformat": 4,
 "nbformat_minor": 2
}
