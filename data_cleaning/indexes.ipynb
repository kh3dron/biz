{
 "cells": [
  {
   "cell_type": "code",
   "execution_count": null,
   "metadata": {},
   "outputs": [],
   "source": [
    "import sys\n",
    "sys.path.append('../')\n",
    "\n",
    "import pandas as pd\n",
    "import utilities\n",
    "\n",
    "\n",
    "data = utilities.load_indexes()\n",
    "# about 26 seconds for all"
   ]
  },
  {
   "cell_type": "code",
   "execution_count": null,
   "metadata": {},
   "outputs": [],
   "source": [
    "print(\"Loaded\", len(data), \"tickers\")\n",
    "print(data[0].head())"
   ]
  },
  {
   "cell_type": "code",
   "execution_count": null,
   "metadata": {},
   "outputs": [],
   "source": [
    "# for each ticker, show the earliest and latest times in the data\n",
    "for ticker in data:\n",
    "    print(ticker[\"time\"].min(), ticker[\"time\"].max())"
   ]
  },
  {
   "cell_type": "code",
   "execution_count": null,
   "metadata": {},
   "outputs": [],
   "source": [
    "data = [utilities.time_to_numeric(e) for e in data]"
   ]
  },
  {
   "cell_type": "code",
   "execution_count": null,
   "metadata": {},
   "outputs": [],
   "source": [
    "import plotly.express as px\n",
    "from plotly.subplots import make_subplots\n",
    "import plotly.graph_objects as go\n",
    "\n",
    "# histogram of minute values\n",
    "plots = []\n",
    "for e in data:\n",
    "    fig = px.histogram(e, x=\"minute\", nbins=100)\n",
    "    plots.append(fig)\n",
    "\n",
    "# Determine the number of rows and columns dynamically\n",
    "num_plots = len(plots)\n",
    "num_rows = -(-num_plots // 3)  # Ceiling division to determine rows\n",
    "num_cols = min(num_plots, 3)\n",
    "\n",
    "fig = make_subplots(rows=num_rows, cols=num_cols)\n",
    "for i, plot in enumerate(plots):\n",
    "    # Extract the histogram trace from the plot\n",
    "    histogram_trace = plot['data'][0]\n",
    "    \n",
    "    # Use add_trace with the extracted trace\n",
    "    fig.add_trace(histogram_trace, row=(i // num_cols) + 1, col=(i % num_cols) + 1)\n",
    "\n",
    "# Update layout if needed\n",
    "fig.update_layout(title_text=\"Histograms of Minute Values\", height=2000, width=1000)\n",
    "#fig.show()"
   ]
  },
  {
   "cell_type": "code",
   "execution_count": null,
   "metadata": {},
   "outputs": [],
   "source": []
  }
 ],
 "metadata": {
  "kernelspec": {
   "display_name": "Python 3",
   "language": "python",
   "name": "python3"
  },
  "language_info": {
   "codemirror_mode": {
    "name": "ipython",
    "version": 3
   },
   "file_extension": ".py",
   "mimetype": "text/x-python",
   "name": "python",
   "nbconvert_exporter": "python",
   "pygments_lexer": "ipython3",
   "version": "3.12.1"
  }
 },
 "nbformat": 4,
 "nbformat_minor": 2
}
