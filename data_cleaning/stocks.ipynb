{
 "cells": [
  {
   "cell_type": "code",
   "execution_count": null,
   "metadata": {},
   "outputs": [],
   "source": [
    "import sys\n",
    "sys.path.append('../')\n",
    "\n",
    "import pandas as pd\n",
    "import utilities\n",
    "\n",
    "# begin by opening and examining the SP500 companies\n",
    "\n",
    "\n",
    "tickers = pd.read_html('https://en.wikipedia.org/wiki/List_of_S%26P_500_companies')[0]\n",
    "print(tickers[\"Symbol\"].values)"
   ]
  },
  {
   "cell_type": "code",
   "execution_count": null,
   "metadata": {},
   "outputs": [],
   "source": [
    "def retrieve_data(ticker):\n",
    "    filename = \"../data/stocks/{}_full_1min_adjsplit.txt\".format(ticker)\n",
    "    df = pd.read_csv(filename, sep=\",\", header=0)\n",
    "\n",
    "    df.columns = [\"timestamp\", \"open\", \"high\", \"low\", \"close\", \"volume\"]\n",
    "    df[\"ticker\"] = ticker\n",
    "    df = utilities.timestamp_to_date_and_time(df)\n",
    "\n",
    "    return df\n",
    "\n",
    "tsla = retrieve_data(\"TSLA\")\n",
    "tsla.head(10)"
   ]
  },
  {
   "cell_type": "code",
   "execution_count": null,
   "metadata": {},
   "outputs": [],
   "source": [
    "utilities.missing_markethours(tsla)"
   ]
  }
 ],
 "metadata": {
  "kernelspec": {
   "display_name": "Python 3",
   "language": "python",
   "name": "python3"
  },
  "language_info": {
   "codemirror_mode": {
    "name": "ipython",
    "version": 3
   },
   "file_extension": ".py",
   "mimetype": "text/x-python",
   "name": "python",
   "nbconvert_exporter": "python",
   "pygments_lexer": "ipython3",
   "version": "3.12.1"
  }
 },
 "nbformat": 4,
 "nbformat_minor": 2
}
