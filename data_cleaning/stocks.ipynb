{
 "cells": [
  {
   "cell_type": "code",
   "execution_count": 11,
   "metadata": {},
   "outputs": [
    {
     "name": "stdout",
     "output_type": "stream",
     "text": [
      "['MMM' 'AOS' 'ABT' 'ABBV' 'ACN' 'ADBE' 'AMD' 'AES' 'AFL' 'A' 'APD' 'ABNB'\n",
      " 'AKAM' 'ALB' 'ARE' 'ALGN' 'ALLE' 'LNT' 'ALL' 'GOOGL' 'GOOG' 'MO' 'AMZN'\n",
      " 'AMCR' 'AEE' 'AAL' 'AEP' 'AXP' 'AIG' 'AMT' 'AWK' 'AMP' 'AME' 'AMGN' 'APH'\n",
      " 'ADI' 'ANSS' 'AON' 'APA' 'AAPL' 'AMAT' 'APTV' 'ACGL' 'ADM' 'ANET' 'AJG'\n",
      " 'AIZ' 'T' 'ATO' 'ADSK' 'ADP' 'AZO' 'AVB' 'AVY' 'AXON' 'BKR' 'BALL' 'BAC'\n",
      " 'BK' 'BBWI' 'BAX' 'BDX' 'BRK.B' 'BBY' 'BIO' 'TECH' 'BIIB' 'BLK' 'BX' 'BA'\n",
      " 'BKNG' 'BWA' 'BXP' 'BSX' 'BMY' 'AVGO' 'BR' 'BRO' 'BF.B' 'BLDR' 'BG'\n",
      " 'CDNS' 'CZR' 'CPT' 'CPB' 'COF' 'CAH' 'KMX' 'CCL' 'CARR' 'CTLT' 'CAT'\n",
      " 'CBOE' 'CBRE' 'CDW' 'CE' 'COR' 'CNC' 'CNP' 'CDAY' 'CF' 'CHRW' 'CRL'\n",
      " 'SCHW' 'CHTR' 'CVX' 'CMG' 'CB' 'CHD' 'CI' 'CINF' 'CTAS' 'CSCO' 'C' 'CFG'\n",
      " 'CLX' 'CME' 'CMS' 'KO' 'CTSH' 'CL' 'CMCSA' 'CMA' 'CAG' 'COP' 'ED' 'STZ'\n",
      " 'CEG' 'COO' 'CPRT' 'GLW' 'CTVA' 'CSGP' 'COST' 'CTRA' 'CCI' 'CSX' 'CMI'\n",
      " 'CVS' 'DHR' 'DRI' 'DVA' 'DE' 'DAL' 'XRAY' 'DVN' 'DXCM' 'FANG' 'DLR' 'DFS'\n",
      " 'DG' 'DLTR' 'D' 'DPZ' 'DOV' 'DOW' 'DHI' 'DTE' 'DUK' 'DD' 'EMN' 'ETN'\n",
      " 'EBAY' 'ECL' 'EIX' 'EW' 'EA' 'ELV' 'LLY' 'EMR' 'ENPH' 'ETR' 'EOG' 'EPAM'\n",
      " 'EQT' 'EFX' 'EQIX' 'EQR' 'ESS' 'EL' 'ETSY' 'EG' 'EVRG' 'ES' 'EXC' 'EXPE'\n",
      " 'EXPD' 'EXR' 'XOM' 'FFIV' 'FDS' 'FICO' 'FAST' 'FRT' 'FDX' 'FIS' 'FITB'\n",
      " 'FSLR' 'FE' 'FI' 'FLT' 'FMC' 'F' 'FTNT' 'FTV' 'FOXA' 'FOX' 'BEN' 'FCX'\n",
      " 'GRMN' 'IT' 'GEHC' 'GEN' 'GNRC' 'GD' 'GE' 'GIS' 'GM' 'GPC' 'GILD' 'GPN'\n",
      " 'GL' 'GS' 'HAL' 'HIG' 'HAS' 'HCA' 'PEAK' 'HSIC' 'HSY' 'HES' 'HPE' 'HLT'\n",
      " 'HOLX' 'HD' 'HON' 'HRL' 'HST' 'HWM' 'HPQ' 'HUBB' 'HUM' 'HBAN' 'HII' 'IBM'\n",
      " 'IEX' 'IDXX' 'ITW' 'ILMN' 'INCY' 'IR' 'PODD' 'INTC' 'ICE' 'IFF' 'IP'\n",
      " 'IPG' 'INTU' 'ISRG' 'IVZ' 'INVH' 'IQV' 'IRM' 'JBHT' 'JBL' 'JKHY' 'J'\n",
      " 'JNJ' 'JCI' 'JPM' 'JNPR' 'K' 'KVUE' 'KDP' 'KEY' 'KEYS' 'KMB' 'KIM' 'KMI'\n",
      " 'KLAC' 'KHC' 'KR' 'LHX' 'LH' 'LRCX' 'LW' 'LVS' 'LDOS' 'LEN' 'LIN' 'LYV'\n",
      " 'LKQ' 'LMT' 'L' 'LOW' 'LULU' 'LYB' 'MTB' 'MRO' 'MPC' 'MKTX' 'MAR' 'MMC'\n",
      " 'MLM' 'MAS' 'MA' 'MTCH' 'MKC' 'MCD' 'MCK' 'MDT' 'MRK' 'META' 'MET' 'MTD'\n",
      " 'MGM' 'MCHP' 'MU' 'MSFT' 'MAA' 'MRNA' 'MHK' 'MOH' 'TAP' 'MDLZ' 'MPWR'\n",
      " 'MNST' 'MCO' 'MS' 'MOS' 'MSI' 'MSCI' 'NDAQ' 'NTAP' 'NFLX' 'NEM' 'NWSA'\n",
      " 'NWS' 'NEE' 'NKE' 'NI' 'NDSN' 'NSC' 'NTRS' 'NOC' 'NCLH' 'NRG' 'NUE'\n",
      " 'NVDA' 'NVR' 'NXPI' 'ORLY' 'OXY' 'ODFL' 'OMC' 'ON' 'OKE' 'ORCL' 'OTIS'\n",
      " 'PCAR' 'PKG' 'PANW' 'PARA' 'PH' 'PAYX' 'PAYC' 'PYPL' 'PNR' 'PEP' 'PFE'\n",
      " 'PCG' 'PM' 'PSX' 'PNW' 'PXD' 'PNC' 'POOL' 'PPG' 'PPL' 'PFG' 'PG' 'PGR'\n",
      " 'PLD' 'PRU' 'PEG' 'PTC' 'PSA' 'PHM' 'QRVO' 'PWR' 'QCOM' 'DGX' 'RL' 'RJF'\n",
      " 'RTX' 'O' 'REG' 'REGN' 'RF' 'RSG' 'RMD' 'RVTY' 'RHI' 'ROK' 'ROL' 'ROP'\n",
      " 'ROST' 'RCL' 'SPGI' 'CRM' 'SBAC' 'SLB' 'STX' 'SRE' 'NOW' 'SHW' 'SPG'\n",
      " 'SWKS' 'SJM' 'SNA' 'SO' 'LUV' 'SWK' 'SBUX' 'STT' 'STLD' 'STE' 'SYK' 'SYF'\n",
      " 'SNPS' 'SYY' 'TMUS' 'TROW' 'TTWO' 'TPR' 'TRGP' 'TGT' 'TEL' 'TDY' 'TFX'\n",
      " 'TER' 'TSLA' 'TXN' 'TXT' 'TMO' 'TJX' 'TSCO' 'TT' 'TDG' 'TRV' 'TRMB' 'TFC'\n",
      " 'TYL' 'TSN' 'USB' 'UBER' 'UDR' 'ULTA' 'UNP' 'UAL' 'UPS' 'URI' 'UNH' 'UHS'\n",
      " 'VLO' 'VTR' 'VLTO' 'VRSN' 'VRSK' 'VZ' 'VRTX' 'VFC' 'VTRS' 'VICI' 'V'\n",
      " 'VMC' 'WRB' 'WAB' 'WBA' 'WMT' 'DIS' 'WBD' 'WM' 'WAT' 'WEC' 'WFC' 'WELL'\n",
      " 'WST' 'WDC' 'WRK' 'WY' 'WHR' 'WMB' 'WTW' 'GWW' 'WYNN' 'XEL' 'XYL' 'YUM'\n",
      " 'ZBRA' 'ZBH' 'ZION' 'ZTS']\n"
     ]
    }
   ],
   "source": [
    "import sys\n",
    "sys.path.append('../')\n",
    "\n",
    "import warnings\n",
    "warnings.simplefilter(action='ignore', category=FutureWarning)\n",
    "\n",
    "import pandas as pd\n",
    "import utilities\n",
    "\n",
    "# begin by opening and examining the SP500 companies\n",
    "\n",
    "\n",
    "tickers = pd.read_html('https://en.wikipedia.org/wiki/List_of_S%26P_500_companies')[0]\n",
    "print(tickers[\"Symbol\"].values)"
   ]
  },
  {
   "cell_type": "code",
   "execution_count": 12,
   "metadata": {},
   "outputs": [],
   "source": [
    "def retrieve_data(ticker):\n",
    "    filename = \"../data/stocks/{}_full_1min_adjsplit.txt\".format(ticker)\n",
    "\n",
    "    try:\n",
    "        df = pd.read_csv(filename, sep=\",\", header=0)\n",
    "    except FileNotFoundError:\n",
    "        print(\"{}: file not found\".format(filename))\n",
    "        return None\n",
    "\n",
    "    df.columns = [\"timestamp\", \"open\", \"high\", \"low\", \"close\", \"volume\"]\n",
    "    df[\"ticker\"] = ticker\n",
    "    df = utilities.timestamp_to_date_and_time(df)\n",
    "    \n",
    "    misses = utilities.missing_markethours(df)\n",
    "    return misses"
   ]
  },
  {
   "cell_type": "code",
   "execution_count": 13,
   "metadata": {},
   "outputs": [
    {
     "name": "stdout",
     "output_type": "stream",
     "text": [
      "MMM 0.005295440823675834\n",
      "1   ticker  miss_rate\n",
      "0    MMM   0.005295\n",
      "AOS 0.13796082705173618\n",
      "2   ticker  miss_rate\n",
      "0    AOS   0.137961\n",
      "ABT 0.0029290290177974576\n",
      "3   ticker  miss_rate\n",
      "0    ABT   0.002929\n"
     ]
    },
    {
     "ename": "KeyboardInterrupt",
     "evalue": "",
     "output_type": "error",
     "traceback": [
      "\u001b[0;31m---------------------------------------------------------------------------\u001b[0m",
      "\u001b[0;31mKeyboardInterrupt\u001b[0m                         Traceback (most recent call last)",
      "Cell \u001b[0;32mIn[13], line 8\u001b[0m\n\u001b[1;32m      6\u001b[0m \u001b[38;5;28;01mfor\u001b[39;00m ticker \u001b[38;5;129;01min\u001b[39;00m tickers:\n\u001b[1;32m      7\u001b[0m     covered \u001b[38;5;241m+\u001b[39m\u001b[38;5;241m=\u001b[39m \u001b[38;5;241m1\u001b[39m\n\u001b[0;32m----> 8\u001b[0m     misses \u001b[38;5;241m=\u001b[39m \u001b[43mretrieve_data\u001b[49m\u001b[43m(\u001b[49m\u001b[43mticker\u001b[49m\u001b[43m)\u001b[49m\n\u001b[1;32m      9\u001b[0m     new_row \u001b[38;5;241m=\u001b[39m pd\u001b[38;5;241m.\u001b[39mDataFrame({\u001b[38;5;124m\"\u001b[39m\u001b[38;5;124mticker\u001b[39m\u001b[38;5;124m\"\u001b[39m: ticker, \u001b[38;5;124m\"\u001b[39m\u001b[38;5;124mmiss_rate\u001b[39m\u001b[38;5;124m\"\u001b[39m: [misses]})\n\u001b[1;32m     11\u001b[0m     \u001b[38;5;28mprint\u001b[39m(covered, new_row)\n",
      "Cell \u001b[0;32mIn[12], line 12\u001b[0m, in \u001b[0;36mretrieve_data\u001b[0;34m(ticker)\u001b[0m\n\u001b[1;32m     10\u001b[0m df\u001b[38;5;241m.\u001b[39mcolumns \u001b[38;5;241m=\u001b[39m [\u001b[38;5;124m\"\u001b[39m\u001b[38;5;124mtimestamp\u001b[39m\u001b[38;5;124m\"\u001b[39m, \u001b[38;5;124m\"\u001b[39m\u001b[38;5;124mopen\u001b[39m\u001b[38;5;124m\"\u001b[39m, \u001b[38;5;124m\"\u001b[39m\u001b[38;5;124mhigh\u001b[39m\u001b[38;5;124m\"\u001b[39m, \u001b[38;5;124m\"\u001b[39m\u001b[38;5;124mlow\u001b[39m\u001b[38;5;124m\"\u001b[39m, \u001b[38;5;124m\"\u001b[39m\u001b[38;5;124mclose\u001b[39m\u001b[38;5;124m\"\u001b[39m, \u001b[38;5;124m\"\u001b[39m\u001b[38;5;124mvolume\u001b[39m\u001b[38;5;124m\"\u001b[39m]\n\u001b[1;32m     11\u001b[0m df[\u001b[38;5;124m\"\u001b[39m\u001b[38;5;124mticker\u001b[39m\u001b[38;5;124m\"\u001b[39m] \u001b[38;5;241m=\u001b[39m ticker\n\u001b[0;32m---> 12\u001b[0m df \u001b[38;5;241m=\u001b[39m \u001b[43mutilities\u001b[49m\u001b[38;5;241;43m.\u001b[39;49m\u001b[43mtimestamp_to_date_and_time\u001b[49m\u001b[43m(\u001b[49m\u001b[43mdf\u001b[49m\u001b[43m)\u001b[49m\n\u001b[1;32m     14\u001b[0m misses \u001b[38;5;241m=\u001b[39m utilities\u001b[38;5;241m.\u001b[39mmissing_markethours(df)\n\u001b[1;32m     16\u001b[0m \u001b[38;5;28mprint\u001b[39m(ticker, misses)\n",
      "File \u001b[0;32m~/Documents/Github/biz/data_cleaning/../utilities.py:37\u001b[0m, in \u001b[0;36mtimestamp_to_date_and_time\u001b[0;34m(df)\u001b[0m\n\u001b[1;32m     35\u001b[0m df[\u001b[38;5;124m\"\u001b[39m\u001b[38;5;124mtimestamp\u001b[39m\u001b[38;5;124m\"\u001b[39m] \u001b[38;5;241m=\u001b[39m pd\u001b[38;5;241m.\u001b[39mto_datetime(df[\u001b[38;5;124m\"\u001b[39m\u001b[38;5;124mtimestamp\u001b[39m\u001b[38;5;124m\"\u001b[39m])\n\u001b[1;32m     36\u001b[0m df[\u001b[38;5;124m'\u001b[39m\u001b[38;5;124mdate\u001b[39m\u001b[38;5;124m'\u001b[39m] \u001b[38;5;241m=\u001b[39m df[\u001b[38;5;124m'\u001b[39m\u001b[38;5;124mtimestamp\u001b[39m\u001b[38;5;124m'\u001b[39m]\u001b[38;5;241m.\u001b[39mdt\u001b[38;5;241m.\u001b[39mdate\n\u001b[0;32m---> 37\u001b[0m df[\u001b[38;5;124m'\u001b[39m\u001b[38;5;124mtime\u001b[39m\u001b[38;5;124m'\u001b[39m] \u001b[38;5;241m=\u001b[39m \u001b[43mdf\u001b[49m\u001b[43m[\u001b[49m\u001b[38;5;124;43m'\u001b[39;49m\u001b[38;5;124;43mtimestamp\u001b[39;49m\u001b[38;5;124;43m'\u001b[39;49m\u001b[43m]\u001b[49m\u001b[38;5;241;43m.\u001b[39;49m\u001b[43mdt\u001b[49m\u001b[38;5;241;43m.\u001b[39;49m\u001b[43mtime\u001b[49m\n\u001b[1;32m     38\u001b[0m \u001b[38;5;28;01mreturn\u001b[39;00m df\n",
      "File \u001b[0;32m~/.local/lib/python3.10/site-packages/pandas/core/accessor.py:96\u001b[0m, in \u001b[0;36mPandasDelegate._add_delegate_accessors.<locals>._create_delegator_property.<locals>._getter\u001b[0;34m(self)\u001b[0m\n\u001b[1;32m     95\u001b[0m \u001b[38;5;28;01mdef\u001b[39;00m \u001b[38;5;21m_getter\u001b[39m(\u001b[38;5;28mself\u001b[39m):\n\u001b[0;32m---> 96\u001b[0m     \u001b[38;5;28;01mreturn\u001b[39;00m \u001b[38;5;28;43mself\u001b[39;49m\u001b[38;5;241;43m.\u001b[39;49m\u001b[43m_delegate_property_get\u001b[49m\u001b[43m(\u001b[49m\u001b[43mname\u001b[49m\u001b[43m)\u001b[49m\n",
      "File \u001b[0;32m~/.local/lib/python3.10/site-packages/pandas/core/indexes/accessors.py:93\u001b[0m, in \u001b[0;36mProperties._delegate_property_get\u001b[0;34m(self, name)\u001b[0m\n\u001b[1;32m     89\u001b[0m \u001b[38;5;28;01mfrom\u001b[39;00m \u001b[38;5;21;01mpandas\u001b[39;00m \u001b[38;5;28;01mimport\u001b[39;00m Series\n\u001b[1;32m     91\u001b[0m values \u001b[38;5;241m=\u001b[39m \u001b[38;5;28mself\u001b[39m\u001b[38;5;241m.\u001b[39m_get_values()\n\u001b[0;32m---> 93\u001b[0m result \u001b[38;5;241m=\u001b[39m \u001b[38;5;28;43mgetattr\u001b[39;49m\u001b[43m(\u001b[49m\u001b[43mvalues\u001b[49m\u001b[43m,\u001b[49m\u001b[43m \u001b[49m\u001b[43mname\u001b[49m\u001b[43m)\u001b[49m\n\u001b[1;32m     95\u001b[0m \u001b[38;5;66;03m# maybe need to upcast (ints)\u001b[39;00m\n\u001b[1;32m     96\u001b[0m \u001b[38;5;28;01mif\u001b[39;00m \u001b[38;5;28misinstance\u001b[39m(result, np\u001b[38;5;241m.\u001b[39mndarray):\n",
      "File \u001b[0;32m~/.local/lib/python3.10/site-packages/pandas/core/indexes/extension.py:68\u001b[0m, in \u001b[0;36m_inherit_from_data.<locals>.fget\u001b[0;34m(self)\u001b[0m\n\u001b[1;32m     67\u001b[0m \u001b[38;5;28;01mdef\u001b[39;00m \u001b[38;5;21mfget\u001b[39m(\u001b[38;5;28mself\u001b[39m):\n\u001b[0;32m---> 68\u001b[0m     result \u001b[38;5;241m=\u001b[39m \u001b[38;5;28;43mgetattr\u001b[39;49m\u001b[43m(\u001b[49m\u001b[38;5;28;43mself\u001b[39;49m\u001b[38;5;241;43m.\u001b[39;49m\u001b[43m_data\u001b[49m\u001b[43m,\u001b[49m\u001b[43m \u001b[49m\u001b[43mname\u001b[49m\u001b[43m)\u001b[49m\n\u001b[1;32m     69\u001b[0m     \u001b[38;5;28;01mif\u001b[39;00m wrap:\n\u001b[1;32m     70\u001b[0m         \u001b[38;5;28;01mif\u001b[39;00m \u001b[38;5;28misinstance\u001b[39m(result, \u001b[38;5;28mtype\u001b[39m(\u001b[38;5;28mself\u001b[39m\u001b[38;5;241m.\u001b[39m_data)):\n",
      "File \u001b[0;32m~/.local/lib/python3.10/site-packages/pandas/core/arrays/datetimes.py:1402\u001b[0m, in \u001b[0;36mDatetimeArray.time\u001b[0;34m(self)\u001b[0m\n\u001b[1;32m   1397\u001b[0m \u001b[38;5;66;03m# If the Timestamps have a timezone that is not UTC,\u001b[39;00m\n\u001b[1;32m   1398\u001b[0m \u001b[38;5;66;03m# convert them into their i8 representation while\u001b[39;00m\n\u001b[1;32m   1399\u001b[0m \u001b[38;5;66;03m# keeping their timezone and not using UTC\u001b[39;00m\n\u001b[1;32m   1400\u001b[0m timestamps \u001b[38;5;241m=\u001b[39m \u001b[38;5;28mself\u001b[39m\u001b[38;5;241m.\u001b[39m_local_timestamps()\n\u001b[0;32m-> 1402\u001b[0m \u001b[38;5;28;01mreturn\u001b[39;00m \u001b[43mints_to_pydatetime\u001b[49m\u001b[43m(\u001b[49m\u001b[43mtimestamps\u001b[49m\u001b[43m,\u001b[49m\u001b[43m \u001b[49m\u001b[43mbox\u001b[49m\u001b[38;5;241;43m=\u001b[39;49m\u001b[38;5;124;43m\"\u001b[39;49m\u001b[38;5;124;43mtime\u001b[39;49m\u001b[38;5;124;43m\"\u001b[39;49m\u001b[43m,\u001b[49m\u001b[43m \u001b[49m\u001b[43mreso\u001b[49m\u001b[38;5;241;43m=\u001b[39;49m\u001b[38;5;28;43mself\u001b[39;49m\u001b[38;5;241;43m.\u001b[39;49m\u001b[43m_creso\u001b[49m\u001b[43m)\u001b[49m\n",
      "\u001b[0;31mKeyboardInterrupt\u001b[0m: "
     ]
    }
   ],
   "source": [
    "all_misses = pd.DataFrame(columns=[\"ticker\", \"miss_rate\"])\n",
    "tickers = tickers[\"Symbol\"].values\n",
    "\n",
    "covered = 0\n",
    "\n",
    "for ticker in tickers:\n",
    "    covered += 1\n",
    "    misses = retrieve_data(ticker)\n",
    "    new_row = pd.DataFrame({\"ticker\": ticker, \"miss_rate\": [misses]})\n",
    "\n",
    "    print(covered, ticker, misses)\n",
    "\n",
    "    all_misses = pd.concat([all_misses, new_row])"
   ]
  },
  {
   "cell_type": "code",
   "execution_count": null,
   "metadata": {},
   "outputs": [],
   "source": [
    "all_misses.to_csv(\"misses.csv\", index=False)"
   ]
  }
 ],
 "metadata": {
  "kernelspec": {
   "display_name": "Python 3",
   "language": "python",
   "name": "python3"
  },
  "language_info": {
   "codemirror_mode": {
    "name": "ipython",
    "version": 3
   },
   "file_extension": ".py",
   "mimetype": "text/x-python",
   "name": "python",
   "nbconvert_exporter": "python",
   "pygments_lexer": "ipython3",
   "version": "3.10.12"
  }
 },
 "nbformat": 4,
 "nbformat_minor": 2
}
