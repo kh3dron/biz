{
 "cells": [
  {
   "cell_type": "code",
   "execution_count": 1,
   "metadata": {},
   "outputs": [],
   "source": [
    "import pandas as pd\n",
    "import numpy as np\n",
    "import matplotlib.pyplot as plt\n",
    "\n",
    "import warnings\n",
    "warnings.simplefilter(action='ignore', category=FutureWarning)"
   ]
  },
  {
   "cell_type": "code",
   "execution_count": 5,
   "metadata": {},
   "outputs": [],
   "source": [
    "tickers = pd.read_csv('../data_cleaning/stocks/dense_95.csv')[\"ticker\"].values"
   ]
  },
  {
   "cell_type": "code",
   "execution_count": 6,
   "metadata": {},
   "outputs": [
    {
     "data": {
      "text/plain": [
       "array(['A', 'AA', 'AAL', 'AAPL', 'ABBV', 'ABEV', 'ABNB', 'ABT', 'ACB',\n",
       "       'ACI', 'ACN', 'ADBE', 'ADI', 'ADM', 'ADP', 'ADSK', 'AEE', 'AEM',\n",
       "       'AEO', 'AEP', 'AES', 'AFL', 'AFRM', 'AG', 'AI', 'AIG', 'AKAM',\n",
       "       'ALL', 'ALLY', 'AMAT', 'AMCR', 'AMD', 'AMGN', 'AMT', 'AMX', 'AMZN',\n",
       "       'ANF', 'APA', 'APP', 'APTV', 'AR', 'ARCC', 'ARM', 'ARRY', 'ASAN',\n",
       "       'ASO', 'ATI', 'ATUS', 'AU', 'AVGO', 'AVTR', 'AXP', 'AXTA', 'AZN',\n",
       "       'BA', 'BABA', 'BAC', 'BALL', 'BAX', 'BB', 'BBBY', 'BBD', 'BBWI',\n",
       "       'BBY', 'BCS', 'BDX', 'BE', 'BEKE', 'BEN', 'BHC', 'BHP', 'BIDU',\n",
       "       'BIIB', 'BILI', 'BJ', 'BK', 'BKR', 'BMBL', 'BMY', 'BP', 'BRK.B',\n",
       "       'BSX', 'BWA', 'BX', 'BYND', 'C', 'CAG', 'CAH', 'CARR', 'CAT',\n",
       "       'CAVA', 'CB', 'CBRE', 'CC', 'CCI', 'CCJ', 'CCL', 'CDE', 'CDNS',\n",
       "       'CEG', 'CF', 'CFG', 'CFLT', 'CGC', 'CHKP', 'CHRW', 'CHWY', 'CI',\n",
       "       'CIEN', 'CL', 'CLF', 'CLOV', 'CLX', 'CMA', 'CMCSA', 'CMI', 'CMS',\n",
       "       'CNI', 'CNP', 'CNQ', 'CNX', 'COF', 'COHR', 'COIN', 'COP', 'COR',\n",
       "       'COST', 'COTY', 'CPB', 'CPNG', 'CPRI', 'CRBG', 'CRM', 'CRWD',\n",
       "       'CSCO', 'CSX', 'CTRA', 'CTSH', 'CTVA', 'CVE', 'CVS', 'CVX', 'CX',\n",
       "       'D', 'DAL', 'DASH', 'DBRG', 'DBX', 'DD', 'DDD', 'DDOG', 'DE',\n",
       "       'DELL', 'DFS', 'DG', 'DHI', 'DHR', 'DINO', 'DIS', 'DKS', 'DLTR',\n",
       "       'DNA', 'DOCS', 'DOCU', 'DOW', 'DRI', 'DT', 'DUK', 'DVN', 'DXC',\n",
       "       'EA', 'EBAY', 'ECL', 'ED', 'EGO', 'EIX', 'EL', 'ELAN', 'ELV',\n",
       "       'EMN', 'EMR', 'ENVX', 'EOG', 'EPD', 'EQH', 'EQNR', 'EQR', 'EQT',\n",
       "       'ERIC', 'ES', 'ETN', 'ETR', 'ETRN', 'ETSY', 'EXC', 'EXPD', 'EXPE',\n",
       "       'F', 'FAST', 'FCX', 'FDX', 'FE', 'FHN', 'FI', 'FIGS', 'FIS',\n",
       "       'FITB', 'FL', 'FLEX', 'FLR', 'FNF', 'FOX', 'FOXA', 'FRSH', 'FSLR',\n",
       "       'FSLY', 'FSR', 'FTCH', 'FTI', 'FTNT', 'FTV', 'FUBO', 'GD', 'GE',\n",
       "       'GEHC', 'GEN', 'GFI', 'GFS', 'GGB', 'GILD', 'GIS', 'GLW', 'GM',\n",
       "       'GME', 'GNW', 'GOLD', 'GOOG', 'GOOGL', 'GPRO', 'GPS', 'GRAB',\n",
       "       'GRPN', 'GS', 'GSK', 'GT', 'HAL', 'HBAN', 'HBI', 'HCA', 'HCP',\n",
       "       'HD', 'HES', 'HIG', 'HL', 'HLN', 'HLT', 'HMY', 'HOG', 'HOLX',\n",
       "       'HON', 'HOOD', 'HP', 'HPE', 'HPQ', 'HRB', 'HSBC', 'HST', 'HSY',\n",
       "       'HTZ', 'HUN', 'HUT', 'HWM', 'IAG', 'IBM', 'IBN', 'ICE', 'INFY',\n",
       "       'INTC', 'INTU', 'INVH', 'IP', 'IPG', 'IQ', 'ITUB', 'ITW', 'IVZ',\n",
       "       'JBL', 'JBLU', 'JCI', 'JD', 'JEF', 'JNJ', 'JNPR', 'JOBY', 'JPM',\n",
       "       'JWN', 'K', 'KBH', 'KD', 'KDP', 'KEY', 'KGC', 'KHC', 'KIM', 'KKR',\n",
       "       'KLAC', 'KMB', 'KMI', 'KMX', 'KO', 'KR', 'KSS', 'KVUE', 'LAC',\n",
       "       'LAZR', 'LBTYA', 'LEN', 'LESL', 'LI', 'LIN', 'LLY', 'LMND', 'LMT',\n",
       "       'LNC', 'LOW', 'LPX', 'LRCX', 'LU', 'LULU', 'LUMN', 'LUV', 'LVS',\n",
       "       'LYB', 'LYFT', 'M', 'MA', 'MAR', 'MAS', 'MAT', 'MBLY', 'MCD',\n",
       "       'MCHP', 'MCK', 'MDLZ', 'MDT', 'ME', 'MET', 'META', 'MFA', 'MFC',\n",
       "       'MGM', 'MGNI', 'MLCO', 'MMC', 'MMM', 'MNST', 'MO', 'MOS', 'MP',\n",
       "       'MPC', 'MQ', 'MRK', 'MRNA', 'MRO', 'MRVL', 'MS', 'MSFT', 'MT',\n",
       "       'MTCH', 'MTG', 'MTTR', 'MU', 'MUR', 'NAVI', 'NEE', 'NEM', 'NET',\n",
       "       'NFLX', 'NI', 'NIO', 'NKE', 'NLOK', 'NLY', 'NOK', 'NOV', 'NRG',\n",
       "       'NSC', 'NTAP', 'NTNX', 'NTR', 'NTRS', 'NU', 'NUE', 'NVDA', 'NVS',\n",
       "       'NWL', 'NWSA', 'NXPI', 'NYCB', 'O', 'OGN', 'OKE', 'OLPX', 'OMC',\n",
       "       'ON', 'ONON', 'OPEN', 'ORCL', 'ORI', 'OTIS', 'OTLY', 'OVV', 'OXY',\n",
       "       'PAAS', 'PAGS', 'PARA', 'PATH', 'PAYO', 'PAYX', 'PBF', 'PBI',\n",
       "       'PBR', 'PBR.A', 'PCAR', 'PCG', 'PDD', 'PEAK', 'PEG', 'PEP', 'PFE',\n",
       "       'PFG', 'PG', 'PGR', 'PHM', 'PINS', 'PK', 'PLD', 'PLTR', 'PM',\n",
       "       'PNC', 'PPG', 'PPL', 'PRU', 'PSNY', 'PSTG', 'PSX', 'PTEN', 'PTON',\n",
       "       'PWR', 'PXD', 'PYPL', 'QCOM', 'QRTEA', 'QRVO', 'QS', 'QSR', 'RBLX',\n",
       "       'RCL', 'RDN', 'REAL', 'RF', 'RIG', 'RIO', 'RITM', 'RIVN', 'RKLB',\n",
       "       'RKT', 'RLX', 'ROKU', 'ROST', 'RPRX', 'RRC', 'RSG', 'RTX', 'S',\n",
       "       'SABR', 'SAN', 'SBUX', 'SCHW', 'SE', 'SFIX', 'SFM', 'SGFY', 'SHEL',\n",
       "       'SHLS', 'SIRI', 'SITC', 'SLB', 'SLM', 'SM', 'SNAP', 'SNOW', 'SNV',\n",
       "       'SO', 'SOFI', 'SPG', 'SPGI', 'SPLK', 'SPOT', 'SPWR', 'SQ', 'SRE',\n",
       "       'STAR', 'STLD', 'STNE', 'STT', 'STX', 'STZ', 'SU', 'SWKS', 'SWN',\n",
       "       'SYF', 'SYK', 'SYY', 'T', 'TAP', 'TCOM', 'TD', 'TDC', 'TECK',\n",
       "       'TEL', 'TER', 'TEVA', 'TFC', 'TGNA', 'TGT', 'THC', 'TJX', 'TLRY',\n",
       "       'TME', 'TMO', 'TMUS', 'TOL', 'TOST', 'TPR', 'TRIP', 'TROW', 'TRV',\n",
       "       'TS', 'TSLA', 'TSM', 'TSN', 'TT', 'TTE', 'TTWO', 'TWLO', 'TXN',\n",
       "       'TXT', 'U', 'UA', 'UAA', 'UAL', 'UBER', 'UDR', 'UNH', 'UNM', 'UNP',\n",
       "       'UPS', 'UPST', 'URBN', 'USB', 'V', 'VALE', 'VFC', 'VFS', 'VIAV',\n",
       "       'VLO', 'VLTO', 'VOD', 'VRTX', 'VST', 'VTR', 'VTRS', 'VZ', 'WBA',\n",
       "       'WBD', 'WDAY', 'WDC', 'WELL', 'WEN', 'WFC', 'WM', 'WMB', 'WMT',\n",
       "       'WOLF', 'WOOF', 'WPM', 'WRK', 'WSM', 'WU', 'WY', 'WYNN', 'X',\n",
       "       'XEL', 'XOM', 'XPEV', 'XRX', 'YMM', 'YUM', 'YUMC', 'ZBH', 'ZI',\n",
       "       'ZIM', 'ZION', 'ZM', 'ZS', 'ZTO', 'ZTS'], dtype=object)"
      ]
     },
     "execution_count": 6,
     "metadata": {},
     "output_type": "execute_result"
    }
   ],
   "source": [
    "tickers"
   ]
  },
  {
   "cell_type": "code",
   "execution_count": null,
   "metadata": {},
   "outputs": [],
   "source": []
  }
 ],
 "metadata": {
  "kernelspec": {
   "display_name": "Python 3",
   "language": "python",
   "name": "python3"
  },
  "language_info": {
   "codemirror_mode": {
    "name": "ipython",
    "version": 3
   },
   "file_extension": ".py",
   "mimetype": "text/x-python",
   "name": "python",
   "nbconvert_exporter": "python",
   "pygments_lexer": "ipython3",
   "version": "3.12.1"
  }
 },
 "nbformat": 4,
 "nbformat_minor": 2
}
