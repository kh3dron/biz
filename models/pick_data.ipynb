{
 "cells": [
  {
   "cell_type": "code",
   "execution_count": null,
   "metadata": {},
   "outputs": [],
   "source": [
    "import pandas as pd\n",
    "import numpy as np\n",
    "import matplotlib.pyplot as plt\n",
    "\n",
    "import sys\n",
    "sys.path.append('../')\n",
    "import utilities\n",
    "\n",
    "\n",
    "import warnings\n",
    "warnings.simplefilter(action='ignore', category=FutureWarning)"
   ]
  },
  {
   "cell_type": "code",
   "execution_count": null,
   "metadata": {},
   "outputs": [],
   "source": [
    "# ticker = \"MSFT\"\n",
    "# df = utilities.load_stock(ticker)\n",
    "ticker = 'SPY'\n",
    "df = utilities.load_index(ticker)\n"
   ]
  },
  {
   "cell_type": "code",
   "execution_count": null,
   "metadata": {},
   "outputs": [],
   "source": [
    "df = utilities.RSI(df, 14)\n",
    "df = utilities.RSI(df, 28)\n",
    "df = utilities.RSI(df, 56)\n",
    "df = utilities.RSI(df, 100)\n",
    "df = utilities.RSI(df, 200)\n",
    "\n",
    "df = utilities.MACD(df)\n",
    "\n",
    "df = utilities.EMA(df, 10)\n",
    "df = utilities.EMA(df, 50)\n",
    "df = utilities.EMA(df, 200)\n",
    "\n",
    "df = utilities.market_hours_only(df)\n",
    "\n",
    "df.head()"
   ]
  },
  {
   "cell_type": "code",
   "execution_count": null,
   "metadata": {},
   "outputs": [],
   "source": [
    "# # Price normalizing\n",
    "\n",
    "# days = utilities.list_of_day_dfs(df)\n",
    "# days = [group.copy() for _, group in df.groupby(df['timestamp'].dt.date)]\n",
    "\n",
    "# # for each day: sort the prices, then normalize them to 0-1 where 0 is the lowest price and 1 is the highest price for that day\n",
    "# for day in days:\n",
    "#     for col in ['high', 'low', 'volume', 'macd', 'signal', 'histogram', 'rsi14', 'rsi28', 'rsi56', 'ema10', 'ema50', 'ema200']:\n",
    "#         day[col] = (day[col] - day[col].min()) / (day[col].max() - day[col].min())\n",
    "\n",
    "# # recombine the days\n",
    "# df = pd.concat(days)"
   ]
  },
  {
   "cell_type": "code",
   "execution_count": null,
   "metadata": {},
   "outputs": [],
   "source": [
    "# Price normalizing needs to be the only metric that's forward looking\n",
    "\n",
    "# Create a new column called 'enter' that represents whether or not the price will he higher or lower in $(some many) minutes\n",
    "# 1 if the price will be higher, 0 if the price will be lower\n",
    "df['enter'] = (df['close'].shift(-(60*7*5*4)) > df['close']).astype(int)\n",
    "df = df.drop(columns=['open', 'close', 'timestamp', 'ticker', 'date', 'time'])"
   ]
  },
  {
   "cell_type": "code",
   "execution_count": null,
   "metadata": {},
   "outputs": [],
   "source": [
    "df[\"enter\"].value_counts()"
   ]
  },
  {
   "cell_type": "code",
   "execution_count": null,
   "metadata": {},
   "outputs": [],
   "source": [
    "df[\"enter\"].mean()"
   ]
  },
  {
   "cell_type": "code",
   "execution_count": null,
   "metadata": {},
   "outputs": [],
   "source": [
    "# normalize all other columns\n",
    "for col in df.columns:\n",
    "    if col != 'enter':\n",
    "        df[col] = (df[col] - df[col].min()) / (df[col].max() - df[col].min())"
   ]
  },
  {
   "cell_type": "code",
   "execution_count": null,
   "metadata": {},
   "outputs": [],
   "source": [
    "df.describe()"
   ]
  },
  {
   "cell_type": "code",
   "execution_count": null,
   "metadata": {},
   "outputs": [],
   "source": [
    "# show the correlation matrix\n",
    "correlation_matrix = df.corr()\n",
    "plt.matshow(correlation_matrix)\n",
    "\n",
    "plt.xticks(range(len(correlation_matrix.columns)), correlation_matrix.columns, rotation=90)\n",
    "plt.yticks(range(len(correlation_matrix.columns)), correlation_matrix.columns)\n",
    "\n",
    "plt.show()"
   ]
  },
  {
   "cell_type": "code",
   "execution_count": null,
   "metadata": {},
   "outputs": [],
   "source": [
    "# train a basic neural network to predict the \"enter\" column\n",
    "\n",
    "import numpy as np\n",
    "import tensorflow as tf\n",
    "from sklearn.model_selection import train_test_split\n",
    "from sklearn.preprocessing import StandardScaler\n",
    "\n",
    "X = df.drop(columns=['enter'])\n",
    "y = df['enter']\n",
    "\n",
    "X_train, X_test, y_train, y_test = train_test_split(X, y, test_size=0.1)\n",
    "\n",
    "# Standardize the features (optional but recommended)\n",
    "scaler = StandardScaler()\n",
    "X_train_scaled = scaler.fit_transform(X_train)\n",
    "X_test_scaled = scaler.transform(X_test)\n",
    "\n",
    "# Build the neural network\n",
    "model = tf.keras.Sequential([\n",
    "    tf.keras.layers.Dense(64, activation='relu', input_shape=(X_train_scaled.shape[1],)),\n",
    "    tf.keras.layers.Dense(32, activation='relu'),\n",
    "    tf.keras.layers.Dense(1, activation='sigmoid')\n",
    "])\n",
    "\n",
    "# Compile the model\n",
    "model.compile(optimizer='adam', loss='binary_crossentropy', metrics=['accuracy'])\n",
    "\n",
    "# Train the model\n",
    "model.fit(X_train_scaled, y_train, epochs=1, batch_size=32, validation_data=(X_test_scaled, y_test))\n",
    "\n",
    "# Evaluate the model\n",
    "accuracy = model.evaluate(X_test_scaled, y_test)[1]\n",
    "print(f\"Accuracy: {accuracy}\")"
   ]
  },
  {
   "cell_type": "code",
   "execution_count": null,
   "metadata": {},
   "outputs": [],
   "source": [
    "from sklearn.metrics import confusion_matrix, ConfusionMatrixDisplay\n",
    "\n",
    "y_pred = model.predict(X_test_scaled)\n",
    "y_pred = (y_pred > 0.5).astype(int)\n",
    "cm = confusion_matrix(y_test, y_pred)\n",
    "\n",
    "# Set display labels for binary classification\n",
    "class_labels = ['0', '1']\n",
    "\n",
    "disp = ConfusionMatrixDisplay(confusion_matrix=cm, display_labels=class_labels)\n",
    "disp.plot()\n",
    "plt.show()\n"
   ]
  },
  {
   "cell_type": "markdown",
   "metadata": {},
   "source": [
    "Experiments: \n",
    "\n",
    "Failed / meaningless / accuracy within 50%:\n",
    "- AAPL 5 mins\n",
    "- SPY 5 mins\n",
    "\n",
    "Possibly interesting:\n",
    "- SPY 1 week: 59%? \n",
    "- SPY 2 week: 62%?\n",
    "- SPY 4 week: 65%?\n",
    "- AAPL 4 week: 63%\n",
    "\n",
    "- TSLA 4 weeks: 55%"
   ]
  }
 ],
 "metadata": {
  "kernelspec": {
   "display_name": "Python 3",
   "language": "python",
   "name": "python3"
  },
  "language_info": {
   "codemirror_mode": {
    "name": "ipython",
    "version": 3
   },
   "file_extension": ".py",
   "mimetype": "text/x-python",
   "name": "python",
   "nbconvert_exporter": "python",
   "pygments_lexer": "ipython3",
   "version": "3.10.12"
  }
 },
 "nbformat": 4,
 "nbformat_minor": 2
}
