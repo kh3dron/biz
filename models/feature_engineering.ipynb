{
 "cells": [
  {
   "cell_type": "code",
   "execution_count": null,
   "metadata": {},
   "outputs": [],
   "source": [
    "import pandas as pd\n",
    "import numpy as np\n",
    "import matplotlib.pyplot as plt\n",
    "\n",
    "import sys\n",
    "sys.path.append('../')\n",
    "import utilities\n",
    "\n",
    "\n",
    "import warnings\n",
    "warnings.simplefilter(action='ignore', category=FutureWarning)"
   ]
  },
  {
   "cell_type": "code",
   "execution_count": null,
   "metadata": {},
   "outputs": [],
   "source": [
    "# ticker = \"AAPL\"\n",
    "# df = utilities.load_stock(ticker)\n",
    "ticker = 'SPY'\n",
    "df = utilities.load_index(ticker)"
   ]
  },
  {
   "cell_type": "code",
   "execution_count": null,
   "metadata": {},
   "outputs": [],
   "source": [
    "# Add Indicators\n",
    "\n",
    "df = utilities.RSI(df, 14)\n",
    "df = utilities.RSI(df, 28)\n",
    "df = utilities.RSI(df, 56)\n",
    "df = utilities.RSI(df, 100)\n",
    "\n",
    "df = utilities.MACD(df)\n",
    "\n",
    "df = utilities.EMA(df, 10)\n",
    "df = utilities.EMA(df, 50)\n",
    "df = utilities.EMA(df, 200)\n",
    "\n",
    "df = utilities.SMA(df, 10)\n",
    "df = utilities.SMA(df, 50)\n",
    "df = utilities.SMA(df, 100)\n",
    "\n",
    "df = utilities.BollingerBands(df, 20)\n",
    "df = utilities.BollingerBands(df, 50)\n",
    "df = utilities.BollingerBands(df, 100)\n",
    "\n",
    "df = utilities.ATR(df, 14)\n",
    "df = utilities.ATR(df, 28)\n",
    "df = utilities.ATR(df, 56)\n",
    "\n",
    "df = utilities.OBV(df)\n",
    "\n",
    "df = utilities.VWAP(df)\n",
    "\n",
    "df = utilities.MFI(df, 14)\n",
    "df = utilities.MFI(df, 28)\n",
    "df = utilities.MFI(df, 56)\n",
    "\n",
    "df = utilities.market_hours_only(df)\n",
    "df = utilities.time_to_numeric(df)"
   ]
  },
  {
   "cell_type": "code",
   "execution_count": null,
   "metadata": {},
   "outputs": [],
   "source": [
    "df.head()"
   ]
  },
  {
   "cell_type": "code",
   "execution_count": null,
   "metadata": {},
   "outputs": [],
   "source": [
    "# map the \"minute\" column, from 570 to 930, to 0 to 1\n",
    "\n",
    "df['minute'] = df['minute'].apply(lambda x: (x - 570) / (960 - 570))"
   ]
  },
  {
   "cell_type": "code",
   "execution_count": null,
   "metadata": {},
   "outputs": [],
   "source": [
    "# Drop non-numeric columns\n",
    "df = df.drop(columns=['timestamp', 'ticker', 'date', 'time'])"
   ]
  },
  {
   "cell_type": "code",
   "execution_count": null,
   "metadata": {},
   "outputs": [],
   "source": [
    "df.head()"
   ]
  },
  {
   "cell_type": "code",
   "execution_count": null,
   "metadata": {},
   "outputs": [],
   "source": [
    "# normalize all other columns\n",
    "for col in df.columns:\n",
    "    if col != 'enter':\n",
    "        df[col] = (df[col] - df[col].min()) / (df[col].max() - df[col].min())"
   ]
  },
  {
   "cell_type": "code",
   "execution_count": null,
   "metadata": {},
   "outputs": [],
   "source": [
    "# Create a column called \"value\", which repserents how many of the next closes after this one are higher than the current close.\n",
    "# The window is 390*5, to mean the next 5 days, so the last 100 values will be NaN.\n",
    "\n",
    "days = 1\n",
    "\n",
    "window = (390*days) - 1 # Adjusted the window size\n",
    "\n",
    "# Create a column called \"value\"\n",
    "df['value'] = df['close'].rolling(window=window).apply(lambda x: np.mean(x > x.iloc[-1])) \n",
    "df['value'] = df['value'].shift(-window)"
   ]
  },
  {
   "cell_type": "code",
   "execution_count": null,
   "metadata": {},
   "outputs": [],
   "source": [
    "df.head()"
   ]
  },
  {
   "cell_type": "code",
   "execution_count": null,
   "metadata": {},
   "outputs": [],
   "source": [
    "df.describe()"
   ]
  },
  {
   "cell_type": "code",
   "execution_count": null,
   "metadata": {},
   "outputs": [],
   "source": [
    "# show the correlation matrix\n",
    "correlation_matrix = df.corr()\n",
    "plt.matshow(correlation_matrix)\n",
    "\n",
    "plt.xticks(range(len(correlation_matrix.columns)), correlation_matrix.columns, rotation=90)\n",
    "plt.yticks(range(len(correlation_matrix.columns)), correlation_matrix.columns)\n",
    "plt.colorbar()\n",
    "plt.gcf().set_size_inches(10, 10)\n",
    "\n",
    "plt.show()"
   ]
  },
  {
   "cell_type": "code",
   "execution_count": null,
   "metadata": {},
   "outputs": [],
   "source": [
    "filename = 'valued_{}.csv'.format(ticker)\n",
    "df.to_csv(filename, index=False)"
   ]
  },
  {
   "cell_type": "code",
   "execution_count": null,
   "metadata": {},
   "outputs": [],
   "source": []
  }
 ],
 "metadata": {
  "kernelspec": {
   "display_name": "Python 3",
   "language": "python",
   "name": "python3"
  },
  "language_info": {
   "codemirror_mode": {
    "name": "ipython",
    "version": 3
   },
   "file_extension": ".py",
   "mimetype": "text/x-python",
   "name": "python",
   "nbconvert_exporter": "python",
   "pygments_lexer": "ipython3",
   "version": "3.10.12"
  }
 },
 "nbformat": 4,
 "nbformat_minor": 2
}
