{
 "cells": [
  {
   "cell_type": "code",
   "execution_count": null,
   "metadata": {},
   "outputs": [],
   "source": [
    "import pandas as pd\n",
    "import numpy as np\n",
    "import matplotlib.pyplot as plt\n",
    "\n",
    "import sys\n",
    "sys.path.append('../')\n",
    "import utilities\n",
    "\n",
    "\n",
    "import warnings\n",
    "warnings.simplefilter(action='ignore', category=FutureWarning)"
   ]
  },
  {
   "cell_type": "code",
   "execution_count": null,
   "metadata": {},
   "outputs": [],
   "source": [
    "tickers = pd.read_csv('../data_cleaning/stocks/dense_95.csv')\n",
    "\n",
    "# for local testing\n",
    "tickers = tickers.head(10)"
   ]
  },
  {
   "cell_type": "code",
   "execution_count": null,
   "metadata": {},
   "outputs": [],
   "source": [
    "# start with the A ticker\n",
    "\n",
    "ticker = \"AAPL\"\n",
    "df = utilities.load_stock(ticker)"
   ]
  },
  {
   "cell_type": "code",
   "execution_count": null,
   "metadata": {},
   "outputs": [],
   "source": [
    "df.head()"
   ]
  },
  {
   "cell_type": "code",
   "execution_count": null,
   "metadata": {},
   "outputs": [],
   "source": [
    "df = utilities.RSI(df, 14)\n",
    "df = utilities.RSI(df, 28)\n",
    "df = utilities.RSI(df, 56)\n",
    "\n",
    "df = utilities.MACD(df)\n",
    "\n",
    "df = utilities.EMA(df, 10)\n",
    "df = utilities.EMA(df, 50)\n",
    "df = utilities.EMA(df, 200)\n",
    "\n",
    "df = utilities.market_hours_only(df)"
   ]
  },
  {
   "cell_type": "code",
   "execution_count": null,
   "metadata": {},
   "outputs": [],
   "source": [
    "# Indicator normalizing\n",
    "\n",
    "# normalize the minute column: 570-960 -> 0-1\n",
    "df['minute'] = (df['minute'] - 570) / 390\n",
    "\n",
    "# normalize the date: earliest date is 0, latest date is 1\n",
    "df['date'] = (df['date'] - df['date'].min()) / (df['date'].max() - df['date'].min())\n",
    "\n",
    "# divide all the RSI values by 100\n",
    "df['rsi14'] /= 100\n",
    "df['rsi28'] /= 100\n",
    "df['rsi56'] /= 100\n",
    "\n",
    "# divide all the ema values by 100\n",
    "df['ema10'] /= 100\n",
    "df['ema50'] /= 100\n",
    "df['ema200'] /= 100"
   ]
  },
  {
   "cell_type": "code",
   "execution_count": null,
   "metadata": {},
   "outputs": [],
   "source": [
    "df.head()"
   ]
  },
  {
   "cell_type": "code",
   "execution_count": null,
   "metadata": {},
   "outputs": [],
   "source": [
    "# Price normalizing\n",
    "\n",
    "days = utilities.list_of_day_dfs(df)\n",
    "days = [group.copy() for _, group in df.groupby(df['timestamp'].dt.date)]\n",
    "\n",
    "# for each day: sort the prices, then normalize them to 0-1 where 0 is the lowest price and 1 is the highest price for that day\n",
    "for day in days:\n",
    "    for col in ['high', 'low', 'volume', 'macd', 'signal', 'histogram', 'rsi14', 'rsi28', 'rsi56', 'ema10', 'ema50', 'ema200']:\n",
    "        day[col] = (day[col] - day[col].min()) / (day[col].max() - day[col].min())\n",
    "\n",
    "# recombine the days\n",
    "df = pd.concat(days)\n",
    "df = df.drop(columns=['timestamp'])\n",
    "\n",
    "df.head()"
   ]
  },
  {
   "cell_type": "code",
   "execution_count": null,
   "metadata": {},
   "outputs": [],
   "source": [
    "# Price normalizing needs to be the only metric that's forward looking\n",
    "\n",
    "# Create a new column called 'enter' that represents whether or not the price will he higher or lower in 5 minutes\n",
    "# 1 if the price will be higher, 0 if the price will be lower\n",
    "df['enter'] = (df['close'].shift(-5) > df['close']).astype(int)\n",
    "df = df.drop(columns=['open', 'close'])"
   ]
  },
  {
   "cell_type": "code",
   "execution_count": null,
   "metadata": {},
   "outputs": [],
   "source": [
    "df.describe()"
   ]
  },
  {
   "cell_type": "code",
   "execution_count": null,
   "metadata": {},
   "outputs": [],
   "source": [
    "df.to_csv(f'../cleaned_data/{ticker}.csv')"
   ]
  },
  {
   "cell_type": "code",
   "execution_count": null,
   "metadata": {},
   "outputs": [],
   "source": []
  }
 ],
 "metadata": {
  "kernelspec": {
   "display_name": "Python 3",
   "language": "python",
   "name": "python3"
  },
  "language_info": {
   "codemirror_mode": {
    "name": "ipython",
    "version": 3
   },
   "file_extension": ".py",
   "mimetype": "text/x-python",
   "name": "python",
   "nbconvert_exporter": "python",
   "pygments_lexer": "ipython3",
   "version": "3.10.12"
  }
 },
 "nbformat": 4,
 "nbformat_minor": 2
}
