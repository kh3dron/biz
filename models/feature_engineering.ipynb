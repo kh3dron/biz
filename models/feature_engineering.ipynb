{
 "cells": [
  {
   "cell_type": "code",
   "execution_count": null,
   "metadata": {},
   "outputs": [],
   "source": [
    "import pandas as pd\n",
    "import numpy as np\n",
    "import matplotlib.pyplot as plt\n",
    "\n",
    "import sys\n",
    "sys.path.append('../')\n",
    "import utilities\n",
    "\n",
    "\n",
    "import warnings\n",
    "warnings.simplefilter(action='ignore', category=FutureWarning)"
   ]
  },
  {
   "cell_type": "code",
   "execution_count": null,
   "metadata": {},
   "outputs": [],
   "source": [
    "tickers = pd.read_csv('../data_cleaning/stocks/dense_95.csv')\n",
    "\n",
    "# for local testing\n",
    "tickers = tickers.head(10)"
   ]
  },
  {
   "cell_type": "code",
   "execution_count": null,
   "metadata": {},
   "outputs": [],
   "source": [
    "# start with the A ticker\n",
    "\n",
    "ticker = \"AAL\"\n",
    "df = utilities.load_stock(ticker)"
   ]
  },
  {
   "cell_type": "code",
   "execution_count": null,
   "metadata": {},
   "outputs": [],
   "source": [
    "df.head()"
   ]
  },
  {
   "cell_type": "code",
   "execution_count": null,
   "metadata": {},
   "outputs": [],
   "source": [
    "df = utilities.RSI(df, 14)\n",
    "df = utilities.RSI(df, 28)\n",
    "df = utilities.RSI(df, 56)\n",
    "\n",
    "df = utilities.MACD(df)\n",
    "\n",
    "df = utilities.EMA(df, 10)\n",
    "df = utilities.EMA(df, 50)\n",
    "df = utilities.EMA(df, 200)\n",
    "\n",
    "df = utilities.market_hours_only(df)"
   ]
  },
  {
   "cell_type": "code",
   "execution_count": null,
   "metadata": {},
   "outputs": [],
   "source": [
    "df.head()"
   ]
  },
  {
   "cell_type": "code",
   "execution_count": null,
   "metadata": {},
   "outputs": [],
   "source": [
    "# Indicator normalizing\n",
    "\n",
    "# normalize the minute column: 570-960 -> 0-1\n",
    "df['minute'] = (df['minute'] - 570) / 390\n",
    "\n",
    "# divide all the RSI values by 100\n",
    "df['rsi14'] /= 100\n",
    "df['rsi28'] /= 100\n",
    "df['rsi56'] /= 100\n",
    "\n",
    "# divide all the ema values by 100\n",
    "df['ema10'] /= 100\n",
    "df['ema50'] /= 100\n",
    "df['ema200'] /= 100"
   ]
  },
  {
   "cell_type": "code",
   "execution_count": null,
   "metadata": {},
   "outputs": [],
   "source": [
    "df.head()"
   ]
  },
  {
   "cell_type": "code",
   "execution_count": null,
   "metadata": {},
   "outputs": [],
   "source": [
    "df.to_csv(f'../cleaned_data/{ticker}.csv')"
   ]
  },
  {
   "cell_type": "code",
   "execution_count": null,
   "metadata": {},
   "outputs": [],
   "source": []
  }
 ],
 "metadata": {
  "kernelspec": {
   "display_name": "Python 3",
   "language": "python",
   "name": "python3"
  },
  "language_info": {
   "codemirror_mode": {
    "name": "ipython",
    "version": 3
   },
   "file_extension": ".py",
   "mimetype": "text/x-python",
   "name": "python",
   "nbconvert_exporter": "python",
   "pygments_lexer": "ipython3",
   "version": "3.12.1"
  }
 },
 "nbformat": 4,
 "nbformat_minor": 2
}
